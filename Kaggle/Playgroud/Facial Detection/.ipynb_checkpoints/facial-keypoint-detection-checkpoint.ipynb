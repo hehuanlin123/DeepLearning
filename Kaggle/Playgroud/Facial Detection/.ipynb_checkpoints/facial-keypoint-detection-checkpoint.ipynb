{
 "cells": [
  {
   "cell_type": "markdown",
   "metadata": {
    "_uuid": "4dbced162440c393a0a5b7e5aee344711a30e994"
   },
   "source": [
    " **Facial Keypoint Detection**          \n",
    " First of all let's discuss what we are given.        \n",
    "We are given three CSV files.        \n",
    "training.csv :- Its has coordinates of facial keypoints like left eye, rigth eye etc and also the image.      \n",
    "test.csv :- Its has image only and we have to give coordinates of various facial keypoints by looking at third csv file which is IdLookupTable.csv     \n",
    "Rest everything is explained below.      \n",
    "**I would really appreciate if you could upvote this kernel.**\n"
   ]
  },
  {
   "cell_type": "code",
   "execution_count": 1,
   "metadata": {
    "_uuid": "369fa247a546e39d82bdfdc5b7d4ed58baa40e4f",
    "collapsed": true
   },
   "outputs": [],
   "source": [
    "import numpy as np\n",
    "import matplotlib.pyplot as plt\n",
    "import pandas as pd\n",
    "from IPython.display import clear_output\n",
    "from time import sleep\n",
    "import os"
   ]
  },
  {
   "cell_type": "code",
   "execution_count": 2,
   "metadata": {
    "_uuid": "fa1b76273d02502e3fd668dddf74ecf522044524"
   },
   "outputs": [
    {
     "data": {
      "text/plain": [
       "['training.csv',\n",
       " 'IdLookupTable.csv',\n",
       " '.DS_Store',\n",
       " 'SampleSubmission.csv',\n",
       " 'test.csv']"
      ]
     },
     "execution_count": 2,
     "metadata": {},
     "output_type": "execute_result"
    }
   ],
   "source": [
    "Train_Dir = '/Users/szkfzx/datasets/FaceDetection/training.csv'\n",
    "Test_Dir = '/Users/szkfzx/datasets/FaceDetection/test.csv'\n",
    "lookid_dir = '/Users/szkfzx/datasets/FaceDetection/IdLookupTable.csv'\n",
    "train_data = pd.read_csv(Train_Dir)  \n",
    "test_data = pd.read_csv(Test_Dir)\n",
    "lookid_data = pd.read_csv(lookid_dir)\n",
    "os.listdir('/Users/szkfzx/datasets/FaceDetection')"
   ]
  },
  {
   "cell_type": "markdown",
   "metadata": {
    "_uuid": "db5d8da6b196bf37a8c9934b2763ebf8dcc25667"
   },
   "source": [
    "Lets explore our dataset"
   ]
  },
  {
   "cell_type": "code",
   "execution_count": 3,
   "metadata": {
    "_uuid": "cfd045f7166f9cce2e2075b3ead83813d07012c8"
   },
   "outputs": [
    {
     "data": {
      "text/html": [
       "<div>\n",
       "<style scoped>\n",
       "    .dataframe tbody tr th:only-of-type {\n",
       "        vertical-align: middle;\n",
       "    }\n",
       "\n",
       "    .dataframe tbody tr th {\n",
       "        vertical-align: top;\n",
       "    }\n",
       "\n",
       "    .dataframe thead th {\n",
       "        text-align: right;\n",
       "    }\n",
       "</style>\n",
       "<table border=\"1\" class=\"dataframe\">\n",
       "  <thead>\n",
       "    <tr style=\"text-align: right;\">\n",
       "      <th></th>\n",
       "      <th>0</th>\n",
       "      <th>1</th>\n",
       "      <th>2</th>\n",
       "      <th>3</th>\n",
       "      <th>4</th>\n",
       "    </tr>\n",
       "  </thead>\n",
       "  <tbody>\n",
       "    <tr>\n",
       "      <th>left_eye_center_x</th>\n",
       "      <td>66.0336</td>\n",
       "      <td>64.3329</td>\n",
       "      <td>65.0571</td>\n",
       "      <td>65.2257</td>\n",
       "      <td>66.7253</td>\n",
       "    </tr>\n",
       "    <tr>\n",
       "      <th>left_eye_center_y</th>\n",
       "      <td>39.0023</td>\n",
       "      <td>34.9701</td>\n",
       "      <td>34.9096</td>\n",
       "      <td>37.2618</td>\n",
       "      <td>39.6213</td>\n",
       "    </tr>\n",
       "    <tr>\n",
       "      <th>right_eye_center_x</th>\n",
       "      <td>30.227</td>\n",
       "      <td>29.9493</td>\n",
       "      <td>30.9038</td>\n",
       "      <td>32.0231</td>\n",
       "      <td>32.2448</td>\n",
       "    </tr>\n",
       "    <tr>\n",
       "      <th>right_eye_center_y</th>\n",
       "      <td>36.4217</td>\n",
       "      <td>33.4487</td>\n",
       "      <td>34.9096</td>\n",
       "      <td>37.2618</td>\n",
       "      <td>38.042</td>\n",
       "    </tr>\n",
       "    <tr>\n",
       "      <th>left_eye_inner_corner_x</th>\n",
       "      <td>59.5821</td>\n",
       "      <td>58.8562</td>\n",
       "      <td>59.412</td>\n",
       "      <td>60.0033</td>\n",
       "      <td>58.5659</td>\n",
       "    </tr>\n",
       "    <tr>\n",
       "      <th>left_eye_inner_corner_y</th>\n",
       "      <td>39.6474</td>\n",
       "      <td>35.2743</td>\n",
       "      <td>36.321</td>\n",
       "      <td>39.1272</td>\n",
       "      <td>39.6213</td>\n",
       "    </tr>\n",
       "    <tr>\n",
       "      <th>left_eye_outer_corner_x</th>\n",
       "      <td>73.1303</td>\n",
       "      <td>70.7227</td>\n",
       "      <td>70.9844</td>\n",
       "      <td>72.3147</td>\n",
       "      <td>72.5159</td>\n",
       "    </tr>\n",
       "    <tr>\n",
       "      <th>left_eye_outer_corner_y</th>\n",
       "      <td>39.97</td>\n",
       "      <td>36.1872</td>\n",
       "      <td>36.321</td>\n",
       "      <td>38.381</td>\n",
       "      <td>39.8845</td>\n",
       "    </tr>\n",
       "    <tr>\n",
       "      <th>right_eye_inner_corner_x</th>\n",
       "      <td>36.3566</td>\n",
       "      <td>36.0347</td>\n",
       "      <td>37.6781</td>\n",
       "      <td>37.6186</td>\n",
       "      <td>36.9824</td>\n",
       "    </tr>\n",
       "    <tr>\n",
       "      <th>right_eye_inner_corner_y</th>\n",
       "      <td>37.3894</td>\n",
       "      <td>34.3615</td>\n",
       "      <td>36.321</td>\n",
       "      <td>38.7541</td>\n",
       "      <td>39.0949</td>\n",
       "    </tr>\n",
       "    <tr>\n",
       "      <th>right_eye_outer_corner_x</th>\n",
       "      <td>23.4529</td>\n",
       "      <td>24.4725</td>\n",
       "      <td>24.9764</td>\n",
       "      <td>25.3073</td>\n",
       "      <td>22.5061</td>\n",
       "    </tr>\n",
       "    <tr>\n",
       "      <th>right_eye_outer_corner_y</th>\n",
       "      <td>37.3894</td>\n",
       "      <td>33.1444</td>\n",
       "      <td>36.6032</td>\n",
       "      <td>38.0079</td>\n",
       "      <td>38.3052</td>\n",
       "    </tr>\n",
       "    <tr>\n",
       "      <th>left_eyebrow_inner_end_x</th>\n",
       "      <td>56.9533</td>\n",
       "      <td>53.9874</td>\n",
       "      <td>55.7425</td>\n",
       "      <td>56.4338</td>\n",
       "      <td>57.2496</td>\n",
       "    </tr>\n",
       "    <tr>\n",
       "      <th>left_eyebrow_inner_end_y</th>\n",
       "      <td>29.0336</td>\n",
       "      <td>28.2759</td>\n",
       "      <td>27.5709</td>\n",
       "      <td>30.9299</td>\n",
       "      <td>30.6722</td>\n",
       "    </tr>\n",
       "    <tr>\n",
       "      <th>left_eyebrow_outer_end_x</th>\n",
       "      <td>80.2271</td>\n",
       "      <td>78.6342</td>\n",
       "      <td>78.8874</td>\n",
       "      <td>77.9103</td>\n",
       "      <td>77.7629</td>\n",
       "    </tr>\n",
       "    <tr>\n",
       "      <th>left_eyebrow_outer_end_y</th>\n",
       "      <td>32.2281</td>\n",
       "      <td>30.4059</td>\n",
       "      <td>32.6516</td>\n",
       "      <td>31.6657</td>\n",
       "      <td>31.7372</td>\n",
       "    </tr>\n",
       "    <tr>\n",
       "      <th>right_eyebrow_inner_end_x</th>\n",
       "      <td>40.2276</td>\n",
       "      <td>42.7289</td>\n",
       "      <td>42.1939</td>\n",
       "      <td>41.6715</td>\n",
       "      <td>38.0354</td>\n",
       "    </tr>\n",
       "    <tr>\n",
       "      <th>right_eyebrow_inner_end_y</th>\n",
       "      <td>29.0023</td>\n",
       "      <td>26.146</td>\n",
       "      <td>28.1355</td>\n",
       "      <td>31.05</td>\n",
       "      <td>30.9354</td>\n",
       "    </tr>\n",
       "    <tr>\n",
       "      <th>right_eyebrow_outer_end_x</th>\n",
       "      <td>16.3564</td>\n",
       "      <td>16.8654</td>\n",
       "      <td>16.7912</td>\n",
       "      <td>20.458</td>\n",
       "      <td>15.9259</td>\n",
       "    </tr>\n",
       "    <tr>\n",
       "      <th>right_eyebrow_outer_end_y</th>\n",
       "      <td>29.6475</td>\n",
       "      <td>27.0589</td>\n",
       "      <td>32.0871</td>\n",
       "      <td>29.9093</td>\n",
       "      <td>30.6722</td>\n",
       "    </tr>\n",
       "    <tr>\n",
       "      <th>nose_tip_x</th>\n",
       "      <td>44.4206</td>\n",
       "      <td>48.2063</td>\n",
       "      <td>47.5573</td>\n",
       "      <td>51.8851</td>\n",
       "      <td>43.2995</td>\n",
       "    </tr>\n",
       "    <tr>\n",
       "      <th>nose_tip_y</th>\n",
       "      <td>57.0668</td>\n",
       "      <td>55.6609</td>\n",
       "      <td>53.5389</td>\n",
       "      <td>54.1665</td>\n",
       "      <td>64.8895</td>\n",
       "    </tr>\n",
       "    <tr>\n",
       "      <th>mouth_left_corner_x</th>\n",
       "      <td>61.1953</td>\n",
       "      <td>56.4214</td>\n",
       "      <td>60.8229</td>\n",
       "      <td>65.5989</td>\n",
       "      <td>60.6714</td>\n",
       "    </tr>\n",
       "    <tr>\n",
       "      <th>mouth_left_corner_y</th>\n",
       "      <td>79.9702</td>\n",
       "      <td>76.352</td>\n",
       "      <td>73.0143</td>\n",
       "      <td>72.7037</td>\n",
       "      <td>77.5232</td>\n",
       "    </tr>\n",
       "    <tr>\n",
       "      <th>mouth_right_corner_x</th>\n",
       "      <td>28.6145</td>\n",
       "      <td>35.1224</td>\n",
       "      <td>33.7263</td>\n",
       "      <td>37.2455</td>\n",
       "      <td>31.1918</td>\n",
       "    </tr>\n",
       "    <tr>\n",
       "      <th>mouth_right_corner_y</th>\n",
       "      <td>77.389</td>\n",
       "      <td>76.0477</td>\n",
       "      <td>72.732</td>\n",
       "      <td>74.1955</td>\n",
       "      <td>76.9973</td>\n",
       "    </tr>\n",
       "    <tr>\n",
       "      <th>mouth_center_top_lip_x</th>\n",
       "      <td>43.3126</td>\n",
       "      <td>46.6846</td>\n",
       "      <td>47.2749</td>\n",
       "      <td>50.3032</td>\n",
       "      <td>44.9627</td>\n",
       "    </tr>\n",
       "    <tr>\n",
       "      <th>mouth_center_top_lip_y</th>\n",
       "      <td>72.9355</td>\n",
       "      <td>70.2666</td>\n",
       "      <td>70.1918</td>\n",
       "      <td>70.0917</td>\n",
       "      <td>73.7074</td>\n",
       "    </tr>\n",
       "    <tr>\n",
       "      <th>mouth_center_bottom_lip_x</th>\n",
       "      <td>43.1307</td>\n",
       "      <td>45.4679</td>\n",
       "      <td>47.2749</td>\n",
       "      <td>51.5612</td>\n",
       "      <td>44.2271</td>\n",
       "    </tr>\n",
       "    <tr>\n",
       "      <th>mouth_center_bottom_lip_y</th>\n",
       "      <td>84.4858</td>\n",
       "      <td>85.4802</td>\n",
       "      <td>78.6594</td>\n",
       "      <td>78.2684</td>\n",
       "      <td>86.8712</td>\n",
       "    </tr>\n",
       "    <tr>\n",
       "      <th>Image</th>\n",
       "      <td>238 236 237 238 240 240 239 241 241 243 240 23...</td>\n",
       "      <td>219 215 204 196 204 211 212 200 180 168 178 19...</td>\n",
       "      <td>144 142 159 180 188 188 184 180 167 132 84 59 ...</td>\n",
       "      <td>193 192 193 194 194 194 193 192 168 111 50 12 ...</td>\n",
       "      <td>147 148 160 196 215 214 216 217 219 220 206 18...</td>\n",
       "    </tr>\n",
       "  </tbody>\n",
       "</table>\n",
       "</div>"
      ],
      "text/plain": [
       "                                                                           0  \\\n",
       "left_eye_center_x                                                    66.0336   \n",
       "left_eye_center_y                                                    39.0023   \n",
       "right_eye_center_x                                                    30.227   \n",
       "right_eye_center_y                                                   36.4217   \n",
       "left_eye_inner_corner_x                                              59.5821   \n",
       "left_eye_inner_corner_y                                              39.6474   \n",
       "left_eye_outer_corner_x                                              73.1303   \n",
       "left_eye_outer_corner_y                                                39.97   \n",
       "right_eye_inner_corner_x                                             36.3566   \n",
       "right_eye_inner_corner_y                                             37.3894   \n",
       "right_eye_outer_corner_x                                             23.4529   \n",
       "right_eye_outer_corner_y                                             37.3894   \n",
       "left_eyebrow_inner_end_x                                             56.9533   \n",
       "left_eyebrow_inner_end_y                                             29.0336   \n",
       "left_eyebrow_outer_end_x                                             80.2271   \n",
       "left_eyebrow_outer_end_y                                             32.2281   \n",
       "right_eyebrow_inner_end_x                                            40.2276   \n",
       "right_eyebrow_inner_end_y                                            29.0023   \n",
       "right_eyebrow_outer_end_x                                            16.3564   \n",
       "right_eyebrow_outer_end_y                                            29.6475   \n",
       "nose_tip_x                                                           44.4206   \n",
       "nose_tip_y                                                           57.0668   \n",
       "mouth_left_corner_x                                                  61.1953   \n",
       "mouth_left_corner_y                                                  79.9702   \n",
       "mouth_right_corner_x                                                 28.6145   \n",
       "mouth_right_corner_y                                                  77.389   \n",
       "mouth_center_top_lip_x                                               43.3126   \n",
       "mouth_center_top_lip_y                                               72.9355   \n",
       "mouth_center_bottom_lip_x                                            43.1307   \n",
       "mouth_center_bottom_lip_y                                            84.4858   \n",
       "Image                      238 236 237 238 240 240 239 241 241 243 240 23...   \n",
       "\n",
       "                                                                           1  \\\n",
       "left_eye_center_x                                                    64.3329   \n",
       "left_eye_center_y                                                    34.9701   \n",
       "right_eye_center_x                                                   29.9493   \n",
       "right_eye_center_y                                                   33.4487   \n",
       "left_eye_inner_corner_x                                              58.8562   \n",
       "left_eye_inner_corner_y                                              35.2743   \n",
       "left_eye_outer_corner_x                                              70.7227   \n",
       "left_eye_outer_corner_y                                              36.1872   \n",
       "right_eye_inner_corner_x                                             36.0347   \n",
       "right_eye_inner_corner_y                                             34.3615   \n",
       "right_eye_outer_corner_x                                             24.4725   \n",
       "right_eye_outer_corner_y                                             33.1444   \n",
       "left_eyebrow_inner_end_x                                             53.9874   \n",
       "left_eyebrow_inner_end_y                                             28.2759   \n",
       "left_eyebrow_outer_end_x                                             78.6342   \n",
       "left_eyebrow_outer_end_y                                             30.4059   \n",
       "right_eyebrow_inner_end_x                                            42.7289   \n",
       "right_eyebrow_inner_end_y                                             26.146   \n",
       "right_eyebrow_outer_end_x                                            16.8654   \n",
       "right_eyebrow_outer_end_y                                            27.0589   \n",
       "nose_tip_x                                                           48.2063   \n",
       "nose_tip_y                                                           55.6609   \n",
       "mouth_left_corner_x                                                  56.4214   \n",
       "mouth_left_corner_y                                                   76.352   \n",
       "mouth_right_corner_x                                                 35.1224   \n",
       "mouth_right_corner_y                                                 76.0477   \n",
       "mouth_center_top_lip_x                                               46.6846   \n",
       "mouth_center_top_lip_y                                               70.2666   \n",
       "mouth_center_bottom_lip_x                                            45.4679   \n",
       "mouth_center_bottom_lip_y                                            85.4802   \n",
       "Image                      219 215 204 196 204 211 212 200 180 168 178 19...   \n",
       "\n",
       "                                                                           2  \\\n",
       "left_eye_center_x                                                    65.0571   \n",
       "left_eye_center_y                                                    34.9096   \n",
       "right_eye_center_x                                                   30.9038   \n",
       "right_eye_center_y                                                   34.9096   \n",
       "left_eye_inner_corner_x                                               59.412   \n",
       "left_eye_inner_corner_y                                               36.321   \n",
       "left_eye_outer_corner_x                                              70.9844   \n",
       "left_eye_outer_corner_y                                               36.321   \n",
       "right_eye_inner_corner_x                                             37.6781   \n",
       "right_eye_inner_corner_y                                              36.321   \n",
       "right_eye_outer_corner_x                                             24.9764   \n",
       "right_eye_outer_corner_y                                             36.6032   \n",
       "left_eyebrow_inner_end_x                                             55.7425   \n",
       "left_eyebrow_inner_end_y                                             27.5709   \n",
       "left_eyebrow_outer_end_x                                             78.8874   \n",
       "left_eyebrow_outer_end_y                                             32.6516   \n",
       "right_eyebrow_inner_end_x                                            42.1939   \n",
       "right_eyebrow_inner_end_y                                            28.1355   \n",
       "right_eyebrow_outer_end_x                                            16.7912   \n",
       "right_eyebrow_outer_end_y                                            32.0871   \n",
       "nose_tip_x                                                           47.5573   \n",
       "nose_tip_y                                                           53.5389   \n",
       "mouth_left_corner_x                                                  60.8229   \n",
       "mouth_left_corner_y                                                  73.0143   \n",
       "mouth_right_corner_x                                                 33.7263   \n",
       "mouth_right_corner_y                                                  72.732   \n",
       "mouth_center_top_lip_x                                               47.2749   \n",
       "mouth_center_top_lip_y                                               70.1918   \n",
       "mouth_center_bottom_lip_x                                            47.2749   \n",
       "mouth_center_bottom_lip_y                                            78.6594   \n",
       "Image                      144 142 159 180 188 188 184 180 167 132 84 59 ...   \n",
       "\n",
       "                                                                           3  \\\n",
       "left_eye_center_x                                                    65.2257   \n",
       "left_eye_center_y                                                    37.2618   \n",
       "right_eye_center_x                                                   32.0231   \n",
       "right_eye_center_y                                                   37.2618   \n",
       "left_eye_inner_corner_x                                              60.0033   \n",
       "left_eye_inner_corner_y                                              39.1272   \n",
       "left_eye_outer_corner_x                                              72.3147   \n",
       "left_eye_outer_corner_y                                               38.381   \n",
       "right_eye_inner_corner_x                                             37.6186   \n",
       "right_eye_inner_corner_y                                             38.7541   \n",
       "right_eye_outer_corner_x                                             25.3073   \n",
       "right_eye_outer_corner_y                                             38.0079   \n",
       "left_eyebrow_inner_end_x                                             56.4338   \n",
       "left_eyebrow_inner_end_y                                             30.9299   \n",
       "left_eyebrow_outer_end_x                                             77.9103   \n",
       "left_eyebrow_outer_end_y                                             31.6657   \n",
       "right_eyebrow_inner_end_x                                            41.6715   \n",
       "right_eyebrow_inner_end_y                                              31.05   \n",
       "right_eyebrow_outer_end_x                                             20.458   \n",
       "right_eyebrow_outer_end_y                                            29.9093   \n",
       "nose_tip_x                                                           51.8851   \n",
       "nose_tip_y                                                           54.1665   \n",
       "mouth_left_corner_x                                                  65.5989   \n",
       "mouth_left_corner_y                                                  72.7037   \n",
       "mouth_right_corner_x                                                 37.2455   \n",
       "mouth_right_corner_y                                                 74.1955   \n",
       "mouth_center_top_lip_x                                               50.3032   \n",
       "mouth_center_top_lip_y                                               70.0917   \n",
       "mouth_center_bottom_lip_x                                            51.5612   \n",
       "mouth_center_bottom_lip_y                                            78.2684   \n",
       "Image                      193 192 193 194 194 194 193 192 168 111 50 12 ...   \n",
       "\n",
       "                                                                           4  \n",
       "left_eye_center_x                                                    66.7253  \n",
       "left_eye_center_y                                                    39.6213  \n",
       "right_eye_center_x                                                   32.2448  \n",
       "right_eye_center_y                                                    38.042  \n",
       "left_eye_inner_corner_x                                              58.5659  \n",
       "left_eye_inner_corner_y                                              39.6213  \n",
       "left_eye_outer_corner_x                                              72.5159  \n",
       "left_eye_outer_corner_y                                              39.8845  \n",
       "right_eye_inner_corner_x                                             36.9824  \n",
       "right_eye_inner_corner_y                                             39.0949  \n",
       "right_eye_outer_corner_x                                             22.5061  \n",
       "right_eye_outer_corner_y                                             38.3052  \n",
       "left_eyebrow_inner_end_x                                             57.2496  \n",
       "left_eyebrow_inner_end_y                                             30.6722  \n",
       "left_eyebrow_outer_end_x                                             77.7629  \n",
       "left_eyebrow_outer_end_y                                             31.7372  \n",
       "right_eyebrow_inner_end_x                                            38.0354  \n",
       "right_eyebrow_inner_end_y                                            30.9354  \n",
       "right_eyebrow_outer_end_x                                            15.9259  \n",
       "right_eyebrow_outer_end_y                                            30.6722  \n",
       "nose_tip_x                                                           43.2995  \n",
       "nose_tip_y                                                           64.8895  \n",
       "mouth_left_corner_x                                                  60.6714  \n",
       "mouth_left_corner_y                                                  77.5232  \n",
       "mouth_right_corner_x                                                 31.1918  \n",
       "mouth_right_corner_y                                                 76.9973  \n",
       "mouth_center_top_lip_x                                               44.9627  \n",
       "mouth_center_top_lip_y                                               73.7074  \n",
       "mouth_center_bottom_lip_x                                            44.2271  \n",
       "mouth_center_bottom_lip_y                                            86.8712  \n",
       "Image                      147 148 160 196 215 214 216 217 219 220 206 18...  "
      ]
     },
     "execution_count": 3,
     "metadata": {},
     "output_type": "execute_result"
    }
   ],
   "source": [
    "train_data.head().T"
   ]
  },
  {
   "cell_type": "markdown",
   "metadata": {
    "_uuid": "14ae8eb84c1ed40db949d6dddeba331b2ed84487"
   },
   "source": [
    "Lets check for missing values"
   ]
  },
  {
   "cell_type": "code",
   "execution_count": 4,
   "metadata": {
    "_uuid": "67368f645afe618d6fc717552a6847de7e5ec66a"
   },
   "outputs": [
    {
     "data": {
      "text/plain": [
       "True     28\n",
       "False     3\n",
       "dtype: int64"
      ]
     },
     "execution_count": 4,
     "metadata": {},
     "output_type": "execute_result"
    }
   ],
   "source": [
    "train_data.isnull().any().value_counts()"
   ]
  },
  {
   "cell_type": "markdown",
   "metadata": {
    "_uuid": "f55b89f149e6bbc79d0e9c636c64c5c6fc7192b2"
   },
   "source": [
    "So there are missing values in 28 columns. We can do two things here one remove the rows having missing values and another is the fill missing values with something. I used two option as removing rows will reduce our dataset. \n",
    "I filled the missing values with the previous values in that row."
   ]
  },
  {
   "cell_type": "code",
   "execution_count": 5,
   "metadata": {
    "_uuid": "69165acb462a9b47f22fe81a8fe8eaaca4f518d2",
    "collapsed": true
   },
   "outputs": [],
   "source": [
    "train_data.fillna(method = 'ffill',inplace = True)\n",
    "#train_data.reset_index(drop = True,inplace = True)"
   ]
  },
  {
   "cell_type": "markdown",
   "metadata": {
    "_uuid": "e6cd1f4c243b44ecc0530bf416d761930a4f94d1"
   },
   "source": [
    "Lets check for missing values now"
   ]
  },
  {
   "cell_type": "code",
   "execution_count": 6,
   "metadata": {
    "_uuid": "29ca4e12ec805d837ec4eac91cb91d5a133f8740"
   },
   "outputs": [
    {
     "data": {
      "text/plain": [
       "False    31\n",
       "dtype: int64"
      ]
     },
     "execution_count": 6,
     "metadata": {},
     "output_type": "execute_result"
    }
   ],
   "source": [
    "train_data.isnull().any().value_counts()"
   ]
  },
  {
   "cell_type": "markdown",
   "metadata": {
    "_uuid": "e1b88f1528838c0a8fec61f9a02a70b5077312e9"
   },
   "source": [
    "As there is no missing values we can now separate the labels and features.\n",
    "The image is our feature and other values are labes that we have to predict later.\n",
    "As image column values are in string format and there is also some missing values so we have to split the string by space and append it and also handling missing values"
   ]
  },
  {
   "cell_type": "code",
   "execution_count": 7,
   "metadata": {
    "_uuid": "e78ca4523425835f1b584f3e30e5c9dcc8014253",
    "collapsed": true
   },
   "outputs": [],
   "source": [
    "imag = []\n",
    "for i in range(0,7049):\n",
    "    img = train_data['Image'][i].split(' ')\n",
    "    img = ['0' if x == '' else x for x in img]\n",
    "    imag.append(img)"
   ]
  },
  {
   "cell_type": "markdown",
   "metadata": {
    "_uuid": "e112a93d30f86687f80fb01d9f916633d87682db"
   },
   "source": [
    "Lets reshape and convert it into float value."
   ]
  },
  {
   "cell_type": "code",
   "execution_count": 8,
   "metadata": {
    "_uuid": "da09436050dc2df5da7cb49ad90125b1b756f1a4",
    "collapsed": true
   },
   "outputs": [],
   "source": [
    "image_list = np.array(imag,dtype = 'float')\n",
    "X_train = image_list.reshape(-1,96,96)"
   ]
  },
  {
   "cell_type": "markdown",
   "metadata": {
    "_uuid": "58a352bb3b38dadf37da1a6b62798fe1e3df8614",
    "collapsed": true
   },
   "source": [
    "Lets see what is the first image."
   ]
  },
  {
   "cell_type": "code",
   "execution_count": 9,
   "metadata": {
    "_uuid": "3e953b9fa753d6f7c1092a2d8d2faf6cff5a4f93"
   },
   "outputs": [
    {
     "data": {
      "image/png": "[encoded data removed]",
      "text/plain": [
       "<Figure size 432x288 with 1 Axes>"
      ]
     },
     "metadata": {},
     "output_type": "display_data"
    }
   ],
   "source": [
    "plt.imshow(X_train[0],cmap='gray')\n",
    "plt.show()"
   ]
  },
  {
   "cell_type": "markdown",
   "metadata": {
    "_uuid": "a833f4cc5e559774d3a310fd09d40d31e49e71da"
   },
   "source": [
    "Now lets separate labels."
   ]
  },
  {
   "cell_type": "code",
   "execution_count": 10,
   "metadata": {
    "_uuid": "e9d804a035809cdf8ffda19f41ce3feb278a38fb",
    "collapsed": true
   },
   "outputs": [],
   "source": [
    "training = train_data.drop('Image',axis = 1)\n",
    "\n",
    "y_train = []\n",
    "for i in range(0,7049):\n",
    "    y = training.iloc[i,:]\n",
    "\n",
    "    y_train.append(y)\n",
    "y_train = np.array(y_train,dtype = 'float')"
   ]
  },
  {
   "cell_type": "markdown",
   "metadata": {
    "_uuid": "d1ade36c2a9ffc30411987384691c49a8859818b"
   },
   "source": [
    "As our data is ready for training , lets define our model. I am using keras and simple dense layers. For loss function I am using 'mse' ( mean squared error ) as we have to predict new values. Our result evaluted on the basics of 'mae' ( mean absolute error ) . "
   ]
  },
  {
   "cell_type": "code",
   "execution_count": null,
   "metadata": {
    "_uuid": "182dbbf5e211249cd5087f2e1218c7000c15e8d7"
   },
   "outputs": [
    {
     "name": "stderr",
     "output_type": "stream",
     "text": [
      "Using TensorFlow backend.\n"
     ]
    },
    {
     "name": "stdout",
     "output_type": "stream",
     "text": [
      "WARNING:tensorflow:From /Users/szkfzx/anaconda2/envs/python36/lib/python3.6/site-packages/tensorflow/python/framework/op_def_library.py:263: colocate_with (from tensorflow.python.framework.ops) is deprecated and will be removed in a future version.\n",
      "Instructions for updating:\n",
      "Colocations handled automatically by placer.\n",
      "WARNING:tensorflow:From /Users/szkfzx/anaconda2/envs/python36/lib/python3.6/site-packages/keras/backend/tensorflow_backend.py:3445: calling dropout (from tensorflow.python.ops.nn_ops) with keep_prob is deprecated and will be removed in a future version.\n",
      "Instructions for updating:\n",
      "Please use `rate` instead of `keep_prob`. Rate should be set to `rate = 1 - keep_prob`.\n"
     ]
    }
   ],
   "source": [
    "from keras.layers import Conv2D,Dropout,Dense,Flatten\n",
    "from keras.models import Sequential\n",
    "\n",
    "model = Sequential([Flatten(input_shape=(96,96)),\n",
    "                         Dense(128, activation=\"relu\"),\n",
    "                         Dropout(0.1),\n",
    "                         Dense(64, activation=\"relu\"),\n",
    "                         Dense(30)\n",
    "                         ])\n",
    "\n",
    "model.compile(optimizer='adam', \n",
    "              loss='mse',\n",
    "              metrics=['mae','accuracy'])\n"
   ]
  },
  {
   "cell_type": "markdown",
   "metadata": {
    "_uuid": "e4cf4686b410841f2e34dbb081f3429d1b0f67e9"
   },
   "source": [
    "Now our model is defined and we will train it by calling fit method. I ran it for 500 iteration keeping batch size and validtion set size as 20% ( 20% of the training data will be kept for validating the model )."
   ]
  },
  {
   "cell_type": "code",
   "execution_count": null,
   "metadata": {
    "_uuid": "894af9cbfcf2dca50e7407946cad318157b77d0a"
   },
   "outputs": [
    {
     "name": "stdout",
     "output_type": "stream",
     "text": [
      "WARNING:tensorflow:From /Users/szkfzx/anaconda2/envs/python36/lib/python3.6/site-packages/tensorflow/python/ops/math_ops.py:3066: to_int32 (from tensorflow.python.ops.math_ops) is deprecated and will be removed in a future version.\n",
      "Instructions for updating:\n",
      "Use tf.cast instead.\n",
      "Train on 5639 samples, validate on 1410 samples\n",
      "Epoch 1/500\n",
      "5639/5639 [==============================] - 1s 226us/step - loss: 20092.3932 - mean_absolute_error: 81.0115 - acc: 0.0043 - val_loss: 2710.5329 - val_mean_absolute_error: 48.5385 - val_acc: 0.0000e+00\n",
      "Epoch 2/500\n",
      "5639/5639 [==============================] - 1s 139us/step - loss: 2666.7935 - mean_absolute_error: 48.1047 - acc: 0.0000e+00 - val_loss: 2707.6712 - val_mean_absolute_error: 48.5111 - val_acc: 0.0000e+00\n",
      "Epoch 3/500\n",
      "5639/5639 [==============================] - 1s 138us/step - loss: 2663.6111 - mean_absolute_error: 48.0732 - acc: 1.7734e-04 - val_loss: 2704.1976 - val_mean_absolute_error: 48.4765 - val_acc: 0.0000e+00\n",
      "Epoch 4/500\n",
      "5639/5639 [==============================] - 1s 136us/step - loss: 2660.0731 - mean_absolute_error: 48.0377 - acc: 1.7734e-04 - val_loss: 2700.5468 - val_mean_absolute_error: 48.4401 - val_acc: 0.0000e+00\n",
      "Epoch 5/500\n",
      "5639/5639 [==============================] - 1s 136us/step - loss: 2656.3764 - mean_absolute_error: 48.0005 - acc: 1.7734e-04 - val_loss: 2696.7464 - val_mean_absolute_error: 48.4020 - val_acc: 0.0000e+00\n",
      "Epoch 6/500\n",
      "5639/5639 [==============================] - 1s 138us/step - loss: 2652.5368 - mean_absolute_error: 47.9617 - acc: 1.7734e-04 - val_loss: 2692.8082 - val_mean_absolute_error: 48.3624 - val_acc: 0.0000e+00\n",
      "Epoch 7/500\n",
      "5639/5639 [==============================] - 1s 145us/step - loss: 2648.5661 - mean_absolute_error: 47.9214 - acc: 1.7734e-04 - val_loss: 2688.7412 - val_mean_absolute_error: 48.3213 - val_acc: 0.0000e+00\n",
      "Epoch 8/500\n",
      "5639/5639 [==============================] - 1s 142us/step - loss: 2644.4678 - mean_absolute_error: 47.8796 - acc: 1.7734e-04 - val_loss: 2684.5449 - val_mean_absolute_error: 48.2787 - val_acc: 0.0000e+00\n",
      "Epoch 9/500\n",
      "5639/5639 [==============================] - 1s 144us/step - loss: 2640.2406 - mean_absolute_error: 47.8363 - acc: 1.7734e-04 - val_loss: 2680.2149 - val_mean_absolute_error: 48.2346 - val_acc: 0.0000e+00\n",
      "Epoch 10/500\n",
      "5639/5639 [==============================] - 1s 144us/step - loss: 2635.8773 - mean_absolute_error: 47.7914 - acc: 1.7734e-04 - val_loss: 2675.7428 - val_mean_absolute_error: 48.1889 - val_acc: 0.0000e+00\n",
      "Epoch 11/500\n",
      "5639/5639 [==============================] - ETA: 0s - loss: 2631.3123 - mean_absolute_error: 47.7446 - acc: 1.7756e-0 - 1s 141us/step - loss: 2631.3659 - mean_absolute_error: 47.7447 - acc: 1.7734e-04 - val_loss: 2671.1129 - val_mean_absolute_error: 48.1413 - val_acc: 0.0000e+00\n",
      "Epoch 12/500\n",
      "5639/5639 [==============================] - 1s 143us/step - loss: 2626.6889 - mean_absolute_error: 47.6962 - acc: 1.7734e-04 - val_loss: 2666.3068 - val_mean_absolute_error: 48.0917 - val_acc: 0.0000e+00\n",
      "Epoch 13/500\n",
      "5639/5639 [==============================] - 1s 143us/step - loss: 2621.8284 - mean_absolute_error: 47.6456 - acc: 0.0000e+00 - val_loss: 2661.3019 - val_mean_absolute_error: 48.0399 - val_acc: 0.0000e+00\n",
      "Epoch 14/500\n",
      "5639/5639 [==============================] - 1s 144us/step - loss: 2616.7581 - mean_absolute_error: 47.5926 - acc: 0.0000e+00 - val_loss: 2656.0732 - val_mean_absolute_error: 47.9856 - val_acc: 0.0000e+00\n",
      "Epoch 15/500\n",
      "5639/5639 [==============================] - 1s 141us/step - loss: 2611.4524 - mean_absolute_error: 47.5370 - acc: 0.0000e+00 - val_loss: 2650.5927 - val_mean_absolute_error: 47.9284 - val_acc: 0.0000e+00\n",
      "Epoch 16/500\n",
      "5639/5639 [==============================] - 1s 143us/step - loss: 2605.8816 - mean_absolute_error: 47.4784 - acc: 0.0000e+00 - val_loss: 2644.8269 - val_mean_absolute_error: 47.8682 - val_acc: 0.0000e+00\n",
      "Epoch 17/500\n",
      "5639/5639 [==============================] - 1s 144us/step - loss: 2600.0158 - mean_absolute_error: 47.4165 - acc: 0.0000e+00 - val_loss: 2638.7461 - val_mean_absolute_error: 47.8045 - val_acc: 0.0000e+00\n",
      "Epoch 18/500\n",
      "5639/5639 [==============================] - 1s 144us/step - loss: 2593.8161 - mean_absolute_error: 47.3510 - acc: 0.0000e+00 - val_loss: 2632.3107 - val_mean_absolute_error: 47.7370 - val_acc: 0.0000e+00\n",
      "Epoch 19/500\n",
      "5639/5639 [==============================] - 1s 143us/step - loss: 2587.2504 - mean_absolute_error: 47.2815 - acc: 0.0000e+00 - val_loss: 2625.4850 - val_mean_absolute_error: 47.6652 - val_acc: 0.0000e+00\n",
      "Epoch 20/500\n",
      "5639/5639 [==============================] - 1s 142us/step - loss: 2580.2795 - mean_absolute_error: 47.2076 - acc: 0.0000e+00 - val_loss: 2618.2329 - val_mean_absolute_error: 47.5889 - val_acc: 0.0000e+00\n",
      "Epoch 21/500\n",
      "5639/5639 [==============================] - 1s 143us/step - loss: 2572.8655 - mean_absolute_error: 47.1290 - acc: 0.0000e+00 - val_loss: 2610.5122 - val_mean_absolute_error: 47.5077 - val_acc: 0.0000e+00\n",
      "Epoch 22/500\n",
      "5639/5639 [==============================] - 1s 143us/step - loss: 2564.9723 - mean_absolute_error: 47.0452 - acc: 0.0000e+00 - val_loss: 2602.2895 - val_mean_absolute_error: 47.4211 - val_acc: 0.0000e+00\n",
      "Epoch 23/500\n",
      "5639/5639 [==============================] - 1s 140us/step - loss: 2556.5659 - mean_absolute_error: 46.9559 - acc: 0.0000e+00 - val_loss: 2593.5298 - val_mean_absolute_error: 47.3288 - val_acc: 0.0000e+00\n",
      "Epoch 24/500\n",
      "5639/5639 [==============================] - 1s 142us/step - loss: 2547.6066 - mean_absolute_error: 46.8608 - acc: 0.0000e+00 - val_loss: 2584.1916 - val_mean_absolute_error: 47.2304 - val_acc: 0.0000e+00\n",
      "Epoch 25/500\n",
      "5639/5639 [==============================] - 1s 142us/step - loss: 2538.0607 - mean_absolute_error: 46.7594 - acc: 0.0000e+00 - val_loss: 2574.2469 - val_mean_absolute_error: 47.1257 - val_acc: 0.0000e+00\n",
      "Epoch 26/500\n",
      "5639/5639 [==============================] - 1s 141us/step - loss: 2527.8968 - mean_absolute_error: 46.6514 - acc: 0.0000e+00 - val_loss: 2563.6603 - val_mean_absolute_error: 47.0141 - val_acc: 0.0000e+00\n",
      "Epoch 27/500\n",
      "5639/5639 [==============================] - 1s 142us/step - loss: 2517.0861 - mean_absolute_error: 46.5366 - acc: 0.0000e+00 - val_loss: 2552.4069 - val_mean_absolute_error: 46.8956 - val_acc: 0.0000e+00\n",
      "Epoch 28/500\n",
      "5639/5639 [==============================] - 1s 144us/step - loss: 2505.5993 - mean_absolute_error: 46.4145 - acc: 0.0000e+00 - val_loss: 2540.4571 - val_mean_absolute_error: 46.7697 - val_acc: 0.0000e+00\n",
      "Epoch 29/500\n",
      "5639/5639 [==============================] - 1s 142us/step - loss: 2493.4219 - mean_absolute_error: 46.2850 - acc: 0.0000e+00 - val_loss: 2527.7985 - val_mean_absolute_error: 46.6362 - val_acc: 0.0000e+00\n",
      "Epoch 30/500\n",
      "5639/5639 [==============================] - 1s 142us/step - loss: 2480.5229 - mean_absolute_error: 46.1478 - acc: 0.0000e+00 - val_loss: 2514.3998 - val_mean_absolute_error: 46.4949 - val_acc: 0.0000e+00\n",
      "Epoch 31/500\n",
      "5639/5639 [==============================] - 1s 147us/step - loss: 2466.8897 - mean_absolute_error: 46.0027 - acc: 0.0000e+00 - val_loss: 2500.2537 - val_mean_absolute_error: 46.3455 - val_acc: 0.0000e+00\n",
      "Epoch 32/500\n",
      "5639/5639 [==============================] - 1s 147us/step - loss: 2452.5099 - mean_absolute_error: 45.8493 - acc: 0.0000e+00 - val_loss: 2485.3412 - val_mean_absolute_error: 46.1879 - val_acc: 0.0000e+00\n",
      "Epoch 33/500\n",
      "5639/5639 [==============================] - 1s 143us/step - loss: 2437.3693 - mean_absolute_error: 45.6877 - acc: 0.0000e+00 - val_loss: 2469.6661 - val_mean_absolute_error: 46.0219 - val_acc: 0.0000e+00\n",
      "Epoch 34/500\n",
      "5639/5639 [==============================] - 1s 141us/step - loss: 2421.4755 - mean_absolute_error: 45.5177 - acc: 0.0000e+00 - val_loss: 2453.2237 - val_mean_absolute_error: 45.8475 - val_acc: 0.0000e+00\n",
      "Epoch 35/500\n",
      "5639/5639 [==============================] - 1s 140us/step - loss: 2404.8198 - mean_absolute_error: 45.3392 - acc: 0.0000e+00 - val_loss: 2436.0120 - val_mean_absolute_error: 45.6645 - val_acc: 0.0000e+00\n",
      "Epoch 36/500\n",
      "5639/5639 [==============================] - 1s 140us/step - loss: 2387.4112 - mean_absolute_error: 45.1521 - acc: 0.0000e+00 - val_loss: 2418.0450 - val_mean_absolute_error: 45.4730 - val_acc: 0.0000e+00\n"
     ]
    },
    {
     "name": "stdout",
     "output_type": "stream",
     "text": [
      "Epoch 37/500\n",
      "5639/5639 [==============================] - 1s 138us/step - loss: 2369.2470 - mean_absolute_error: 44.9563 - acc: 0.0000e+00 - val_loss: 2399.3097 - val_mean_absolute_error: 45.2727 - val_acc: 0.0000e+00\n",
      "Epoch 38/500\n",
      "5639/5639 [==============================] - 1s 137us/step - loss: 2350.3430 - mean_absolute_error: 44.7519 - acc: 0.0000e+00 - val_loss: 2379.8346 - val_mean_absolute_error: 45.0638 - val_acc: 0.0000e+00\n",
      "Epoch 39/500\n",
      "5639/5639 [==============================] - 1s 136us/step - loss: 2330.7046 - mean_absolute_error: 44.5389 - acc: 0.0000e+00 - val_loss: 2359.6284 - val_mean_absolute_error: 44.8462 - val_acc: 0.0000e+00\n",
      "Epoch 40/500\n",
      "5639/5639 [==============================] - 1s 137us/step - loss: 2310.3569 - mean_absolute_error: 44.3173 - acc: 0.0000e+00 - val_loss: 2338.7108 - val_mean_absolute_error: 44.6202 - val_acc: 0.0000e+00\n",
      "Epoch 41/500\n",
      "5639/5639 [==============================] - 1s 138us/step - loss: 2289.3122 - mean_absolute_error: 44.0872 - acc: 0.0000e+00 - val_loss: 2317.0962 - val_mean_absolute_error: 44.3856 - val_acc: 0.0000e+00\n",
      "Epoch 42/500\n",
      "5639/5639 [==============================] - 1s 138us/step - loss: 2267.5866 - mean_absolute_error: 43.8485 - acc: 0.0000e+00 - val_loss: 2294.8039 - val_mean_absolute_error: 44.1426 - val_acc: 0.0000e+00\n",
      "Epoch 43/500\n",
      "5639/5639 [==============================] - 1s 137us/step - loss: 2245.2052 - mean_absolute_error: 43.6015 - acc: 0.0000e+00 - val_loss: 2271.8605 - val_mean_absolute_error: 43.8912 - val_acc: 0.0000e+00\n",
      "Epoch 44/500\n",
      "5639/5639 [==============================] - 1s 138us/step - loss: 2222.2041 - mean_absolute_error: 43.3463 - acc: 0.0000e+00 - val_loss: 2248.2997 - val_mean_absolute_error: 43.6318 - val_acc: 0.0000e+00\n",
      "Epoch 45/500\n",
      "5639/5639 [==============================] - 1s 138us/step - loss: 2198.5878 - mean_absolute_error: 43.0829 - acc: 0.0000e+00 - val_loss: 2224.1277 - val_mean_absolute_error: 43.3642 - val_acc: 0.0000e+00\n",
      "Epoch 46/500\n",
      "5639/5639 [==============================] - 1s 139us/step - loss: 2174.3874 - mean_absolute_error: 42.8115 - acc: 0.0000e+00 - val_loss: 2199.3795 - val_mean_absolute_error: 43.0887 - val_acc: 0.0000e+00\n",
      "Epoch 47/500\n",
      "5639/5639 [==============================] - 1s 137us/step - loss: 2149.6251 - mean_absolute_error: 42.5322 - acc: 0.0000e+00 - val_loss: 2174.0731 - val_mean_absolute_error: 42.8053 - val_acc: 0.0000e+00\n",
      "Epoch 48/500\n",
      "5639/5639 [==============================] - 1s 144us/step - loss: 2124.3288 - mean_absolute_error: 42.2451 - acc: 0.0000e+00 - val_loss: 2148.2432 - val_mean_absolute_error: 42.5142 - val_acc: 0.0000e+00\n",
      "Epoch 49/500\n",
      "5639/5639 [==============================] - 1s 140us/step - loss: 2098.5282 - mean_absolute_error: 41.9504 - acc: 0.0000e+00 - val_loss: 2121.9158 - val_mean_absolute_error: 42.2157 - val_acc: 0.0000e+00\n",
      "Epoch 50/500\n",
      "5639/5639 [==============================] - 1s 142us/step - loss: 2072.2518 - mean_absolute_error: 41.6483 - acc: 0.0000e+00 - val_loss: 2095.1126 - val_mean_absolute_error: 41.9097 - val_acc: 0.0000e+00\n",
      "Epoch 51/500\n",
      "5639/5639 [==============================] - 1s 142us/step - loss: 2045.5295 - mean_absolute_error: 41.3390 - acc: 0.0000e+00 - val_loss: 2067.8817 - val_mean_absolute_error: 41.5967 - val_acc: 0.0000e+00\n",
      "Epoch 52/500\n",
      "5639/5639 [==============================] - 1s 139us/step - loss: 2018.3944 - mean_absolute_error: 41.0226 - acc: 0.0000e+00 - val_loss: 2040.2370 - val_mean_absolute_error: 41.2767 - val_acc: 0.0000e+00\n",
      "Epoch 53/500\n",
      "5639/5639 [==============================] - 1s 139us/step - loss: 1990.8490 - mean_absolute_error: 40.6991 - acc: 0.0000e+00 - val_loss: 2012.1925 - val_mean_absolute_error: 40.9496 - val_acc: 0.0000e+00\n",
      "Epoch 54/500\n",
      "5639/5639 [==============================] - 1s 141us/step - loss: 1962.9325 - mean_absolute_error: 40.3689 - acc: 0.0000e+00 - val_loss: 1983.7849 - val_mean_absolute_error: 40.6159 - val_acc: 0.0000e+00\n",
      "Epoch 55/500\n",
      "5639/5639 [==============================] - 1s 141us/step - loss: 1934.6821 - mean_absolute_error: 40.0320 - acc: 0.0000e+00 - val_loss: 1955.0504 - val_mean_absolute_error: 40.2756 - val_acc: 0.0000e+00\n",
      "Epoch 56/500\n",
      "5639/5639 [==============================] - 1s 141us/step - loss: 1906.1179 - mean_absolute_error: 39.6887 - acc: 0.0000e+00 - val_loss: 1926.0092 - val_mean_absolute_error: 39.9290 - val_acc: 0.0000e+00\n",
      "Epoch 57/500\n",
      "5639/5639 [==============================] - 1s 142us/step - loss: 1877.2667 - mean_absolute_error: 39.3392 - acc: 0.0000e+00 - val_loss: 1896.6914 - val_mean_absolute_error: 39.5763 - val_acc: 0.0000e+00\n",
      "Epoch 58/500\n",
      "5639/5639 [==============================] - 1s 139us/step - loss: 1848.1533 - mean_absolute_error: 38.9834 - acc: 0.0000e+00 - val_loss: 1867.1129 - val_mean_absolute_error: 39.2174 - val_acc: 0.0000e+00\n",
      "Epoch 59/500\n",
      "5639/5639 [==============================] - 1s 139us/step - loss: 1818.8013 - mean_absolute_error: 38.6217 - acc: 0.0000e+00 - val_loss: 1837.3118 - val_mean_absolute_error: 38.8527 - val_acc: 0.0000e+00\n",
      "Epoch 60/500\n",
      "5639/5639 [==============================] - 1s 137us/step - loss: 1789.2347 - mean_absolute_error: 38.2543 - acc: 0.0000e+00 - val_loss: 1807.3041 - val_mean_absolute_error: 38.4822 - val_acc: 0.0000e+00\n",
      "Epoch 61/500\n",
      "5639/5639 [==============================] - 1s 139us/step - loss: 1759.4758 - mean_absolute_error: 37.8810 - acc: 0.0000e+00 - val_loss: 1777.1075 - val_mean_absolute_error: 38.1061 - val_acc: 0.0000e+00\n",
      "Epoch 62/500\n",
      "5639/5639 [==============================] - 1s 139us/step - loss: 1729.5600 - mean_absolute_error: 37.5024 - acc: 0.0000e+00 - val_loss: 1746.7604 - val_mean_absolute_error: 37.7246 - val_acc: 0.0000e+00\n",
      "Epoch 63/500\n",
      "5639/5639 [==============================] - 1s 139us/step - loss: 1699.5007 - mean_absolute_error: 37.1184 - acc: 0.0000e+00 - val_loss: 1716.2798 - val_mean_absolute_error: 37.3379 - val_acc: 0.0000e+00\n",
      "Epoch 64/500\n",
      "5639/5639 [==============================] - 1s 140us/step - loss: 1669.3311 - mean_absolute_error: 36.7293 - acc: 0.0000e+00 - val_loss: 1685.7002 - val_mean_absolute_error: 36.9462 - val_acc: 0.0000e+00\n",
      "Epoch 65/500\n",
      "5639/5639 [==============================] - 1s 138us/step - loss: 1639.0638 - mean_absolute_error: 36.3351 - acc: 0.0000e+00 - val_loss: 1655.0162 - val_mean_absolute_error: 36.5493 - val_acc: 0.0000e+00\n",
      "Epoch 66/500\n",
      "5639/5639 [==============================] - 1s 142us/step - loss: 1608.7215 - mean_absolute_error: 35.9360 - acc: 0.0000e+00 - val_loss: 1624.2731 - val_mean_absolute_error: 36.1478 - val_acc: 0.0000e+00\n",
      "Epoch 67/500\n",
      "5639/5639 [==============================] - 1s 140us/step - loss: 1578.3329 - mean_absolute_error: 35.5323 - acc: 0.0000e+00 - val_loss: 1593.4978 - val_mean_absolute_error: 35.7418 - val_acc: 0.0000e+00\n",
      "Epoch 68/500\n",
      "5639/5639 [==============================] - 1s 143us/step - loss: 1547.9325 - mean_absolute_error: 35.1245 - acc: 0.0000e+00 - val_loss: 1562.7158 - val_mean_absolute_error: 35.3315 - val_acc: 0.0000e+00\n",
      "Epoch 69/500\n",
      "5639/5639 [==============================] - 1s 137us/step - loss: 1517.5241 - mean_absolute_error: 34.7119 - acc: 0.0000e+00 - val_loss: 1531.9250 - val_mean_absolute_error: 34.9168 - val_acc: 0.0000e+00\n",
      "Epoch 70/500\n",
      "5639/5639 [==============================] - 1s 141us/step - loss: 1487.1286 - mean_absolute_error: 34.2955 - acc: 0.0000e+00 - val_loss: 1501.1574 - val_mean_absolute_error: 34.4980 - val_acc: 0.0000e+00\n",
      "Epoch 71/500\n",
      "5639/5639 [==============================] - 1s 138us/step - loss: 1456.7566 - mean_absolute_error: 33.8746 - acc: 0.0000e+00 - val_loss: 1470.4121 - val_mean_absolute_error: 34.0750 - val_acc: 0.0000e+00\n",
      "Epoch 72/500\n",
      "5639/5639 [==============================] - 1s 140us/step - loss: 1426.4314 - mean_absolute_error: 33.4498 - acc: 0.0000e+00 - val_loss: 1439.7239 - val_mean_absolute_error: 33.6481 - val_acc: 0.0000e+00\n",
      "Epoch 73/500\n",
      "5639/5639 [==============================] - 1s 142us/step - loss: 1396.1768 - mean_absolute_error: 33.0212 - acc: 0.0000e+00 - val_loss: 1409.1156 - val_mean_absolute_error: 33.2175 - val_acc: 0.0000e+00\n",
      "Epoch 74/500\n"
     ]
    },
    {
     "name": "stdout",
     "output_type": "stream",
     "text": [
      "5639/5639 [==============================] - 1s 139us/step - loss: 1366.0086 - mean_absolute_error: 32.5891 - acc: 0.0000e+00 - val_loss: 1378.6007 - val_mean_absolute_error: 32.7834 - val_acc: 0.0000e+00\n",
      "Epoch 75/500\n",
      "5639/5639 [==============================] - 1s 138us/step - loss: 1335.9508 - mean_absolute_error: 32.1535 - acc: 0.0000e+00 - val_loss: 1348.1975 - val_mean_absolute_error: 32.3459 - val_acc: 0.0000e+00\n",
      "Epoch 76/500\n",
      "5639/5639 [==============================] - 1s 139us/step - loss: 1306.0189 - mean_absolute_error: 31.7148 - acc: 0.0000e+00 - val_loss: 1317.9423 - val_mean_absolute_error: 31.9055 - val_acc: 0.0000e+00\n",
      "Epoch 77/500\n",
      "5639/5639 [==============================] - 1s 139us/step - loss: 1276.2250 - mean_absolute_error: 31.2728 - acc: 0.0000e+00 - val_loss: 1287.8055 - val_mean_absolute_error: 31.4615 - val_acc: 0.0000e+00\n",
      "Epoch 78/500\n",
      "5639/5639 [==============================] - 1s 138us/step - loss: 1246.5950 - mean_absolute_error: 30.8280 - acc: 0.0000e+00 - val_loss: 1257.8565 - val_mean_absolute_error: 31.0150 - val_acc: 0.0000e+00\n",
      "Epoch 79/500\n",
      "5639/5639 [==============================] - 1s 139us/step - loss: 1217.1469 - mean_absolute_error: 30.3807 - acc: 0.0000e+00 - val_loss: 1228.0933 - val_mean_absolute_error: 30.5660 - val_acc: 0.0000e+00\n",
      "Epoch 80/500\n",
      "5639/5639 [==============================] - 1s 137us/step - loss: 1187.8866 - mean_absolute_error: 29.9305 - acc: 0.0000e+00 - val_loss: 1198.5090 - val_mean_absolute_error: 30.1140 - val_acc: 0.0000e+00\n",
      "Epoch 81/500\n",
      "5639/5639 [==============================] - 1s 138us/step - loss: 1158.8312 - mean_absolute_error: 29.4782 - acc: 0.0000e+00 - val_loss: 1169.1558 - val_mean_absolute_error: 29.6600 - val_acc: 0.0000e+00\n",
      "Epoch 82/500\n",
      "5639/5639 [==============================] - 1s 139us/step - loss: 1130.0079 - mean_absolute_error: 29.0238 - acc: 0.0000e+00 - val_loss: 1140.0337 - val_mean_absolute_error: 29.2038 - val_acc: 0.0000e+00\n",
      "Epoch 83/500\n",
      "5639/5639 [==============================] - 1s 141us/step - loss: 1101.4223 - mean_absolute_error: 28.5673 - acc: 0.0000e+00 - val_loss: 1111.1513 - val_mean_absolute_error: 28.7456 - val_acc: 0.0000e+00\n",
      "Epoch 84/500\n",
      "5639/5639 [==============================] - 1s 139us/step - loss: 1073.0832 - mean_absolute_error: 28.1089 - acc: 0.0000e+00 - val_loss: 1082.5163 - val_mean_absolute_error: 28.2852 - val_acc: 0.0000e+00\n",
      "Epoch 85/500\n",
      "5639/5639 [==============================] - 1s 138us/step - loss: 1045.0173 - mean_absolute_error: 27.6490 - acc: 0.0000e+00 - val_loss: 1054.1679 - val_mean_absolute_error: 27.8236 - val_acc: 0.0000e+00\n",
      "Epoch 86/500\n",
      "5639/5639 [==============================] - 1s 141us/step - loss: 1017.2295 - mean_absolute_error: 27.1877 - acc: 0.0000e+00 - val_loss: 1026.0950 - val_mean_absolute_error: 27.3603 - val_acc: 0.0000e+00\n",
      "Epoch 87/500\n",
      "5639/5639 [==============================] - 1s 141us/step - loss: 989.7284 - mean_absolute_error: 26.7251 - acc: 0.0000e+00 - val_loss: 998.3251 - val_mean_absolute_error: 26.8959 - val_acc: 0.0000e+00\n",
      "Epoch 88/500\n",
      "5639/5639 [==============================] - 1s 142us/step - loss: 962.5326 - mean_absolute_error: 26.2615 - acc: 0.0000e+00 - val_loss: 970.8529 - val_mean_absolute_error: 26.4301 - val_acc: 0.0000e+00\n",
      "Epoch 89/500\n",
      "5639/5639 [==============================] - 1s 142us/step - loss: 935.6615 - mean_absolute_error: 25.7975 - acc: 0.0000e+00 - val_loss: 943.7236 - val_mean_absolute_error: 25.9640 - val_acc: 0.0000e+00\n",
      "Epoch 90/500\n",
      "5639/5639 [==============================] - 1s 138us/step - loss: 909.1164 - mean_absolute_error: 25.3326 - acc: 0.0000e+00 - val_loss: 916.9119 - val_mean_absolute_error: 25.4966 - val_acc: 0.0000e+00\n",
      "Epoch 91/500\n",
      "5639/5639 [==============================] - 1s 138us/step - loss: 882.9029 - mean_absolute_error: 24.8676 - acc: 0.0000e+00 - val_loss: 890.4420 - val_mean_absolute_error: 25.0289 - val_acc: 0.0000e+00\n",
      "Epoch 92/500\n",
      "5639/5639 [==============================] - 1s 139us/step - loss: 857.0470 - mean_absolute_error: 24.4028 - acc: 0.0000e+00 - val_loss: 864.3409 - val_mean_absolute_error: 24.5612 - val_acc: 0.0000e+00\n",
      "Epoch 93/500\n",
      "5639/5639 [==============================] - 1s 145us/step - loss: 831.5608 - mean_absolute_error: 23.9383 - acc: 0.0000e+00 - val_loss: 838.6098 - val_mean_absolute_error: 24.0934 - val_acc: 0.0000e+00\n",
      "Epoch 94/500\n",
      "5639/5639 [==============================] - 1s 146us/step - loss: 806.4301 - mean_absolute_error: 23.4741 - acc: 0.0000e+00 - val_loss: 813.2294 - val_mean_absolute_error: 23.6254 - val_acc: 0.0000e+00\n",
      "Epoch 95/500\n",
      "5639/5639 [==============================] - 1s 148us/step - loss: 781.6793 - mean_absolute_error: 23.0104 - acc: 1.7734e-04 - val_loss: 788.2343 - val_mean_absolute_error: 23.1578 - val_acc: 0.0000e+00\n",
      "Epoch 96/500\n",
      "5639/5639 [==============================] - 1s 145us/step - loss: 757.3225 - mean_absolute_error: 22.5479 - acc: 1.7734e-04 - val_loss: 763.6479 - val_mean_absolute_error: 22.6911 - val_acc: 0.0000e+00\n",
      "Epoch 97/500\n",
      "5639/5639 [==============================] - 1s 147us/step - loss: 733.3575 - mean_absolute_error: 22.0867 - acc: 1.7734e-04 - val_loss: 739.4475 - val_mean_absolute_error: 22.2250 - val_acc: 0.0000e+00\n",
      "Epoch 98/500\n",
      "5639/5639 [==============================] - 1s 146us/step - loss: 709.7887 - mean_absolute_error: 21.6265 - acc: 1.7734e-04 - val_loss: 715.6424 - val_mean_absolute_error: 21.7596 - val_acc: 0.0000e+00\n",
      "Epoch 99/500\n",
      "5639/5639 [==============================] - 1s 147us/step - loss: 686.6289 - mean_absolute_error: 21.1682 - acc: 1.7734e-04 - val_loss: 692.2645 - val_mean_absolute_error: 21.2957 - val_acc: 0.0000e+00\n",
      "Epoch 100/500\n",
      "5639/5639 [==============================] - 1s 147us/step - loss: 663.8938 - mean_absolute_error: 20.7123 - acc: 1.7734e-04 - val_loss: 669.3050 - val_mean_absolute_error: 20.8335 - val_acc: 0.0000e+00\n",
      "Epoch 101/500\n",
      "5639/5639 [==============================] - 1s 148us/step - loss: 641.5768 - mean_absolute_error: 20.2585 - acc: 1.7734e-04 - val_loss: 646.7716 - val_mean_absolute_error: 20.3729 - val_acc: 0.0000e+00\n",
      "Epoch 102/500\n",
      "5639/5639 [==============================] - 1s 146us/step - loss: 619.6935 - mean_absolute_error: 19.8076 - acc: 1.7734e-04 - val_loss: 624.6837 - val_mean_absolute_error: 19.9146 - val_acc: 0.0000e+00\n",
      "Epoch 103/500\n",
      "5639/5639 [==============================] - 1s 145us/step - loss: 598.2458 - mean_absolute_error: 19.3595 - acc: 1.7734e-04 - val_loss: 603.0258 - val_mean_absolute_error: 19.4584 - val_acc: 0.0000e+00\n",
      "Epoch 104/500\n",
      "5639/5639 [==============================] - 1s 140us/step - loss: 577.2368 - mean_absolute_error: 18.9147 - acc: 1.7734e-04 - val_loss: 581.8112 - val_mean_absolute_error: 19.0074 - val_acc: 0.0000e+00\n",
      "Epoch 105/500\n",
      "5639/5639 [==============================] - 1s 140us/step - loss: 556.6722 - mean_absolute_error: 18.4777 - acc: 1.7734e-04 - val_loss: 561.0443 - val_mean_absolute_error: 18.5669 - val_acc: 0.0000e+00\n",
      "Epoch 106/500\n",
      "5639/5639 [==============================] - 1s 141us/step - loss: 536.5820 - mean_absolute_error: 18.0467 - acc: 1.7734e-04 - val_loss: 540.7601 - val_mean_absolute_error: 18.1294 - val_acc: 0.0000e+00\n",
      "Epoch 107/500\n",
      "5639/5639 [==============================] - 1s 139us/step - loss: 516.9090 - mean_absolute_error: 17.6185 - acc: 1.7734e-04 - val_loss: 520.8861 - val_mean_absolute_error: 17.6934 - val_acc: 0.0000e+00\n",
      "Epoch 108/500\n",
      "5639/5639 [==============================] - 1s 140us/step - loss: 497.6889 - mean_absolute_error: 17.1939 - acc: 1.7734e-04 - val_loss: 501.4635 - val_mean_absolute_error: 17.2599 - val_acc: 0.0000e+00\n",
      "Epoch 109/500\n",
      "5639/5639 [==============================] - 1s 142us/step - loss: 478.9135 - mean_absolute_error: 16.7737 - acc: 1.7734e-04 - val_loss: 482.5034 - val_mean_absolute_error: 16.8299 - val_acc: 0.0000e+00\n",
      "Epoch 110/500\n",
      "5376/5639 [===========================>..] - ETA: 0s - loss: 461.1711 - mean_absolute_error: 16.3704 - acc: 1.8601e-04"
     ]
    }
   ],
   "source": [
    "model.fit(X_train,y_train,epochs = 500,batch_size = 128,validation_split = 0.2)"
   ]
  },
  {
   "cell_type": "markdown",
   "metadata": {
    "_uuid": "cf7e21d1b2e1282636b8bca23d1297ec43642179"
   },
   "source": [
    "Now lets prepare our testing data"
   ]
  },
  {
   "cell_type": "code",
   "execution_count": null,
   "metadata": {
    "_uuid": "587e6f2a158cccc7b8de4df99885c9878c6a5683",
    "collapsed": true
   },
   "outputs": [],
   "source": [
    "#preparing test data\n",
    "timag = []\n",
    "for i in range(0,1783):\n",
    "    timg = test_data['Image'][i].split(' ')\n",
    "    timg = ['0' if x == '' else x for x in timg]\n",
    "    \n",
    "    timag.append(timg)"
   ]
  },
  {
   "cell_type": "markdown",
   "metadata": {
    "_uuid": "88db8ebf9a5e18eb120ed1808ec361ff53bdc7be"
   },
   "source": [
    "Reshaping and converting "
   ]
  },
  {
   "cell_type": "code",
   "execution_count": null,
   "metadata": {
    "_uuid": "1203ed3b00d70e52de0ac457facfb774a11f5816",
    "collapsed": true
   },
   "outputs": [],
   "source": [
    "timage_list = np.array(timag,dtype = 'float')\n",
    "X_test = timage_list.reshape(-1,96,96)"
   ]
  },
  {
   "cell_type": "markdown",
   "metadata": {
    "_uuid": "d6733e0e2d3fa1384f84bdfaa143b6278e07e736"
   },
   "source": [
    "Lets see first image in out test data"
   ]
  },
  {
   "cell_type": "code",
   "execution_count": null,
   "metadata": {
    "_uuid": "bd3f2367733d37be74f26a8a53a8b33808eaf64b"
   },
   "outputs": [],
   "source": [
    "plt.imshow(X_test[0])\n",
    "plt.show()"
   ]
  },
  {
   "cell_type": "markdown",
   "metadata": {
    "_uuid": "c41bd777b9055ed782a475d88f9e7c0ac7d12a2b"
   },
   "source": [
    "Lets predict our results"
   ]
  },
  {
   "cell_type": "code",
   "execution_count": null,
   "metadata": {
    "_uuid": "ecaf24956f805de32614c5476528102bdf56b329",
    "collapsed": true
   },
   "outputs": [],
   "source": [
    "pred = model.predict(X_test)"
   ]
  },
  {
   "cell_type": "markdown",
   "metadata": {
    "_uuid": "a64f6787a940d21dfa976511f8880254bf14a8ab"
   },
   "source": [
    "Now the last step is the create our submission file keeping in the mind required format.\n",
    "There should be two columns :- RowId and Location\n",
    "Location column values should be filled according the lookup table provided ( IdLookupTable.csv)\n"
   ]
  },
  {
   "cell_type": "code",
   "execution_count": null,
   "metadata": {
    "_uuid": "fff11927e693209f8f8d5029dffc74a53e1e8821",
    "collapsed": true
   },
   "outputs": [],
   "source": [
    "lookid_list = list(lookid_data['FeatureName'])\n",
    "imageID = list(lookid_data['ImageId']-1)\n",
    "pre_list = list(pred)"
   ]
  },
  {
   "cell_type": "code",
   "execution_count": null,
   "metadata": {
    "_uuid": "3d3c36d9375d4b81b4dd33cd1cc645f17b32023b",
    "collapsed": true
   },
   "outputs": [],
   "source": [
    "rowid = lookid_data['RowId']\n",
    "rowid=list(rowid)"
   ]
  },
  {
   "cell_type": "code",
   "execution_count": null,
   "metadata": {
    "_uuid": "de4123ef594738b0e23b485ba165f9ddc03b01de",
    "collapsed": true
   },
   "outputs": [],
   "source": [
    "feature = []\n",
    "for f in list(lookid_data['FeatureName']):\n",
    "    feature.append(lookid_list.index(f))"
   ]
  },
  {
   "cell_type": "code",
   "execution_count": null,
   "metadata": {
    "_uuid": "ae81c7411bedde81afbc315fbabaaf9f3223cff5",
    "collapsed": true
   },
   "outputs": [],
   "source": [
    "preded = []\n",
    "for x,y in zip(imageID,feature):\n",
    "    preded.append(pre_list[x][y])"
   ]
  },
  {
   "cell_type": "code",
   "execution_count": null,
   "metadata": {
    "_uuid": "a1949844f3012f5944a2159eeb8547d5b9434b4f",
    "collapsed": true
   },
   "outputs": [],
   "source": [
    "rowid = pd.Series(rowid,name = 'RowId')"
   ]
  },
  {
   "cell_type": "code",
   "execution_count": null,
   "metadata": {
    "_uuid": "bdc486586f354720bab48c2bbdb92287066cd977",
    "collapsed": true
   },
   "outputs": [],
   "source": [
    "loc = pd.Series(preded,name = 'Location')"
   ]
  },
  {
   "cell_type": "code",
   "execution_count": null,
   "metadata": {
    "_uuid": "fb144e2fa32cad9a8b334a7730a75bfed8c7ac0f",
    "collapsed": true
   },
   "outputs": [],
   "source": [
    "submission = pd.concat([rowid,loc],axis = 1)"
   ]
  },
  {
   "cell_type": "code",
   "execution_count": null,
   "metadata": {
    "_uuid": "dc121456dbdb88e49605b255492262a77cc2ff75",
    "collapsed": true
   },
   "outputs": [],
   "source": [
    "submission.to_csv('face_key_detection_submission.csv',index = False)"
   ]
  },
  {
   "cell_type": "code",
   "execution_count": null,
   "metadata": {
    "collapsed": true
   },
   "outputs": [],
   "source": [
    "submission"
   ]
  }
 ],
 "metadata": {
  "kernelspec": {
   "display_name": "python36",
   "language": "python",
   "name": "python36"
  },
  "language_info": {
   "codemirror_mode": {
    "name": "ipython",
    "version": 3
   },
   "file_extension": ".py",
   "mimetype": "text/x-python",
   "name": "python",
   "nbconvert_exporter": "python",
   "pygments_lexer": "ipython3",
   "version": "3.6.2"
  }
 },
 "nbformat": 4,
 "nbformat_minor": 1
}

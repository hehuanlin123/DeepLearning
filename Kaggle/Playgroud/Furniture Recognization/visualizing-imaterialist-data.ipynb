{
 "cells": [
  {
   "cell_type": "markdown",
   "metadata": {
    "_cell_guid": "6e2a83f1-1135-4a27-a882-208565dc4d5a",
    "_uuid": "ff0ce783883f9f94bf875f52b9e22c7c166964a3"
   },
   "source": [
    "$$\n",
    "\\huge\\text{Visualizing iMaterialist Data}\\\\\n",
    "\\large\\text{March 2018}\\\\\n",
    "\\text{Andrew Riberio @ https://github.com/Andrewnetwork}\n",
    "$$\n",
    "<img width=\"700\" height=\"300\" src=\"https://i.imgur.com/HcJJmzj.jpg\" />\n",
    "In this notebook we will visualize data from the Kaggle challenge *iMaterialist Challenge (Furniture) at FGVC5*. \n",
    "\n",
    "**NOTE**: In order for the interactive componnents of this kernel to function, you must either fork this kernel or download it to your local machine which has the required environment and dependencies. The simplest method is to fork the kernel here on kaggle. "
   ]
  },
  {
   "cell_type": "code",
   "execution_count": 1,
   "metadata": {
    "_cell_guid": "b1076dfc-b9ad-4769-8c92-a6c4dae69d19",
    "_uuid": "8f2839f25d086af736a60e9eeb907d3b93b6e0e5",
    "collapsed": true
   },
   "outputs": [],
   "source": [
    "import numpy as np # linear algebra\n",
    "import pandas as pd # data processing, CSV file I/O (e.g. pd.read_csv)\n",
    "import json\n",
    "\n",
    "# Libraries for displying the data. \n",
    "from IPython.core.display import HTML \n",
    "from ipywidgets import interact\n",
    "from IPython.display import display\n",
    "\n",
    "%matplotlib inline"
   ]
  },
  {
   "cell_type": "markdown",
   "metadata": {
    "_cell_guid": "cd64708b-676c-42f9-b2b3-3320d2188bc8",
    "_uuid": "f8f02f2ae9cde02c0984b4bb8f0e761aad86cad9"
   },
   "source": [
    "## Loading the data"
   ]
  },
  {
   "cell_type": "markdown",
   "metadata": {
    "_cell_guid": "b34b41d1-68bd-4fea-8df2-77380c60de8a",
    "_uuid": "774c9aed4ee371c6ed894746c10526309b3c50e2"
   },
   "source": [
    "We use the json library to load the data into python dictionary objects. "
   ]
  },
  {
   "cell_type": "code",
   "execution_count": 2,
   "metadata": {
    "_cell_guid": "70d557fa-26b6-48bf-8180-05765462d923",
    "_uuid": "26814b04f6ce0d4102ebce5afa35f5d2b812cdea",
    "collapsed": true
   },
   "outputs": [],
   "source": [
    "training   = json.load(open(\"/Users/szkfzx/datasets/imaterialist-challenge-furniture-2018/train.json\"))\n",
    "test       = json.load(open(\"/Users/szkfzx/datasets/imaterialist-challenge-furniture-2018/test.json\"))\n",
    "validation = json.load(open(\"/Users/szkfzx/datasets/imaterialist-challenge-furniture-2018/validation.json\"))"
   ]
  },
  {
   "cell_type": "markdown",
   "metadata": {
    "_cell_guid": "d4e39d34-3822-4786-8fb1-0c55c9c2d306",
    "_uuid": "2b8ebc673ac50a37c908fea52cb8743a37c17a15"
   },
   "source": [
    "We itterate over the json dictionaries loaded in above and produce a pandas dataframe for the training, validation, and test data. "
   ]
  },
  {
   "cell_type": "code",
   "execution_count": 3,
   "metadata": {
    "_cell_guid": "54fe508c-3a0f-41c8-9329-04e589e9356c",
    "_uuid": "adcb3a16fc5ba3c3b1de97ede24f4617e9d8f67f",
    "collapsed": true
   },
   "outputs": [],
   "source": [
    "# A function to be mapped over the json dictionary. \n",
    "def joinFn(dat):\n",
    "    return [dat[0][\"url\"][0], dat[1][\"label_id\"]]\n",
    "\n",
    "trainingDF   = pd.DataFrame(list(map(joinFn, zip(training[\"images\"],training[\"annotations\"]))),columns=[\"url\",\"label\"])\n",
    "validationDF = pd.DataFrame(list(map(joinFn, zip(validation[\"images\"],validation[\"annotations\"]))),columns=[\"url\",\"label\"])\n",
    "testDF       = pd.DataFrame(list(map(lambda x: x[\"url\"],test[\"images\"])),columns=[\"url\"])"
   ]
  },
  {
   "cell_type": "code",
   "execution_count": 4,
   "metadata": {
    "_cell_guid": "53d85726-bb87-4822-bcc9-139eba91fc95",
    "_uuid": "dff1cabc2f0f741ffebb38ee8b4d08bca15d354c"
   },
   "outputs": [
    {
     "data": {
      "text/html": [
       "<div>\n",
       "<style scoped>\n",
       "    .dataframe tbody tr th:only-of-type {\n",
       "        vertical-align: middle;\n",
       "    }\n",
       "\n",
       "    .dataframe tbody tr th {\n",
       "        vertical-align: top;\n",
       "    }\n",
       "\n",
       "    .dataframe thead th {\n",
       "        text-align: right;\n",
       "    }\n",
       "</style>\n",
       "<table border=\"1\" class=\"dataframe\">\n",
       "  <thead>\n",
       "    <tr style=\"text-align: right;\">\n",
       "      <th></th>\n",
       "      <th>url</th>\n",
       "      <th>label</th>\n",
       "    </tr>\n",
       "  </thead>\n",
       "  <tbody>\n",
       "    <tr>\n",
       "      <th>0</th>\n",
       "      <td>https://img13.360buyimg.com/imgzone/jfs/t2857/...</td>\n",
       "      <td>5</td>\n",
       "    </tr>\n",
       "    <tr>\n",
       "      <th>1</th>\n",
       "      <td>http://www.tengdakeli.cn/350/timg01/uploaded/i...</td>\n",
       "      <td>5</td>\n",
       "    </tr>\n",
       "    <tr>\n",
       "      <th>2</th>\n",
       "      <td>https://img13.360buyimg.com/imgzone/jfs/t8899/...</td>\n",
       "      <td>5</td>\n",
       "    </tr>\n",
       "    <tr>\n",
       "      <th>3</th>\n",
       "      <td>http://img4.tbcdn.cn/tfscom/i1/2855447419/TB2S...</td>\n",
       "      <td>5</td>\n",
       "    </tr>\n",
       "    <tr>\n",
       "      <th>4</th>\n",
       "      <td>http://a.vpimg4.com/upload/merchandise/287883/...</td>\n",
       "      <td>5</td>\n",
       "    </tr>\n",
       "    <tr>\n",
       "      <th>5</th>\n",
       "      <td>https://img.alicdn.com/imgextra/TB1HoBuHFXXXXX...</td>\n",
       "      <td>5</td>\n",
       "    </tr>\n",
       "    <tr>\n",
       "      <th>6</th>\n",
       "      <td>http://image.it168.com/n/640x480/6/6016/601653...</td>\n",
       "      <td>5</td>\n",
       "    </tr>\n",
       "    <tr>\n",
       "      <th>7</th>\n",
       "      <td>http://m.360buyimg.com/n12/jfs/t2161/78/174772...</td>\n",
       "      <td>5</td>\n",
       "    </tr>\n",
       "    <tr>\n",
       "      <th>8</th>\n",
       "      <td>http://dimg.cnlist.org/image/upload/68/3f/c1/9...</td>\n",
       "      <td>5</td>\n",
       "    </tr>\n",
       "    <tr>\n",
       "      <th>9</th>\n",
       "      <td>http://bpic.588ku.com/element_pic/17/11/10/75e...</td>\n",
       "      <td>5</td>\n",
       "    </tr>\n",
       "    <tr>\n",
       "      <th>10</th>\n",
       "      <td>https://img12.360buyimg.com/imgzone/jfs/t4084/...</td>\n",
       "      <td>5</td>\n",
       "    </tr>\n",
       "    <tr>\n",
       "      <th>11</th>\n",
       "      <td>http://d8.yihaodianimg.com/N10/M09/35/A3/ChEi2...</td>\n",
       "      <td>5</td>\n",
       "    </tr>\n",
       "    <tr>\n",
       "      <th>12</th>\n",
       "      <td>http://m.360buyimg.com/n12/jfs/t1603/53/104012...</td>\n",
       "      <td>5</td>\n",
       "    </tr>\n",
       "    <tr>\n",
       "      <th>13</th>\n",
       "      <td>https://img.alicdn.com/imgextra/TB2Fl3nbv6H8KJ...</td>\n",
       "      <td>5</td>\n",
       "    </tr>\n",
       "    <tr>\n",
       "      <th>14</th>\n",
       "      <td>https://img13.360buyimg.com/imgzone/jfs/t6040/...</td>\n",
       "      <td>5</td>\n",
       "    </tr>\n",
       "    <tr>\n",
       "      <th>15</th>\n",
       "      <td>https://img14.360buyimg.com/imgzone/jfs/t2977/...</td>\n",
       "      <td>5</td>\n",
       "    </tr>\n",
       "    <tr>\n",
       "      <th>16</th>\n",
       "      <td>http://img10.360buyimg.com/n1/jfs/t310/302/152...</td>\n",
       "      <td>5</td>\n",
       "    </tr>\n",
       "    <tr>\n",
       "      <th>17</th>\n",
       "      <td>https://img.alicdn.com/imgextra/TB2_XBfq.dnpuF...</td>\n",
       "      <td>5</td>\n",
       "    </tr>\n",
       "    <tr>\n",
       "      <th>18</th>\n",
       "      <td>http://www.szthks.com/localimg/687474703a2f2f6...</td>\n",
       "      <td>5</td>\n",
       "    </tr>\n",
       "    <tr>\n",
       "      <th>19</th>\n",
       "      <td>http://m.360buyimg.com/n12/jfs/t2101/214/71560...</td>\n",
       "      <td>5</td>\n",
       "    </tr>\n",
       "    <tr>\n",
       "      <th>20</th>\n",
       "      <td>https://img12.360buyimg.com/imgzone/jfs/t11368...</td>\n",
       "      <td>5</td>\n",
       "    </tr>\n",
       "    <tr>\n",
       "      <th>21</th>\n",
       "      <td>https://img.alicdn.com/imgextra/TB2YmWcdmhlpuF...</td>\n",
       "      <td>5</td>\n",
       "    </tr>\n",
       "    <tr>\n",
       "      <th>22</th>\n",
       "      <td>https://img11.360buyimg.com/imgzone/jfs/t4060/...</td>\n",
       "      <td>5</td>\n",
       "    </tr>\n",
       "    <tr>\n",
       "      <th>23</th>\n",
       "      <td>http://m.360buyimg.com/n12/jfs/t2353/228/55242...</td>\n",
       "      <td>5</td>\n",
       "    </tr>\n",
       "    <tr>\n",
       "      <th>24</th>\n",
       "      <td>http://img.alicdn.com/imgextra/i4/2924705071/T...</td>\n",
       "      <td>5</td>\n",
       "    </tr>\n",
       "    <tr>\n",
       "      <th>25</th>\n",
       "      <td>https://img13.360buyimg.com/imgzone/jfs/t769/4...</td>\n",
       "      <td>5</td>\n",
       "    </tr>\n",
       "    <tr>\n",
       "      <th>26</th>\n",
       "      <td>https://img.yzcdn.cn/upload_files/2017/07/10/1...</td>\n",
       "      <td>5</td>\n",
       "    </tr>\n",
       "    <tr>\n",
       "      <th>27</th>\n",
       "      <td>http://img009.hc360.cn/y5/M03/28/2C/wKhQUVXVFo...</td>\n",
       "      <td>5</td>\n",
       "    </tr>\n",
       "    <tr>\n",
       "      <th>28</th>\n",
       "      <td>https://img.alicdn.com/imgextra/TB2jBsGsbplpuF...</td>\n",
       "      <td>5</td>\n",
       "    </tr>\n",
       "    <tr>\n",
       "      <th>29</th>\n",
       "      <td>https://img.alicdn.com/imgextra/T1mFkHFiReXXXX...</td>\n",
       "      <td>5</td>\n",
       "    </tr>\n",
       "    <tr>\n",
       "      <th>...</th>\n",
       "      <td>...</td>\n",
       "      <td>...</td>\n",
       "    </tr>\n",
       "    <tr>\n",
       "      <th>194798</th>\n",
       "      <td>https://img3.momoshop.com.tw/goodsimg/0002/345...</td>\n",
       "      <td>72</td>\n",
       "    </tr>\n",
       "    <tr>\n",
       "      <th>194799</th>\n",
       "      <td>http://img005.hc360.cn/hb/MTQ1ODc4NzA5MTYyNS01...</td>\n",
       "      <td>72</td>\n",
       "    </tr>\n",
       "    <tr>\n",
       "      <th>194800</th>\n",
       "      <td>http://www.tradeduck.com/uploads/20438_1091244...</td>\n",
       "      <td>72</td>\n",
       "    </tr>\n",
       "    <tr>\n",
       "      <th>194801</th>\n",
       "      <td>http://img.zcool.cn/community/01168d59892002a8...</td>\n",
       "      <td>72</td>\n",
       "    </tr>\n",
       "    <tr>\n",
       "      <th>194802</th>\n",
       "      <td>https://img.alicdn.com/imgextra/TB2LE3GndFopuF...</td>\n",
       "      <td>72</td>\n",
       "    </tr>\n",
       "    <tr>\n",
       "      <th>194803</th>\n",
       "      <td>https://img14.360buyimg.com/imgzone/jfs/t5914/...</td>\n",
       "      <td>72</td>\n",
       "    </tr>\n",
       "    <tr>\n",
       "      <th>194804</th>\n",
       "      <td>https://img11.360buyimg.com/imgzone/jfs/t5980/...</td>\n",
       "      <td>72</td>\n",
       "    </tr>\n",
       "    <tr>\n",
       "      <th>194805</th>\n",
       "      <td>http://images.51bi.com/opt/siteimg/p/20141103/...</td>\n",
       "      <td>72</td>\n",
       "    </tr>\n",
       "    <tr>\n",
       "      <th>194806</th>\n",
       "      <td>http://img30.360buyimg.com/shaidan/s720x540_jf...</td>\n",
       "      <td>72</td>\n",
       "    </tr>\n",
       "    <tr>\n",
       "      <th>194807</th>\n",
       "      <td>https://img12.360buyimg.com/imgzone/jfs/t4480/...</td>\n",
       "      <td>72</td>\n",
       "    </tr>\n",
       "    <tr>\n",
       "      <th>194808</th>\n",
       "      <td>http://image10.71.net/image10/95/62/66/48/bdd4...</td>\n",
       "      <td>72</td>\n",
       "    </tr>\n",
       "    <tr>\n",
       "      <th>194809</th>\n",
       "      <td>https://img.alicdn.com/imgextra/TB2XpDxX9OFJuJ...</td>\n",
       "      <td>72</td>\n",
       "    </tr>\n",
       "    <tr>\n",
       "      <th>194810</th>\n",
       "      <td>https://img.alicdn.com/imgextra/TB2evknnVXXXXa...</td>\n",
       "      <td>72</td>\n",
       "    </tr>\n",
       "    <tr>\n",
       "      <th>194811</th>\n",
       "      <td>http://img.jf.cmbchina.com/images/CM/P430/A02-...</td>\n",
       "      <td>72</td>\n",
       "    </tr>\n",
       "    <tr>\n",
       "      <th>194812</th>\n",
       "      <td>http://a.ecimg.tw/items/DEAG3LA57637826/000001...</td>\n",
       "      <td>72</td>\n",
       "    </tr>\n",
       "    <tr>\n",
       "      <th>194813</th>\n",
       "      <td>https://img.alicdn.com/imgextra/TB2vZmMkb_0UKF...</td>\n",
       "      <td>72</td>\n",
       "    </tr>\n",
       "    <tr>\n",
       "      <th>194814</th>\n",
       "      <td>https://img14.360buyimg.com/imgzone/jfs/t15322...</td>\n",
       "      <td>72</td>\n",
       "    </tr>\n",
       "    <tr>\n",
       "      <th>194815</th>\n",
       "      <td>https://img.alicdn.com/imgextra/TB2VLWFX.hnpuF...</td>\n",
       "      <td>72</td>\n",
       "    </tr>\n",
       "    <tr>\n",
       "      <th>194816</th>\n",
       "      <td>https://img.alicdn.com/imgextra/TB2yI1LhC_I8KJ...</td>\n",
       "      <td>72</td>\n",
       "    </tr>\n",
       "    <tr>\n",
       "      <th>194817</th>\n",
       "      <td>https://img10.360buyimg.com/imgzone/jfs/t16297...</td>\n",
       "      <td>72</td>\n",
       "    </tr>\n",
       "    <tr>\n",
       "      <th>194818</th>\n",
       "      <td>https://img11.360buyimg.com/imgzone/jfs/t7321/...</td>\n",
       "      <td>72</td>\n",
       "    </tr>\n",
       "    <tr>\n",
       "      <th>194819</th>\n",
       "      <td>https://img12.360buyimg.com/imgzone/jfs/t5269/...</td>\n",
       "      <td>72</td>\n",
       "    </tr>\n",
       "    <tr>\n",
       "      <th>194820</th>\n",
       "      <td>https://img.alicdn.com/imgextra/TB29Wdgbo3iyKJ...</td>\n",
       "      <td>72</td>\n",
       "    </tr>\n",
       "    <tr>\n",
       "      <th>194821</th>\n",
       "      <td>https://img.alicdn.com/imgextra/TB29ibBbrYI8KJ...</td>\n",
       "      <td>72</td>\n",
       "    </tr>\n",
       "    <tr>\n",
       "      <th>194822</th>\n",
       "      <td>https://img10.360buyimg.com/imgzone/jfs/t3115/...</td>\n",
       "      <td>72</td>\n",
       "    </tr>\n",
       "    <tr>\n",
       "      <th>194823</th>\n",
       "      <td>http://img005.hc360.cn/y3/M02/29/C4/wKhQh1U17v...</td>\n",
       "      <td>72</td>\n",
       "    </tr>\n",
       "    <tr>\n",
       "      <th>194824</th>\n",
       "      <td>http://d6.yihaodianimg.com/N03/M0A/E4/1E/CgQCs...</td>\n",
       "      <td>72</td>\n",
       "    </tr>\n",
       "    <tr>\n",
       "      <th>194825</th>\n",
       "      <td>https://img.alicdn.com/imgextra/TB2SKxpcpXXXXb...</td>\n",
       "      <td>72</td>\n",
       "    </tr>\n",
       "    <tr>\n",
       "      <th>194826</th>\n",
       "      <td>http://www.liyangtuopan.com/images/TB1nW32HpXX...</td>\n",
       "      <td>72</td>\n",
       "    </tr>\n",
       "    <tr>\n",
       "      <th>194827</th>\n",
       "      <td>https://img12.360buyimg.com/imgzone/jfs/t7345/...</td>\n",
       "      <td>72</td>\n",
       "    </tr>\n",
       "  </tbody>\n",
       "</table>\n",
       "<p>194828 rows × 2 columns</p>\n",
       "</div>"
      ],
      "text/plain": [
       "                                                      url  label\n",
       "0       https://img13.360buyimg.com/imgzone/jfs/t2857/...      5\n",
       "1       http://www.tengdakeli.cn/350/timg01/uploaded/i...      5\n",
       "2       https://img13.360buyimg.com/imgzone/jfs/t8899/...      5\n",
       "3       http://img4.tbcdn.cn/tfscom/i1/2855447419/TB2S...      5\n",
       "4       http://a.vpimg4.com/upload/merchandise/287883/...      5\n",
       "5       https://img.alicdn.com/imgextra/TB1HoBuHFXXXXX...      5\n",
       "6       http://image.it168.com/n/640x480/6/6016/601653...      5\n",
       "7       http://m.360buyimg.com/n12/jfs/t2161/78/174772...      5\n",
       "8       http://dimg.cnlist.org/image/upload/68/3f/c1/9...      5\n",
       "9       http://bpic.588ku.com/element_pic/17/11/10/75e...      5\n",
       "10      https://img12.360buyimg.com/imgzone/jfs/t4084/...      5\n",
       "11      http://d8.yihaodianimg.com/N10/M09/35/A3/ChEi2...      5\n",
       "12      http://m.360buyimg.com/n12/jfs/t1603/53/104012...      5\n",
       "13      https://img.alicdn.com/imgextra/TB2Fl3nbv6H8KJ...      5\n",
       "14      https://img13.360buyimg.com/imgzone/jfs/t6040/...      5\n",
       "15      https://img14.360buyimg.com/imgzone/jfs/t2977/...      5\n",
       "16      http://img10.360buyimg.com/n1/jfs/t310/302/152...      5\n",
       "17      https://img.alicdn.com/imgextra/TB2_XBfq.dnpuF...      5\n",
       "18      http://www.szthks.com/localimg/687474703a2f2f6...      5\n",
       "19      http://m.360buyimg.com/n12/jfs/t2101/214/71560...      5\n",
       "20      https://img12.360buyimg.com/imgzone/jfs/t11368...      5\n",
       "21      https://img.alicdn.com/imgextra/TB2YmWcdmhlpuF...      5\n",
       "22      https://img11.360buyimg.com/imgzone/jfs/t4060/...      5\n",
       "23      http://m.360buyimg.com/n12/jfs/t2353/228/55242...      5\n",
       "24      http://img.alicdn.com/imgextra/i4/2924705071/T...      5\n",
       "25      https://img13.360buyimg.com/imgzone/jfs/t769/4...      5\n",
       "26      https://img.yzcdn.cn/upload_files/2017/07/10/1...      5\n",
       "27      http://img009.hc360.cn/y5/M03/28/2C/wKhQUVXVFo...      5\n",
       "28      https://img.alicdn.com/imgextra/TB2jBsGsbplpuF...      5\n",
       "29      https://img.alicdn.com/imgextra/T1mFkHFiReXXXX...      5\n",
       "...                                                   ...    ...\n",
       "194798  https://img3.momoshop.com.tw/goodsimg/0002/345...     72\n",
       "194799  http://img005.hc360.cn/hb/MTQ1ODc4NzA5MTYyNS01...     72\n",
       "194800  http://www.tradeduck.com/uploads/20438_1091244...     72\n",
       "194801  http://img.zcool.cn/community/01168d59892002a8...     72\n",
       "194802  https://img.alicdn.com/imgextra/TB2LE3GndFopuF...     72\n",
       "194803  https://img14.360buyimg.com/imgzone/jfs/t5914/...     72\n",
       "194804  https://img11.360buyimg.com/imgzone/jfs/t5980/...     72\n",
       "194805  http://images.51bi.com/opt/siteimg/p/20141103/...     72\n",
       "194806  http://img30.360buyimg.com/shaidan/s720x540_jf...     72\n",
       "194807  https://img12.360buyimg.com/imgzone/jfs/t4480/...     72\n",
       "194808  http://image10.71.net/image10/95/62/66/48/bdd4...     72\n",
       "194809  https://img.alicdn.com/imgextra/TB2XpDxX9OFJuJ...     72\n",
       "194810  https://img.alicdn.com/imgextra/TB2evknnVXXXXa...     72\n",
       "194811  http://img.jf.cmbchina.com/images/CM/P430/A02-...     72\n",
       "194812  http://a.ecimg.tw/items/DEAG3LA57637826/000001...     72\n",
       "194813  https://img.alicdn.com/imgextra/TB2vZmMkb_0UKF...     72\n",
       "194814  https://img14.360buyimg.com/imgzone/jfs/t15322...     72\n",
       "194815  https://img.alicdn.com/imgextra/TB2VLWFX.hnpuF...     72\n",
       "194816  https://img.alicdn.com/imgextra/TB2yI1LhC_I8KJ...     72\n",
       "194817  https://img10.360buyimg.com/imgzone/jfs/t16297...     72\n",
       "194818  https://img11.360buyimg.com/imgzone/jfs/t7321/...     72\n",
       "194819  https://img12.360buyimg.com/imgzone/jfs/t5269/...     72\n",
       "194820  https://img.alicdn.com/imgextra/TB29Wdgbo3iyKJ...     72\n",
       "194821  https://img.alicdn.com/imgextra/TB29ibBbrYI8KJ...     72\n",
       "194822  https://img10.360buyimg.com/imgzone/jfs/t3115/...     72\n",
       "194823  http://img005.hc360.cn/y3/M02/29/C4/wKhQh1U17v...     72\n",
       "194824  http://d6.yihaodianimg.com/N03/M0A/E4/1E/CgQCs...     72\n",
       "194825  https://img.alicdn.com/imgextra/TB2SKxpcpXXXXb...     72\n",
       "194826  http://www.liyangtuopan.com/images/TB1nW32HpXX...     72\n",
       "194827  https://img12.360buyimg.com/imgzone/jfs/t7345/...     72\n",
       "\n",
       "[194828 rows x 2 columns]"
      ]
     },
     "execution_count": 4,
     "metadata": {},
     "output_type": "execute_result"
    }
   ],
   "source": [
    "trainingDF"
   ]
  },
  {
   "cell_type": "code",
   "execution_count": 5,
   "metadata": {
    "_uuid": "d8f365089dcf3bed5c00594bb09693002c77ed36"
   },
   "outputs": [
    {
     "data": {
      "text/html": [
       "<div>\n",
       "<style scoped>\n",
       "    .dataframe tbody tr th:only-of-type {\n",
       "        vertical-align: middle;\n",
       "    }\n",
       "\n",
       "    .dataframe tbody tr th {\n",
       "        vertical-align: top;\n",
       "    }\n",
       "\n",
       "    .dataframe thead th {\n",
       "        text-align: right;\n",
       "    }\n",
       "</style>\n",
       "<table border=\"1\" class=\"dataframe\">\n",
       "  <thead>\n",
       "    <tr style=\"text-align: right;\">\n",
       "      <th></th>\n",
       "      <th>url</th>\n",
       "      <th>label</th>\n",
       "    </tr>\n",
       "  </thead>\n",
       "  <tbody>\n",
       "    <tr>\n",
       "      <th>0</th>\n",
       "      <td>http://www.ghs.net/public/images/fb/3d/51/3beb...</td>\n",
       "      <td>38</td>\n",
       "    </tr>\n",
       "    <tr>\n",
       "      <th>1</th>\n",
       "      <td>https://img.alicdn.com/imgextra/TB2chFei9YH8KJ...</td>\n",
       "      <td>63</td>\n",
       "    </tr>\n",
       "    <tr>\n",
       "      <th>2</th>\n",
       "      <td>http://static-news.17house.com/web/news/201602...</td>\n",
       "      <td>33</td>\n",
       "    </tr>\n",
       "    <tr>\n",
       "      <th>3</th>\n",
       "      <td>http://img000.hc360.cn/g6/M07/CB/88/wKhQsFNNVJ...</td>\n",
       "      <td>126</td>\n",
       "    </tr>\n",
       "    <tr>\n",
       "      <th>4</th>\n",
       "      <td>https://img.alicdn.com/imgextra/T1sLtpFH8aXXXX...</td>\n",
       "      <td>18</td>\n",
       "    </tr>\n",
       "  </tbody>\n",
       "</table>\n",
       "</div>"
      ],
      "text/plain": [
       "                                                 url  label\n",
       "0  http://www.ghs.net/public/images/fb/3d/51/3beb...     38\n",
       "1  https://img.alicdn.com/imgextra/TB2chFei9YH8KJ...     63\n",
       "2  http://static-news.17house.com/web/news/201602...     33\n",
       "3  http://img000.hc360.cn/g6/M07/CB/88/wKhQsFNNVJ...    126\n",
       "4  https://img.alicdn.com/imgextra/T1sLtpFH8aXXXX...     18"
      ]
     },
     "execution_count": 5,
     "metadata": {},
     "output_type": "execute_result"
    }
   ],
   "source": [
    "validationDF.head()"
   ]
  },
  {
   "cell_type": "code",
   "execution_count": 6,
   "metadata": {
    "_uuid": "5d9c01ca0d6a9ec87aa63688c731fc42260b307e"
   },
   "outputs": [
    {
     "data": {
      "text/html": [
       "<div>\n",
       "<style scoped>\n",
       "    .dataframe tbody tr th:only-of-type {\n",
       "        vertical-align: middle;\n",
       "    }\n",
       "\n",
       "    .dataframe tbody tr th {\n",
       "        vertical-align: top;\n",
       "    }\n",
       "\n",
       "    .dataframe thead th {\n",
       "        text-align: right;\n",
       "    }\n",
       "</style>\n",
       "<table border=\"1\" class=\"dataframe\">\n",
       "  <thead>\n",
       "    <tr style=\"text-align: right;\">\n",
       "      <th></th>\n",
       "      <th>url</th>\n",
       "    </tr>\n",
       "  </thead>\n",
       "  <tbody>\n",
       "    <tr>\n",
       "      <th>0</th>\n",
       "      <td>https://img13.360buyimg.com/imgzone/jfs/t13174...</td>\n",
       "    </tr>\n",
       "    <tr>\n",
       "      <th>1</th>\n",
       "      <td>http://img35.ddimg.cn/79/22/1258168705-1_u.jpg</td>\n",
       "    </tr>\n",
       "    <tr>\n",
       "      <th>2</th>\n",
       "      <td>https://img.alicdn.com/imgextra/TB19HtjKXXXXXc...</td>\n",
       "    </tr>\n",
       "    <tr>\n",
       "      <th>3</th>\n",
       "      <td>https://img13.360buyimg.com/imgzone/jfs/t16498...</td>\n",
       "    </tr>\n",
       "    <tr>\n",
       "      <th>4</th>\n",
       "      <td>http://img4.99114.com/group1/M00/7D/C5/wKgGTFf...</td>\n",
       "    </tr>\n",
       "  </tbody>\n",
       "</table>\n",
       "</div>"
      ],
      "text/plain": [
       "                                                 url\n",
       "0  https://img13.360buyimg.com/imgzone/jfs/t13174...\n",
       "1     http://img35.ddimg.cn/79/22/1258168705-1_u.jpg\n",
       "2  https://img.alicdn.com/imgextra/TB19HtjKXXXXXc...\n",
       "3  https://img13.360buyimg.com/imgzone/jfs/t16498...\n",
       "4  http://img4.99114.com/group1/M00/7D/C5/wKgGTFf..."
      ]
     },
     "execution_count": 6,
     "metadata": {},
     "output_type": "execute_result"
    }
   ],
   "source": [
    "testDF.head()"
   ]
  },
  {
   "cell_type": "markdown",
   "metadata": {
    "_cell_guid": "914e9bfe-c457-4df9-b437-281351280fd8",
    "_uuid": "6292caacb7a89e25e5c888d671597d6335808962"
   },
   "source": [
    "## Basic Visualization "
   ]
  },
  {
   "cell_type": "code",
   "execution_count": 7,
   "metadata": {
    "_cell_guid": "7ca628e0-2f1e-44f3-94e0-b7fa35d4a339",
    "_uuid": "16d8baaf8be2913804a5a0afb72fc5cf2be9bae0"
   },
   "outputs": [
    {
     "name": "stdout",
     "output_type": "stream",
     "text": [
      "Number of classes: 128\n"
     ]
    }
   ],
   "source": [
    "print(\"Number of classes: {0}\".format(len( trainingDF[\"label\"].unique())))"
   ]
  },
  {
   "cell_type": "code",
   "execution_count": 8,
   "metadata": {
    "_cell_guid": "a710f893-cddb-4765-ba14-6ca8e6715bf3",
    "_uuid": "366cef26441bfd5aafd2bb66648ae9e5fe9f2ce4"
   },
   "outputs": [
    {
     "data": {
      "image/png": "[encoded data removed]",
      "text/plain": [
       "<Figure size 2880x720 with 1 Axes>"
      ]
     },
     "metadata": {
      "needs_background": "light"
     },
     "output_type": "display_data"
    }
   ],
   "source": [
    "trainingDF[\"label\"].value_counts().plot(kind='bar',figsize=(40,10),title=\"Number of Training Examples Versus Class\").title.set_size(40)\n"
   ]
  },
  {
   "cell_type": "markdown",
   "metadata": {
    "_cell_guid": "1e57628a-c907-4d4f-9654-750250273e18",
    "_uuid": "2cff6ca2979a07799f77d21f023e054139958428"
   },
   "source": [
    "In the above chart we can see that we have a heavily skewed dataset in respect the the number of training examples per class. Class 20 has about 4,000 examples where class 83 has less than 500. \n",
    "\n",
    "We use the next funciton to view examples of each class in the training data. The overlayed number is the class label. "
   ]
  },
  {
   "cell_type": "code",
   "execution_count": 9,
   "metadata": {
    "_cell_guid": "e062e3de-c653-43db-846a-1d7434075033",
    "_uuid": "494272e608b3342608f56dcc38bdb94689485bc3",
    "scrolled": false
   },
   "outputs": [
    {
     "data": {
      "text/html": [
       "<div><div style='position:relative;display:inline-block'><img style='width: 180px;height:180px; margin: 0px; float: left; border: 1px solid black;' src='https://img.alicdn.com/imgextra/TB1ucPbbBLN8KJjSZPhL6U.spXa_SPEC.jpg'/><div style='position:absolute;right:30px;color:red;font-size:30px;background-color:grey;padding:5px;opacity:0.5'>1</div></div><div style='position:relative;display:inline-block'><img style='width: 180px;height:180px; margin: 0px; float: left; border: 1px solid black;' src='http://image.cppfoto.com/article/2015/131/c33bf9bb-7b63-4a9e-a767-18831485f497.png'/><div style='position:absolute;right:30px;color:red;font-size:30px;background-color:grey;padding:5px;opacity:0.5'>2</div></div><div style='position:relative;display:inline-block'><img style='width: 180px;height:180px; margin: 0px; float: left; border: 1px solid black;' src='https://img.alicdn.com/imgextra/TB2T9B3Xg1J.eBjy0FaXXaXeVXa_!!1945434197.jpg'/><div style='position:absolute;right:30px;color:red;font-size:30px;background-color:grey;padding:5px;opacity:0.5'>3</div></div><div style='position:relative;display:inline-block'><img style='width: 180px;height:180px; margin: 0px; float: left; border: 1px solid black;' src='http://www.macromaison.com.tw/uploads/7f577b6b775e4cf65b6eae600090dc93.jpg'/><div style='position:absolute;right:30px;color:red;font-size:30px;background-color:grey;padding:5px;opacity:0.5'>4</div></div><div style='position:relative;display:inline-block'><img style='width: 180px;height:180px; margin: 0px; float: left; border: 1px solid black;' src='https://img13.360buyimg.com/imgzone/jfs/t2857/351/510705008/279959/4e27dce0/57171f60N523c940e.jpg'/><div style='position:absolute;right:30px;color:red;font-size:30px;background-color:grey;padding:5px;opacity:0.5'>5</div></div><div style='position:relative;display:inline-block'><img style='width: 180px;height:180px; margin: 0px; float: left; border: 1px solid black;' src='https://img11.360buyimg.com/imgzone/jfs/t15178/171/846898804/192272/c057add4/5a3b62b8N1973486c.jpg'/><div style='position:absolute;right:30px;color:red;font-size:30px;background-color:grey;padding:5px;opacity:0.5'>6</div></div><div style='position:relative;display:inline-block'><img style='width: 180px;height:180px; margin: 0px; float: left; border: 1px solid black;' src='https://img12.360buyimg.com/imgzone/jfs/t15508/201/863528153/312002/6ee6c210/5a40b287Nbf9f9a53.jpg'/><div style='position:absolute;right:30px;color:red;font-size:30px;background-color:grey;padding:5px;opacity:0.5'>7</div></div><div style='position:relative;display:inline-block'><img style='width: 180px;height:180px; margin: 0px; float: left; border: 1px solid black;' src='https://img11.360buyimg.com/imgzone/jfs/t13894/346/426715533/256553/9996f157/5a0ba44cNe78c5c32.jpg'/><div style='position:absolute;right:30px;color:red;font-size:30px;background-color:grey;padding:5px;opacity:0.5'>8</div></div><div style='position:relative;display:inline-block'><img style='width: 180px;height:180px; margin: 0px; float: left; border: 1px solid black;' src='https://img14.360buyimg.com/imgzone/jfs/t3532/21/2045390796/323960/d1526f77/583e3601N1e34d1db.jpg'/><div style='position:absolute;right:30px;color:red;font-size:30px;background-color:grey;padding:5px;opacity:0.5'>9</div></div><div style='position:relative;display:inline-block'><img style='width: 180px;height:180px; margin: 0px; float: left; border: 1px solid black;' src='http://pic.to8to.com/smallcase/1501/13/20150113_5b8d260da4ebfca0f768ehxss80ilo9e_284.jpg'/><div style='position:absolute;right:30px;color:red;font-size:30px;background-color:grey;padding:5px;opacity:0.5'>10</div></div><div style='position:relative;display:inline-block'><img style='width: 180px;height:180px; margin: 0px; float: left; border: 1px solid black;' src='http://www.chinapp.com/uploadfile/PinpaiSort/2015-05-25/14325475934611.jpg'/><div style='position:absolute;right:30px;color:red;font-size:30px;background-color:grey;padding:5px;opacity:0.5'>11</div></div><div style='position:relative;display:inline-block'><img style='width: 180px;height:180px; margin: 0px; float: left; border: 1px solid black;' src='https://img11.360buyimg.com/imgzone/jfs/t5119/73/1946159194/182429/9e2c2f9e/591674d9N548522ca.jpg'/><div style='position:absolute;right:30px;color:red;font-size:30px;background-color:grey;padding:5px;opacity:0.5'>12</div></div><div style='position:relative;display:inline-block'><img style='width: 180px;height:180px; margin: 0px; float: left; border: 1px solid black;' src='https://img10.360buyimg.com/imgzone/jfs/t3127/169/3857203659/244978/2305cd26/57f9fefaNdf8262c1.jpg'/><div style='position:absolute;right:30px;color:red;font-size:30px;background-color:grey;padding:5px;opacity:0.5'>13</div></div><div style='position:relative;display:inline-block'><img style='width: 180px;height:180px; margin: 0px; float: left; border: 1px solid black;' src='https://img13.360buyimg.com/imgzone/jfs/t15511/146/916106959/468609/62edf1b1/5a42746eN75fba5ad.jpg'/><div style='position:absolute;right:30px;color:red;font-size:30px;background-color:grey;padding:5px;opacity:0.5'>14</div></div><div style='position:relative;display:inline-block'><img style='width: 180px;height:180px; margin: 0px; float: left; border: 1px solid black;' src='https://img11.360buyimg.com/imgzone/jfs/t2170/311/343274345/330214/4acf62f8/56039fcaN3c8c1d65.jpg'/><div style='position:absolute;right:30px;color:red;font-size:30px;background-color:grey;padding:5px;opacity:0.5'>15</div></div><div style='position:relative;display:inline-block'><img style='width: 180px;height:180px; margin: 0px; float: left; border: 1px solid black;' src='https://img.alicdn.com/imgextra/TB24OFzedfJ8KJjy0FeXXXKEXXa_!!51898157.jpg'/><div style='position:absolute;right:30px;color:red;font-size:30px;background-color:grey;padding:5px;opacity:0.5'>16</div></div><div style='position:relative;display:inline-block'><img style='width: 180px;height:180px; margin: 0px; float: left; border: 1px solid black;' src='https://img.alicdn.com/imgextra/TB1fkKDKVXXXXXiXVXXXXXXXXXX_!!0-item_pic.jpg'/><div style='position:absolute;right:30px;color:red;font-size:30px;background-color:grey;padding:5px;opacity:0.5'>17</div></div><div style='position:relative;display:inline-block'><img style='width: 180px;height:180px; margin: 0px; float: left; border: 1px solid black;' src='http://img.shopping.friday.tw/images/product/180/5408772/5408772_3_1.jpg?499000'/><div style='position:absolute;right:30px;color:red;font-size:30px;background-color:grey;padding:5px;opacity:0.5'>18</div></div><div style='position:relative;display:inline-block'><img style='width: 180px;height:180px; margin: 0px; float: left; border: 1px solid black;' src='https://img11.360buyimg.com/imgzone/jfs/t15478/296/854452216/302901/5dcf3819/5a400ea6N13404c52.jpg'/><div style='position:absolute;right:30px;color:red;font-size:30px;background-color:grey;padding:5px;opacity:0.5'>19</div></div><div style='position:relative;display:inline-block'><img style='width: 180px;height:180px; margin: 0px; float: left; border: 1px solid black;' src='https://img14.360buyimg.com/imgzone/jfs/t2320/137/487468866/439466/bb0f64ce/561208eaNe5fce09d.jpg'/><div style='position:absolute;right:30px;color:red;font-size:30px;background-color:grey;padding:5px;opacity:0.5'>20</div></div><div style='position:relative;display:inline-block'><img style='width: 180px;height:180px; margin: 0px; float: left; border: 1px solid black;' src='http://wx4.sinaimg.cn/mw690/006boOKDgy1fjggzqwijlj30j60j640w.jpg'/><div style='position:absolute;right:30px;color:red;font-size:30px;background-color:grey;padding:5px;opacity:0.5'>21</div></div><div style='position:relative;display:inline-block'><img style='width: 180px;height:180px; margin: 0px; float: left; border: 1px solid black;' src='https://img14.360buyimg.com/imgzone/jfs/t6232/223/127620033/585952/d5641b4b/5939f9d6N1eca615e.jpg'/><div style='position:absolute;right:30px;color:red;font-size:30px;background-color:grey;padding:5px;opacity:0.5'>22</div></div><div style='position:relative;display:inline-block'><img style='width: 180px;height:180px; margin: 0px; float: left; border: 1px solid black;' src='https://img.alicdn.com/imgextra/TB2FgkkqJhvOuFjSZFBXXcZgFXa_!!2004206636.jpg'/><div style='position:absolute;right:30px;color:red;font-size:30px;background-color:grey;padding:5px;opacity:0.5'>23</div></div><div style='position:relative;display:inline-block'><img style='width: 180px;height:180px; margin: 0px; float: left; border: 1px solid black;' src='http://img.xiugei.com/viewinfo/infoimgsps/yigui/content1508738728310.png'/><div style='position:absolute;right:30px;color:red;font-size:30px;background-color:grey;padding:5px;opacity:0.5'>24</div></div><div style='position:relative;display:inline-block'><img style='width: 180px;height:180px; margin: 0px; float: left; border: 1px solid black;' src='https://img.alicdn.com/imgextra/TB2F8VfXJFopuFjSZFHXXbSlXXa_!!2577081146.jpg'/><div style='position:absolute;right:30px;color:red;font-size:30px;background-color:grey;padding:5px;opacity:0.5'>25</div></div><div style='position:relative;display:inline-block'><img style='width: 180px;height:180px; margin: 0px; float: left; border: 1px solid black;' src='https://img11.360buyimg.com/imgzone/jfs/t12922/52/1540751457/463262/e2f3d5d/5a229d9bNe5e61e1e.jpg'/><div style='position:absolute;right:30px;color:red;font-size:30px;background-color:grey;padding:5px;opacity:0.5'>26</div></div><div style='position:relative;display:inline-block'><img style='width: 180px;height:180px; margin: 0px; float: left; border: 1px solid black;' src='http://imgditan.cang.com/201210/11/2012101122314804233678.jpg'/><div style='position:absolute;right:30px;color:red;font-size:30px;background-color:grey;padding:5px;opacity:0.5'>27</div></div><div style='position:relative;display:inline-block'><img style='width: 180px;height:180px; margin: 0px; float: left; border: 1px solid black;' src='http://www.jia360.com/data/upload/ueditor/20170828/59a372ad5bb1c.jpg'/><div style='position:absolute;right:30px;color:red;font-size:30px;background-color:grey;padding:5px;opacity:0.5'>28</div></div><div style='position:relative;display:inline-block'><img style='width: 180px;height:180px; margin: 0px; float: left; border: 1px solid black;' src='http://g.search.alicdn.com/i4/i1/TB1TQzfOVXXXXXPapXXXXXXXXXX_!!0-item_pic.jpg'/><div style='position:absolute;right:30px;color:red;font-size:30px;background-color:grey;padding:5px;opacity:0.5'>29</div></div><div style='position:relative;display:inline-block'><img style='width: 180px;height:180px; margin: 0px; float: left; border: 1px solid black;' src='https://img.alicdn.com/imgextra/TB2BIk6e3CN.eBjSZFoXXXj0FXa_!!17475700.jpg'/><div style='position:absolute;right:30px;color:red;font-size:30px;background-color:grey;padding:5px;opacity:0.5'>30</div></div><div style='position:relative;display:inline-block'><img style='width: 180px;height:180px; margin: 0px; float: left; border: 1px solid black;' src='https://img.alicdn.com/imgextra/TB2CnSuiNrI8KJjy0FpXXb5hVXa_!!3070068451.jpg'/><div style='position:absolute;right:30px;color:red;font-size:30px;background-color:grey;padding:5px;opacity:0.5'>31</div></div><div style='position:relative;display:inline-block'><img style='width: 180px;height:180px; margin: 0px; float: left; border: 1px solid black;' src='http://img009.hc360.cn/m2/M00/18/9A/wKhQclRAI_GEcY_5AAAAAMY-ehk341.jpg'/><div style='position:absolute;right:30px;color:red;font-size:30px;background-color:grey;padding:5px;opacity:0.5'>32</div></div><div style='position:relative;display:inline-block'><img style='width: 180px;height:180px; margin: 0px; float: left; border: 1px solid black;' src='https://img14.360buyimg.com/imgzone/jfs/t15049/5/579111995/73141/c90c984/5a31d495N81542eac.jpg'/><div style='position:absolute;right:30px;color:red;font-size:30px;background-color:grey;padding:5px;opacity:0.5'>33</div></div><div style='position:relative;display:inline-block'><img style='width: 180px;height:180px; margin: 0px; float: left; border: 1px solid black;' src='https://img.alicdn.com/imgextra/TB2mTmfhh6I8KJjy0FgXXXXzVXa_!!3525030485.jpg'/><div style='position:absolute;right:30px;color:red;font-size:30px;background-color:grey;padding:5px;opacity:0.5'>34</div></div><div style='position:relative;display:inline-block'><img style='width: 180px;height:180px; margin: 0px; float: left; border: 1px solid black;' src='http://img001.hc360.cn/hb/MTQ2ODI3ODg4MjQ5NTE2MTQ5Mjg4MzI=.jpg'/><div style='position:absolute;right:30px;color:red;font-size:30px;background-color:grey;padding:5px;opacity:0.5'>35</div></div><div style='position:relative;display:inline-block'><img style='width: 180px;height:180px; margin: 0px; float: left; border: 1px solid black;' src='http://www.huayuanzhuzao.com/Up/day_140403/201404031602578668.jpg'/><div style='position:absolute;right:30px;color:red;font-size:30px;background-color:grey;padding:5px;opacity:0.5'>36</div></div><div style='position:relative;display:inline-block'><img style='width: 180px;height:180px; margin: 0px; float: left; border: 1px solid black;' src='http://pic17.photophoto.cn/20101228/0037037335388192_b.jpg'/><div style='position:absolute;right:30px;color:red;font-size:30px;background-color:grey;padding:5px;opacity:0.5'>37</div></div><div style='position:relative;display:inline-block'><img style='width: 180px;height:180px; margin: 0px; float: left; border: 1px solid black;' src='https://www.uooyoo.com/img2017/9/26/2017092663144657.jpg'/><div style='position:absolute;right:30px;color:red;font-size:30px;background-color:grey;padding:5px;opacity:0.5'>38</div></div><div style='position:relative;display:inline-block'><img style='width: 180px;height:180px; margin: 0px; float: left; border: 1px solid black;' src='http://www.cnwangfa.cn/images/201705/goods_img/322_P_1495264374516.jpg'/><div style='position:absolute;right:30px;color:red;font-size:30px;background-color:grey;padding:5px;opacity:0.5'>39</div></div><div style='position:relative;display:inline-block'><img style='width: 180px;height:180px; margin: 0px; float: left; border: 1px solid black;' src='http://cbu01.alicdn.com/img/ibank/2015/667/853/2252358766_3665990.310x310.jpg'/><div style='position:absolute;right:30px;color:red;font-size:30px;background-color:grey;padding:5px;opacity:0.5'>40</div></div><div style='position:relative;display:inline-block'><img style='width: 180px;height:180px; margin: 0px; float: left; border: 1px solid black;' src='http://www.immyup.com/kps01/M00/21/52/wKiAiVjboJzEKz1dAANRdUS-dPg321.JPG'/><div style='position:absolute;right:30px;color:red;font-size:30px;background-color:grey;padding:5px;opacity:0.5'>41</div></div><div style='position:relative;display:inline-block'><img style='width: 180px;height:180px; margin: 0px; float: left; border: 1px solid black;' src='http://k.zol-img.com.cn/diybbs/6080/a6079920.jpg'/><div style='position:absolute;right:30px;color:red;font-size:30px;background-color:grey;padding:5px;opacity:0.5'>42</div></div><div style='position:relative;display:inline-block'><img style='width: 180px;height:180px; margin: 0px; float: left; border: 1px solid black;' src='https://img14.360buyimg.com/imgzone/jfs/t3649/22/1202740606/82077/f618cb49/581fe7cdN260568c2.jpg'/><div style='position:absolute;right:30px;color:red;font-size:30px;background-color:grey;padding:5px;opacity:0.5'>43</div></div><div style='position:relative;display:inline-block'><img style='width: 180px;height:180px; margin: 0px; float: left; border: 1px solid black;' src='https://img10.360buyimg.com/imgzone/jfs/t5890/283/1439201382/95134/117969d9/5926a157Nbcc9e03b.jpg'/><div style='position:absolute;right:30px;color:red;font-size:30px;background-color:grey;padding:5px;opacity:0.5'>44</div></div><div style='position:relative;display:inline-block'><img style='width: 180px;height:180px; margin: 0px; float: left; border: 1px solid black;' src='https://img.alicdn.com/imgextra/T1JFJ.FU0bXXXXXXXX_!!0-item_pic.jpg'/><div style='position:absolute;right:30px;color:red;font-size:30px;background-color:grey;padding:5px;opacity:0.5'>45</div></div><div style='position:relative;display:inline-block'><img style='width: 180px;height:180px; margin: 0px; float: left; border: 1px solid black;' src='https://www.asvel.net/images/201708/goods_img/588_P_1502848207818.jpg'/><div style='position:absolute;right:30px;color:red;font-size:30px;background-color:grey;padding:5px;opacity:0.5'>46</div></div><div style='position:relative;display:inline-block'><img style='width: 180px;height:180px; margin: 0px; float: left; border: 1px solid black;' src='https://img.alicdn.com/imgextra/TB11oIPRVXXXXasXXXXXXXXXXXX_!!0-item_pic.jpg'/><div style='position:absolute;right:30px;color:red;font-size:30px;background-color:grey;padding:5px;opacity:0.5'>47</div></div><div style='position:relative;display:inline-block'><img style='width: 180px;height:180px; margin: 0px; float: left; border: 1px solid black;' src='http://images.ofweek.com/Upload/News/2014-12/luoyuelian/2014120112.jpg'/><div style='position:absolute;right:30px;color:red;font-size:30px;background-color:grey;padding:5px;opacity:0.5'>48</div></div><div style='position:relative;display:inline-block'><img style='width: 180px;height:180px; margin: 0px; float: left; border: 1px solid black;' src='https://img10.360buyimg.com/imgzone/jfs/t202/342/1720226704/342629/7b584c43/53b4d3e0N6fd36553.jpg'/><div style='position:absolute;right:30px;color:red;font-size:30px;background-color:grey;padding:5px;opacity:0.5'>49</div></div><div style='position:relative;display:inline-block'><img style='width: 180px;height:180px; margin: 0px; float: left; border: 1px solid black;' src='http://www.wf21.com.cn/product_pic/2012-07-12-01-18-54.jpg'/><div style='position:absolute;right:30px;color:red;font-size:30px;background-color:grey;padding:5px;opacity:0.5'>50</div></div><div style='position:relative;display:inline-block'><img style='width: 180px;height:180px; margin: 0px; float: left; border: 1px solid black;' src='http://file.huitao.net/images/sp/bao/uploaded/i7/T13KtpXbRmXXbBMAU1_041818.jpg'/><div style='position:absolute;right:30px;color:red;font-size:30px;background-color:grey;padding:5px;opacity:0.5'>51</div></div><div style='position:relative;display:inline-block'><img style='width: 180px;height:180px; margin: 0px; float: left; border: 1px solid black;' src='http://benyouhuifile.it168.com/forum/201409/20/132900wunuhlfu3ccc3o3s.jpg'/><div style='position:absolute;right:30px;color:red;font-size:30px;background-color:grey;padding:5px;opacity:0.5'>52</div></div><div style='position:relative;display:inline-block'><img style='width: 180px;height:180px; margin: 0px; float: left; border: 1px solid black;' src='https://img12.360buyimg.com/imgzone/jfs/t2602/313/3725539494/148835/4ed0e581/5799a73eN4a064fb4.jpg'/><div style='position:absolute;right:30px;color:red;font-size:30px;background-color:grey;padding:5px;opacity:0.5'>53</div></div><div style='position:relative;display:inline-block'><img style='width: 180px;height:180px; margin: 0px; float: left; border: 1px solid black;' src='https://img13.360buyimg.com/imgzone/jfs/t1021/145/448760565/133697/fe01d6e8/5524f57bN3d059d38.jpg'/><div style='position:absolute;right:30px;color:red;font-size:30px;background-color:grey;padding:5px;opacity:0.5'>54</div></div><div style='position:relative;display:inline-block'><img style='width: 180px;height:180px; margin: 0px; float: left; border: 1px solid black;' src='https://img13.360buyimg.com/imgzone/jfs/t6586/283/1074188863/356988/138a3cca/594a426eN0f9cb65b.jpg'/><div style='position:absolute;right:30px;color:red;font-size:30px;background-color:grey;padding:5px;opacity:0.5'>55</div></div><div style='position:relative;display:inline-block'><img style='width: 180px;height:180px; margin: 0px; float: left; border: 1px solid black;' src='http://sc.sinaimg.cn/cr/2011/0615/304264511.jpg'/><div style='position:absolute;right:30px;color:red;font-size:30px;background-color:grey;padding:5px;opacity:0.5'>56</div></div><div style='position:relative;display:inline-block'><img style='width: 180px;height:180px; margin: 0px; float: left; border: 1px solid black;' src='http://img.weixinyidu.com/160216/55e658ed.jpg'/><div style='position:absolute;right:30px;color:red;font-size:30px;background-color:grey;padding:5px;opacity:0.5'>57</div></div><div style='position:relative;display:inline-block'><img style='width: 180px;height:180px; margin: 0px; float: left; border: 1px solid black;' src='https://img11.360buyimg.com/imgzone/jfs/t10192/206/806768291/155510/6f10b93c/59d8aa62N05311f58.jpg'/><div style='position:absolute;right:30px;color:red;font-size:30px;background-color:grey;padding:5px;opacity:0.5'>58</div></div><div style='position:relative;display:inline-block'><img style='width: 180px;height:180px; margin: 0px; float: left; border: 1px solid black;' src='http://m.360buyimg.com/n12/g15/M06/00/04/rBEhWlHeElkIAAAAAAJTN7A4UikAAA72gP89gMAAlNP242.jpg%21q70.jpg'/><div style='position:absolute;right:30px;color:red;font-size:30px;background-color:grey;padding:5px;opacity:0.5'>59</div></div><div style='position:relative;display:inline-block'><img style='width: 180px;height:180px; margin: 0px; float: left; border: 1px solid black;' src='https://img.alicdn.com/imgextra/TB2xkr4uHJmpuFjSZFwXXaE4VXa_!!81006141.jpg'/><div style='position:absolute;right:30px;color:red;font-size:30px;background-color:grey;padding:5px;opacity:0.5'>60</div></div><div style='position:relative;display:inline-block'><img style='width: 180px;height:180px; margin: 0px; float: left; border: 1px solid black;' src='http://f.hiphotos.baidu.com/bdp_fbp/pic/item/8cb1cb1349540923105c9aa49a58d109b3de4937.jpg'/><div style='position:absolute;right:30px;color:red;font-size:30px;background-color:grey;padding:5px;opacity:0.5'>61</div></div><div style='position:relative;display:inline-block'><img style='width: 180px;height:180px; margin: 0px; float: left; border: 1px solid black;' src='https://img11.360buyimg.com/imgzone/jfs/t12694/218/1578300487/385402/992f8788/5a22d3e7N3752a0b7.jpg'/><div style='position:absolute;right:30px;color:red;font-size:30px;background-color:grey;padding:5px;opacity:0.5'>62</div></div><div style='position:relative;display:inline-block'><img style='width: 180px;height:180px; margin: 0px; float: left; border: 1px solid black;' src='https://img.alicdn.com/imgextra/TB2qAOHctXXWeJjSZFvXXa6lpXa_!!2184359740.jpg'/><div style='position:absolute;right:30px;color:red;font-size:30px;background-color:grey;padding:5px;opacity:0.5'>63</div></div><div style='position:relative;display:inline-block'><img style='width: 180px;height:180px; margin: 0px; float: left; border: 1px solid black;' src='http://www.poluoluo.com/jzxy/UploadFiles_333/200305/20035278938934.jpg'/><div style='position:absolute;right:30px;color:red;font-size:30px;background-color:grey;padding:5px;opacity:0.5'>64</div></div><div style='position:relative;display:inline-block'><img style='width: 180px;height:180px; margin: 0px; float: left; border: 1px solid black;' src='https://img12.360buyimg.com/imgzone/jfs/t12679/88/2722085800/318753/cdc3f9df/5a47428bN652f02de.jpg'/><div style='position:absolute;right:30px;color:red;font-size:30px;background-color:grey;padding:5px;opacity:0.5'>65</div></div><div style='position:relative;display:inline-block'><img style='width: 180px;height:180px; margin: 0px; float: left; border: 1px solid black;' src='https://img12.360buyimg.com/imgzone/jfs/t19600/151/4981710/595112/a709e9af/5a573558N527e63fa.jpg'/><div style='position:absolute;right:30px;color:red;font-size:30px;background-color:grey;padding:5px;opacity:0.5'>66</div></div><div style='position:relative;display:inline-block'><img style='width: 180px;height:180px; margin: 0px; float: left; border: 1px solid black;' src='https://img13.360buyimg.com/imgzone/jfs/t4363/360/2539321401/195950/e2d46ec1/58d2212eNa600f7a5.jpg'/><div style='position:absolute;right:30px;color:red;font-size:30px;background-color:grey;padding:5px;opacity:0.5'>67</div></div><div style='position:relative;display:inline-block'><img style='width: 180px;height:180px; margin: 0px; float: left; border: 1px solid black;' src='https://img13.360buyimg.com/imgzone/jfs/t4576/127/1536181933/87423/9a32ec8c/58e05e3aNeebbef61.jpg'/><div style='position:absolute;right:30px;color:red;font-size:30px;background-color:grey;padding:5px;opacity:0.5'>68</div></div><div style='position:relative;display:inline-block'><img style='width: 180px;height:180px; margin: 0px; float: left; border: 1px solid black;' src='http://images.3158.cn/data/attachment/tougao/article/2014/10/14/26048998bf9075456ce81fe8d7c17775.jpg'/><div style='position:absolute;right:30px;color:red;font-size:30px;background-color:grey;padding:5px;opacity:0.5'>69</div></div><div style='position:relative;display:inline-block'><img style='width: 180px;height:180px; margin: 0px; float: left; border: 1px solid black;' src='https://img14.360buyimg.com/imgzone/jfs/t4891/71/284684477/342792/30f417b3/58ddfaf7N64c3463a.jpg'/><div style='position:absolute;right:30px;color:red;font-size:30px;background-color:grey;padding:5px;opacity:0.5'>70</div></div><div style='position:relative;display:inline-block'><img style='width: 180px;height:180px; margin: 0px; float: left; border: 1px solid black;' src='http://m.360buyimg.com/n12/jfs/t2086/202/2008416305/113271/baa44556/569717c6Nceeeb546.jpg%21q70.jpg'/><div style='position:absolute;right:30px;color:red;font-size:30px;background-color:grey;padding:5px;opacity:0.5'>71</div></div><div style='position:relative;display:inline-block'><img style='width: 180px;height:180px; margin: 0px; float: left; border: 1px solid black;' src='http://d6.yihaodianimg.com/N04/M08/9F/F0/CgQDrVJmaKqAI1rhAACf3yZKy7E87700_380x380.jpg'/><div style='position:absolute;right:30px;color:red;font-size:30px;background-color:grey;padding:5px;opacity:0.5'>72</div></div><div style='position:relative;display:inline-block'><img style='width: 180px;height:180px; margin: 0px; float: left; border: 1px solid black;' src='https://img13.360buyimg.com/imgzone/jfs/t7117/305/2596239611/496808/139f43b4/5997d81bN8d9be0f9.jpg'/><div style='position:absolute;right:30px;color:red;font-size:30px;background-color:grey;padding:5px;opacity:0.5'>73</div></div><div style='position:relative;display:inline-block'><img style='width: 180px;height:180px; margin: 0px; float: left; border: 1px solid black;' src='http://image5.suning.cn/content/catentries/00000000010580/000000000105805499/fullimage/000000000105805499_3.jpg'/><div style='position:absolute;right:30px;color:red;font-size:30px;background-color:grey;padding:5px;opacity:0.5'>74</div></div><div style='position:relative;display:inline-block'><img style='width: 180px;height:180px; margin: 0px; float: left; border: 1px solid black;' src='http://imgsrc.baidu.com/image/c0%3Dpixel_huitu%2C0%2C0%2C294%2C40/sign=2dcbb80f16950a7b6138468463a907b5/730e0cf3d7ca7bcb6b852416b5096b63f624a809.jpg'/><div style='position:absolute;right:30px;color:red;font-size:30px;background-color:grey;padding:5px;opacity:0.5'>75</div></div><div style='position:relative;display:inline-block'><img style='width: 180px;height:180px; margin: 0px; float: left; border: 1px solid black;' src='http://www.yoagoa.com/photos/info/20160420/20160420120220428.jpg'/><div style='position:absolute;right:30px;color:red;font-size:30px;background-color:grey;padding:5px;opacity:0.5'>76</div></div><div style='position:relative;display:inline-block'><img style='width: 180px;height:180px; margin: 0px; float: left; border: 1px solid black;' src='http://n.sinaimg.cn/news/transform/20170106/ZQQf-fxzkfuh5613934.jpg'/><div style='position:absolute;right:30px;color:red;font-size:30px;background-color:grey;padding:5px;opacity:0.5'>77</div></div><div style='position:relative;display:inline-block'><img style='width: 180px;height:180px; margin: 0px; float: left; border: 1px solid black;' src='http://pic31.photophoto.cn/20140512/0013025582013770_b.jpg'/><div style='position:absolute;right:30px;color:red;font-size:30px;background-color:grey;padding:5px;opacity:0.5'>78</div></div><div style='position:relative;display:inline-block'><img style='width: 180px;height:180px; margin: 0px; float: left; border: 1px solid black;' src='http://img11.360buyimg.com/n12/g12/M00/0B/16/rBEQYFNZx8MIAAAAAAItt5cdjl4AAFGxQHa7iIAAi3P384.jpg%21q70.jpg'/><div style='position:absolute;right:30px;color:red;font-size:30px;background-color:grey;padding:5px;opacity:0.5'>79</div></div><div style='position:relative;display:inline-block'><img style='width: 180px;height:180px; margin: 0px; float: left; border: 1px solid black;' src='http://img0.pchouse.com.cn/pchouse/1608/30/1683391_1.png'/><div style='position:absolute;right:30px;color:red;font-size:30px;background-color:grey;padding:5px;opacity:0.5'>80</div></div><div style='position:relative;display:inline-block'><img style='width: 180px;height:180px; margin: 0px; float: left; border: 1px solid black;' src='http://pic51.huitu.com/res/20160201/332361_20160201174823561600_1.jpg'/><div style='position:absolute;right:30px;color:red;font-size:30px;background-color:grey;padding:5px;opacity:0.5'>81</div></div><div style='position:relative;display:inline-block'><img style='width: 180px;height:180px; margin: 0px; float: left; border: 1px solid black;' src='https://img.alicdn.com/imgextra/TB2e8ClgwoQMeJjy0FoXXcShVXa_!!65039804.jpg'/><div style='position:absolute;right:30px;color:red;font-size:30px;background-color:grey;padding:5px;opacity:0.5'>82</div></div><div style='position:relative;display:inline-block'><img style='width: 180px;height:180px; margin: 0px; float: left; border: 1px solid black;' src='http://www.conran.com.cn/attachment/download/201410/1414393990-10.jpg'/><div style='position:absolute;right:30px;color:red;font-size:30px;background-color:grey;padding:5px;opacity:0.5'>83</div></div><div style='position:relative;display:inline-block'><img style='width: 180px;height:180px; margin: 0px; float: left; border: 1px solid black;' src='https://img14.360buyimg.com/imgzone/jfs/t5716/135/8952211625/223967/87d8278b/59812e53Na439a4a0.jpg'/><div style='position:absolute;right:30px;color:red;font-size:30px;background-color:grey;padding:5px;opacity:0.5'>84</div></div><div style='position:relative;display:inline-block'><img style='width: 180px;height:180px; margin: 0px; float: left; border: 1px solid black;' src='http://laicigou.q88r.net/shop/images_shop/38734/2014-10-10/38734_DT2014101210341320.jpg'/><div style='position:absolute;right:30px;color:red;font-size:30px;background-color:grey;padding:5px;opacity:0.5'>85</div></div><div style='position:relative;display:inline-block'><img style='width: 180px;height:180px; margin: 0px; float: left; border: 1px solid black;' src='http://image.guojj.com/exhibition/5/26/bce5525a4f98b05527302ed27a0b98e5.jpg'/><div style='position:absolute;right:30px;color:red;font-size:30px;background-color:grey;padding:5px;opacity:0.5'>86</div></div><div style='position:relative;display:inline-block'><img style='width: 180px;height:180px; margin: 0px; float: left; border: 1px solid black;' src='http://d8.yihaodianimg.com/N08/M03/92/34/ChEi1VjDkamACOG4AABMP8wZGQY15100_600x600.jpg'/><div style='position:absolute;right:30px;color:red;font-size:30px;background-color:grey;padding:5px;opacity:0.5'>87</div></div><div style='position:relative;display:inline-block'><img style='width: 180px;height:180px; margin: 0px; float: left; border: 1px solid black;' src='https://img12.360buyimg.com/imgzone/jfs/t9841/155/1895054974/147801/a50460d2/59e84cf1N0445e8bf.jpg'/><div style='position:absolute;right:30px;color:red;font-size:30px;background-color:grey;padding:5px;opacity:0.5'>88</div></div><div style='position:relative;display:inline-block'><img style='width: 180px;height:180px; margin: 0px; float: left; border: 1px solid black;' src='https://img14.360buyimg.com/imgzone/jfs/t175/247/2029997415/239022/6e87243d/53c0fa8eN843d8932.jpg'/><div style='position:absolute;right:30px;color:red;font-size:30px;background-color:grey;padding:5px;opacity:0.5'>89</div></div><div style='position:relative;display:inline-block'><img style='width: 180px;height:180px; margin: 0px; float: left; border: 1px solid black;' src='https://img13.360buyimg.com/imgzone/jfs/t12367/258/1857899559/164382/87d2c1c3/5a2b31c8N644db646.jpg'/><div style='position:absolute;right:30px;color:red;font-size:30px;background-color:grey;padding:5px;opacity:0.5'>90</div></div><div style='position:relative;display:inline-block'><img style='width: 180px;height:180px; margin: 0px; float: left; border: 1px solid black;' src='https://img.alicdn.com/imgextra/TB1pH3vcBDH8KJjSszcXXbDTFXa_!!0-item_pic.jpg'/><div style='position:absolute;right:30px;color:red;font-size:30px;background-color:grey;padding:5px;opacity:0.5'>91</div></div><div style='position:relative;display:inline-block'><img style='width: 180px;height:180px; margin: 0px; float: left; border: 1px solid black;' src='https://img.alicdn.com/imgextra/TB2VGxwd3vD8KJjy0FlXXagBFXa_!!2529740865.jpg'/><div style='position:absolute;right:30px;color:red;font-size:30px;background-color:grey;padding:5px;opacity:0.5'>92</div></div><div style='position:relative;display:inline-block'><img style='width: 180px;height:180px; margin: 0px; float: left; border: 1px solid black;' src='http://www.bvh.cc/images/200912/goods_img/547_P_1260577161314.jpg'/><div style='position:absolute;right:30px;color:red;font-size:30px;background-color:grey;padding:5px;opacity:0.5'>93</div></div><div style='position:relative;display:inline-block'><img style='width: 180px;height:180px; margin: 0px; float: left; border: 1px solid black;' src='https://img10.360buyimg.com/imgzone/jfs/t5344/146/485847065/211252/9bd98b84/59006e62Nc3ddb26b.jpg'/><div style='position:absolute;right:30px;color:red;font-size:30px;background-color:grey;padding:5px;opacity:0.5'>94</div></div><div style='position:relative;display:inline-block'><img style='width: 180px;height:180px; margin: 0px; float: left; border: 1px solid black;' src='https://img14.360buyimg.com/imgzone/jfs/t12091/68/2220405547/233801/229110d5/5a360b2eN8eb18ced.jpg'/><div style='position:absolute;right:30px;color:red;font-size:30px;background-color:grey;padding:5px;opacity:0.5'>95</div></div><div style='position:relative;display:inline-block'><img style='width: 180px;height:180px; margin: 0px; float: left; border: 1px solid black;' src='http://www.kft888.com/UploadFiles/FCK/2014-05-20/6353621613454687501307346.jpg'/><div style='position:absolute;right:30px;color:red;font-size:30px;background-color:grey;padding:5px;opacity:0.5'>96</div></div><div style='position:relative;display:inline-block'><img style='width: 180px;height:180px; margin: 0px; float: left; border: 1px solid black;' src='http://www.yijiaehu.com/images/shopfw/main/2017/02/14/goods_img/imgurl_P_da42d88a74864b6cb2f64af51159826c.jpg'/><div style='position:absolute;right:30px;color:red;font-size:30px;background-color:grey;padding:5px;opacity:0.5'>97</div></div><div style='position:relative;display:inline-block'><img style='width: 180px;height:180px; margin: 0px; float: left; border: 1px solid black;' src='https://img11.360buyimg.com/imgzone/jfs/t12235/287/1088791641/341014/aef2d11e/5a409ab6N6cfbb804.jpg'/><div style='position:absolute;right:30px;color:red;font-size:30px;background-color:grey;padding:5px;opacity:0.5'>98</div></div><div style='position:relative;display:inline-block'><img style='width: 180px;height:180px; margin: 0px; float: left; border: 1px solid black;' src='http://file.youboy.com/a/121/74/21/0/20152620.jpg'/><div style='position:absolute;right:30px;color:red;font-size:30px;background-color:grey;padding:5px;opacity:0.5'>99</div></div><div style='position:relative;display:inline-block'><img style='width: 180px;height:180px; margin: 0px; float: left; border: 1px solid black;' src='https://img.alicdn.com/imgextra/TB2gFX6lFXXXXXaXXXXXXXXXXXX_!!813573835.jpg'/><div style='position:absolute;right:30px;color:red;font-size:30px;background-color:grey;padding:5px;opacity:0.5'>100</div></div><div style='position:relative;display:inline-block'><img style='width: 180px;height:180px; margin: 0px; float: left; border: 1px solid black;' src='http://www.lqhxjs.com/images/UpFile/2013-5/201353152460.jpg'/><div style='position:absolute;right:30px;color:red;font-size:30px;background-color:grey;padding:5px;opacity:0.5'>101</div></div><div style='position:relative;display:inline-block'><img style='width: 180px;height:180px; margin: 0px; float: left; border: 1px solid black;' src='https://img10.360buyimg.com/imgzone/jfs/t9592/265/1953742704/196782/2a3c5d36/59ea0fc8Na6dec51a.jpg'/><div style='position:absolute;right:30px;color:red;font-size:30px;background-color:grey;padding:5px;opacity:0.5'>102</div></div><div style='position:relative;display:inline-block'><img style='width: 180px;height:180px; margin: 0px; float: left; border: 1px solid black;' src='https://img11.360buyimg.com/imgzone/jfs/t13441/274/2333448046/225753/5d3de7b2/5a509485Nc20b677d.jpg'/><div style='position:absolute;right:30px;color:red;font-size:30px;background-color:grey;padding:5px;opacity:0.5'>103</div></div><div style='position:relative;display:inline-block'><img style='width: 180px;height:180px; margin: 0px; float: left; border: 1px solid black;' src='http://www.collection.com.tw/images/201204/1334911246086010734.jpg'/><div style='position:absolute;right:30px;color:red;font-size:30px;background-color:grey;padding:5px;opacity:0.5'>104</div></div><div style='position:relative;display:inline-block'><img style='width: 180px;height:180px; margin: 0px; float: left; border: 1px solid black;' src='https://img.alicdn.com/imgextra/TB1dJbJKXXXXXajXpXXXXXXXXXX_!!0-item_pic.jpg'/><div style='position:absolute;right:30px;color:red;font-size:30px;background-color:grey;padding:5px;opacity:0.5'>105</div></div><div style='position:relative;display:inline-block'><img style='width: 180px;height:180px; margin: 0px; float: left; border: 1px solid black;' src='http://img.feiniu.com/C/item/2013/1027/201310C270000399/0_5_400x400.JPG'/><div style='position:absolute;right:30px;color:red;font-size:30px;background-color:grey;padding:5px;opacity:0.5'>106</div></div><div style='position:relative;display:inline-block'><img style='width: 180px;height:180px; margin: 0px; float: left; border: 1px solid black;' src='https://img11.360buyimg.com/imgzone/jfs/t2941/44/2743909755/26787/9164be8/57c18844N712d89ff.jpg'/><div style='position:absolute;right:30px;color:red;font-size:30px;background-color:grey;padding:5px;opacity:0.5'>107</div></div><div style='position:relative;display:inline-block'><img style='width: 180px;height:180px; margin: 0px; float: left; border: 1px solid black;' src='https://img14.360buyimg.com/imgzone/jfs/t11830/218/2189969014/55653/3901a912/5a1297d4Nc0f6413a.jpg'/><div style='position:absolute;right:30px;color:red;font-size:30px;background-color:grey;padding:5px;opacity:0.5'>108</div></div><div style='position:relative;display:inline-block'><img style='width: 180px;height:180px; margin: 0px; float: left; border: 1px solid black;' src='https://img11.360buyimg.com/imgzone/jfs/t6346/109/1923034135/73751/f4d6a674/595a218dN5974577a.jpg'/><div style='position:absolute;right:30px;color:red;font-size:30px;background-color:grey;padding:5px;opacity:0.5'>109</div></div><div style='position:relative;display:inline-block'><img style='width: 180px;height:180px; margin: 0px; float: left; border: 1px solid black;' src='https://img.alicdn.com/imgextra/TB2cpaVc6ZnyKJjSZPcXXXqHVXa_!!2340658729.jpg'/><div style='position:absolute;right:30px;color:red;font-size:30px;background-color:grey;padding:5px;opacity:0.5'>110</div></div><div style='position:relative;display:inline-block'><img style='width: 180px;height:180px; margin: 0px; float: left; border: 1px solid black;' src='https://img.alicdn.com/imgextra/TB2rvmTi3vD8KJjy0FlXXagBFXa_!!1750144490.jpg'/><div style='position:absolute;right:30px;color:red;font-size:30px;background-color:grey;padding:5px;opacity:0.5'>111</div></div><div style='position:relative;display:inline-block'><img style='width: 180px;height:180px; margin: 0px; float: left; border: 1px solid black;' src='http://d6.yihaodianimg.com/N02/M0B/70/91/CgQCslMR0gWASconAAR4uQoExho42100.jpg'/><div style='position:absolute;right:30px;color:red;font-size:30px;background-color:grey;padding:5px;opacity:0.5'>112</div></div><div style='position:relative;display:inline-block'><img style='width: 180px;height:180px; margin: 0px; float: left; border: 1px solid black;' src='https://img10.360buyimg.com/imgzone/jfs/t7906/35/1336888894/248277/d76f011e/599c30d0N15c6de83.jpg'/><div style='position:absolute;right:30px;color:red;font-size:30px;background-color:grey;padding:5px;opacity:0.5'>113</div></div><div style='position:relative;display:inline-block'><img style='width: 180px;height:180px; margin: 0px; float: left; border: 1px solid black;' src='http://img1.shikee.com/report/2015/10/15/23054420900840474766.jpg'/><div style='position:absolute;right:30px;color:red;font-size:30px;background-color:grey;padding:5px;opacity:0.5'>114</div></div><div style='position:relative;display:inline-block'><img style='width: 180px;height:180px; margin: 0px; float: left; border: 1px solid black;' src='http://jinlu.wotobang.com/uploads/source_img/39379850727.jpg'/><div style='position:absolute;right:30px;color:red;font-size:30px;background-color:grey;padding:5px;opacity:0.5'>115</div></div><div style='position:relative;display:inline-block'><img style='width: 180px;height:180px; margin: 0px; float: left; border: 1px solid black;' src='http://file.huitao.net/images/sp/bao/uploaded/i2/T19GBHXlNbXXXrIDo._113513.jpg'/><div style='position:absolute;right:30px;color:red;font-size:30px;background-color:grey;padding:5px;opacity:0.5'>116</div></div><div style='position:relative;display:inline-block'><img style='width: 180px;height:180px; margin: 0px; float: left; border: 1px solid black;' src='https://img.alicdn.com/imgextra/TB2mGTbl9XlpuFjy0FeXXcJbFXa_!!1690831833.jpg'/><div style='position:absolute;right:30px;color:red;font-size:30px;background-color:grey;padding:5px;opacity:0.5'>117</div></div><div style='position:relative;display:inline-block'><img style='width: 180px;height:180px; margin: 0px; float: left; border: 1px solid black;' src='http://d6.yihaodianimg.com/N02/M08/B9/28/CgQCslPXSg2ACqI9AALaMXM8fjc75500.jpg'/><div style='position:absolute;right:30px;color:red;font-size:30px;background-color:grey;padding:5px;opacity:0.5'>118</div></div><div style='position:relative;display:inline-block'><img style='width: 180px;height:180px; margin: 0px; float: left; border: 1px solid black;' src='https://img11.360buyimg.com/imgzone/jfs/t14638/162/1149904013/213721/c0d05851/5a469293N27de84be.jpg'/><div style='position:absolute;right:30px;color:red;font-size:30px;background-color:grey;padding:5px;opacity:0.5'>119</div></div><div style='position:relative;display:inline-block'><img style='width: 180px;height:180px; margin: 0px; float: left; border: 1px solid black;' src='https://img.alicdn.com/imgextra/TB2a20UcgDD8KJjy0FdXXcjvXXa_!!2639198006.jpg'/><div style='position:absolute;right:30px;color:red;font-size:30px;background-color:grey;padding:5px;opacity:0.5'>120</div></div><div style='position:relative;display:inline-block'><img style='width: 180px;height:180px; margin: 0px; float: left; border: 1px solid black;' src='https://img12.360buyimg.com/imgzone/jfs/t3139/331/6148304368/126997/4f9fb94/589cad4aN1a8055be.jpg'/><div style='position:absolute;right:30px;color:red;font-size:30px;background-color:grey;padding:5px;opacity:0.5'>121</div></div><div style='position:relative;display:inline-block'><img style='width: 180px;height:180px; margin: 0px; float: left; border: 1px solid black;' src='https://static1.paizi.com/uploadfile/2017/1013/20171013053252466.jpg'/><div style='position:absolute;right:30px;color:red;font-size:30px;background-color:grey;padding:5px;opacity:0.5'>122</div></div><div style='position:relative;display:inline-block'><img style='width: 180px;height:180px; margin: 0px; float: left; border: 1px solid black;' src='https://img.alicdn.com/imgextra/TB2xGfeqiRnpuFjSZFCXXX2DXXa_!!87444387.jpg'/><div style='position:absolute;right:30px;color:red;font-size:30px;background-color:grey;padding:5px;opacity:0.5'>123</div></div><div style='position:relative;display:inline-block'><img style='width: 180px;height:180px; margin: 0px; float: left; border: 1px solid black;' src='https://img13.360buyimg.com/imgzone/jfs/t4225/142/1806038137/220207/3d5407f1/58c6d80cN12618e3b.jpg'/><div style='position:absolute;right:30px;color:red;font-size:30px;background-color:grey;padding:5px;opacity:0.5'>124</div></div><div style='position:relative;display:inline-block'><img style='width: 180px;height:180px; margin: 0px; float: left; border: 1px solid black;' src='https://img13.360buyimg.com/imgzone/jfs/t3439/263/728869669/71540/eca6cade/5811bb8aN791655b1.jpg'/><div style='position:absolute;right:30px;color:red;font-size:30px;background-color:grey;padding:5px;opacity:0.5'>125</div></div><div style='position:relative;display:inline-block'><img style='width: 180px;height:180px; margin: 0px; float: left; border: 1px solid black;' src='https://img10.360buyimg.com/imgzone/jfs/t5983/172/9618218634/238131/ded0241d/5994f55cNb25b5768.jpg'/><div style='position:absolute;right:30px;color:red;font-size:30px;background-color:grey;padding:5px;opacity:0.5'>126</div></div><div style='position:relative;display:inline-block'><img style='width: 180px;height:180px; margin: 0px; float: left; border: 1px solid black;' src='https://cbu01.alicdn.com/img/ibank/2016/704/704/3709407407_1581273346.310x310.jpg'/><div style='position:absolute;right:30px;color:red;font-size:30px;background-color:grey;padding:5px;opacity:0.5'>127</div></div><div style='position:relative;display:inline-block'><img style='width: 180px;height:180px; margin: 0px; float: left; border: 1px solid black;' src='https://img.alicdn.com/imgextra/TB1QV6jIFXXXXb8XVXXXXXXXXXX_!!0-item_pic.jpg'/><div style='position:absolute;right:30px;color:red;font-size:30px;background-color:grey;padding:5px;opacity:0.5'>128</div></div></div>"
      ],
      "text/plain": [
       "<IPython.core.display.HTML object>"
      ]
     },
     "metadata": {},
     "output_type": "display_data"
    }
   ],
   "source": [
    "def displayExamples(exampleIndex=0):\n",
    "    outHTML = \"<div>\"\n",
    "    for label in range(1,129):\n",
    "        img_style = \"width: 180px;height:180px; margin: 0px; float: left; border: 1px solid black;\"\n",
    "        captionDiv = \"<div style='position:absolute;right:30px;color:red;font-size:30px;background-color:grey;padding:5px;opacity:0.5'>\"+str(label)+\"</div>\"\n",
    "        outHTML += \"<div style='position:relative;display:inline-block'><img style='\"+img_style+\"' src='\"+trainingDF[trainingDF.label == label].iloc[exampleIndex][0]+\"'/>\"+captionDiv+\"</div>\"\n",
    "    outHTML += \"</div>\"\n",
    "    display(HTML(outHTML))\n",
    "\n",
    "displayExamples()"
   ]
  },
  {
   "cell_type": "markdown",
   "metadata": {
    "_cell_guid": "4ff332d8-8879-42f5-aec7-86b08eded886",
    "_uuid": "08094eeffda4b9305feadcddb81d23939cc54118"
   },
   "source": [
    "We can use the following function to view examples for a particular category/class. "
   ]
  },
  {
   "cell_type": "code",
   "execution_count": 10,
   "metadata": {
    "_cell_guid": "cb504ab7-69c9-4b14-8095-4f8da01b7cb8",
    "_kg_hide-output": false,
    "_uuid": "9cf3617aba56a6242ba9110a1548fb8858d6baba",
    "scrolled": false
   },
   "outputs": [
    {
     "data": {
      "text/html": [
       "<div><div style='position:relative;display:inline-block'><img style='width: 180px;height:180px; margin: 0px; float: left; border: 1px solid black;' src='https://img12.360buyimg.com/imgzone/jfs/t15508/201/863528153/312002/6ee6c210/5a40b287Nbf9f9a53.jpg'/></div><div style='position:relative;display:inline-block'><img style='width: 180px;height:180px; margin: 0px; float: left; border: 1px solid black;' src='http://att2.citysbs.com/tiaozao/2012/08/06/21/213004_15221344259804630_9851edbbda65f69d0a6fc4f34c5a98df.jpg'/></div><div style='position:relative;display:inline-block'><img style='width: 180px;height:180px; margin: 0px; float: left; border: 1px solid black;' src='http://imgsrc.baidu.com/image/c0%3Dshijue1%2C0%2C0%2C294%2C40/sign=3a6b9165dc88d43fe4a499b11577b86e/8694a4c27d1ed21bc89c18f5a76eddc451da3f4c.jpg'/></div><div style='position:relative;display:inline-block'><img style='width: 180px;height:180px; margin: 0px; float: left; border: 1px solid black;' src='https://img13.360buyimg.com/imgzone/jfs/t3004/287/2181126393/155345/b43ae8ef/57d27be9N54f4b1cc.jpg'/></div><div style='position:relative;display:inline-block'><img style='width: 180px;height:180px; margin: 0px; float: left; border: 1px solid black;' src='http://pic16.997788.com/pic_search/00/31/78/38/se31783809.jpg'/></div><div style='position:relative;display:inline-block'><img style='width: 180px;height:180px; margin: 0px; float: left; border: 1px solid black;' src='http://static-news.17house.com/web/article/20/e/20151008_d54d3627d18b307aaf87J5eQqLhiRwhM.jpg?'/></div><div style='position:relative;display:inline-block'><img style='width: 180px;height:180px; margin: 0px; float: left; border: 1px solid black;' src='http://img5.pcpop.com/ProductImages/640x480/6/6147/006147095.jpg'/></div><div style='position:relative;display:inline-block'><img style='width: 180px;height:180px; margin: 0px; float: left; border: 1px solid black;' src='https://img14.360buyimg.com/imgzone/jfs/t3637/168/1577476412/144128/d10003a/582b0b3fNa1d63eb5.jpg'/></div><div style='position:relative;display:inline-block'><img style='width: 180px;height:180px; margin: 0px; float: left; border: 1px solid black;' src='https://img10.360buyimg.com/imgzone/jfs/t11959/337/835871742/117872/ddddc6e6/59f99407Nc98b7c42.jpg'/></div><div style='position:relative;display:inline-block'><img style='width: 180px;height:180px; margin: 0px; float: left; border: 1px solid black;' src='https://img12.360buyimg.com/imgzone/jfs/t3052/19/658531525/158773/4e4c7094/57bcfc7eNdf005fe0.jpg'/></div><div style='position:relative;display:inline-block'><img style='width: 180px;height:180px; margin: 0px; float: left; border: 1px solid black;' src='http://s14.sinaimg.cn/mw690/0019aX35zy76vyzSJVHad&690'/></div><div style='position:relative;display:inline-block'><img style='width: 180px;height:180px; margin: 0px; float: left; border: 1px solid black;' src='https://img14.360buyimg.com/imgzone/jfs/t5902/5/504962515/137288/86f1d78c/5928f11fN9f319434.jpg'/></div><div style='position:relative;display:inline-block'><img style='width: 180px;height:180px; margin: 0px; float: left; border: 1px solid black;' src='http://img003.mllres.com//images/upload/%E7%94%B5%E8%A7%86%E6%9C%BA%20(2)(18).jpg'/></div><div style='position:relative;display:inline-block'><img style='width: 180px;height:180px; margin: 0px; float: left; border: 1px solid black;' src='http://attach2.scimg.cn/forum/201405/18/175226cwws8azak9tde88n.jpg'/></div><div style='position:relative;display:inline-block'><img style='width: 180px;height:180px; margin: 0px; float: left; border: 1px solid black;' src='http://imgsrc.baidu.com/image/c0%3Dshijue1%2C0%2C0%2C294%2C40/sign=fb9ab5a0e1c4b7452099bf55a7957462/42a98226cffc1e177b4dbfb84090f603728de94d.jpg'/></div><div style='position:relative;display:inline-block'><img style='width: 180px;height:180px; margin: 0px; float: left; border: 1px solid black;' src='http://i.epochtimes.com/assets/uploads/2017/12/longest-cat-600x400.jpg'/></div><div style='position:relative;display:inline-block'><img style='width: 180px;height:180px; margin: 0px; float: left; border: 1px solid black;' src='http://n.sinaimg.cn/sinacn/20171019/9c9b-fymzzpv6467126.jpg'/></div><div style='position:relative;display:inline-block'><img style='width: 180px;height:180px; margin: 0px; float: left; border: 1px solid black;' src='http://news.xmhouse.com/NewDecorate/hyzx/qg/201210/W020121010516069698229.jpg'/></div><div style='position:relative;display:inline-block'><img style='width: 180px;height:180px; margin: 0px; float: left; border: 1px solid black;' src='http://img4.duitang.com/uploads/item/201204/04/20120404181640_MAi4W.jpeg'/></div><div style='position:relative;display:inline-block'><img style='width: 180px;height:180px; margin: 0px; float: left; border: 1px solid black;' src='http://pic2.nipic.com/20090422/2496884_095615099_2.jpg'/></div></div>"
      ],
      "text/plain": [
       "<IPython.core.display.HTML object>"
      ]
     },
     "metadata": {},
     "output_type": "display_data"
    }
   ],
   "source": [
    "def displayCategoryExamples(category=0,nExamples=20):\n",
    "    outHTML = \"<div>\"\n",
    "    for idx in range(0,nExamples):\n",
    "        img_style = \"width: 180px;height:180px; margin: 0px; float: left; border: 1px solid black;\"\n",
    "        outHTML += \"<div style='position:relative;display:inline-block'><img style='\"+img_style+\"' src='\"+trainingDF[trainingDF.label == category].iloc[idx][0]+\"'/></div>\"\n",
    "    outHTML += \"</div>\"\n",
    "    display(HTML(outHTML))\n",
    "    \n",
    "displayCategoryExamples(7)"
   ]
  },
  {
   "cell_type": "markdown",
   "metadata": {
    "_cell_guid": "1ac4ab35-00fa-47ae-bf1e-20d49596c229",
    "_uuid": "48ec1db69186a799d91255fb083b27bbf0d9de60"
   },
   "source": [
    "Just from looking at examples in class 7, TVs, we can note a few things: \n",
    "* Some are natural images with the TVs included in their surroundings. \n",
    "* Some are artifical images of cartoon TVs. \n",
    "* Some images have digital artifacts overlayed upon the image ( like the date of the image ). \n",
    "* There are different angles provided. \n",
    "\n",
    "Let's look at another category to see if this type of variablity is consistent across the classes. \n"
   ]
  },
  {
   "cell_type": "code",
   "execution_count": 11,
   "metadata": {
    "_cell_guid": "b9b37a05-fdf8-4247-ba88-a28a196a8721",
    "_uuid": "59e3460501bba6769736dc83369ee83c5afb519c"
   },
   "outputs": [
    {
     "data": {
      "text/html": [
       "<div><div style='position:relative;display:inline-block'><img style='width: 180px;height:180px; margin: 0px; float: left; border: 1px solid black;' src='http://img.xiugei.com/viewinfo/infoimgsps/yigui/content1508738728310.png'/></div><div style='position:relative;display:inline-block'><img style='width: 180px;height:180px; margin: 0px; float: left; border: 1px solid black;' src='http://www.yoagoa.com/photos/info/20160318/20160318051638885.jpg'/></div><div style='position:relative;display:inline-block'><img style='width: 180px;height:180px; margin: 0px; float: left; border: 1px solid black;' src='https://img13.360buyimg.com/imgzone/jfs/t6649/308/790312906/451207/662b73ff/59454bd4Nb0f9cf42.jpg'/></div><div style='position:relative;display:inline-block'><img style='width: 180px;height:180px; margin: 0px; float: left; border: 1px solid black;' src='http://www.yoagoa.com/photos/info/20160222/20160222082914162.jpg'/></div><div style='position:relative;display:inline-block'><img style='width: 180px;height:180px; margin: 0px; float: left; border: 1px solid black;' src='http://www.oulijiaju.com/uploads/allimg/170706/1-1FF60UPIL-lp.jpg'/></div><div style='position:relative;display:inline-block'><img style='width: 180px;height:180px; margin: 0px; float: left; border: 1px solid black;' src='https://img13.360buyimg.com/imgzone/jfs/t6562/315/1630725253/295146/7f51727e/5954cccdNb1190c7d.jpg'/></div><div style='position:relative;display:inline-block'><img style='width: 180px;height:180px; margin: 0px; float: left; border: 1px solid black;' src='http://source.iacoms.ifeng.com/imgservice/homeapp/2015/02/1423203943_9996.jpg'/></div><div style='position:relative;display:inline-block'><img style='width: 180px;height:180px; margin: 0px; float: left; border: 1px solid black;' src='http://www.ikemod.com/uploads/allimg/171211/135F62535-4.jpg?imageMogr2/auto-orient/thumbnail/600x/blur/1x0/quality/75|imageslim'/></div><div style='position:relative;display:inline-block'><img style='width: 180px;height:180px; margin: 0px; float: left; border: 1px solid black;' src='http://auto.ln110.com.cn/upload/images/bao/uploaded/i2/TB1A.SjLXXXXXc8XFXXXXXXXXXX_%21%210-item_pic.jpg_460x460.jpg'/></div><div style='position:relative;display:inline-block'><img style='width: 180px;height:180px; margin: 0px; float: left; border: 1px solid black;' src='http://image.yoagoa.com/photos/info/20160318/20160318072704736.jpg'/></div><div style='position:relative;display:inline-block'><img style='width: 180px;height:180px; margin: 0px; float: left; border: 1px solid black;' src='https://img12.360buyimg.com/imgzone/jfs/t10159/14/473504139/213740/bf5b4720/59d02e85N2d612b63.jpg'/></div><div style='position:relative;display:inline-block'><img style='width: 180px;height:180px; margin: 0px; float: left; border: 1px solid black;' src='https://img14.360buyimg.com/imgzone/jfs/t7405/27/4591030116/180735/ecd8bcb4/5a03a530Na59dde41.jpg'/></div><div style='position:relative;display:inline-block'><img style='width: 180px;height:180px; margin: 0px; float: left; border: 1px solid black;' src='http://www.10topcn.com/uploads/allimg/171006/1-1G006164251439.jpg'/></div><div style='position:relative;display:inline-block'><img style='width: 180px;height:180px; margin: 0px; float: left; border: 1px solid black;' src='http://docs.ebdoor.com/Image/InfoContentImage/ProductDesc/2015/09/06/3d/3d54502a-8475-44af-ab48-3cdd33aa50f0.jpg'/></div><div style='position:relative;display:inline-block'><img style='width: 180px;height:180px; margin: 0px; float: left; border: 1px solid black;' src='http://www.ymt998.com/file/upload/201508/15/06-16-34-13-1.jpg'/></div><div style='position:relative;display:inline-block'><img style='width: 180px;height:180px; margin: 0px; float: left; border: 1px solid black;' src='http://image.jiaju100.com/20171201/01130058zu3o.jpg'/></div><div style='position:relative;display:inline-block'><img style='width: 180px;height:180px; margin: 0px; float: left; border: 1px solid black;' src='http://img.xiugei.com/viewinfo/infoimgsps/yigui/content1422592308166.png'/></div><div style='position:relative;display:inline-block'><img style='width: 180px;height:180px; margin: 0px; float: left; border: 1px solid black;' src='https://img10.360buyimg.com/imgzone/jfs/t9931/115/965562826/97852/e4dc0177/59dad90dN5cee8d7b.jpg'/></div><div style='position:relative;display:inline-block'><img style='width: 180px;height:180px; margin: 0px; float: left; border: 1px solid black;' src='https://img.alicdn.com/imgextra/T1rVR4Xw4XXXXXXXXX_!!0-item_pic.jpg'/></div><div style='position:relative;display:inline-block'><img style='width: 180px;height:180px; margin: 0px; float: left; border: 1px solid black;' src='https://img.alicdn.com/imgextra/TB2EbE3XOIRMeJjy0FbXXbnqXXa_!!2268836893.jpg'/></div></div>"
      ],
      "text/plain": [
       "<IPython.core.display.HTML object>"
      ]
     },
     "metadata": {},
     "output_type": "display_data"
    }
   ],
   "source": [
    "displayCategoryExamples(24)"
   ]
  },
  {
   "cell_type": "markdown",
   "metadata": {
    "_cell_guid": "4c725b80-38ee-43b9-8185-2d5520d90114",
    "_uuid": "6553d6580dc438c6eecd2b8c65ccb9690af8f539",
    "collapsed": true
   },
   "source": [
    "It does seem like there is a huge variablity within each class. In the next section you will be able to interactively pan around the dataset. This requires you to be running this notebook as a fork, as a static rendering will not include interactive elements. There is no preloading done here, so it may take some time for all the images to load. "
   ]
  },
  {
   "cell_type": "code",
   "execution_count": 12,
   "metadata": {
    "_cell_guid": "2947657b-662f-4d29-bc61-6e5de60dbea1",
    "_uuid": "c36e8dccfc958218536c0bf95ed6ff01fe50764b"
   },
   "outputs": [
    {
     "data": {
      "text/html": [
       "<div><div style='position:relative;display:inline-block'><img style='width: 180px;height:180px; margin: 0px; float: left; border: 1px solid black;' src='https://img.alicdn.com/imgextra/TB1ucPbbBLN8KJjSZPhL6U.spXa_SPEC.jpg'/></div><div style='position:relative;display:inline-block'><img style='width: 180px;height:180px; margin: 0px; float: left; border: 1px solid black;' src='https://img10.360buyimg.com/imgzone/jfs/t4357/120/1201152624/703235/975fe667/58bf73b6N84c59037.jpg'/></div><div style='position:relative;display:inline-block'><img style='width: 180px;height:180px; margin: 0px; float: left; border: 1px solid black;' src='https://img13.360buyimg.com/imgzone/jfs/t4552/54/1083823320/168822/c798f310/58d8db28N0a07010f.jpg'/></div><div style='position:relative;display:inline-block'><img style='width: 180px;height:180px; margin: 0px; float: left; border: 1px solid black;' src='https://img10.360buyimg.com/imgzone/jfs/t3325/234/1482396098/135483/6485e3c6/582bc89bNcd942079.jpg'/></div><div style='position:relative;display:inline-block'><img style='width: 180px;height:180px; margin: 0px; float: left; border: 1px solid black;' src='https://img11.360buyimg.com/imgzone/jfs/t3154/223/5502733018/399562/6a5d97a0/58747fd9N79d7cf12.jpg'/></div><div style='position:relative;display:inline-block'><img style='width: 180px;height:180px; margin: 0px; float: left; border: 1px solid black;' src='http://pic1.shejiben.com/mall/2013/10/29/20131029120122-ec7f983e.jpg'/></div><div style='position:relative;display:inline-block'><img style='width: 180px;height:180px; margin: 0px; float: left; border: 1px solid black;' src='http://img10.360buyimg.com/popWaterMark/jfs/t622/271/96261229/228651/a908fcf1/544e4423Nde581d17.jpg'/></div><div style='position:relative;display:inline-block'><img style='width: 180px;height:180px; margin: 0px; float: left; border: 1px solid black;' src='http://file7.gucn.com/file3/CurioPicfile/20151015/Gucn_20151015406630171336Pic6.jpg'/></div><div style='position:relative;display:inline-block'><img style='width: 180px;height:180px; margin: 0px; float: left; border: 1px solid black;' src='https://img14.360buyimg.com/imgzone/jfs/t1369/75/1432564263/189115/1faa39bb/55c7695bNf6286839.jpg'/></div><div style='position:relative;display:inline-block'><img style='width: 180px;height:180px; margin: 0px; float: left; border: 1px solid black;' src='http://img3410.weyesns.com/uploads/9evzzyix.allweyes.com/images/15003410782681.jpg'/></div><div style='position:relative;display:inline-block'><img style='width: 180px;height:180px; margin: 0px; float: left; border: 1px solid black;' src='http://img003.hc360.cn/y4/M05/27/87/wKhQiFWBZHOEENqeAAAAANtUX48924.jpg'/></div><div style='position:relative;display:inline-block'><img style='width: 180px;height:180px; margin: 0px; float: left; border: 1px solid black;' src='https://img10.360buyimg.com/imgzone/jfs/t5776/316/4240616180/110906/98703bb6/59486b0cNee93713e.jpg'/></div><div style='position:relative;display:inline-block'><img style='width: 180px;height:180px; margin: 0px; float: left; border: 1px solid black;' src='http://ydjiaju.com/UploadFiles/Product/20150324164600_39449.jpg'/></div><div style='position:relative;display:inline-block'><img style='width: 180px;height:180px; margin: 0px; float: left; border: 1px solid black;' src='https://img1.momoshop.com.tw/goodsimg/0005/240/094/5240094_L.jpg?t=1511524937'/></div><div style='position:relative;display:inline-block'><img style='width: 180px;height:180px; margin: 0px; float: left; border: 1px solid black;' src='http://imgsrc.baidu.com/imgad/pic/item/023b5bb5c9ea15cedbc7b4ffbc003af33a87b21f.jpg'/></div><div style='position:relative;display:inline-block'><img style='width: 180px;height:180px; margin: 0px; float: left; border: 1px solid black;' src='http://cimg.163.com/lady/0212/03/p_6129_2.jpg'/></div><div style='position:relative;display:inline-block'><img style='width: 180px;height:180px; margin: 0px; float: left; border: 1px solid black;' src='https://cbu01.alicdn.com/img/ibank/2017/172/610/4467016271_1679083667.310x310.jpg'/></div><div style='position:relative;display:inline-block'><img style='width: 180px;height:180px; margin: 0px; float: left; border: 1px solid black;' src='https://img12.360buyimg.com/imgzone/jfs/t1966/128/1406140054/77172/979a9d25/56a97e82N029d7e23.jpg'/></div><div style='position:relative;display:inline-block'><img style='width: 180px;height:180px; margin: 0px; float: left; border: 1px solid black;' src='http://imgsrc.baidu.com/imgad/pic/item/63d0f703918fa0ecab70d3282c9759ee3d6ddb64.jpg'/></div><div style='position:relative;display:inline-block'><img style='width: 180px;height:180px; margin: 0px; float: left; border: 1px solid black;' src='https://img.alicdn.com/imgextra/TB2_TPwoC0jpuFjy0FlXXc0bpXa_!!2774566324.jpg'/></div><div style='position:relative;display:inline-block'><img style='width: 180px;height:180px; margin: 0px; float: left; border: 1px solid black;' src='http://img.atobo.com/ProductImg/Sell_Buy/5/1/8/7/200/5187200/Big/2016_11_9_10_58_55_42106.JPG'/></div><div style='position:relative;display:inline-block'><img style='width: 180px;height:180px; margin: 0px; float: left; border: 1px solid black;' src='https://img.alicdn.com/imgextra/TB2E_GDuXXXXXbQXpXXXXXXXXXX_!!2104893490.jpg'/></div><div style='position:relative;display:inline-block'><img style='width: 180px;height:180px; margin: 0px; float: left; border: 1px solid black;' src='https://img14.360buyimg.com/imgzone/jfs/t4399/200/1342799007/180208/e4ede7b0/58dcc85aNca295f8b.jpg'/></div><div style='position:relative;display:inline-block'><img style='width: 180px;height:180px; margin: 0px; float: left; border: 1px solid black;' src='https://img.alicdn.com/imgextra/TB2.MkzaXXXXXcbXXXXXXXXXXXX_!!456884621.jpg'/></div><div style='position:relative;display:inline-block'><img style='width: 180px;height:180px; margin: 0px; float: left; border: 1px solid black;' src='http://img.99114.com/group1/M00/E9/70/wKgGMFkS7jaASj_iAAFPdPpsaa8139.jpg'/></div><div style='position:relative;display:inline-block'><img style='width: 180px;height:180px; margin: 0px; float: left; border: 1px solid black;' src='https://img10.360buyimg.com/imgzone/jfs/t7843/104/1463437103/256488/d8502cac/599d31bfN3578b0a0.jpg'/></div><div style='position:relative;display:inline-block'><img style='width: 180px;height:180px; margin: 0px; float: left; border: 1px solid black;' src='http://image.xcar.com.cn/attachments/a/day_140107/2014010716_3811939081961854618aGVEnO2AH8ng6_sst_560.jpg'/></div><div style='position:relative;display:inline-block'><img style='width: 180px;height:180px; margin: 0px; float: left; border: 1px solid black;' src='https://a.ecimg.tw/items/DEABBZA9007H9MQ/000001_1513562390.jpg'/></div><div style='position:relative;display:inline-block'><img style='width: 180px;height:180px; margin: 0px; float: left; border: 1px solid black;' src='http://image1.yihaojiaju.com/1/0/SysImg/0/2017/02/14/165035975.jpg'/></div><div style='position:relative;display:inline-block'><img style='width: 180px;height:180px; margin: 0px; float: left; border: 1px solid black;' src='https://img12.360buyimg.com/imgzone/jfs/t4597/130/1988982595/252496/7c8bf878/58e98e08N02052143.jpg'/></div><div style='position:relative;display:inline-block'><img style='width: 180px;height:180px; margin: 0px; float: left; border: 1px solid black;' src='https://img11.360buyimg.com/imgzone/jfs/t5113/222/2308140504/45391/e687f7c3/5919987dNeeb2bbdb.jpg'/></div><div style='position:relative;display:inline-block'><img style='width: 180px;height:180px; margin: 0px; float: left; border: 1px solid black;' src='http://sup1.soletong.img.51sole.com/images3/20150721/835600_201572182678.jpg'/></div><div style='position:relative;display:inline-block'><img style='width: 180px;height:180px; margin: 0px; float: left; border: 1px solid black;' src='http://imgsrc.baidu.com/imgad/pic/item/95eef01f3a292df513110308b6315c6035a873d9.jpg'/></div><div style='position:relative;display:inline-block'><img style='width: 180px;height:180px; margin: 0px; float: left; border: 1px solid black;' src='https://img.alicdn.com/imgextra/TB1Jg6LaZ2vU1JjSZFwXXX2cpXa_!!2-item_pic.png'/></div><div style='position:relative;display:inline-block'><img style='width: 180px;height:180px; margin: 0px; float: left; border: 1px solid black;' src='http://g.hiphotos.baidu.com/zhidao/pic/item/8644ebf81a4c510fb7b9085f6059252dd42aa572.jpg'/></div><div style='position:relative;display:inline-block'><img style='width: 180px;height:180px; margin: 0px; float: left; border: 1px solid black;' src='http://static.house.sina.com.cn/supportsjiaju/product/67/46/o791466001267615740.jpg'/></div><div style='position:relative;display:inline-block'><img style='width: 180px;height:180px; margin: 0px; float: left; border: 1px solid black;' src='https://img12.360buyimg.com/imgzone/jfs/t2749/116/1618154722/114941/104cd6c8/5743fea6N7ceca256.jpg'/></div><div style='position:relative;display:inline-block'><img style='width: 180px;height:180px; margin: 0px; float: left; border: 1px solid black;' src='http://pic4.nipic.com/20091021/3601367_223556095429_2.jpg'/></div><div style='position:relative;display:inline-block'><img style='width: 180px;height:180px; margin: 0px; float: left; border: 1px solid black;' src='http://pic.to8to.com/smallcase/1404/22/20140422_5fec564e8286a94fb5cdoensj5p4os5x_284.jpg'/></div><div style='position:relative;display:inline-block'><img style='width: 180px;height:180px; margin: 0px; float: left; border: 1px solid black;' src='http://img11.360buyimg.com/popWaterMark/jfs/t268/276/790228539/416721/1fb3690d/53f1a852N199d39f6.jpg'/></div></div>"
      ],
      "text/plain": [
       "<IPython.core.display.HTML object>"
      ]
     },
     "metadata": {},
     "output_type": "display_data"
    },
    {
     "data": {
      "text/plain": [
       "<function __main__.visCat>"
      ]
     },
     "execution_count": 12,
     "metadata": {},
     "output_type": "execute_result"
    }
   ],
   "source": [
    "def visCat(cat=1):\n",
    "    displayCategoryExamples(cat,40)\n",
    "    \n",
    "interact(visCat, cat=(1,128))"
   ]
  },
  {
   "cell_type": "markdown",
   "metadata": {
    "_cell_guid": "3efea7a4-d0df-4457-887d-5f380c98b0b6",
    "_uuid": "2d23f3841c49381554945a136844c9170801862c"
   },
   "source": [
    "## Next Steps\n",
    "For futher visualization we would need to download the images which we are unable to do in a contained Kaggle kernel. There are a few download scripts available in the kernels section. It would be nice if someone could download the images and upload a partial set of the training, validation, and test data so we can do more analysis in these notebooks. \n"
   ]
  }
 ],
 "metadata": {
  "kernelspec": {
   "display_name": "Python 3",
   "language": "python",
   "name": "python3"
  },
  "language_info": {
   "codemirror_mode": {
    "name": "ipython",
    "version": 3
   },
   "file_extension": ".py",
   "mimetype": "text/x-python",
   "name": "python",
   "nbconvert_exporter": "python",
   "pygments_lexer": "ipython3",
   "version": "3.6.2"
  }
 },
 "nbformat": 4,
 "nbformat_minor": 1
}

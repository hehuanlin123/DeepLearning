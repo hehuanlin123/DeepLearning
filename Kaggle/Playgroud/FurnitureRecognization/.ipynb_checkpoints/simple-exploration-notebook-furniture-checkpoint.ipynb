{
 "cells": [
  {
   "cell_type": "markdown",
   "metadata": {
    "_cell_guid": "f0af84e9-d883-4baa-807d-506920bd677b",
    "_uuid": "a1fe80d05c2422bb697dd8e3d1ea9957bda0557d"
   },
   "source": [
    "# Importing the libraries"
   ]
  },
  {
   "cell_type": "code",
   "execution_count": 1,
   "metadata": {
    "_cell_guid": "79c7e3d0-c299-4dcb-8224-4455121ee9b0",
    "_kg_hide-input": false,
    "_uuid": "d629ff2d2480ee46fbb7e2d37f6b5fab8052498a",
    "collapsed": true
   },
   "outputs": [],
   "source": [
    "import numpy as np # linear algebra\n",
    "import pandas as pd # data processing, CSV file I/O (e.g. pd.read_csv)\n",
    "import matplotlib.pyplot as plt\n",
    "import seaborn as sns\n",
    "import json\n",
    "import csv\n",
    "from pandas import DataFrame\n",
    "\n",
    "%matplotlib inline "
   ]
  },
  {
   "cell_type": "markdown",
   "metadata": {
    "_cell_guid": "9426ac5d-5eb3-4678-a543-1e4f5128f1e9",
    "_uuid": "6f02baa3421433367b1cd9eb728764f93d64e0a6"
   },
   "source": [
    "# Retrieving the Data"
   ]
  },
  {
   "cell_type": "code",
   "execution_count": 2,
   "metadata": {
    "_cell_guid": "bf74635f-147d-47b6-91db-368b25e1535e",
    "_kg_hide-input": false,
    "_uuid": "e3b42ac8442d7c72aebbe4ac24b5dd98594f6c06"
   },
   "outputs": [
    {
     "data": {
      "text/plain": [
       "(194828, 2)"
      ]
     },
     "execution_count": 2,
     "metadata": {},
     "output_type": "execute_result"
    }
   ],
   "source": [
    "with open(\"/Users/szkfzx/datasets/imaterialist-challenge-furniture-2018/train.json\") as datafile1: #first check if it's a valid json file or not\n",
    "    data1 = json.load(datafile1)\n",
    "with open(\"/Users/szkfzx/datasets/imaterialist-challenge-furniture-2018/test.json\") as datafile2: #first check if it's a valid json file or not\n",
    "    data2 = json.load(datafile2)\n",
    "with open(\"/Users/szkfzx/datasets/imaterialist-challenge-furniture-2018/validation.json\") as datafile3: #first check if it's a valid json file or not\n",
    "    data3 = json.load(datafile3)\n",
    "test = pd.DataFrame(data1)    \n",
    "test.shape"
   ]
  },
  {
   "cell_type": "markdown",
   "metadata": {
    "_cell_guid": "c7e9590e-711f-4b1a-85fb-fd8ad057fb1e",
    "_uuid": "60b4b251ee5f76798660fcf3534cbf923fb698ae"
   },
   "source": [
    "# Convertng JSON format data into Tabular data"
   ]
  },
  {
   "cell_type": "code",
   "execution_count": 3,
   "metadata": {
    "_cell_guid": "38508bc5-9e94-4b51-8daf-1a68ec9bd777",
    "_kg_hide-input": false,
    "_uuid": "8ff94da0b400987d2fb40149113592971aebf3d3"
   },
   "outputs": [
    {
     "name": "stdout",
     "output_type": "stream",
     "text": [
      "dict_keys(['images', 'annotations'])\n",
      "df2    image_id  label_id\n",
      "0         1         5\n",
      "1         2         5\n",
      "2         3         5\n",
      "3         4         5\n",
      "4         5         5\n",
      "fd2                                                  url  image_id\n",
      "0  [https://img13.360buyimg.com/imgzone/jfs/t2857...         1\n",
      "1  [http://www.tengdakeli.cn/350/timg01/uploaded/...         2\n",
      "2  [https://img13.360buyimg.com/imgzone/jfs/t8899...         3\n",
      "3  [http://img4.tbcdn.cn/tfscom/i1/2855447419/TB2...         4\n",
      "4  [http://a.vpimg4.com/upload/merchandise/287883...         5\n",
      "dict_keys(['images', 'annotations'])\n",
      "df2    image_id  label_id\n",
      "0         1        38\n",
      "1         2        63\n",
      "2         3        33\n",
      "3         4       126\n",
      "4         5        18\n",
      "fd2                                                  url  image_id\n",
      "0  [http://www.ghs.net/public/images/fb/3d/51/3be...         1\n",
      "1  [https://img.alicdn.com/imgextra/TB2chFei9YH8K...         2\n",
      "2  [http://static-news.17house.com/web/news/20160...         3\n",
      "3  [http://img000.hc360.cn/g6/M07/CB/88/wKhQsFNNV...         4\n",
      "4  [https://img.alicdn.com/imgextra/T1sLtpFH8aXXX...         5\n",
      "dict_keys(['images'])\n",
      "test_data                                                  url  image_id\n",
      "0  [https://img13.360buyimg.com/imgzone/jfs/t1317...         1\n",
      "1   [http://img35.ddimg.cn/79/22/1258168705-1_u.jpg]         2\n",
      "2  [https://img.alicdn.com/imgextra/TB19HtjKXXXXX...         3\n",
      "3  [https://img13.360buyimg.com/imgzone/jfs/t1649...         4\n",
      "4  [http://img4.99114.com/group1/M00/7D/C5/wKgGTF...         5\n"
     ]
    }
   ],
   "source": [
    "# for training data\n",
    "my_dic_data = data1\n",
    "keys = my_dic_data.keys()\n",
    "print(keys)\n",
    "dict_you_want1 = {'my_items1':my_dic_data['annotations']for key in keys}\n",
    "dict_you_want2 = {'my_items2':my_dic_data['images']for key in keys}\n",
    "df = pd.DataFrame(dict_you_want1)\n",
    "fd = pd.DataFrame(dict_you_want2)\n",
    "df2=df['my_items1'].apply(pd.Series)\n",
    "print(\"df2\",df2.head())\n",
    "fd2=fd['my_items2'].apply(pd.Series)\n",
    "print(\"fd2\",fd2.head())\n",
    "train_data = pd.merge(df2, fd2, on='image_id', how='outer')\n",
    "\n",
    "# for validation data\n",
    "my_dic_data = data3\n",
    "keys= my_dic_data.keys()\n",
    "print(keys)\n",
    "dict_you_want1={'my_items1':my_dic_data['annotations']for key in keys}\n",
    "dict_you_want2={'my_items2':my_dic_data['images']for key in keys}\n",
    "df=pd.DataFrame(dict_you_want1)\n",
    "fd = pd.DataFrame(dict_you_want2)\n",
    "df2=df['my_items1'].apply(pd.Series)\n",
    "print(\"df2\",df2.head())\n",
    "fd2=fd['my_items2'].apply(pd.Series)\n",
    "print(\"fd2\",fd2.head())\n",
    "validation_data = pd.merge(df2, fd2, on='image_id', how='outer')\n",
    "\n",
    "# for test data\n",
    "my_dic_data = data2\n",
    "keys= my_dic_data.keys()\n",
    "print(keys)\n",
    "dict_you_want2={'my_items2':my_dic_data['images']for key in keys}\n",
    "fd = pd.DataFrame(dict_you_want2)\n",
    "test_data=fd['my_items2'].apply(pd.Series)\n",
    "print(\"test_data\",test_data.head())"
   ]
  },
  {
   "cell_type": "code",
   "execution_count": 4,
   "metadata": {
    "_cell_guid": "8fc812a4-fb7d-40f7-b541-2a7f247b7eda",
    "_uuid": "b9ce45e50236051617609b29ef35620d24d96f46",
    "collapsed": true
   },
   "outputs": [],
   "source": [
    "train_data['url'] = train_data['url'].apply(lambda x:str(x[0]))\n",
    "test_data['url'] = test_data['url'].apply(lambda x:str(x[0]))\n",
    "validation_data['url'] = validation_data['url'].apply(lambda x:str(x[0]))\n"
   ]
  },
  {
   "cell_type": "markdown",
   "metadata": {
    "_cell_guid": "6d4c51b8-5e8e-498e-936b-6be37b998ea4",
    "_uuid": "92f282caf62eaee26c87d7311ef538be6d3e4052"
   },
   "source": [
    "**Training data**"
   ]
  },
  {
   "cell_type": "code",
   "execution_count": 5,
   "metadata": {
    "_cell_guid": "519954b4-3659-4e72-83c1-f4387ef6e356",
    "_kg_hide-input": false,
    "_uuid": "658b1b84c9e0cc81ee6949548ce3baa79f57745a"
   },
   "outputs": [
    {
     "data": {
      "text/html": [
       "<div>\n",
       "<style scoped>\n",
       "    .dataframe tbody tr th:only-of-type {\n",
       "        vertical-align: middle;\n",
       "    }\n",
       "\n",
       "    .dataframe tbody tr th {\n",
       "        vertical-align: top;\n",
       "    }\n",
       "\n",
       "    .dataframe thead th {\n",
       "        text-align: right;\n",
       "    }\n",
       "</style>\n",
       "<table border=\"1\" class=\"dataframe\">\n",
       "  <thead>\n",
       "    <tr style=\"text-align: right;\">\n",
       "      <th></th>\n",
       "      <th>image_id</th>\n",
       "      <th>label_id</th>\n",
       "      <th>url</th>\n",
       "    </tr>\n",
       "  </thead>\n",
       "  <tbody>\n",
       "    <tr>\n",
       "      <th>0</th>\n",
       "      <td>1</td>\n",
       "      <td>5</td>\n",
       "      <td>https://img13.360buyimg.com/imgzone/jfs/t2857/...</td>\n",
       "    </tr>\n",
       "    <tr>\n",
       "      <th>1</th>\n",
       "      <td>2</td>\n",
       "      <td>5</td>\n",
       "      <td>http://www.tengdakeli.cn/350/timg01/uploaded/i...</td>\n",
       "    </tr>\n",
       "    <tr>\n",
       "      <th>2</th>\n",
       "      <td>3</td>\n",
       "      <td>5</td>\n",
       "      <td>https://img13.360buyimg.com/imgzone/jfs/t8899/...</td>\n",
       "    </tr>\n",
       "    <tr>\n",
       "      <th>3</th>\n",
       "      <td>4</td>\n",
       "      <td>5</td>\n",
       "      <td>http://img4.tbcdn.cn/tfscom/i1/2855447419/TB2S...</td>\n",
       "    </tr>\n",
       "    <tr>\n",
       "      <th>4</th>\n",
       "      <td>5</td>\n",
       "      <td>5</td>\n",
       "      <td>http://a.vpimg4.com/upload/merchandise/287883/...</td>\n",
       "    </tr>\n",
       "  </tbody>\n",
       "</table>\n",
       "</div>"
      ],
      "text/plain": [
       "   image_id  label_id                                                url\n",
       "0         1         5  https://img13.360buyimg.com/imgzone/jfs/t2857/...\n",
       "1         2         5  http://www.tengdakeli.cn/350/timg01/uploaded/i...\n",
       "2         3         5  https://img13.360buyimg.com/imgzone/jfs/t8899/...\n",
       "3         4         5  http://img4.tbcdn.cn/tfscom/i1/2855447419/TB2S...\n",
       "4         5         5  http://a.vpimg4.com/upload/merchandise/287883/..."
      ]
     },
     "execution_count": 5,
     "metadata": {},
     "output_type": "execute_result"
    }
   ],
   "source": [
    "train_data.head()"
   ]
  },
  {
   "cell_type": "markdown",
   "metadata": {
    "_cell_guid": "dad8ffa0-bb36-444c-9c77-93c3584ff1bf",
    "_uuid": "49e8503b30a49b197fcf0b3e4bd728cf9267ee83"
   },
   "source": [
    "**Validation data**"
   ]
  },
  {
   "cell_type": "code",
   "execution_count": 6,
   "metadata": {
    "_cell_guid": "c1c11e27-3297-47ed-b6a8-ac357c2c02a7",
    "_uuid": "973de63e18a8afa00021719b4dae20ff26239601"
   },
   "outputs": [
    {
     "data": {
      "text/html": [
       "<div>\n",
       "<style scoped>\n",
       "    .dataframe tbody tr th:only-of-type {\n",
       "        vertical-align: middle;\n",
       "    }\n",
       "\n",
       "    .dataframe tbody tr th {\n",
       "        vertical-align: top;\n",
       "    }\n",
       "\n",
       "    .dataframe thead th {\n",
       "        text-align: right;\n",
       "    }\n",
       "</style>\n",
       "<table border=\"1\" class=\"dataframe\">\n",
       "  <thead>\n",
       "    <tr style=\"text-align: right;\">\n",
       "      <th></th>\n",
       "      <th>image_id</th>\n",
       "      <th>label_id</th>\n",
       "      <th>url</th>\n",
       "    </tr>\n",
       "  </thead>\n",
       "  <tbody>\n",
       "    <tr>\n",
       "      <th>0</th>\n",
       "      <td>1</td>\n",
       "      <td>38</td>\n",
       "      <td>http://www.ghs.net/public/images/fb/3d/51/3beb...</td>\n",
       "    </tr>\n",
       "    <tr>\n",
       "      <th>1</th>\n",
       "      <td>2</td>\n",
       "      <td>63</td>\n",
       "      <td>https://img.alicdn.com/imgextra/TB2chFei9YH8KJ...</td>\n",
       "    </tr>\n",
       "    <tr>\n",
       "      <th>2</th>\n",
       "      <td>3</td>\n",
       "      <td>33</td>\n",
       "      <td>http://static-news.17house.com/web/news/201602...</td>\n",
       "    </tr>\n",
       "    <tr>\n",
       "      <th>3</th>\n",
       "      <td>4</td>\n",
       "      <td>126</td>\n",
       "      <td>http://img000.hc360.cn/g6/M07/CB/88/wKhQsFNNVJ...</td>\n",
       "    </tr>\n",
       "    <tr>\n",
       "      <th>4</th>\n",
       "      <td>5</td>\n",
       "      <td>18</td>\n",
       "      <td>https://img.alicdn.com/imgextra/T1sLtpFH8aXXXX...</td>\n",
       "    </tr>\n",
       "  </tbody>\n",
       "</table>\n",
       "</div>"
      ],
      "text/plain": [
       "   image_id  label_id                                                url\n",
       "0         1        38  http://www.ghs.net/public/images/fb/3d/51/3beb...\n",
       "1         2        63  https://img.alicdn.com/imgextra/TB2chFei9YH8KJ...\n",
       "2         3        33  http://static-news.17house.com/web/news/201602...\n",
       "3         4       126  http://img000.hc360.cn/g6/M07/CB/88/wKhQsFNNVJ...\n",
       "4         5        18  https://img.alicdn.com/imgextra/T1sLtpFH8aXXXX..."
      ]
     },
     "execution_count": 6,
     "metadata": {},
     "output_type": "execute_result"
    }
   ],
   "source": [
    "validation_data.head()"
   ]
  },
  {
   "cell_type": "markdown",
   "metadata": {
    "_cell_guid": "fdce1b6d-137f-4a85-87d5-59cab650a7e6",
    "_uuid": "85b593ffb982ec19d7ac696ba0aa929b72cfefbf"
   },
   "source": [
    "**Test data**"
   ]
  },
  {
   "cell_type": "code",
   "execution_count": 7,
   "metadata": {
    "_cell_guid": "8bad8f66-77ec-49de-bdd9-48a6707a251a",
    "_uuid": "07037392bd5787375d5efa65b068cde266a0c598"
   },
   "outputs": [
    {
     "data": {
      "text/html": [
       "<div>\n",
       "<style scoped>\n",
       "    .dataframe tbody tr th:only-of-type {\n",
       "        vertical-align: middle;\n",
       "    }\n",
       "\n",
       "    .dataframe tbody tr th {\n",
       "        vertical-align: top;\n",
       "    }\n",
       "\n",
       "    .dataframe thead th {\n",
       "        text-align: right;\n",
       "    }\n",
       "</style>\n",
       "<table border=\"1\" class=\"dataframe\">\n",
       "  <thead>\n",
       "    <tr style=\"text-align: right;\">\n",
       "      <th></th>\n",
       "      <th>url</th>\n",
       "      <th>image_id</th>\n",
       "    </tr>\n",
       "  </thead>\n",
       "  <tbody>\n",
       "    <tr>\n",
       "      <th>0</th>\n",
       "      <td>https://img13.360buyimg.com/imgzone/jfs/t13174...</td>\n",
       "      <td>1</td>\n",
       "    </tr>\n",
       "    <tr>\n",
       "      <th>1</th>\n",
       "      <td>http://img35.ddimg.cn/79/22/1258168705-1_u.jpg</td>\n",
       "      <td>2</td>\n",
       "    </tr>\n",
       "    <tr>\n",
       "      <th>2</th>\n",
       "      <td>https://img.alicdn.com/imgextra/TB19HtjKXXXXXc...</td>\n",
       "      <td>3</td>\n",
       "    </tr>\n",
       "    <tr>\n",
       "      <th>3</th>\n",
       "      <td>https://img13.360buyimg.com/imgzone/jfs/t16498...</td>\n",
       "      <td>4</td>\n",
       "    </tr>\n",
       "    <tr>\n",
       "      <th>4</th>\n",
       "      <td>http://img4.99114.com/group1/M00/7D/C5/wKgGTFf...</td>\n",
       "      <td>5</td>\n",
       "    </tr>\n",
       "  </tbody>\n",
       "</table>\n",
       "</div>"
      ],
      "text/plain": [
       "                                                 url  image_id\n",
       "0  https://img13.360buyimg.com/imgzone/jfs/t13174...         1\n",
       "1     http://img35.ddimg.cn/79/22/1258168705-1_u.jpg         2\n",
       "2  https://img.alicdn.com/imgextra/TB19HtjKXXXXXc...         3\n",
       "3  https://img13.360buyimg.com/imgzone/jfs/t16498...         4\n",
       "4  http://img4.99114.com/group1/M00/7D/C5/wKgGTFf...         5"
      ]
     },
     "execution_count": 7,
     "metadata": {},
     "output_type": "execute_result"
    }
   ],
   "source": [
    "test_data.head()"
   ]
  },
  {
   "cell_type": "code",
   "execution_count": 8,
   "metadata": {
    "_cell_guid": "ce3a4ca8-49e4-44ea-83dd-b535ae835856",
    "_uuid": "0de8db3afabaf7a275f25504bc65f79d494815b4"
   },
   "outputs": [
    {
     "name": "stdout",
     "output_type": "stream",
     "text": [
      "size of training data (194828, 3)\n",
      "size of validation data (6400, 3)\n",
      "size of test data (12800, 2)\n"
     ]
    }
   ],
   "source": [
    "print(\"size of training data\", train_data.shape)\n",
    "print(\"size of validation data\", validation_data.shape)\n",
    "print(\"size of test data\", test_data.shape)"
   ]
  },
  {
   "cell_type": "markdown",
   "metadata": {
    "_cell_guid": "c1510d2a-71b7-45b9-a01c-eb940a742f61",
    "_uuid": "74e48f7e0e22aa358f25dc37688c6fb09cec62f8"
   },
   "source": [
    "# Checking for missing data"
   ]
  },
  {
   "cell_type": "markdown",
   "metadata": {
    "_cell_guid": "c199fc30-6024-433c-b163-c44ee79f06ae",
    "_uuid": "e331b540a960de88454af7004476a572d4aeebc0"
   },
   "source": [
    "## Missing Data in training data set"
   ]
  },
  {
   "cell_type": "code",
   "execution_count": 9,
   "metadata": {
    "_cell_guid": "e6f4eb63-454c-45d7-95fc-5f2ad1d9ea8d",
    "_uuid": "1553606026f92b68b2a09931955301c37df4b549"
   },
   "outputs": [
    {
     "data": {
      "text/html": [
       "<div>\n",
       "<style scoped>\n",
       "    .dataframe tbody tr th:only-of-type {\n",
       "        vertical-align: middle;\n",
       "    }\n",
       "\n",
       "    .dataframe tbody tr th {\n",
       "        vertical-align: top;\n",
       "    }\n",
       "\n",
       "    .dataframe thead th {\n",
       "        text-align: right;\n",
       "    }\n",
       "</style>\n",
       "<table border=\"1\" class=\"dataframe\">\n",
       "  <thead>\n",
       "    <tr style=\"text-align: right;\">\n",
       "      <th></th>\n",
       "      <th>Total</th>\n",
       "      <th>Percent</th>\n",
       "    </tr>\n",
       "  </thead>\n",
       "  <tbody>\n",
       "    <tr>\n",
       "      <th>url</th>\n",
       "      <td>0</td>\n",
       "      <td>0.0</td>\n",
       "    </tr>\n",
       "    <tr>\n",
       "      <th>label_id</th>\n",
       "      <td>0</td>\n",
       "      <td>0.0</td>\n",
       "    </tr>\n",
       "    <tr>\n",
       "      <th>image_id</th>\n",
       "      <td>0</td>\n",
       "      <td>0.0</td>\n",
       "    </tr>\n",
       "  </tbody>\n",
       "</table>\n",
       "</div>"
      ],
      "text/plain": [
       "          Total  Percent\n",
       "url           0      0.0\n",
       "label_id      0      0.0\n",
       "image_id      0      0.0"
      ]
     },
     "execution_count": 9,
     "metadata": {},
     "output_type": "execute_result"
    }
   ],
   "source": [
    "# missing data in training data set\n",
    "total = train_data.isnull().sum().sort_values(ascending = False)\n",
    "percent = (train_data.isnull().sum()/train_data.isnull().count()).sort_values(ascending = False)\n",
    "missing_train_data = pd.concat([total, percent], axis=1, keys=['Total', 'Percent'])\n",
    "missing_train_data.head()"
   ]
  },
  {
   "cell_type": "markdown",
   "metadata": {
    "_cell_guid": "fc944af1-b357-4bed-ba71-649620d3e43f",
    "_uuid": "ad0bc5bd2238ba2e2f52efab4a05689d5ef4d021"
   },
   "source": [
    "## Missing Data in validation data set"
   ]
  },
  {
   "cell_type": "code",
   "execution_count": 10,
   "metadata": {
    "_cell_guid": "78fb16bc-2cc7-4d74-ba96-9094a346bb7c",
    "_uuid": "042dfb87c70c7df0c06a0d1f514081f12aa60abe"
   },
   "outputs": [
    {
     "data": {
      "text/html": [
       "<div>\n",
       "<style scoped>\n",
       "    .dataframe tbody tr th:only-of-type {\n",
       "        vertical-align: middle;\n",
       "    }\n",
       "\n",
       "    .dataframe tbody tr th {\n",
       "        vertical-align: top;\n",
       "    }\n",
       "\n",
       "    .dataframe thead th {\n",
       "        text-align: right;\n",
       "    }\n",
       "</style>\n",
       "<table border=\"1\" class=\"dataframe\">\n",
       "  <thead>\n",
       "    <tr style=\"text-align: right;\">\n",
       "      <th></th>\n",
       "      <th>Total</th>\n",
       "      <th>Percent</th>\n",
       "    </tr>\n",
       "  </thead>\n",
       "  <tbody>\n",
       "    <tr>\n",
       "      <th>url</th>\n",
       "      <td>0</td>\n",
       "      <td>0.0</td>\n",
       "    </tr>\n",
       "    <tr>\n",
       "      <th>label_id</th>\n",
       "      <td>0</td>\n",
       "      <td>0.0</td>\n",
       "    </tr>\n",
       "    <tr>\n",
       "      <th>image_id</th>\n",
       "      <td>0</td>\n",
       "      <td>0.0</td>\n",
       "    </tr>\n",
       "  </tbody>\n",
       "</table>\n",
       "</div>"
      ],
      "text/plain": [
       "          Total  Percent\n",
       "url           0      0.0\n",
       "label_id      0      0.0\n",
       "image_id      0      0.0"
      ]
     },
     "execution_count": 10,
     "metadata": {},
     "output_type": "execute_result"
    }
   ],
   "source": [
    "# missing data in validation data set\n",
    "total = validation_data.isnull().sum().sort_values(ascending = False)\n",
    "percent = (validation_data.isnull().sum()/validation_data.isnull().count()).sort_values(ascending = False)\n",
    "missing_validation_data = pd.concat([total, percent], axis=1, keys=['Total', 'Percent'])\n",
    "missing_validation_data.head()"
   ]
  },
  {
   "cell_type": "markdown",
   "metadata": {
    "_cell_guid": "9a3bc98f-edea-40e8-9fd3-35ac8555c644",
    "_uuid": "3fd4cfba032a60e9e5db737c9d737c757947aa0f"
   },
   "source": [
    "## Missing data in test data set"
   ]
  },
  {
   "cell_type": "code",
   "execution_count": 11,
   "metadata": {
    "_cell_guid": "2bea0872-d806-47ca-a70c-09fd51b166c0",
    "_uuid": "793169b4338bcc6aa95372b993f7b7e00767611f"
   },
   "outputs": [
    {
     "data": {
      "text/html": [
       "<div>\n",
       "<style scoped>\n",
       "    .dataframe tbody tr th:only-of-type {\n",
       "        vertical-align: middle;\n",
       "    }\n",
       "\n",
       "    .dataframe tbody tr th {\n",
       "        vertical-align: top;\n",
       "    }\n",
       "\n",
       "    .dataframe thead th {\n",
       "        text-align: right;\n",
       "    }\n",
       "</style>\n",
       "<table border=\"1\" class=\"dataframe\">\n",
       "  <thead>\n",
       "    <tr style=\"text-align: right;\">\n",
       "      <th></th>\n",
       "      <th>Total</th>\n",
       "      <th>Percent</th>\n",
       "    </tr>\n",
       "  </thead>\n",
       "  <tbody>\n",
       "    <tr>\n",
       "      <th>image_id</th>\n",
       "      <td>0</td>\n",
       "      <td>0.0</td>\n",
       "    </tr>\n",
       "    <tr>\n",
       "      <th>url</th>\n",
       "      <td>0</td>\n",
       "      <td>0.0</td>\n",
       "    </tr>\n",
       "  </tbody>\n",
       "</table>\n",
       "</div>"
      ],
      "text/plain": [
       "          Total  Percent\n",
       "image_id      0      0.0\n",
       "url           0      0.0"
      ]
     },
     "execution_count": 11,
     "metadata": {},
     "output_type": "execute_result"
    }
   ],
   "source": [
    "# missing data in test data \n",
    "total = test_data.isnull().sum().sort_values(ascending = False)\n",
    "percent = (test_data.isnull().sum()/test_data.isnull().count()).sort_values(ascending = False)\n",
    "missing_test_data = pd.concat([total, percent], axis=1, keys=['Total', 'Percent'])\n",
    "missing_test_data.head()"
   ]
  },
  {
   "cell_type": "markdown",
   "metadata": {
    "_cell_guid": "db44300a-1fcb-44ae-8467-4f005212ec73",
    "_uuid": "6d5c469f56433d2215787311f3824a4c0cb3e6b6"
   },
   "source": [
    "# Open the URL"
   ]
  },
  {
   "cell_type": "code",
   "execution_count": 12,
   "metadata": {
    "_cell_guid": "10674175-21ff-49c2-a2ab-b89ca5a26976",
    "_uuid": "199019873eb33dded3922cf21493e2d8307ebc97"
   },
   "outputs": [
    {
     "name": "stdout",
     "output_type": "stream",
     "text": [
      "image_id 5\n",
      "url: http://a.vpimg4.com/upload/merchandise/287883/QQI-390870207-1.jpg\n"
     ]
    }
   ],
   "source": [
    "# now open the URL\n",
    "temp = 4\n",
    "print('image_id', train_data['image_id'][temp])\n",
    "print('url:', train_data['url'][temp])"
   ]
  },
  {
   "cell_type": "markdown",
   "metadata": {
    "_cell_guid": "4523fd2a-afb4-4dce-94da-26227b6d31e6",
    "_uuid": "75059213e55eebd3a5af9ade2b119a8a14a4dc33"
   },
   "source": [
    "# Lets display some images from URLs"
   ]
  },
  {
   "cell_type": "code",
   "execution_count": 13,
   "metadata": {
    "_cell_guid": "25daea19-f2f2-4389-9ab1-b775d514d669",
    "_uuid": "bb67bad8bdd83b45b8952767e2bf18466d779854",
    "collapsed": true
   },
   "outputs": [],
   "source": [
    "from IPython.display import Image\n",
    "from IPython.core.display import HTML \n",
    "\n",
    "def display_category(urls, category_name):\n",
    "    img_style = \"width: 180px; margin: 0px; float: left; border: 1px solid black;\"\n",
    "    images_list = ''.join([f\"<img style='{img_style}' src='{u}' />\" for _, u in urls.head(12).iteritems()])\n",
    "\n",
    "    display(HTML(images_list))"
   ]
  },
  {
   "cell_type": "markdown",
   "metadata": {
    "_cell_guid": "51ce962c-1fb2-4a7a-a92f-155955016ef7",
    "_uuid": "c248ad1ce7cac7c6b6e14acd5acb10906db02028"
   },
   "source": [
    "### Training data images"
   ]
  },
  {
   "cell_type": "code",
   "execution_count": 14,
   "metadata": {
    "_cell_guid": "ced5c6b6-e87a-4309-b42a-fc06826c91f4",
    "_uuid": "4d5c592c506330d62e5b9b9ad7289f1b1f991799"
   },
   "outputs": [
    {
     "data": {
      "text/html": [
       "<img style='width: 180px; margin: 0px; float: left; border: 1px solid black;' src='https://img14.360buyimg.com/imgzone/jfs/t2977/13/524816924/267512/8767617a/575d3181Na7521aa3.jpg' /><img style='width: 180px; margin: 0px; float: left; border: 1px solid black;' src='http://img10.360buyimg.com/n1/jfs/t310/302/1523049725/285648/6568c8bc/543c90eaNeb4ac6c1.jpg' /><img style='width: 180px; margin: 0px; float: left; border: 1px solid black;' src='https://img.alicdn.com/imgextra/TB2_XBfq.dnpuFjSZPhXXbChpXa_!!920073637.jpg' /><img style='width: 180px; margin: 0px; float: left; border: 1px solid black;' src='http://www.szthks.com/localimg/687474703a2f2f6777322e616c6963646e2e636f6d2f62616f2f75706c6f616465642f69322f544231724b49374b7058585858636b5846585858585858585858585f2121322d6974656d5f7069632e706e67.jpg' /><img style='width: 180px; margin: 0px; float: left; border: 1px solid black;' src='http://m.360buyimg.com/n12/jfs/t2101/214/715609835/47728/7f0486da/5625b2bdN18e4d410.jpg%21q70.jpg' /><img style='width: 180px; margin: 0px; float: left; border: 1px solid black;' src='https://img12.360buyimg.com/imgzone/jfs/t11368/362/1155588747/405688/609d7bc1/59fecc32N34051738.jpg' /><img style='width: 180px; margin: 0px; float: left; border: 1px solid black;' src='https://img.alicdn.com/imgextra/TB2YmWcdmhlpuFjSspkXXa1ApXa_!!2907128884.jpg' /><img style='width: 180px; margin: 0px; float: left; border: 1px solid black;' src='https://img11.360buyimg.com/imgzone/jfs/t4060/166/1100411758/125652/51d7be37/58675f96N6c9eadc4.jpg' /><img style='width: 180px; margin: 0px; float: left; border: 1px solid black;' src='http://m.360buyimg.com/n12/jfs/t2353/228/552420432/445413/3dbefbc7/56174e4dN141ea647.jpg%21q70.jpg' /><img style='width: 180px; margin: 0px; float: left; border: 1px solid black;' src='http://img.alicdn.com/imgextra/i4/2924705071/TB2ApMHcHeI.eBjSspkXXaXqVXa_%21%212924705071.jpg_480x480.jpg' /><img style='width: 180px; margin: 0px; float: left; border: 1px solid black;' src='https://img13.360buyimg.com/imgzone/jfs/t769/46/988501895/185297/aee214c3/55126144N1a7d2cd2.jpg' /><img style='width: 180px; margin: 0px; float: left; border: 1px solid black;' src='https://img.yzcdn.cn/upload_files/2017/07/10/149965644516671772.jpg?imageView2/2/w/580/h/580/q/75/format/jpg' />"
      ],
      "text/plain": [
       "<IPython.core.display.HTML object>"
      ]
     },
     "metadata": {},
     "output_type": "display_data"
    }
   ],
   "source": [
    "urls = train_data['url'][15:30]\n",
    "display_category(urls, \"\")"
   ]
  },
  {
   "cell_type": "markdown",
   "metadata": {
    "_cell_guid": "ffd281f3-c9de-4cdb-8c03-70fccaed09c3",
    "_uuid": "2138ebaad0e8283bd62070d1d2bcb04fe32cb9e2",
    "collapsed": true
   },
   "source": [
    "### Test data images"
   ]
  },
  {
   "cell_type": "code",
   "execution_count": 15,
   "metadata": {
    "_cell_guid": "5c63f317-dc93-432f-a58b-944b8fcb5243",
    "_uuid": "5f812f6057e15a3555da38ef6044eedd6de51817"
   },
   "outputs": [
    {
     "data": {
      "text/html": [
       "<img style='width: 180px; margin: 0px; float: left; border: 1px solid black;' src='https://img.alicdn.com/imgextra/TB29FgocLjM8KJjSZFsXXXdZpXa_!!3395481681.jpg' /><img style='width: 180px; margin: 0px; float: left; border: 1px solid black;' src='http://img.shushi100.com/images/0c867d62-2d36-431f-884c-585c429a34bb.jpg' /><img style='width: 180px; margin: 0px; float: left; border: 1px solid black;' src='http://img.fuwo.com/tuce/1603/23/cb8be97af0c111e5bb8100163e00254c.jpg' /><img style='width: 180px; margin: 0px; float: left; border: 1px solid black;' src='https://img11.360buyimg.com/imgzone/jfs/t9958/113/2403311229/105133/8afdd188/59f51020N07fb86d5.jpg' /><img style='width: 180px; margin: 0px; float: left; border: 1px solid black;' src='http://shop.gctc.cn/images/201702/goods_img/163_P_1487419176132.jpg' /><img style='width: 180px; margin: 0px; float: left; border: 1px solid black;' src='https://img.alicdn.com/imgextra/TB2HpDIjIjI8KJjSsppXXXbyVXa_!!3029150826.jpg' /><img style='width: 180px; margin: 0px; float: left; border: 1px solid black;' src='http://image1.yihaojiaju.com/upload/Collected/440_280_686ceed7dd9dc5d2b0b844ef3cbe79.jpg' /><img style='width: 180px; margin: 0px; float: left; border: 1px solid black;' src='http://img.haolivshop.com/upload/store/goods/31/f362d7d03273dd0926ac0f6a52020425.jpg_max.jpg' /><img style='width: 180px; margin: 0px; float: left; border: 1px solid black;' src='https://img12.360buyimg.com/imgzone/jfs/t9976/28/2083690219/392816/1e972390/59ed832dN2dfc690c.jpg' /><img style='width: 180px; margin: 0px; float: left; border: 1px solid black;' src='https://img12.360buyimg.com/imgzone/jfs/t5605/187/376144632/254157/7a55374a/591eeecfN8bca7510.jpg' /><img style='width: 180px; margin: 0px; float: left; border: 1px solid black;' src='https://img.alicdn.com/imgextra/TB2MfbggEF7MKJjSZFLXXcMBVXa_!!96008366.jpg' /><img style='width: 180px; margin: 0px; float: left; border: 1px solid black;' src='http://img4.wuhoo.cn/i3/763770457/TB2Tk.DlpXXXXXlXpXXXXXXXXXX_%21%21763770457.jpg_300x300.jpg' />"
      ],
      "text/plain": [
       "<IPython.core.display.HTML object>"
      ]
     },
     "metadata": {},
     "output_type": "display_data"
    }
   ],
   "source": [
    "urls = test_data['url'][15:30]\n",
    "display_category(urls, \"\")"
   ]
  },
  {
   "cell_type": "markdown",
   "metadata": {
    "_cell_guid": "4dc8245a-3950-4c87-9bda-0482e3be1990",
    "_uuid": "a49e7000069357a9974d5f08d122ed5dbbcc6d7f"
   },
   "source": [
    "### validation data images"
   ]
  },
  {
   "cell_type": "code",
   "execution_count": 16,
   "metadata": {
    "_cell_guid": "1c6ddc49-bb87-4298-b482-0690878b7936",
    "_uuid": "1efc0589a07195d9cfcb28a4566bb18fcf311055"
   },
   "outputs": [
    {
     "data": {
      "text/html": [
       "<img style='width: 180px; margin: 0px; float: left; border: 1px solid black;' src='http://www.szjyjiaju.com/uploads/allimg/170810/1-1FQ0111150300.jpg' /><img style='width: 180px; margin: 0px; float: left; border: 1px solid black;' src='https://img11.360buyimg.com/imgzone/jfs/t11107/164/1097968960/86569/9572baee/59fdaceeNf2af78f9.jpg' /><img style='width: 180px; margin: 0px; float: left; border: 1px solid black;' src='http://img.pconline.com.cn/images/upload/upc/tx/house_youpin/1402/03/c0/30992624_1391396841156_300x300.jpg' /><img style='width: 180px; margin: 0px; float: left; border: 1px solid black;' src='https://img12.360buyimg.com/imgzone/jfs/t12538/63/774452467/72710/e57aed87/5a1398b5Nedc275db.jpg' /><img style='width: 180px; margin: 0px; float: left; border: 1px solid black;' src='https://img10.360buyimg.com/imgzone/jfs/t4837/70/2356160945/249378/cc9fda33/58fd65f1Nb1548361.jpg' /><img style='width: 180px; margin: 0px; float: left; border: 1px solid black;' src='https://img14.360buyimg.com/imgzone/jfs/t1012/356/242651690/149630/1f773982/550eaa9aN415a33e6.jpg' /><img style='width: 180px; margin: 0px; float: left; border: 1px solid black;' src='http://d11.yihaodianimg.com/N00/M03/64/61/CgMBmFOWnfOAFQsTAAEKb6P6NZM22500_320x320.jpg' /><img style='width: 180px; margin: 0px; float: left; border: 1px solid black;' src='http://img1.wutuojia.com/cms/articleDetail/20151209/154452_508571.jpg' /><img style='width: 180px; margin: 0px; float: left; border: 1px solid black;' src='https://img.alicdn.com/imgextra/TB2pwusXFXXXXbQXpXXXXXXXXXX_!!78720919.jpg' /><img style='width: 180px; margin: 0px; float: left; border: 1px solid black;' src='https://img.alicdn.com/imgextra/TB2ZX5ygdRopuFjSZFtXXcanpXa_!!570297792.jpg' /><img style='width: 180px; margin: 0px; float: left; border: 1px solid black;' src='http://img003.hc360.cn/hb/MTQ1OTI3OTk3MzI0MS0yODk3OTU4MTM=.jpg' /><img style='width: 180px; margin: 0px; float: left; border: 1px solid black;' src='http://image5.huangye88.com/2014/10/22/768d5ca7e199cb93.JPG' />"
      ],
      "text/plain": [
       "<IPython.core.display.HTML object>"
      ]
     },
     "metadata": {},
     "output_type": "display_data"
    }
   ],
   "source": [
    "urls = validation_data['url'][15:30]\n",
    "display_category(urls, \"\")"
   ]
  },
  {
   "cell_type": "code",
   "execution_count": 17,
   "metadata": {
    "_cell_guid": "d0387297-4885-49aa-bf40-bf8c8e97d84f",
    "_uuid": "d357873416f63a08355a7fc054951d8f2953d777"
   },
   "outputs": [
    {
     "data": {
      "text/plain": [
       "image_id    194828\n",
       "label_id       128\n",
       "url         194828\n",
       "dtype: int64"
      ]
     },
     "execution_count": 17,
     "metadata": {},
     "output_type": "execute_result"
    }
   ],
   "source": [
    "# Unique URL's\n",
    "train_data.nunique()"
   ]
  },
  {
   "cell_type": "markdown",
   "metadata": {
    "_cell_guid": "8a99cbb0-ae10-4cdc-afb9-607512bbc947",
    "_uuid": "e6acdc2a401ee5765d2f834f1f30630f01f8a28b"
   },
   "source": [
    "# Distribution of labels in training data set\n"
   ]
  },
  {
   "cell_type": "code",
   "execution_count": 18,
   "metadata": {
    "_cell_guid": "9a08d9cf-1749-4f4a-9a05-73e44082310b",
    "_uuid": "25b5bbce8402fde060a624d25fc746c03b0a4c62"
   },
   "outputs": [
    {
     "data": {
      "image/png": "[encoded data removed]",
      "text/plain": [
       "<Figure size 720x576 with 1 Axes>"
      ]
     },
     "metadata": {
      "needs_background": "light"
     },
     "output_type": "display_data"
    }
   ],
   "source": [
    "#Class distribution\n",
    "plt.figure(figsize = (10, 8))\n",
    "plt.title('Category Distribuition')\n",
    "sns.distplot(train_data['label_id'])\n",
    "\n",
    "plt.show()"
   ]
  },
  {
   "cell_type": "markdown",
   "metadata": {
    "_cell_guid": "95329c7a-0176-4fd6-b4b5-c4af3b70cd56",
    "_uuid": "4ae21c74787fcc5ff8fb4e3e37ca26fb37268f06"
   },
   "source": [
    "# Most frequent labels in training data set"
   ]
  },
  {
   "cell_type": "code",
   "execution_count": 19,
   "metadata": {
    "_cell_guid": "ca2e7f51-2151-4e72-bf67-f30530b15b34",
    "_uuid": "00cd066b897d363f3f2ccc6469fb78134e0aed2c"
   },
   "outputs": [
    {
     "data": {
      "text/html": [
       "<div>\n",
       "<style scoped>\n",
       "    .dataframe tbody tr th:only-of-type {\n",
       "        vertical-align: middle;\n",
       "    }\n",
       "\n",
       "    .dataframe tbody tr th {\n",
       "        vertical-align: top;\n",
       "    }\n",
       "\n",
       "    .dataframe thead th {\n",
       "        text-align: right;\n",
       "    }\n",
       "</style>\n",
       "<table border=\"1\" class=\"dataframe\">\n",
       "  <thead>\n",
       "    <tr style=\"text-align: right;\">\n",
       "      <th></th>\n",
       "      <th>label_id</th>\n",
       "      <th>count</th>\n",
       "    </tr>\n",
       "  </thead>\n",
       "  <tbody>\n",
       "    <tr>\n",
       "      <th>0</th>\n",
       "      <td>20</td>\n",
       "      <td>3996</td>\n",
       "    </tr>\n",
       "    <tr>\n",
       "      <th>1</th>\n",
       "      <td>42</td>\n",
       "      <td>3973</td>\n",
       "    </tr>\n",
       "    <tr>\n",
       "      <th>2</th>\n",
       "      <td>92</td>\n",
       "      <td>2666</td>\n",
       "    </tr>\n",
       "    <tr>\n",
       "      <th>3</th>\n",
       "      <td>12</td>\n",
       "      <td>2609</td>\n",
       "    </tr>\n",
       "    <tr>\n",
       "      <th>4</th>\n",
       "      <td>125</td>\n",
       "      <td>2598</td>\n",
       "    </tr>\n",
       "    <tr>\n",
       "      <th>5</th>\n",
       "      <td>21</td>\n",
       "      <td>2577</td>\n",
       "    </tr>\n",
       "    <tr>\n",
       "      <th>6</th>\n",
       "      <td>122</td>\n",
       "      <td>2462</td>\n",
       "    </tr>\n",
       "    <tr>\n",
       "      <th>7</th>\n",
       "      <td>3</td>\n",
       "      <td>2368</td>\n",
       "    </tr>\n",
       "  </tbody>\n",
       "</table>\n",
       "</div>"
      ],
      "text/plain": [
       "   label_id  count\n",
       "0        20   3996\n",
       "1        42   3973\n",
       "2        92   2666\n",
       "3        12   2609\n",
       "4       125   2598\n",
       "5        21   2577\n",
       "6       122   2462\n",
       "7         3   2368"
      ]
     },
     "execution_count": 19,
     "metadata": {},
     "output_type": "execute_result"
    }
   ],
   "source": [
    "# Occurance of label_id in decreasing order(Top categories)\n",
    "temp = pd.DataFrame(train_data.label_id.value_counts().head(8))\n",
    "temp.reset_index(inplace=True)\n",
    "temp.columns = ['label_id','count']\n",
    "temp"
   ]
  },
  {
   "cell_type": "markdown",
   "metadata": {
    "_cell_guid": "1fcbd962-c62b-4f16-a518-7cd4efd4676f",
    "_uuid": "ecd820caca467a17af8f4c22cc278644556f8664"
   },
   "source": [
    "* **Most frequent label is 20 followed by 42.**"
   ]
  },
  {
   "cell_type": "code",
   "execution_count": 20,
   "metadata": {
    "_cell_guid": "f1f544e2-9593-4120-b3f2-bd3c536c668c",
    "_uuid": "e4d6a7047c27de65c30bbfe50624625d9a6e9e65"
   },
   "outputs": [
    {
     "data": {
      "text/plain": [
       "Text(0.5, 1.0, 'Distribution of label ids')"
      ]
     },
     "execution_count": 20,
     "metadata": {},
     "output_type": "execute_result"
    },
    {
     "data": {
      "image/png": "[encoded data removed]",
      "text/plain": [
       "<Figure size 1080x576 with 1 Axes>"
      ]
     },
     "metadata": {
      "needs_background": "light"
     },
     "output_type": "display_data"
    }
   ],
   "source": [
    "plt.figure(figsize=(15,8))\n",
    "count = train_data['label_id'].value_counts().head(30)\n",
    "sns.barplot(count.index,  count.values,)\n",
    "plt.xlabel('label id', fontsize=12)\n",
    "plt.ylabel('Cou', fontsize=12)\n",
    "plt.title(\"Distribution of label ids\", fontsize=16)"
   ]
  },
  {
   "cell_type": "markdown",
   "metadata": {
    "_cell_guid": "4143144c-8767-4950-9d7d-1f231efa4f1a",
    "_uuid": "a524b2d3c0d7ae2a641eed6ddc60ddd9a6a1d76c"
   },
   "source": [
    "# Lets extract the website name and see their occurances"
   ]
  },
  {
   "cell_type": "code",
   "execution_count": 33,
   "metadata": {
    "_cell_guid": "9597406a-3e78-4cc3-8c66-ae3272837094",
    "_uuid": "e0f1555afa1c038779878587771112da4d1ab07e"
   },
   "outputs": [],
   "source": [
    "# Extract website_name for train data\n",
    "temp_list = list()\n",
    "for path in train_data['url']:\n",
    "    temp_list.append((path.split('//', 1)[1]).split('/', 1)[0])\n",
    "train_data['website_name'] = temp_list\n",
    "# Extract website_name for test data\n",
    "temp_list = list()\n",
    "for path in test_data['url']:\n",
    "    temp_list.append((path.split('//', 1)[1]).split('/', 1)[0])\n",
    "test_data['website_name'] = temp_list\n",
    "# Extract website_name for validation data\n",
    "temp_list = list()\n",
    "for path in validation_data['url']:\n",
    "    temp_list.append((path.split('//', 1)[1]).split('/', 1)[0])\n",
    "validation_data['website_name'] = temp_list\n"
   ]
  },
  {
   "cell_type": "markdown",
   "metadata": {
    "_cell_guid": "cf9379fd-ea52-45a9-b690-b29b440add51",
    "_uuid": "714229f237c025fbf69b2c8eb67d4a1992d214c3"
   },
   "source": [
    "### We have added one new column \"site_name\". lets see"
   ]
  },
  {
   "cell_type": "code",
   "execution_count": 22,
   "metadata": {
    "_cell_guid": "01864a78-5d4b-4cd4-ad02-186d470dce19",
    "_uuid": "78c7058458fe21aaeec25741d92cc1b0e5c04de0"
   },
   "outputs": [
    {
     "name": "stdout",
     "output_type": "stream",
     "text": [
      "Training data size (194828, 4)\n",
      "test data size (12800, 3)\n",
      "validation data size (6400, 4)\n"
     ]
    }
   ],
   "source": [
    "print(\"Training data size\",train_data.shape)\n",
    "print(\"test data size\",test_data.shape)\n",
    "print(\"validation data size\",validation_data.shape)\n"
   ]
  },
  {
   "cell_type": "markdown",
   "metadata": {
    "_cell_guid": "525aea90-a2d5-4efc-9c2e-6eae5033d217",
    "_uuid": "9ebe29f3575c45efffd36f058a1fc771e58f268e"
   },
   "source": [
    "**new training data**"
   ]
  },
  {
   "cell_type": "code",
   "execution_count": 23,
   "metadata": {
    "_cell_guid": "d7624eff-9c1c-42d7-ac39-756679467c83",
    "_uuid": "319043ee28a4cac85abb72a5eeacc3ddbea9297e"
   },
   "outputs": [
    {
     "data": {
      "text/html": [
       "<div>\n",
       "<style scoped>\n",
       "    .dataframe tbody tr th:only-of-type {\n",
       "        vertical-align: middle;\n",
       "    }\n",
       "\n",
       "    .dataframe tbody tr th {\n",
       "        vertical-align: top;\n",
       "    }\n",
       "\n",
       "    .dataframe thead th {\n",
       "        text-align: right;\n",
       "    }\n",
       "</style>\n",
       "<table border=\"1\" class=\"dataframe\">\n",
       "  <thead>\n",
       "    <tr style=\"text-align: right;\">\n",
       "      <th></th>\n",
       "      <th>image_id</th>\n",
       "      <th>label_id</th>\n",
       "      <th>url</th>\n",
       "      <th>website_name</th>\n",
       "    </tr>\n",
       "  </thead>\n",
       "  <tbody>\n",
       "    <tr>\n",
       "      <th>0</th>\n",
       "      <td>1</td>\n",
       "      <td>5</td>\n",
       "      <td>https://img13.360buyimg.com/imgzone/jfs/t2857/...</td>\n",
       "      <td>img13.360buyimg.com</td>\n",
       "    </tr>\n",
       "    <tr>\n",
       "      <th>1</th>\n",
       "      <td>2</td>\n",
       "      <td>5</td>\n",
       "      <td>http://www.tengdakeli.cn/350/timg01/uploaded/i...</td>\n",
       "      <td>www.tengdakeli.cn</td>\n",
       "    </tr>\n",
       "    <tr>\n",
       "      <th>2</th>\n",
       "      <td>3</td>\n",
       "      <td>5</td>\n",
       "      <td>https://img13.360buyimg.com/imgzone/jfs/t8899/...</td>\n",
       "      <td>img13.360buyimg.com</td>\n",
       "    </tr>\n",
       "    <tr>\n",
       "      <th>3</th>\n",
       "      <td>4</td>\n",
       "      <td>5</td>\n",
       "      <td>http://img4.tbcdn.cn/tfscom/i1/2855447419/TB2S...</td>\n",
       "      <td>img4.tbcdn.cn</td>\n",
       "    </tr>\n",
       "    <tr>\n",
       "      <th>4</th>\n",
       "      <td>5</td>\n",
       "      <td>5</td>\n",
       "      <td>http://a.vpimg4.com/upload/merchandise/287883/...</td>\n",
       "      <td>a.vpimg4.com</td>\n",
       "    </tr>\n",
       "  </tbody>\n",
       "</table>\n",
       "</div>"
      ],
      "text/plain": [
       "   image_id  label_id                                                url  \\\n",
       "0         1         5  https://img13.360buyimg.com/imgzone/jfs/t2857/...   \n",
       "1         2         5  http://www.tengdakeli.cn/350/timg01/uploaded/i...   \n",
       "2         3         5  https://img13.360buyimg.com/imgzone/jfs/t8899/...   \n",
       "3         4         5  http://img4.tbcdn.cn/tfscom/i1/2855447419/TB2S...   \n",
       "4         5         5  http://a.vpimg4.com/upload/merchandise/287883/...   \n",
       "\n",
       "          website_name  \n",
       "0  img13.360buyimg.com  \n",
       "1    www.tengdakeli.cn  \n",
       "2  img13.360buyimg.com  \n",
       "3        img4.tbcdn.cn  \n",
       "4         a.vpimg4.com  "
      ]
     },
     "execution_count": 23,
     "metadata": {},
     "output_type": "execute_result"
    }
   ],
   "source": [
    "train_data.head()"
   ]
  },
  {
   "cell_type": "markdown",
   "metadata": {
    "_cell_guid": "87ddb5e3-cd5b-4820-8a1e-03e17691dd34",
    "_kg_hide-input": true,
    "_uuid": "25b037a068833100aae6ce1854c8890ed820efc8"
   },
   "source": [
    "**New test data**"
   ]
  },
  {
   "cell_type": "code",
   "execution_count": 24,
   "metadata": {
    "_cell_guid": "2a785c6d-206a-4a8d-bd23-03d410791b08",
    "_uuid": "37c0ee0116188179736a318f71755364097541f7"
   },
   "outputs": [
    {
     "data": {
      "text/html": [
       "<div>\n",
       "<style scoped>\n",
       "    .dataframe tbody tr th:only-of-type {\n",
       "        vertical-align: middle;\n",
       "    }\n",
       "\n",
       "    .dataframe tbody tr th {\n",
       "        vertical-align: top;\n",
       "    }\n",
       "\n",
       "    .dataframe thead th {\n",
       "        text-align: right;\n",
       "    }\n",
       "</style>\n",
       "<table border=\"1\" class=\"dataframe\">\n",
       "  <thead>\n",
       "    <tr style=\"text-align: right;\">\n",
       "      <th></th>\n",
       "      <th>url</th>\n",
       "      <th>image_id</th>\n",
       "      <th>website_name</th>\n",
       "    </tr>\n",
       "  </thead>\n",
       "  <tbody>\n",
       "    <tr>\n",
       "      <th>0</th>\n",
       "      <td>https://img13.360buyimg.com/imgzone/jfs/t13174...</td>\n",
       "      <td>1</td>\n",
       "      <td>img13.360buyimg.com</td>\n",
       "    </tr>\n",
       "    <tr>\n",
       "      <th>1</th>\n",
       "      <td>http://img35.ddimg.cn/79/22/1258168705-1_u.jpg</td>\n",
       "      <td>2</td>\n",
       "      <td>img35.ddimg.cn</td>\n",
       "    </tr>\n",
       "    <tr>\n",
       "      <th>2</th>\n",
       "      <td>https://img.alicdn.com/imgextra/TB19HtjKXXXXXc...</td>\n",
       "      <td>3</td>\n",
       "      <td>img.alicdn.com</td>\n",
       "    </tr>\n",
       "    <tr>\n",
       "      <th>3</th>\n",
       "      <td>https://img13.360buyimg.com/imgzone/jfs/t16498...</td>\n",
       "      <td>4</td>\n",
       "      <td>img13.360buyimg.com</td>\n",
       "    </tr>\n",
       "    <tr>\n",
       "      <th>4</th>\n",
       "      <td>http://img4.99114.com/group1/M00/7D/C5/wKgGTFf...</td>\n",
       "      <td>5</td>\n",
       "      <td>img4.99114.com</td>\n",
       "    </tr>\n",
       "  </tbody>\n",
       "</table>\n",
       "</div>"
      ],
      "text/plain": [
       "                                                 url  image_id  \\\n",
       "0  https://img13.360buyimg.com/imgzone/jfs/t13174...         1   \n",
       "1     http://img35.ddimg.cn/79/22/1258168705-1_u.jpg         2   \n",
       "2  https://img.alicdn.com/imgextra/TB19HtjKXXXXXc...         3   \n",
       "3  https://img13.360buyimg.com/imgzone/jfs/t16498...         4   \n",
       "4  http://img4.99114.com/group1/M00/7D/C5/wKgGTFf...         5   \n",
       "\n",
       "          website_name  \n",
       "0  img13.360buyimg.com  \n",
       "1       img35.ddimg.cn  \n",
       "2       img.alicdn.com  \n",
       "3  img13.360buyimg.com  \n",
       "4       img4.99114.com  "
      ]
     },
     "execution_count": 24,
     "metadata": {},
     "output_type": "execute_result"
    }
   ],
   "source": [
    "test_data.head()"
   ]
  },
  {
   "cell_type": "markdown",
   "metadata": {
    "_cell_guid": "3e08c045-3506-449c-880d-2f22db7e99ea",
    "_uuid": "e611921dde8fb93849a5d98c7d071f9ef7dfe2b5"
   },
   "source": [
    "**New validation data**"
   ]
  },
  {
   "cell_type": "code",
   "execution_count": 25,
   "metadata": {
    "_cell_guid": "eedeae12-7d04-4422-ba4f-928f9c03a1ba",
    "_uuid": "7def55de6008f16d110d7adb1ffb8ac928a36a70"
   },
   "outputs": [
    {
     "data": {
      "text/html": [
       "<div>\n",
       "<style scoped>\n",
       "    .dataframe tbody tr th:only-of-type {\n",
       "        vertical-align: middle;\n",
       "    }\n",
       "\n",
       "    .dataframe tbody tr th {\n",
       "        vertical-align: top;\n",
       "    }\n",
       "\n",
       "    .dataframe thead th {\n",
       "        text-align: right;\n",
       "    }\n",
       "</style>\n",
       "<table border=\"1\" class=\"dataframe\">\n",
       "  <thead>\n",
       "    <tr style=\"text-align: right;\">\n",
       "      <th></th>\n",
       "      <th>image_id</th>\n",
       "      <th>label_id</th>\n",
       "      <th>url</th>\n",
       "      <th>website_name</th>\n",
       "    </tr>\n",
       "  </thead>\n",
       "  <tbody>\n",
       "    <tr>\n",
       "      <th>0</th>\n",
       "      <td>1</td>\n",
       "      <td>38</td>\n",
       "      <td>http://www.ghs.net/public/images/fb/3d/51/3beb...</td>\n",
       "      <td>www.ghs.net</td>\n",
       "    </tr>\n",
       "    <tr>\n",
       "      <th>1</th>\n",
       "      <td>2</td>\n",
       "      <td>63</td>\n",
       "      <td>https://img.alicdn.com/imgextra/TB2chFei9YH8KJ...</td>\n",
       "      <td>img.alicdn.com</td>\n",
       "    </tr>\n",
       "    <tr>\n",
       "      <th>2</th>\n",
       "      <td>3</td>\n",
       "      <td>33</td>\n",
       "      <td>http://static-news.17house.com/web/news/201602...</td>\n",
       "      <td>static-news.17house.com</td>\n",
       "    </tr>\n",
       "    <tr>\n",
       "      <th>3</th>\n",
       "      <td>4</td>\n",
       "      <td>126</td>\n",
       "      <td>http://img000.hc360.cn/g6/M07/CB/88/wKhQsFNNVJ...</td>\n",
       "      <td>img000.hc360.cn</td>\n",
       "    </tr>\n",
       "    <tr>\n",
       "      <th>4</th>\n",
       "      <td>5</td>\n",
       "      <td>18</td>\n",
       "      <td>https://img.alicdn.com/imgextra/T1sLtpFH8aXXXX...</td>\n",
       "      <td>img.alicdn.com</td>\n",
       "    </tr>\n",
       "  </tbody>\n",
       "</table>\n",
       "</div>"
      ],
      "text/plain": [
       "   image_id  label_id                                                url  \\\n",
       "0         1        38  http://www.ghs.net/public/images/fb/3d/51/3beb...   \n",
       "1         2        63  https://img.alicdn.com/imgextra/TB2chFei9YH8KJ...   \n",
       "2         3        33  http://static-news.17house.com/web/news/201602...   \n",
       "3         4       126  http://img000.hc360.cn/g6/M07/CB/88/wKhQsFNNVJ...   \n",
       "4         5        18  https://img.alicdn.com/imgextra/T1sLtpFH8aXXXX...   \n",
       "\n",
       "              website_name  \n",
       "0              www.ghs.net  \n",
       "1           img.alicdn.com  \n",
       "2  static-news.17house.com  \n",
       "3          img000.hc360.cn  \n",
       "4           img.alicdn.com  "
      ]
     },
     "execution_count": 25,
     "metadata": {},
     "output_type": "execute_result"
    }
   ],
   "source": [
    "validation_data.head()"
   ]
  },
  {
   "cell_type": "markdown",
   "metadata": {
    "_cell_guid": "59dbcce3-c212-484b-ac2a-78a53c810963",
    "_uuid": "6b3f73da535ae608510cb8522b58fd46152b8974"
   },
   "source": [
    "# Top Occurances of websites in the data"
   ]
  },
  {
   "cell_type": "markdown",
   "metadata": {
    "_cell_guid": "afef779f-241e-4d14-ab34-379c7db1cd11",
    "_uuid": "16800600c3453a93a76657e9ee030e1ebc831e33"
   },
   "source": [
    "## Top Occurances of websites in the training data"
   ]
  },
  {
   "cell_type": "code",
   "execution_count": 26,
   "metadata": {
    "_cell_guid": "47cb85eb-e2dd-4116-bc62-7f6711bcf4f4",
    "_uuid": "ed44ab02ead78a6fba5336f7702ac3823baa4855"
   },
   "outputs": [
    {
     "name": "stdout",
     "output_type": "stream",
     "text": [
      "Total unique websites :  10291\n"
     ]
    },
    {
     "data": {
      "text/plain": [
       "Text(0.5, 1.0, 'websites names with their occurances')"
      ]
     },
     "execution_count": 26,
     "metadata": {},
     "output_type": "execute_result"
    },
    {
     "data": {
      "image/png": "[encoded data removed]",
      "text/plain": [
       "<Figure size 1080x576 with 1 Axes>"
      ]
     },
     "metadata": {
      "needs_background": "light"
     },
     "output_type": "display_data"
    }
   ],
   "source": [
    "print(\"Total unique websites : \",len(train_data.website_name.value_counts()))\n",
    "plt.figure(figsize=(15,8))\n",
    "count = train_data.website_name.value_counts().head(10)\n",
    "sns.barplot(count.values, count.index)\n",
    "for i, v in enumerate(count.values):\n",
    "    plt.text(0.8,i,v,color='k',fontsize=12)\n",
    "plt.xlabel('Count', fontsize=12)\n",
    "plt.ylabel('websites name', fontsize=12)\n",
    "plt.title(\"websites names with their occurances\", fontsize=16)"
   ]
  },
  {
   "cell_type": "markdown",
   "metadata": {
    "_cell_guid": "6a5e61db-bdc7-42dd-8ccc-aa4e8034ce97",
    "_uuid": "58ca24c7365fffe054435657a9cb13696880896c"
   },
   "source": [
    "* **Training data is taken from 10291 unique websites.**"
   ]
  },
  {
   "cell_type": "markdown",
   "metadata": {
    "_cell_guid": "ebbb2cf3-321b-44c4-85ff-bb5e4c0eb767",
    "_uuid": "47d879f72133b52f5af61de235538aad96752407"
   },
   "source": [
    "## Top Occurances of websites in the test data"
   ]
  },
  {
   "cell_type": "code",
   "execution_count": 27,
   "metadata": {
    "_cell_guid": "b0974059-0bdb-4208-adec-6e9063c16338",
    "_uuid": "617d4fc1d3e2c8d6bbe462a12475ae422f855ca3"
   },
   "outputs": [
    {
     "name": "stdout",
     "output_type": "stream",
     "text": [
      "Total unique websites :  1847\n"
     ]
    },
    {
     "data": {
      "text/plain": [
       "Text(0.5, 1.0, 'Website names with their occurances')"
      ]
     },
     "execution_count": 27,
     "metadata": {},
     "output_type": "execute_result"
    },
    {
     "data": {
      "image/png": "[encoded data removed]",
      "text/plain": [
       "<Figure size 1080x576 with 1 Axes>"
      ]
     },
     "metadata": {
      "needs_background": "light"
     },
     "output_type": "display_data"
    }
   ],
   "source": [
    "print(\"Total unique websites : \",len(test_data.website_name.value_counts()))\n",
    "plt.figure(figsize=(15,8))\n",
    "count = test_data.website_name.value_counts().head(10)\n",
    "sns.barplot(count.values, count.index)\n",
    "for i, v in enumerate(count.values):\n",
    "    plt.text(0.8,i,v,color='k',fontsize=12)\n",
    "plt.xlabel('Count', fontsize=12)\n",
    "plt.ylabel('Website name', fontsize=12)\n",
    "plt.title(\"Website names with their occurances\", fontsize=16)"
   ]
  },
  {
   "cell_type": "markdown",
   "metadata": {
    "_cell_guid": "c907d2dd-60db-4733-bc8b-8a9bcacbceb3",
    "_uuid": "9305edde4999827598e441c4428f9187e3e71c31"
   },
   "source": [
    "* **Test data is taken from 1847 unique websites.**"
   ]
  },
  {
   "cell_type": "markdown",
   "metadata": {
    "_cell_guid": "41d7124a-7918-4c34-87a4-4e284abd5b43",
    "_uuid": "93e51b165f0aba49c3586df69279a38c5cf50579"
   },
   "source": [
    "## Top Occurances of websites in the validation data"
   ]
  },
  {
   "cell_type": "code",
   "execution_count": 28,
   "metadata": {
    "_cell_guid": "b872c874-a774-48b1-9d45-45dd0e352998",
    "_uuid": "9b6309a8d6131e8a32d096401bab4b02cbaac31c"
   },
   "outputs": [
    {
     "name": "stdout",
     "output_type": "stream",
     "text": [
      "Total unique websites :  1214\n"
     ]
    },
    {
     "data": {
      "text/plain": [
       "Text(0.5, 1.0, 'Website names with their occurances')"
      ]
     },
     "execution_count": 28,
     "metadata": {},
     "output_type": "execute_result"
    },
    {
     "data": {
      "image/png": "[encoded data removed]",
      "text/plain": [
       "<Figure size 1080x576 with 1 Axes>"
      ]
     },
     "metadata": {
      "needs_background": "light"
     },
     "output_type": "display_data"
    }
   ],
   "source": [
    "print(\"Total unique websites : \",len(validation_data.website_name.value_counts()))\n",
    "plt.figure(figsize=(15,8))\n",
    "count = validation_data.website_name.value_counts().head(10)\n",
    "sns.barplot(count.values, count.index)\n",
    "for i, v in enumerate(count.values):\n",
    "    plt.text(0.8,i,v,color='k',fontsize=12)\n",
    "plt.xlabel('Count', fontsize=12)\n",
    "plt.ylabel('Website name', fontsize=12)\n",
    "plt.title(\"Website names with their occurances\", fontsize=16)"
   ]
  },
  {
   "cell_type": "markdown",
   "metadata": {
    "_cell_guid": "804b28d4-52ae-4676-9a96-e5646431d107",
    "_uuid": "4acc9695205dc51f445232052acb0b2116b93c26"
   },
   "source": [
    "* **Validation data is taken from 1214 unique websites.**"
   ]
  },
  {
   "cell_type": "markdown",
   "metadata": {
    "_cell_guid": "82dd473a-2c7c-4884-80d3-81022662f5e2",
    "_uuid": "03ed9e262e729807859a949e146f86c79d91d040"
   },
   "source": [
    "# More To come. Stayed Tuned.!!"
   ]
  }
 ],
 "metadata": {
  "kernelspec": {
   "display_name": "Python 3",
   "language": "python",
   "name": "python3"
  },
  "language_info": {
   "codemirror_mode": {
    "name": "ipython",
    "version": 3
   },
   "file_extension": ".py",
   "mimetype": "text/x-python",
   "name": "python",
   "nbconvert_exporter": "python",
   "pygments_lexer": "ipython3",
   "version": "3.6.2"
  }
 },
 "nbformat": 4,
 "nbformat_minor": 1
}

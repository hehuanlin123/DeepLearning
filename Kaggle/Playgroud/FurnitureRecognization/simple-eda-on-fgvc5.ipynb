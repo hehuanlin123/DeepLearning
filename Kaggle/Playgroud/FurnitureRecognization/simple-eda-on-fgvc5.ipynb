{
 "cells": [
  {
   "cell_type": "markdown",
   "metadata": {
    "_cell_guid": "cf235db9-b253-4666-b917-10a4cad0953b",
    "_uuid": "e863ddadc5f111dc07fe2b3dfc83d58099fe7aa5"
   },
   "source": [
    "Hello\n",
    "In this notebook i try to explore given  data and apply some visulization if possible. Dont forget to vote for me."
   ]
  },
  {
   "cell_type": "code",
   "execution_count": 9,
   "metadata": {
    "_cell_guid": "b1076dfc-b9ad-4769-8c92-a6c4dae69d19",
    "_uuid": "8f2839f25d086af736a60e9eeb907d3b93b6e0e5"
   },
   "outputs": [
    {
     "name": "stdout",
     "output_type": "stream",
     "text": [
      "['sample_submission_randomlabel.csv', 'test.json', 'validation.json', 'train.json']\n"
     ]
    }
   ],
   "source": [
    "# This Python 3 environment comes with many helpful analytics libraries installed\n",
    "# It is defined by the kaggle/python docker image: https://github.com/kaggle/docker-python\n",
    "# For example, here's several helpful packages to load in \n",
    "\n",
    "import numpy as np # linear algebra\n",
    "import pandas as pd # data processing, CSV file I/O (e.g. pd.read_csv)\n",
    "\n",
    "# Input data files are available in the \"../input/\" directory.\n",
    "# For example, running this (by clicking run or pressing Shift+Enter) will list the files in the input directory\n",
    "\n",
    "import os\n",
    "print(os.listdir(\"/Users/szkfzx/datasets/imaterialist-challenge-furniture-2018\"))\n",
    "\n",
    "# Any results you write to the current directory are saved as output."
   ]
  },
  {
   "cell_type": "code",
   "execution_count": 10,
   "metadata": {
    "_cell_guid": "79c7e3d0-c299-4dcb-8224-4455121ee9b0",
    "_uuid": "d629ff2d2480ee46fbb7e2d37f6b5fab8052498a",
    "collapsed": true
   },
   "outputs": [],
   "source": [
    "train = pd.read_json('/Users/szkfzx/datasets/imaterialist-challenge-furniture-2018/train.json')\n",
    "test = pd.read_json('/Users/szkfzx/datasets/imaterialist-challenge-furniture-2018/test.json')\n",
    "val = pd.read_json('/Users/szkfzx/datasets/imaterialist-challenge-furniture-2018/validation.json')\n",
    "sam_sub = pd.read_csv('/Users/szkfzx/datasets/imaterialist-challenge-furniture-2018/sample_submission_randomlabel.csv')"
   ]
  },
  {
   "cell_type": "code",
   "execution_count": 11,
   "metadata": {
    "_cell_guid": "e575c261-9359-4f53-895b-9f09fbc7c7ac",
    "_uuid": "9b6ec6039b9adf233cd309a3c66217ca602f8179"
   },
   "outputs": [
    {
     "data": {
      "text/html": [
       "<div>\n",
       "<style scoped>\n",
       "    .dataframe tbody tr th:only-of-type {\n",
       "        vertical-align: middle;\n",
       "    }\n",
       "\n",
       "    .dataframe tbody tr th {\n",
       "        vertical-align: top;\n",
       "    }\n",
       "\n",
       "    .dataframe thead th {\n",
       "        text-align: right;\n",
       "    }\n",
       "</style>\n",
       "<table border=\"1\" class=\"dataframe\">\n",
       "  <thead>\n",
       "    <tr style=\"text-align: right;\">\n",
       "      <th></th>\n",
       "      <th>images</th>\n",
       "      <th>annotations</th>\n",
       "    </tr>\n",
       "  </thead>\n",
       "  <tbody>\n",
       "    <tr>\n",
       "      <th>0</th>\n",
       "      <td>{'url': ['https://img13.360buyimg.com/imgzone/...</td>\n",
       "      <td>{'image_id': 1, 'label_id': 5}</td>\n",
       "    </tr>\n",
       "    <tr>\n",
       "      <th>1</th>\n",
       "      <td>{'url': ['http://www.tengdakeli.cn/350/timg01/...</td>\n",
       "      <td>{'image_id': 2, 'label_id': 5}</td>\n",
       "    </tr>\n",
       "    <tr>\n",
       "      <th>2</th>\n",
       "      <td>{'url': ['https://img13.360buyimg.com/imgzone/...</td>\n",
       "      <td>{'image_id': 3, 'label_id': 5}</td>\n",
       "    </tr>\n",
       "    <tr>\n",
       "      <th>3</th>\n",
       "      <td>{'url': ['http://img4.tbcdn.cn/tfscom/i1/28554...</td>\n",
       "      <td>{'image_id': 4, 'label_id': 5}</td>\n",
       "    </tr>\n",
       "    <tr>\n",
       "      <th>4</th>\n",
       "      <td>{'url': ['http://a.vpimg4.com/upload/merchandi...</td>\n",
       "      <td>{'image_id': 5, 'label_id': 5}</td>\n",
       "    </tr>\n",
       "  </tbody>\n",
       "</table>\n",
       "</div>"
      ],
      "text/plain": [
       "                                              images  \\\n",
       "0  {'url': ['https://img13.360buyimg.com/imgzone/...   \n",
       "1  {'url': ['http://www.tengdakeli.cn/350/timg01/...   \n",
       "2  {'url': ['https://img13.360buyimg.com/imgzone/...   \n",
       "3  {'url': ['http://img4.tbcdn.cn/tfscom/i1/28554...   \n",
       "4  {'url': ['http://a.vpimg4.com/upload/merchandi...   \n",
       "\n",
       "                      annotations  \n",
       "0  {'image_id': 1, 'label_id': 5}  \n",
       "1  {'image_id': 2, 'label_id': 5}  \n",
       "2  {'image_id': 3, 'label_id': 5}  \n",
       "3  {'image_id': 4, 'label_id': 5}  \n",
       "4  {'image_id': 5, 'label_id': 5}  "
      ]
     },
     "execution_count": 11,
     "metadata": {},
     "output_type": "execute_result"
    }
   ],
   "source": [
    "train.head()"
   ]
  },
  {
   "cell_type": "code",
   "execution_count": 12,
   "metadata": {
    "_cell_guid": "f33981f0-0719-4791-aea9-f774713fa0cb",
    "_uuid": "51c94574046ce2d7223139bce40527c9834ebc46"
   },
   "outputs": [
    {
     "data": {
      "text/html": [
       "<div>\n",
       "<style scoped>\n",
       "    .dataframe tbody tr th:only-of-type {\n",
       "        vertical-align: middle;\n",
       "    }\n",
       "\n",
       "    .dataframe tbody tr th {\n",
       "        vertical-align: top;\n",
       "    }\n",
       "\n",
       "    .dataframe thead th {\n",
       "        text-align: right;\n",
       "    }\n",
       "</style>\n",
       "<table border=\"1\" class=\"dataframe\">\n",
       "  <thead>\n",
       "    <tr style=\"text-align: right;\">\n",
       "      <th></th>\n",
       "      <th>images</th>\n",
       "      <th>annotations</th>\n",
       "    </tr>\n",
       "  </thead>\n",
       "  <tbody>\n",
       "    <tr>\n",
       "      <th>0</th>\n",
       "      <td>{'url': ['http://www.ghs.net/public/images/fb/...</td>\n",
       "      <td>{'image_id': 1, 'label_id': 38}</td>\n",
       "    </tr>\n",
       "    <tr>\n",
       "      <th>1</th>\n",
       "      <td>{'url': ['https://img.alicdn.com/imgextra/TB2c...</td>\n",
       "      <td>{'image_id': 2, 'label_id': 63}</td>\n",
       "    </tr>\n",
       "    <tr>\n",
       "      <th>2</th>\n",
       "      <td>{'url': ['http://static-news.17house.com/web/n...</td>\n",
       "      <td>{'image_id': 3, 'label_id': 33}</td>\n",
       "    </tr>\n",
       "    <tr>\n",
       "      <th>3</th>\n",
       "      <td>{'url': ['http://img000.hc360.cn/g6/M07/CB/88/...</td>\n",
       "      <td>{'image_id': 4, 'label_id': 126}</td>\n",
       "    </tr>\n",
       "    <tr>\n",
       "      <th>4</th>\n",
       "      <td>{'url': ['https://img.alicdn.com/imgextra/T1sL...</td>\n",
       "      <td>{'image_id': 5, 'label_id': 18}</td>\n",
       "    </tr>\n",
       "  </tbody>\n",
       "</table>\n",
       "</div>"
      ],
      "text/plain": [
       "                                              images  \\\n",
       "0  {'url': ['http://www.ghs.net/public/images/fb/...   \n",
       "1  {'url': ['https://img.alicdn.com/imgextra/TB2c...   \n",
       "2  {'url': ['http://static-news.17house.com/web/n...   \n",
       "3  {'url': ['http://img000.hc360.cn/g6/M07/CB/88/...   \n",
       "4  {'url': ['https://img.alicdn.com/imgextra/T1sL...   \n",
       "\n",
       "                        annotations  \n",
       "0   {'image_id': 1, 'label_id': 38}  \n",
       "1   {'image_id': 2, 'label_id': 63}  \n",
       "2   {'image_id': 3, 'label_id': 33}  \n",
       "3  {'image_id': 4, 'label_id': 126}  \n",
       "4   {'image_id': 5, 'label_id': 18}  "
      ]
     },
     "execution_count": 12,
     "metadata": {},
     "output_type": "execute_result"
    }
   ],
   "source": [
    "val.head()"
   ]
  },
  {
   "cell_type": "code",
   "execution_count": 13,
   "metadata": {
    "_cell_guid": "8f958845-3aba-4397-aa41-ee74c8cfb58a",
    "_uuid": "e78d9fa5acc5080d7324057efc20d5e713fabee8"
   },
   "outputs": [
    {
     "data": {
      "text/html": [
       "<div>\n",
       "<style scoped>\n",
       "    .dataframe tbody tr th:only-of-type {\n",
       "        vertical-align: middle;\n",
       "    }\n",
       "\n",
       "    .dataframe tbody tr th {\n",
       "        vertical-align: top;\n",
       "    }\n",
       "\n",
       "    .dataframe thead th {\n",
       "        text-align: right;\n",
       "    }\n",
       "</style>\n",
       "<table border=\"1\" class=\"dataframe\">\n",
       "  <thead>\n",
       "    <tr style=\"text-align: right;\">\n",
       "      <th></th>\n",
       "      <th>images</th>\n",
       "    </tr>\n",
       "  </thead>\n",
       "  <tbody>\n",
       "    <tr>\n",
       "      <th>0</th>\n",
       "      <td>{'url': ['https://img13.360buyimg.com/imgzone/...</td>\n",
       "    </tr>\n",
       "    <tr>\n",
       "      <th>1</th>\n",
       "      <td>{'url': ['http://img35.ddimg.cn/79/22/12581687...</td>\n",
       "    </tr>\n",
       "    <tr>\n",
       "      <th>2</th>\n",
       "      <td>{'url': ['https://img.alicdn.com/imgextra/TB19...</td>\n",
       "    </tr>\n",
       "    <tr>\n",
       "      <th>3</th>\n",
       "      <td>{'url': ['https://img13.360buyimg.com/imgzone/...</td>\n",
       "    </tr>\n",
       "    <tr>\n",
       "      <th>4</th>\n",
       "      <td>{'url': ['http://img4.99114.com/group1/M00/7D/...</td>\n",
       "    </tr>\n",
       "  </tbody>\n",
       "</table>\n",
       "</div>"
      ],
      "text/plain": [
       "                                              images\n",
       "0  {'url': ['https://img13.360buyimg.com/imgzone/...\n",
       "1  {'url': ['http://img35.ddimg.cn/79/22/12581687...\n",
       "2  {'url': ['https://img.alicdn.com/imgextra/TB19...\n",
       "3  {'url': ['https://img13.360buyimg.com/imgzone/...\n",
       "4  {'url': ['http://img4.99114.com/group1/M00/7D/..."
      ]
     },
     "execution_count": 13,
     "metadata": {},
     "output_type": "execute_result"
    }
   ],
   "source": [
    "test.head()"
   ]
  },
  {
   "cell_type": "code",
   "execution_count": 14,
   "metadata": {},
   "outputs": [
    {
     "data": {
      "text/html": [
       "<div>\n",
       "<style scoped>\n",
       "    .dataframe tbody tr th:only-of-type {\n",
       "        vertical-align: middle;\n",
       "    }\n",
       "\n",
       "    .dataframe tbody tr th {\n",
       "        vertical-align: top;\n",
       "    }\n",
       "\n",
       "    .dataframe thead th {\n",
       "        text-align: right;\n",
       "    }\n",
       "</style>\n",
       "<table border=\"1\" class=\"dataframe\">\n",
       "  <thead>\n",
       "    <tr style=\"text-align: right;\">\n",
       "      <th></th>\n",
       "      <th>id</th>\n",
       "      <th>predicted</th>\n",
       "    </tr>\n",
       "  </thead>\n",
       "  <tbody>\n",
       "    <tr>\n",
       "      <th>0</th>\n",
       "      <td>1</td>\n",
       "      <td>57</td>\n",
       "    </tr>\n",
       "    <tr>\n",
       "      <th>1</th>\n",
       "      <td>2</td>\n",
       "      <td>74</td>\n",
       "    </tr>\n",
       "    <tr>\n",
       "      <th>2</th>\n",
       "      <td>3</td>\n",
       "      <td>52</td>\n",
       "    </tr>\n",
       "    <tr>\n",
       "      <th>3</th>\n",
       "      <td>4</td>\n",
       "      <td>54</td>\n",
       "    </tr>\n",
       "    <tr>\n",
       "      <th>4</th>\n",
       "      <td>5</td>\n",
       "      <td>39</td>\n",
       "    </tr>\n",
       "  </tbody>\n",
       "</table>\n",
       "</div>"
      ],
      "text/plain": [
       "   id  predicted\n",
       "0   1         57\n",
       "1   2         74\n",
       "2   3         52\n",
       "3   4         54\n",
       "4   5         39"
      ]
     },
     "execution_count": 14,
     "metadata": {},
     "output_type": "execute_result"
    }
   ],
   "source": [
    "sam_sub.head()"
   ]
  },
  {
   "cell_type": "code",
   "execution_count": 15,
   "metadata": {
    "_cell_guid": "e786d1f7-ef8d-43d0-8687-f260a3a559e3",
    "_uuid": "8fc1bdee6039fa589290c2e111181b9d671a89b1"
   },
   "outputs": [
    {
     "data": {
      "text/plain": [
       "Index(['images', 'annotations'], dtype='object')"
      ]
     },
     "execution_count": 15,
     "metadata": {},
     "output_type": "execute_result"
    }
   ],
   "source": [
    "train.columns"
   ]
  },
  {
   "cell_type": "code",
   "execution_count": 16,
   "metadata": {
    "_cell_guid": "24886db7-9ec9-4d93-bd98-39c409fb5568",
    "_uuid": "a2a2b356a247547d0aa0f0ca05791a88d2a7acf9"
   },
   "outputs": [
    {
     "data": {
      "text/html": [
       "<div>\n",
       "<style scoped>\n",
       "    .dataframe tbody tr th:only-of-type {\n",
       "        vertical-align: middle;\n",
       "    }\n",
       "\n",
       "    .dataframe tbody tr th {\n",
       "        vertical-align: top;\n",
       "    }\n",
       "\n",
       "    .dataframe thead th {\n",
       "        text-align: right;\n",
       "    }\n",
       "</style>\n",
       "<table border=\"1\" class=\"dataframe\">\n",
       "  <thead>\n",
       "    <tr style=\"text-align: right;\">\n",
       "      <th></th>\n",
       "      <th>image_id</th>\n",
       "      <th>label_id</th>\n",
       "      <th>url</th>\n",
       "    </tr>\n",
       "  </thead>\n",
       "  <tbody>\n",
       "    <tr>\n",
       "      <th>0</th>\n",
       "      <td>1</td>\n",
       "      <td>5</td>\n",
       "      <td>https://img13.360buyimg.com/imgzone/jfs/t2857/...</td>\n",
       "    </tr>\n",
       "    <tr>\n",
       "      <th>1</th>\n",
       "      <td>2</td>\n",
       "      <td>5</td>\n",
       "      <td>http://www.tengdakeli.cn/350/timg01/uploaded/i...</td>\n",
       "    </tr>\n",
       "    <tr>\n",
       "      <th>2</th>\n",
       "      <td>3</td>\n",
       "      <td>5</td>\n",
       "      <td>https://img13.360buyimg.com/imgzone/jfs/t8899/...</td>\n",
       "    </tr>\n",
       "    <tr>\n",
       "      <th>3</th>\n",
       "      <td>4</td>\n",
       "      <td>5</td>\n",
       "      <td>http://img4.tbcdn.cn/tfscom/i1/2855447419/TB2S...</td>\n",
       "    </tr>\n",
       "    <tr>\n",
       "      <th>4</th>\n",
       "      <td>5</td>\n",
       "      <td>5</td>\n",
       "      <td>http://a.vpimg4.com/upload/merchandise/287883/...</td>\n",
       "    </tr>\n",
       "  </tbody>\n",
       "</table>\n",
       "</div>"
      ],
      "text/plain": [
       "   image_id  label_id                                                url\n",
       "0         1         5  https://img13.360buyimg.com/imgzone/jfs/t2857/...\n",
       "1         2         5  http://www.tengdakeli.cn/350/timg01/uploaded/i...\n",
       "2         3         5  https://img13.360buyimg.com/imgzone/jfs/t8899/...\n",
       "3         4         5  http://img4.tbcdn.cn/tfscom/i1/2855447419/TB2S...\n",
       "4         5         5  http://a.vpimg4.com/upload/merchandise/287883/..."
      ]
     },
     "execution_count": 16,
     "metadata": {},
     "output_type": "execute_result"
    }
   ],
   "source": [
    "train['image_id'] = train.annotations.map(lambda x: x['image_id'])\n",
    "train['label_id'] = train.annotations.map(lambda x: x['label_id'])\n",
    "train['url'] = train.images.map(lambda x: x['url'][0])\n",
    "train.drop(columns=['annotations', 'images'], inplace=True)\n",
    "train.head()"
   ]
  },
  {
   "cell_type": "code",
   "execution_count": 17,
   "metadata": {
    "_cell_guid": "62f996c0-f0a5-45d4-b1c3-033626d44701",
    "_uuid": "7b98fd1a306eccb6a7bbf29b5bd82edf155349c4"
   },
   "outputs": [
    {
     "data": {
      "text/plain": [
       "image_id    0\n",
       "label_id    0\n",
       "url         0\n",
       "dtype: int64"
      ]
     },
     "execution_count": 17,
     "metadata": {},
     "output_type": "execute_result"
    }
   ],
   "source": [
    "train.isnull().sum()"
   ]
  },
  {
   "cell_type": "code",
   "execution_count": 18,
   "metadata": {
    "_cell_guid": "9c75414b-3ab5-45d4-a250-6753ac71bd44",
    "_uuid": "6984c8441528b16195f48b364d230af43860e8ea"
   },
   "outputs": [
    {
     "data": {
      "text/html": [
       "<div>\n",
       "<style scoped>\n",
       "    .dataframe tbody tr th:only-of-type {\n",
       "        vertical-align: middle;\n",
       "    }\n",
       "\n",
       "    .dataframe tbody tr th {\n",
       "        vertical-align: top;\n",
       "    }\n",
       "\n",
       "    .dataframe thead th {\n",
       "        text-align: right;\n",
       "    }\n",
       "</style>\n",
       "<table border=\"1\" class=\"dataframe\">\n",
       "  <thead>\n",
       "    <tr style=\"text-align: right;\">\n",
       "      <th></th>\n",
       "      <th>image_id</th>\n",
       "      <th>label_id</th>\n",
       "      <th>url</th>\n",
       "    </tr>\n",
       "  </thead>\n",
       "  <tbody>\n",
       "    <tr>\n",
       "      <th>0</th>\n",
       "      <td>1</td>\n",
       "      <td>38</td>\n",
       "      <td>http://www.ghs.net/public/images/fb/3d/51/3beb...</td>\n",
       "    </tr>\n",
       "    <tr>\n",
       "      <th>1</th>\n",
       "      <td>2</td>\n",
       "      <td>63</td>\n",
       "      <td>https://img.alicdn.com/imgextra/TB2chFei9YH8KJ...</td>\n",
       "    </tr>\n",
       "    <tr>\n",
       "      <th>2</th>\n",
       "      <td>3</td>\n",
       "      <td>33</td>\n",
       "      <td>http://static-news.17house.com/web/news/201602...</td>\n",
       "    </tr>\n",
       "    <tr>\n",
       "      <th>3</th>\n",
       "      <td>4</td>\n",
       "      <td>126</td>\n",
       "      <td>http://img000.hc360.cn/g6/M07/CB/88/wKhQsFNNVJ...</td>\n",
       "    </tr>\n",
       "    <tr>\n",
       "      <th>4</th>\n",
       "      <td>5</td>\n",
       "      <td>18</td>\n",
       "      <td>https://img.alicdn.com/imgextra/T1sLtpFH8aXXXX...</td>\n",
       "    </tr>\n",
       "  </tbody>\n",
       "</table>\n",
       "</div>"
      ],
      "text/plain": [
       "   image_id  label_id                                                url\n",
       "0         1        38  http://www.ghs.net/public/images/fb/3d/51/3beb...\n",
       "1         2        63  https://img.alicdn.com/imgextra/TB2chFei9YH8KJ...\n",
       "2         3        33  http://static-news.17house.com/web/news/201602...\n",
       "3         4       126  http://img000.hc360.cn/g6/M07/CB/88/wKhQsFNNVJ...\n",
       "4         5        18  https://img.alicdn.com/imgextra/T1sLtpFH8aXXXX..."
      ]
     },
     "execution_count": 18,
     "metadata": {},
     "output_type": "execute_result"
    }
   ],
   "source": [
    "val['image_id'] = val.annotations.map(lambda x: x['image_id'])\n",
    "val['label_id'] = val.annotations.map(lambda x: x['label_id'])\n",
    "val['url'] = val.images.map(lambda x: x['url'][0])\n",
    "val.drop(columns=['annotations', 'images'], inplace=True)\n",
    "val.head()"
   ]
  },
  {
   "cell_type": "code",
   "execution_count": 19,
   "metadata": {
    "_cell_guid": "e7b071e0-b91b-4e27-8275-ec310c39c507",
    "_uuid": "dedd06e62a78a2333fb39ad6a4cb076a8e69f4ee"
   },
   "outputs": [
    {
     "data": {
      "text/plain": [
       "image_id    0\n",
       "label_id    0\n",
       "url         0\n",
       "dtype: int64"
      ]
     },
     "execution_count": 19,
     "metadata": {},
     "output_type": "execute_result"
    }
   ],
   "source": [
    "val.isnull().sum()"
   ]
  },
  {
   "cell_type": "code",
   "execution_count": 20,
   "metadata": {
    "_cell_guid": "ad5a965b-4ee8-4f80-a385-e0717dc33aab",
    "_uuid": "1525fd626e83c237f4cd8d6609d2bdb0f4ed34a5"
   },
   "outputs": [
    {
     "data": {
      "text/html": [
       "<div>\n",
       "<style scoped>\n",
       "    .dataframe tbody tr th:only-of-type {\n",
       "        vertical-align: middle;\n",
       "    }\n",
       "\n",
       "    .dataframe tbody tr th {\n",
       "        vertical-align: top;\n",
       "    }\n",
       "\n",
       "    .dataframe thead th {\n",
       "        text-align: right;\n",
       "    }\n",
       "</style>\n",
       "<table border=\"1\" class=\"dataframe\">\n",
       "  <thead>\n",
       "    <tr style=\"text-align: right;\">\n",
       "      <th></th>\n",
       "      <th>url</th>\n",
       "    </tr>\n",
       "  </thead>\n",
       "  <tbody>\n",
       "    <tr>\n",
       "      <th>0</th>\n",
       "      <td>https://img13.360buyimg.com/imgzone/jfs/t13174...</td>\n",
       "    </tr>\n",
       "    <tr>\n",
       "      <th>1</th>\n",
       "      <td>http://img35.ddimg.cn/79/22/1258168705-1_u.jpg</td>\n",
       "    </tr>\n",
       "    <tr>\n",
       "      <th>2</th>\n",
       "      <td>https://img.alicdn.com/imgextra/TB19HtjKXXXXXc...</td>\n",
       "    </tr>\n",
       "    <tr>\n",
       "      <th>3</th>\n",
       "      <td>https://img13.360buyimg.com/imgzone/jfs/t16498...</td>\n",
       "    </tr>\n",
       "    <tr>\n",
       "      <th>4</th>\n",
       "      <td>http://img4.99114.com/group1/M00/7D/C5/wKgGTFf...</td>\n",
       "    </tr>\n",
       "  </tbody>\n",
       "</table>\n",
       "</div>"
      ],
      "text/plain": [
       "                                                 url\n",
       "0  https://img13.360buyimg.com/imgzone/jfs/t13174...\n",
       "1     http://img35.ddimg.cn/79/22/1258168705-1_u.jpg\n",
       "2  https://img.alicdn.com/imgextra/TB19HtjKXXXXXc...\n",
       "3  https://img13.360buyimg.com/imgzone/jfs/t16498...\n",
       "4  http://img4.99114.com/group1/M00/7D/C5/wKgGTFf..."
      ]
     },
     "execution_count": 20,
     "metadata": {},
     "output_type": "execute_result"
    }
   ],
   "source": [
    "# test['image_id'] = test.annotations.map(lambda x: x['image_id'])\n",
    "# test['label_id'] = test.annotations.map(lambda x: x['label_id'])\n",
    "test['url'] = test.images.map(lambda x: x['url'][0])\n",
    "test.drop(columns=[ 'images'], inplace=True)\n",
    "test.head()"
   ]
  },
  {
   "cell_type": "code",
   "execution_count": 21,
   "metadata": {
    "_cell_guid": "7abfce24-f3e6-48dd-862c-b5e93f52732b",
    "_uuid": "430e292fe584391c22bde781574920ff9d7d3e2d"
   },
   "outputs": [
    {
     "data": {
      "text/plain": [
       "url    0\n",
       "dtype: int64"
      ]
     },
     "execution_count": 21,
     "metadata": {},
     "output_type": "execute_result"
    }
   ],
   "source": [
    "test.isnull().sum()"
   ]
  },
  {
   "cell_type": "code",
   "execution_count": 22,
   "metadata": {
    "_cell_guid": "6519c55e-1f5c-422d-98f0-1e02eaa4e7f3",
    "_uuid": "fd455166c7ea90cbe574f6e76fe00e975933f830"
   },
   "outputs": [
    {
     "data": {
      "text/html": [
       "<img src=\"https://img.alicdn.com/imgextra/TB2bYCkebxmpuFjSZJiXXXauVXa_!!2440360125.jpg\" width=\"200\" height=\"200\"/>"
      ],
      "text/plain": [
       "<IPython.core.display.Image object>"
      ]
     },
     "execution_count": 22,
     "metadata": {},
     "output_type": "execute_result"
    }
   ],
   "source": [
    "from IPython.display import Image\n",
    "from IPython.core.display import HTML \n",
    "Image(url= train.url[50],width=200,height=200)"
   ]
  },
  {
   "cell_type": "code",
   "execution_count": 23,
   "metadata": {
    "_cell_guid": "df3442bb-c0e7-4bba-a649-43a7941ff023",
    "_uuid": "93190bd548656d18ca5e36042fa3a88359de54a4",
    "collapsed": true
   },
   "outputs": [],
   "source": [
    "from IPython.display import Image\n",
    "from IPython.core.display import HTML \n",
    "\n",
    "def display_category(urls, category_name):\n",
    "    img_style = \"width: 180px; margin: 0px; float: left; border: 1px solid black;\"\n",
    "    images_list = ''.join([f\"<img style='{img_style}' src='{u}' />\" for _, u in urls.head(12).iteritems()])\n",
    "\n",
    "    display(HTML(images_list))\n"
   ]
  },
  {
   "cell_type": "code",
   "execution_count": 24,
   "metadata": {
    "_cell_guid": "50d68cbc-8fb3-48ec-b87e-c98f060d8f31",
    "_uuid": "8f204e68faf501b468dd586d5c178073a224007c"
   },
   "outputs": [
    {
     "data": {
      "text/html": [
       "<img style='width: 180px; margin: 0px; float: left; border: 1px solid black;' src='https://img14.360buyimg.com/imgzone/jfs/t2977/13/524816924/267512/8767617a/575d3181Na7521aa3.jpg' /><img style='width: 180px; margin: 0px; float: left; border: 1px solid black;' src='http://img10.360buyimg.com/n1/jfs/t310/302/1523049725/285648/6568c8bc/543c90eaNeb4ac6c1.jpg' /><img style='width: 180px; margin: 0px; float: left; border: 1px solid black;' src='https://img.alicdn.com/imgextra/TB2_XBfq.dnpuFjSZPhXXbChpXa_!!920073637.jpg' /><img style='width: 180px; margin: 0px; float: left; border: 1px solid black;' src='http://www.szthks.com/localimg/687474703a2f2f6777322e616c6963646e2e636f6d2f62616f2f75706c6f616465642f69322f544231724b49374b7058585858636b5846585858585858585858585f2121322d6974656d5f7069632e706e67.jpg' /><img style='width: 180px; margin: 0px; float: left; border: 1px solid black;' src='http://m.360buyimg.com/n12/jfs/t2101/214/715609835/47728/7f0486da/5625b2bdN18e4d410.jpg%21q70.jpg' /><img style='width: 180px; margin: 0px; float: left; border: 1px solid black;' src='https://img12.360buyimg.com/imgzone/jfs/t11368/362/1155588747/405688/609d7bc1/59fecc32N34051738.jpg' /><img style='width: 180px; margin: 0px; float: left; border: 1px solid black;' src='https://img.alicdn.com/imgextra/TB2YmWcdmhlpuFjSspkXXa1ApXa_!!2907128884.jpg' /><img style='width: 180px; margin: 0px; float: left; border: 1px solid black;' src='https://img11.360buyimg.com/imgzone/jfs/t4060/166/1100411758/125652/51d7be37/58675f96N6c9eadc4.jpg' /><img style='width: 180px; margin: 0px; float: left; border: 1px solid black;' src='http://m.360buyimg.com/n12/jfs/t2353/228/552420432/445413/3dbefbc7/56174e4dN141ea647.jpg%21q70.jpg' /><img style='width: 180px; margin: 0px; float: left; border: 1px solid black;' src='http://img.alicdn.com/imgextra/i4/2924705071/TB2ApMHcHeI.eBjSspkXXaXqVXa_%21%212924705071.jpg_480x480.jpg' /><img style='width: 180px; margin: 0px; float: left; border: 1px solid black;' src='https://img13.360buyimg.com/imgzone/jfs/t769/46/988501895/185297/aee214c3/55126144N1a7d2cd2.jpg' /><img style='width: 180px; margin: 0px; float: left; border: 1px solid black;' src='https://img.yzcdn.cn/upload_files/2017/07/10/149965644516671772.jpg?imageView2/2/w/580/h/580/q/75/format/jpg' />"
      ],
      "text/plain": [
       "<IPython.core.display.HTML object>"
      ]
     },
     "metadata": {},
     "output_type": "display_data"
    }
   ],
   "source": [
    "urls = train['url'][15:30]\n",
    "display_category(urls, \"\")\n"
   ]
  },
  {
   "cell_type": "code",
   "execution_count": 25,
   "metadata": {
    "_cell_guid": "829fe3de-8e82-4e04-a769-a11cd8546cca",
    "_uuid": "9d566dddb9f1281c316b956ef1c12af49fdf7b4f"
   },
   "outputs": [
    {
     "data": {
      "text/html": [
       "<img style='width: 180px; margin: 0px; float: left; border: 1px solid black;' src='https://img.alicdn.com/imgextra/TB29FgocLjM8KJjSZFsXXXdZpXa_!!3395481681.jpg' /><img style='width: 180px; margin: 0px; float: left; border: 1px solid black;' src='http://img.shushi100.com/images/0c867d62-2d36-431f-884c-585c429a34bb.jpg' /><img style='width: 180px; margin: 0px; float: left; border: 1px solid black;' src='http://img.fuwo.com/tuce/1603/23/cb8be97af0c111e5bb8100163e00254c.jpg' /><img style='width: 180px; margin: 0px; float: left; border: 1px solid black;' src='https://img11.360buyimg.com/imgzone/jfs/t9958/113/2403311229/105133/8afdd188/59f51020N07fb86d5.jpg' /><img style='width: 180px; margin: 0px; float: left; border: 1px solid black;' src='http://shop.gctc.cn/images/201702/goods_img/163_P_1487419176132.jpg' /><img style='width: 180px; margin: 0px; float: left; border: 1px solid black;' src='https://img.alicdn.com/imgextra/TB2HpDIjIjI8KJjSsppXXXbyVXa_!!3029150826.jpg' /><img style='width: 180px; margin: 0px; float: left; border: 1px solid black;' src='http://image1.yihaojiaju.com/upload/Collected/440_280_686ceed7dd9dc5d2b0b844ef3cbe79.jpg' /><img style='width: 180px; margin: 0px; float: left; border: 1px solid black;' src='http://img.haolivshop.com/upload/store/goods/31/f362d7d03273dd0926ac0f6a52020425.jpg_max.jpg' /><img style='width: 180px; margin: 0px; float: left; border: 1px solid black;' src='https://img12.360buyimg.com/imgzone/jfs/t9976/28/2083690219/392816/1e972390/59ed832dN2dfc690c.jpg' /><img style='width: 180px; margin: 0px; float: left; border: 1px solid black;' src='https://img12.360buyimg.com/imgzone/jfs/t5605/187/376144632/254157/7a55374a/591eeecfN8bca7510.jpg' /><img style='width: 180px; margin: 0px; float: left; border: 1px solid black;' src='https://img.alicdn.com/imgextra/TB2MfbggEF7MKJjSZFLXXcMBVXa_!!96008366.jpg' /><img style='width: 180px; margin: 0px; float: left; border: 1px solid black;' src='http://img4.wuhoo.cn/i3/763770457/TB2Tk.DlpXXXXXlXpXXXXXXXXXX_%21%21763770457.jpg_300x300.jpg' />"
      ],
      "text/plain": [
       "<IPython.core.display.HTML object>"
      ]
     },
     "metadata": {},
     "output_type": "display_data"
    }
   ],
   "source": [
    "urls = test['url'][15:30]\n",
    "display_category(urls, \"\")\n"
   ]
  },
  {
   "cell_type": "code",
   "execution_count": 26,
   "metadata": {
    "_cell_guid": "c1cb0627-78e8-4862-a53d-00c05513bffe",
    "_uuid": "667ea6eb8ee2b70786bfe668b8243136060ac8f8"
   },
   "outputs": [
    {
     "data": {
      "text/html": [
       "<img style='width: 180px; margin: 0px; float: left; border: 1px solid black;' src='http://www.szjyjiaju.com/uploads/allimg/170810/1-1FQ0111150300.jpg' /><img style='width: 180px; margin: 0px; float: left; border: 1px solid black;' src='https://img11.360buyimg.com/imgzone/jfs/t11107/164/1097968960/86569/9572baee/59fdaceeNf2af78f9.jpg' /><img style='width: 180px; margin: 0px; float: left; border: 1px solid black;' src='http://img.pconline.com.cn/images/upload/upc/tx/house_youpin/1402/03/c0/30992624_1391396841156_300x300.jpg' /><img style='width: 180px; margin: 0px; float: left; border: 1px solid black;' src='https://img12.360buyimg.com/imgzone/jfs/t12538/63/774452467/72710/e57aed87/5a1398b5Nedc275db.jpg' /><img style='width: 180px; margin: 0px; float: left; border: 1px solid black;' src='https://img10.360buyimg.com/imgzone/jfs/t4837/70/2356160945/249378/cc9fda33/58fd65f1Nb1548361.jpg' /><img style='width: 180px; margin: 0px; float: left; border: 1px solid black;' src='https://img14.360buyimg.com/imgzone/jfs/t1012/356/242651690/149630/1f773982/550eaa9aN415a33e6.jpg' /><img style='width: 180px; margin: 0px; float: left; border: 1px solid black;' src='http://d11.yihaodianimg.com/N00/M03/64/61/CgMBmFOWnfOAFQsTAAEKb6P6NZM22500_320x320.jpg' /><img style='width: 180px; margin: 0px; float: left; border: 1px solid black;' src='http://img1.wutuojia.com/cms/articleDetail/20151209/154452_508571.jpg' /><img style='width: 180px; margin: 0px; float: left; border: 1px solid black;' src='https://img.alicdn.com/imgextra/TB2pwusXFXXXXbQXpXXXXXXXXXX_!!78720919.jpg' /><img style='width: 180px; margin: 0px; float: left; border: 1px solid black;' src='https://img.alicdn.com/imgextra/TB2ZX5ygdRopuFjSZFtXXcanpXa_!!570297792.jpg' /><img style='width: 180px; margin: 0px; float: left; border: 1px solid black;' src='http://img003.hc360.cn/hb/MTQ1OTI3OTk3MzI0MS0yODk3OTU4MTM=.jpg' /><img style='width: 180px; margin: 0px; float: left; border: 1px solid black;' src='http://image5.huangye88.com/2014/10/22/768d5ca7e199cb93.JPG' />"
      ],
      "text/plain": [
       "<IPython.core.display.HTML object>"
      ]
     },
     "metadata": {},
     "output_type": "display_data"
    }
   ],
   "source": [
    "urls = val['url'][15:30]\n",
    "display_category(urls, \"\")\n"
   ]
  },
  {
   "cell_type": "code",
   "execution_count": 27,
   "metadata": {
    "_cell_guid": "d764226b-13e7-47b2-ab4d-cfe16d0ef3d4",
    "_uuid": "39f5f9e7b68e05d9f7a945f55e8d1047b3b76511"
   },
   "outputs": [
    {
     "data": {
      "text/plain": [
       "20     3996\n",
       "42     3973\n",
       "92     2666\n",
       "12     2609\n",
       "125    2598\n",
       "Name: label_id, dtype: int64"
      ]
     },
     "execution_count": 27,
     "metadata": {},
     "output_type": "execute_result"
    }
   ],
   "source": [
    "train.label_id.value_counts().sort_values(ascending=False).head()"
   ]
  },
  {
   "cell_type": "markdown",
   "metadata": {
    "_cell_guid": "b9a59dd0-abe3-4ffd-b8b9-860f9c507293",
    "_uuid": "170e10d0508e6bedd2fa7fcd91622731f7a955b0"
   },
   "source": [
    "The top most labels are shown above, let us display them"
   ]
  },
  {
   "cell_type": "code",
   "execution_count": 28,
   "metadata": {
    "_cell_guid": "4df4b48b-33ad-4287-ae87-2e291d1aab48",
    "_uuid": "44e654afe3dd2d4707ed768292386506ab51c5a0",
    "collapsed": true
   },
   "outputs": [],
   "source": [
    "import seaborn as sns\n",
    "import matplotlib.pyplot as plt\n"
   ]
  },
  {
   "cell_type": "code",
   "execution_count": 29,
   "metadata": {
    "_cell_guid": "5cbf0203-2d33-464a-85df-574e592f7d33",
    "_uuid": "7a2dba5bcd9ac8e8ab2d9960b374af0c2336037a"
   },
   "outputs": [
    {
     "data": {
      "image/png": "[encoded data removed]",
      "text/plain": [
       "<Figure size 2160x360 with 1 Axes>"
      ]
     },
     "metadata": {
      "needs_background": "light"
     },
     "output_type": "display_data"
    }
   ],
   "source": [
    "plt.figure(figsize=(30,5))\n",
    "sns.countplot(train.label_id)\n",
    "plt.show()"
   ]
  },
  {
   "cell_type": "code",
   "execution_count": 30,
   "metadata": {
    "_cell_guid": "e2605456-7694-434f-8401-284e40e68dec",
    "_uuid": "f0ddaf2aeba8715aef27c79835ac4173f418e138"
   },
   "outputs": [
    {
     "data": {
      "text/plain": [
       "'http://d8.yihaodianimg.com/N10/M09/35/A3/ChEi21ZD8omAGcyNAAN5x93OdSQ41401_360x360.jpg'"
      ]
     },
     "execution_count": 30,
     "metadata": {},
     "output_type": "execute_result"
    }
   ],
   "source": [
    "(train.url[11])"
   ]
  },
  {
   "cell_type": "code",
   "execution_count": 31,
   "metadata": {
    "_cell_guid": "cb9a093b-e867-4110-b9ec-c2ed89319fbd",
    "_uuid": "600c9cc40d8f2e4b199cfc1a8c5af6d052008170"
   },
   "outputs": [
    {
     "data": {
      "text/plain": [
       "Index(['image_id', 'label_id', 'url'], dtype='object')"
      ]
     },
     "execution_count": 31,
     "metadata": {},
     "output_type": "execute_result"
    }
   ],
   "source": [
    "train.columns"
   ]
  },
  {
   "cell_type": "code",
   "execution_count": 32,
   "metadata": {
    "_cell_guid": "a4cf6da9-b777-4662-8663-08a978fa522e",
    "_uuid": "308d87f60a21a64e6622b4cd870f73ea68b70427"
   },
   "outputs": [
    {
     "data": {
      "text/plain": [
       "array([  5, 104,  67,  15,  86, 120,   9,  74,  77, 101,   4,  99,  37,\n",
       "        64,  28, 110,  59, 117,  79,  68,  32, 127, 106,  24,  97,  13,\n",
       "        39,  62, 122,  89,  48, 105,  50,  55,  31,  73,   3,  30,  78,\n",
       "       126,  23,  96, 107, 114,  98,  80,  57,  65, 123,  29,  54, 121,\n",
       "        52, 115,  25,  90,  16,  21,  19,  81,  41,   7,   1,  83,   2,\n",
       "       118,  12,  93,  70,   8,  26,  92,  53, 119,  14, 113,  33,   6,\n",
       "        60,  85, 112, 109,  45,  91,  20,  22,  18,  36,  27,  82,  95,\n",
       "        11,  51,  34, 103,  56, 108,  61,  84,  44,  10,  38, 125,  75,\n",
       "        47, 124,  87,  49, 102,  46,  71,  58,  63,  94,  69,  42,  43,\n",
       "       111,  17,  88,  76, 116,  35,  40, 128,  66, 100,  72])"
      ]
     },
     "execution_count": 32,
     "metadata": {},
     "output_type": "execute_result"
    }
   ],
   "source": [
    "a = train.label_id.unique()\n",
    "a"
   ]
  },
  {
   "cell_type": "code",
   "execution_count": 33,
   "metadata": {
    "_uuid": "5104ef8b2a534dcbee7f372038f11df31de719cc",
    "collapsed": true
   },
   "outputs": [],
   "source": [
    "from IPython.core.display import HTML \n",
    "from ipywidgets import interact\n",
    "from IPython.display import display\n",
    "\n",
    "%matplotlib inline"
   ]
  },
  {
   "cell_type": "code",
   "execution_count": 34,
   "metadata": {
    "_uuid": "e56b571b6484e2dea4f87a82ce5ba4a6f9b5e32a",
    "collapsed": true
   },
   "outputs": [],
   "source": [
    "from IPython.display import Image\n",
    "from IPython.core.display import HTML \n",
    "\n",
    "def display_category1(urls, category_name):\n",
    "    img_style = \"width: 180px; margin: 0px; float: left; border: 1px solid black;\"\n",
    "    images_list = ''.join([f\"<img style='{img_style}' src='{u}' />\" for _, u in urls.head(12).iteritems()])\n",
    "\n",
    "    display(HTML(images_list))\n"
   ]
  },
  {
   "cell_type": "code",
   "execution_count": 35,
   "metadata": {},
   "outputs": [
    {
     "data": {
      "text/html": [
       "<img style='width: 180px; margin: 0px; float: left; border: 1px solid black;' src='http://www.szjyjiaju.com/uploads/allimg/170810/1-1FQ0111150300.jpg' /><img style='width: 180px; margin: 0px; float: left; border: 1px solid black;' src='https://img11.360buyimg.com/imgzone/jfs/t11107/164/1097968960/86569/9572baee/59fdaceeNf2af78f9.jpg' /><img style='width: 180px; margin: 0px; float: left; border: 1px solid black;' src='http://img.pconline.com.cn/images/upload/upc/tx/house_youpin/1402/03/c0/30992624_1391396841156_300x300.jpg' /><img style='width: 180px; margin: 0px; float: left; border: 1px solid black;' src='https://img12.360buyimg.com/imgzone/jfs/t12538/63/774452467/72710/e57aed87/5a1398b5Nedc275db.jpg' /><img style='width: 180px; margin: 0px; float: left; border: 1px solid black;' src='https://img10.360buyimg.com/imgzone/jfs/t4837/70/2356160945/249378/cc9fda33/58fd65f1Nb1548361.jpg' /><img style='width: 180px; margin: 0px; float: left; border: 1px solid black;' src='https://img14.360buyimg.com/imgzone/jfs/t1012/356/242651690/149630/1f773982/550eaa9aN415a33e6.jpg' /><img style='width: 180px; margin: 0px; float: left; border: 1px solid black;' src='http://d11.yihaodianimg.com/N00/M03/64/61/CgMBmFOWnfOAFQsTAAEKb6P6NZM22500_320x320.jpg' /><img style='width: 180px; margin: 0px; float: left; border: 1px solid black;' src='http://img1.wutuojia.com/cms/articleDetail/20151209/154452_508571.jpg' /><img style='width: 180px; margin: 0px; float: left; border: 1px solid black;' src='https://img.alicdn.com/imgextra/TB2pwusXFXXXXbQXpXXXXXXXXXX_!!78720919.jpg' /><img style='width: 180px; margin: 0px; float: left; border: 1px solid black;' src='https://img.alicdn.com/imgextra/TB2ZX5ygdRopuFjSZFtXXcanpXa_!!570297792.jpg' /><img style='width: 180px; margin: 0px; float: left; border: 1px solid black;' src='http://img003.hc360.cn/hb/MTQ1OTI3OTk3MzI0MS0yODk3OTU4MTM=.jpg' /><img style='width: 180px; margin: 0px; float: left; border: 1px solid black;' src='http://image5.huangye88.com/2014/10/22/768d5ca7e199cb93.JPG' />"
      ],
      "text/plain": [
       "<IPython.core.display.HTML object>"
      ]
     },
     "metadata": {},
     "output_type": "display_data"
    }
   ],
   "source": [
    "urls = val['url'][15:30]\n",
    "display_category1(urls,\"\")"
   ]
  },
  {
   "cell_type": "markdown",
   "metadata": {
    "_cell_guid": "cc6ef869-021e-4b53-bab0-844b1d3d3e42",
    "_uuid": "ed7d1ca90bbf79f21c906a5db3ef9b4ca1bff9e1",
    "collapsed": true
   },
   "source": [
    "\n",
    "so how can we proceed to solve this problem...any idea please comment below.\n",
    " \n",
    " **If you like my  notebook please vote for me.**\n",
    " \n",
    " more in pipeline, stay tuned.\n",
    " \n",
    " Thank you."
   ]
  }
 ],
 "metadata": {
  "kernelspec": {
   "display_name": "Python 3",
   "language": "python",
   "name": "python3"
  },
  "language_info": {
   "codemirror_mode": {
    "name": "ipython",
    "version": 3
   },
   "file_extension": ".py",
   "mimetype": "text/x-python",
   "name": "python",
   "nbconvert_exporter": "python",
   "pygments_lexer": "ipython3",
   "version": "3.6.2"
  }
 },
 "nbformat": 4,
 "nbformat_minor": 1
}

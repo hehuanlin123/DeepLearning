{
 "cells": [
  {
   "cell_type": "code",
   "execution_count": 1,
   "metadata": {
    "ExecuteTime": {
     "end_time": "2018-07-12T05:43:26.591305Z",
     "start_time": "2018-07-12T05:43:17.820110Z"
    }
   },
   "outputs": [],
   "source": [
    "import numpy as np\n",
    "import pandas as pd\n",
    "from matplotlib import pyplot as plt\n",
    "from tqdm import tqdm\n",
    "import lightgbm as lgb\n",
    "from sklearn.model_selection import GroupKFold\n",
    "import sys\n",
    "import os\n",
    "sys.path.append(f'/home/{os.environ.get(\"USER\")}/PythonLibrary')\n",
    "import lgbextension as ex\n",
    "import utils"
   ]
  },
  {
   "cell_type": "code",
   "execution_count": 41,
   "metadata": {
    "ExecuteTime": {
     "end_time": "2018-07-12T06:03:04.044962Z",
     "start_time": "2018-07-12T06:02:13.934731Z"
    }
   },
   "outputs": [
    {
     "name": "stderr",
     "output_type": "stream",
     "text": [
      "100%|██████████| 20/20 [00:05<00:00,  3.98it/s]\n",
      "100%|██████████| 20/20 [00:01<00:00, 13.14it/s]\n",
      "100%|██████████| 20/20 [00:36<00:00,  1.81s/it]\n"
     ]
    }
   ],
   "source": [
    "train = utils.load_train()\n",
    "test = utils.load_test()\n",
    "prev = utils.read_pickles('../data/previous_application')"
   ]
  },
  {
   "cell_type": "code",
   "execution_count": 42,
   "metadata": {
    "ExecuteTime": {
     "end_time": "2018-07-12T06:03:04.048725Z",
     "start_time": "2018-07-12T06:03:04.046481Z"
    }
   },
   "outputs": [],
   "source": [
    "# subset\n",
    "#prev =prev[prev.NAME_CONTRACT_STATUS=='Approved'].drop('NAME_CONTRACT_STATUS', axis=1)\n",
    "\n",
    "#prev = prev.sort_values(['SK_ID_CURR', 'DAYS_DECISION'], ascending=[True, False]).drop_duplicates('SK_ID_CURR', keep='first')\n"
   ]
  },
  {
   "cell_type": "code",
   "execution_count": 43,
   "metadata": {
    "ExecuteTime": {
     "end_time": "2018-07-12T06:03:18.211958Z",
     "start_time": "2018-07-12T06:03:04.049915Z"
    }
   },
   "outputs": [],
   "source": [
    "# colsample\n",
    "\n",
    "col = [c for c in prev.columns if c.startswith('app_')]\n",
    "prev.drop(col, axis=1, inplace=True)\n"
   ]
  },
  {
   "cell_type": "code",
   "execution_count": 44,
   "metadata": {
    "ExecuteTime": {
     "end_time": "2018-07-12T06:03:35.864072Z",
     "start_time": "2018-07-12T06:03:35.851259Z"
    }
   },
   "outputs": [],
   "source": [
    "col_cat = [c for c in prev.columns if prev[c].dtype=='O']"
   ]
  },
  {
   "cell_type": "code",
   "execution_count": 45,
   "metadata": {
    "ExecuteTime": {
     "end_time": "2018-07-12T06:03:44.871436Z",
     "start_time": "2018-07-12T06:03:36.028230Z"
    }
   },
   "outputs": [],
   "source": [
    "prev = pd.get_dummies(prev, columns=col_cat, drop_first=True)"
   ]
  },
  {
   "cell_type": "code",
   "execution_count": 46,
   "metadata": {
    "ExecuteTime": {
     "end_time": "2018-07-12T06:03:49.421247Z",
     "start_time": "2018-07-12T06:03:44.872792Z"
    }
   },
   "outputs": [],
   "source": [
    "tmp = pd.merge(prev, train[['SK_ID_CURR', 'TARGET']], on='SK_ID_CURR', how='left')"
   ]
  },
  {
   "cell_type": "code",
   "execution_count": 47,
   "metadata": {
    "ExecuteTime": {
     "end_time": "2018-07-12T06:04:05.749340Z",
     "start_time": "2018-07-12T06:03:49.422701Z"
    }
   },
   "outputs": [],
   "source": [
    "prev_tr = tmp[~tmp.TARGET.isnull()].reset_index(drop=True)\n",
    "prev_te = tmp[tmp.TARGET.isnull()].reset_index(drop=True)"
   ]
  },
  {
   "cell_type": "code",
   "execution_count": 48,
   "metadata": {
    "ExecuteTime": {
     "end_time": "2018-07-12T06:04:06.022651Z",
     "start_time": "2018-07-12T06:04:05.751065Z"
    }
   },
   "outputs": [],
   "source": [
    "tmp  = prev_tr[['SK_ID_CURR']].set_index('SK_ID_CURR')\n",
    "tmp['y'] = prev_tr.TARGET.values\n",
    "tmp['cnt'] = prev_tr['SK_ID_CURR'].value_counts()\n",
    "tmp['w'] = 1 / tmp.cnt.values"
   ]
  },
  {
   "cell_type": "code",
   "execution_count": 49,
   "metadata": {
    "ExecuteTime": {
     "end_time": "2018-07-12T06:04:13.437558Z",
     "start_time": "2018-07-12T06:04:06.024315Z"
    }
   },
   "outputs": [],
   "source": [
    "X_tr = prev_tr.drop(['SK_ID_PREV', 'SK_ID_CURR', 'TARGET'], axis=1).reset_index(drop=True)\n",
    "tmp.reset_index(inplace=True)"
   ]
  },
  {
   "cell_type": "code",
   "execution_count": 50,
   "metadata": {
    "ExecuteTime": {
     "end_time": "2018-07-12T06:04:13.441900Z",
     "start_time": "2018-07-12T06:04:13.438979Z"
    }
   },
   "outputs": [
    {
     "data": {
      "text/plain": [
       "(1413701, 439)"
      ]
     },
     "execution_count": 50,
     "metadata": {},
     "output_type": "execute_result"
    }
   ],
   "source": [
    "X_tr.shape"
   ]
  },
  {
   "cell_type": "code",
   "execution_count": 51,
   "metadata": {
    "ExecuteTime": {
     "end_time": "2018-07-12T06:04:13.447496Z",
     "start_time": "2018-07-12T06:04:13.443043Z"
    }
   },
   "outputs": [
    {
     "data": {
      "text/plain": [
       "(1413701, 4)"
      ]
     },
     "execution_count": 51,
     "metadata": {},
     "output_type": "execute_result"
    }
   ],
   "source": [
    "tmp.shape"
   ]
  },
  {
   "cell_type": "code",
   "execution_count": 52,
   "metadata": {
    "ExecuteTime": {
     "end_time": "2018-07-12T06:04:13.457219Z",
     "start_time": "2018-07-12T06:04:13.448584Z"
    }
   },
   "outputs": [
    {
     "data": {
      "text/html": [
       "<div>\n",
       "<style scoped>\n",
       "    .dataframe tbody tr th:only-of-type {\n",
       "        vertical-align: middle;\n",
       "    }\n",
       "\n",
       "    .dataframe tbody tr th {\n",
       "        vertical-align: top;\n",
       "    }\n",
       "\n",
       "    .dataframe thead th {\n",
       "        text-align: right;\n",
       "    }\n",
       "</style>\n",
       "<table border=\"1\" class=\"dataframe\">\n",
       "  <thead>\n",
       "    <tr style=\"text-align: right;\">\n",
       "      <th></th>\n",
       "      <th>SK_ID_CURR</th>\n",
       "      <th>y</th>\n",
       "      <th>cnt</th>\n",
       "      <th>w</th>\n",
       "    </tr>\n",
       "  </thead>\n",
       "  <tbody>\n",
       "    <tr>\n",
       "      <th>1413696</th>\n",
       "      <td>443544</td>\n",
       "      <td>0.0</td>\n",
       "      <td>22</td>\n",
       "      <td>0.045455</td>\n",
       "    </tr>\n",
       "    <tr>\n",
       "      <th>1413697</th>\n",
       "      <td>209732</td>\n",
       "      <td>0.0</td>\n",
       "      <td>6</td>\n",
       "      <td>0.166667</td>\n",
       "    </tr>\n",
       "    <tr>\n",
       "      <th>1413698</th>\n",
       "      <td>249544</td>\n",
       "      <td>0.0</td>\n",
       "      <td>3</td>\n",
       "      <td>0.333333</td>\n",
       "    </tr>\n",
       "    <tr>\n",
       "      <th>1413699</th>\n",
       "      <td>400317</td>\n",
       "      <td>0.0</td>\n",
       "      <td>9</td>\n",
       "      <td>0.111111</td>\n",
       "    </tr>\n",
       "    <tr>\n",
       "      <th>1413700</th>\n",
       "      <td>261212</td>\n",
       "      <td>0.0</td>\n",
       "      <td>9</td>\n",
       "      <td>0.111111</td>\n",
       "    </tr>\n",
       "  </tbody>\n",
       "</table>\n",
       "</div>"
      ],
      "text/plain": [
       "         SK_ID_CURR    y  cnt         w\n",
       "1413696      443544  0.0   22  0.045455\n",
       "1413697      209732  0.0    6  0.166667\n",
       "1413698      249544  0.0    3  0.333333\n",
       "1413699      400317  0.0    9  0.111111\n",
       "1413700      261212  0.0    9  0.111111"
      ]
     },
     "execution_count": 52,
     "metadata": {},
     "output_type": "execute_result"
    }
   ],
   "source": [
    "tmp.tail()"
   ]
  },
  {
   "cell_type": "markdown",
   "metadata": {},
   "source": [
    "# CV"
   ]
  },
  {
   "cell_type": "code",
   "execution_count": 53,
   "metadata": {
    "ExecuteTime": {
     "end_time": "2018-07-12T06:04:13.464529Z",
     "start_time": "2018-07-12T06:04:13.458385Z"
    }
   },
   "outputs": [],
   "source": [
    "SEED = 71\n",
    "\n",
    "param = {\n",
    "         'objective': 'binary',\n",
    "         'metric': 'auc',\n",
    "         'learning_rate': 0.2,\n",
    "         'max_depth': 6,\n",
    "         'num_leaves': 63,\n",
    "         'max_bin': 255,\n",
    "         \n",
    "         'min_child_weight': 10,\n",
    "         'min_data_in_leaf': 150,\n",
    "         'reg_lambda': 0.5,  # L2 regularization term on weights.\n",
    "         'reg_alpha': 0.5,  # L1 regularization term on weights.\n",
    "         \n",
    "         'colsample_bytree': 0.9,\n",
    "         'subsample': 0.9,\n",
    "#         'nthread': 32,\n",
    "         'nthread': 64,\n",
    "         'bagging_freq': 1,\n",
    "         'verbose':-1,\n",
    "         'seed': SEED\n",
    "         }\n"
   ]
  },
  {
   "cell_type": "code",
   "execution_count": 54,
   "metadata": {
    "ExecuteTime": {
     "end_time": "2018-07-12T06:04:13.525383Z",
     "start_time": "2018-07-12T06:04:13.465764Z"
    }
   },
   "outputs": [],
   "source": [
    "fold = 5\n",
    "group_kfold = GroupKFold(n_splits=fold)\n",
    "tmp['g'] = tmp.SK_ID_CURR % fold"
   ]
  },
  {
   "cell_type": "code",
   "execution_count": 55,
   "metadata": {
    "ExecuteTime": {
     "end_time": "2018-07-12T06:04:13.531132Z",
     "start_time": "2018-07-12T06:04:13.527126Z"
    }
   },
   "outputs": [],
   "source": [
    "dtrain = lgb.Dataset(X_tr, tmp.y)"
   ]
  },
  {
   "cell_type": "code",
   "execution_count": 56,
   "metadata": {
    "ExecuteTime": {
     "end_time": "2018-07-12T06:06:16.756774Z",
     "start_time": "2018-07-12T06:04:13.532701Z"
    }
   },
   "outputs": [
    {
     "name": "stdout",
     "output_type": "stream",
     "text": [
      "[50]\tcv_agg's auc: 0.652086 + 0.00257234\n",
      "[100]\tcv_agg's auc: 0.653304 + 0.0025141\n",
      "[150]\tcv_agg's auc: 0.653134 + 0.00262983\n",
      "[200]\tcv_agg's auc: 0.652429 + 0.00272999\n"
     ]
    }
   ],
   "source": [
    "ret = lgb.cv(param, dtrain, 9999, folds=group_kfold.split(X_tr, tmp.y, tmp.g), \n",
    "             stratified=False,\n",
    "             early_stopping_rounds=100, verbose_eval=50,\n",
    "             seed=SEED)\n"
   ]
  },
  {
   "cell_type": "code",
   "execution_count": 57,
   "metadata": {
    "ExecuteTime": {
     "end_time": "2018-07-12T06:06:16.772907Z",
     "start_time": "2018-07-12T06:06:16.764060Z"
    }
   },
   "outputs": [
    {
     "data": {
      "text/plain": [
       "0.653550052295366"
      ]
     },
     "execution_count": 57,
     "metadata": {},
     "output_type": "execute_result"
    }
   ],
   "source": [
    "ret['auc-mean'][-1]"
   ]
  },
  {
   "cell_type": "code",
   "execution_count": 34,
   "metadata": {
    "ExecuteTime": {
     "end_time": "2018-07-12T05:56:08.888562Z",
     "start_time": "2018-07-12T05:54:12.634792Z"
    }
   },
   "outputs": [
    {
     "name": "stdout",
     "output_type": "stream",
     "text": [
      "[50]\tcv_agg's auc: 0.683551 + 0.00116634\n",
      "[100]\tcv_agg's auc: 0.68464 + 0.00125563\n",
      "[150]\tcv_agg's auc: 0.683401 + 0.000969399\n"
     ]
    }
   ],
   "source": [
    "dtrain = lgb.Dataset(X_tr, tmp.y, weight=tmp.w)\n",
    "\n",
    "ret = lgb.cv(param, dtrain, 9999, folds=group_kfold.split(X_tr, tmp.y, tmp.g), \n",
    "             stratified=False,\n",
    "             early_stopping_rounds=100, verbose_eval=50,\n",
    "             seed=SEED)"
   ]
  },
  {
   "cell_type": "code",
   "execution_count": 58,
   "metadata": {
    "ExecuteTime": {
     "end_time": "2018-07-12T06:38:09.502299Z",
     "start_time": "2018-07-12T06:37:59.559574Z"
    }
   },
   "outputs": [],
   "source": [
    "model = lgb.train(param, dtrain, 100)"
   ]
  },
  {
   "cell_type": "code",
   "execution_count": 59,
   "metadata": {
    "ExecuteTime": {
     "end_time": "2018-07-12T06:38:09.520548Z",
     "start_time": "2018-07-12T06:38:09.508569Z"
    }
   },
   "outputs": [],
   "source": [
    "imp = ex.getImp(model)"
   ]
  },
  {
   "cell_type": "code",
   "execution_count": 63,
   "metadata": {
    "ExecuteTime": {
     "end_time": "2018-07-12T06:45:17.453555Z",
     "start_time": "2018-07-12T06:45:17.444333Z"
    }
   },
   "outputs": [
    {
     "data": {
      "text/html": [
       "<div>\n",
       "<style scoped>\n",
       "    .dataframe tbody tr th:only-of-type {\n",
       "        vertical-align: middle;\n",
       "    }\n",
       "\n",
       "    .dataframe tbody tr th {\n",
       "        vertical-align: top;\n",
       "    }\n",
       "\n",
       "    .dataframe thead th {\n",
       "        text-align: right;\n",
       "    }\n",
       "</style>\n",
       "<table border=\"1\" class=\"dataframe\">\n",
       "  <thead>\n",
       "    <tr style=\"text-align: right;\">\n",
       "      <th></th>\n",
       "      <th>feature</th>\n",
       "      <th>split</th>\n",
       "      <th>gain</th>\n",
       "    </tr>\n",
       "  </thead>\n",
       "  <tbody>\n",
       "    <tr>\n",
       "      <th>0</th>\n",
       "      <td>AMT_GOODS_PRICE-d-total_debt</td>\n",
       "      <td>90</td>\n",
       "      <td>15238.959805</td>\n",
       "    </tr>\n",
       "    <tr>\n",
       "      <th>1</th>\n",
       "      <td>AMT_ANNUITY-m-app_AMT_GOODS_PRICE</td>\n",
       "      <td>195</td>\n",
       "      <td>11344.598140</td>\n",
       "    </tr>\n",
       "    <tr>\n",
       "      <th>2</th>\n",
       "      <td>DAYS_LAST_DUE_1ST_VERSION-m-app_DAYS_BIRTH</td>\n",
       "      <td>67</td>\n",
       "      <td>10518.170499</td>\n",
       "    </tr>\n",
       "    <tr>\n",
       "      <th>3</th>\n",
       "      <td>AMT_ANNUITY-m-app_AMT_CREDIT</td>\n",
       "      <td>198</td>\n",
       "      <td>7845.242754</td>\n",
       "    </tr>\n",
       "    <tr>\n",
       "      <th>4</th>\n",
       "      <td>DAYS_DECISION</td>\n",
       "      <td>121</td>\n",
       "      <td>5987.397496</td>\n",
       "    </tr>\n",
       "  </tbody>\n",
       "</table>\n",
       "</div>"
      ],
      "text/plain": [
       "                                      feature  split          gain\n",
       "0                AMT_GOODS_PRICE-d-total_debt     90  15238.959805\n",
       "1           AMT_ANNUITY-m-app_AMT_GOODS_PRICE    195  11344.598140\n",
       "2  DAYS_LAST_DUE_1ST_VERSION-m-app_DAYS_BIRTH     67  10518.170499\n",
       "3                AMT_ANNUITY-m-app_AMT_CREDIT    198   7845.242754\n",
       "4                               DAYS_DECISION    121   5987.397496"
      ]
     },
     "execution_count": 63,
     "metadata": {},
     "output_type": "execute_result"
    }
   ],
   "source": [
    "imp.head()"
   ]
  },
  {
   "cell_type": "code",
   "execution_count": 61,
   "metadata": {
    "ExecuteTime": {
     "end_time": "2018-07-12T06:39:31.812683Z",
     "start_time": "2018-07-12T06:39:28.548532Z"
    }
   },
   "outputs": [
    {
     "data": {
      "image/png": "[encoded data removed]",
      "text/plain": [
       "<matplotlib.figure.Figure at 0x7f8e11118ac8>"
      ]
     },
     "metadata": {},
     "output_type": "display_data"
    }
   ],
   "source": [
    "ex.pltImp(imp); plt.show()"
   ]
  },
  {
   "cell_type": "code",
   "execution_count": 62,
   "metadata": {
    "ExecuteTime": {
     "end_time": "2018-07-12T06:44:16.691385Z",
     "start_time": "2018-07-12T06:44:16.667390Z"
    }
   },
   "outputs": [],
   "source": [
    "def feature_vs_y(feature, y, feature_name=None, kind='kde', bw_method=None, bins=100):\n",
    "    \n",
    "    if feature_name is None:\n",
    "        feature_name = feature.name\n",
    "    \n",
    "    df = y.to_frame('y')\n",
    "    df[feature_name] = feature\n",
    "    y0 = df[df.y==0]\n",
    "    y1 = df[df.y==1]\n",
    "    y0[feature_name].name = 'Actual:0'\n",
    "    y1[feature_name].name = 'Actual:1'\n",
    "    if kind=='kde':\n",
    "        y0[feature_name].plot(kind='kde', legend=True, bw_method=bw_method)\n",
    "        y1[feature_name].plot(kind='kde', legend=True, bw_method=bw_method)\n",
    "    elif kind=='hist':\n",
    "        y0[feature_name].plot(kind='hist',legend=True, bins=bins)\n",
    "        y1[feature_name].plot(kind='hist',legend=True, bins=bins)\n",
    "        \n",
    "    plt.xlabel(f'{feature_name}')\n",
    "    plt.title(f'{feature_name} Distribution', fontsize=13, alpha=0.5)\n",
    "    plt.show()"
   ]
  },
  {
   "cell_type": "code",
   "execution_count": 67,
   "metadata": {
    "ExecuteTime": {
     "end_time": "2018-07-12T06:47:41.934026Z",
     "start_time": "2018-07-12T06:47:11.093970Z"
    }
   },
   "outputs": [
    {
     "data": {
      "image/png": "[encoded data removed]",
      "text/plain": [
       "<matplotlib.figure.Figure at 0x7f8e128ccac8>"
      ]
     },
     "metadata": {},
     "output_type": "display_data"
    }
   ],
   "source": [
    "feature_vs_y(X_tr['AMT_GOODS_PRICE-d-total_debt'], tmp.y, bw_method=0.5)"
   ]
  },
  {
   "cell_type": "code",
   "execution_count": 66,
   "metadata": {
    "ExecuteTime": {
     "end_time": "2018-07-12T06:46:54.556678Z",
     "start_time": "2018-07-12T06:46:54.077457Z"
    }
   },
   "outputs": [
    {
     "data": {
      "image/png": "[encoded data removed]",
      "text/plain": [
       "<matplotlib.figure.Figure at 0x7f8dfa7c42e8>"
      ]
     },
     "metadata": {},
     "output_type": "display_data"
    }
   ],
   "source": [
    "feature_vs_y(X_tr['AMT_GOODS_PRICE-d-total_debt'], tmp.y, kind='hist', bins=50)"
   ]
  },
  {
   "cell_type": "markdown",
   "metadata": {},
   "source": [
    "# predict"
   ]
  },
  {
   "cell_type": "code",
   "execution_count": 68,
   "metadata": {
    "ExecuteTime": {
     "end_time": "2018-07-12T07:46:43.973245Z",
     "start_time": "2018-07-12T07:46:43.969537Z"
    }
   },
   "outputs": [
    {
     "data": {
      "text/plain": [
       "(1413701, 439)"
      ]
     },
     "execution_count": 68,
     "metadata": {},
     "output_type": "execute_result"
    }
   ],
   "source": [
    "X_tr.shape"
   ]
  },
  {
   "cell_type": "code",
   "execution_count": 70,
   "metadata": {
    "ExecuteTime": {
     "end_time": "2018-07-12T07:47:34.084064Z",
     "start_time": "2018-07-12T07:47:33.066872Z"
    }
   },
   "outputs": [],
   "source": [
    "X_te = prev_te.drop(['SK_ID_PREV', 'SK_ID_CURR', 'TARGET'], axis=1).reset_index(drop=True)"
   ]
  },
  {
   "cell_type": "code",
   "execution_count": 71,
   "metadata": {
    "ExecuteTime": {
     "end_time": "2018-07-12T07:47:41.701690Z",
     "start_time": "2018-07-12T07:47:41.698125Z"
    }
   },
   "outputs": [
    {
     "data": {
      "text/plain": [
       "(256513, 439)"
      ]
     },
     "execution_count": 71,
     "metadata": {},
     "output_type": "execute_result"
    }
   ],
   "source": [
    "X_te.shape"
   ]
  },
  {
   "cell_type": "code",
   "execution_count": 76,
   "metadata": {
    "ExecuteTime": {
     "end_time": "2018-07-12T07:55:58.960534Z",
     "start_time": "2018-07-12T07:55:58.949494Z"
    }
   },
   "outputs": [],
   "source": [
    "tmp['y_pred'] = 0"
   ]
  },
  {
   "cell_type": "code",
   "execution_count": 77,
   "metadata": {
    "ExecuteTime": {
     "end_time": "2018-07-12T07:55:59.282171Z",
     "start_time": "2018-07-12T07:55:59.186218Z"
    }
   },
   "outputs": [],
   "source": [
    "sub = prev_te[['SK_ID_PREV', 'SK_ID_CURR']]\n",
    "sub['y_pred'] = 0"
   ]
  },
  {
   "cell_type": "code",
   "execution_count": 78,
   "metadata": {
    "ExecuteTime": {
     "end_time": "2018-07-12T08:02:23.754598Z",
     "start_time": "2018-07-12T07:55:59.605498Z"
    }
   },
   "outputs": [
    {
     "name": "stdout",
     "output_type": "stream",
     "text": [
      "Training until validation scores don't improve for 100 rounds.\n",
      "[50]\ttrain's auc: 0.688205\tvalid's auc: 0.655653\n",
      "[100]\ttrain's auc: 0.705659\tvalid's auc: 0.656727\n",
      "[150]\ttrain's auc: 0.717896\tvalid's auc: 0.656251\n",
      "[200]\ttrain's auc: 0.730468\tvalid's auc: 0.655952\n",
      "Early stopping, best iteration is:\n",
      "[106]\ttrain's auc: 0.707368\tvalid's auc: 0.656787\n",
      "Training until validation scores don't improve for 100 rounds.\n",
      "[50]\ttrain's auc: 0.688276\tvalid's auc: 0.647237\n",
      "[100]\ttrain's auc: 0.705566\tvalid's auc: 0.648866\n",
      "[150]\ttrain's auc: 0.718293\tvalid's auc: 0.648071\n",
      "Early stopping, best iteration is:\n",
      "[93]\ttrain's auc: 0.703649\tvalid's auc: 0.648921\n",
      "Training until validation scores don't improve for 100 rounds.\n",
      "[50]\ttrain's auc: 0.685824\tvalid's auc: 0.652476\n",
      "[100]\ttrain's auc: 0.707254\tvalid's auc: 0.653873\n",
      "[150]\ttrain's auc: 0.720785\tvalid's auc: 0.653365\n",
      "Early stopping, best iteration is:\n",
      "[92]\ttrain's auc: 0.703899\tvalid's auc: 0.654141\n",
      "Training until validation scores don't improve for 100 rounds.\n",
      "[50]\ttrain's auc: 0.686929\tvalid's auc: 0.653819\n",
      "[100]\ttrain's auc: 0.704392\tvalid's auc: 0.655052\n",
      "[150]\ttrain's auc: 0.718752\tvalid's auc: 0.655543\n",
      "[200]\ttrain's auc: 0.729979\tvalid's auc: 0.655243\n",
      "Early stopping, best iteration is:\n",
      "[146]\ttrain's auc: 0.717652\tvalid's auc: 0.655712\n",
      "Training until validation scores don't improve for 100 rounds.\n",
      "[50]\ttrain's auc: 0.68589\tvalid's auc: 0.653367\n",
      "[100]\ttrain's auc: 0.703296\tvalid's auc: 0.655553\n",
      "[150]\ttrain's auc: 0.717601\tvalid's auc: 0.655055\n",
      "[200]\ttrain's auc: 0.728163\tvalid's auc: 0.654653\n",
      "Early stopping, best iteration is:\n",
      "[116]\ttrain's auc: 0.707572\tvalid's auc: 0.655622\n"
     ]
    }
   ],
   "source": [
    "for train_index, test_index in group_kfold.split(X_tr, tmp.y, tmp.g):\n",
    "    dtrain = lgb.Dataset(X_tr.iloc[train_index], tmp.iloc[train_index].y)\n",
    "    dvalid = lgb.Dataset(X_tr.iloc[test_index], tmp.iloc[test_index].y)\n",
    "    \n",
    "    model = lgb.train(params=param, train_set=dtrain, num_boost_round=9999, \n",
    "                  valid_sets=[dtrain, dvalid], \n",
    "                  valid_names=['train','valid'], \n",
    "                  early_stopping_rounds=100, \n",
    "                  #evals_result=evals_result, \n",
    "                  verbose_eval=50\n",
    "                  )\n",
    "    \n",
    "    tmp.iloc[test_index, -1] = model.predict(X_tr.iloc[test_index])\n",
    "    sub['y_pred'] += model.predict(X_te)"
   ]
  },
  {
   "cell_type": "code",
   "execution_count": 80,
   "metadata": {
    "ExecuteTime": {
     "end_time": "2018-07-12T08:11:13.365941Z",
     "start_time": "2018-07-12T08:11:13.309010Z"
    }
   },
   "outputs": [
    {
     "data": {
      "text/plain": [
       "count    256513.000000\n",
       "mean          0.434545\n",
       "std           0.225604\n",
       "min           0.021394\n",
       "25%           0.277965\n",
       "50%           0.420130\n",
       "75%           0.528173\n",
       "max           2.666075\n",
       "Name: y_pred, dtype: float64"
      ]
     },
     "execution_count": 80,
     "metadata": {},
     "output_type": "execute_result"
    }
   ],
   "source": [
    "sub.y_pred.describe()"
   ]
  },
  {
   "cell_type": "code",
   "execution_count": 81,
   "metadata": {
    "ExecuteTime": {
     "end_time": "2018-07-12T08:16:58.021105Z",
     "start_time": "2018-07-12T08:16:57.529056Z"
    }
   },
   "outputs": [],
   "source": [
    "sub.y_pred /= 5"
   ]
  },
  {
   "cell_type": "code",
   "execution_count": 83,
   "metadata": {
    "ExecuteTime": {
     "end_time": "2018-07-12T08:17:31.215795Z",
     "start_time": "2018-07-12T08:17:31.207768Z"
    }
   },
   "outputs": [
    {
     "data": {
      "text/html": [
       "<div>\n",
       "<style scoped>\n",
       "    .dataframe tbody tr th:only-of-type {\n",
       "        vertical-align: middle;\n",
       "    }\n",
       "\n",
       "    .dataframe tbody tr th {\n",
       "        vertical-align: top;\n",
       "    }\n",
       "\n",
       "    .dataframe thead th {\n",
       "        text-align: right;\n",
       "    }\n",
       "</style>\n",
       "<table border=\"1\" class=\"dataframe\">\n",
       "  <thead>\n",
       "    <tr style=\"text-align: right;\">\n",
       "      <th></th>\n",
       "      <th>SK_ID_PREV</th>\n",
       "      <th>SK_ID_CURR</th>\n",
       "      <th>y_pred</th>\n",
       "    </tr>\n",
       "  </thead>\n",
       "  <tbody>\n",
       "    <tr>\n",
       "      <th>0</th>\n",
       "      <td>1397919</td>\n",
       "      <td>321676</td>\n",
       "      <td>0.124594</td>\n",
       "    </tr>\n",
       "    <tr>\n",
       "      <th>1</th>\n",
       "      <td>2273188</td>\n",
       "      <td>270658</td>\n",
       "      <td>0.083100</td>\n",
       "    </tr>\n",
       "    <tr>\n",
       "      <th>2</th>\n",
       "      <td>1285768</td>\n",
       "      <td>142748</td>\n",
       "      <td>0.080824</td>\n",
       "    </tr>\n",
       "    <tr>\n",
       "      <th>3</th>\n",
       "      <td>2536650</td>\n",
       "      <td>338725</td>\n",
       "      <td>0.070441</td>\n",
       "    </tr>\n",
       "    <tr>\n",
       "      <th>4</th>\n",
       "      <td>2191093</td>\n",
       "      <td>182450</td>\n",
       "      <td>0.064916</td>\n",
       "    </tr>\n",
       "  </tbody>\n",
       "</table>\n",
       "</div>"
      ],
      "text/plain": [
       "   SK_ID_PREV  SK_ID_CURR    y_pred\n",
       "0     1397919      321676  0.124594\n",
       "1     2273188      270658  0.083100\n",
       "2     1285768      142748  0.080824\n",
       "3     2536650      338725  0.070441\n",
       "4     2191093      182450  0.064916"
      ]
     },
     "execution_count": 83,
     "metadata": {},
     "output_type": "execute_result"
    }
   ],
   "source": [
    "sub.head()"
   ]
  },
  {
   "cell_type": "code",
   "execution_count": 84,
   "metadata": {
    "ExecuteTime": {
     "end_time": "2018-07-12T08:17:35.302334Z",
     "start_time": "2018-07-12T08:17:35.292046Z"
    }
   },
   "outputs": [
    {
     "data": {
      "text/html": [
       "<div>\n",
       "<style scoped>\n",
       "    .dataframe tbody tr th:only-of-type {\n",
       "        vertical-align: middle;\n",
       "    }\n",
       "\n",
       "    .dataframe tbody tr th {\n",
       "        vertical-align: top;\n",
       "    }\n",
       "\n",
       "    .dataframe thead th {\n",
       "        text-align: right;\n",
       "    }\n",
       "</style>\n",
       "<table border=\"1\" class=\"dataframe\">\n",
       "  <thead>\n",
       "    <tr style=\"text-align: right;\">\n",
       "      <th></th>\n",
       "      <th>SK_ID_CURR</th>\n",
       "      <th>y</th>\n",
       "      <th>cnt</th>\n",
       "      <th>w</th>\n",
       "      <th>g</th>\n",
       "      <th>y_pred</th>\n",
       "    </tr>\n",
       "  </thead>\n",
       "  <tbody>\n",
       "    <tr>\n",
       "      <th>0</th>\n",
       "      <td>271877</td>\n",
       "      <td>0.0</td>\n",
       "      <td>3</td>\n",
       "      <td>0.333333</td>\n",
       "      <td>2</td>\n",
       "      <td>0.059995</td>\n",
       "    </tr>\n",
       "    <tr>\n",
       "      <th>1</th>\n",
       "      <td>108129</td>\n",
       "      <td>0.0</td>\n",
       "      <td>6</td>\n",
       "      <td>0.166667</td>\n",
       "      <td>4</td>\n",
       "      <td>0.038191</td>\n",
       "    </tr>\n",
       "    <tr>\n",
       "      <th>2</th>\n",
       "      <td>122040</td>\n",
       "      <td>0.0</td>\n",
       "      <td>4</td>\n",
       "      <td>0.250000</td>\n",
       "      <td>0</td>\n",
       "      <td>0.122890</td>\n",
       "    </tr>\n",
       "    <tr>\n",
       "      <th>3</th>\n",
       "      <td>176158</td>\n",
       "      <td>0.0</td>\n",
       "      <td>23</td>\n",
       "      <td>0.043478</td>\n",
       "      <td>3</td>\n",
       "      <td>0.048063</td>\n",
       "    </tr>\n",
       "    <tr>\n",
       "      <th>4</th>\n",
       "      <td>202054</td>\n",
       "      <td>0.0</td>\n",
       "      <td>25</td>\n",
       "      <td>0.040000</td>\n",
       "      <td>4</td>\n",
       "      <td>0.165824</td>\n",
       "    </tr>\n",
       "  </tbody>\n",
       "</table>\n",
       "</div>"
      ],
      "text/plain": [
       "   SK_ID_CURR    y  cnt         w  g    y_pred\n",
       "0      271877  0.0    3  0.333333  2  0.059995\n",
       "1      108129  0.0    6  0.166667  4  0.038191\n",
       "2      122040  0.0    4  0.250000  0  0.122890\n",
       "3      176158  0.0   23  0.043478  3  0.048063\n",
       "4      202054  0.0   25  0.040000  4  0.165824"
      ]
     },
     "execution_count": 84,
     "metadata": {},
     "output_type": "execute_result"
    }
   ],
   "source": [
    "tmp.head()"
   ]
  },
  {
   "cell_type": "code",
   "execution_count": 85,
   "metadata": {
    "ExecuteTime": {
     "end_time": "2018-07-12T08:18:55.280347Z",
     "start_time": "2018-07-12T08:18:55.256309Z"
    }
   },
   "outputs": [],
   "source": [
    "sub_train = tmp.copy()\n",
    "sub_test = sub.copy()"
   ]
  },
  {
   "cell_type": "code",
   "execution_count": null,
   "metadata": {},
   "outputs": [],
   "source": [
    "train = pd.merge(train, sub_train, on='', how='left')"
   ]
  },
  {
   "cell_type": "code",
   "execution_count": 90,
   "metadata": {
    "ExecuteTime": {
     "end_time": "2018-07-12T08:24:29.743356Z",
     "start_time": "2018-07-12T08:24:26.588988Z"
    }
   },
   "outputs": [],
   "source": [
    "trte = pd.concat([train, test], ignore_index=True)\n",
    "col = [c for c in trte.columns if trte[c].dtype=='O']\n",
    "trte = pd.get_dummies(trte, columns=col, drop_first=True)"
   ]
  },
  {
   "cell_type": "code",
   "execution_count": 92,
   "metadata": {
    "ExecuteTime": {
     "end_time": "2018-07-12T08:26:58.151136Z",
     "start_time": "2018-07-12T08:26:55.931939Z"
    }
   },
   "outputs": [],
   "source": [
    "train = trte[~trte.TARGET.isnull()].reset_index(drop=True)\n",
    "test = trte[trte.TARGET.isnull()].reset_index(drop=True)"
   ]
  },
  {
   "cell_type": "code",
   "execution_count": 93,
   "metadata": {
    "ExecuteTime": {
     "end_time": "2018-07-12T08:26:58.155969Z",
     "start_time": "2018-07-12T08:26:58.152542Z"
    }
   },
   "outputs": [
    {
     "data": {
      "text/plain": [
       "((307511, 357), (48744, 357))"
      ]
     },
     "execution_count": 93,
     "metadata": {},
     "output_type": "execute_result"
    }
   ],
   "source": [
    "train.shape, test.shape"
   ]
  },
  {
   "cell_type": "code",
   "execution_count": 97,
   "metadata": {
    "ExecuteTime": {
     "end_time": "2018-07-12T08:29:18.402990Z",
     "start_time": "2018-07-12T08:29:18.395951Z"
    }
   },
   "outputs": [],
   "source": [
    "SEED = 71\n",
    "\n",
    "param = {\n",
    "         'objective': 'binary',\n",
    "         'metric': 'auc',\n",
    "         'learning_rate': 0.02,\n",
    "         'max_depth': 6,\n",
    "         'num_leaves': 63,\n",
    "         'max_bin': 255,\n",
    "         \n",
    "         'min_child_weight': 10,\n",
    "         'min_data_in_leaf': 150,\n",
    "         'reg_lambda': 0.5,  # L2 regularization term on weights.\n",
    "         'reg_alpha': 0.5,  # L1 regularization term on weights.\n",
    "         \n",
    "         'colsample_bytree': 0.9,\n",
    "         'subsample': 0.9,\n",
    "#         'nthread': 32,\n",
    "         'nthread': 64,\n",
    "         'bagging_freq': 1,\n",
    "         'verbose':-1,\n",
    "         'seed': SEED\n",
    "         }"
   ]
  },
  {
   "cell_type": "code",
   "execution_count": 95,
   "metadata": {
    "ExecuteTime": {
     "end_time": "2018-07-12T08:28:07.135708Z",
     "start_time": "2018-07-12T08:28:06.730934Z"
    }
   },
   "outputs": [],
   "source": [
    "X_train = train.drop(['SK_ID_CURR', 'TARGET'], axis=1)\n",
    "y_train = train.TARGET\n",
    "dtrain = lgb.Dataset(X_train, y_train)"
   ]
  },
  {
   "cell_type": "code",
   "execution_count": 98,
   "metadata": {
    "ExecuteTime": {
     "end_time": "2018-07-12T08:31:33.141779Z",
     "start_time": "2018-07-12T08:29:19.018577Z"
    },
    "scrolled": true
   },
   "outputs": [
    {
     "name": "stdout",
     "output_type": "stream",
     "text": [
      "[50]\tcv_agg's auc: 0.74507 + 0.00114953\n",
      "[100]\tcv_agg's auc: 0.751139 + 0.00151758\n",
      "[150]\tcv_agg's auc: 0.755801 + 0.00178092\n",
      "[200]\tcv_agg's auc: 0.759216 + 0.00197162\n",
      "[250]\tcv_agg's auc: 0.761461 + 0.00197868\n",
      "[300]\tcv_agg's auc: 0.763139 + 0.00201062\n",
      "[350]\tcv_agg's auc: 0.764298 + 0.00196472\n",
      "[400]\tcv_agg's auc: 0.765227 + 0.00198344\n",
      "[450]\tcv_agg's auc: 0.765903 + 0.00192911\n",
      "[500]\tcv_agg's auc: 0.766482 + 0.00197955\n",
      "[550]\tcv_agg's auc: 0.766972 + 0.00193116\n",
      "[600]\tcv_agg's auc: 0.767358 + 0.00193461\n",
      "[650]\tcv_agg's auc: 0.767667 + 0.00194496\n",
      "[700]\tcv_agg's auc: 0.767976 + 0.00196486\n",
      "[750]\tcv_agg's auc: 0.768177 + 0.00192883\n",
      "[800]\tcv_agg's auc: 0.768361 + 0.0019918\n",
      "[850]\tcv_agg's auc: 0.76855 + 0.00197065\n",
      "[900]\tcv_agg's auc: 0.768706 + 0.00201259\n",
      "[950]\tcv_agg's auc: 0.768741 + 0.0019791\n",
      "[1000]\tcv_agg's auc: 0.768867 + 0.00196327\n",
      "[1050]\tcv_agg's auc: 0.768974 + 0.00200703\n",
      "[1100]\tcv_agg's auc: 0.769085 + 0.00201907\n",
      "[1150]\tcv_agg's auc: 0.769143 + 0.00207422\n",
      "[1200]\tcv_agg's auc: 0.769126 + 0.00210641\n",
      "[1250]\tcv_agg's auc: 0.769116 + 0.00209958\n"
     ]
    }
   ],
   "source": [
    "ret = lgb.cv(param, dtrain, 9999, \n",
    "             early_stopping_rounds=100, verbose_eval=50,\n",
    "             seed=SEED)"
   ]
  },
  {
   "cell_type": "code",
   "execution_count": 101,
   "metadata": {
    "ExecuteTime": {
     "end_time": "2018-07-12T08:38:55.718776Z",
     "start_time": "2018-07-12T08:36:37.468631Z"
    }
   },
   "outputs": [],
   "source": [
    "train_ = train.set_index('SK_ID_CURR')\n",
    "gr = sub_train.groupby('SK_ID_CURR')\n",
    "train_['f1'] = gr.y_pred.min()\n",
    "train_['f2'] = gr.y_pred.mean()\n",
    "train_['f3'] = gr.y_pred.max()\n",
    "train_['f4'] = gr.y_pred.var()\n",
    "train_['f5'] = gr.y_pred.median()\n",
    "train_['f6'] = gr.y_pred.quantile(.25)\n",
    "train_['f7'] = gr.y_pred.quantile(.75)"
   ]
  },
  {
   "cell_type": "code",
   "execution_count": 105,
   "metadata": {
    "ExecuteTime": {
     "end_time": "2018-07-12T08:56:32.759225Z",
     "start_time": "2018-07-12T08:56:09.827171Z"
    }
   },
   "outputs": [],
   "source": [
    "test_ = test.set_index('SK_ID_CURR')\n",
    "gr = sub_test.groupby('SK_ID_CURR')\n",
    "test_['f1'] = gr.y_pred.min()\n",
    "test_['f2'] = gr.y_pred.mean()\n",
    "test_['f3'] = gr.y_pred.max()\n",
    "test_['f4'] = gr.y_pred.var()\n",
    "test_['f5'] = gr.y_pred.median()\n",
    "test_['f6'] = gr.y_pred.quantile(.25)\n",
    "test_['f7'] = gr.y_pred.quantile(.75)"
   ]
  },
  {
   "cell_type": "code",
   "execution_count": 103,
   "metadata": {
    "ExecuteTime": {
     "end_time": "2018-07-12T08:42:04.094594Z",
     "start_time": "2018-07-12T08:39:34.534141Z"
    },
    "scrolled": true
   },
   "outputs": [
    {
     "name": "stdout",
     "output_type": "stream",
     "text": [
      "[50]\tcv_agg's auc: 0.759214 + 0.0027898\n",
      "[100]\tcv_agg's auc: 0.762732 + 0.00285093\n",
      "[150]\tcv_agg's auc: 0.766171 + 0.00290945\n",
      "[200]\tcv_agg's auc: 0.768694 + 0.00274527\n",
      "[250]\tcv_agg's auc: 0.770277 + 0.00282348\n",
      "[300]\tcv_agg's auc: 0.771344 + 0.00276887\n",
      "[350]\tcv_agg's auc: 0.772218 + 0.00275912\n",
      "[400]\tcv_agg's auc: 0.772853 + 0.00268184\n",
      "[450]\tcv_agg's auc: 0.773281 + 0.00266055\n",
      "[500]\tcv_agg's auc: 0.773613 + 0.0026648\n",
      "[550]\tcv_agg's auc: 0.773924 + 0.00265154\n",
      "[600]\tcv_agg's auc: 0.77419 + 0.00264302\n",
      "[650]\tcv_agg's auc: 0.774429 + 0.00272744\n",
      "[700]\tcv_agg's auc: 0.77469 + 0.00279999\n",
      "[750]\tcv_agg's auc: 0.774864 + 0.00280513\n",
      "[800]\tcv_agg's auc: 0.775 + 0.00279346\n",
      "[850]\tcv_agg's auc: 0.775088 + 0.00283989\n",
      "[900]\tcv_agg's auc: 0.775201 + 0.00283367\n",
      "[950]\tcv_agg's auc: 0.77527 + 0.0027767\n",
      "[1000]\tcv_agg's auc: 0.775345 + 0.00276767\n",
      "[1050]\tcv_agg's auc: 0.775463 + 0.00274461\n",
      "[1100]\tcv_agg's auc: 0.775461 + 0.00278953\n",
      "[1150]\tcv_agg's auc: 0.77549 + 0.00277753\n",
      "[1200]\tcv_agg's auc: 0.775501 + 0.00279567\n",
      "[1250]\tcv_agg's auc: 0.7755 + 0.00282418\n",
      "[1300]\tcv_agg's auc: 0.775487 + 0.00279494\n"
     ]
    }
   ],
   "source": [
    "\n",
    "\n",
    "X_train = train_.reset_index().drop(['SK_ID_CURR', 'TARGET'], axis=1)\n",
    "y_train = train_.TARGET\n",
    "dtrain = lgb.Dataset(X_train, y_train)\n",
    "\n",
    "ret = lgb.cv(param, dtrain, 9999, \n",
    "             early_stopping_rounds=100, verbose_eval=50,\n",
    "             seed=SEED)"
   ]
  },
  {
   "cell_type": "code",
   "execution_count": 104,
   "metadata": {
    "ExecuteTime": {
     "end_time": "2018-07-12T08:46:01.252821Z",
     "start_time": "2018-07-12T08:45:57.379239Z"
    }
   },
   "outputs": [
    {
     "data": {
      "image/png": "[encoded data removed]",
      "text/plain": [
       "<matplotlib.figure.Figure at 0x7f8e11ef3e10>"
      ]
     },
     "metadata": {},
     "output_type": "display_data"
    }
   ],
   "source": [
    "model = lgb.train(param, dtrain, 100)\n",
    "imp = ex.getImp(model)\n",
    "ex.pltImp(imp)"
   ]
  },
  {
   "cell_type": "code",
   "execution_count": 109,
   "metadata": {
    "ExecuteTime": {
     "end_time": "2018-07-12T08:59:57.632456Z",
     "start_time": "2018-07-12T08:59:57.301411Z"
    }
   },
   "outputs": [],
   "source": [
    "train_[['f1', 'f2', 'f3', 'f4', 'f5', 'f6', 'f7']].reset_index().to_feather('../feature_someone/train_prev.f')\n",
    "test_[['f1', 'f2', 'f3', 'f4', 'f5', 'f6', 'f7']].reset_index().to_feather('../feature_someone/test_prev.f')"
   ]
  },
  {
   "cell_type": "code",
   "execution_count": 110,
   "metadata": {
    "ExecuteTime": {
     "end_time": "2018-07-12T10:28:24.824203Z",
     "start_time": "2018-07-12T10:28:24.819283Z"
    }
   },
   "outputs": [
    {
     "data": {
      "text/plain": [
       "['NAME_CASH_LOAN_PURPOSE_Purchase of electronic equipment',\n",
       " 'NAME_CASH_LOAN_PURPOSE_Refusal to name the goal',\n",
       " 'NAME_CASH_LOAN_PURPOSE_Repairs',\n",
       " 'NAME_CASH_LOAN_PURPOSE_Urgent needs',\n",
       " 'NAME_CASH_LOAN_PURPOSE_Wedding / gift / holiday',\n",
       " 'NAME_CASH_LOAN_PURPOSE_XAP',\n",
       " 'NAME_CASH_LOAN_PURPOSE_XNA',\n",
       " 'NAME_CONTRACT_STATUS_Canceled',\n",
       " 'NAME_CONTRACT_STATUS_Refused',\n",
       " 'NAME_CONTRACT_STATUS_Unused offer',\n",
       " 'NAME_PAYMENT_TYPE_Cashless from the account of the employer',\n",
       " 'NAME_PAYMENT_TYPE_Non-cash from your account',\n",
       " 'NAME_PAYMENT_TYPE_XNA',\n",
       " 'CODE_REJECT_REASON_HC',\n",
       " 'CODE_REJECT_REASON_LIMIT',\n",
       " 'CODE_REJECT_REASON_SCO',\n",
       " 'CODE_REJECT_REASON_SCOFR',\n",
       " 'CODE_REJECT_REASON_SYSTEM',\n",
       " 'CODE_REJECT_REASON_VERIF',\n",
       " 'CODE_REJECT_REASON_XAP',\n",
       " 'CODE_REJECT_REASON_XNA',\n",
       " 'NAME_TYPE_SUITE_Family',\n",
       " 'NAME_TYPE_SUITE_Group of people',\n",
       " 'NAME_TYPE_SUITE_Other_A',\n",
       " 'NAME_TYPE_SUITE_Other_B',\n",
       " 'NAME_TYPE_SUITE_Spouse, partner',\n",
       " 'NAME_TYPE_SUITE_Unaccompanied',\n",
       " 'NAME_CLIENT_TYPE_Refreshed',\n",
       " 'NAME_CLIENT_TYPE_Repeater',\n",
       " 'NAME_CLIENT_TYPE_XNA',\n",
       " 'NAME_GOODS_CATEGORY_Animals',\n",
       " 'NAME_GOODS_CATEGORY_Audio/Video',\n",
       " 'NAME_GOODS_CATEGORY_Auto Accessories',\n",
       " 'NAME_GOODS_CATEGORY_Clothing and Accessories',\n",
       " 'NAME_GOODS_CATEGORY_Computers',\n",
       " 'NAME_GOODS_CATEGORY_Construction Materials',\n",
       " 'NAME_GOODS_CATEGORY_Consumer Electronics',\n",
       " 'NAME_GOODS_CATEGORY_Direct Sales',\n",
       " 'NAME_GOODS_CATEGORY_Education',\n",
       " 'NAME_GOODS_CATEGORY_Fitness',\n",
       " 'NAME_GOODS_CATEGORY_Furniture',\n",
       " 'NAME_GOODS_CATEGORY_Gardening',\n",
       " 'NAME_GOODS_CATEGORY_Homewares',\n",
       " 'NAME_GOODS_CATEGORY_House Construction',\n",
       " 'NAME_GOODS_CATEGORY_Insurance',\n",
       " 'NAME_GOODS_CATEGORY_Jewelry',\n",
       " 'NAME_GOODS_CATEGORY_Medical Supplies',\n",
       " 'NAME_GOODS_CATEGORY_Medicine',\n",
       " 'NAME_GOODS_CATEGORY_Mobile',\n",
       " 'NAME_GOODS_CATEGORY_Office Appliances',\n",
       " 'NAME_GOODS_CATEGORY_Other',\n",
       " 'NAME_GOODS_CATEGORY_Photo / Cinema Equipment',\n",
       " 'NAME_GOODS_CATEGORY_Sport and Leisure',\n",
       " 'NAME_GOODS_CATEGORY_Tourism',\n",
       " 'NAME_GOODS_CATEGORY_Vehicles',\n",
       " 'NAME_GOODS_CATEGORY_Weapon',\n",
       " 'NAME_GOODS_CATEGORY_XNA',\n",
       " 'NAME_PORTFOLIO_Cars',\n",
       " 'NAME_PORTFOLIO_Cash',\n",
       " 'NAME_PORTFOLIO_POS',\n",
       " 'NAME_PORTFOLIO_XNA',\n",
       " 'NAME_PRODUCT_TYPE_walk-in',\n",
       " 'NAME_PRODUCT_TYPE_x-sell',\n",
       " 'CHANNEL_TYPE_Car dealer',\n",
       " 'CHANNEL_TYPE_Channel of corporate sales',\n",
       " 'CHANNEL_TYPE_Contact center',\n",
       " 'CHANNEL_TYPE_Country-wide',\n",
       " 'CHANNEL_TYPE_Credit and cash offices',\n",
       " 'CHANNEL_TYPE_Regional / Local',\n",
       " 'CHANNEL_TYPE_Stone',\n",
       " 'NAME_SELLER_INDUSTRY_Clothing',\n",
       " 'NAME_SELLER_INDUSTRY_Connectivity',\n",
       " 'NAME_SELLER_INDUSTRY_Construction',\n",
       " 'NAME_SELLER_INDUSTRY_Consumer electronics',\n",
       " 'NAME_SELLER_INDUSTRY_Furniture',\n",
       " 'NAME_SELLER_INDUSTRY_Industry',\n",
       " 'NAME_SELLER_INDUSTRY_Jewelry',\n",
       " 'NAME_SELLER_INDUSTRY_MLM partners',\n",
       " 'NAME_SELLER_INDUSTRY_Tourism',\n",
       " 'NAME_SELLER_INDUSTRY_XNA',\n",
       " 'NAME_YIELD_GROUP_high',\n",
       " 'NAME_YIELD_GROUP_low_action',\n",
       " 'NAME_YIELD_GROUP_low_normal',\n",
       " 'NAME_YIELD_GROUP_middle',\n",
       " 'PRODUCT_COMBINATION_Card X-Sell',\n",
       " 'PRODUCT_COMBINATION_Cash',\n",
       " 'PRODUCT_COMBINATION_Cash Street: high',\n",
       " 'PRODUCT_COMBINATION_Cash Street: low',\n",
       " 'PRODUCT_COMBINATION_Cash Street: middle',\n",
       " 'PRODUCT_COMBINATION_Cash X-Sell: high',\n",
       " 'PRODUCT_COMBINATION_Cash X-Sell: low',\n",
       " 'PRODUCT_COMBINATION_Cash X-Sell: middle',\n",
       " 'PRODUCT_COMBINATION_POS household with interest',\n",
       " 'PRODUCT_COMBINATION_POS household without interest',\n",
       " 'PRODUCT_COMBINATION_POS industry with interest',\n",
       " 'PRODUCT_COMBINATION_POS industry without interest',\n",
       " 'PRODUCT_COMBINATION_POS mobile with interest',\n",
       " 'PRODUCT_COMBINATION_POS mobile without interest',\n",
       " 'PRODUCT_COMBINATION_POS other with interest',\n",
       " 'PRODUCT_COMBINATION_POS others without interest']"
      ]
     },
     "execution_count": 110,
     "metadata": {},
     "output_type": "execute_result"
    }
   ],
   "source": [
    "prev.columns.tolist()[-100:]"
   ]
  },
  {
   "cell_type": "code",
   "execution_count": null,
   "metadata": {},
   "outputs": [],
   "source": []
  }
 ],
 "metadata": {
  "kernelspec": {
   "display_name": "Python 3",
   "language": "python",
   "name": "python3"
  },
  "language_info": {
   "codemirror_mode": {
    "name": "ipython",
    "version": 3
   },
   "file_extension": ".py",
   "mimetype": "text/x-python",
   "name": "python",
   "nbconvert_exporter": "python",
   "pygments_lexer": "ipython3",
   "version": "3.6.4"
  }
 },
 "nbformat": 4,
 "nbformat_minor": 2
}

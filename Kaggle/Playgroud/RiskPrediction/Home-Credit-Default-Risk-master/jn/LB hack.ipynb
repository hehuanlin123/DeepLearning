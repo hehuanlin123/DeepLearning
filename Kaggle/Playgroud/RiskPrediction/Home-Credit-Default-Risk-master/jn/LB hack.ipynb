{
 "cells": [
  {
   "cell_type": "code",
   "execution_count": 20,
   "metadata": {
    "ExecuteTime": {
     "end_time": "2018-07-11T06:49:21.854576Z",
     "start_time": "2018-07-11T06:49:21.851261Z"
    }
   },
   "outputs": [],
   "source": [
    "import numpy as np\n",
    "import pandas as pd\n",
    "from matplotlib import pyplot as plt\n",
    "from tqdm import tqdm\n",
    "import utils"
   ]
  },
  {
   "cell_type": "code",
   "execution_count": 2,
   "metadata": {
    "ExecuteTime": {
     "end_time": "2018-07-11T06:45:32.861029Z",
     "start_time": "2018-07-11T06:45:32.835364Z"
    }
   },
   "outputs": [
    {
     "name": "stderr",
     "output_type": "stream",
     "text": [
      "100%|██████████| 20/20 [00:00<00:00, 1251.64it/s]\n"
     ]
    }
   ],
   "source": [
    "y = utils.read_pickles('../data/label').TARGET"
   ]
  },
  {
   "cell_type": "code",
   "execution_count": 3,
   "metadata": {
    "ExecuteTime": {
     "end_time": "2018-07-11T06:45:33.191970Z",
     "start_time": "2018-07-11T06:45:33.187197Z"
    }
   },
   "outputs": [
    {
     "data": {
      "text/plain": [
       "0.08072881945686496"
      ]
     },
     "execution_count": 3,
     "metadata": {},
     "output_type": "execute_result"
    }
   ],
   "source": [
    "y.mean()"
   ]
  },
  {
   "cell_type": "code",
   "execution_count": 4,
   "metadata": {
    "ExecuteTime": {
     "end_time": "2018-07-11T06:45:33.860264Z",
     "start_time": "2018-07-11T06:45:33.572549Z"
    }
   },
   "outputs": [
    {
     "name": "stderr",
     "output_type": "stream",
     "text": [
      "100%|██████████| 20/20 [00:00<00:00, 170.15it/s]\n"
     ]
    }
   ],
   "source": [
    "test = utils.load_test()"
   ]
  },
  {
   "cell_type": "code",
   "execution_count": 5,
   "metadata": {
    "ExecuteTime": {
     "end_time": "2018-07-11T06:45:34.053874Z",
     "start_time": "2018-07-11T06:45:34.050783Z"
    }
   },
   "outputs": [
    {
     "data": {
      "text/plain": [
       "(48744, 249)"
      ]
     },
     "execution_count": 5,
     "metadata": {},
     "output_type": "execute_result"
    }
   ],
   "source": [
    "test.shape"
   ]
  },
  {
   "cell_type": "code",
   "execution_count": 6,
   "metadata": {
    "ExecuteTime": {
     "end_time": "2018-07-11T06:45:34.776877Z",
     "start_time": "2018-07-11T06:45:34.773224Z"
    }
   },
   "outputs": [
    {
     "data": {
      "text/plain": [
       "3935.0455756054253"
      ]
     },
     "execution_count": 6,
     "metadata": {},
     "output_type": "execute_result"
    }
   ],
   "source": [
    "48744 * y.mean()"
   ]
  },
  {
   "cell_type": "code",
   "execution_count": 7,
   "metadata": {
    "ExecuteTime": {
     "end_time": "2018-07-11T06:45:35.110717Z",
     "start_time": "2018-07-11T06:45:35.108717Z"
    }
   },
   "outputs": [],
   "source": [
    "n = 3935"
   ]
  },
  {
   "cell_type": "code",
   "execution_count": 8,
   "metadata": {
    "ExecuteTime": {
     "end_time": "2018-07-11T06:45:35.396288Z",
     "start_time": "2018-07-11T06:45:35.393839Z"
    }
   },
   "outputs": [],
   "source": [
    "y_test = [1] * n + [0] * (test.shape[0]-n)"
   ]
  },
  {
   "cell_type": "code",
   "execution_count": 9,
   "metadata": {
    "ExecuteTime": {
     "end_time": "2018-07-11T06:45:36.550621Z",
     "start_time": "2018-07-11T06:45:36.547853Z"
    }
   },
   "outputs": [
    {
     "data": {
      "text/plain": [
       "48744"
      ]
     },
     "execution_count": 9,
     "metadata": {},
     "output_type": "execute_result"
    }
   ],
   "source": [
    "len(y_test)"
   ]
  },
  {
   "cell_type": "code",
   "execution_count": 10,
   "metadata": {
    "ExecuteTime": {
     "end_time": "2018-07-11T06:45:37.750857Z",
     "start_time": "2018-07-11T06:45:37.747747Z"
    }
   },
   "outputs": [
    {
     "data": {
      "text/plain": [
       "9748"
      ]
     },
     "execution_count": 10,
     "metadata": {},
     "output_type": "execute_result"
    }
   ],
   "source": [
    "public_size = int(len(y_test) * 0.2)\n",
    "public_size"
   ]
  },
  {
   "cell_type": "code",
   "execution_count": 22,
   "metadata": {
    "ExecuteTime": {
     "end_time": "2018-07-11T06:50:19.215164Z",
     "start_time": "2018-07-11T06:49:58.157327Z"
    }
   },
   "outputs": [
    {
     "name": "stderr",
     "output_type": "stream",
     "text": [
      "100%|██████████| 5999/5999 [00:21<00:00, 284.95it/s]\n"
     ]
    }
   ],
   "source": [
    "li_sum = [np.sum(np.random.choice(y_test, replace=False, size=public_size)) for i in tqdm(range(5999))]"
   ]
  },
  {
   "cell_type": "code",
   "execution_count": 23,
   "metadata": {
    "ExecuteTime": {
     "end_time": "2018-07-11T06:50:19.457169Z",
     "start_time": "2018-07-11T06:50:19.216692Z"
    }
   },
   "outputs": [
    {
     "data": {
      "image/png": "[encoded data removed]",
      "text/plain": [
       "<matplotlib.figure.Figure at 0x7f3ae84298d0>"
      ]
     },
     "metadata": {},
     "output_type": "display_data"
    }
   ],
   "source": [
    "pd.Series(li_sum).plot(kind='hist', bins=30)\n",
    "plt.title('public LB sum')\n",
    "plt.show()"
   ]
  },
  {
   "cell_type": "code",
   "execution_count": 21,
   "metadata": {
    "ExecuteTime": {
     "end_time": "2018-07-11T06:49:58.155801Z",
     "start_time": "2018-07-11T06:49:37.046927Z"
    }
   },
   "outputs": [
    {
     "name": "stderr",
     "output_type": "stream",
     "text": [
      "100%|██████████| 5999/5999 [00:21<00:00, 284.26it/s]\n"
     ]
    }
   ],
   "source": [
    "li_mean = [np.mean(np.random.choice(y_test, replace=False, size=public_size)) for i in tqdm(range(5999))]"
   ]
  },
  {
   "cell_type": "code",
   "execution_count": 24,
   "metadata": {
    "ExecuteTime": {
     "end_time": "2018-07-11T06:50:19.599507Z",
     "start_time": "2018-07-11T06:50:19.458703Z"
    }
   },
   "outputs": [
    {
     "data": {
      "image/png": "[encoded data removed]",
      "text/plain": [
       "<matplotlib.figure.Figure at 0x7f3ae83fa7b8>"
      ]
     },
     "metadata": {},
     "output_type": "display_data"
    }
   ],
   "source": [
    "pd.Series(li_mean).plot(kind='hist', bins=30)\n",
    "plt.title('public LB mean')\n",
    "plt.show()"
   ]
  },
  {
   "cell_type": "code",
   "execution_count": 27,
   "metadata": {
    "ExecuteTime": {
     "end_time": "2018-07-11T06:56:27.952211Z",
     "start_time": "2018-07-11T06:56:27.627862Z"
    }
   },
   "outputs": [
    {
     "data": {
      "image/png": "[encoded data removed]",
      "text/plain": [
       "<matplotlib.figure.Figure at 0x7f3ae83f8c50>"
      ]
     },
     "metadata": {},
     "output_type": "display_data"
    }
   ],
   "source": [
    "pd.Series(li_mean).plot(kind='kde', bw_method=0.3)\n",
    "plt.title('public LB mean')\n",
    "plt.show()"
   ]
  },
  {
   "cell_type": "code",
   "execution_count": 31,
   "metadata": {
    "ExecuteTime": {
     "end_time": "2018-07-11T06:56:56.417274Z",
     "start_time": "2018-07-11T06:56:55.912089Z"
    }
   },
   "outputs": [
    {
     "data": {
      "image/png": "[encoded data removed]",
      "text/plain": [
       "<matplotlib.figure.Figure at 0x7f3ad8172438>"
      ]
     },
     "metadata": {},
     "output_type": "display_data"
    }
   ],
   "source": [
    "pd.Series(li_mean).plot(kind='kde', bw_method=4)\n",
    "plt.title('public LB mean')\n",
    "plt.show()"
   ]
  },
  {
   "cell_type": "code",
   "execution_count": 32,
   "metadata": {
    "ExecuteTime": {
     "end_time": "2018-07-11T07:36:40.640107Z",
     "start_time": "2018-07-11T07:36:40.630889Z"
    }
   },
   "outputs": [],
   "source": [
    "from sklearn.model_selection import train_test_split"
   ]
  },
  {
   "cell_type": "code",
   "execution_count": 33,
   "metadata": {
    "ExecuteTime": {
     "end_time": "2018-07-11T07:37:07.831593Z",
     "start_time": "2018-07-11T07:37:00.977257Z"
    }
   },
   "outputs": [
    {
     "name": "stderr",
     "output_type": "stream",
     "text": [
      "100%|██████████| 20/20 [00:05<00:00,  3.51it/s]\n"
     ]
    }
   ],
   "source": [
    "train = utils.load_train()"
   ]
  },
  {
   "cell_type": "code",
   "execution_count": 36,
   "metadata": {
    "ExecuteTime": {
     "end_time": "2018-07-11T07:38:49.160489Z",
     "start_time": "2018-07-11T07:38:46.438940Z"
    }
   },
   "outputs": [],
   "source": [
    "X_train, X_test, y_train, y_test = train_test_split(train, y, stratify=y, random_state=1,  test_size=0.2)"
   ]
  },
  {
   "cell_type": "code",
   "execution_count": 37,
   "metadata": {
    "ExecuteTime": {
     "end_time": "2018-07-11T07:38:58.184223Z",
     "start_time": "2018-07-11T07:38:58.177516Z"
    }
   },
   "outputs": [
    {
     "data": {
      "text/plain": [
       "(0.08072908198107379, 0.08072776937710356)"
      ]
     },
     "execution_count": 37,
     "metadata": {},
     "output_type": "execute_result"
    }
   ],
   "source": [
    "y_train.mean(), y_test.mean()"
   ]
  },
  {
   "cell_type": "code",
   "execution_count": null,
   "metadata": {},
   "outputs": [],
   "source": []
  }
 ],
 "metadata": {
  "kernelspec": {
   "display_name": "Python 3",
   "language": "python",
   "name": "python3"
  },
  "language_info": {
   "codemirror_mode": {
    "name": "ipython",
    "version": 3
   },
   "file_extension": ".py",
   "mimetype": "text/x-python",
   "name": "python",
   "nbconvert_exporter": "python",
   "pygments_lexer": "ipython3",
   "version": "3.6.4"
  }
 },
 "nbformat": 4,
 "nbformat_minor": 2
}

{
 "cells": [
  {
   "cell_type": "code",
   "execution_count": 9,
   "metadata": {
    "collapsed": false
   },
   "outputs": [
    {
     "name": "stdout",
     "output_type": "stream",
     "text": [
      "uint8 (300, 538, 3)\n",
      "float64 (300, 538, 3)\n",
      "uint8 (200, 300, 3)\n"
     ]
    },
    {
     "name": "stderr",
     "output_type": "stream",
     "text": [
      "C:\\Users\\13126\\Anaconda3\\envs\\tensorflow\\lib\\site-packages\\ipykernel\\__main__.py:4: DeprecationWarning: `imread` is deprecated!\n",
      "`imread` is deprecated in SciPy 1.0.0, and will be removed in 1.2.0.\n",
      "Use ``imageio.imread`` instead.\n",
      "C:\\Users\\13126\\Anaconda3\\envs\\tensorflow\\lib\\site-packages\\ipykernel\\__main__.py:15: DeprecationWarning: `imresize` is deprecated!\n",
      "`imresize` is deprecated in SciPy 1.0.0, and will be removed in 1.3.0.\n",
      "Use Pillow instead: ``numpy.array(Image.fromarray(arr).resize())``.\n",
      "C:\\Users\\13126\\Anaconda3\\envs\\tensorflow\\lib\\site-packages\\ipykernel\\__main__.py:17: DeprecationWarning: `imsave` is deprecated!\n",
      "`imsave` is deprecated in SciPy 1.0.0, and will be removed in 1.2.0.\n",
      "Use ``imageio.imwrite`` instead.\n"
     ]
    }
   ],
   "source": [
    "#conding:utf-8\n",
    "from scipy.misc import imread,imsave,imresize   \n",
    "# Read an JPEG image into a numpy array \n",
    "img = imread('E:\\\\workspace\\\\Git_DL_ML\\\\DeepLearning\\\\李飞飞深度学习\\\\cat.jpg') \n",
    "print(img.dtype,img.shape)# Prints \"uint8 (400, 248, 3)\"   \n",
    "# We can tint the image by scaling each of the color channels \n",
    "# by a different scalar constant. The image has shape (400, 248, 3); \n",
    "# we multiply it by the array [1, 0.95, 0.9] of shape (3,); \n",
    "# numpy broadcasting means that this leaves the red channel unchanged, \n",
    "# and multiplies the green and blue channels by 0.95 and 0.9 \n",
    "# respectively. \n",
    "img_tinted = img * [1,0.95,0.8]\n",
    "print(img_tinted.dtype,img_tinted.shape)\n",
    "# Resize the tinted image to be 300 by 300 pixels. \n",
    "img_tinted = imresize(img_tinted,(200,300))   \n",
    "# Write the tinted image back to disk \n",
    "imsave('E:\\\\workspace\\\\Git_DL_ML\\\\DeepLearning\\\\李飞飞深度学习\\\\cat_tinted.jpg',img_tinted)\n",
    "print(img_tinted.dtype,img_tinted.shape)"
   ]
  },
  {
   "cell_type": "code",
   "execution_count": 7,
   "metadata": {
    "collapsed": false
   },
   "outputs": [
    {
     "name": "stdout",
     "output_type": "stream",
     "text": [
      "[[0 1]\n",
      " [1 0]\n",
      " [2 0]]\n",
      "[[0.         1.41421356 2.23606798]\n",
      " [1.41421356 0.         1.        ]\n",
      " [2.23606798 1.         0.        ]]\n"
     ]
    }
   ],
   "source": [
    "import numpy as np \n",
    "from scipy.spatial.distance import pdist,squareform   \n",
    "# Create the following array where each row is a point in 2D space: \n",
    "# [[0 1] \n",
    "# [1 0] \n",
    "# [2 0]] \n",
    "x = np.array([[0,1],[1,0],[2,0]]) \n",
    "print(x)\n",
    "# Compute the Euclidean distance between all rows of x. \n",
    "# d[i, j] is the Euclidean distance between x[i, :] and x[j, :], \n",
    "# and d is the following array: \n",
    "# [[ 0. 1.41421356 2.23606798] \n",
    "# [ 1.41421356 0. 1. ] \n",
    "# [ 2.23606798 1. 0. ]] \n",
    "d = squareform(pdist(x,'euclidean')) \n",
    "print(d)"
   ]
  }
 ],
 "metadata": {
  "anaconda-cloud": {},
  "kernelspec": {
   "display_name": "Python [conda env:tensorflow]",
   "language": "python",
   "name": "conda-env-tensorflow-py"
  }
 },
 "nbformat": 4,
 "nbformat_minor": 1
}

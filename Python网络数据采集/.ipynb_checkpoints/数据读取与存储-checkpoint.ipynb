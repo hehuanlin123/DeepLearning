{
 "cells": [
  {
   "cell_type": "markdown",
   "metadata": {},
   "source": [
    "# 1.读取文档"
   ]
  },
  {
   "cell_type": "markdown",
   "metadata": {},
   "source": [
    "#### 1.1 纯文本"
   ]
  },
  {
   "cell_type": "code",
   "execution_count": 4,
   "metadata": {
    "collapsed": false
   },
   "outputs": [
    {
     "name": "stdout",
     "output_type": "stream",
     "text": [
      "b'CHAPTER I\\n\\n\"Well, Prince, so Genoa and Lucca are now just family estates of theBuonapartes. But I warn you, if you don\\'t tell me that this means war,if you still try to defend the infamies and horrors perpetrated bythat Antichrist- I really believe he is Antichrist- I will havenothing more to do with you and you are no longer my friend, no longermy \\'faithful slave,\\' as you call yourself! But how do you do? I seeI have frightened you- sit down and tell me all the news.\"\\n\\nIt was in July, 1805, and the speaker was the well-known AnnaPavlovna Scherer, maid of honor and favorite of the Empress MaryaFedorovna. With these words she greeted Prince Vasili Kuragin, a manof high rank and importance, who was the first to arrive at herreception. Anna Pavlovna had had a cough for some days. She was, asshe said, suffering from la grippe; grippe being then a new word inSt. Petersburg, used only by the elite.\\n\\nAll her invitations without exception, written in French, anddelivered by a scarlet-liveried footman that morning, ran as follows:\\n\\n\"If you have nothing better to do, Count [or Prince], and if theprospect of spending an evening with a poor invalid is not tooterrible, I shall be very charmed to see you tonight between 7 and 10-Annette Scherer.\"\\n\\n\"Heavens! what a virulent attack!\" replied the prince, not in theleast disconcerted by this reception. He had just entered, wearingan embroidered court uniform, knee breeches, and shoes, and hadstars on his breast and a serene expression on his flat face. He spokein that refined French in which our grandfathers not only spoke butthought, and with the gentle, patronizing intonation natural to aman of importance who had grown old in society and at court. He wentup to Anna Pavlovna, kissed her hand, presenting to her his bald,scented, and shining head, and complacently seated himself on thesofa.\\n\\n\"First of all, dear friend, tell me how you are. Set your friend\\'smind at rest,\" said he without altering his tone, beneath thepoliteness and affected sympathy of which indifference and evenirony could be discerned.\\n\\n\"Can one be well while suffering morally? Can one be calm in timeslike these if one has any feeling?\" said Anna Pavlovna. \"You arestaying the whole evening, I hope?\"\\n\\n\"And the fete at the English ambassador\\'s? Today is Wednesday. Imust put in an appearance there,\" said the prince. \"My daughter iscoming for me to take me there.\"\\n\\n\"I thought today\\'s fete had been canceled. I confess all thesefestivities and fireworks are becoming wearisome.\"\\n\\n\"If they had known that you wished it, the entertainment wouldhave been put off,\" said the prince, who, like a wound-up clock, byforce of habit said things he did not even wish to be believed.\\n\\n\"Don\\'t tease! Well, and what has been decided about Novosiltsev\\'sdispatch? You know everything.\"\\n\\n\"What can one say about it?\" replied the prince in a cold,listless tone. \"What has been decided? They have decided thatBuonaparte has burnt his boats, and I believe that we are ready toburn ours.\"\\n\\nPrince Vasili always spoke languidly, like an actor repeating astale part. Anna Pavlovna Scherer on the contrary, despite her fortyyears, overflowed with animation and impulsiveness. To be anenthusiast had become her social vocation and, sometimes even when shedid not feel like it, she became enthusiastic in order not todisappoint the expectations of those who knew her. The subdued smilewhich, though it did not suit her faded features, always playedround her lips expressed, as in a spoiled child, a continualconsciousness of her charming defect, which she neither wished, norcould, nor considered it necessary, to correct.\\n\\nIn the midst of a conversation on political matters Anna Pavlovnaburst out:\\n\\n\"Oh, don\\'t speak to me of Austria. Perhaps I don\\'t understandthings, but Austria never has wished, and does not wish, for war.She is betraying us! Russia alone must save Europe. Our gracioussovereign recognizes his high vocation and will be true to it. That isthe one thing I have faith in! Our good and wonderful sovereign has toperform the noblest role on earth, and he is so virtuous and noblethat God will not forsake him. He will fulfill his vocation andcrush the hydra of revolution, which has become more terrible thanever in the person of this murderer and villain! We alone mustavenge the blood of the just one.... Whom, I ask you, can we relyon?... England with her commercial spirit will not and cannotunderstand the Emperor Alexander\\'s loftiness of soul. She hasrefused to evacuate Malta. She wanted to find, and still seeks, somesecret motive in our actions. What answer did Novosiltsev get? None.The English have not understood and cannot understand theself-abnegation of our Emperor who wants nothing for himself, but onlydesires the good of mankind. And what have they promised? Nothing! Andwhat little they have promised they will not perform! Prussia hasalways declared that Buonaparte is invincible, and that all Europeis powerless before him.... And I don\\'t believe a word that Hardenburgsays, or Haugwitz either. This famous Prussian neutrality is just atrap. I have faith only in God and the lofty destiny of our adoredmonarch. He will save Europe!\"\\n\\nShe suddenly paused, smiling at her own impetuosity.\\n\\n\"I think,\" said the prince with a smile, \"that if you had beensent instead of our dear Wintzingerode you would have captured theKing of Prussia\\'s consent by assault. You are so eloquent. Will yougive me a cup of tea?\"\\n\\n\"In a moment. A propos,\" she added, becoming calm again, \"I amexpecting two very interesting men tonight, le Vicomte de Mortemart,who is connected with the Montmorencys through the Rohans, one ofthe best French families. He is one of the genuine emigres, the goodones. And also the Abbe Morio. Do you know that profound thinker? Hehas been received by the Emperor. Had you heard?\"\\n\\n\"I shall be delighted to meet them,\" said the prince. \"But tell me,\"he added with studied carelessness as if it had only just occurredto him, though the question he was about to ask was the chief motiveof his visit, \"is it true that the Dowager Empress wants Baron Funketo be appointed first secretary at Vienna? The baron by all accountsis a poor creature.\"\\n\\nPrince Vasili wished to obtain this post for his son, but otherswere trying through the Dowager Empress Marya Fedorovna to secure itfor the baron.\\n\\nAnna Pavlovna almost closed her eyes to indicate that neither shenor anyone else had a right to criticize what the Empress desired orwas pleased with.\\n\\n\"Baron Funke has been recommended to the Dowager Empress by hersister,\" was all she said, in a dry and mournful tone.\\n\\nAs she named the Empress, Anna Pavlovna\\'s face suddenly assumed anexpression of profound and sincere devotion and respect mingled withsadness, and this occurred every time she mentioned her illustriouspatroness. She added that Her Majesty had deigned to show BaronFunke beaucoup d\\'estime, and again her face clouded over with sadness.\\n\\nThe prince was silent and looked indifferent. But, with thewomanly and courtierlike quickness and tact habitual to her, AnnaPavlovna wished both to rebuke him (for daring to speak he had done ofa man recommended to the Empress) and at the same time to console him,so she said:\\n\\n\"Now about your family. Do you know that since your daughter cameout everyone has been enraptured by her? They say she is amazinglybeautiful.\"\\n\\nThe prince bowed to signify his respect and gratitude.\\n\\n\"I often think,\" she continued after a short pause, drawing nearerto the prince and smiling amiably at him as if to show thatpolitical and social topics were ended and the time had come forintimate conversation- \"I often think how unfairly sometimes thejoys of life are distributed. Why has fate given you two such splendidchildren? I don\\'t speak of Anatole, your youngest. I don\\'t likehim,\" she added in a tone admitting of no rejoinder and raising hereyebrows. \"Two such charming children. And really you appreciatethem less than anyone, and so you don\\'t deserve to have them.\"\\n\\nAnd she smiled her ecstatic smile.\\n\\n\"I can\\'t help it,\" said the prince. \"Lavater would have said Ilack the bump of paternity.\"\\n\\n\"Don\\'t joke; I mean to have a serious talk with you. Do you know Iam dissatisfied with your younger son? Between ourselves\" (and herface assumed its melancholy expression), \"he was mentioned at HerMajesty\\'s and you were pitied....\"\\n\\nThe prince answered nothing, but she looked at him significantly,awaiting a reply. He frowned.\\n\\n\"What would you have me do?\" he said at last. \"You know I did alla father could for their education, and they have both turned outfools. Hippolyte is at least a quiet fool, but Anatole is an activeone. That is the only difference between them.\" He said this smilingin a way more natural and animated than usual, so that the wrinklesround his mouth very clearly revealed something unexpectedly coarseand unpleasant.\\n\\n\"And why are children born to such men as you? If you were not afather there would be nothing I could reproach you with,\" said AnnaPavlovna, looking up pensively.\\n\\n\"I am your faithful slave and to you alone I can confess that mychildren are the bane of my life. It is the cross I have to bear. Thatis how I explain it to myself. It can\\'t be helped!\"\\n\\nHe said no more, but expressed his resignation to cruel fate by agesture. Anna Pavlovna meditated.\\n\\n\"Have you never thought of marrying your prodigal son Anatole?\"she asked. \"They say old maids have a mania for matchmaking, andthough I don\\'t feel that weakness in myself as yet,I know a littleperson who is very unhappy with her father. She is a relation ofyours, Princess Mary Bolkonskaya.\"\\n\\nPrince Vasili did not reply, though, with the quickness of memoryand perception befitting a man of the world, he indicated by amovement of the head that he was considering this information.\\n\\n\"Do you know,\" he said at last, evidently unable to check the sadcurrent of his thoughts, \"that Anatole is costing me forty thousandrubles a year? And,\" he went on after a pause, \"what will it be infive years, if he goes on like this?\" Presently he added: \"That\\'s whatwe fathers have to put up with.... Is this princess of yours rich?\"\\n\\n\"Her father is very rich and stingy. He lives in the country. Heis the well-known Prince Bolkonski who had to retire from the armyunder the late Emperor, and was nicknamed \\'the King of Prussia.\\' He isvery clever but eccentric, and a bore. The poor girl is veryunhappy. She has a brother; I think you know him, he married LiseMeinen lately. He is an aide-de-camp of Kutuzov\\'s and will be heretonight.\"\\n\\n\"Listen, dear Annette,\" said the prince, suddenly taking AnnaPavlovna\\'s hand and for some reason drawing it downwards. \"Arrangethat affair for me and I shall always be your most devoted slave-slafe wigh an f, as a village elder of mine writes in his reports. Sheis rich and of good family and that\\'s all I want.\"\\n\\nAnd with the familiarity and easy grace peculiar to him, he raisedthe maid of honor\\'s hand to his lips, kissed it, and swung it to andfro as he lay back in his armchair, looking in another direction.\\n\\n\"Attendez,\" said Anna Pavlovna, reflecting, \"I\\'ll speak to Lise,young Bolkonski\\'s wife, this very evening, and perhaps the thing canbe arranged. It shall be on your family\\'s behalf that I\\'ll start myapprenticeship as old maid.\"'\n"
     ]
    }
   ],
   "source": [
    "# 纯文本\n",
    "from urllib.request import urlopen\n",
    "textPage = urlopen(\"http://www.pythonscraping.com/pages/warandpeace/chapter1.txt\")\n",
    "print(textPage.read())"
   ]
  },
  {
   "cell_type": "code",
   "execution_count": 7,
   "metadata": {
    "collapsed": false
   },
   "outputs": [
    {
     "name": "stdout",
     "output_type": "stream",
     "text": [
      "b\"\\xd0\\xa7\\xd0\\x90\\xd0\\xa1\\xd0\\xa2\\xd0\\xac \\xd0\\x9f\\xd0\\x95\\xd0\\xa0\\xd0\\x92\\xd0\\x90\\xd0\\xaf\\n\\nI\\n\\n\\xe2\\x80\\x94 Eh bien, mon prince. G\\xc3\\xaanes et Lucques ne sont plus que des apanages, des \\xd0\\xbf\\xd0\\xbe\\xd0\\xbc\\xd0\\xb5\\xd1\\x81\\xd1\\x82\\xd1\\x8c\\xd1\\x8f, de la famille Buonaparte. Non, je vous pr\\xc3\\xa9viens que si vous ne me dites pas que nous avons la guerre, si vous vous permettez encore de pallier toutes les infamies, toutes les atrocit\\xc3\\xa9s de cet Antichrist (ma parole, j'y crois) \\xe2\\x80\\x94 je ne vous connais plus, vous n'\\xc3\\xaates plus mon ami, vous n'\\xc3\\xaates plus \\xd0\\xbc\\xd0\\xbe\\xd0\\xb9 \\xd0\\xb2\\xd0\\xb5\\xd1\\x80\\xd0\\xbd\\xd1\\x8b\\xd0\\xb9 \\xd1\\x80\\xd0\\xb0\\xd0\\xb1, comme vous dites. \\xd0\\x9d\\xd1\\x83, \\xd0\\xb7\\xd0\\xb4\\xd1\\x80\\xd0\\xb0\\xd0\\xb2\\xd1\\x81\\xd1\\x82\\xd0\\xb2\\xd1\\x83\\xd0\\xb9\\xd1\\x82\\xd0\\xb5, \\xd0\\xb7\\xd0\\xb4\\xd1\\x80\\xd0\\xb0\\xd0\\xb2\\xd1\\x81\\xd1\\x82\\xd0\\xb2\\xd1\\x83\\xd0\\xb9\\xd1\\x82\\xd0\\xb5. Je vois que je vous fais peur, \\xd1\\x81\\xd0\\xb0\\xd0\\xb4\\xd0\\xb8\\xd1\\x82\\xd0\\xb5\\xd1\\x81\\xd1\\x8c \\xd0\\xb8 \\xd1\\x80\\xd0\\xb0\\xd1\\x81\\xd1\\x81\\xd0\\xba\\xd0\\xb0\\xd0\\xb7\\xd1\\x8b\\xd0\\xb2\\xd0\\xb0\\xd0\\xb9\\xd1\\x82\\xd0\\xb5.\\n\\xd0\\xa2\\xd0\\xb0\\xd0\\xba \\xd0\\xb3\\xd0\\xbe\\xd0\\xb2\\xd0\\xbe\\xd1\\x80\\xd0\\xb8\\xd0\\xbb\\xd0\\xb0 \\xd0\\xb2 \\xd0\\xb8\\xd1\\x8e\\xd0\\xbb\\xd0\\xb5 1805 \\xd0\\xb3\\xd0\\xbe\\xd0\\xb4\\xd0\\xb0 \\xd0\\xb8\\xd0\\xb7\\xd0\\xb2\\xd0\\xb5\\xd1\\x81\\xd1\\x82\\xd0\\xbd\\xd0\\xb0\\xd1\\x8f \\xd0\\x90\\xd0\\xbd\\xd0\\xbd\\xd0\\xb0 \\xd0\\x9f\\xd0\\xb0\\xd0\\xb2\\xd0\\xbb\\xd0\\xbe\\xd0\\xb2\\xd0\\xbd\\xd0\\xb0 \\xd0\\xa8\\xd0\\xb5\\xd1\\x80\\xd0\\xb5\\xd1\\x80, \\xd1\\x84\\xd1\\x80\\xd0\\xb5\\xd0\\xb9\\xd0\\xbb\\xd0\\xb8\\xd0\\xbd\\xd0\\xb0 \\xd0\\xb8 \\xd0\\xbf\\xd1\\x80\\xd0\\xb8\\xd0\\xb1\\xd0\\xbb\\xd0\\xb8\\xd0\\xb6\\xd0\\xb5\\xd0\\xbd\\xd0\\xbd\\xd0\\xb0\\xd1\\x8f \\xd0\\xb8\\xd0\\xbc\\xd0\\xbf\\xd0\\xb5\\xd1\\x80\\xd0\\xb0\\xd1\\x82\\xd1\\x80\\xd0\\xb8\\xd1\\x86\\xd1\\x8b \\xd0\\x9c\\xd0\\xb0\\xd1\\x80\\xd0\\xb8\\xd0\\xb8 \\xd0\\xa4\\xd0\\xb5\\xd0\\xbe\\xd0\\xb4\\xd0\\xbe\\xd1\\x80\\xd0\\xbe\\xd0\\xb2\\xd0\\xbd\\xd1\\x8b, \\xd0\\xb2\\xd1\\x81\\xd1\\x82\\xd1\\x80\\xd0\\xb5\\xd1\\x87\\xd0\\xb0\\xd1\\x8f \\xd0\\xb2\\xd0\\xb0\\xd0\\xb6\\xd0\\xbd\\xd0\\xbe\\xd0\\xb3\\xd0\\xbe \\xd0\\xb8 \\xd1\\x87\\xd0\\xb8\\xd0\\xbd\\xd0\\xbe\\xd0\\xb2\\xd0\\xbd\\xd0\\xbe\\xd0\\xb3\\xd0\\xbe \\xd0\\xba\\xd0\\xbd\\xd1\\x8f\\xd0\\xb7\\xd1\\x8f \\xd0\\x92\\xd0\\xb0\\xd1\\x81\\xd0\\xb8\\xd0\\xbb\\xd0\\xb8\\xd1\\x8f, \\xd0\\xbf\\xd0\\xb5\\xd1\\x80\\xd0\\xb2\\xd0\\xbe\\xd0\\xb3\\xd0\\xbe \\xd0\\xbf\\xd1\\x80\\xd0\\xb8\\xd0\\xb5\\xd1\\x85\\xd0\\xb0\\xd0\\xb2\\xd1\\x88\\xd0\\xb5\\xd0\\xb3\\xd0\\xbe \\xd0\\xbd\\xd0\\xb0 \\xd0\\xb5\\xd0\\xb5 \\xd0\\xb2\\xd0\\xb5\\xd1\\x87\\xd0\\xb5\\xd1\\x80. \\xd0\\x90\\xd0\\xbd\\xd0\\xbd\\xd0\\xb0 \\xd0\\x9f\\xd0\\xb0\\xd0\\xb2\\xd0\\xbb\\xd0\\xbe\\xd0\\xb2\\xd0\\xbd\\xd0\\xb0 \\xd0\\xba\\xd0\\xb0\\xd1\\x88\\xd0\\xbb\\xd1\\x8f\\xd0\\xbb\\xd0\\xb0 \\xd0\\xbd\\xd0\\xb5\\xd1\\x81\\xd0\\xba\\xd0\\xbe\\xd0\\xbb\\xd1\\x8c\\xd0\\xba\\xd0\\xbe \\xd0\\xb4\\xd0\\xbd\\xd0\\xb5\\xd0\\xb9, \\xd1\\x83 \\xd0\\xbd\\xd0\\xb5\\xd0\\xb5 \\xd0\\xb1\\xd1\\x8b\\xd0\\xbb \\xd0\\xb3\\xd1\\x80\\xd0\\xb8\\xd0\\xbf\\xd0\\xbf, \\xd0\\xba\\xd0\\xb0\\xd0\\xba \\xd0\\xbe\\xd0\\xbd\\xd0\\xb0 \\xd0\\xb3\\xd0\\xbe\\xd0\\xb2\\xd0\\xbe\\xd1\\x80\\xd0\\xb8\\xd0\\xbb\\xd0\\xb0 (\\xd0\\xb3\\xd1\\x80\\xd0\\xb8\\xd0\\xbf\\xd0\\xbf \\xd0\\xb1\\xd1\\x8b\\xd0\\xbb \\xd1\\x82\\xd0\\xbe\\xd0\\xb3\\xd0\\xb4\\xd0\\xb0 \\xd0\\xbd\\xd0\\xbe\\xd0\\xb2\\xd0\\xbe\\xd0\\xb5 \\xd1\\x81\\xd0\\xbb\\xd0\\xbe\\xd0\\xb2\\xd0\\xbe, \\xd1\\x83\\xd0\\xbf\\xd0\\xbe\\xd1\\x82\\xd1\\x80\\xd0\\xb5\\xd0\\xb1\\xd0\\xbb\\xd1\\x8f\\xd0\\xb2\\xd1\\x88\\xd0\\xb5\\xd0\\xb5\\xd1\\x81\\xd1\\x8f \\xd1\\x82\\xd0\\xbe\\xd0\\xbb\\xd1\\x8c\\xd0\\xba\\xd0\\xbe \\xd1\\x80\\xd0\\xb5\\xd0\\xb4\\xd0\\xba\\xd0\\xb8\\xd0\\xbc\\xd0\\xb8). \\xd0\\x92 \\xd0\\xb7\\xd0\\xb0\\xd0\\xbf\\xd0\\xb8\\xd1\\x81\\xd0\\xbe\\xd1\\x87\\xd0\\xba\\xd0\\xb0\\xd1\\x85, \\xd1\\x80\\xd0\\xb0\\xd0\\xb7\\xd0\\xbe\\xd1\\x81\\xd0\\xbb\\xd0\\xb0\\xd0\\xbd\\xd0\\xbd\\xd1\\x8b\\xd1\\x85 \\xd1\\x83\\xd1\\x82\\xd1\\x80\\xd0\\xbe\\xd0\\xbc \\xd1\\x81 \\xd0\\xba\\xd1\\x80\\xd0\\xb0\\xd1\\x81\\xd0\\xbd\\xd1\\x8b\\xd0\\xbc \\xd0\\xbb\\xd0\\xb0\\xd0\\xba\\xd0\\xb5\\xd0\\xb5\\xd0\\xbc, \\xd0\\xb1\\xd1\\x8b\\xd0\\xbb\\xd0\\xbe \\xd0\\xbd\\xd0\\xb0\\xd0\\xbf\\xd0\\xb8\\xd1\\x81\\xd0\\xb0\\xd0\\xbd\\xd0\\xbe \\xd0\\xb1\\xd0\\xb5\\xd0\\xb7 \\xd1\\x80\\xd0\\xb0\\xd0\\xb7\\xd0\\xbb\\xd0\\xb8\\xd1\\x87\\xd0\\xb8\\xd1\\x8f \\xd0\\xb2\\xd0\\xbe \\xd0\\xb2\\xd1\\x81\\xd0\\xb5\\xd1\\x85:\\n\\xc2\\xabSi vous n'avez rien de mieux \\xc3\\xa0 faire, Monsieur le comte (\\xd0\\xb8\\xd0\\xbb\\xd0\\xb8 mon prince), et si la perspective de passer la soir\\xc3\\xa9e chez une pauvre malade ne vous effraye pas trop, je serai charm\\xc3\\xa9e de vous voir chez moi entre 7 et 10 heures. Annette Scherer\\xc2\\xbb.\\n\\xe2\\x80\\x94 Dieu, quelle virulente sortie! \\xe2\\x80\\x94 \\xd0\\xbe\\xd1\\x82\\xd0\\xb2\\xd0\\xb5\\xd1\\x87\\xd0\\xb0\\xd0\\xbb, \\xd0\\xbd\\xd0\\xb8\\xd1\\x81\\xd0\\xba\\xd0\\xbe\\xd0\\xbb\\xd1\\x8c\\xd0\\xba\\xd0\\xbe \\xd0\\xbd\\xd0\\xb5 \\xd1\\x81\\xd0\\xbc\\xd1\\x83\\xd1\\x82\\xd1\\x8f\\xd1\\x81\\xd1\\x8c \\xd1\\x82\\xd0\\xb0\\xd0\\xba\\xd0\\xbe\\xd1\\x8e \\xd0\\xb2\\xd1\\x81\\xd1\\x82\\xd1\\x80\\xd0\\xb5\\xd1\\x87\\xd0\\xb5\\xd0\\xb9, \\xd0\\xb2\\xd0\\xbe\\xd1\\x88\\xd0\\xb5\\xd0\\xb4\\xd1\\x88\\xd0\\xb8\\xd0\\xb9 \\xd0\\xba\\xd0\\xbd\\xd1\\x8f\\xd0\\xb7\\xd1\\x8c, \\xd0\\xb2 \\xd0\\xbf\\xd1\\x80\\xd0\\xb8\\xd0\\xb4\\xd0\\xb2\\xd0\\xbe\\xd1\\x80\\xd0\\xbd\\xd0\\xbe\\xd0\\xbc, \\xd1\\x88\\xd0\\xb8\\xd1\\x82\\xd0\\xbe\\xd0\\xbc \\xd0\\xbc\\xd1\\x83\\xd0\\xbd\\xd0\\xb4\\xd0\\xb8\\xd1\\x80\\xd0\\xb5, \\xd0\\xb2 \\xd1\\x87\\xd1\\x83\\xd0\\xbb\\xd0\\xba\\xd0\\xb0\\xd1\\x85, \\xd0\\xb1\\xd0\\xb0\\xd1\\x88\\xd0\\xbc\\xd0\\xb0\\xd0\\xba\\xd0\\xb0\\xd1\\x85 \\xd0\\xb8 \\xd0\\xb7\\xd0\\xb2\\xd0\\xb5\\xd0\\xb7\\xd0\\xb4\\xd0\\xb0\\xd1\\x85, \\xd1\\x81 \\xd1\\x81\\xd0\\xb2\\xd0\\xb5\\xd1\\x82\\xd0\\xbb\\xd1\\x8b\\xd0\\xbc \\xd0\\xb2\\xd1\\x8b\\xd1\\x80\\xd0\\xb0\\xd0\\xb6\\xd0\\xb5\\xd0\\xbd\\xd0\\xb8\\xd0\\xb5\\xd0\\xbc \\xd0\\xbf\\xd0\\xbb\\xd0\\xbe\\xd1\\x81\\xd0\\xba\\xd0\\xbe\\xd0\\xb3\\xd0\\xbe \\xd0\\xbb\\xd0\\xb8\\xd1\\x86\\xd0\\xb0.\\n\\xd0\\x9e\\xd0\\xbd \\xd0\\xb3\\xd0\\xbe\\xd0\\xb2\\xd0\\xbe\\xd1\\x80\\xd0\\xb8\\xd0\\xbb \\xd0\\xbd\\xd0\\xb0 \\xd1\\x82\\xd0\\xbe\\xd0\\xbc \\xd0\\xb8\\xd0\\xb7\\xd1\\x8b\\xd1\\x81\\xd0\\xba\\xd0\\xb0\\xd0\\xbd\\xd0\\xbd\\xd0\\xbe\\xd0\\xbc \\xd1\\x84\\xd1\\x80\\xd0\\xb0\\xd0\\xbd\\xd1\\x86\\xd1\\x83\\xd0\\xb7\\xd1\\x81\\xd0\\xba\\xd0\\xbe\\xd0\\xbc \\xd1\\x8f\\xd0\\xb7\\xd1\\x8b\\xd0\\xba\\xd0\\xb5, \\xd0\\xbd\\xd0\\xb0 \\xd0\\xba\\xd0\\xbe\\xd1\\x82\\xd0\\xbe\\xd1\\x80\\xd0\\xbe\\xd0\\xbc \\xd0\\xbd\\xd0\\xb5 \\xd1\\x82\\xd0\\xbe\\xd0\\xbb\\xd1\\x8c\\xd0\\xba\\xd0\\xbe \\xd0\\xb3\\xd0\\xbe\\xd0\\xb2\\xd0\\xbe\\xd1\\x80\\xd0\\xb8\\xd0\\xbb\\xd0\\xb8, \\xd0\\xbd\\xd0\\xbe \\xd0\\xb8 \\xd0\\xb4\\xd1\\x83\\xd0\\xbc\\xd0\\xb0\\xd0\\xbb\\xd0\\xb8 \\xd0\\xbd\\xd0\\xb0\\xd1\\x88\\xd0\\xb8 \\xd0\\xb4\\xd0\\xb5\\xd0\\xb4\\xd1\\x8b, \\xd0\\xb8 \\xd1\\x81 \\xd1\\x82\\xd0\\xb5\\xd0\\xbc\\xd0\\xb8, \\xd1\\x82\\xd0\\xb8\\xd1\\x85\\xd0\\xb8\\xd0\\xbc\\xd0\\xb8, \\xd0\\xbf\\xd0\\xbe\\xd0\\xba\\xd1\\x80\\xd0\\xbe\\xd0\\xb2\\xd0\\xb8\\xd1\\x82\\xd0\\xb5\\xd0\\xbb\\xd1\\x8c\\xd1\\x81\\xd1\\x82\\xd0\\xb2\\xd0\\xb5\\xd0\\xbd\\xd0\\xbd\\xd1\\x8b\\xd0\\xbc\\xd0\\xb8 \\xd0\\xb8\\xd0\\xbd\\xd1\\x82\\xd0\\xbe\\xd0\\xbd\\xd0\\xb0\\xd1\\x86\\xd0\\xb8\\xd1\\x8f\\xd0\\xbc\\xd0\\xb8, \\xd0\\xba\\xd0\\xbe\\xd1\\x82\\xd0\\xbe\\xd1\\x80\\xd1\\x8b\\xd0\\xb5 \\xd1\\x81\\xd0\\xb2\\xd0\\xbe\\xd0\\xb9\\xd1\\x81\\xd1\\x82\\xd0\\xb2\\xd0\\xb5\\xd0\\xbd\\xd0\\xbd\\xd1\\x8b \\xd1\\x81\\xd0\\xbe\\xd1\\x81\\xd1\\x82\\xd0\\xb0\\xd1\\x80\\xd0\\xb5\\xd0\\xb2\\xd1\\x88\\xd0\\xb5\\xd0\\xbc\\xd1\\x83\\xd1\\x81\\xd1\\x8f \\xd0\\xb2 \\xd1\\x81\\xd0\\xb2\\xd0\\xb5\\xd1\\x82\\xd0\\xb5 \\xd0\\xb8 \\xd0\\xbf\\xd1\\x80\\xd0\\xb8 \\xd0\\xb4\\xd0\\xb2\\xd0\\xbe\\xd1\\x80\\xd0\\xb5 \\xd0\\xb7\\xd0\\xbd\\xd0\\xb0\\xd1\\x87\\xd0\\xb8\\xd1\\x82\\xd0\\xb5\\xd0\\xbb\\xd1\\x8c\\xd0\\xbd\\xd0\\xbe\\xd0\\xbc\\xd1\\x83 \\xd1\\x87\\xd0\\xb5\\xd0\\xbb\\xd0\\xbe\\xd0\\xb2\\xd0\\xb5\\xd0\\xba\\xd1\\x83. \\xd0\\x9e\\xd0\\xbd \\xd0\\xbf\\xd0\\xbe\\xd0\\xb4\\xd0\\xbe\\xd1\\x88\\xd0\\xb5\\xd0\\xbb \\xd0\\xba \\xd0\\x90\\xd0\\xbd\\xd0\\xbd\\xd0\\xb5 \\xd0\\x9f\\xd0\\xb0\\xd0\\xb2\\xd0\\xbb\\xd0\\xbe\\xd0\\xb2\\xd0\\xbd\\xd0\\xb5, \\xd0\\xbf\\xd0\\xbe\\xd1\\x86\\xd0\\xb5\\xd0\\xbb\\xd0\\xbe\\xd0\\xb2\\xd0\\xb0\\xd0\\xbb \\xd0\\xb5\\xd0\\xb5 \\xd1\\x80\\xd1\\x83\\xd0\\xba\\xd1\\x83, \\xd0\\xbf\\xd0\\xbe\\xd0\\xb4\\xd1\\x81\\xd1\\x82\\xd0\\xb0\\xd0\\xb2\\xd0\\xb8\\xd0\\xb2 \\xd0\\xb5\\xd0\\xb9 \\xd1\\x81\\xd0\\xb2\\xd0\\xbe\\xd1\\x8e \\xd0\\xbd\\xd0\\xb0\\xd0\\xb4\\xd1\\x83\\xd1\\x88\\xd0\\xb5\\xd0\\xbd\\xd0\\xbd\\xd1\\x83\\xd1\\x8e \\xd0\\xb8 \\xd1\\x81\\xd0\\xb8\\xd1\\x8f\\xd1\\x8e\\xd1\\x89\\xd1\\x83\\xd1\\x8e \\xd0\\xbb\\xd1\\x8b\\xd1\\x81\\xd0\\xb8\\xd0\\xbd\\xd1\\x83, \\xd0\\xb8 \\xd0\\xbf\\xd0\\xbe\\xd0\\xba\\xd0\\xbe\\xd0\\xb9\\xd0\\xbd\\xd0\\xbe \\xd1\\x83\\xd1\\x81\\xd0\\xb5\\xd0\\xbb\\xd1\\x81\\xd1\\x8f \\xd0\\xbd\\xd0\\xb0 \\xd0\\xb4\\xd0\\xb8\\xd0\\xb2\\xd0\\xb0\\xd0\\xbd\\xd0\\xb5.\\n\\xe2\\x80\\x94 Avant tout dites-moi, comment vous allez, ch\\xc3\\xa8re amie? \\xd0\\xa3\\xd1\\x81\\xd0\\xbf\\xd0\\xbe\\xd0\\xba\\xd0\\xbe\\xd0\\xb9\\xd1\\x82\\xd0\\xb5 \\xd0\\xbc\\xd0\\xb5\\xd0\\xbd\\xd1\\x8f, \\xe2\\x80\\x94 \\xd1\\x81\\xd0\\xba\\xd0\\xb0\\xd0\\xb7\\xd0\\xb0\\xd0\\xbb \\xd0\\xbe\\xd0\\xbd, \\xd0\\xbd\\xd0\\xb5 \\xd0\\xb8\\xd0\\xb7\\xd0\\xbc\\xd0\\xb5\\xd0\\xbd\\xd1\\x8f\\xd1\\x8f \\xd0\\xb3\\xd0\\xbe\\xd0\\xbb\\xd0\\xbe\\xd1\\x81\\xd0\\xb0 \\xd0\\xb8 \\xd1\\x82\\xd0\\xbe\\xd0\\xbd\\xd0\\xbe\\xd0\\xbc, \\xd0\\xb2 \\xd0\\xba\\xd0\\xbe\\xd1\\x82\\xd0\\xbe\\xd1\\x80\\xd0\\xbe\\xd0\\xbc \\xd0\\xb8\\xd0\\xb7-\\xd0\\xb7\\xd0\\xb0 \\xd0\\xbf\\xd1\\x80\\xd0\\xb8\\xd0\\xbb\\xd0\\xb8\\xd1\\x87\\xd0\\xb8\\xd1\\x8f \\xd0\\xb8 \\xd1\\x83\\xd1\\x87\\xd0\\xb0\\xd1\\x81\\xd1\\x82\\xd0\\xb8\\xd1\\x8f \\xd0\\xbf\\xd1\\x80\\xd0\\xbe\\xd1\\x81\\xd0\\xb2\\xd0\\xb5\\xd1\\x87\\xd0\\xb8\\xd0\\xb2\\xd0\\xb0\\xd0\\xbb\\xd0\\xbe \\xd1\\x80\\xd0\\xb0\\xd0\\xb2\\xd0\\xbd\\xd0\\xbe\\xd0\\xb4\\xd1\\x83\\xd1\\x88\\xd0\\xb8\\xd0\\xb5 \\xd0\\xb8 \\xd0\\xb4\\xd0\\xb0\\xd0\\xb6\\xd0\\xb5 \\xd0\\xbd\\xd0\\xb0\\xd1\\x81\\xd0\\xbc\\xd0\\xb5\\xd1\\x88\\xd0\\xba\\xd0\\xb0.\\n\\xe2\\x80\\x94 \\xd0\\x9a\\xd0\\xb0\\xd0\\xba \\xd0\\xbc\\xd0\\xbe\\xd0\\xb6\\xd0\\xbd\\xd0\\xbe \\xd0\\xb1\\xd1\\x8b\\xd1\\x82\\xd1\\x8c \\xd0\\xb7\\xd0\\xb4\\xd0\\xbe\\xd1\\x80\\xd0\\xbe\\xd0\\xb2\\xd0\\xbe\\xd0\\xb9... \\xd0\\xba\\xd0\\xbe\\xd0\\xb3\\xd0\\xb4\\xd0\\xb0 \\xd0\\xbd\\xd1\\x80\\xd0\\xb0\\xd0\\xb2\\xd1\\x81\\xd1\\x82\\xd0\\xb2\\xd0\\xb5\\xd0\\xbd\\xd0\\xbd\\xd0\\xbe \\xd1\\x81\\xd1\\x82\\xd1\\x80\\xd0\\xb0\\xd0\\xb4\\xd0\\xb0\\xd0\\xb5\\xd1\\x88\\xd1\\x8c? \\xd0\\xa0\\xd0\\xb0\\xd0\\xb7\\xd0\\xb2\\xd0\\xb5 \\xd0\\xbc\\xd0\\xbe\\xd0\\xb6\\xd0\\xbd\\xd0\\xbe, \\xd0\\xb8\\xd0\\xbc\\xd0\\xb5\\xd1\\x8f \\xd1\\x87\\xd1\\x83\\xd0\\xb2\\xd1\\x81\\xd1\\x82\\xd0\\xb2\\xd0\\xbe, \\xd0\\xbe\\xd1\\x81\\xd1\\x82\\xd0\\xb0\\xd0\\xb2\\xd0\\xb0\\xd1\\x82\\xd1\\x8c\\xd1\\x81\\xd1\\x8f \\xd1\\x81\\xd0\\xbf\\xd0\\xbe\\xd0\\xba\\xd0\\xbe\\xd0\\xb9\\xd0\\xbd\\xd0\\xbe\\xd1\\x8e \\xd0\\xb2 \\xd0\\xbd\\xd0\\xb0\\xd1\\x88\\xd0\\xb5 \\xd0\\xb2\\xd1\\x80\\xd0\\xb5\\xd0\\xbc\\xd1\\x8f? \\xe2\\x80\\x94 \\xd1\\x81\\xd0\\xba\\xd0\\xb0\\xd0\\xb7\\xd0\\xb0\\xd0\\xbb\\xd0\\xb0 \\xd0\\x90\\xd0\\xbd\\xd0\\xbd\\xd0\\xb0 \\xd0\\x9f\\xd0\\xb0\\xd0\\xb2\\xd0\\xbb\\xd0\\xbe\\xd0\\xb2\\xd0\\xbd\\xd0\\xb0. \\xe2\\x80\\x94 \\xd0\\x92\\xd1\\x8b \\xd0\\xb2\\xd0\\xb5\\xd1\\x81\\xd1\\x8c \\xd0\\xb2\\xd0\\xb5\\xd1\\x87\\xd0\\xb5\\xd1\\x80 \\xd1\\x83 \\xd0\\xbc\\xd0\\xb5\\xd0\\xbd\\xd1\\x8f, \\xd0\\xbd\\xd0\\xb0\\xd0\\xb4\\xd0\\xb5\\xd1\\x8e\\xd1\\x81\\xd1\\x8c?\\n\\xe2\\x80\\x94 \\xd0\\x90 \\xd0\\xbf\\xd1\\x80\\xd0\\xb0\\xd0\\xb7\\xd0\\xb4\\xd0\\xbd\\xd0\\xb8\\xd0\\xba \\xd0\\xb0\\xd0\\xbd\\xd0\\xb3\\xd0\\xbb\\xd0\\xb8\\xd0\\xb9\\xd1\\x81\\xd0\\xba\\xd0\\xbe\\xd0\\xb3\\xd0\\xbe \\xd0\\xbf\\xd0\\xbe\\xd1\\x81\\xd0\\xbb\\xd0\\xb0\\xd0\\xbd\\xd0\\xbd\\xd0\\xb8\\xd0\\xba\\xd0\\xb0? \\xd0\\x9d\\xd1\\x8b\\xd0\\xbd\\xd1\\x87\\xd0\\xb5 \\xd1\\x81\\xd0\\xb5\\xd1\\x80\\xd0\\xb5\\xd0\\xb4\\xd0\\xb0. \\xd0\\x9c\\xd0\\xbd\\xd0\\xb5 \\xd0\\xbd\\xd0\\xb0\\xd0\\xb4\\xd0\\xbe \\xd0\\xbf\\xd0\\xbe\\xd0\\xba\\xd0\\xb0\\xd0\\xb7\\xd0\\xb0\\xd1\\x82\\xd1\\x8c\\xd1\\x81\\xd1\\x8f \\xd1\\x82\\xd0\\xb0\\xd0\\xbc, \\xe2\\x80\\x94 \\xd1\\x81\\xd0\\xba\\xd0\\xb0\\xd0\\xb7\\xd0\\xb0\\xd0\\xbb \\xd0\\xba\\xd0\\xbd\\xd1\\x8f\\xd0\\xb7\\xd1\\x8c. \\xe2\\x80\\x94 \\xd0\\x94\\xd0\\xbe\\xd1\\x87\\xd1\\x8c \\xd0\\xb7\\xd0\\xb0\\xd0\\xb5\\xd0\\xb4\\xd0\\xb5\\xd1\\x82 \\xd0\\xb7\\xd0\\xb0 \\xd0\\xbc\\xd0\\xbd\\xd0\\xbe\\xd0\\xb9 \\xd0\\xb8 \\xd0\\xbf\\xd0\\xbe\\xd0\\xb2\\xd0\\xb5\\xd0\\xb7\\xd0\\xb5\\xd1\\x82 \\xd0\\xbc\\xd0\\xb5\\xd0\\xbd\\xd1\\x8f.\\n\\xe2\\x80\\x94 \\xd0\\xaf \\xd0\\xb4\\xd1\\x83\\xd0\\xbc\\xd0\\xb0\\xd0\\xbb\\xd0\\xb0, \\xd1\\x87\\xd1\\x82\\xd0\\xbe \\xd0\\xbd\\xd1\\x8b\\xd0\\xbd\\xd0\\xb5\\xd1\\x88\\xd0\\xbd\\xd0\\xb8\\xd0\\xb9 \\xd0\\xbf\\xd1\\x80\\xd0\\xb0\\xd0\\xb7\\xd0\\xb4\\xd0\\xbd\\xd0\\xb8\\xd0\\xba \\xd0\\xbe\\xd1\\x82\\xd0\\xbc\\xd0\\xb5\\xd0\\xbd\\xd0\\xb5\\xd0\\xbd, Je vous avoue que toutes ces f\\xc3\\xaates et tous ces feux d'artifice commencent \\xc3\\xa0 devenir insipides.\\n\\xe2\\x80\\x94 \\xd0\\x95\\xd0\\xb6\\xd0\\xb5\\xd0\\xbb\\xd0\\xb8 \\xd0\\xb1\\xd1\\x8b \\xd0\\xb7\\xd0\\xbd\\xd0\\xb0\\xd0\\xbb\\xd0\\xb8, \\xd1\\x87\\xd1\\x82\\xd0\\xbe \\xd0\\xb2\\xd1\\x8b \\xd1\\x8d\\xd1\\x82\\xd0\\xbe\\xd0\\xb3\\xd0\\xbe \\xd1\\x85\\xd0\\xbe\\xd1\\x82\\xd0\\xb8\\xd1\\x82\\xd0\\xb5, \\xd0\\xbf\\xd1\\x80\\xd0\\xb0\\xd0\\xb7\\xd0\\xb4\\xd0\\xbd\\xd0\\xb8\\xd0\\xba \\xd0\\xb1\\xd1\\x8b \\xd0\\xbe\\xd1\\x82\\xd0\\xbc\\xd0\\xb5\\xd0\\xbd\\xd0\\xb8\\xd0\\xbb\\xd0\\xb8, \\xe2\\x80\\x94 \\xd1\\x81\\xd0\\xba\\xd0\\xb0\\xd0\\xb7\\xd0\\xb0\\xd0\\xbb \\xd0\\xba\\xd0\\xbd\\xd1\\x8f\\xd0\\xb7\\xd1\\x8c \\xd0\\xbf\\xd0\\xbe \\xd0\\xbf\\xd1\\x80\\xd0\\xb8\\xd0\\xb2\\xd1\\x8b\\xd1\\x87\\xd0\\xba\\xd0\\xb5, \\xd0\\xba\\xd0\\xb0\\xd0\\xba \\xd0\\xb7\\xd0\\xb0\\xd0\\xb2\\xd0\\xb5\\xd0\\xb4\\xd0\\xb5\\xd0\\xbd\\xd0\\xbd\\xd1\\x8b\\xd0\\xb5 \\xd1\\x87\\xd0\\xb0\\xd1\\x81\\xd1\\x8b, \\xd0\\xb3\\xd0\\xbe\\xd0\\xb2\\xd0\\xbe\\xd1\\x80\\xd1\\x8f \\xd0\\xb2\\xd0\\xb5\\xd1\\x89\\xd0\\xb8, \\xd0\\xba\\xd0\\xbe\\xd1\\x82\\xd0\\xbe\\xd1\\x80\\xd1\\x8b\\xd0\\xbc \\xd0\\xbe\\xd0\\xbd \\xd0\\xb8 \\xd0\\xbd\\xd0\\xb5 \\xd1\\x85\\xd0\\xbe\\xd1\\x82\\xd0\\xb5\\xd0\\xbb, \\xd1\\x87\\xd1\\x82\\xd0\\xbe\\xd0\\xb1\\xd1\\x8b \\xd0\\xb2\\xd0\\xb5\\xd1\\x80\\xd0\\xb8\\xd0\\xbb\\xd0\\xb8.\\n\\xe2\\x80\\x94 Ne me tourmentez pas. Eh bien, qu'a-t-on d\\xc3\\xa9cid\\xc3\\xa9 par rapport \\xc3\\xa0 la d\\xc3\\xa9p\\xc3\\xaache de Novosilzoff? Vous savez tout.\\n\\xe2\\x80\\x94 \\xd0\\x9a\\xd0\\xb0\\xd0\\xba \\xd0\\xb2\\xd0\\xb0\\xd0\\xbc \\xd1\\x81\\xd0\\xba\\xd0\\xb0\\xd0\\xb7\\xd0\\xb0\\xd1\\x82\\xd1\\x8c? \\xe2\\x80\\x94 \\xd1\\x81\\xd0\\xba\\xd0\\xb0\\xd0\\xb7\\xd0\\xb0\\xd0\\xbb \\xd0\\xba\\xd0\\xbd\\xd1\\x8f\\xd0\\xb7\\xd1\\x8c \\xd1\\x85\\xd0\\xbe\\xd0\\xbb\\xd0\\xbe\\xd0\\xb4\\xd0\\xbd\\xd1\\x8b\\xd0\\xbc, \\xd1\\x81\\xd0\\xba\\xd1\\x83\\xd1\\x87\\xd0\\xb0\\xd1\\x8e\\xd1\\x89\\xd0\\xb8\\xd0\\xbc \\xd1\\x82\\xd0\\xbe\\xd0\\xbd\\xd0\\xbe\\xd0\\xbc. \\xe2\\x80\\x94 Qu'a-t-on d\\xc3\\xa9cid\\xc3\\xa9? On a d\\xc3\\xa9cid\\xc3\\xa9 que Buonaparte a br\\xc3\\xbbl\\xc3\\xa9 ses vaisseaux, et je crois que nous sommes en train de br\\xc3\\xbbler les n\\xc3\\xb4tres.\\n\\xd0\\x9a\\xd0\\xbd\\xd1\\x8f\\xd0\\xb7\\xd1\\x8c \\xd0\\x92\\xd0\\xb0\\xd1\\x81\\xd0\\xb8\\xd0\\xbb\\xd0\\xb8\\xd0\\xb9 \\xd0\\xb3\\xd0\\xbe\\xd0\\xb2\\xd0\\xbe\\xd1\\x80\\xd0\\xb8\\xd0\\xbb \\xd0\\xb2\\xd1\\x81\\xd0\\xb5\\xd0\\xb3\\xd0\\xb4\\xd0\\xb0 \\xd0\\xbb\\xd0\\xb5\\xd0\\xbd\\xd0\\xb8\\xd0\\xb2\\xd0\\xbe, \\xd0\\xba\\xd0\\xb0\\xd0\\xba \\xd0\\xb0\\xd0\\xba\\xd1\\x82\\xd0\\xb5\\xd1\\x80 \\xd0\\xb3\\xd0\\xbe\\xd0\\xb2\\xd0\\xbe\\xd1\\x80\\xd0\\xb8\\xd1\\x82 \\xd1\\x80\\xd0\\xbe\\xd0\\xbb\\xd1\\x8c \\xd1\\x81\\xd1\\x82\\xd0\\xb0\\xd1\\x80\\xd0\\xbe\\xd0\\xb9 \\xd0\\xbf\\xd0\\xb8\\xd0\\xb5\\xd1\\x81\\xd1\\x8b. \\xd0\\x90\\xd0\\xbd\\xd0\\xbd\\xd0\\xb0 \\xd0\\x9f\\xd0\\xb0\\xd0\\xb2\\xd0\\xbb\\xd0\\xbe\\xd0\\xb2\\xd0\\xbd\\xd0\\xb0 \\xd0\\xa8\\xd0\\xb5\\xd1\\x80\\xd0\\xb5\\xd1\\x80, \\xd0\\xbd\\xd0\\xb0\\xd0\\xbf\\xd1\\x80\\xd0\\xbe\\xd1\\x82\\xd0\\xb8\\xd0\\xb2, \\xd0\\xbd\\xd0\\xb5\\xd1\\x81\\xd0\\xbc\\xd0\\xbe\\xd1\\x82\\xd1\\x80\\xd1\\x8f \\xd0\\xbd\\xd0\\xb0 \\xd1\\x81\\xd0\\xb2\\xd0\\xbe\\xd0\\xb8 \\xd1\\x81\\xd0\\xbe\\xd1\\x80\\xd0\\xbe\\xd0\\xba \\xd0\\xbb\\xd0\\xb5\\xd1\\x82, \\xd0\\xb1\\xd1\\x8b\\xd0\\xbb\\xd0\\xb0 \\xd0\\xbf\\xd1\\x80\\xd0\\xb5\\xd0\\xb8\\xd1\\x81\\xd0\\xbf\\xd0\\xbe\\xd0\\xbb\\xd0\\xbd\\xd0\\xb5\\xd0\\xbd\\xd0\\xb0 \\xd0\\xbe\\xd0\\xb6\\xd0\\xb8\\xd0\\xb2\\xd0\\xbb\\xd0\\xb5\\xd0\\xbd\\xd0\\xb8\\xd1\\x8f \\xd0\\xb8 \\xd0\\xbf\\xd0\\xbe\\xd1\\x80\\xd1\\x8b\\xd0\\xb2\\xd0\\xbe\\xd0\\xb2.\\n\\xd0\\x91\\xd1\\x8b\\xd1\\x82\\xd1\\x8c \\xd1\\x8d\\xd0\\xbd\\xd1\\x82\\xd1\\x83\\xd0\\xb7\\xd0\\xb8\\xd0\\xb0\\xd1\\x81\\xd1\\x82\\xd0\\xba\\xd0\\xbe\\xd0\\xb9 \\xd1\\x81\\xd0\\xb4\\xd0\\xb5\\xd0\\xbb\\xd0\\xb0\\xd0\\xbb\\xd0\\xbe\\xd1\\x81\\xd1\\x8c \\xd0\\xb5\\xd0\\xb5 \\xd0\\xbe\\xd0\\xb1\\xd1\\x89\\xd0\\xb5\\xd1\\x81\\xd1\\x82\\xd0\\xb2\\xd0\\xb5\\xd0\\xbd\\xd0\\xbd\\xd1\\x8b\\xd0\\xbc \\xd0\\xbf\\xd0\\xbe\\xd0\\xbb\\xd0\\xbe\\xd0\\xb6\\xd0\\xb5\\xd0\\xbd\\xd0\\xb8\\xd0\\xb5\\xd0\\xbc, \\xd0\\xb8 \\xd0\\xb8\\xd0\\xbd\\xd0\\xbe\\xd0\\xb3\\xd0\\xb4\\xd0\\xb0, \\xd0\\xba\\xd0\\xbe\\xd0\\xb3\\xd0\\xb4\\xd0\\xb0 \\xd0\\xb5\\xd0\\xb9 \\xd0\\xb4\\xd0\\xb0\\xd0\\xb6\\xd0\\xb5 \\xd1\\x82\\xd0\\xbe\\xd0\\xb3\\xd0\\xbe \\xd0\\xbd\\xd0\\xb5 \\xd1\\x85\\xd0\\xbe\\xd1\\x82\\xd0\\xb5\\xd0\\xbb\\xd0\\xbe\\xd1\\x81\\xd1\\x8c, \\xd0\\xbe\\xd0\\xbd\\xd0\\xb0, \\xd1\\x87\\xd1\\x82\\xd0\\xbe\\xd0\\xb1\\xd1\\x8b \\xd0\\xbd\\xd0\\xb5 \\xd0\\xbe\\xd0\\xb1\\xd0\\xbc\\xd0\\xb0\\xd0\\xbd\\xd1\\x83\\xd1\\x82\\xd1\\x8c \\xd0\\xbe\\xd0\\xb6\\xd0\\xb8\\xd0\\xb4\\xd0\\xb0\\xd0\\xbd\\xd0\\xb8\\xd0\\xb9 \\xd0\\xbb\\xd1\\x8e\\xd0\\xb4\\xd0\\xb5\\xd0\\xb9, \\xd0\\xb7\\xd0\\xbd\\xd0\\xb0\\xd0\\xb2\\xd1\\x88\\xd0\\xb8\\xd1\\x85 \\xd0\\xb5\\xd0\\xb5, \\xd0\\xb4\\xd0\\xb5\\xd0\\xbb\\xd0\\xb0\\xd0\\xbb\\xd0\\xb0\\xd1\\x81\\xd1\\x8c \\xd1\\x8d\\xd0\\xbd\\xd1\\x82\\xd1\\x83\\xd0\\xb7\\xd0\\xb8\\xd0\\xb0\\xd1\\x81\\xd1\\x82\\xd0\\xba\\xd0\\xbe\\xd0\\xb9. \\xd0\\xa1\\xd0\\xb4\\xd0\\xb5\\xd1\\x80\\xd0\\xb6\\xd0\\xb0\\xd0\\xbd\\xd0\\xbd\\xd0\\xb0\\xd1\\x8f \\xd1\\x83\\xd0\\xbb\\xd1\\x8b\\xd0\\xb1\\xd0\\xba\\xd0\\xb0, \\xd0\\xb8\\xd0\\xb3\\xd1\\x80\\xd0\\xb0\\xd0\\xb2\\xd1\\x88\\xd0\\xb0\\xd1\\x8f \\xd0\\xbf\\xd0\\xbe\\xd1\\x81\\xd1\\x82\\xd0\\xbe\\xd1\\x8f\\xd0\\xbd\\xd0\\xbd\\xd0\\xbe \\xd0\\xbd\\xd0\\xb0 \\xd0\\xbb\\xd0\\xb8\\xd1\\x86\\xd0\\xb5 \\xd0\\x90\\xd0\\xbd\\xd0\\xbd\\xd1\\x8b \\xd0\\x9f\\xd0\\xb0\\xd0\\xb2\\xd0\\xbb\\xd0\\xbe\\xd0\\xb2\\xd0\\xbd\\xd1\\x8b, \\xd1\\x85\\xd0\\xbe\\xd1\\x82\\xd1\\x8f \\xd0\\xb8 \\xd0\\xbd\\xd0\\xb5 \\xd1\\x88\\xd0\\xbb\\xd0\\xb0 \\xd0\\xba \\xd0\\xb5\\xd0\\xb5 \\xd0\\xbe\\xd1\\x82\\xd0\\xb6\\xd0\\xb8\\xd0\\xb2\\xd1\\x88\\xd0\\xb8\\xd0\\xbc \\xd1\\x87\\xd0\\xb5\\xd1\\x80\\xd1\\x82\\xd0\\xb0\\xd0\\xbc, \\xd0\\xb2\\xd1\\x8b\\xd1\\x80\\xd0\\xb0\\xd0\\xb6\\xd0\\xb0\\xd0\\xbb\\xd0\\xb0, \\xd0\\xba\\xd0\\xb0\\xd0\\xba \\xd1\\x83 \\xd0\\xb8\\xd0\\xb7\\xd0\\xb1\\xd0\\xb0\\xd0\\xbb\\xd0\\xbe\\xd0\\xb2\\xd0\\xb0\\xd0\\xbd\\xd0\\xbd\\xd1\\x8b\\xd1\\x85 \\xd0\\xb4\\xd0\\xb5\\xd1\\x82\\xd0\\xb5\\xd0\\xb9, \\xd0\\xbf\\xd0\\xbe\\xd1\\x81\\xd1\\x82\\xd0\\xbe\\xd1\\x8f\\xd0\\xbd\\xd0\\xbd\\xd0\\xbe\\xd0\\xb5 \\xd1\\x81\\xd0\\xbe\\xd0\\xb7\\xd0\\xbd\\xd0\\xb0\\xd0\\xbd\\xd0\\xb8\\xd0\\xb5 \\xd1\\x81\\xd0\\xb2\\xd0\\xbe\\xd0\\xb5\\xd0\\xb3\\xd0\\xbe \\xd0\\xbc\\xd0\\xb8\\xd0\\xbb\\xd0\\xbe\\xd0\\xb3\\xd0\\xbe \\xd0\\xbd\\xd0\\xb5\\xd0\\xb4\\xd0\\xbe\\xd1\\x81\\xd1\\x82\\xd0\\xb0\\xd1\\x82\\xd0\\xba\\xd0\\xb0, \\xd0\\xbe\\xd1\\x82 \\xd0\\xba\\xd0\\xbe\\xd1\\x82\\xd0\\xbe\\xd1\\x80\\xd0\\xbe\\xd0\\xb3\\xd0\\xbe \\xd0\\xbe\\xd0\\xbd\\xd0\\xb0 \\xd0\\xbd\\xd0\\xb5 \\xd1\\x85\\xd0\\xbe\\xd1\\x87\\xd0\\xb5\\xd1\\x82, \\xd0\\xbd\\xd0\\xb5 \\xd0\\xbc\\xd0\\xbe\\xd0\\xb6\\xd0\\xb5\\xd1\\x82 \\xd0\\xb8 \\xd0\\xbd\\xd0\\xb5 \\xd0\\xbd\\xd0\\xb0\\xd1\\x85\\xd0\\xbe\\xd0\\xb4\\xd0\\xb8\\xd1\\x82 \\xd0\\xbd\\xd1\\x83\\xd0\\xb6\\xd0\\xbd\\xd1\\x8b\\xd0\\xbc \\xd0\\xb8\\xd1\\x81\\xd0\\xbf\\xd1\\x80\\xd0\\xb0\\xd0\\xb2\\xd0\\xbb\\xd1\\x8f\\xd1\\x82\\xd1\\x8c\\xd1\\x81\\xd1\\x8f.\\n\\xd0\\x92 \\xd1\\x81\\xd0\\xb5\\xd1\\x80\\xd0\\xb5\\xd0\\xb4\\xd0\\xb8\\xd0\\xbd\\xd0\\xb5 \\xd1\\x80\\xd0\\xb0\\xd0\\xb7\\xd0\\xb3\\xd0\\xbe\\xd0\\xb2\\xd0\\xbe\\xd1\\x80\\xd0\\xb0 \\xd0\\xbf\\xd1\\x80\\xd0\\xbe \\xd0\\xbf\\xd0\\xbe\\xd0\\xbb\\xd0\\xb8\\xd1\\x82\\xd0\\xb8\\xd1\\x87\\xd0\\xb5\\xd1\\x81\\xd0\\xba\\xd0\\xb8\\xd0\\xb5 \\xd0\\xb4\\xd0\\xb5\\xd0\\xb9\\xd1\\x81\\xd1\\x82\\xd0\\xb2\\xd0\\xb8\\xd1\\x8f \\xd0\\x90\\xd0\\xbd\\xd0\\xbd\\xd0\\xb0 \\xd0\\x9f\\xd0\\xb0\\xd0\\xb2\\xd0\\xbb\\xd0\\xbe\\xd0\\xb2\\xd0\\xbd\\xd0\\xb0 \\xd1\\x80\\xd0\\xb0\\xd0\\xb7\\xd0\\xb3\\xd0\\xbe\\xd1\\x80\\xd1\\x8f\\xd1\\x87\\xd0\\xb8\\xd0\\xbb\\xd0\\xb0\\xd1\\x81\\xd1\\x8c.\\n\\xe2\\x80\\x94 \\xd0\\x90\\xd1\\x85, \\xd0\\xbd\\xd0\\xb5 \\xd0\\xb3\\xd0\\xbe\\xd0\\xb2\\xd0\\xbe\\xd1\\x80\\xd0\\xb8\\xd1\\x82\\xd0\\xb5 \\xd0\\xbc\\xd0\\xbd\\xd0\\xb5 \\xd0\\xbf\\xd1\\x80\\xd0\\xbe \\xd0\\x90\\xd0\\xb2\\xd1\\x81\\xd1\\x82\\xd1\\x80\\xd0\\xb8\\xd1\\x8e! \\xd0\\xaf \\xd0\\xbd\\xd0\\xb8\\xd1\\x87\\xd0\\xb5\\xd0\\xb3\\xd0\\xbe \\xd0\\xbd\\xd0\\xb5 \\xd0\\xbf\\xd0\\xbe\\xd0\\xbd\\xd0\\xb8\\xd0\\xbc\\xd0\\xb0\\xd1\\x8e, \\xd0\\xbc\\xd0\\xbe\\xd0\\xb6\\xd0\\xb5\\xd1\\x82 \\xd0\\xb1\\xd1\\x8b\\xd1\\x82\\xd1\\x8c, \\xd0\\xbd\\xd0\\xbe \\xd0\\x90\\xd0\\xb2\\xd1\\x81\\xd1\\x82\\xd1\\x80\\xd0\\xb8\\xd1\\x8f \\xd0\\xbd\\xd0\\xb8\\xd0\\xba\\xd0\\xbe\\xd0\\xb3\\xd0\\xb4\\xd0\\xb0 \\xd0\\xbd\\xd0\\xb5 \\xd1\\x85\\xd0\\xbe\\xd1\\x82\\xd0\\xb5\\xd0\\xbb\\xd0\\xb0 \\xd0\\xb8 \\xd0\\xbd\\xd0\\xb5 \\xd1\\x85\\xd0\\xbe\\xd1\\x87\\xd0\\xb5\\xd1\\x82 \\xd0\\xb2\\xd0\\xbe\\xd0\\xb9\\xd0\\xbd\\xd1\\x8b. \\xd0\\x9e\\xd0\\xbd\\xd0\\xb0 \\xd0\\xbf\\xd1\\x80\\xd0\\xb5\\xd0\\xb4\\xd0\\xb0\\xd0\\xb5\\xd1\\x82 \\xd0\\xbd\\xd0\\xb0\\xd1\\x81. \\xd0\\xa0\\xd0\\xbe\\xd1\\x81\\xd1\\x81\\xd0\\xb8\\xd1\\x8f \\xd0\\xbe\\xd0\\xb4\\xd0\\xbd\\xd0\\xb0 \\xd0\\xb4\\xd0\\xbe\\xd0\\xbb\\xd0\\xb6\\xd0\\xbd\\xd0\\xb0 \\xd0\\xb1\\xd1\\x8b\\xd1\\x82\\xd1\\x8c \\xd1\\x81\\xd0\\xbf\\xd0\\xb0\\xd1\\x81\\xd0\\xb8\\xd1\\x82\\xd0\\xb5\\xd0\\xbb\\xd1\\x8c\\xd0\\xbd\\xd0\\xb8\\xd1\\x86\\xd0\\xb5\\xd0\\xb9 \\xd0\\x95\\xd0\\xb2\\xd1\\x80\\xd0\\xbe\\xd0\\xbf\\xd1\\x8b. \\xd0\\x9d\\xd0\\xb0\\xd1\\x88 \\xd0\\xb1\\xd0\\xbb\\xd0\\xb0\\xd0\\xb3\\xd0\\xbe\\xd0\\xb4\\xd0\\xb5\\xd1\\x82\\xd0\\xb5\\xd0\\xbb\\xd1\\x8c \\xd0\\xb7\\xd0\\xbd\\xd0\\xb0\\xd0\\xb5\\xd1\\x82 \\xd1\\x81\\xd0\\xb2\\xd0\\xbe\\xd0\\xb5 \\xd0\\xb2\\xd1\\x8b\\xd1\\x81\\xd0\\xbe\\xd0\\xba\\xd0\\xbe\\xd0\\xb5 \\xd0\\xbf\\xd1\\x80\\xd0\\xb8\\xd0\\xb7\\xd0\\xb2\\xd0\\xb0\\xd0\\xbd\\xd0\\xb8\\xd0\\xb5 \\xd0\\xb8 \\xd0\\xb1\\xd1\\x83\\xd0\\xb4\\xd0\\xb5\\xd1\\x82 \\xd0\\xb2\\xd0\\xb5\\xd1\\x80\\xd0\\xb5\\xd0\\xbd \\xd0\\xb5\\xd0\\xbc\\xd1\\x83. \\xd0\\x92\\xd0\\xbe\\xd1\\x82 \\xd0\\xbe\\xd0\\xb4\\xd0\\xbd\\xd0\\xbe, \\xd0\\xb2\\xd0\\xbe \\xd1\\x87\\xd1\\x82\\xd0\\xbe \\xd1\\x8f \\xd0\\xb2\\xd0\\xb5\\xd1\\x80\\xd1\\x8e. \\xd0\\x9d\\xd0\\xb0\\xd1\\x88\\xd0\\xb5\\xd0\\xbc\\xd1\\x83 \\xd0\\xb4\\xd0\\xbe\\xd0\\xb1\\xd1\\x80\\xd0\\xbe\\xd0\\xbc\\xd1\\x83 \\xd0\\xb8 \\xd1\\x87\\xd1\\x83\\xd0\\xb4\\xd0\\xbd\\xd0\\xbe\\xd0\\xbc\\xd1\\x83 \\xd0\\xb3\\xd0\\xbe\\xd1\\x81\\xd1\\x83\\xd0\\xb4\\xd0\\xb0\\xd1\\x80\\xd1\\x8e \\xd0\\xbf\\xd1\\x80\\xd0\\xb5\\xd0\\xb4\\xd1\\x81\\xd1\\x82\\xd0\\xbe\\xd0\\xb8\\xd1\\x82 \\xd0\\xb2\\xd0\\xb5\\xd0\\xbb\\xd0\\xb8\\xd1\\x87\\xd0\\xb0\\xd0\\xb9\\xd1\\x88\\xd0\\xb0\\xd1\\x8f \\xd1\\x80\\xd0\\xbe\\xd0\\xbb\\xd1\\x8c \\xd0\\xb2 \\xd0\\xbc\\xd0\\xb8\\xd1\\x80\\xd0\\xb5, \\xd0\\xb8 \\xd0\\xbe\\xd0\\xbd \\xd1\\x82\\xd0\\xb0\\xd0\\xba \\xd0\\xb4\\xd0\\xbe\\xd0\\xb1\\xd1\\x80\\xd0\\xbe\\xd0\\xb4\\xd0\\xb5\\xd1\\x82\\xd0\\xb5\\xd0\\xbb\\xd0\\xb5\\xd0\\xbd \\xd0\\xb8 \\xd1\\x85\\xd0\\xbe\\xd1\\x80\\xd0\\xbe\\xd1\\x88, \\xd1\\x87\\xd1\\x82\\xd0\\xbe \\xd0\\x91\\xd0\\xbe\\xd0\\xb3 \\xd0\\xbd\\xd0\\xb5 \\xd0\\xbe\\xd1\\x81\\xd1\\x82\\xd0\\xb0\\xd0\\xb2\\xd0\\xb8\\xd1\\x82 \\xd0\\xb5\\xd0\\xb3\\xd0\\xbe, \\xd0\\xb8 \\xd0\\xbe\\xd0\\xbd \\xd0\\xb8\\xd1\\x81\\xd0\\xbf\\xd0\\xbe\\xd0\\xbb\\xd0\\xbd\\xd0\\xb8\\xd1\\x82 \\xd1\\x81\\xd0\\xb2\\xd0\\xbe\\xd0\\xb5 \\xd0\\xbf\\xd1\\x80\\xd0\\xb8\\xd0\\xb7\\xd0\\xb2\\xd0\\xb0\\xd0\\xbd\\xd0\\xb8\\xd0\\xb5 \\xd0\\xb7\\xd0\\xb0\\xd0\\xb4\\xd0\\xb0\\xd0\\xb2\\xd0\\xb8\\xd1\\x82\\xd1\\x8c \\xd0\\xb3\\xd0\\xb8\\xd0\\xb4\\xd1\\x80\\xd1\\x83 \\xd1\\x80\\xd0\\xb5\\xd0\\xb2\\xd0\\xbe\\xd0\\xbb\\xd1\\x8e\\xd1\\x86\\xd0\\xb8\\xd0\\xb8, \\xd0\\xba\\xd0\\xbe\\xd1\\x82\\xd0\\xbe\\xd1\\x80\\xd0\\xb0\\xd1\\x8f \\xd1\\x82\\xd0\\xb5\\xd0\\xbf\\xd0\\xb5\\xd1\\x80\\xd1\\x8c \\xd0\\xb5\\xd1\\x89\\xd0\\xb5 \\xd1\\x83\\xd0\\xb6\\xd0\\xb0\\xd1\\x81\\xd0\\xbd\\xd0\\xb5\\xd0\\xb5 \\xd0\\xb2 \\xd0\\xbb\\xd0\\xb8\\xd1\\x86\\xd0\\xb5 \\xd1\\x8d\\xd1\\x82\\xd0\\xbe\\xd0\\xb3\\xd0\\xbe \\xd1\\x83\\xd0\\xb1\\xd0\\xb8\\xd0\\xb9\\xd1\\x86\\xd1\\x8b \\xd0\\xb8 \\xd0\\xb7\\xd0\\xbb\\xd0\\xbe\\xd0\\xb4\\xd0\\xb5\\xd1\\x8f. \\xd0\\x9c\\xd1\\x8b \\xd0\\xbe\\xd0\\xb4\\xd0\\xbd\\xd0\\xb8 \\xd0\\xb4\\xd0\\xbe\\xd0\\xbb\\xd0\\xb6\\xd0\\xbd\\xd1\\x8b \\xd0\\xb8\\xd1\\x81\\xd0\\xba\\xd1\\x83\\xd0\\xbf\\xd0\\xb8\\xd1\\x82\\xd1\\x8c \\xd0\\xba\\xd1\\x80\\xd0\\xbe\\xd0\\xb2\\xd1\\x8c \\xd0\\xbf\\xd1\\x80\\xd0\\xb0\\xd0\\xb2\\xd0\\xb5\\xd0\\xb4\\xd0\\xbd\\xd0\\xb8\\xd0\\xba\\xd0\\xb0. \\xd0\\x9d\\xd0\\xb0 \\xd0\\xba\\xd0\\xbe\\xd0\\xb3\\xd0\\xbe \\xd0\\xbd\\xd0\\xb0\\xd0\\xbc \\xd0\\xbd\\xd0\\xb0\\xd0\\xb4\\xd0\\xb5\\xd1\\x8f\\xd1\\x82\\xd1\\x8c\\xd1\\x81\\xd1\\x8f, \\xd1\\x8f \\xd0\\xb2\\xd0\\xb0\\xd1\\x81 \\xd1\\x81\\xd0\\xbf\\xd1\\x80\\xd0\\xb0\\xd1\\x88\\xd0\\xb8\\xd0\\xb2\\xd0\\xb0\\xd1\\x8e?.. \\xd0\\x90\\xd0\\xbd\\xd0\\xb3\\xd0\\xbb\\xd0\\xb8\\xd1\\x8f \\xd1\\x81 \\xd1\\x81\\xd0\\xb2\\xd0\\xbe\\xd0\\xb8\\xd0\\xbc \\xd0\\xba\\xd0\\xbe\\xd0\\xbc\\xd0\\xbc\\xd0\\xb5\\xd1\\x80\\xd1\\x87\\xd0\\xb5\\xd1\\x81\\xd0\\xba\\xd0\\xb8\\xd0\\xbc \\xd0\\xb4\\xd1\\x83\\xd1\\x85\\xd0\\xbe\\xd0\\xbc \\xd0\\xbd\\xd0\\xb5 \\xd0\\xbf\\xd0\\xbe\\xd0\\xb9\\xd0\\xbc\\xd0\\xb5\\xd1\\x82 \\xd0\\xb8 \\xd0\\xbd\\xd0\\xb5 \\xd0\\xbc\\xd0\\xbe\\xd0\\xb6\\xd0\\xb5\\xd1\\x82 \\xd0\\xbf\\xd0\\xbe\\xd0\\xbd\\xd1\\x8f\\xd1\\x82\\xd1\\x8c \\xd0\\xb2\\xd1\\x81\\xd1\\x8e \\xd0\\xb2\\xd1\\x8b\\xd1\\x81\\xd0\\xbe\\xd1\\x82\\xd1\\x83 \\xd0\\xb4\\xd1\\x83\\xd1\\x88\\xd0\\xb8 \\xd0\\xb8\\xd0\\xbc\\xd0\\xbf\\xd0\\xb5\\xd1\\x80\\xd0\\xb0\\xd1\\x82\\xd0\\xbe\\xd1\\x80\\xd0\\xb0 \\xd0\\x90\\xd0\\xbb\\xd0\\xb5\\xd0\\xba\\xd1\\x81\\xd0\\xb0\\xd0\\xbd\\xd0\\xb4\\xd1\\x80\\xd0\\xb0. \\xd0\\x9e\\xd0\\xbd\\xd0\\xb0 \\xd0\\xbe\\xd1\\x82\\xd0\\xba\\xd0\\xb0\\xd0\\xb7\\xd0\\xb0\\xd0\\xbb\\xd0\\xb0\\xd1\\x81\\xd1\\x8c \\xd0\\xbe\\xd1\\x87\\xd0\\xb8\\xd1\\x81\\xd1\\x82\\xd0\\xb8\\xd1\\x82\\xd1\\x8c \\xd0\\x9c\\xd0\\xb0\\xd0\\xbb\\xd1\\x8c\\xd1\\x82\\xd1\\x83. \\xd0\\x9e\\xd0\\xbd\\xd0\\xb0 \\xd1\\x85\\xd0\\xbe\\xd1\\x87\\xd0\\xb5\\xd1\\x82 \\xd0\\xb2\\xd0\\xb8\\xd0\\xb4\\xd0\\xb5\\xd1\\x82\\xd1\\x8c, \\xd0\\xb8\\xd1\\x89\\xd0\\xb5\\xd1\\x82 \\xd0\\xb7\\xd0\\xb0\\xd0\\xb4\\xd0\\xbd\\xd1\\x8e\\xd1\\x8e \\xd0\\xbc\\xd1\\x8b\\xd1\\x81\\xd0\\xbb\\xd1\\x8c \\xd0\\xbd\\xd0\\xb0\\xd1\\x88\\xd0\\xb8\\xd1\\x85 \\xd0\\xb4\\xd0\\xb5\\xd0\\xb9\\xd1\\x81\\xd1\\x82\\xd0\\xb2\\xd0\\xb8\\xd0\\xb9. \\xd0\\xa7\\xd1\\x82\\xd0\\xbe \\xd0\\xbe\\xd0\\xbd\\xd0\\xb8 \\xd1\\x81\\xd0\\xba\\xd0\\xb0\\xd0\\xb7\\xd0\\xb0\\xd0\\xbb\\xd0\\xb8 \\xd0\\x9d\\xd0\\xbe\\xd0\\xb2\\xd0\\xbe\\xd1\\x81\\xd0\\xb8\\xd0\\xbb\\xd1\\x8c\\xd1\\x86\\xd0\\xb5\\xd0\\xb2\\xd1\\x83? \\xd0\\x9d\\xd0\\xb8\\xd1\\x87\\xd0\\xb5\\xd0\\xb3\\xd0\\xbe. \\xd0\\x9e\\xd0\\xbd\\xd0\\xb8 \\xd0\\xbd\\xd0\\xb5 \\xd0\\xbf\\xd0\\xbe\\xd0\\xbd\\xd1\\x8f\\xd0\\xbb\\xd0\\xb8, \\xd0\\xbe\\xd0\\xbd\\xd0\\xb8 \\xd0\\xbd\\xd0\\xb5 \\xd0\\xbc\\xd0\\xbe\\xd0\\xb3\\xd0\\xbb\\xd0\\xb8 \\xd0\\xbf\\xd0\\xbe\\xd0\\xbd\\xd1\\x8f\\xd1\\x82\\xd1\\x8c \\xd1\\x81\\xd0\\xb0\\xd0\\xbc\\xd0\\xbe\\xd0\\xbe\\xd1\\x82\\xd0\\xb2\\xd0\\xb5\\xd1\\x80\\xd0\\xb6\\xd0\\xb5\\xd0\\xbd\\xd0\\xb8\\xd1\\x8f \\xd0\\xbd\\xd0\\xb0\\xd1\\x88\\xd0\\xb5\\xd0\\xb3\\xd0\\xbe \\xd0\\xb8\\xd0\\xbc\\xd0\\xbf\\xd0\\xb5\\xd1\\x80\\xd0\\xb0\\xd1\\x82\\xd0\\xbe\\xd1\\x80\\xd0\\xb0, \\xd0\\xba\\xd0\\xbe\\xd1\\x82\\xd0\\xbe\\xd1\\x80\\xd1\\x8b\\xd0\\xb9 \\xd0\\xbd\\xd0\\xb8\\xd1\\x87\\xd0\\xb5\\xd0\\xb3\\xd0\\xbe \\xd0\\xbd\\xd0\\xb5 \\xd1\\x85\\xd0\\xbe\\xd1\\x87\\xd0\\xb5\\xd1\\x82 \\xd0\\xb4\\xd0\\xbb\\xd1\\x8f \\xd1\\x81\\xd0\\xb5\\xd0\\xb1\\xd1\\x8f \\xd0\\xb8 \\xd0\\xb2\\xd1\\x81\\xd0\\xb5 \\xd1\\x85\\xd0\\xbe\\xd1\\x87\\xd0\\xb5\\xd1\\x82 \\xd0\\xb4\\xd0\\xbb\\xd1\\x8f \\xd0\\xb1\\xd0\\xbb\\xd0\\xb0\\xd0\\xb3\\xd0\\xb0 \\xd0\\xbc\\xd0\\xb8\\xd1\\x80\\xd0\\xb0. \\xd0\\x98 \\xd1\\x87\\xd1\\x82\\xd0\\xbe \\xd0\\xbe\\xd0\\xbd\\xd0\\xb8 \\xd0\\xbe\\xd0\\xb1\\xd0\\xb5\\xd1\\x89\\xd0\\xb0\\xd0\\xbb\\xd0\\xb8? \\xd0\\x9d\\xd0\\xb8\\xd1\\x87\\xd0\\xb5\\xd0\\xb3\\xd0\\xbe. \\xd0\\x98 \\xd1\\x87\\xd1\\x82\\xd0\\xbe \\xd0\\xbe\\xd0\\xb1\\xd0\\xb5\\xd1\\x89\\xd0\\xb0\\xd0\\xbb\\xd0\\xb8, \\xd0\\xb8 \\xd1\\x82\\xd0\\xbe\\xd0\\xb3\\xd0\\xbe \\xd0\\xbd\\xd0\\xb5 \\xd0\\xb1\\xd1\\x83\\xd0\\xb4\\xd0\\xb5\\xd1\\x82! \\xd0\\x9f\\xd1\\x80\\xd1\\x83\\xd1\\x81\\xd1\\x81\\xd0\\xb8\\xd1\\x8f \\xd1\\x83\\xd0\\xb6\\xd0\\xb5 \\xd0\\xbe\\xd0\\xb1\\xd1\\x8a\\xd1\\x8f\\xd0\\xb2\\xd0\\xb8\\xd0\\xbb\\xd0\\xb0, \\xd1\\x87\\xd1\\x82\\xd0\\xbe \\xd0\\x91\\xd0\\xbe\\xd0\\xbd\\xd0\\xb0\\xd0\\xbf\\xd0\\xb0\\xd1\\x80\\xd1\\x82\\xd0\\xb5 \\xd0\\xbd\\xd0\\xb5\\xd0\\xbf\\xd0\\xbe\\xd0\\xb1\\xd0\\xb5\\xd0\\xb4\\xd0\\xb8\\xd0\\xbc \\xd0\\xb8 \\xd1\\x87\\xd1\\x82\\xd0\\xbe \\xd0\\xb2\\xd1\\x81\\xd1\\x8f \\xd0\\x95\\xd0\\xb2\\xd1\\x80\\xd0\\xbe\\xd0\\xbf\\xd0\\xb0 \\xd0\\xbd\\xd0\\xb8\\xd1\\x87\\xd0\\xb5\\xd0\\xb3\\xd0\\xbe \\xd0\\xbd\\xd0\\xb5 \\xd0\\xbc\\xd0\\xbe\\xd0\\xb6\\xd0\\xb5\\xd1\\x82 \\xd0\\xbf\\xd1\\x80\\xd0\\xbe\\xd1\\x82\\xd0\\xb8\\xd0\\xb2 \\xd0\\xbd\\xd0\\xb5\\xd0\\xb3\\xd0\\xbe... \\xd0\\x98 \\xd1\\x8f \\xd0\\xbd\\xd0\\xb5 \\xd0\\xb2\\xd0\\xb5\\xd1\\x80\\xd1\\x8e \\xd0\\xbd\\xd0\\xb8 \\xd0\\xb2 \\xd0\\xbe\\xd0\\xb4\\xd0\\xbd\\xd0\\xbe\\xd0\\xbc \\xd1\\x81\\xd0\\xbb\\xd0\\xbe\\xd0\\xb2\\xd0\\xb5 \\xd0\\xbd\\xd0\\xb8 \\xd0\\x93\\xd0\\xb0\\xd1\\x80\\xd0\\xb4\\xd0\\xb5\\xd0\\xbd\\xd0\\xb1\\xd0\\xb5\\xd1\\x80\\xd0\\xb3\\xd1\\x83, \\xd0\\xbd\\xd0\\xb8 \\xd0\\x93\\xd0\\xb0\\xd1\\x83\\xd0\\xb3\\xd0\\xb2\\xd0\\xb8\\xd1\\x86\\xd1\\x83. Cette fameuse neutralit\\xc3\\xa9 prussienne, ce n'est qu'un pi\\xc3\\xa8ge. \\xd0\\xaf \\xd0\\xb2\\xd0\\xb5\\xd1\\x80\\xd1\\x8e \\xd0\\xb2 \\xd0\\xbe\\xd0\\xb4\\xd0\\xbd\\xd0\\xbe\\xd0\\xb3\\xd0\\xbe \\xd0\\x91\\xd0\\xbe\\xd0\\xb3\\xd0\\xb0 \\xd0\\xb8 \\xd0\\xb2 \\xd0\\xb2\\xd1\\x8b\\xd1\\x81\\xd0\\xbe\\xd0\\xba\\xd1\\x83\\xd1\\x8e \\xd1\\x81\\xd1\\x83\\xd0\\xb4\\xd1\\x8c\\xd0\\xb1\\xd1\\x83 \\xd0\\xbd\\xd0\\xb0\\xd1\\x88\\xd0\\xb5\\xd0\\xb3\\xd0\\xbe \\xd0\\xbc\\xd0\\xb8\\xd0\\xbb\\xd0\\xbe\\xd0\\xb3\\xd0\\xbe \\xd0\\xb8\\xd0\\xbc\\xd0\\xbf\\xd0\\xb5\\xd1\\x80\\xd0\\xb0\\xd1\\x82\\xd0\\xbe\\xd1\\x80\\xd0\\xb0. \\xd0\\x9e\\xd0\\xbd \\xd1\\x81\\xd0\\xbf\\xd0\\xb0\\xd1\\x81\\xd0\\xb5\\xd1\\x82 \\xd0\\x95\\xd0\\xb2\\xd1\\x80\\xd0\\xbe\\xd0\\xbf\\xd1\\x83!.. \\xe2\\x80\\x94 \\xd0\\x9e\\xd0\\xbd\\xd0\\xb0 \\xd0\\xb2\\xd0\\xb4\\xd1\\x80\\xd1\\x83\\xd0\\xb3 \\xd0\\xbe\\xd1\\x81\\xd1\\x82\\xd0\\xb0\\xd0\\xbd\\xd0\\xbe\\xd0\\xb2\\xd0\\xb8\\xd0\\xbb\\xd0\\xb0\\xd1\\x81\\xd1\\x8c \\xd1\\x81 \\xd1\\x83\\xd0\\xbb\\xd1\\x8b\\xd0\\xb1\\xd0\\xba\\xd0\\xbe\\xd0\\xb9 \\xd0\\xbd\\xd0\\xb0\\xd1\\x81\\xd0\\xbc\\xd0\\xb5\\xd1\\x88\\xd0\\xba\\xd0\\xb8 \\xd0\\xbd\\xd0\\xb0\\xd0\\xb4 \\xd1\\x81\\xd0\\xb2\\xd0\\xbe\\xd0\\xb5\\xd1\\x8e \\xd0\\xb3\\xd0\\xbe\\xd1\\x80\\xd1\\x8f\\xd1\\x87\\xd0\\xbd\\xd0\\xbe\\xd1\\x81\\xd1\\x82\\xd1\\x8c\\xd1\\x8e.\\n\\xe2\\x80\\x94 \\xd0\\xaf \\xd0\\xb4\\xd1\\x83\\xd0\\xbc\\xd0\\xb0\\xd1\\x8e, \\xe2\\x80\\x94 \\xd1\\x81\\xd0\\xba\\xd0\\xb0\\xd0\\xb7\\xd0\\xb0\\xd0\\xbb \\xd0\\xba\\xd0\\xbd\\xd1\\x8f\\xd0\\xb7\\xd1\\x8c, \\xd1\\x83\\xd0\\xbb\\xd1\\x8b\\xd0\\xb1\\xd0\\xb0\\xd1\\x8f\\xd1\\x81\\xd1\\x8c, \\xe2\\x80\\x94 \\xd1\\x87\\xd1\\x82\\xd0\\xbe, \\xd0\\xb5\\xd0\\xb6\\xd0\\xb5\\xd0\\xbb\\xd0\\xb8 \\xd0\\xb1\\xd1\\x8b \\xd0\\xb2\\xd0\\xb0\\xd1\\x81 \\xd0\\xbf\\xd0\\xbe\\xd1\\x81\\xd0\\xbb\\xd0\\xb0\\xd0\\xbb\\xd0\\xb8 \\xd0\\xb2\\xd0\\xbc\\xd0\\xb5\\xd1\\x81\\xd1\\x82\\xd0\\xbe \\xd0\\xbd\\xd0\\xb0\\xd1\\x88\\xd0\\xb5\\xd0\\xb3\\xd0\\xbe \\xd0\\xbc\\xd0\\xb8\\xd0\\xbb\\xd0\\xbe\\xd0\\xb3\\xd0\\xbe \\xd0\\x92\\xd0\\xb8\\xd0\\xbd\\xd1\\x86\\xd0\\xb5\\xd0\\xbd\\xd0\\xb3\\xd0\\xb5\\xd1\\x80\\xd0\\xbe\\xd0\\xb4\\xd0\\xb5, \\xd0\\xb2\\xd1\\x8b \\xd0\\xb1\\xd1\\x8b \\xd0\\xb2\\xd0\\xb7\\xd1\\x8f\\xd0\\xbb\\xd0\\xb8 \\xd0\\xbf\\xd1\\x80\\xd0\\xb8\\xd1\\x81\\xd1\\x82\\xd1\\x83\\xd0\\xbf\\xd0\\xbe\\xd0\\xbc \\xd1\\x81\\xd0\\xbe\\xd0\\xb3\\xd0\\xbb\\xd0\\xb0\\xd1\\x81\\xd0\\xb8\\xd0\\xb5 \\xd0\\xbf\\xd1\\x80\\xd1\\x83\\xd1\\x81\\xd1\\x81\\xd0\\xba\\xd0\\xbe\\xd0\\xb3\\xd0\\xbe \\xd0\\xba\\xd0\\xbe\\xd1\\x80\\xd0\\xbe\\xd0\\xbb\\xd1\\x8f. \\xd0\\x92\\xd1\\x8b \\xd1\\x82\\xd0\\xb0\\xd0\\xba \\xd0\\xba\\xd1\\x80\\xd0\\xb0\\xd1\\x81\\xd0\\xbd\\xd0\\xbe\\xd1\\x80\\xd0\\xb5\\xd1\\x87\\xd0\\xb8\\xd0\\xb2\\xd1\\x8b. \\xd0\\x92\\xd1\\x8b \\xd0\\xb4\\xd0\\xb0\\xd0\\xb4\\xd0\\xb8\\xd1\\x82\\xd0\\xb5 \\xd0\\xbc\\xd0\\xbd\\xd0\\xb5 \\xd1\\x87\\xd0\\xb0\\xd1\\x8e?\\n\\xe2\\x80\\x94 \\xd0\\xa1\\xd0\\xb5\\xd0\\xb9\\xd1\\x87\\xd0\\xb0\\xd1\\x81. A propos, \\xe2\\x80\\x94 \\xd0\\xbf\\xd1\\x80\\xd0\\xb8\\xd0\\xb1\\xd0\\xb0\\xd0\\xb2\\xd0\\xb8\\xd0\\xbb\\xd0\\xb0 \\xd0\\xbe\\xd0\\xbd\\xd0\\xb0, \\xd0\\xbe\\xd0\\xbf\\xd1\\x8f\\xd1\\x82\\xd1\\x8c \\xd1\\x83\\xd1\\x81\\xd0\\xbf\\xd0\\xbe\\xd0\\xba\\xd0\\xbe\\xd0\\xb8\\xd0\\xb2\\xd0\\xb0\\xd1\\x8f\\xd1\\x81\\xd1\\x8c, \\xe2\\x80\\x94 \\xd0\\xbd\\xd1\\x8b\\xd0\\xbd\\xd1\\x87\\xd0\\xb5 \\xd1\\x83 \\xd0\\xbc\\xd0\\xb5\\xd0\\xbd\\xd1\\x8f \\xd0\\xb4\\xd0\\xb2\\xd0\\xb0 \\xd0\\xbe\\xd1\\x87\\xd0\\xb5\\xd0\\xbd\\xd1\\x8c \\xd0\\xb8\\xd0\\xbd\\xd1\\x82\\xd0\\xb5\\xd1\\x80\\xd0\\xb5\\xd1\\x81\\xd0\\xbd\\xd1\\x8b\\xd0\\xb5 \\xd1\\x87\\xd0\\xb5\\xd0\\xbb\\xd0\\xbe\\xd0\\xb2\\xd0\\xb5\\xd0\\xba\\xd0\\xb0, le vicomte de Mortemart, il est alli\\xc3\\xa9 aux Montmorency par les Rohans, \\xd0\\xbe\\xd0\\xb4\\xd0\\xbd\\xd0\\xb0 \\xd0\\xb8\\xd0\\xb7 \\xd0\\xbb\\xd1\\x83\\xd1\\x87\\xd1\\x88\\xd0\\xb8\\xd1\\x85 \\xd1\\x84\\xd0\\xb0\\xd0\\xbc\\xd0\\xb8\\xd0\\xbb\\xd0\\xb8\\xd0\\xb9 \\xd0\\xa4\\xd1\\x80\\xd0\\xb0\\xd0\\xbd\\xd1\\x86\\xd0\\xb8\\xd0\\xb8. \\xd0\\xad\\xd1\\x82\\xd0\\xbe \\xd0\\xbe\\xd0\\xb4\\xd0\\xb8\\xd0\\xbd \\xd0\\xb8\\xd0\\xb7 \\xd1\\x85\\xd0\\xbe\\xd1\\x80\\xd0\\xbe\\xd1\\x88\\xd0\\xb8\\xd1\\x85 \\xd1\\x8d\\xd0\\xbc\\xd0\\xb8\\xd0\\xb3\\xd1\\x80\\xd0\\xb0\\xd0\\xbd\\xd1\\x82\\xd0\\xbe\\xd0\\xb2, \\xd0\\xb8\\xd0\\xb7 \\xd0\\xbd\\xd0\\xb0\\xd1\\x81\\xd1\\x82\\xd0\\xbe\\xd1\\x8f\\xd1\\x89\\xd0\\xb8\\xd1\\x85. \\xd0\\x98 \\xd0\\xbf\\xd0\\xbe\\xd1\\x82\\xd0\\xbe\\xd0\\xbc l'abb\\xc3\\xa9 Morio; \\xd0\\xb2\\xd1\\x8b \\xd0\\xb7\\xd0\\xbd\\xd0\\xb0\\xd0\\xb5\\xd1\\x82\\xd0\\xb5 \\xd1\\x8d\\xd1\\x82\\xd0\\xbe\\xd1\\x82 \\xd0\\xb3\\xd0\\xbb\\xd1\\x83\\xd0\\xb1\\xd0\\xbe\\xd0\\xba\\xd0\\xb8\\xd0\\xb9 \\xd1\\x83\\xd0\\xbc? \\xd0\\x9e\\xd0\\xbd \\xd0\\xb1\\xd1\\x8b\\xd0\\xbb \\xd0\\xbf\\xd1\\x80\\xd0\\xb8\\xd0\\xbd\\xd1\\x8f\\xd1\\x82 \\xd0\\xb3\\xd0\\xbe\\xd1\\x81\\xd1\\x83\\xd0\\xb4\\xd0\\xb0\\xd1\\x80\\xd0\\xb5\\xd0\\xbc. \\xd0\\x92\\xd1\\x8b \\xd0\\xb7\\xd0\\xbd\\xd0\\xb0\\xd0\\xb5\\xd1\\x82\\xd0\\xb5?\\n\\xe2\\x80\\x94 \\xd0\\x90! \\xd0\\xaf \\xd0\\xbe\\xd1\\x87\\xd0\\xb5\\xd0\\xbd\\xd1\\x8c \\xd1\\x80\\xd0\\xb0\\xd0\\xb4 \\xd0\\xb1\\xd1\\x83\\xd0\\xb4\\xd1\\x83, \\xe2\\x80\\x94 \\xd1\\x81\\xd0\\xba\\xd0\\xb0\\xd0\\xb7\\xd0\\xb0\\xd0\\xbb \\xd0\\xba\\xd0\\xbd\\xd1\\x8f\\xd0\\xb7\\xd1\\x8c. \\xe2\\x80\\x94 \\xd0\\xa1\\xd0\\xba\\xd0\\xb0\\xd0\\xb6\\xd0\\xb8\\xd1\\x82\\xd0\\xb5, \\xe2\\x80\\x94 \\xd0\\xbf\\xd1\\x80\\xd0\\xb8\\xd0\\xb1\\xd0\\xb0\\xd0\\xb2\\xd0\\xb8\\xd0\\xbb \\xd0\\xbe\\xd0\\xbd, \\xd0\\xba\\xd0\\xb0\\xd0\\xba \\xd0\\xb1\\xd1\\x83\\xd0\\xb4\\xd1\\x82\\xd0\\xbe \\xd1\\x82\\xd0\\xbe\\xd0\\xbb\\xd1\\x8c\\xd0\\xba\\xd0\\xbe \\xd1\\x87\\xd1\\x82\\xd0\\xbe \\xd0\\xb2\\xd1\\x81\\xd0\\xbf\\xd0\\xbe\\xd0\\xbc\\xd0\\xbd\\xd0\\xb8\\xd0\\xb2 \\xd1\\x87\\xd1\\x82\\xd0\\xbe-\\xd1\\x82\\xd0\\xbe \\xd0\\xb8 \\xd0\\xbe\\xd1\\x81\\xd0\\xbe\\xd0\\xb1\\xd0\\xb5\\xd0\\xbd\\xd0\\xbd\\xd0\\xbe-\\xd0\\xbd\\xd0\\xb5\\xd0\\xb1\\xd1\\x80\\xd0\\xb5\\xd0\\xb6\\xd0\\xbd\\xd0\\xbe, \\xd1\\x82\\xd0\\xbe\\xd0\\xb3\\xd0\\xb4\\xd0\\xb0 \\xd0\\xba\\xd0\\xb0\\xd0\\xba \\xd1\\x82\\xd0\\xbe, \\xd0\\xbe \\xd1\\x87\\xd0\\xb5\\xd0\\xbc \\xd0\\xbe\\xd0\\xbd \\xd1\\x81\\xd0\\xbf\\xd1\\x80\\xd0\\xb0\\xd1\\x88\\xd0\\xb8\\xd0\\xb2\\xd0\\xb0\\xd0\\xbb, \\xd0\\xb1\\xd1\\x8b\\xd0\\xbb\\xd0\\xbe \\xd0\\xb3\\xd0\\xbb\\xd0\\xb0\\xd0\\xb2\\xd0\\xbd\\xd0\\xbe\\xd0\\xb9 \\xd1\\x86\\xd0\\xb5\\xd0\\xbb\\xd1\\x8c\\xd1\\x8e \\xd0\\xb5\\xd0\\xb3\\xd0\\xbe \\xd0\\xbf\\xd0\\xbe\\xd1\\x81\\xd0\\xb5\\xd1\\x89\\xd0\\xb5\\xd0\\xbd\\xd0\\xb8\\xd1\\x8f, \\xe2\\x80\\x94 \\xd0\\xbf\\xd1\\x80\\xd0\\xb0\\xd0\\xb2\\xd0\\xb4\\xd0\\xb0, \\xd1\\x87\\xd1\\x82\\xd0\\xbe l'imp\\xc3\\xa9ratrice-m\\xc3\\xa8re \\xd0\\xb6\\xd0\\xb5\\xd0\\xbb\\xd0\\xb0\\xd0\\xb5\\xd1\\x82 \\xd0\\xbd\\xd0\\xb0\\xd0\\xb7\\xd0\\xbd\\xd0\\xb0\\xd1\\x87\\xd0\\xb5\\xd0\\xbd\\xd0\\xb8\\xd1\\x8f \\xd0\\xb1\\xd0\\xb0\\xd1\\x80\\xd0\\xbe\\xd0\\xbd\\xd0\\xb0 \\xd0\\xa4\\xd1\\x83\\xd0\\xbd\\xd0\\xba\\xd0\\xb5 \\xd0\\xbf\\xd0\\xb5\\xd1\\x80\\xd0\\xb2\\xd1\\x8b\\xd0\\xbc \\xd1\\x81\\xd0\\xb5\\xd0\\xba\\xd1\\x80\\xd0\\xb5\\xd1\\x82\\xd0\\xb0\\xd1\\x80\\xd0\\xb5\\xd0\\xbc \\xd0\\xb2 \\xd0\\x92\\xd0\\xb5\\xd0\\xbd\\xd1\\x83? C'est un pauvre sire, ce baron, \\xc3\\xa0 ce qu'il para\\xc3\\xaet. \\xe2\\x80\\x94 \\xd0\\x9a\\xd0\\xbd\\xd1\\x8f\\xd0\\xb7\\xd1\\x8c \\xd0\\x92\\xd0\\xb0\\xd1\\x81\\xd0\\xb8\\xd0\\xbb\\xd0\\xb8\\xd0\\xb9 \\xd0\\xb6\\xd0\\xb5\\xd0\\xbb\\xd0\\xb0\\xd0\\xbb \\xd0\\xbe\\xd0\\xbf\\xd1\\x80\\xd0\\xb5\\xd0\\xb4\\xd0\\xb5\\xd0\\xbb\\xd0\\xb8\\xd1\\x82\\xd1\\x8c \\xd1\\x81\\xd1\\x8b\\xd0\\xbd\\xd0\\xb0 \\xd0\\xbd\\xd0\\xb0 \\xd1\\x8d\\xd1\\x82\\xd0\\xbe \\xd0\\xbc\\xd0\\xb5\\xd1\\x81\\xd1\\x82\\xd0\\xbe, \\xd0\\xba\\xd0\\xbe\\xd1\\x82\\xd0\\xbe\\xd1\\x80\\xd0\\xbe\\xd0\\xb5 \\xd1\\x87\\xd0\\xb5\\xd1\\x80\\xd0\\xb5\\xd0\\xb7 \\xd0\\xb8\\xd0\\xbc\\xd0\\xbf\\xd0\\xb5\\xd1\\x80\\xd0\\xb0\\xd1\\x82\\xd1\\x80\\xd0\\xb8\\xd1\\x86\\xd1\\x83 \\xd0\\x9c\\xd0\\xb0\\xd1\\x80\\xd0\\xb8\\xd1\\x8e \\xd0\\xa4\\xd0\\xb5\\xd0\\xbe\\xd0\\xb4\\xd0\\xbe\\xd1\\x80\\xd0\\xbe\\xd0\\xb2\\xd0\\xbd\\xd1\\x83 \\xd1\\x81\\xd1\\x82\\xd0\\xb0\\xd1\\x80\\xd0\\xb0\\xd0\\xbb\\xd0\\xb8\\xd1\\x81\\xd1\\x8c \\xd0\\xb4\\xd0\\xbe\\xd1\\x81\\xd1\\x82\\xd0\\xb0\\xd0\\xb2\\xd0\\xb8\\xd1\\x82\\xd1\\x8c \\xd0\\xb1\\xd0\\xb0\\xd1\\x80\\xd0\\xbe\\xd0\\xbd\\xd1\\x83.\\n\\xd0\\x90\\xd0\\xbd\\xd0\\xbd\\xd0\\xb0 \\xd0\\x9f\\xd0\\xb0\\xd0\\xb2\\xd0\\xbb\\xd0\\xbe\\xd0\\xb2\\xd0\\xbd\\xd0\\xb0 \\xd0\\xbf\\xd0\\xbe\\xd1\\x87\\xd1\\x82\\xd0\\xb8 \\xd0\\xb7\\xd0\\xb0\\xd0\\xba\\xd1\\x80\\xd1\\x8b\\xd0\\xbb\\xd0\\xb0 \\xd0\\xb3\\xd0\\xbb\\xd0\\xb0\\xd0\\xb7\\xd0\\xb0 \\xd0\\xb2 \\xd0\\xb7\\xd0\\xbd\\xd0\\xb0\\xd0\\xba \\xd1\\x82\\xd0\\xbe\\xd0\\xb3\\xd0\\xbe, \\xd1\\x87\\xd1\\x82\\xd0\\xbe \\xd0\\xbd\\xd0\\xb8 \\xd0\\xbe\\xd0\\xbd\\xd0\\xb0, \\xd0\\xbd\\xd0\\xb8 \\xd0\\xba\\xd1\\x82\\xd0\\xbe \\xd0\\xb4\\xd1\\x80\\xd1\\x83\\xd0\\xb3\\xd0\\xbe\\xd0\\xb9 \\xd0\\xbd\\xd0\\xb5 \\xd0\\xbc\\xd0\\xbe\\xd0\\xb3\\xd1\\x83\\xd1\\x82 \\xd1\\x81\\xd1\\x83\\xd0\\xb4\\xd0\\xb8\\xd1\\x82\\xd1\\x8c \\xd0\\xbf\\xd1\\x80\\xd0\\xbe \\xd1\\x82\\xd0\\xbe, \\xd1\\x87\\xd1\\x82\\xd0\\xbe \\xd1\\x83\\xd0\\xb3\\xd0\\xbe\\xd0\\xb4\\xd0\\xbd\\xd0\\xbe \\xd0\\xb8\\xd0\\xbb\\xd0\\xb8 \\xd0\\xbd\\xd1\\x80\\xd0\\xb0\\xd0\\xb2\\xd0\\xb8\\xd1\\x82\\xd1\\x81\\xd1\\x8f \\xd0\\xb8\\xd0\\xbc\\xd0\\xbf\\xd0\\xb5\\xd1\\x80\\xd0\\xb0\\xd1\\x82\\xd1\\x80\\xd0\\xb8\\xd1\\x86\\xd0\\xb5.\\n\\xe2\\x80\\x94 Monsieur le baron de Funke a \\xc3\\xa9t\\xc3\\xa9 recommand\\xc3\\xa9 \\xc3\\xa0 l'imp\\xc3\\xa9ratrice-m\\xc3\\xa8re par sa sur, \\xe2\\x80\\x94 \\xd1\\x82\\xd0\\xbe\\xd0\\xbb\\xd1\\x8c\\xd0\\xba\\xd0\\xbe \\xd1\\x81\\xd0\\xba\\xd0\\xb0\\xd0\\xb7\\xd0\\xb0\\xd0\\xbb\\xd0\\xb0 \\xd0\\xbe\\xd0\\xbd\\xd0\\xb0 \\xd0\\xb3\\xd1\\x80\\xd1\\x83\\xd1\\x81\\xd1\\x82\\xd0\\xbd\\xd1\\x8b\\xd0\\xbc, \\xd1\\x81\\xd1\\x83\\xd1\\x85\\xd0\\xb8\\xd0\\xbc \\xd1\\x82\\xd0\\xbe\\xd0\\xbd\\xd0\\xbe\\xd0\\xbc. \\xd0\\x92 \\xd1\\x82\\xd0\\xbe \\xd0\\xb2\\xd1\\x80\\xd0\\xb5\\xd0\\xbc\\xd1\\x8f \\xd0\\xba\\xd0\\xb0\\xd0\\xba \\xd0\\x90\\xd0\\xbd\\xd0\\xbd\\xd0\\xb0 \\xd0\\x9f\\xd0\\xb0\\xd0\\xb2\\xd0\\xbb\\xd0\\xbe\\xd0\\xb2\\xd0\\xbd\\xd0\\xb0 \\xd0\\xbd\\xd0\\xb0\\xd0\\xb7\\xd0\\xb2\\xd0\\xb0\\xd0\\xbb\\xd0\\xb0 \\xd0\\xb8\\xd0\\xbc\\xd0\\xbf\\xd0\\xb5\\xd1\\x80\\xd0\\xb0\\xd1\\x82\\xd1\\x80\\xd0\\xb8\\xd1\\x86\\xd1\\x83, \\xd0\\xbb\\xd0\\xb8\\xd1\\x86\\xd0\\xbe \\xd0\\xb5\\xd0\\xb5 \\xd0\\xb2\\xd0\\xb4\\xd1\\x80\\xd1\\x83\\xd0\\xb3 \\xd0\\xbf\\xd1\\x80\\xd0\\xb5\\xd0\\xb4\\xd1\\x81\\xd1\\x82\\xd0\\xb0\\xd0\\xb2\\xd0\\xb8\\xd0\\xbb\\xd0\\xbe \\xd0\\xb3\\xd0\\xbb\\xd1\\x83\\xd0\\xb1\\xd0\\xbe\\xd0\\xba\\xd0\\xbe\\xd0\\xb5 \\xd0\\xb8 \\xd0\\xb8\\xd1\\x81\\xd0\\xba\\xd1\\x80\\xd0\\xb5\\xd0\\xbd\\xd0\\xbd\\xd0\\xb5\\xd0\\xb5 \\xd0\\xb2\\xd1\\x8b\\xd1\\x80\\xd0\\xb0\\xd0\\xb6\\xd0\\xb5\\xd0\\xbd\\xd0\\xb8\\xd0\\xb5 \\xd0\\xbf\\xd1\\x80\\xd0\\xb5\\xd0\\xb4\\xd0\\xb0\\xd0\\xbd\\xd0\\xbd\\xd0\\xbe\\xd1\\x81\\xd1\\x82\\xd0\\xb8 \\xd0\\xb8 \\xd1\\x83\\xd0\\xb2\\xd0\\xb0\\xd0\\xb6\\xd0\\xb5\\xd0\\xbd\\xd0\\xb8\\xd1\\x8f, \\xd1\\x81\\xd0\\xbe\\xd0\\xb5\\xd0\\xb4\\xd0\\xb8\\xd0\\xbd\\xd0\\xb5\\xd0\\xbd\\xd0\\xbd\\xd0\\xbe\\xd0\\xb5 \\xd1\\x81 \\xd0\\xb3\\xd1\\x80\\xd1\\x83\\xd1\\x81\\xd1\\x82\\xd1\\x8c\\xd1\\x8e, \\xd1\\x87\\xd1\\x82\\xd0\\xbe \\xd1\\x81 \\xd0\\xbd\\xd0\\xb5\\xd0\\xb9 \\xd0\\xb1\\xd1\\x8b\\xd0\\xb2\\xd0\\xb0\\xd0\\xbb\\xd0\\xbe \\xd0\\xba\\xd0\\xb0\\xd0\\xb6\\xd0\\xb4\\xd1\\x8b\\xd0\\xb9 \\xd1\\x80\\xd0\\xb0\\xd0\\xb7, \\xd0\\xba\\xd0\\xbe\\xd0\\xb3\\xd0\\xb4\\xd0\\xb0 \\xd0\\xbe\\xd0\\xbd\\xd0\\xb0 \\xd0\\xb2 \\xd1\\x80\\xd0\\xb0\\xd0\\xb7\\xd0\\xb3\\xd0\\xbe\\xd0\\xb2\\xd0\\xbe\\xd1\\x80\\xd0\\xb5 \\xd1\\x83\\xd0\\xbf\\xd0\\xbe\\xd0\\xbc\\xd0\\xb8\\xd0\\xbd\\xd0\\xb0\\xd0\\xbb\\xd0\\xb0 \\xd0\\xbe \\xd1\\x81\\xd0\\xb2\\xd0\\xbe\\xd0\\xb5\\xd0\\xb9 \\xd0\\xb2\\xd1\\x8b\\xd1\\x81\\xd0\\xbe\\xd0\\xba\\xd0\\xbe\\xd0\\xb9 \\xd0\\xbf\\xd0\\xbe\\xd0\\xba\\xd1\\x80\\xd0\\xbe\\xd0\\xb2\\xd0\\xb8\\xd1\\x82\\xd0\\xb5\\xd0\\xbb\\xd1\\x8c\\xd0\\xbd\\xd0\\xb8\\xd1\\x86\\xd0\\xb5. \\xd0\\x9e\\xd0\\xbd\\xd0\\xb0 \\xd1\\x81\\xd0\\xba\\xd0\\xb0\\xd0\\xb7\\xd0\\xb0\\xd0\\xbb\\xd0\\xb0, \\xd1\\x87\\xd1\\x82\\xd0\\xbe \\xd0\\xb5\\xd0\\xb5 \\xd0\\xb2\\xd0\\xb5\\xd0\\xbb\\xd0\\xb8\\xd1\\x87\\xd0\\xb5\\xd1\\x81\\xd1\\x82\\xd0\\xb2\\xd0\\xbe \\xd0\\xb8\\xd0\\xb7\\xd0\\xb2\\xd0\\xbe\\xd0\\xbb\\xd0\\xb8\\xd0\\xbb\\xd0\\xb0 \\xd0\\xbe\\xd0\\xba\\xd0\\xb0\\xd0\\xb7\\xd0\\xb0\\xd1\\x82\\xd1\\x8c \\xd0\\xb1\\xd0\\xb0\\xd1\\x80\\xd0\\xbe\\xd0\\xbd\\xd1\\x83 \\xd0\\xa4\\xd1\\x83\\xd0\\xbd\\xd0\\xba\\xd0\\xb5 beaucoup d'estime, \\xd0\\xb8 \\xd0\\xbe\\xd0\\xbf\\xd1\\x8f\\xd1\\x82\\xd1\\x8c \\xd0\\xb2\\xd0\\xb7\\xd0\\xb3\\xd0\\xbb\\xd1\\x8f\\xd0\\xb4 \\xd0\\xb5\\xd0\\xb5 \\xd0\\xbf\\xd0\\xbe\\xd0\\xb4\\xd0\\xb5\\xd1\\x80\\xd0\\xbd\\xd1\\x83\\xd0\\xbb\\xd1\\x81\\xd1\\x8f \\xd0\\xb3\\xd1\\x80\\xd1\\x83\\xd1\\x81\\xd1\\x82\\xd1\\x8c\\xd1\\x8e.\\n\\xd0\\x9a\\xd0\\xbd\\xd1\\x8f\\xd0\\xb7\\xd1\\x8c \\xd1\\x80\\xd0\\xb0\\xd0\\xb2\\xd0\\xbd\\xd0\\xbe\\xd0\\xb4\\xd1\\x83\\xd1\\x88\\xd0\\xbd\\xd0\\xbe \\xd0\\xb7\\xd0\\xb0\\xd0\\xbc\\xd0\\xbe\\xd0\\xbb\\xd0\\xba, \\xd0\\x90\\xd0\\xbd\\xd0\\xbd\\xd0\\xb0 \\xd0\\x9f\\xd0\\xb0\\xd0\\xb2\\xd0\\xbb\\xd0\\xbe\\xd0\\xb2\\xd0\\xbd\\xd0\\xb0, \\xd1\\x81 \\xd1\\x81\\xd0\\xb2\\xd0\\xbe\\xd0\\xb9\\xd1\\x81\\xd1\\x82\\xd0\\xb2\\xd0\\xb5\\xd0\\xbd\\xd0\\xbd\\xd0\\xbe\\xd1\\x8e \\xd0\\xb5\\xd0\\xb9 \\xd0\\xbf\\xd1\\x80\\xd0\\xb8\\xd0\\xb4\\xd0\\xb2\\xd0\\xbe\\xd1\\x80\\xd0\\xbd\\xd0\\xbe\\xd1\\x8e \\xd0\\xb8 \\xd0\\xb6\\xd0\\xb5\\xd0\\xbd\\xd1\\x81\\xd0\\xba\\xd0\\xbe\\xd1\\x8e \\xd0\\xbb\\xd0\\xbe\\xd0\\xb2\\xd0\\xba\\xd0\\xbe\\xd1\\x81\\xd1\\x82\\xd1\\x8c\\xd1\\x8e \\xd0\\xb8 \\xd0\\xb1\\xd1\\x8b\\xd1\\x81\\xd1\\x82\\xd1\\x80\\xd0\\xbe\\xd1\\x82\\xd0\\xbe\\xd1\\x8e \\xd1\\x82\\xd0\\xb0\\xd0\\xba\\xd1\\x82\\xd0\\xb0, \\xd0\\xb7\\xd0\\xb0\\xd1\\x85\\xd0\\xbe\\xd1\\x82\\xd0\\xb5\\xd0\\xbb\\xd0\\xb0 \\xd0\\xb8 \\xd1\\x89\\xd0\\xb5\\xd0\\xbb\\xd0\\xba\\xd0\\xb0\\xd0\\xbd\\xd1\\x83\\xd1\\x82\\xd1\\x8c \\xd0\\xba\\xd0\\xbd\\xd1\\x8f\\xd0\\xb7\\xd1\\x8f \\xd0\\xb7\\xd0\\xb0 \\xd1\\x82\\xd0\\xbe, \\xd1\\x87\\xd1\\x82\\xd0\\xbe \\xd0\\xbe\\xd0\\xbd \\xd0\\xb4\\xd0\\xb5\\xd1\\x80\\xd0\\xb7\\xd0\\xbd\\xd1\\x83\\xd0\\xbb \\xd1\\x82\\xd0\\xb0\\xd0\\xba \\xd0\\xbe\\xd1\\x82\\xd0\\xbe\\xd0\\xb7\\xd0\\xb2\\xd0\\xb0\\xd1\\x82\\xd1\\x8c\\xd1\\x81\\xd1\\x8f \\xd0\\xbe \\xd0\\xbb\\xd0\\xb8\\xd1\\x86\\xd0\\xb5, \\xd1\\x80\\xd0\\xb5\\xd0\\xba\\xd0\\xbe\\xd0\\xbc\\xd0\\xb5\\xd0\\xbd\\xd0\\xb4\\xd0\\xbe\\xd0\\xb2\\xd0\\xb0\\xd0\\xbd\\xd0\\xbd\\xd0\\xbe\\xd0\\xbc \\xd0\\xb8\\xd0\\xbc\\xd0\\xbf\\xd0\\xb5\\xd1\\x80\\xd0\\xb0\\xd1\\x82\\xd1\\x80\\xd0\\xb8\\xd1\\x86\\xd0\\xb5, \\xd0\\xb8 \\xd0\\xb2 \\xd1\\x82\\xd0\\xbe \\xd0\\xb6\\xd0\\xb5 \\xd0\\xb2\\xd1\\x80\\xd0\\xb5\\xd0\\xbc\\xd1\\x8f \\xd1\\x83\\xd1\\x82\\xd0\\xb5\\xd1\\x88\\xd0\\xb8\\xd1\\x82\\xd1\\x8c \\xd0\\xb5\\xd0\\xb3\\xd0\\xbe.\\n\\xe2\\x80\\x94 Mais \\xc3\\xa0 propos de votre famille, \\xe2\\x80\\x94 \\xd1\\x81\\xd0\\xba\\xd0\\xb0\\xd0\\xb7\\xd0\\xb0\\xd0\\xbb\\xd0\\xb0 \\xd0\\xbe\\xd0\\xbd\\xd0\\xb0, \\xe2\\x80\\x94 \\xd0\\xb7\\xd0\\xbd\\xd0\\xb0\\xd0\\xb5\\xd1\\x82\\xd0\\xb5 \\xd0\\xbb\\xd0\\xb8, \\xd1\\x87\\xd1\\x82\\xd0\\xbe \\xd0\\xb2\\xd0\\xb0\\xd1\\x88\\xd0\\xb0 \\xd0\\xb4\\xd0\\xbe\\xd1\\x87\\xd1\\x8c, \\xd1\\x81 \\xd1\\x82\\xd0\\xb5\\xd1\\x85 \\xd0\\xbf\\xd0\\xbe\\xd1\\x80 \\xd0\\xba\\xd0\\xb0\\xd0\\xba \\xd0\\xb2\\xd1\\x8b\\xd0\\xb5\\xd0\\xb7\\xd0\\xb6\\xd0\\xb0\\xd0\\xb5\\xd1\\x82, fait les d\\xc3\\xa9lices de tout le monde. On la trouve belle comme le jour.\\n\\xd0\\x9a\\xd0\\xbd\\xd1\\x8f\\xd0\\xb7\\xd1\\x8c \\xd0\\xbd\\xd0\\xb0\\xd0\\xba\\xd0\\xbb\\xd0\\xbe\\xd0\\xbd\\xd0\\xb8\\xd0\\xbb\\xd1\\x81\\xd1\\x8f \\xd0\\xb2 \\xd0\\xb7\\xd0\\xbd\\xd0\\xb0\\xd0\\xba \\xd1\\x83\\xd0\\xb2\\xd0\\xb0\\xd0\\xb6\\xd0\\xb5\\xd0\\xbd\\xd0\\xb8\\xd1\\x8f \\xd0\\xb8 \\xd0\\xbf\\xd1\\x80\\xd0\\xb8\\xd0\\xb7\\xd0\\xbd\\xd0\\xb0\\xd1\\x82\\xd0\\xb5\\xd0\\xbb\\xd1\\x8c\\xd0\\xbd\\xd0\\xbe\\xd1\\x81\\xd1\\x82\\xd0\\xb8.\\n\\xe2\\x80\\x94 \\xd0\\xaf \\xd1\\x87\\xd0\\xb0\\xd1\\x81\\xd1\\x82\\xd0\\xbe \\xd0\\xb4\\xd1\\x83\\xd0\\xbc\\xd0\\xb0\\xd1\\x8e, \\xe2\\x80\\x94 \\xd0\\xbf\\xd1\\x80\\xd0\\xbe\\xd0\\xb4\\xd0\\xbe\\xd0\\xbb\\xd0\\xb6\\xd0\\xb0\\xd0\\xbb\\xd0\\xb0 \\xd0\\x90\\xd0\\xbd\\xd0\\xbd\\xd0\\xb0 \\xd0\\x9f\\xd0\\xb0\\xd0\\xb2\\xd0\\xbb\\xd0\\xbe\\xd0\\xb2\\xd0\\xbd\\xd0\\xb0 \\xd0\\xbf\\xd0\\xbe\\xd1\\x81\\xd0\\xbb\\xd0\\xb5 \\xd0\\xbc\\xd0\\xb8\\xd0\\xbd\\xd1\\x83\\xd1\\x82\\xd0\\xbd\\xd0\\xbe\\xd0\\xb3\\xd0\\xbe \\xd0\\xbc\\xd0\\xbe\\xd0\\xbb\\xd1\\x87\\xd0\\xb0\\xd0\\xbd\\xd0\\xb8\\xd1\\x8f, \\xd0\\xbf\\xd1\\x80\\xd0\\xb8\\xd0\\xb4\\xd0\\xb2\\xd0\\xb8\\xd0\\xb3\\xd0\\xb0\\xd1\\x8f\\xd1\\x81\\xd1\\x8c \\xd0\\xba \\xd0\\xba\\xd0\\xbd\\xd1\\x8f\\xd0\\xb7\\xd1\\x8e \\xd0\\xb8 \\xd0\\xbb\\xd0\\xb0\\xd1\\x81\\xd0\\xba\\xd0\\xbe\\xd0\\xb2\\xd0\\xbe \\xd1\\x83\\xd0\\xbb\\xd1\\x8b\\xd0\\xb1\\xd0\\xb0\\xd1\\x8f\\xd1\\x81\\xd1\\x8c \\xd0\\xb5\\xd0\\xbc\\xd1\\x83, \\xd0\\xba\\xd0\\xb0\\xd0\\xba \\xd0\\xb1\\xd1\\x83\\xd0\\xb4\\xd1\\x82\\xd0\\xbe \\xd0\\xb2\\xd1\\x8b\\xd0\\xba\\xd0\\xb0\\xd0\\xb7\\xd1\\x8b\\xd0\\xb2\\xd0\\xb0\\xd1\\x8f \\xd1\\x8d\\xd1\\x82\\xd0\\xb8\\xd0\\xbc, \\xd1\\x87\\xd1\\x82\\xd0\\xbe \\xd0\\xbf\\xd0\\xbe\\xd0\\xbb\\xd0\\xb8\\xd1\\x82\\xd0\\xb8\\xd1\\x87\\xd0\\xb5\\xd1\\x81\\xd0\\xba\\xd0\\xb8\\xd0\\xb5 \\xd0\\xb8 \\xd1\\x81\\xd0\\xb2\\xd0\\xb5\\xd1\\x82\\xd1\\x81\\xd0\\xba\\xd0\\xb8\\xd0\\xb5 \\xd1\\x80\\xd0\\xb0\\xd0\\xb7\\xd0\\xb3\\xd0\\xbe\\xd0\\xb2\\xd0\\xbe\\xd1\\x80\\xd1\\x8b \\xd0\\xba\\xd0\\xbe\\xd0\\xbd\\xd1\\x87\\xd0\\xb5\\xd0\\xbd\\xd1\\x8b \\xd0\\xb8 \\xd1\\x82\\xd0\\xb5\\xd0\\xbf\\xd0\\xb5\\xd1\\x80\\xd1\\x8c \\xd0\\xbd\\xd0\\xb0\\xd1\\x87\\xd0\\xb8\\xd0\\xbd\\xd0\\xb0\\xd0\\xb5\\xd1\\x82\\xd1\\x81\\xd1\\x8f \\xd0\\xb7\\xd0\\xb0\\xd0\\xb4\\xd1\\x83\\xd1\\x88\\xd0\\xb5\\xd0\\xb2\\xd0\\xbd\\xd1\\x8b\\xd0\\xb9, \\xe2\\x80\\x94 \\xd1\\x8f \\xd1\\x87\\xd0\\xb0\\xd1\\x81\\xd1\\x82\\xd0\\xbe \\xd0\\xb4\\xd1\\x83\\xd0\\xbc\\xd0\\xb0\\xd1\\x8e, \\xd0\\xba\\xd0\\xb0\\xd0\\xba \\xd0\\xb8\\xd0\\xbd\\xd0\\xbe\\xd0\\xb3\\xd0\\xb4\\xd0\\xb0 \\xd0\\xbd\\xd0\\xb5\\xd1\\x81\\xd0\\xbf\\xd1\\x80\\xd0\\xb0\\xd0\\xb2\\xd0\\xb5\\xd0\\xb4\\xd0\\xbb\\xd0\\xb8\\xd0\\xb2\\xd0\\xbe \\xd1\\x80\\xd0\\xb0\\xd1\\x81\\xd0\\xbf\\xd1\\x80\\xd0\\xb5\\xd0\\xb4\\xd0\\xb5\\xd0\\xbb\\xd1\\x8f\\xd0\\xb5\\xd1\\x82\\xd1\\x81\\xd1\\x8f \\xd1\\x81\\xd1\\x87\\xd0\\xb0\\xd1\\x81\\xd1\\x82\\xd0\\xb8\\xd0\\xb5 \\xd0\\xb6\\xd0\\xb8\\xd0\\xb7\\xd0\\xbd\\xd0\\xb8. \\xd0\\x97\\xd0\\xb0 \\xd1\\x87\\xd1\\x82\\xd0\\xbe \\xd0\\xb2\\xd0\\xb0\\xd0\\xbc \\xd0\\xb4\\xd0\\xb0\\xd0\\xbb\\xd0\\xb0 \\xd1\\x81\\xd1\\x83\\xd0\\xb4\\xd1\\x8c\\xd0\\xb1\\xd0\\xb0 \\xd1\\x82\\xd0\\xb0\\xd0\\xba\\xd0\\xb8\\xd1\\x85 \\xd0\\xb4\\xd0\\xb2\\xd1\\x83\\xd1\\x85 \\xd1\\x81\\xd0\\xbb\\xd0\\xb0\\xd0\\xb2\\xd0\\xbd\\xd1\\x8b\\xd1\\x85 \\xd0\\xb4\\xd0\\xb5\\xd1\\x82\\xd0\\xb5\\xd0\\xb9 (\\xd0\\xb8\\xd1\\x81\\xd0\\xba\\xd0\\xbb\\xd1\\x8e\\xd1\\x87\\xd0\\xb0\\xd1\\x8f \\xd0\\x90\\xd0\\xbd\\xd0\\xb0\\xd1\\x82\\xd0\\xbe\\xd0\\xbb\\xd1\\x8f, \\xd0\\xb2\\xd0\\xb0\\xd1\\x88\\xd0\\xb5\\xd0\\xb3\\xd0\\xbe \\xd0\\xbc\\xd0\\xb5\\xd0\\xbd\\xd1\\x8c\\xd1\\x88\\xd0\\xbe\\xd0\\xb3\\xd0\\xbe, \\xd1\\x8f \\xd0\\xb5\\xd0\\xb3\\xd0\\xbe \\xd0\\xbd\\xd0\\xb5 \\xd0\\xbb\\xd1\\x8e\\xd0\\xb1\\xd0\\xbb\\xd1\\x8e, \\xe2\\x80\\x94 \\xd0\\xb2\\xd1\\x81\\xd1\\x82\\xd0\\xb0\\xd0\\xb2\\xd0\\xb8\\xd0\\xbb\\xd0\\xb0 \\xd0\\xbe\\xd0\\xbd\\xd0\\xb0 \\xd0\\xb1\\xd0\\xb5\\xd0\\xb7\\xd0\\xb0\\xd0\\xbf\\xd0\\xb5\\xd0\\xbb\\xd0\\xbb\\xd1\\x8f\\xd1\\x86\\xd0\\xb8\\xd0\\xbe\\xd0\\xbd\\xd0\\xbd\\xd0\\xbe, \\xd0\\xbf\\xd1\\x80\\xd0\\xb8\\xd0\\xbf\\xd0\\xbe\\xd0\\xb4\\xd0\\xbd\\xd1\\x8f\\xd0\\xb2 \\xd0\\xb1\\xd1\\x80\\xd0\\xbe\\xd0\\xb2\\xd0\\xb8), \\xe2\\x80\\x94 \\xd1\\x82\\xd0\\xb0\\xd0\\xba\\xd0\\xb8\\xd1\\x85 \\xd0\\xbf\\xd1\\x80\\xd0\\xb5\\xd0\\xbb\\xd0\\xb5\\xd1\\x81\\xd1\\x82\\xd0\\xbd\\xd1\\x8b\\xd1\\x85 \\xd0\\xb4\\xd0\\xb5\\xd1\\x82\\xd0\\xb5\\xd0\\xb9? \\xd0\\x90 \\xd0\\xb2\\xd1\\x8b, \\xd0\\xbf\\xd1\\x80\\xd0\\xb0\\xd0\\xb2\\xd0\\xbe, \\xd0\\xbc\\xd0\\xb5\\xd0\\xbd\\xd0\\xb5\\xd0\\xb5 \\xd0\\xb2\\xd1\\x81\\xd0\\xb5\\xd1\\x85 \\xd1\\x86\\xd0\\xb5\\xd0\\xbd\\xd0\\xb8\\xd1\\x82\\xd0\\xb5 \\xd0\\xb8\\xd1\\x85 \\xd0\\xb8 \\xd0\\xbf\\xd0\\xbe\\xd1\\x82\\xd0\\xbe\\xd0\\xbc\\xd1\\x83 \\xd0\\xb8\\xd1\\x85 \\xd0\\xbd\\xd0\\xb5 \\xd1\\x81\\xd1\\x82\\xd0\\xbe\\xcc\\x81\\xd0\\xb8\\xd1\\x82\\xd0\\xb5.\\n\\xd0\\x98 \\xd0\\xbe\\xd0\\xbd\\xd0\\xb0 \\xd1\\x83\\xd0\\xbb\\xd1\\x8b\\xd0\\xb1\\xd0\\xbd\\xd1\\x83\\xd0\\xbb\\xd0\\xb0\\xd1\\x81\\xd1\\x8c \\xd1\\x81\\xd0\\xb2\\xd0\\xbe\\xd0\\xb5\\xd1\\x8e \\xd0\\xb2\\xd0\\xbe\\xd1\\x81\\xd1\\x82\\xd0\\xbe\\xd1\\x80\\xd0\\xb6\\xd0\\xb5\\xd0\\xbd\\xd0\\xbd\\xd0\\xbe\\xd0\\xb9 \\xd1\\x83\\xd0\\xbb\\xd1\\x8b\\xd0\\xb1\\xd0\\xba\\xd0\\xbe\\xd0\\xb9.\\n\\xe2\\x80\\x94 Que voulez-vous? Lafater aurait dit que je n'ai pas la bosse de la paternit\\xc3\\xa9, \\xe2\\x80\\x94 \\xd1\\x81\\xd0\\xba\\xd0\\xb0\\xd0\\xb7\\xd0\\xb0\\xd0\\xbb \\xd0\\xba\\xd0\\xbd\\xd1\\x8f\\xd0\\xb7\\xd1\\x8c.\\n\\xe2\\x80\\x94 \\xd0\\x9f\\xd0\\xb5\\xd1\\x80\\xd0\\xb5\\xd1\\x81\\xd1\\x82\\xd0\\xb0\\xd0\\xbd\\xd1\\x8c\\xd1\\x82\\xd0\\xb5 \\xd1\\x88\\xd1\\x83\\xd1\\x82\\xd0\\xb8\\xd1\\x82\\xd1\\x8c. \\xd0\\xaf \\xd1\\x85\\xd0\\xbe\\xd1\\x82\\xd0\\xb5\\xd0\\xbb\\xd0\\xb0 \\xd1\\x81\\xd0\\xb5\\xd1\\x80\\xd1\\x8c\\xd0\\xb5\\xd0\\xb7\\xd0\\xbd\\xd0\\xbe \\xd0\\xbf\\xd0\\xbe\\xd0\\xb3\\xd0\\xbe\\xd0\\xb2\\xd0\\xbe\\xd1\\x80\\xd0\\xb8\\xd1\\x82\\xd1\\x8c \\xd1\\x81 \\xd0\\xb2\\xd0\\xb0\\xd0\\xbc\\xd0\\xb8. \\xd0\\x97\\xd0\\xbd\\xd0\\xb0\\xd0\\xb5\\xd1\\x82\\xd0\\xb5, \\xd1\\x8f \\xd0\\xbd\\xd0\\xb5\\xd0\\xb4\\xd0\\xbe\\xd0\\xb2\\xd0\\xbe\\xd0\\xbb\\xd1\\x8c\\xd0\\xbd\\xd0\\xb0 \\xd0\\xb2\\xd0\\xb0\\xd1\\x88\\xd0\\xb8\\xd0\\xbc \\xd0\\xbc\\xd0\\xb5\\xd0\\xbd\\xd1\\x8c\\xd1\\x88\\xd0\\xb8\\xd0\\xbc \\xd1\\x81\\xd1\\x8b\\xd0\\xbd\\xd0\\xbe\\xd0\\xbc. \\xd0\\x9c\\xd0\\xb5\\xd0\\xb6\\xd0\\xb4\\xd1\\x83 \\xd0\\xbd\\xd0\\xb0\\xd0\\xbc\\xd0\\xb8 \\xd0\\xb1\\xd1\\x83\\xd0\\xb4\\xd1\\x8c \\xd1\\x81\\xd0\\xba\\xd0\\xb0\\xd0\\xb7\\xd0\\xb0\\xd0\\xbd\\xd0\\xbe (\\xd0\\xbb\\xd0\\xb8\\xd1\\x86\\xd0\\xbe \\xd0\\xb5\\xd0\\xb5 \\xd0\\xbf\\xd1\\x80\\xd0\\xb8\\xd0\\xbd\\xd1\\x8f\\xd0\\xbb\\xd0\\xbe \\xd0\\xb3\\xd1\\x80\\xd1\\x83\\xd1\\x81\\xd1\\x82\\xd0\\xbd\\xd0\\xbe\\xd0\\xb5 \\xd0\\xb2\\xd1\\x8b\\xd1\\x80\\xd0\\xb0\\xd0\\xb6\\xd0\\xb5\\xd0\\xbd\\xd0\\xb8\\xd0\\xb5), \\xd0\\xbe \\xd0\\xbd\\xd0\\xb5\\xd0\\xbc \\xd0\\xb3\\xd0\\xbe\\xd0\\xb2\\xd0\\xbe\\xd1\\x80\\xd0\\xb8\\xd0\\xbb\\xd0\\xb8 \\xd1\\x83 \\xd0\\xb5\\xd0\\xb5 \\xd0\\xb2\\xd0\\xb5\\xd0\\xbb\\xd0\\xb8\\xd1\\x87\\xd0\\xb5\\xd1\\x81\\xd1\\x82\\xd0\\xb2\\xd0\\xb0 \\xd0\\xb8 \\xd0\\xb6\\xd0\\xb0\\xd0\\xbb\\xd0\\xb5\\xd1\\x8e\\xd1\\x82 \\xd0\\xb2\\xd0\\xb0\\xd1\\x81...\\n\\xd0\\x9a\\xd0\\xbd\\xd1\\x8f\\xd0\\xb7\\xd1\\x8c \\xd0\\xbd\\xd0\\xb5 \\xd0\\xbe\\xd1\\x82\\xd0\\xb2\\xd0\\xb5\\xd1\\x87\\xd0\\xb0\\xd0\\xbb, \\xd0\\xbd\\xd0\\xbe \\xd0\\xbe\\xd0\\xbd\\xd0\\xb0 \\xd0\\xbc\\xd0\\xbe\\xd0\\xbb\\xd1\\x87\\xd0\\xb0, \\xd0\\xb7\\xd0\\xbd\\xd0\\xb0\\xd1\\x87\\xd0\\xb8\\xd1\\x82\\xd0\\xb5\\xd0\\xbb\\xd1\\x8c\\xd0\\xbd\\xd0\\xbe \\xd0\\xb3\\xd0\\xbb\\xd1\\x8f\\xd0\\xb4\\xd1\\x8f \\xd0\\xbd\\xd0\\xb0 \\xd0\\xbd\\xd0\\xb5\\xd0\\xb3\\xd0\\xbe, \\xd0\\xb6\\xd0\\xb4\\xd0\\xb0\\xd0\\xbb\\xd0\\xb0 \\xd0\\xbe\\xd1\\x82\\xd0\\xb2\\xd0\\xb5\\xd1\\x82\\xd0\\xb0. \\xd0\\x9a\\xd0\\xbd\\xd1\\x8f\\xd0\\xb7\\xd1\\x8c \\xd0\\x92\\xd0\\xb0\\xd1\\x81\\xd0\\xb8\\xd0\\xbb\\xd0\\xb8\\xd0\\xb9 \\xd0\\xbf\\xd0\\xbe\\xd0\\xbc\\xd0\\xbe\\xd1\\x80\\xd1\\x89\\xd0\\xb8\\xd0\\xbb\\xd1\\x81\\xd1\\x8f.\\n\\xe2\\x80\\x94 \\xd0\\xa7\\xd1\\x82\\xd0\\xbe \\xd0\\xb6 \\xd0\\xbc\\xd0\\xbd\\xd0\\xb5 \\xd0\\xb4\\xd0\\xb5\\xd0\\xbb\\xd0\\xb0\\xd1\\x82\\xd1\\x8c? \\xe2\\x80\\x94 \\xd1\\x81\\xd0\\xba\\xd0\\xb0\\xd0\\xb7\\xd0\\xb0\\xd0\\xbb \\xd0\\xbe\\xd0\\xbd \\xd0\\xbd\\xd0\\xb0\\xd0\\xba\\xd0\\xbe\\xd0\\xbd\\xd0\\xb5\\xd1\\x86. \\xe2\\x80\\x94 \\xd0\\x92\\xd1\\x8b \\xd0\\xb7\\xd0\\xbd\\xd0\\xb0\\xd0\\xb5\\xd1\\x82\\xd0\\xb5, \\xd1\\x8f \\xd1\\x81\\xd0\\xb4\\xd0\\xb5\\xd0\\xbb\\xd0\\xb0\\xd0\\xbb \\xd0\\xb4\\xd0\\xbb\\xd1\\x8f \\xd0\\xb8\\xd1\\x85 \\xd0\\xb2\\xd0\\xbe\\xd1\\x81\\xd0\\xbf\\xd0\\xb8\\xd1\\x82\\xd0\\xb0\\xd0\\xbd\\xd0\\xb8\\xd1\\x8f \\xd0\\xb2\\xd1\\x81\\xd0\\xb5, \\xd1\\x87\\xd1\\x82\\xd0\\xbe \\xd0\\xbc\\xd0\\xbe\\xd0\\xb6\\xd0\\xb5\\xd1\\x82 \\xd0\\xbe\\xd1\\x82\\xd0\\xb5\\xd1\\x86, \\xd0\\xb8 \\xd0\\xbe\\xd0\\xb1\\xd0\\xb0 \\xd0\\xb2\\xd1\\x8b\\xd1\\x88\\xd0\\xbb\\xd0\\xb8 des imb\\xc3\\xa9ciles. \\xd0\\x98\\xd0\\xbf\\xd0\\xbf\\xd0\\xbe\\xd0\\xbb\\xd0\\xb8\\xd1\\x82, \\xd0\\xbf\\xd0\\xbe \\xd0\\xba\\xd1\\x80\\xd0\\xb0\\xd0\\xb9\\xd0\\xbd\\xd0\\xb5\\xd0\\xb9 \\xd0\\xbc\\xd0\\xb5\\xd1\\x80\\xd0\\xb5, \\xd0\\xbf\\xd0\\xbe\\xd0\\xba\\xd0\\xbe\\xd0\\xb9\\xd0\\xbd\\xd1\\x8b\\xd0\\xb9 \\xd0\\xb4\\xd1\\x83\\xd1\\x80\\xd0\\xb0\\xd0\\xba, \\xd0\\xb0 \\xd0\\x90\\xd0\\xbd\\xd0\\xb0\\xd1\\x82\\xd0\\xbe\\xd0\\xbb\\xd1\\x8c \\xe2\\x80\\x94 \\xd0\\xb1\\xd0\\xb5\\xd1\\x81\\xd0\\xbf\\xd0\\xbe\\xd0\\xba\\xd0\\xbe\\xd0\\xb9\\xd0\\xbd\\xd1\\x8b\\xd0\\xb9. \\xd0\\x92\\xd0\\xbe\\xd1\\x82 \\xd0\\xbe\\xd0\\xb4\\xd0\\xbd\\xd0\\xbe \\xd1\\x80\\xd0\\xb0\\xd0\\xb7\\xd0\\xbb\\xd0\\xb8\\xd1\\x87\\xd0\\xb8\\xd0\\xb5, \\xe2\\x80\\x94 \\xd1\\x81\\xd0\\xba\\xd0\\xb0\\xd0\\xb7\\xd0\\xb0\\xd0\\xbb \\xd0\\xbe\\xd0\\xbd, \\xd1\\x83\\xd0\\xbb\\xd1\\x8b\\xd0\\xb1\\xd0\\xb0\\xd1\\x8f\\xd1\\x81\\xd1\\x8c \\xd0\\xb1\\xd0\\xbe\\xd0\\xbb\\xd0\\xb5\\xd0\\xb5 \\xd0\\xbd\\xd0\\xb5\\xd0\\xb5\\xd1\\x81\\xd1\\x82\\xd0\\xb5\\xd1\\x81\\xd1\\x82\\xd0\\xb2\\xd0\\xb5\\xd0\\xbd\\xd0\\xbd\\xd0\\xbe \\xd0\\xb8 \\xd0\\xbe\\xd0\\xb4\\xd1\\x83\\xd1\\x88\\xd0\\xb5\\xd0\\xb2\\xd0\\xbb\\xd0\\xb5\\xd0\\xbd\\xd0\\xbd\\xd0\\xbe, \\xd1\\x87\\xd0\\xb5\\xd0\\xbc \\xd0\\xbe\\xd0\\xb1\\xd1\\x8b\\xd0\\xba\\xd0\\xbd\\xd0\\xbe\\xd0\\xb2\\xd0\\xb5\\xd0\\xbd\\xd0\\xbd\\xd0\\xbe, \\xd0\\xb8 \\xd0\\xbf\\xd1\\x80\\xd0\\xb8 \\xd1\\x8d\\xd1\\x82\\xd0\\xbe\\xd0\\xbc \\xd0\\xbe\\xd1\\x81\\xd0\\xbe\\xd0\\xb1\\xd0\\xb5\\xd0\\xbd\\xd0\\xbd\\xd0\\xbe \\xd1\\x80\\xd0\\xb5\\xd0\\xb7\\xd0\\xba\\xd0\\xbe \\xd0\\xb2\\xd1\\x8b\\xd0\\xba\\xd0\\xb0\\xd0\\xb7\\xd1\\x8b\\xd0\\xb2\\xd0\\xb0\\xd1\\x8f \\xd0\\xb2 \\xd1\\x81\\xd0\\xbb\\xd0\\xbe\\xd0\\xb6\\xd0\\xb8\\xd0\\xb2\\xd1\\x88\\xd0\\xb8\\xd1\\x85\\xd1\\x81\\xd1\\x8f \\xd0\\xbe\\xd0\\xba\\xd0\\xbe\\xd0\\xbb\\xd0\\xbe \\xd0\\xb5\\xd0\\xb3\\xd0\\xbe \\xd1\\x80\\xd1\\x82\\xd0\\xb0 \\xd0\\xbc\\xd0\\xbe\\xd1\\x80\\xd1\\x89\\xd0\\xb8\\xd0\\xbd\\xd0\\xb0\\xd1\\x85 \\xd1\\x87\\xd1\\x82\\xd0\\xbe-\\xd1\\x82\\xd0\\xbe \\xd0\\xbd\\xd0\\xb5\\xd0\\xbe\\xd0\\xb6\\xd0\\xb8\\xd0\\xb4\\xd0\\xb0\\xd0\\xbd\\xd0\\xbd\\xd0\\xbe-\\xd0\\xb3\\xd1\\x80\\xd1\\x83\\xd0\\xb1\\xd0\\xbe\\xd0\\xb5 \\xd0\\xb8 \\xd0\\xbd\\xd0\\xb5\\xd0\\xbf\\xd1\\x80\\xd0\\xb8\\xd1\\x8f\\xd1\\x82\\xd0\\xbd\\xd0\\xbe\\xd0\\xb5.\\n\\xe2\\x80\\x94 \\xd0\\x98 \\xd0\\xb7\\xd0\\xb0\\xd1\\x87\\xd0\\xb5\\xd0\\xbc \\xd1\\x80\\xd0\\xbe\\xd0\\xb4\\xd1\\x8f\\xd1\\x82\\xd1\\x81\\xd1\\x8f \\xd0\\xb4\\xd0\\xb5\\xd1\\x82\\xd0\\xb8 \\xd1\\x83 \\xd1\\x82\\xd0\\xb0\\xd0\\xba\\xd0\\xb8\\xd1\\x85 \\xd0\\xbb\\xd1\\x8e\\xd0\\xb4\\xd0\\xb5\\xd0\\xb9, \\xd0\\xba\\xd0\\xb0\\xd0\\xba \\xd0\\xb2\\xd1\\x8b? \\xd0\\x95\\xd0\\xb6\\xd0\\xb5\\xd0\\xbb\\xd0\\xb8 \\xd0\\xb1\\xd1\\x8b \\xd0\\xb2\\xd1\\x8b \\xd0\\xbd\\xd0\\xb5 \\xd0\\xb1\\xd1\\x8b\\xd0\\xbb\\xd0\\xb8 \\xd0\\xbe\\xd1\\x82\\xd0\\xb5\\xd1\\x86, \\xd1\\x8f \\xd0\\xb1\\xd1\\x8b \\xd0\\xbd\\xd0\\xb8 \\xd0\\xb2 \\xd1\\x87\\xd0\\xb5\\xd0\\xbc \\xd0\\xbd\\xd0\\xb5 \\xd0\\xbc\\xd0\\xbe\\xd0\\xb3\\xd0\\xbb\\xd0\\xb0 \\xd1\\x83\\xd0\\xbf\\xd1\\x80\\xd0\\xb5\\xd0\\xba\\xd0\\xbd\\xd1\\x83\\xd1\\x82\\xd1\\x8c \\xd0\\xb2\\xd0\\xb0\\xd1\\x81, \\xe2\\x80\\x94 \\xd1\\x81\\xd0\\xba\\xd0\\xb0\\xd0\\xb7\\xd0\\xb0\\xd0\\xbb\\xd0\\xb0 \\xd0\\x90\\xd0\\xbd\\xd0\\xbd\\xd0\\xb0 \\xd0\\x9f\\xd0\\xb0\\xd0\\xb2\\xd0\\xbb\\xd0\\xbe\\xd0\\xb2\\xd0\\xbd\\xd0\\xb0, \\xd0\\xb7\\xd0\\xb0\\xd0\\xb4\\xd1\\x83\\xd0\\xbc\\xd1\\x87\\xd0\\xb8\\xd0\\xb2\\xd0\\xbe \\xd0\\xbf\\xd0\\xbe\\xd0\\xb4\\xd0\\xbd\\xd0\\xb8\\xd0\\xbc\\xd0\\xb0\\xd1\\x8f \\xd0\\xb3\\xd0\\xbb\\xd0\\xb0\\xd0\\xb7\\xd0\\xb0.\\n\\xe2\\x80\\x94 Je suis votre \\xd0\\xb2\\xd0\\xb5\\xd1\\x80\\xd0\\xbd\\xd1\\x8b\\xd0\\xb9 \\xd1\\x80\\xd0\\xb0\\xd0\\xb1, et \\xc3\\xa0 vous seule je puis l'avouer. \\xd0\\x9c\\xd0\\xbe\\xd0\\xb8 \\xd0\\xb4\\xd0\\xb5\\xd1\\x82\\xd0\\xb8 \\xe2\\x80\\x94 ce sont les entraves de mon existence. \\xd0\\xad\\xd1\\x82\\xd0\\xbe \\xd0\\xbc\\xd0\\xbe\\xd0\\xb9 \\xd0\\xba\\xd1\\x80\\xd0\\xb5\\xd1\\x81\\xd1\\x82. \\xd0\\xaf \\xd1\\x82\\xd0\\xb0\\xd0\\xba \\xd1\\x81\\xd0\\xb5\\xd0\\xb1\\xd0\\xb5 \\xd0\\xbe\\xd0\\xb1\\xd1\\x8a\\xd1\\x8f\\xd1\\x81\\xd0\\xbd\\xd1\\x8f\\xd1\\x8e. Que voulez-vous?..\\xe2\\x80\\x94 \\xd0\\x9e\\xd0\\xbd \\xd0\\xbf\\xd0\\xbe\\xd0\\xbc\\xd0\\xbe\\xd0\\xbb\\xd1\\x87\\xd0\\xb0\\xd0\\xbb, \\xd0\\xb2\\xd1\\x8b\\xd1\\x80\\xd0\\xb0\\xd0\\xb6\\xd0\\xb0\\xd1\\x8f \\xd0\\xb6\\xd0\\xb5\\xd1\\x81\\xd1\\x82\\xd0\\xbe\\xd0\\xbc \\xd1\\x81\\xd0\\xb2\\xd0\\xbe\\xd1\\x8e \\xd0\\xbf\\xd0\\xbe\\xd0\\xba\\xd0\\xbe\\xd1\\x80\\xd0\\xbd\\xd0\\xbe\\xd1\\x81\\xd1\\x82\\xd1\\x8c \\xd0\\xb6\\xd0\\xb5\\xd1\\x81\\xd1\\x82\\xd0\\xbe\\xd0\\xba\\xd0\\xbe\\xd0\\xb9 \\xd1\\x81\\xd1\\x83\\xd0\\xb4\\xd1\\x8c\\xd0\\xb1\\xd0\\xb5.\\n\\xd0\\x90\\xd0\\xbd\\xd0\\xbd\\xd0\\xb0 \\xd0\\x9f\\xd0\\xb0\\xd0\\xb2\\xd0\\xbb\\xd0\\xbe\\xd0\\xb2\\xd0\\xbd\\xd0\\xb0 \\xd0\\xb7\\xd0\\xb0\\xd0\\xb4\\xd1\\x83\\xd0\\xbc\\xd0\\xb0\\xd0\\xbb\\xd0\\xb0\\xd1\\x81\\xd1\\x8c.\\n\\xe2\\x80\\x94 \\xd0\\x92\\xd1\\x8b \\xd0\\xbd\\xd0\\xb8\\xd0\\xba\\xd0\\xbe\\xd0\\xb3\\xd0\\xb4\\xd0\\xb0 \\xd0\\xbd\\xd0\\xb5 \\xd0\\xb4\\xd1\\x83\\xd0\\xbc\\xd0\\xb0\\xd0\\xbb\\xd0\\xb8 \\xd0\\xbe \\xd1\\x82\\xd0\\xbe\\xd0\\xbc, \\xd1\\x87\\xd1\\x82\\xd0\\xbe\\xd0\\xb1\\xd1\\x8b \\xd0\\xb6\\xd0\\xb5\\xd0\\xbd\\xd0\\xb8\\xd1\\x82\\xd1\\x8c \\xd0\\xb2\\xd0\\xb0\\xd1\\x88\\xd0\\xb5\\xd0\\xb3\\xd0\\xbe \\xd0\\xb1\\xd0\\xbb\\xd1\\x83\\xd0\\xb4\\xd0\\xbd\\xd0\\xbe\\xd0\\xb3\\xd0\\xbe \\xd1\\x81\\xd1\\x8b\\xd0\\xbd\\xd0\\xb0 \\xd0\\x90\\xd0\\xbd\\xd0\\xb0\\xd1\\x82\\xd0\\xbe\\xd0\\xbb\\xd1\\x8f. \\xd0\\x93\\xd0\\xbe\\xd0\\xb2\\xd0\\xbe\\xd1\\x80\\xd1\\x8f\\xd1\\x82, \\xe2\\x80\\x94 \\xd1\\x81\\xd0\\xba\\xd0\\xb0\\xd0\\xb7\\xd0\\xb0\\xd0\\xbb\\xd0\\xb0 \\xd0\\xbe\\xd0\\xbd\\xd0\\xb0, \\xe2\\x80\\x94 \\xd1\\x87\\xd1\\x82\\xd0\\xbe \\xd1\\x81\\xd1\\x82\\xd0\\xb0\\xd1\\x80\\xd1\\x8b\\xd0\\xb5 \\xd0\\xb4\\xd0\\xb5\\xd0\\xb2\\xd0\\xb8\\xd1\\x86\\xd1\\x8b ont la manie des mariages. \\xd0\\xaf \\xd0\\xb5\\xd1\\x89\\xd0\\xb5 \\xd0\\xbd\\xd0\\xb5 \\xd1\\x87\\xd1\\x83\\xd0\\xb2\\xd1\\x81\\xd1\\x82\\xd0\\xb2\\xd1\\x83\\xd1\\x8e \\xd0\\xb7\\xd0\\xb0 \\xd1\\x81\\xd0\\xbe\\xd0\\xb1\\xd0\\xbe\\xd1\\x8e \\xd1\\x8d\\xd1\\x82\\xd0\\xbe\\xd0\\xb9 \\xd1\\x81\\xd0\\xbb\\xd0\\xb0\\xd0\\xb1\\xd0\\xbe\\xd1\\x81\\xd1\\x82\\xd0\\xb8, \\xd0\\xbd\\xd0\\xbe \\xd1\\x83 \\xd0\\xbc\\xd0\\xb5\\xd0\\xbd\\xd1\\x8f \\xd0\\xb5\\xd1\\x81\\xd1\\x82\\xd1\\x8c \\xd0\\xbe\\xd0\\xb4\\xd0\\xbd\\xd0\\xb0 petite personne, \\xd0\\xba\\xd0\\xbe\\xd1\\x82\\xd0\\xbe\\xd1\\x80\\xd0\\xb0\\xd1\\x8f \\xd0\\xbe\\xd1\\x87\\xd0\\xb5\\xd0\\xbd\\xd1\\x8c \\xd0\\xbd\\xd0\\xb5\\xd1\\x81\\xd1\\x87\\xd0\\xb0\\xd1\\x81\\xd1\\x82\\xd0\\xbb\\xd0\\xb8\\xd0\\xb2\\xd0\\xb0 \\xd1\\x81 \\xd0\\xbe\\xd1\\x82\\xd1\\x86\\xd0\\xbe\\xd0\\xbc, une parente \\xc3\\xa0 nous, une princesse \\xd0\\x91\\xd0\\xbe\\xd0\\xbb\\xd0\\xba\\xd0\\xbe\\xd0\\xbd\\xd1\\x81\\xd0\\xba\\xd0\\xb0\\xd1\\x8f. \\xe2\\x80\\x94 \\xd0\\x9a\\xd0\\xbd\\xd1\\x8f\\xd0\\xb7\\xd1\\x8c \\xd0\\x92\\xd0\\xb0\\xd1\\x81\\xd0\\xb8\\xd0\\xbb\\xd0\\xb8\\xd0\\xb9 \\xd0\\xbd\\xd0\\xb5 \\xd0\\xbe\\xd1\\x82\\xd0\\xb2\\xd0\\xb5\\xd1\\x87\\xd0\\xb0\\xd0\\xbb, \\xd1\\x85\\xd0\\xbe\\xd1\\x82\\xd1\\x8f \\xd1\\x81 \\xd1\\x81\\xd0\\xb2\\xd0\\xbe\\xd0\\xb9\\xd1\\x81\\xd1\\x82\\xd0\\xb2\\xd0\\xb5\\xd0\\xbd\\xd0\\xbd\\xd0\\xbe\\xd0\\xb9 \\xd1\\x81\\xd0\\xb2\\xd0\\xb5\\xd1\\x82\\xd1\\x81\\xd0\\xba\\xd0\\xb8\\xd0\\xbc \\xd0\\xbb\\xd1\\x8e\\xd0\\xb4\\xd1\\x8f\\xd0\\xbc \\xd0\\xb1\\xd1\\x8b\\xd1\\x81\\xd1\\x82\\xd1\\x80\\xd0\\xbe\\xd1\\x82\\xd0\\xbe\\xd0\\xb9 \\xd1\\x81\\xd0\\xbe\\xd0\\xbe\\xd0\\xb1\\xd1\\x80\\xd0\\xb0\\xd0\\xb6\\xd0\\xb5\\xd0\\xbd\\xd0\\xb8\\xd1\\x8f \\xd0\\xb8 \\xd0\\xbf\\xd0\\xb0\\xd0\\xbc\\xd1\\x8f\\xd1\\x82\\xd1\\x8c\\xd1\\x8e \\xd0\\xb4\\xd0\\xb2\\xd0\\xb8\\xd0\\xb6\\xd0\\xb5\\xd0\\xbd\\xd0\\xb8\\xd0\\xb5\\xd0\\xbc \\xd0\\xb3\\xd0\\xbe\\xd0\\xbb\\xd0\\xbe\\xd0\\xb2\\xd1\\x8b \\xd0\\xbf\\xd0\\xbe\\xd0\\xba\\xd0\\xb0\\xd0\\xb7\\xd0\\xb0\\xd0\\xbb, \\xd1\\x87\\xd1\\x82\\xd0\\xbe \\xd0\\xbe\\xd0\\xbd \\xd0\\xbf\\xd1\\x80\\xd0\\xb8\\xd0\\xbd\\xd1\\x8f\\xd0\\xbb \\xd0\\xba \\xd1\\x81\\xd0\\xbe\\xd0\\xbe\\xd0\\xb1\\xd1\\x80\\xd0\\xb0\\xd0\\xb6\\xd0\\xb5\\xd0\\xbd\\xd0\\xb8\\xd1\\x8e \\xd1\\x8d\\xd1\\x82\\xd0\\xbe \\xd1\\x81\\xd0\\xb2\\xd0\\xb5\\xd0\\xb4\\xd0\\xb5\\xd0\\xbd\\xd1\\x8c\\xd0\\xb5.\\n\\xe2\\x80\\x94 \\xd0\\x9d\\xd0\\xb5\\xd1\\x82, \\xd0\\xb2\\xd1\\x8b \\xd0\\xb7\\xd0\\xbd\\xd0\\xb0\\xd0\\xb5\\xd1\\x82\\xd0\\xb5 \\xd0\\xbb\\xd0\\xb8, \\xd1\\x87\\xd1\\x82\\xd0\\xbe \\xd1\\x8d\\xd1\\x82\\xd0\\xbe\\xd1\\x82 \\xd0\\x90\\xd0\\xbd\\xd0\\xb0\\xd1\\x82\\xd0\\xbe\\xd0\\xbb\\xd1\\x8c \\xd0\\xbc\\xd0\\xbd\\xd0\\xb5 \\xd1\\x81\\xd1\\x82\\xd0\\xbe\\xd0\\xb8\\xd1\\x82 \\xd1\\x81\\xd0\\xbe\\xd1\\x80\\xd0\\xbe\\xd0\\xba \\xd1\\x82\\xd1\\x8b\\xd1\\x81\\xd1\\x8f\\xd1\\x87 \\xd0\\xb2 \\xd0\\xb3\\xd0\\xbe\\xd0\\xb4, \\xe2\\x80\\x94 \\xd1\\x81\\xd0\\xba\\xd0\\xb0\\xd0\\xb7\\xd0\\xb0\\xd0\\xbb \\xd0\\xbe\\xd0\\xbd, \\xd0\\xb2\\xd0\\xb8\\xd0\\xb4\\xd0\\xb8\\xd0\\xbc\\xd0\\xbe \\xd0\\xbd\\xd0\\xb5 \\xd0\\xb2 \\xd1\\x81\\xd0\\xb8\\xd0\\xbb\\xd0\\xb0\\xd1\\x85 \\xd1\\x83\\xd0\\xb4\\xd0\\xb5\\xd1\\x80\\xd0\\xb6\\xd0\\xb8\\xd0\\xb2\\xd0\\xb0\\xd1\\x82\\xd1\\x8c \\xd0\\xbf\\xd0\\xb5\\xd1\\x87\\xd0\\xb0\\xd0\\xbb\\xd1\\x8c\\xd0\\xbd\\xd1\\x8b\\xd0\\xb9 \\xd1\\x85\\xd0\\xbe\\xd0\\xb4 \\xd1\\x81\\xd0\\xb2\\xd0\\xbe\\xd0\\xb8\\xd1\\x85 \\xd0\\xbc\\xd1\\x8b\\xd1\\x81\\xd0\\xbb\\xd0\\xb5\\xd0\\xb9. \\xd0\\x9e\\xd0\\xbd \\xd0\\xbf\\xd0\\xbe\\xd0\\xbc\\xd0\\xbe\\xd0\\xbb\\xd1\\x87\\xd0\\xb0\\xd0\\xbb.\\n\\xe2\\x80\\x94 \\xd0\\xa7\\xd1\\x82\\xd0\\xbe \\xd0\\xb1\\xd1\\x83\\xd0\\xb4\\xd0\\xb5\\xd1\\x82 \\xd1\\x87\\xd0\\xb5\\xd1\\x80\\xd0\\xb5\\xd0\\xb7 \\xd0\\xbf\\xd1\\x8f\\xd1\\x82\\xd1\\x8c \\xd0\\xbb\\xd0\\xb5\\xd1\\x82, \\xd0\\xb5\\xd0\\xb6\\xd0\\xb5\\xd0\\xbb\\xd0\\xb8 \\xd1\\x8d\\xd1\\x82\\xd0\\xbe \\xd0\\xbf\\xd0\\xbe\\xd0\\xb9\\xd0\\xb4\\xd0\\xb5\\xd1\\x82 \\xd1\\x82\\xd0\\xb0\\xd0\\xba? Voil\\xc3\\xa0 l'avantage d'\\xc3\\xaatre p\\xc3\\xa8re. \\xd0\\x9e\\xd0\\xbd\\xd0\\xb0 \\xd0\\xb1\\xd0\\xbe\\xd0\\xb3\\xd0\\xb0\\xd1\\x82\\xd0\\xb0, \\xd0\\xb2\\xd0\\xb0\\xd1\\x88\\xd0\\xb0 \\xd0\\xba\\xd0\\xbd\\xd1\\x8f\\xd0\\xb6\\xd0\\xbd\\xd0\\xb0?\\n\\xe2\\x80\\x94 \\xd0\\x9e\\xd1\\x82\\xd0\\xb5\\xd1\\x86 \\xd0\\xbe\\xd1\\x87\\xd0\\xb5\\xd0\\xbd\\xd1\\x8c \\xd0\\xb1\\xd0\\xbe\\xd0\\xb3\\xd0\\xb0\\xd1\\x82 \\xd0\\xb8 \\xd1\\x81\\xd0\\xba\\xd1\\x83\\xd0\\xbf. \\xd0\\x9e\\xd0\\xbd \\xd0\\xb6\\xd0\\xb8\\xd0\\xb2\\xd0\\xb5\\xd1\\x82 \\xd0\\xb2 \\xd0\\xb4\\xd0\\xb5\\xd1\\x80\\xd0\\xb5\\xd0\\xb2\\xd0\\xbd\\xd0\\xb5. \\xd0\\x97\\xd0\\xbd\\xd0\\xb0\\xd0\\xb5\\xd1\\x82\\xd0\\xb5, \\xd1\\x8d\\xd1\\x82\\xd0\\xbe\\xd1\\x82 \\xd0\\xb8\\xd0\\xb7\\xd0\\xb2\\xd0\\xb5\\xd1\\x81\\xd1\\x82\\xd0\\xbd\\xd1\\x8b\\xd0\\xb9 \\xd0\\xba\\xd0\\xbd\\xd1\\x8f\\xd0\\xb7\\xd1\\x8c \\xd0\\x91\\xd0\\xbe\\xd0\\xbb\\xd0\\xba\\xd0\\xbe\\xd0\\xbd\\xd1\\x81\\xd0\\xba\\xd0\\xb8\\xd0\\xb9, \\xd0\\xbe\\xd1\\x82\\xd1\\x81\\xd1\\x82\\xd0\\xb0\\xd0\\xb2\\xd0\\xbb\\xd0\\xb5\\xd0\\xbd\\xd0\\xbd\\xd1\\x8b\\xd0\\xb9 \\xd0\\xb5\\xd1\\x89\\xd0\\xb5 \\xd0\\xbf\\xd1\\x80\\xd0\\xb8 \\xd0\\xbf\\xd0\\xbe\\xd0\\xba\\xd0\\xbe\\xd0\\xb9\\xd0\\xbd\\xd0\\xbe\\xd0\\xbc \\xd0\\xb8\\xd0\\xbc\\xd0\\xbf\\xd0\\xb5\\xd1\\x80\\xd0\\xb0\\xd1\\x82\\xd0\\xbe\\xd1\\x80\\xd0\\xb5 \\xd0\\xb8 \\xd0\\xbf\\xd1\\x80\\xd0\\xbe\\xd0\\xb7\\xd0\\xb2\\xd0\\xb0\\xd0\\xbd\\xd0\\xbd\\xd1\\x8b\\xd0\\xb9 \\xd0\\xbf\\xd1\\x80\\xd1\\x83\\xd1\\x81\\xd1\\x81\\xd0\\xba\\xd0\\xb8\\xd0\\xbc \\xd0\\xba\\xd0\\xbe\\xd1\\x80\\xd0\\xbe\\xd0\\xbb\\xd0\\xb5\\xd0\\xbc. \\xd0\\x9e\\xd0\\xbd \\xd0\\xbe\\xd1\\x87\\xd0\\xb5\\xd0\\xbd\\xd1\\x8c \\xd1\\x83\\xd0\\xbc\\xd0\\xbd\\xd1\\x8b\\xd0\\xb9 \\xd1\\x87\\xd0\\xb5\\xd0\\xbb\\xd0\\xbe\\xd0\\xb2\\xd0\\xb5\\xd0\\xba, \\xd0\\xbd\\xd0\\xbe \\xd1\\x81\\xd0\\xbe \\xd1\\x81\\xd1\\x82\\xd1\\x80\\xd0\\xb0\\xd0\\xbd\\xd0\\xbd\\xd0\\xbe\\xd1\\x81\\xd1\\x82\\xd1\\x8f\\xd0\\xbc\\xd0\\xb8 \\xd0\\xb8 \\xd1\\x82\\xd1\\x8f\\xd0\\xb6\\xd0\\xb5\\xd0\\xbb\\xd1\\x8b\\xd0\\xb9. La pauvre petite est malheureuse comme les pierres. \\xd0\\xa3 \\xd0\\xbd\\xd0\\xb5\\xd0\\xb5 \\xd0\\xb1\\xd1\\x80\\xd0\\xb0\\xd1\\x82, \\xd0\\xb2\\xd0\\xbe\\xd1\\x82 \\xd1\\x87\\xd1\\x82\\xd0\\xbe \\xd0\\xbd\\xd0\\xb5\\xd0\\xb4\\xd0\\xb0\\xd0\\xb2\\xd0\\xbd\\xd0\\xbe \\xd0\\xb6\\xd0\\xb5\\xd0\\xbd\\xd0\\xb8\\xd0\\xbb\\xd1\\x81\\xd1\\x8f \\xd0\\xbd\\xd0\\xb0 Lise \\xd0\\x9c\\xd0\\xb5\\xd0\\xb9\\xd0\\xbd\\xd0\\xb5\\xd0\\xbd, \\xd0\\xb0\\xd0\\xb4\\xd1\\x8a\\xd1\\x8e\\xd1\\x82\\xd0\\xb0\\xd0\\xbd\\xd1\\x82 \\xd0\\x9a\\xd1\\x83\\xd1\\x82\\xd1\\x83\\xd0\\xb7\\xd0\\xbe\\xd0\\xb2\\xd0\\xb0. \\xd0\\x9e\\xd0\\xbd \\xd0\\xb1\\xd1\\x83\\xd0\\xb4\\xd0\\xb5\\xd1\\x82 \\xd0\\xbd\\xd1\\x8b\\xd0\\xbd\\xd1\\x87\\xd0\\xb5 \\xd1\\x83 \\xd0\\xbc\\xd0\\xb5\\xd0\\xbd\\xd1\\x8f.\\n\\xe2\\x80\\x94 Ecoutez, ch\\xc3\\xa8re Annette, \\xe2\\x80\\x94 \\xd1\\x81\\xd0\\xba\\xd0\\xb0\\xd0\\xb7\\xd0\\xb0\\xd0\\xbb \\xd0\\xba\\xd0\\xbd\\xd1\\x8f\\xd0\\xb7\\xd1\\x8c, \\xd0\\xb2\\xd0\\xb7\\xd1\\x8f\\xd0\\xb2 \\xd0\\xb2\\xd0\\xb4\\xd1\\x80\\xd1\\x83\\xd0\\xb3 \\xd1\\x81\\xd0\\xb2\\xd0\\xbe\\xd1\\x8e \\xd1\\x81\\xd0\\xbe\\xd0\\xb1\\xd0\\xb5\\xd1\\x81\\xd0\\xb5\\xd0\\xb4\\xd0\\xbd\\xd0\\xb8\\xd1\\x86\\xd1\\x83 \\xd0\\xb7\\xd0\\xb0 \\xd1\\x80\\xd1\\x83\\xd0\\xba\\xd1\\x83 \\xd0\\xb8 \\xd0\\xbf\\xd1\\x80\\xd0\\xb8\\xd0\\xb3\\xd0\\xb8\\xd0\\xb1\\xd0\\xb0\\xd1\\x8f \\xd0\\xb5\\xd0\\xb5 \\xd0\\xbf\\xd0\\xbe\\xd1\\x87\\xd0\\xb5\\xd0\\xbc\\xd1\\x83-\\xd1\\x82\\xd0\\xbe \\xd0\\xba\\xd0\\xbd\\xd0\\xb8\\xd0\\xb7\\xd1\\x83. \\xe2\\x80\\x94 Arrangez-moi cette affaire et je suis votre \\xd0\\xb2\\xd0\\xb5\\xd1\\x80\\xd0\\xbd\\xd0\\xb5\\xd0\\xb9\\xd1\\x88\\xd0\\xb8\\xd0\\xb9 \\xd1\\x80\\xd0\\xb0\\xd0\\xb1 \\xc3\\xa0 tout jamais (\\xd1\\x80\\xd0\\xb0\\xd0\\xbf \\xe2\\x80\\x94 comme mon \\xd1\\x81\\xd1\\x82\\xd0\\xb0\\xd1\\x80\\xd0\\xbe\\xd1\\x81\\xd1\\x82\\xd0\\xb0 m'\\xc3\\xa9crit des \\xd0\\xb4\\xd0\\xbe\\xd0\\xbd\\xd0\\xb5\\xd1\\x81\\xd0\\xb5\\xd0\\xbd\\xd1\\x8c\\xd1\\x8f: \\xd0\\xbf\\xd0\\xbe\\xd0\\xba\\xd0\\xbe\\xd0\\xb9-\\xd0\\xb5\\xd1\\x80-\\xd0\\xbf). \\xd0\\x9e\\xd0\\xbd\\xd0\\xb0 \\xd1\\x85\\xd0\\xbe\\xd1\\x80\\xd0\\xbe\\xd1\\x88\\xd0\\xb5\\xd0\\xb9 \\xd1\\x84\\xd0\\xb0\\xd0\\xbc\\xd0\\xb8\\xd0\\xbb\\xd0\\xb8\\xd0\\xb8 \\xd0\\xb8 \\xd0\\xb1\\xd0\\xbe\\xd0\\xb3\\xd0\\xb0\\xd1\\x82\\xd0\\xb0. \\xd0\\x92\\xd1\\x81\\xd0\\xb5, \\xd1\\x87\\xd1\\x82\\xd0\\xbe \\xd0\\xbc\\xd0\\xbd\\xd0\\xb5 \\xd0\\xbd\\xd1\\x83\\xd0\\xb6\\xd0\\xbd\\xd0\\xbe.\\n\\xd0\\x98 \\xd0\\xbe\\xd0\\xbd \\xd1\\x81 \\xd1\\x82\\xd0\\xb5\\xd0\\xbc\\xd0\\xb8 \\xd1\\x81\\xd0\\xb2\\xd0\\xbe\\xd0\\xb1\\xd0\\xbe\\xd0\\xb4\\xd0\\xbd\\xd1\\x8b\\xd0\\xbc\\xd0\\xb8 \\xd0\\xb8 \\xd1\\x84\\xd0\\xb0\\xd0\\xbc\\xd0\\xb8\\xd0\\xbb\\xd1\\x8c\\xd1\\x8f\\xd1\\x80\\xd0\\xbd\\xd1\\x8b\\xd0\\xbc\\xd0\\xb8 \\xd0\\xb3\\xd1\\x80\\xd0\\xb0\\xd1\\x86\\xd0\\xb8\\xd0\\xbe\\xd0\\xb7\\xd0\\xbd\\xd1\\x8b\\xd0\\xbc\\xd0\\xb8 \\xd0\\xb4\\xd0\\xb2\\xd0\\xb8\\xd0\\xb6\\xd0\\xb5\\xd0\\xbd\\xd0\\xb8\\xd1\\x8f\\xd0\\xbc\\xd0\\xb8, \\xd0\\xba\\xd0\\xbe\\xd1\\x82\\xd0\\xbe\\xd1\\x80\\xd1\\x8b\\xd0\\xb5 \\xd0\\xb5\\xd0\\xb3\\xd0\\xbe \\xd0\\xbe\\xd1\\x82\\xd0\\xbb\\xd0\\xb8\\xd1\\x87\\xd0\\xb0\\xd0\\xbb\\xd0\\xb8, \\xd0\\xb2\\xd0\\xb7\\xd1\\x8f\\xd0\\xbb \\xd0\\xb7\\xd0\\xb0 \\xd1\\x80\\xd1\\x83\\xd0\\xba\\xd1\\x83 \\xd1\\x84\\xd1\\x80\\xd0\\xb5\\xd0\\xb9\\xd0\\xbb\\xd0\\xb8\\xd0\\xbd\\xd1\\x83, \\xd0\\xbf\\xd0\\xbe\\xd1\\x86\\xd0\\xb5\\xd0\\xbb\\xd0\\xbe\\xd0\\xb2\\xd0\\xb0\\xd0\\xbb \\xd0\\xb5\\xd0\\xb5 \\xd0\\xb8, \\xd0\\xbf\\xd0\\xbe\\xd1\\x86\\xd0\\xb5\\xd0\\xbb\\xd0\\xbe\\xd0\\xb2\\xd0\\xb0\\xd0\\xb2, \\xd0\\xbf\\xd0\\xbe\\xd0\\xbc\\xd0\\xb0\\xd1\\x85\\xd0\\xb0\\xd0\\xbb \\xd1\\x84\\xd1\\x80\\xd0\\xb5\\xd0\\xb9\\xd0\\xbb\\xd0\\xb8\\xd0\\xbd\\xd1\\x81\\xd0\\xba\\xd0\\xbe\\xd1\\x8e \\xd1\\x80\\xd1\\x83\\xd0\\xba\\xd0\\xbe\\xd0\\xb9, \\xd1\\x80\\xd0\\xb0\\xd0\\xb7\\xd0\\xb2\\xd0\\xb0\\xd0\\xbb\\xd0\\xb8\\xd0\\xb2\\xd1\\x88\\xd0\\xb8\\xd1\\x81\\xd1\\x8c \\xd0\\xbd\\xd0\\xb0 \\xd0\\xba\\xd1\\x80\\xd0\\xb5\\xd1\\x81\\xd0\\xbb\\xd0\\xb0\\xd1\\x85 \\xd0\\xb8 \\xd0\\xb3\\xd0\\xbb\\xd1\\x8f\\xd0\\xb4\\xd1\\x8f \\xd0\\xb2 \\xd1\\x81\\xd1\\x82\\xd0\\xbe\\xd1\\x80\\xd0\\xbe\\xd0\\xbd\\xd1\\x83.\\n\\xe2\\x80\\x94 Attendez, \\xe2\\x80\\x94 \\xd1\\x81\\xd0\\xba\\xd0\\xb0\\xd0\\xb7\\xd0\\xb0\\xd0\\xbb\\xd0\\xb0 \\xd0\\x90\\xd0\\xbd\\xd0\\xbd\\xd0\\xb0 \\xd0\\x9f\\xd0\\xb0\\xd0\\xb2\\xd0\\xbb\\xd0\\xbe\\xd0\\xb2\\xd0\\xbd\\xd0\\xb0, \\xd1\\x81\\xd0\\xbe\\xd0\\xbe\\xd0\\xb1\\xd1\\x80\\xd0\\xb0\\xd0\\xb6\\xd0\\xb0\\xd1\\x8f. \\xe2\\x80\\x94 \\xd0\\xaf \\xd0\\xbd\\xd1\\x8b\\xd0\\xbd\\xd1\\x87\\xd0\\xb5 \\xd0\\xb6\\xd0\\xb5 \\xd0\\xbf\\xd0\\xbe\\xd0\\xb3\\xd0\\xbe\\xd0\\xb2\\xd0\\xbe\\xd1\\x80\\xd1\\x8e Lise (la femme du jeune \\xd0\\x91\\xd0\\xbe\\xd0\\xbb\\xd0\\xba\\xd0\\xbe\\xd0\\xbd\\xd1\\x81\\xd0\\xba\\xd0\\xb8\\xd0\\xb9). \\xd0\\x98, \\xd0\\xbc\\xd0\\xbe\\xd0\\xb6\\xd0\\xb5\\xd1\\x82 \\xd0\\xb1\\xd1\\x8b\\xd1\\x82\\xd1\\x8c, \\xd1\\x8d\\xd1\\x82\\xd0\\xbe \\xd1\\x83\\xd0\\xbb\\xd0\\xb0\\xd0\\xb4\\xd0\\xb8\\xd1\\x82\\xd1\\x81\\xd1\\x8f. Ce sera dans votre famille que je ferai mon apprentissage de vieille fille.\"\n",
      "b'' utf-8\n"
     ]
    }
   ],
   "source": [
    "# 编码格式\n",
    "from urllib.request import urlopen\n",
    "textPage = urlopen(\"http://www.pythonscraping.com/pages/warandpeace/chapter1-ru.txt\")\n",
    "print(textPage.read())"
   ]
  },
  {
   "cell_type": "code",
   "execution_count": 1,
   "metadata": {
    "collapsed": false
   },
   "outputs": [
    {
     "name": "stdout",
     "output_type": "stream",
     "text": [
      "ЧАСТЬ ПЕРВАЯ\n",
      "\n",
      "I\n",
      "\n",
      "— Eh bien, mon prince. Gênes et Lucques ne sont plus que des apanages, des поместья, de la famille Buonaparte. Non, je vous préviens que si vous ne me dites pas que nous avons la guerre, si vous vous permettez encore de pallier toutes les infamies, toutes les atrocités de cet Antichrist (ma parole, j'y crois) — je ne vous connais plus, vous n'êtes plus mon ami, vous n'êtes plus мой верный раб, comme vous dites. Ну, здравствуйте, здравствуйте. Je vois que je vous fais peur, садитесь и рассказывайте.\n",
      "Так говорила в июле 1805 года известная Анна Павловна Шерер, фрейлина и приближенная императрицы Марии Феодоровны, встречая важного и чиновного князя Василия, первого приехавшего на ее вечер. Анна Павловна кашляла несколько дней, у нее был грипп, как она говорила (грипп был тогда новое слово, употреблявшееся только редкими). В записочках, разосланных утром с красным лакеем, было написано без различия во всех:\n",
      "«Si vous n'avez rien de mieux à faire, Monsieur le comte (или mon prince), et si la perspective de passer la soirée chez une pauvre malade ne vous effraye pas trop, je serai charmée de vous voir chez moi entre 7 et 10 heures. Annette Scherer».\n",
      "— Dieu, quelle virulente sortie! — отвечал, нисколько не смутясь такою встречей, вошедший князь, в придворном, шитом мундире, в чулках, башмаках и звездах, с светлым выражением плоского лица.\n",
      "Он говорил на том изысканном французском языке, на котором не только говорили, но и думали наши деды, и с теми, тихими, покровительственными интонациями, которые свойственны состаревшемуся в свете и при дворе значительному человеку. Он подошел к Анне Павловне, поцеловал ее руку, подставив ей свою надушенную и сияющую лысину, и покойно уселся на диване.\n",
      "— Avant tout dites-moi, comment vous allez, chère amie? Успокойте меня, — сказал он, не изменяя голоса и тоном, в котором из-за приличия и участия просвечивало равнодушие и даже насмешка.\n",
      "— Как можно быть здоровой... когда нравственно страдаешь? Разве можно, имея чувство, оставаться спокойною в наше время? — сказала Анна Павловна. — Вы весь вечер у меня, надеюсь?\n",
      "— А праздник английского посланника? Нынче середа. Мне надо показаться там, — сказал князь. — Дочь заедет за мной и повезет меня.\n",
      "— Я думала, что нынешний праздник отменен, Je vous avoue que toutes ces fêtes et tous ces feux d'artifice commencent à devenir insipides.\n",
      "— Ежели бы знали, что вы этого хотите, праздник бы отменили, — сказал князь по привычке, как заведенные часы, говоря вещи, которым он и не хотел, чтобы верили.\n",
      "— Ne me tourmentez pas. Eh bien, qu'a-t-on décidé par rapport à la dépêche de Novosilzoff? Vous savez tout.\n",
      "— Как вам сказать? — сказал князь холодным, скучающим тоном. — Qu'a-t-on décidé? On a décidé que Buonaparte a brûlé ses vaisseaux, et je crois que nous sommes en train de brûler les nôtres.\n",
      "Князь Василий говорил всегда лениво, как актер говорит роль старой пиесы. Анна Павловна Шерер, напротив, несмотря на свои сорок лет, была преисполнена оживления и порывов.\n",
      "Быть энтузиасткой сделалось ее общественным положением, и иногда, когда ей даже того не хотелось, она, чтобы не обмануть ожиданий людей, знавших ее, делалась энтузиасткой. Сдержанная улыбка, игравшая постоянно на лице Анны Павловны, хотя и не шла к ее отжившим чертам, выражала, как у избалованных детей, постоянное сознание своего милого недостатка, от которого она не хочет, не может и не находит нужным исправляться.\n",
      "В середине разговора про политические действия Анна Павловна разгорячилась.\n",
      "— Ах, не говорите мне про Австрию! Я ничего не понимаю, может быть, но Австрия никогда не хотела и не хочет войны. Она предает нас. Россия одна должна быть спасительницей Европы. Наш благодетель знает свое высокое призвание и будет верен ему. Вот одно, во что я верю. Нашему доброму и чудному государю предстоит величайшая роль в мире, и он так добродетелен и хорош, что Бог не оставит его, и он исполнит свое призвание задавить гидру революции, которая теперь еще ужаснее в лице этого убийцы и злодея. Мы одни должны искупить кровь праведника. На кого нам надеяться, я вас спрашиваю?.. Англия с своим коммерческим духом не поймет и не может понять всю высоту души императора Александра. Она отказалась очистить Мальту. Она хочет видеть, ищет заднюю мысль наших действий. Что они сказали Новосильцеву? Ничего. Они не поняли, они не могли понять самоотвержения нашего императора, который ничего не хочет для себя и все хочет для блага мира. И что они обещали? Ничего. И что обещали, и того не будет! Пруссия уже объявила, что Бонапарте непобедим и что вся Европа ничего не может против него... И я не верю ни в одном слове ни Гарденбергу, ни Гаугвицу. Cette fameuse neutralité prussienne, ce n'est qu'un piège. Я верю в одного Бога и в высокую судьбу нашего милого императора. Он спасет Европу!.. — Она вдруг остановилась с улыбкой насмешки над своею горячностью.\n",
      "— Я думаю, — сказал князь, улыбаясь, — что, ежели бы вас послали вместо нашего милого Винценгероде, вы бы взяли приступом согласие прусского короля. Вы так красноречивы. Вы дадите мне чаю?\n",
      "— Сейчас. A propos, — прибавила она, опять успокоиваясь, — нынче у меня два очень интересные человека, le vicomte de Mortemart, il est allié aux Montmorency par les Rohans, одна из лучших фамилий Франции. Это один из хороших эмигрантов, из настоящих. И потом l'abbé Morio; вы знаете этот глубокий ум? Он был принят государем. Вы знаете?\n",
      "— А! Я очень рад буду, — сказал князь. — Скажите, — прибавил он, как будто только что вспомнив что-то и особенно-небрежно, тогда как то, о чем он спрашивал, было главной целью его посещения, — правда, что l'impératrice-mère желает назначения барона Функе первым секретарем в Вену? C'est un pauvre sire, ce baron, à ce qu'il paraît. — Князь Василий желал определить сына на это место, которое через императрицу Марию Феодоровну старались доставить барону.\n",
      "Анна Павловна почти закрыла глаза в знак того, что ни она, ни кто другой не могут судить про то, что угодно или нравится императрице.\n",
      "— Monsieur le baron de Funke a été recommandé à l'impératrice-mère par sa sur, — только сказала она грустным, сухим тоном. В то время как Анна Павловна назвала императрицу, лицо ее вдруг представило глубокое и искреннее выражение преданности и уважения, соединенное с грустью, что с ней бывало каждый раз, когда она в разговоре упоминала о своей высокой покровительнице. Она сказала, что ее величество изволила оказать барону Функе beaucoup d'estime, и опять взгляд ее подернулся грустью.\n",
      "Князь равнодушно замолк, Анна Павловна, с свойственною ей придворною и женскою ловкостью и быстротою такта, захотела и щелкануть князя за то, что он дерзнул так отозваться о лице, рекомендованном императрице, и в то же время утешить его.\n",
      "— Mais à propos de votre famille, — сказала она, — знаете ли, что ваша дочь, с тех пор как выезжает, fait les délices de tout le monde. On la trouve belle comme le jour.\n",
      "Князь наклонился в знак уважения и признательности.\n",
      "— Я часто думаю, — продолжала Анна Павловна после минутного молчания, придвигаясь к князю и ласково улыбаясь ему, как будто выказывая этим, что политические и светские разговоры кончены и теперь начинается задушевный, — я часто думаю, как иногда несправедливо распределяется счастие жизни. За что вам дала судьба таких двух славных детей (исключая Анатоля, вашего меньшого, я его не люблю, — вставила она безапелляционно, приподняв брови), — таких прелестных детей? А вы, право, менее всех цените их и потому их не сто́ите.\n",
      "И она улыбнулась своею восторженной улыбкой.\n",
      "— Que voulez-vous? Lafater aurait dit que je n'ai pas la bosse de la paternité, — сказал князь.\n",
      "— Перестаньте шутить. Я хотела серьезно поговорить с вами. Знаете, я недовольна вашим меньшим сыном. Между нами будь сказано (лицо ее приняло грустное выражение), о нем говорили у ее величества и жалеют вас...\n",
      "Князь не отвечал, но она молча, значительно глядя на него, ждала ответа. Князь Василий поморщился.\n",
      "— Что ж мне делать? — сказал он наконец. — Вы знаете, я сделал для их воспитания все, что может отец, и оба вышли des imbéciles. Ипполит, по крайней мере, покойный дурак, а Анатоль — беспокойный. Вот одно различие, — сказал он, улыбаясь более неестественно и одушевленно, чем обыкновенно, и при этом особенно резко выказывая в сложившихся около его рта морщинах что-то неожиданно-грубое и неприятное.\n",
      "— И зачем родятся дети у таких людей, как вы? Ежели бы вы не были отец, я бы ни в чем не могла упрекнуть вас, — сказала Анна Павловна, задумчиво поднимая глаза.\n",
      "— Je suis votre верный раб, et à vous seule je puis l'avouer. Мои дети — ce sont les entraves de mon existence. Это мой крест. Я так себе объясняю. Que voulez-vous?..— Он помолчал, выражая жестом свою покорность жестокой судьбе.\n",
      "Анна Павловна задумалась.\n",
      "— Вы никогда не думали о том, чтобы женить вашего блудного сына Анатоля. Говорят, — сказала она, — что старые девицы ont la manie des mariages. Я еще не чувствую за собою этой слабости, но у меня есть одна petite personne, которая очень несчастлива с отцом, une parente à nous, une princesse Болконская. — Князь Василий не отвечал, хотя с свойственной светским людям быстротой соображения и памятью движением головы показал, что он принял к соображению это сведенье.\n",
      "— Нет, вы знаете ли, что этот Анатоль мне стоит сорок тысяч в год, — сказал он, видимо не в силах удерживать печальный ход своих мыслей. Он помолчал.\n",
      "— Что будет через пять лет, ежели это пойдет так? Voilà l'avantage d'être père. Она богата, ваша княжна?\n",
      "— Отец очень богат и скуп. Он живет в деревне. Знаете, этот известный князь Болконский, отставленный еще при покойном императоре и прозванный прусским королем. Он очень умный человек, но со странностями и тяжелый. La pauvre petite est malheureuse comme les pierres. У нее брат, вот что недавно женился на Lise Мейнен, адъютант Кутузова. Он будет нынче у меня.\n",
      "— Ecoutez, chère Annette, — сказал князь, взяв вдруг свою собеседницу за руку и пригибая ее почему-то книзу. — Arrangez-moi cette affaire et je suis votre вернейший раб à tout jamais (рап — comme mon староста m'écrit des донесенья: покой-ер-п). Она хорошей фамилии и богата. Все, что мне нужно.\n",
      "И он с теми свободными и фамильярными грациозными движениями, которые его отличали, взял за руку фрейлину, поцеловал ее и, поцеловав, помахал фрейлинскою рукой, развалившись на креслах и глядя в сторону.\n",
      "— Attendez, — сказала Анна Павловна, соображая. — Я нынче же поговорю Lise (la femme du jeune Болконский). И, может быть, это уладится. Ce sera dans votre famille que je ferai mon apprentissage de vieille fille.\n"
     ]
    }
   ],
   "source": [
    "# 编码格式\n",
    "from urllib.request import urlopen\n",
    "textPage = urlopen(\"http://www.pythonscraping.com/pages/warandpeace/chapter1-ru.txt\")\n",
    "print(str(textPage.read(),'utf-8'))"
   ]
  },
  {
   "cell_type": "code",
   "execution_count": 3,
   "metadata": {
    "collapsed": false
   },
   "outputs": [
    {
     "ename": "URLError",
     "evalue": "<urlopen error [WinError 10060] 由于连接方在一段时间后没有正确答复或连接的主机没有反应，连接尝试失败。>",
     "output_type": "error",
     "traceback": [
      "\u001b[0;31m---------------------------------------------------------------------------\u001b[0m",
      "\u001b[0;31mTimeoutError\u001b[0m                              Traceback (most recent call last)",
      "\u001b[0;32mC:\\Users\\13126\\Anaconda3\\lib\\urllib\\request.py\u001b[0m in \u001b[0;36mdo_open\u001b[0;34m(self, http_class, req, **http_conn_args)\u001b[0m\n\u001b[1;32m   1253\u001b[0m             \u001b[1;32mtry\u001b[0m\u001b[1;33m:\u001b[0m\u001b[1;33m\u001b[0m\u001b[0m\n\u001b[0;32m-> 1254\u001b[0;31m                 \u001b[0mh\u001b[0m\u001b[1;33m.\u001b[0m\u001b[0mrequest\u001b[0m\u001b[1;33m(\u001b[0m\u001b[0mreq\u001b[0m\u001b[1;33m.\u001b[0m\u001b[0mget_method\u001b[0m\u001b[1;33m(\u001b[0m\u001b[1;33m)\u001b[0m\u001b[1;33m,\u001b[0m \u001b[0mreq\u001b[0m\u001b[1;33m.\u001b[0m\u001b[0mselector\u001b[0m\u001b[1;33m,\u001b[0m \u001b[0mreq\u001b[0m\u001b[1;33m.\u001b[0m\u001b[0mdata\u001b[0m\u001b[1;33m,\u001b[0m \u001b[0mheaders\u001b[0m\u001b[1;33m)\u001b[0m\u001b[1;33m\u001b[0m\u001b[0m\n\u001b[0m\u001b[1;32m   1255\u001b[0m             \u001b[1;32mexcept\u001b[0m \u001b[0mOSError\u001b[0m \u001b[1;32mas\u001b[0m \u001b[0merr\u001b[0m\u001b[1;33m:\u001b[0m \u001b[1;31m# timeout error\u001b[0m\u001b[1;33m\u001b[0m\u001b[0m\n",
      "\u001b[0;32mC:\\Users\\13126\\Anaconda3\\lib\\http\\client.py\u001b[0m in \u001b[0;36mrequest\u001b[0;34m(self, method, url, body, headers)\u001b[0m\n\u001b[1;32m   1105\u001b[0m         \u001b[1;34m\"\"\"Send a complete request to the server.\"\"\"\u001b[0m\u001b[1;33m\u001b[0m\u001b[0m\n\u001b[0;32m-> 1106\u001b[0;31m         \u001b[0mself\u001b[0m\u001b[1;33m.\u001b[0m\u001b[0m_send_request\u001b[0m\u001b[1;33m(\u001b[0m\u001b[0mmethod\u001b[0m\u001b[1;33m,\u001b[0m \u001b[0murl\u001b[0m\u001b[1;33m,\u001b[0m \u001b[0mbody\u001b[0m\u001b[1;33m,\u001b[0m \u001b[0mheaders\u001b[0m\u001b[1;33m)\u001b[0m\u001b[1;33m\u001b[0m\u001b[0m\n\u001b[0m\u001b[1;32m   1107\u001b[0m \u001b[1;33m\u001b[0m\u001b[0m\n",
      "\u001b[0;32mC:\\Users\\13126\\Anaconda3\\lib\\http\\client.py\u001b[0m in \u001b[0;36m_send_request\u001b[0;34m(self, method, url, body, headers)\u001b[0m\n\u001b[1;32m   1150\u001b[0m             \u001b[0mbody\u001b[0m \u001b[1;33m=\u001b[0m \u001b[0m_encode\u001b[0m\u001b[1;33m(\u001b[0m\u001b[0mbody\u001b[0m\u001b[1;33m,\u001b[0m \u001b[1;34m'body'\u001b[0m\u001b[1;33m)\u001b[0m\u001b[1;33m\u001b[0m\u001b[0m\n\u001b[0;32m-> 1151\u001b[0;31m         \u001b[0mself\u001b[0m\u001b[1;33m.\u001b[0m\u001b[0mendheaders\u001b[0m\u001b[1;33m(\u001b[0m\u001b[0mbody\u001b[0m\u001b[1;33m)\u001b[0m\u001b[1;33m\u001b[0m\u001b[0m\n\u001b[0m\u001b[1;32m   1152\u001b[0m \u001b[1;33m\u001b[0m\u001b[0m\n",
      "\u001b[0;32mC:\\Users\\13126\\Anaconda3\\lib\\http\\client.py\u001b[0m in \u001b[0;36mendheaders\u001b[0;34m(self, message_body)\u001b[0m\n\u001b[1;32m   1101\u001b[0m             \u001b[1;32mraise\u001b[0m \u001b[0mCannotSendHeader\u001b[0m\u001b[1;33m(\u001b[0m\u001b[1;33m)\u001b[0m\u001b[1;33m\u001b[0m\u001b[0m\n\u001b[0;32m-> 1102\u001b[0;31m         \u001b[0mself\u001b[0m\u001b[1;33m.\u001b[0m\u001b[0m_send_output\u001b[0m\u001b[1;33m(\u001b[0m\u001b[0mmessage_body\u001b[0m\u001b[1;33m)\u001b[0m\u001b[1;33m\u001b[0m\u001b[0m\n\u001b[0m\u001b[1;32m   1103\u001b[0m \u001b[1;33m\u001b[0m\u001b[0m\n",
      "\u001b[0;32mC:\\Users\\13126\\Anaconda3\\lib\\http\\client.py\u001b[0m in \u001b[0;36m_send_output\u001b[0;34m(self, message_body)\u001b[0m\n\u001b[1;32m    933\u001b[0m \u001b[1;33m\u001b[0m\u001b[0m\n\u001b[0;32m--> 934\u001b[0;31m         \u001b[0mself\u001b[0m\u001b[1;33m.\u001b[0m\u001b[0msend\u001b[0m\u001b[1;33m(\u001b[0m\u001b[0mmsg\u001b[0m\u001b[1;33m)\u001b[0m\u001b[1;33m\u001b[0m\u001b[0m\n\u001b[0m\u001b[1;32m    935\u001b[0m         \u001b[1;32mif\u001b[0m \u001b[0mmessage_body\u001b[0m \u001b[1;32mis\u001b[0m \u001b[1;32mnot\u001b[0m \u001b[1;32mNone\u001b[0m\u001b[1;33m:\u001b[0m\u001b[1;33m\u001b[0m\u001b[0m\n",
      "\u001b[0;32mC:\\Users\\13126\\Anaconda3\\lib\\http\\client.py\u001b[0m in \u001b[0;36msend\u001b[0;34m(self, data)\u001b[0m\n\u001b[1;32m    876\u001b[0m             \u001b[1;32mif\u001b[0m \u001b[0mself\u001b[0m\u001b[1;33m.\u001b[0m\u001b[0mauto_open\u001b[0m\u001b[1;33m:\u001b[0m\u001b[1;33m\u001b[0m\u001b[0m\n\u001b[0;32m--> 877\u001b[0;31m                 \u001b[0mself\u001b[0m\u001b[1;33m.\u001b[0m\u001b[0mconnect\u001b[0m\u001b[1;33m(\u001b[0m\u001b[1;33m)\u001b[0m\u001b[1;33m\u001b[0m\u001b[0m\n\u001b[0m\u001b[1;32m    878\u001b[0m             \u001b[1;32melse\u001b[0m\u001b[1;33m:\u001b[0m\u001b[1;33m\u001b[0m\u001b[0m\n",
      "\u001b[0;32mC:\\Users\\13126\\Anaconda3\\lib\\http\\client.py\u001b[0m in \u001b[0;36mconnect\u001b[0;34m(self)\u001b[0m\n\u001b[1;32m    848\u001b[0m         self.sock = self._create_connection(\n\u001b[0;32m--> 849\u001b[0;31m             (self.host,self.port), self.timeout, self.source_address)\n\u001b[0m\u001b[1;32m    850\u001b[0m         \u001b[0mself\u001b[0m\u001b[1;33m.\u001b[0m\u001b[0msock\u001b[0m\u001b[1;33m.\u001b[0m\u001b[0msetsockopt\u001b[0m\u001b[1;33m(\u001b[0m\u001b[0msocket\u001b[0m\u001b[1;33m.\u001b[0m\u001b[0mIPPROTO_TCP\u001b[0m\u001b[1;33m,\u001b[0m \u001b[0msocket\u001b[0m\u001b[1;33m.\u001b[0m\u001b[0mTCP_NODELAY\u001b[0m\u001b[1;33m,\u001b[0m \u001b[1;36m1\u001b[0m\u001b[1;33m)\u001b[0m\u001b[1;33m\u001b[0m\u001b[0m\n",
      "\u001b[0;32mC:\\Users\\13126\\Anaconda3\\lib\\socket.py\u001b[0m in \u001b[0;36mcreate_connection\u001b[0;34m(address, timeout, source_address)\u001b[0m\n\u001b[1;32m    710\u001b[0m     \u001b[1;32mif\u001b[0m \u001b[0merr\u001b[0m \u001b[1;32mis\u001b[0m \u001b[1;32mnot\u001b[0m \u001b[1;32mNone\u001b[0m\u001b[1;33m:\u001b[0m\u001b[1;33m\u001b[0m\u001b[0m\n\u001b[0;32m--> 711\u001b[0;31m         \u001b[1;32mraise\u001b[0m \u001b[0merr\u001b[0m\u001b[1;33m\u001b[0m\u001b[0m\n\u001b[0m\u001b[1;32m    712\u001b[0m     \u001b[1;32melse\u001b[0m\u001b[1;33m:\u001b[0m\u001b[1;33m\u001b[0m\u001b[0m\n",
      "\u001b[0;32mC:\\Users\\13126\\Anaconda3\\lib\\socket.py\u001b[0m in \u001b[0;36mcreate_connection\u001b[0;34m(address, timeout, source_address)\u001b[0m\n\u001b[1;32m    701\u001b[0m                 \u001b[0msock\u001b[0m\u001b[1;33m.\u001b[0m\u001b[0mbind\u001b[0m\u001b[1;33m(\u001b[0m\u001b[0msource_address\u001b[0m\u001b[1;33m)\u001b[0m\u001b[1;33m\u001b[0m\u001b[0m\n\u001b[0;32m--> 702\u001b[0;31m             \u001b[0msock\u001b[0m\u001b[1;33m.\u001b[0m\u001b[0mconnect\u001b[0m\u001b[1;33m(\u001b[0m\u001b[0msa\u001b[0m\u001b[1;33m)\u001b[0m\u001b[1;33m\u001b[0m\u001b[0m\n\u001b[0m\u001b[1;32m    703\u001b[0m             \u001b[1;32mreturn\u001b[0m \u001b[0msock\u001b[0m\u001b[1;33m\u001b[0m\u001b[0m\n",
      "\u001b[0;31mTimeoutError\u001b[0m: [WinError 10060] 由于连接方在一段时间后没有正确答复或连接的主机没有反应，连接尝试失败。",
      "\nDuring handling of the above exception, another exception occurred:\n",
      "\u001b[0;31mURLError\u001b[0m                                  Traceback (most recent call last)",
      "\u001b[0;32m<ipython-input-3-4af124faa9bd>\u001b[0m in \u001b[0;36m<module>\u001b[0;34m()\u001b[0m\n\u001b[1;32m      3\u001b[0m \u001b[1;32mfrom\u001b[0m \u001b[0mbs4\u001b[0m \u001b[1;32mimport\u001b[0m \u001b[0mBeautifulSoup\u001b[0m\u001b[1;33m\u001b[0m\u001b[0m\n\u001b[1;32m      4\u001b[0m \u001b[1;33m\u001b[0m\u001b[0m\n\u001b[0;32m----> 5\u001b[0;31m \u001b[0mhtml\u001b[0m \u001b[1;33m=\u001b[0m \u001b[0murlopen\u001b[0m\u001b[1;33m(\u001b[0m\u001b[1;34m\"http://en.wikipedia.org/wiki/Python_(programming_language)\"\u001b[0m\u001b[1;33m)\u001b[0m\u001b[1;33m\u001b[0m\u001b[0m\n\u001b[0m\u001b[1;32m      6\u001b[0m \u001b[0mbsObj\u001b[0m \u001b[1;33m=\u001b[0m \u001b[0mBeautifulSoup\u001b[0m\u001b[1;33m(\u001b[0m\u001b[0mhtml\u001b[0m\u001b[1;33m)\u001b[0m\u001b[1;33m\u001b[0m\u001b[0m\n\u001b[1;32m      7\u001b[0m \u001b[0mcontent1\u001b[0m \u001b[1;33m=\u001b[0m \u001b[0mbsObj\u001b[0m\u001b[1;33m.\u001b[0m\u001b[0mfind\u001b[0m\u001b[1;33m(\u001b[0m\u001b[1;34m\"div\"\u001b[0m\u001b[1;33m,\u001b[0m \u001b[1;33m{\u001b[0m\u001b[1;34m\"id\"\u001b[0m\u001b[1;33m:\u001b[0m\u001b[1;34m\"mw-content-text\"\u001b[0m\u001b[1;33m}\u001b[0m\u001b[1;33m)\u001b[0m\u001b[1;33m.\u001b[0m\u001b[0mget_text\u001b[0m\u001b[1;33m(\u001b[0m\u001b[1;33m)\u001b[0m\u001b[1;33m\u001b[0m\u001b[0m\n",
      "\u001b[0;32mC:\\Users\\13126\\Anaconda3\\lib\\urllib\\request.py\u001b[0m in \u001b[0;36murlopen\u001b[0;34m(url, data, timeout, cafile, capath, cadefault, context)\u001b[0m\n\u001b[1;32m    161\u001b[0m     \u001b[1;32melse\u001b[0m\u001b[1;33m:\u001b[0m\u001b[1;33m\u001b[0m\u001b[0m\n\u001b[1;32m    162\u001b[0m         \u001b[0mopener\u001b[0m \u001b[1;33m=\u001b[0m \u001b[0m_opener\u001b[0m\u001b[1;33m\u001b[0m\u001b[0m\n\u001b[0;32m--> 163\u001b[0;31m     \u001b[1;32mreturn\u001b[0m \u001b[0mopener\u001b[0m\u001b[1;33m.\u001b[0m\u001b[0mopen\u001b[0m\u001b[1;33m(\u001b[0m\u001b[0murl\u001b[0m\u001b[1;33m,\u001b[0m \u001b[0mdata\u001b[0m\u001b[1;33m,\u001b[0m \u001b[0mtimeout\u001b[0m\u001b[1;33m)\u001b[0m\u001b[1;33m\u001b[0m\u001b[0m\n\u001b[0m\u001b[1;32m    164\u001b[0m \u001b[1;33m\u001b[0m\u001b[0m\n\u001b[1;32m    165\u001b[0m \u001b[1;32mdef\u001b[0m \u001b[0minstall_opener\u001b[0m\u001b[1;33m(\u001b[0m\u001b[0mopener\u001b[0m\u001b[1;33m)\u001b[0m\u001b[1;33m:\u001b[0m\u001b[1;33m\u001b[0m\u001b[0m\n",
      "\u001b[0;32mC:\\Users\\13126\\Anaconda3\\lib\\urllib\\request.py\u001b[0m in \u001b[0;36mopen\u001b[0;34m(self, fullurl, data, timeout)\u001b[0m\n\u001b[1;32m    464\u001b[0m             \u001b[0mreq\u001b[0m \u001b[1;33m=\u001b[0m \u001b[0mmeth\u001b[0m\u001b[1;33m(\u001b[0m\u001b[0mreq\u001b[0m\u001b[1;33m)\u001b[0m\u001b[1;33m\u001b[0m\u001b[0m\n\u001b[1;32m    465\u001b[0m \u001b[1;33m\u001b[0m\u001b[0m\n\u001b[0;32m--> 466\u001b[0;31m         \u001b[0mresponse\u001b[0m \u001b[1;33m=\u001b[0m \u001b[0mself\u001b[0m\u001b[1;33m.\u001b[0m\u001b[0m_open\u001b[0m\u001b[1;33m(\u001b[0m\u001b[0mreq\u001b[0m\u001b[1;33m,\u001b[0m \u001b[0mdata\u001b[0m\u001b[1;33m)\u001b[0m\u001b[1;33m\u001b[0m\u001b[0m\n\u001b[0m\u001b[1;32m    467\u001b[0m \u001b[1;33m\u001b[0m\u001b[0m\n\u001b[1;32m    468\u001b[0m         \u001b[1;31m# post-process response\u001b[0m\u001b[1;33m\u001b[0m\u001b[1;33m\u001b[0m\u001b[0m\n",
      "\u001b[0;32mC:\\Users\\13126\\Anaconda3\\lib\\urllib\\request.py\u001b[0m in \u001b[0;36m_open\u001b[0;34m(self, req, data)\u001b[0m\n\u001b[1;32m    482\u001b[0m         \u001b[0mprotocol\u001b[0m \u001b[1;33m=\u001b[0m \u001b[0mreq\u001b[0m\u001b[1;33m.\u001b[0m\u001b[0mtype\u001b[0m\u001b[1;33m\u001b[0m\u001b[0m\n\u001b[1;32m    483\u001b[0m         result = self._call_chain(self.handle_open, protocol, protocol +\n\u001b[0;32m--> 484\u001b[0;31m                                   '_open', req)\n\u001b[0m\u001b[1;32m    485\u001b[0m         \u001b[1;32mif\u001b[0m \u001b[0mresult\u001b[0m\u001b[1;33m:\u001b[0m\u001b[1;33m\u001b[0m\u001b[0m\n\u001b[1;32m    486\u001b[0m             \u001b[1;32mreturn\u001b[0m \u001b[0mresult\u001b[0m\u001b[1;33m\u001b[0m\u001b[0m\n",
      "\u001b[0;32mC:\\Users\\13126\\Anaconda3\\lib\\urllib\\request.py\u001b[0m in \u001b[0;36m_call_chain\u001b[0;34m(self, chain, kind, meth_name, *args)\u001b[0m\n\u001b[1;32m    442\u001b[0m         \u001b[1;32mfor\u001b[0m \u001b[0mhandler\u001b[0m \u001b[1;32min\u001b[0m \u001b[0mhandlers\u001b[0m\u001b[1;33m:\u001b[0m\u001b[1;33m\u001b[0m\u001b[0m\n\u001b[1;32m    443\u001b[0m             \u001b[0mfunc\u001b[0m \u001b[1;33m=\u001b[0m \u001b[0mgetattr\u001b[0m\u001b[1;33m(\u001b[0m\u001b[0mhandler\u001b[0m\u001b[1;33m,\u001b[0m \u001b[0mmeth_name\u001b[0m\u001b[1;33m)\u001b[0m\u001b[1;33m\u001b[0m\u001b[0m\n\u001b[0;32m--> 444\u001b[0;31m             \u001b[0mresult\u001b[0m \u001b[1;33m=\u001b[0m \u001b[0mfunc\u001b[0m\u001b[1;33m(\u001b[0m\u001b[1;33m*\u001b[0m\u001b[0margs\u001b[0m\u001b[1;33m)\u001b[0m\u001b[1;33m\u001b[0m\u001b[0m\n\u001b[0m\u001b[1;32m    445\u001b[0m             \u001b[1;32mif\u001b[0m \u001b[0mresult\u001b[0m \u001b[1;32mis\u001b[0m \u001b[1;32mnot\u001b[0m \u001b[1;32mNone\u001b[0m\u001b[1;33m:\u001b[0m\u001b[1;33m\u001b[0m\u001b[0m\n\u001b[1;32m    446\u001b[0m                 \u001b[1;32mreturn\u001b[0m \u001b[0mresult\u001b[0m\u001b[1;33m\u001b[0m\u001b[0m\n",
      "\u001b[0;32mC:\\Users\\13126\\Anaconda3\\lib\\urllib\\request.py\u001b[0m in \u001b[0;36mhttp_open\u001b[0;34m(self, req)\u001b[0m\n\u001b[1;32m   1280\u001b[0m \u001b[1;33m\u001b[0m\u001b[0m\n\u001b[1;32m   1281\u001b[0m     \u001b[1;32mdef\u001b[0m \u001b[0mhttp_open\u001b[0m\u001b[1;33m(\u001b[0m\u001b[0mself\u001b[0m\u001b[1;33m,\u001b[0m \u001b[0mreq\u001b[0m\u001b[1;33m)\u001b[0m\u001b[1;33m:\u001b[0m\u001b[1;33m\u001b[0m\u001b[0m\n\u001b[0;32m-> 1282\u001b[0;31m         \u001b[1;32mreturn\u001b[0m \u001b[0mself\u001b[0m\u001b[1;33m.\u001b[0m\u001b[0mdo_open\u001b[0m\u001b[1;33m(\u001b[0m\u001b[0mhttp\u001b[0m\u001b[1;33m.\u001b[0m\u001b[0mclient\u001b[0m\u001b[1;33m.\u001b[0m\u001b[0mHTTPConnection\u001b[0m\u001b[1;33m,\u001b[0m \u001b[0mreq\u001b[0m\u001b[1;33m)\u001b[0m\u001b[1;33m\u001b[0m\u001b[0m\n\u001b[0m\u001b[1;32m   1283\u001b[0m \u001b[1;33m\u001b[0m\u001b[0m\n\u001b[1;32m   1284\u001b[0m     \u001b[0mhttp_request\u001b[0m \u001b[1;33m=\u001b[0m \u001b[0mAbstractHTTPHandler\u001b[0m\u001b[1;33m.\u001b[0m\u001b[0mdo_request_\u001b[0m\u001b[1;33m\u001b[0m\u001b[0m\n",
      "\u001b[0;32mC:\\Users\\13126\\Anaconda3\\lib\\urllib\\request.py\u001b[0m in \u001b[0;36mdo_open\u001b[0;34m(self, http_class, req, **http_conn_args)\u001b[0m\n\u001b[1;32m   1254\u001b[0m                 \u001b[0mh\u001b[0m\u001b[1;33m.\u001b[0m\u001b[0mrequest\u001b[0m\u001b[1;33m(\u001b[0m\u001b[0mreq\u001b[0m\u001b[1;33m.\u001b[0m\u001b[0mget_method\u001b[0m\u001b[1;33m(\u001b[0m\u001b[1;33m)\u001b[0m\u001b[1;33m,\u001b[0m \u001b[0mreq\u001b[0m\u001b[1;33m.\u001b[0m\u001b[0mselector\u001b[0m\u001b[1;33m,\u001b[0m \u001b[0mreq\u001b[0m\u001b[1;33m.\u001b[0m\u001b[0mdata\u001b[0m\u001b[1;33m,\u001b[0m \u001b[0mheaders\u001b[0m\u001b[1;33m)\u001b[0m\u001b[1;33m\u001b[0m\u001b[0m\n\u001b[1;32m   1255\u001b[0m             \u001b[1;32mexcept\u001b[0m \u001b[0mOSError\u001b[0m \u001b[1;32mas\u001b[0m \u001b[0merr\u001b[0m\u001b[1;33m:\u001b[0m \u001b[1;31m# timeout error\u001b[0m\u001b[1;33m\u001b[0m\u001b[0m\n\u001b[0;32m-> 1256\u001b[0;31m                 \u001b[1;32mraise\u001b[0m \u001b[0mURLError\u001b[0m\u001b[1;33m(\u001b[0m\u001b[0merr\u001b[0m\u001b[1;33m)\u001b[0m\u001b[1;33m\u001b[0m\u001b[0m\n\u001b[0m\u001b[1;32m   1257\u001b[0m             \u001b[0mr\u001b[0m \u001b[1;33m=\u001b[0m \u001b[0mh\u001b[0m\u001b[1;33m.\u001b[0m\u001b[0mgetresponse\u001b[0m\u001b[1;33m(\u001b[0m\u001b[1;33m)\u001b[0m\u001b[1;33m\u001b[0m\u001b[0m\n\u001b[1;32m   1258\u001b[0m         \u001b[1;32mexcept\u001b[0m\u001b[1;33m:\u001b[0m\u001b[1;33m\u001b[0m\u001b[0m\n",
      "\u001b[0;31mURLError\u001b[0m: <urlopen error [WinError 10060] 由于连接方在一段时间后没有正确答复或连接的主机没有反应，连接尝试失败。>"
     ]
    }
   ],
   "source": [
    "# 用 BeautifulSoup 和 Python 3.x 对文档进行 UTF-8 编码\n",
    "from urllib.request import urlopen\n",
    "from bs4 import BeautifulSoup\n",
    "\n",
    "html = urlopen(\"http://en.wikipedia.org/wiki/Python_(programming_language)\")\n",
    "bsObj = BeautifulSoup(html)\n",
    "content1 = bsObj.find(\"div\", {\"id\":\"mw-content-text\"}).get_text()\n",
    "print(str(content1))\n",
    "content2 = bytes(content1, \"UTF-8\")\n",
    "print(str(content2))\n",
    "content3 = content2.decode(\"UTF-8\")\n",
    "print(str(content3))"
   ]
  },
  {
   "cell_type": "markdown",
   "metadata": {},
   "source": [
    "#### 1.2 CSV"
   ]
  },
  {
   "cell_type": "code",
   "execution_count": 4,
   "metadata": {
    "collapsed": false
   },
   "outputs": [
    {
     "name": "stdout",
     "output_type": "stream",
     "text": [
      "['Name', 'Year']\n",
      "[\"Monty Python's Flying Circus\", '1970']\n",
      "['Another Monty Python Record', '1971']\n",
      "[\"Monty Python's Previous Record\", '1972']\n",
      "['The Monty Python Matching Tie and Handkerchief', '1973']\n",
      "['Monty Python Live at Drury Lane', '1974']\n",
      "['An Album of the Soundtrack of the Trailer of the Film of Monty Python and the Holy Grail', '1975']\n",
      "['Monty Python Live at City Center', '1977']\n",
      "['The Monty Python Instant Record Collection', '1977']\n",
      "[\"Monty Python's Life of Brian\", '1979']\n",
      "[\"Monty Python's Cotractual Obligation Album\", '1980']\n",
      "[\"Monty Python's The Meaning of Life\", '1983']\n",
      "['The Final Rip Off', '1987']\n",
      "['Monty Python Sings', '1989']\n",
      "['The Ultimate Monty Python Rip Off', '1994']\n",
      "['Monty Python Sings Again', '2014']\n"
     ]
    }
   ],
   "source": [
    "from urllib.request import urlopen\n",
    "from io import StringIO\n",
    "import csv\n",
    "data = urlopen(\"http://pythonscraping.com/files/MontyPythonAlbums.csv\").read().decode('ascii', 'ignore')\n",
    "dataFile = StringIO(data)#直接把文件读成字符串，然后封装成 StringIO 对象\n",
    "csvReader = csv.reader(dataFile) \n",
    "for row in csvReader:\n",
    "    print(row)"
   ]
  },
  {
   "cell_type": "code",
   "execution_count": 5,
   "metadata": {
    "collapsed": false
   },
   "outputs": [
    {
     "name": "stdout",
     "output_type": "stream",
     "text": [
      "The album \"Name\" was released in Year\n",
      "The album \"Monty Python's Flying Circus\" was released in 1970\n",
      "The album \"Another Monty Python Record\" was released in 1971\n",
      "The album \"Monty Python's Previous Record\" was released in 1972\n",
      "The album \"The Monty Python Matching Tie and Handkerchief\" was released in 1973\n",
      "The album \"Monty Python Live at Drury Lane\" was released in 1974\n",
      "The album \"An Album of the Soundtrack of the Trailer of the Film of Monty Python and the Holy Grail\" was released in 1975\n",
      "The album \"Monty Python Live at City Center\" was released in 1977\n",
      "The album \"The Monty Python Instant Record Collection\" was released in 1977\n",
      "The album \"Monty Python's Life of Brian\" was released in 1979\n",
      "The album \"Monty Python's Cotractual Obligation Album\" was released in 1980\n",
      "The album \"Monty Python's The Meaning of Life\" was released in 1983\n",
      "The album \"The Final Rip Off\" was released in 1987\n",
      "The album \"Monty Python Sings\" was released in 1989\n",
      "The album \"The Ultimate Monty Python Rip Off\" was released in 1994\n",
      "The album \"Monty Python Sings Again\" was released in 2014\n"
     ]
    }
   ],
   "source": [
    "from urllib.request import urlopen\n",
    "from io import StringIO\n",
    "import csv\n",
    "data = urlopen(\"http://pythonscraping.com/files/MontyPythonAlbums.csv\").read().decode('ascii', 'ignore')\n",
    "dataFile = StringIO(data)#直接把文件读成字符串，然后封装成 StringIO 对象\n",
    "csvReader = csv.reader(dataFile) \n",
    "for row in csvReader:\n",
    "    print(\"The album \\\"\"+row[0]+\"\\\" was released in \"+str(row[1]))#row[0]是该行的第一个，row[1]是该行的第二个"
   ]
  },
  {
   "cell_type": "code",
   "execution_count": 6,
   "metadata": {
    "collapsed": false
   },
   "outputs": [
    {
     "name": "stdout",
     "output_type": "stream",
     "text": [
      "['Name', 'Year']\n",
      "{'Name': \"Monty Python's Flying Circus\", 'Year': '1970'}\n",
      "{'Name': 'Another Monty Python Record', 'Year': '1971'}\n",
      "{'Name': \"Monty Python's Previous Record\", 'Year': '1972'}\n",
      "{'Name': 'The Monty Python Matching Tie and Handkerchief', 'Year': '1973'}\n",
      "{'Name': 'Monty Python Live at Drury Lane', 'Year': '1974'}\n",
      "{'Name': 'An Album of the Soundtrack of the Trailer of the Film of Monty Python and the Holy Grail', 'Year': '1975'}\n",
      "{'Name': 'Monty Python Live at City Center', 'Year': '1977'}\n",
      "{'Name': 'The Monty Python Instant Record Collection', 'Year': '1977'}\n",
      "{'Name': \"Monty Python's Life of Brian\", 'Year': '1979'}\n",
      "{'Name': \"Monty Python's Cotractual Obligation Album\", 'Year': '1980'}\n",
      "{'Name': \"Monty Python's The Meaning of Life\", 'Year': '1983'}\n",
      "{'Name': 'The Final Rip Off', 'Year': '1987'}\n",
      "{'Name': 'Monty Python Sings', 'Year': '1989'}\n",
      "{'Name': 'The Ultimate Monty Python Rip Off', 'Year': '1994'}\n",
      "{'Name': 'Monty Python Sings Again', 'Year': '2014'}\n"
     ]
    }
   ],
   "source": [
    "#  csv.DictReader处理第一行\n",
    "from urllib.request import urlopen \n",
    "from io import StringIO \n",
    "import csv \n",
    "data = urlopen(\"http://pythonscraping.com/files/MontyPythonAlbums.csv\").read().decode('ascii', 'ignore') \n",
    "dataFile = StringIO(data) \n",
    "dictReader = csv.DictReader(dataFile) \n",
    "print(dictReader.fieldnames) #打印表域\n",
    "for row in dictReader:\n",
    "    print(row)"
   ]
  },
  {
   "cell_type": "markdown",
   "metadata": {},
   "source": [
    "#### 1.3 PDF"
   ]
  },
  {
   "cell_type": "code",
   "execution_count": 7,
   "metadata": {
    "collapsed": false
   },
   "outputs": [
    {
     "name": "stdout",
     "output_type": "stream",
     "text": [
      "CHAPTER I\n",
      "\n",
      "\"Well, Prince, so Genoa and Lucca are now just family estates of \n",
      "theBuonapartes. But I warn you, if you don't tell me that this \n",
      "means war,if you still try to defend the infamies and horrors \n",
      "perpetrated bythat Antichrist- I really believe he is Antichrist- I will \n",
      "havenothing more to do with you and you are no longer my friend, \n",
      "no longermy 'faithful slave,' as you call yourself! But how do you \n",
      "do? I seeI have frightened you- sit down and tell me all the news.\"\n",
      "\n",
      "It was in July, 1805, and the speaker was the well-known \n",
      "AnnaPavlovna Scherer, maid of honor and favorite of the \n",
      "Empress MaryaFedorovna. With these words she greeted Prince \n",
      "Vasili Kuragin, a manof high rank and importance, who was the \n",
      "first to arrive at herreception. Anna Pavlovna had had a cough for \n",
      "some days. She was, asshe said, suffering from la grippe; grippe \n",
      "being then a new word inSt. Petersburg, used only by the elite.\n",
      "\n",
      "All her invitations without exception, written in French, \n",
      "anddelivered by a scarlet-liveried footman that morning, ran as \n",
      "follows:\n",
      "\n",
      "\"If you have nothing better to do, Count [or Prince], and if \n",
      "theprospect of spending an evening with a poor invalid is not \n",
      "tooterrible, I shall be very charmed to see you tonight between 7 \n",
      "and 10-Annette Scherer.\"\n",
      "\n",
      "\"Heavens! what a virulent attack!\" replied the prince, not in \n",
      "theleast disconcerted by this reception. He had just entered, \n",
      "wearingan embroidered court uniform, knee breeches, and shoes, \n",
      "and hadstars on his breast and a serene expression on his flat \n",
      "face. He spokein that refined French in which our grandfathers \n",
      "not only spoke butthought, and with the gentle, patronizing \n",
      "intonation natural to aman of importance who had grown old in \n",
      "society and at court. He wentup to Anna Pavlovna, kissed her \n",
      "hand, presenting to her his bald,scented, and shining head, and \n",
      "\n",
      "\f",
      "complacently seated himself on thesofa.\n",
      "\n",
      "\"First of all, dear friend, tell me how you are. Set your friend'smind \n",
      "at rest,\" said he without altering his tone, beneath thepoliteness \n",
      "and affected sympathy of which indifference and evenirony could \n",
      "be discerned.\n",
      "\n",
      "\"Can one be well while suffering morally? Can one be calm in \n",
      "timeslike these if one has any feeling?\" said Anna Pavlovna. \"You \n",
      "arestaying the whole evening, I hope?\"\n",
      "\n",
      "\"And the fete at the English ambassador's? Today is Wednesday. \n",
      "Imust put in an appearance there,\" said the prince. \"My daughter \n",
      "iscoming for me to take me there.\"\n",
      "\n",
      "\"I thought today's fete had been canceled. I confess all \n",
      "thesefestivities and fireworks are becoming wearisome.\"\n",
      "\n",
      "\"If they had known that you wished it, the entertainment \n",
      "wouldhave been put off,\" said the prince, who, like a wound-up \n",
      "clock, byforce of habit said things he did not even wish to be \n",
      "believed.\n",
      "\n",
      "\"Don't tease! Well, and what has been decided about \n",
      "Novosiltsev'sdispatch? You know everything.\"\n",
      "\n",
      "\"What can one say about it?\" replied the prince in a cold,listless \n",
      "tone. \"What has been decided? They have decided \n",
      "thatBuonaparte has burnt his boats, and I believe that we are \n",
      "ready toburn ours.\"\n",
      "\n",
      "Prince Vasili always spoke languidly, like an actor repeating astale \n",
      "part. Anna Pavlovna Scherer on the contrary, despite her \n",
      "fortyyears, overflowed with animation and impulsiveness. To be \n",
      "anenthusiast had become her social vocation and, sometimes \n",
      "even when shedid not feel like it, she became enthusiastic in \n",
      "\n",
      "\f",
      "order not todisappoint the expectations of those who knew her. \n",
      "The subdued smilewhich, though it did not suit her faded features, \n",
      "always playedround her lips expressed, as in a spoiled child, a \n",
      "continualconsciousness of her charming defect, which she neither \n",
      "wished, norcould, nor considered it necessary, to correct.\n",
      "\n",
      "In the midst of a conversation on political matters Anna \n",
      "Pavlovnaburst out:\n",
      "\n",
      "\"Oh, don't speak to me of Austria. Perhaps I don't \n",
      "understandthings, but Austria never has wished, and does not \n",
      "wish, for war.She is betraying us! Russia alone must save \n",
      "Europe. Our gracioussovereign recognizes his high vocation and \n",
      "will be true to it. That isthe one thing I have faith in! Our good and \n",
      "wonderful sovereign has toperform the noblest role on earth, and \n",
      "he is so virtuous and noblethat God will not forsake him. He will \n",
      "fulfill his vocation andcrush the hydra of revolution, which has \n",
      "become more terrible thanever in the person of this murderer and \n",
      "villain! We alone mustavenge the blood of the just one.... Whom, I \n",
      "ask you, can we relyon?... England with her commercial spirit will \n",
      "not and cannotunderstand the Emperor Alexander's loftiness of \n",
      "soul. She hasrefused to evacuate Malta. She wanted to find, and \n",
      "still seeks, somesecret motive in our actions. What answer did \n",
      "Novosiltsev get? None.The English have not understood and \n",
      "cannot understand theself-abnegation of our Emperor who wants \n",
      "nothing for himself, but onlydesires the good of mankind. And \n",
      "what have they promised? Nothing! Andwhat little they have \n",
      "promised they will not perform! Prussia hasalways declared that \n",
      "Buonaparte is invincible, and that all Europeis powerless before \n",
      "him.... And I don't believe a word that Hardenburgsays, or \n",
      "Haugwitz either. This famous Prussian neutrality is just atrap. I \n",
      "have faith only in God and the lofty destiny of our adoredmonarch. \n",
      "He will save Europe!\"\n",
      "\n",
      "She suddenly paused, smiling at her own impetuosity.\n",
      "\n",
      "\f",
      "\"I think,\" said the prince with a smile, \"that if you had beensent \n",
      "instead of our dear Wintzingerode you would have captured \n",
      "theKing of Prussia's consent by assault. You are so eloquent. Will \n",
      "yougive me a cup of tea?\"\n",
      "\n",
      "\"In a moment. A propos,\" she added, becoming calm again, \"I \n",
      "amexpecting two very interesting men tonight, le Vicomte de \n",
      "Mortemart,who is connected with the Montmorencys through the \n",
      "Rohans, one ofthe best French families. He is one of the genuine \n",
      "emigres, the goodones. And also the Abbe Morio. Do you know \n",
      "that profound thinker? Hehas been received by the Emperor. Had \n",
      "you heard?\"\n",
      "\n",
      "\"I shall be delighted to meet them,\" said the prince. \"But tell \n",
      "me,\"he added with studied carelessness as if it had only just \n",
      "occurredto him, though the question he was about to ask was the \n",
      "chief motiveof his visit, \"is it true that the Dowager Empress wants \n",
      "Baron Funketo be appointed first secretary at Vienna? The baron \n",
      "by all accountsis a poor creature.\"\n",
      "\n",
      "Prince Vasili wished to obtain this post for his son, but otherswere \n",
      "trying through the Dowager Empress Marya Fedorovna to secure \n",
      "itfor the baron.\n",
      "\n",
      "Anna Pavlovna almost closed her eyes to indicate that neither \n",
      "shenor anyone else had a right to criticize what the Empress \n",
      "desired orwas pleased with.\n",
      "\n",
      "\"Baron Funke has been recommended to the Dowager Empress \n",
      "by hersister,\" was all she said, in a dry and mournful tone.\n",
      "\n",
      "As she named the Empress, Anna Pavlovna's face suddenly \n",
      "assumed anexpression of profound and sincere devotion and \n",
      "respect mingled withsadness, and this occurred every time she \n",
      "mentioned her illustriouspatroness. She added that Her Majesty \n",
      "had deigned to show BaronFunke beaucoup d'estime, and again \n",
      "\n",
      "\f",
      "her face clouded over with sadness.\n",
      "\n",
      "The prince was silent and looked indifferent. But, with thewomanly \n",
      "and courtierlike quickness and tact habitual to her, AnnaPavlovna \n",
      "wished both to rebuke him (for daring to speak he had done ofa \n",
      "man recommended to the Empress) and at the same time to \n",
      "console him,so she said:\n",
      "\n",
      "\"Now about your family. Do you know that since your daughter \n",
      "cameout everyone has been enraptured by her? They say she is \n",
      "amazinglybeautiful.\"\n",
      "\n",
      "The prince bowed to signify his respect and gratitude.\n",
      "\n",
      "\"I often think,\" she continued after a short pause, drawing \n",
      "nearerto the prince and smiling amiably at him as if to show \n",
      "thatpolitical and social topics were ended and the time had come \n",
      "forintimate conversation- \"I often think how unfairly sometimes \n",
      "thejoys of life are distributed. Why has fate given you two such \n",
      "splendidchildren? I don't speak of Anatole, your youngest. I don't \n",
      "likehim,\" she added in a tone admitting of no rejoinder and raising \n",
      "hereyebrows. \"Two such charming children. And really you \n",
      "appreciatethem less than anyone, and so you don't deserve to \n",
      "have them.\"\n",
      "\n",
      "And she smiled her ecstatic smile.\n",
      "\n",
      "\"I can't help it,\" said the prince. \"Lavater would have said Ilack the \n",
      "bump of paternity.\"\n",
      "\n",
      "\"Don't joke; I mean to have a serious talk with you. Do you know \n",
      "Iam dissatisfied with your younger son? Between ourselves\" (and \n",
      "herface assumed its melancholy expression), \"he was mentioned \n",
      "at HerMajesty's and you were pitied....\"\n",
      "\n",
      "The prince answered nothing, but she looked at him \n",
      "\n",
      "\f",
      "significantly,awaiting a reply. He frowned.\n",
      "\n",
      "\"What would you have me do?\" he said at last. \"You know I did \n",
      "alla father could for their education, and they have both turned \n",
      "outfools. Hippolyte is at least a quiet fool, but Anatole is an \n",
      "activeone. That is the only difference between them.\" He said this \n",
      "smilingin a way more natural and animated than usual, so that the \n",
      "wrinklesround his mouth very clearly revealed something \n",
      "unexpectedly coarseand unpleasant.\n",
      "\n",
      "\"And why are children born to such men as you? If you were not \n",
      "afather there would be nothing I could reproach you with,\" said \n",
      "AnnaPavlovna, looking up pensively.\n",
      "\n",
      "\"I am your faithful slave and to you alone I can confess that \n",
      "mychildren are the bane of my life. It is the cross I have to bear. \n",
      "Thatis how I explain it to myself. It can't be helped!\"\n",
      "\n",
      "He said no more, but expressed his resignation to cruel fate by \n",
      "agesture. Anna Pavlovna meditated.\n",
      "\n",
      "\"Have you never thought of marrying your prodigal son \n",
      "Anatole?\"she asked. \"They say old maids have a mania for \n",
      "matchmaking, andthough I don't feel that weakness in myself as \n",
      "yet,I know a littleperson who is very unhappy with her father. She \n",
      "is a relation ofyours, Princess Mary Bolkonskaya.\"\n",
      "\n",
      "Prince Vasili did not reply, though, with the quickness of \n",
      "memoryand perception befitting a man of the world, he indicated \n",
      "by amovement of the head that he was considering this \n",
      "information.\n",
      "\n",
      "\"Do you know,\" he said at last, evidently unable to check the \n",
      "sadcurrent of his thoughts, \"that Anatole is costing me forty \n",
      "thousandrubles a year? And,\" he went on after a pause, \"what will \n",
      "it be infive years, if he goes on like this?\" Presently he added: \n",
      "\n",
      "\f",
      "\"That's whatwe fathers have to put up with.... Is this princess of \n",
      "yours rich?\"\n",
      "\n",
      "\"Her father is very rich and stingy. He lives in the country. Heis the \n",
      "well-known Prince Bolkonski who had to retire from the \n",
      "armyunder the late Emperor, and was nicknamed 'the King of \n",
      "Prussia.' He isvery clever but eccentric, and a bore. The poor girl \n",
      "is veryunhappy. She has a brother; I think you know him, he \n",
      "married LiseMeinen lately. He is an aide-de-camp of Kutuzov's \n",
      "and will be heretonight.\"\n",
      "\n",
      "\"Listen, dear Annette,\" said the prince, suddenly taking \n",
      "AnnaPavlovna's hand and for some reason drawing it \n",
      "downwards. \"Arrangethat affair for me and I shall always be your \n",
      "most devoted slave-slafe wigh an f, as a village elder of mine \n",
      "writes in his reports. Sheis rich and of good family and that's all I \n",
      "want.\"\n",
      "\n",
      "And with the familiarity and easy grace peculiar to him, he \n",
      "raisedthe maid of honor's hand to his lips, kissed it, and swung it \n",
      "to andfro as he lay back in his armchair, looking in another \n",
      "direction.\n",
      "\n",
      "\"Attendez,\" said Anna Pavlovna, reflecting, \"I'll speak to \n",
      "Lise,young Bolkonski's wife, this very evening, and perhaps the \n",
      "thing canbe arranged. It shall be on your family's behalf that I'll \n",
      "start myapprenticeship as old maid.\"\n",
      "\n",
      "\f",
      "\n"
     ]
    }
   ],
   "source": [
    "from urllib.request import urlopen \n",
    "from pdfminer.pdfinterp import PDFResourceManager, process_pdf \n",
    "from pdfminer.converter import TextConverter \n",
    "from pdfminer.layout import LAParams \n",
    "from io import StringIO \n",
    "from io import open \n",
    " \n",
    "def readPDF(pdfFile):\n",
    "    rsrcmgr = PDFResourceManager()     \n",
    "    retstr = StringIO()     \n",
    "    laparams = LAParams()     \n",
    "    device = TextConverter(rsrcmgr, retstr, laparams=laparams) \n",
    " \n",
    "    process_pdf(rsrcmgr, device, pdfFile)     \n",
    "    device.close() \n",
    " \n",
    "    content = retstr.getvalue()     \n",
    "    retstr.close()     \n",
    "    return content \n",
    " \n",
    "pdfFile = urlopen(\"http://pythonscraping.com/pages/warandpeace/chapter1.pdf\")\n",
    "# pdfFile = open(\"../pages/warandpeace/chapter1.pdf\", 'rb')\n",
    "outputString = readPDF(pdfFile) \n",
    "print(outputString) \n",
    "pdfFile.close()"
   ]
  },
  {
   "cell_type": "markdown",
   "metadata": {},
   "source": [
    "#### 1.4 微软Word和.docx"
   ]
  },
  {
   "cell_type": "code",
   "execution_count": 8,
   "metadata": {
    "collapsed": false
   },
   "outputs": [
    {
     "name": "stdout",
     "output_type": "stream",
     "text": [
      "<?xml version=\"1.0\" encoding=\"UTF-8\" standalone=\"yes\"?>\r\n",
      "<w:document xmlns:wpc=\"http://schemas.microsoft.com/office/word/2010/wordprocessingCanvas\" xmlns:mc=\"http://schemas.openxmlformats.org/markup-compatibility/2006\" xmlns:o=\"urn:schemas-microsoft-com:office:office\" xmlns:r=\"http://schemas.openxmlformats.org/officeDocument/2006/relationships\" xmlns:m=\"http://schemas.openxmlformats.org/officeDocument/2006/math\" xmlns:v=\"urn:schemas-microsoft-com:vml\" xmlns:wp14=\"http://schemas.microsoft.com/office/word/2010/wordprocessingDrawing\" xmlns:wp=\"http://schemas.openxmlformats.org/drawingml/2006/wordprocessingDrawing\" xmlns:w10=\"urn:schemas-microsoft-com:office:word\" xmlns:w=\"http://schemas.openxmlformats.org/wordprocessingml/2006/main\" xmlns:w14=\"http://schemas.microsoft.com/office/word/2010/wordml\" xmlns:w15=\"http://schemas.microsoft.com/office/word/2012/wordml\" xmlns:wpg=\"http://schemas.microsoft.com/office/word/2010/wordprocessingGroup\" xmlns:wpi=\"http://schemas.microsoft.com/office/word/2010/wordprocessingInk\" xmlns:wne=\"http://schemas.microsoft.com/office/word/2006/wordml\" xmlns:wps=\"http://schemas.microsoft.com/office/word/2010/wordprocessingShape\" mc:Ignorable=\"w14 w15 wp14\"><w:body><w:p w:rsidR=\"00764658\" w:rsidRDefault=\"00764658\" w:rsidP=\"00764658\"><w:pPr><w:pStyle w:val=\"Title\"/></w:pPr><w:r><w:t>A Word Document on a Website</w:t></w:r><w:bookmarkStart w:id=\"0\" w:name=\"_GoBack\"/><w:bookmarkEnd w:id=\"0\"/></w:p><w:p w:rsidR=\"00764658\" w:rsidRDefault=\"00764658\" w:rsidP=\"00764658\"/><w:p w:rsidR=\"00764658\" w:rsidRPr=\"00764658\" w:rsidRDefault=\"00764658\" w:rsidP=\"00764658\"><w:r><w:t>This is a Word document, full of content that you want very much. Unfortunately, it’s difficult to access because I’m putting it on my website as a .</w:t></w:r><w:proofErr w:type=\"spellStart\"/><w:r><w:t>docx</w:t></w:r><w:proofErr w:type=\"spellEnd\"/><w:r><w:t xml:space=\"preserve\"> file, rather than just publishing it as HTML</w:t></w:r></w:p><w:sectPr w:rsidR=\"00764658\" w:rsidRPr=\"00764658\"><w:pgSz w:w=\"12240\" w:h=\"15840\"/><w:pgMar w:top=\"1440\" w:right=\"1440\" w:bottom=\"1440\" w:left=\"1440\" w:header=\"720\" w:footer=\"720\" w:gutter=\"0\"/><w:cols w:space=\"720\"/><w:docGrid w:linePitch=\"360\"/></w:sectPr></w:body></w:document>\n"
     ]
    }
   ],
   "source": [
    "#读取 Microsoft Ofﬁce 文件的正文内容，我们需要自己动手找方法\n",
    "#第一步是从文件读取 XML\n",
    "from zipfile import ZipFile \n",
    "from urllib.request import urlopen \n",
    "from io import BytesIO \n",
    " \n",
    "wordFile = urlopen(\"http://pythonscraping.com/pages/AWordDocument.docx\").read() \n",
    "wordFile = BytesIO(wordFile) #把一个远程 Word 文档读成一个二进制文件对象\n",
    "document = ZipFile(wordFile) #再用 Python 的标准库 zipfile 解压\n",
    "xml_content = document.read('word/document.xml') #读取这个解压文件，就变成 XML \n",
    "print(xml_content.decode('utf-8'))"
   ]
  },
  {
   "cell_type": "code",
   "execution_count": 9,
   "metadata": {
    "collapsed": false
   },
   "outputs": [
    {
     "name": "stdout",
     "output_type": "stream",
     "text": [
      "A Word Document on a Website\n",
      "This is a Word document, full of content that you want very much. Unfortunately, it’s difficult to access because I’m putting it on my website as a .\n",
      "docx\n",
      " file, rather than just publishing it as HTML\n"
     ]
    },
    {
     "name": "stderr",
     "output_type": "stream",
     "text": [
      "C:\\Users\\13126\\Anaconda3\\lib\\site-packages\\bs4\\__init__.py:181: UserWarning: No parser was explicitly specified, so I'm using the best available HTML parser for this system (\"lxml\"). This usually isn't a problem, but if you run this code on another system, or in a different virtual environment, it may use a different parser and behave differently.\n",
      "\n",
      "The code that caused this warning is on line 184 of the file C:\\Users\\13126\\Anaconda3\\lib\\runpy.py. To get rid of this warning, change code that looks like this:\n",
      "\n",
      " BeautifulSoup([your markup])\n",
      "\n",
      "to this:\n",
      "\n",
      " BeautifulSoup([your markup], \"lxml\")\n",
      "\n",
      "  markup_type=markup_type))\n"
     ]
    }
   ],
   "source": [
    "#处理XML文档\n",
    "from zipfile import ZipFile \n",
    "from urllib.request import urlopen \n",
    "from io import BytesIO \n",
    "from bs4 import BeautifulSoup \n",
    " \n",
    "wordFile = urlopen(\"http://pythonscraping.com/pages/AWordDocument.docx\").read() \n",
    "wordFile = BytesIO(wordFile) \n",
    "document = ZipFile(wordFile) \n",
    "xml_content = document.read('word/document.xml') \n",
    " \n",
    "wordObj = BeautifulSoup(xml_content.decode('utf-8')) \n",
    "textStrings = wordObj.findAll(\"w:t\")\n",
    "\n",
    "for textElem in textStrings:     \n",
    "    print(textElem.text)"
   ]
  },
  {
   "cell_type": "code",
   "execution_count": 12,
   "metadata": {
    "collapsed": false
   },
   "outputs": [
    {
     "name": "stdout",
     "output_type": "stream",
     "text": [
      "<h1>\n",
      "A Word Document on a Website\n",
      "</h1>\n",
      "This is a Word document, full of content that you want very much. Unfortunately, it’s difficult to access because I’m putting it on my website as a .\n",
      "\n",
      "docx\n",
      "\n",
      " file, rather than just publishing it as HTML\n",
      "\n"
     ]
    }
   ],
   "source": [
    "#使用beautifulSoup处理样式标签\n",
    "textStrings = wordObj.findAll(\"w:t\") \n",
    "for textElem in textStrings:     \n",
    "    closeTag = \"\"     \n",
    "    try:         \n",
    "        style = textElem.parent.previousSibling.find(\"w:pstyle\")         \n",
    "        if style is not None and style[\"w:val\"] == \"Title\":         \n",
    "            print(\"<h1>\")         \n",
    "            closeTag = \"</h1>\"     \n",
    "    except AttributeError:     \n",
    "    #不打印标签    \n",
    "        pass\n",
    "    print(textElem.text)     \n",
    "    print(closeTag)"
   ]
  },
  {
   "cell_type": "markdown",
   "metadata": {},
   "source": [
    "# 2.存储数据"
   ]
  },
  {
   "cell_type": "markdown",
   "metadata": {},
   "source": [
    "#### 2.1 媒体文件"
   ]
  },
  {
   "cell_type": "code",
   "execution_count": 13,
   "metadata": {
    "collapsed": false
   },
   "outputs": [
    {
     "name": "stderr",
     "output_type": "stream",
     "text": [
      "C:\\Users\\13126\\Anaconda3\\lib\\site-packages\\bs4\\__init__.py:181: UserWarning: No parser was explicitly specified, so I'm using the best available HTML parser for this system (\"lxml\"). This usually isn't a problem, but if you run this code on another system, or in a different virtual environment, it may use a different parser and behave differently.\n",
      "\n",
      "The code that caused this warning is on line 184 of the file C:\\Users\\13126\\Anaconda3\\lib\\runpy.py. To get rid of this warning, change code that looks like this:\n",
      "\n",
      " BeautifulSoup([your markup])\n",
      "\n",
      "to this:\n",
      "\n",
      " BeautifulSoup([your markup], \"lxml\")\n",
      "\n",
      "  markup_type=markup_type))\n"
     ]
    },
    {
     "data": {
      "text/plain": [
       "('logo.jpg', <http.client.HTTPMessage at 0x1afe5c0bf28>)"
      ]
     },
     "execution_count": 13,
     "metadata": {},
     "output_type": "execute_result"
    }
   ],
   "source": [
    "from urllib.request import urlretrieve \n",
    "from urllib.request import urlopen \n",
    "from bs4 import BeautifulSoup \n",
    " \n",
    "html = urlopen(\"http://www.pythonscraping.com\") \n",
    "bsObj = BeautifulSoup(html) \n",
    "imageLocation = bsObj.find(\"a\", {\"id\": \"logo\"}).find(\"img\")[\"src\"] \n",
    "urlretrieve (imageLocation, \"logo.jpg\")"
   ]
  },
  {
   "cell_type": "code",
   "execution_count": 16,
   "metadata": {
    "collapsed": false
   },
   "outputs": [
    {
     "name": "stderr",
     "output_type": "stream",
     "text": [
      "C:\\Users\\13126\\Anaconda3\\lib\\site-packages\\bs4\\__init__.py:181: UserWarning: No parser was explicitly specified, so I'm using the best available HTML parser for this system (\"lxml\"). This usually isn't a problem, but if you run this code on another system, or in a different virtual environment, it may use a different parser and behave differently.\n",
      "\n",
      "The code that caused this warning is on line 184 of the file C:\\Users\\13126\\Anaconda3\\lib\\runpy.py. To get rid of this warning, change code that looks like this:\n",
      "\n",
      " BeautifulSoup([your markup])\n",
      "\n",
      "to this:\n",
      "\n",
      " BeautifulSoup([your markup], \"lxml\")\n",
      "\n",
      "  markup_type=markup_type))\n"
     ]
    },
    {
     "name": "stdout",
     "output_type": "stream",
     "text": [
      "http://pythonscraping.com/misc/jquery.js?v=1.4.4\n",
      "http://pythonscraping.com/misc/jquery.once.js?v=1.2\n",
      "http://pythonscraping.com/misc/drupal.js?pa2nir\n",
      "http://pythonscraping.com/sites/all/themes/skeletontheme/js/jquery.mobilemenu.js?pa2nir\n",
      "http://pythonscraping.com/sites/all/modules/google_analytics/googleanalytics.js?pa2nir\n",
      "http://pythonscraping.com/sites/default/files/lrg_0.jpg\n",
      "http://pythonscraping.com/img/lrg%20(1).jpg\n"
     ]
    },
    {
     "data": {
      "text/plain": [
       "('downloaded/img/lrg%20(1).jpg', <http.client.HTTPMessage at 0x1afe5c50cf8>)"
      ]
     },
     "execution_count": 16,
     "metadata": {},
     "output_type": "execute_result"
    }
   ],
   "source": [
    "#把 http://pythonscraping. com 主页上所有 src 属性的文件都下载下来：\n",
    "import os \n",
    "from urllib.request import urlretrieve \n",
    "from urllib.request import urlopen \n",
    "from bs4 import BeautifulSoup \n",
    " \n",
    "downloadDirectory = \"downloaded\" \n",
    "baseUrl = \"http://pythonscraping.com\" \n",
    " \n",
    "def getAbsoluteURL(baseUrl, source):     \n",
    "    if source.startswith(\"http://www.\"):        \n",
    "        url = \"http://\"+source[11:]     \n",
    "    elif source.startswith(\"http://\"):         \n",
    "        url = source    \n",
    "    elif source.startswith(\"www.\"): \n",
    "        url = source[4:]         \n",
    "        url = \"http://\"+source    \n",
    "    else:         \n",
    "        url = baseUrl+\"/\"+source    \n",
    "    if baseUrl not in url:      \n",
    "        return None \n",
    "    return url \n",
    " \n",
    "def getDownloadPath(baseUrl, absoluteUrl, downloadDirectory):     \n",
    "    path = absoluteUrl.replace(\"www.\", \"\")     \n",
    "    path = path.replace(baseUrl, \"\")     \n",
    "    path = downloadDirectory+path     \n",
    "    directory = os.path.dirname(path) \n",
    " \n",
    "    if not os.path.exists(directory):        \n",
    "        os.makedirs(directory) \n",
    " \n",
    "    return path \n",
    " \n",
    "html = urlopen(\"http://www.pythonscraping.com\") \n",
    "bsObj = BeautifulSoup(html) \n",
    "downloadList = bsObj.findAll(src=True) \n",
    " \n",
    "for download in downloadList:     \n",
    "    fileUrl = getAbsoluteURL(baseUrl, download[\"src\"])     \n",
    "    if fileUrl is not None:         \n",
    "        print(fileUrl)        \n",
    "\n",
    "urlretrieve(fileUrl, getDownloadPath(baseUrl, fileUrl, downloadDirectory))"
   ]
  },
  {
   "cell_type": "markdown",
   "metadata": {},
   "source": [
    "#### 2.2 把数据存储到CSV"
   ]
  },
  {
   "cell_type": "code",
   "execution_count": 20,
   "metadata": {
    "collapsed": false
   },
   "outputs": [],
   "source": [
    "import csv \n",
    " \n",
    "csvFile = open(\"./files/test.csv\", 'w+') \n",
    "try:     \n",
    "    writer = csv.writer(csvFile)     \n",
    "    writer.writerow(('number', 'number plus 2', 'number times 2'))     \n",
    "    for i in range(10):         \n",
    "        writer.writerow( (i, i+2, i*2)) \n",
    "finally:     \n",
    "    csvFile.close()"
   ]
  },
  {
   "cell_type": "code",
   "execution_count": 22,
   "metadata": {
    "collapsed": false
   },
   "outputs": [
    {
     "ename": "URLError",
     "evalue": "<urlopen error [WinError 10060] 由于连接方在一段时间后没有正确答复或连接的主机没有反应，连接尝试失败。>",
     "output_type": "error",
     "traceback": [
      "\u001b[0;31m---------------------------------------------------------------------------\u001b[0m",
      "\u001b[0;31mTimeoutError\u001b[0m                              Traceback (most recent call last)",
      "\u001b[0;32mC:\\Users\\13126\\Anaconda3\\lib\\urllib\\request.py\u001b[0m in \u001b[0;36mdo_open\u001b[0;34m(self, http_class, req, **http_conn_args)\u001b[0m\n\u001b[1;32m   1253\u001b[0m             \u001b[1;32mtry\u001b[0m\u001b[1;33m:\u001b[0m\u001b[1;33m\u001b[0m\u001b[0m\n\u001b[0;32m-> 1254\u001b[0;31m                 \u001b[0mh\u001b[0m\u001b[1;33m.\u001b[0m\u001b[0mrequest\u001b[0m\u001b[1;33m(\u001b[0m\u001b[0mreq\u001b[0m\u001b[1;33m.\u001b[0m\u001b[0mget_method\u001b[0m\u001b[1;33m(\u001b[0m\u001b[1;33m)\u001b[0m\u001b[1;33m,\u001b[0m \u001b[0mreq\u001b[0m\u001b[1;33m.\u001b[0m\u001b[0mselector\u001b[0m\u001b[1;33m,\u001b[0m \u001b[0mreq\u001b[0m\u001b[1;33m.\u001b[0m\u001b[0mdata\u001b[0m\u001b[1;33m,\u001b[0m \u001b[0mheaders\u001b[0m\u001b[1;33m)\u001b[0m\u001b[1;33m\u001b[0m\u001b[0m\n\u001b[0m\u001b[1;32m   1255\u001b[0m             \u001b[1;32mexcept\u001b[0m \u001b[0mOSError\u001b[0m \u001b[1;32mas\u001b[0m \u001b[0merr\u001b[0m\u001b[1;33m:\u001b[0m \u001b[1;31m# timeout error\u001b[0m\u001b[1;33m\u001b[0m\u001b[0m\n",
      "\u001b[0;32mC:\\Users\\13126\\Anaconda3\\lib\\http\\client.py\u001b[0m in \u001b[0;36mrequest\u001b[0;34m(self, method, url, body, headers)\u001b[0m\n\u001b[1;32m   1105\u001b[0m         \u001b[1;34m\"\"\"Send a complete request to the server.\"\"\"\u001b[0m\u001b[1;33m\u001b[0m\u001b[0m\n\u001b[0;32m-> 1106\u001b[0;31m         \u001b[0mself\u001b[0m\u001b[1;33m.\u001b[0m\u001b[0m_send_request\u001b[0m\u001b[1;33m(\u001b[0m\u001b[0mmethod\u001b[0m\u001b[1;33m,\u001b[0m \u001b[0murl\u001b[0m\u001b[1;33m,\u001b[0m \u001b[0mbody\u001b[0m\u001b[1;33m,\u001b[0m \u001b[0mheaders\u001b[0m\u001b[1;33m)\u001b[0m\u001b[1;33m\u001b[0m\u001b[0m\n\u001b[0m\u001b[1;32m   1107\u001b[0m \u001b[1;33m\u001b[0m\u001b[0m\n",
      "\u001b[0;32mC:\\Users\\13126\\Anaconda3\\lib\\http\\client.py\u001b[0m in \u001b[0;36m_send_request\u001b[0;34m(self, method, url, body, headers)\u001b[0m\n\u001b[1;32m   1150\u001b[0m             \u001b[0mbody\u001b[0m \u001b[1;33m=\u001b[0m \u001b[0m_encode\u001b[0m\u001b[1;33m(\u001b[0m\u001b[0mbody\u001b[0m\u001b[1;33m,\u001b[0m \u001b[1;34m'body'\u001b[0m\u001b[1;33m)\u001b[0m\u001b[1;33m\u001b[0m\u001b[0m\n\u001b[0;32m-> 1151\u001b[0;31m         \u001b[0mself\u001b[0m\u001b[1;33m.\u001b[0m\u001b[0mendheaders\u001b[0m\u001b[1;33m(\u001b[0m\u001b[0mbody\u001b[0m\u001b[1;33m)\u001b[0m\u001b[1;33m\u001b[0m\u001b[0m\n\u001b[0m\u001b[1;32m   1152\u001b[0m \u001b[1;33m\u001b[0m\u001b[0m\n",
      "\u001b[0;32mC:\\Users\\13126\\Anaconda3\\lib\\http\\client.py\u001b[0m in \u001b[0;36mendheaders\u001b[0;34m(self, message_body)\u001b[0m\n\u001b[1;32m   1101\u001b[0m             \u001b[1;32mraise\u001b[0m \u001b[0mCannotSendHeader\u001b[0m\u001b[1;33m(\u001b[0m\u001b[1;33m)\u001b[0m\u001b[1;33m\u001b[0m\u001b[0m\n\u001b[0;32m-> 1102\u001b[0;31m         \u001b[0mself\u001b[0m\u001b[1;33m.\u001b[0m\u001b[0m_send_output\u001b[0m\u001b[1;33m(\u001b[0m\u001b[0mmessage_body\u001b[0m\u001b[1;33m)\u001b[0m\u001b[1;33m\u001b[0m\u001b[0m\n\u001b[0m\u001b[1;32m   1103\u001b[0m \u001b[1;33m\u001b[0m\u001b[0m\n",
      "\u001b[0;32mC:\\Users\\13126\\Anaconda3\\lib\\http\\client.py\u001b[0m in \u001b[0;36m_send_output\u001b[0;34m(self, message_body)\u001b[0m\n\u001b[1;32m    933\u001b[0m \u001b[1;33m\u001b[0m\u001b[0m\n\u001b[0;32m--> 934\u001b[0;31m         \u001b[0mself\u001b[0m\u001b[1;33m.\u001b[0m\u001b[0msend\u001b[0m\u001b[1;33m(\u001b[0m\u001b[0mmsg\u001b[0m\u001b[1;33m)\u001b[0m\u001b[1;33m\u001b[0m\u001b[0m\n\u001b[0m\u001b[1;32m    935\u001b[0m         \u001b[1;32mif\u001b[0m \u001b[0mmessage_body\u001b[0m \u001b[1;32mis\u001b[0m \u001b[1;32mnot\u001b[0m \u001b[1;32mNone\u001b[0m\u001b[1;33m:\u001b[0m\u001b[1;33m\u001b[0m\u001b[0m\n",
      "\u001b[0;32mC:\\Users\\13126\\Anaconda3\\lib\\http\\client.py\u001b[0m in \u001b[0;36msend\u001b[0;34m(self, data)\u001b[0m\n\u001b[1;32m    876\u001b[0m             \u001b[1;32mif\u001b[0m \u001b[0mself\u001b[0m\u001b[1;33m.\u001b[0m\u001b[0mauto_open\u001b[0m\u001b[1;33m:\u001b[0m\u001b[1;33m\u001b[0m\u001b[0m\n\u001b[0;32m--> 877\u001b[0;31m                 \u001b[0mself\u001b[0m\u001b[1;33m.\u001b[0m\u001b[0mconnect\u001b[0m\u001b[1;33m(\u001b[0m\u001b[1;33m)\u001b[0m\u001b[1;33m\u001b[0m\u001b[0m\n\u001b[0m\u001b[1;32m    878\u001b[0m             \u001b[1;32melse\u001b[0m\u001b[1;33m:\u001b[0m\u001b[1;33m\u001b[0m\u001b[0m\n",
      "\u001b[0;32mC:\\Users\\13126\\Anaconda3\\lib\\http\\client.py\u001b[0m in \u001b[0;36mconnect\u001b[0;34m(self)\u001b[0m\n\u001b[1;32m    848\u001b[0m         self.sock = self._create_connection(\n\u001b[0;32m--> 849\u001b[0;31m             (self.host,self.port), self.timeout, self.source_address)\n\u001b[0m\u001b[1;32m    850\u001b[0m         \u001b[0mself\u001b[0m\u001b[1;33m.\u001b[0m\u001b[0msock\u001b[0m\u001b[1;33m.\u001b[0m\u001b[0msetsockopt\u001b[0m\u001b[1;33m(\u001b[0m\u001b[0msocket\u001b[0m\u001b[1;33m.\u001b[0m\u001b[0mIPPROTO_TCP\u001b[0m\u001b[1;33m,\u001b[0m \u001b[0msocket\u001b[0m\u001b[1;33m.\u001b[0m\u001b[0mTCP_NODELAY\u001b[0m\u001b[1;33m,\u001b[0m \u001b[1;36m1\u001b[0m\u001b[1;33m)\u001b[0m\u001b[1;33m\u001b[0m\u001b[0m\n",
      "\u001b[0;32mC:\\Users\\13126\\Anaconda3\\lib\\socket.py\u001b[0m in \u001b[0;36mcreate_connection\u001b[0;34m(address, timeout, source_address)\u001b[0m\n\u001b[1;32m    710\u001b[0m     \u001b[1;32mif\u001b[0m \u001b[0merr\u001b[0m \u001b[1;32mis\u001b[0m \u001b[1;32mnot\u001b[0m \u001b[1;32mNone\u001b[0m\u001b[1;33m:\u001b[0m\u001b[1;33m\u001b[0m\u001b[0m\n\u001b[0;32m--> 711\u001b[0;31m         \u001b[1;32mraise\u001b[0m \u001b[0merr\u001b[0m\u001b[1;33m\u001b[0m\u001b[0m\n\u001b[0m\u001b[1;32m    712\u001b[0m     \u001b[1;32melse\u001b[0m\u001b[1;33m:\u001b[0m\u001b[1;33m\u001b[0m\u001b[0m\n",
      "\u001b[0;32mC:\\Users\\13126\\Anaconda3\\lib\\socket.py\u001b[0m in \u001b[0;36mcreate_connection\u001b[0;34m(address, timeout, source_address)\u001b[0m\n\u001b[1;32m    701\u001b[0m                 \u001b[0msock\u001b[0m\u001b[1;33m.\u001b[0m\u001b[0mbind\u001b[0m\u001b[1;33m(\u001b[0m\u001b[0msource_address\u001b[0m\u001b[1;33m)\u001b[0m\u001b[1;33m\u001b[0m\u001b[0m\n\u001b[0;32m--> 702\u001b[0;31m             \u001b[0msock\u001b[0m\u001b[1;33m.\u001b[0m\u001b[0mconnect\u001b[0m\u001b[1;33m(\u001b[0m\u001b[0msa\u001b[0m\u001b[1;33m)\u001b[0m\u001b[1;33m\u001b[0m\u001b[0m\n\u001b[0m\u001b[1;32m    703\u001b[0m             \u001b[1;32mreturn\u001b[0m \u001b[0msock\u001b[0m\u001b[1;33m\u001b[0m\u001b[0m\n",
      "\u001b[0;31mTimeoutError\u001b[0m: [WinError 10060] 由于连接方在一段时间后没有正确答复或连接的主机没有反应，连接尝试失败。",
      "\nDuring handling of the above exception, another exception occurred:\n",
      "\u001b[0;31mURLError\u001b[0m                                  Traceback (most recent call last)",
      "\u001b[0;32m<ipython-input-22-c7bcbcfa595d>\u001b[0m in \u001b[0;36m<module>\u001b[0;34m()\u001b[0m\n\u001b[1;32m      4\u001b[0m \u001b[1;32mfrom\u001b[0m \u001b[0mbs4\u001b[0m \u001b[1;32mimport\u001b[0m \u001b[0mBeautifulSoup\u001b[0m\u001b[1;33m\u001b[0m\u001b[0m\n\u001b[1;32m      5\u001b[0m \u001b[1;33m\u001b[0m\u001b[0m\n\u001b[0;32m----> 6\u001b[0;31m \u001b[0mhtml\u001b[0m \u001b[1;33m=\u001b[0m \u001b[0murlopen\u001b[0m\u001b[1;33m(\u001b[0m\u001b[1;34m\"http://en.wikipedia.org/wiki/Comparison_of_text_editors\"\u001b[0m\u001b[1;33m)\u001b[0m\u001b[1;33m\u001b[0m\u001b[0m\n\u001b[0m\u001b[1;32m      7\u001b[0m \u001b[0mbsObj\u001b[0m \u001b[1;33m=\u001b[0m \u001b[0mBeautifulSoup\u001b[0m\u001b[1;33m(\u001b[0m\u001b[0mhtml\u001b[0m\u001b[1;33m)\u001b[0m\u001b[1;33m\u001b[0m\u001b[0m\n\u001b[1;32m      8\u001b[0m \u001b[1;31m# 主对比表格是当前页面上的第一个表格\u001b[0m\u001b[1;33m\u001b[0m\u001b[1;33m\u001b[0m\u001b[0m\n",
      "\u001b[0;32mC:\\Users\\13126\\Anaconda3\\lib\\urllib\\request.py\u001b[0m in \u001b[0;36murlopen\u001b[0;34m(url, data, timeout, cafile, capath, cadefault, context)\u001b[0m\n\u001b[1;32m    161\u001b[0m     \u001b[1;32melse\u001b[0m\u001b[1;33m:\u001b[0m\u001b[1;33m\u001b[0m\u001b[0m\n\u001b[1;32m    162\u001b[0m         \u001b[0mopener\u001b[0m \u001b[1;33m=\u001b[0m \u001b[0m_opener\u001b[0m\u001b[1;33m\u001b[0m\u001b[0m\n\u001b[0;32m--> 163\u001b[0;31m     \u001b[1;32mreturn\u001b[0m \u001b[0mopener\u001b[0m\u001b[1;33m.\u001b[0m\u001b[0mopen\u001b[0m\u001b[1;33m(\u001b[0m\u001b[0murl\u001b[0m\u001b[1;33m,\u001b[0m \u001b[0mdata\u001b[0m\u001b[1;33m,\u001b[0m \u001b[0mtimeout\u001b[0m\u001b[1;33m)\u001b[0m\u001b[1;33m\u001b[0m\u001b[0m\n\u001b[0m\u001b[1;32m    164\u001b[0m \u001b[1;33m\u001b[0m\u001b[0m\n\u001b[1;32m    165\u001b[0m \u001b[1;32mdef\u001b[0m \u001b[0minstall_opener\u001b[0m\u001b[1;33m(\u001b[0m\u001b[0mopener\u001b[0m\u001b[1;33m)\u001b[0m\u001b[1;33m:\u001b[0m\u001b[1;33m\u001b[0m\u001b[0m\n",
      "\u001b[0;32mC:\\Users\\13126\\Anaconda3\\lib\\urllib\\request.py\u001b[0m in \u001b[0;36mopen\u001b[0;34m(self, fullurl, data, timeout)\u001b[0m\n\u001b[1;32m    464\u001b[0m             \u001b[0mreq\u001b[0m \u001b[1;33m=\u001b[0m \u001b[0mmeth\u001b[0m\u001b[1;33m(\u001b[0m\u001b[0mreq\u001b[0m\u001b[1;33m)\u001b[0m\u001b[1;33m\u001b[0m\u001b[0m\n\u001b[1;32m    465\u001b[0m \u001b[1;33m\u001b[0m\u001b[0m\n\u001b[0;32m--> 466\u001b[0;31m         \u001b[0mresponse\u001b[0m \u001b[1;33m=\u001b[0m \u001b[0mself\u001b[0m\u001b[1;33m.\u001b[0m\u001b[0m_open\u001b[0m\u001b[1;33m(\u001b[0m\u001b[0mreq\u001b[0m\u001b[1;33m,\u001b[0m \u001b[0mdata\u001b[0m\u001b[1;33m)\u001b[0m\u001b[1;33m\u001b[0m\u001b[0m\n\u001b[0m\u001b[1;32m    467\u001b[0m \u001b[1;33m\u001b[0m\u001b[0m\n\u001b[1;32m    468\u001b[0m         \u001b[1;31m# post-process response\u001b[0m\u001b[1;33m\u001b[0m\u001b[1;33m\u001b[0m\u001b[0m\n",
      "\u001b[0;32mC:\\Users\\13126\\Anaconda3\\lib\\urllib\\request.py\u001b[0m in \u001b[0;36m_open\u001b[0;34m(self, req, data)\u001b[0m\n\u001b[1;32m    482\u001b[0m         \u001b[0mprotocol\u001b[0m \u001b[1;33m=\u001b[0m \u001b[0mreq\u001b[0m\u001b[1;33m.\u001b[0m\u001b[0mtype\u001b[0m\u001b[1;33m\u001b[0m\u001b[0m\n\u001b[1;32m    483\u001b[0m         result = self._call_chain(self.handle_open, protocol, protocol +\n\u001b[0;32m--> 484\u001b[0;31m                                   '_open', req)\n\u001b[0m\u001b[1;32m    485\u001b[0m         \u001b[1;32mif\u001b[0m \u001b[0mresult\u001b[0m\u001b[1;33m:\u001b[0m\u001b[1;33m\u001b[0m\u001b[0m\n\u001b[1;32m    486\u001b[0m             \u001b[1;32mreturn\u001b[0m \u001b[0mresult\u001b[0m\u001b[1;33m\u001b[0m\u001b[0m\n",
      "\u001b[0;32mC:\\Users\\13126\\Anaconda3\\lib\\urllib\\request.py\u001b[0m in \u001b[0;36m_call_chain\u001b[0;34m(self, chain, kind, meth_name, *args)\u001b[0m\n\u001b[1;32m    442\u001b[0m         \u001b[1;32mfor\u001b[0m \u001b[0mhandler\u001b[0m \u001b[1;32min\u001b[0m \u001b[0mhandlers\u001b[0m\u001b[1;33m:\u001b[0m\u001b[1;33m\u001b[0m\u001b[0m\n\u001b[1;32m    443\u001b[0m             \u001b[0mfunc\u001b[0m \u001b[1;33m=\u001b[0m \u001b[0mgetattr\u001b[0m\u001b[1;33m(\u001b[0m\u001b[0mhandler\u001b[0m\u001b[1;33m,\u001b[0m \u001b[0mmeth_name\u001b[0m\u001b[1;33m)\u001b[0m\u001b[1;33m\u001b[0m\u001b[0m\n\u001b[0;32m--> 444\u001b[0;31m             \u001b[0mresult\u001b[0m \u001b[1;33m=\u001b[0m \u001b[0mfunc\u001b[0m\u001b[1;33m(\u001b[0m\u001b[1;33m*\u001b[0m\u001b[0margs\u001b[0m\u001b[1;33m)\u001b[0m\u001b[1;33m\u001b[0m\u001b[0m\n\u001b[0m\u001b[1;32m    445\u001b[0m             \u001b[1;32mif\u001b[0m \u001b[0mresult\u001b[0m \u001b[1;32mis\u001b[0m \u001b[1;32mnot\u001b[0m \u001b[1;32mNone\u001b[0m\u001b[1;33m:\u001b[0m\u001b[1;33m\u001b[0m\u001b[0m\n\u001b[1;32m    446\u001b[0m                 \u001b[1;32mreturn\u001b[0m \u001b[0mresult\u001b[0m\u001b[1;33m\u001b[0m\u001b[0m\n",
      "\u001b[0;32mC:\\Users\\13126\\Anaconda3\\lib\\urllib\\request.py\u001b[0m in \u001b[0;36mhttp_open\u001b[0;34m(self, req)\u001b[0m\n\u001b[1;32m   1280\u001b[0m \u001b[1;33m\u001b[0m\u001b[0m\n\u001b[1;32m   1281\u001b[0m     \u001b[1;32mdef\u001b[0m \u001b[0mhttp_open\u001b[0m\u001b[1;33m(\u001b[0m\u001b[0mself\u001b[0m\u001b[1;33m,\u001b[0m \u001b[0mreq\u001b[0m\u001b[1;33m)\u001b[0m\u001b[1;33m:\u001b[0m\u001b[1;33m\u001b[0m\u001b[0m\n\u001b[0;32m-> 1282\u001b[0;31m         \u001b[1;32mreturn\u001b[0m \u001b[0mself\u001b[0m\u001b[1;33m.\u001b[0m\u001b[0mdo_open\u001b[0m\u001b[1;33m(\u001b[0m\u001b[0mhttp\u001b[0m\u001b[1;33m.\u001b[0m\u001b[0mclient\u001b[0m\u001b[1;33m.\u001b[0m\u001b[0mHTTPConnection\u001b[0m\u001b[1;33m,\u001b[0m \u001b[0mreq\u001b[0m\u001b[1;33m)\u001b[0m\u001b[1;33m\u001b[0m\u001b[0m\n\u001b[0m\u001b[1;32m   1283\u001b[0m \u001b[1;33m\u001b[0m\u001b[0m\n\u001b[1;32m   1284\u001b[0m     \u001b[0mhttp_request\u001b[0m \u001b[1;33m=\u001b[0m \u001b[0mAbstractHTTPHandler\u001b[0m\u001b[1;33m.\u001b[0m\u001b[0mdo_request_\u001b[0m\u001b[1;33m\u001b[0m\u001b[0m\n",
      "\u001b[0;32mC:\\Users\\13126\\Anaconda3\\lib\\urllib\\request.py\u001b[0m in \u001b[0;36mdo_open\u001b[0;34m(self, http_class, req, **http_conn_args)\u001b[0m\n\u001b[1;32m   1254\u001b[0m                 \u001b[0mh\u001b[0m\u001b[1;33m.\u001b[0m\u001b[0mrequest\u001b[0m\u001b[1;33m(\u001b[0m\u001b[0mreq\u001b[0m\u001b[1;33m.\u001b[0m\u001b[0mget_method\u001b[0m\u001b[1;33m(\u001b[0m\u001b[1;33m)\u001b[0m\u001b[1;33m,\u001b[0m \u001b[0mreq\u001b[0m\u001b[1;33m.\u001b[0m\u001b[0mselector\u001b[0m\u001b[1;33m,\u001b[0m \u001b[0mreq\u001b[0m\u001b[1;33m.\u001b[0m\u001b[0mdata\u001b[0m\u001b[1;33m,\u001b[0m \u001b[0mheaders\u001b[0m\u001b[1;33m)\u001b[0m\u001b[1;33m\u001b[0m\u001b[0m\n\u001b[1;32m   1255\u001b[0m             \u001b[1;32mexcept\u001b[0m \u001b[0mOSError\u001b[0m \u001b[1;32mas\u001b[0m \u001b[0merr\u001b[0m\u001b[1;33m:\u001b[0m \u001b[1;31m# timeout error\u001b[0m\u001b[1;33m\u001b[0m\u001b[0m\n\u001b[0;32m-> 1256\u001b[0;31m                 \u001b[1;32mraise\u001b[0m \u001b[0mURLError\u001b[0m\u001b[1;33m(\u001b[0m\u001b[0merr\u001b[0m\u001b[1;33m)\u001b[0m\u001b[1;33m\u001b[0m\u001b[0m\n\u001b[0m\u001b[1;32m   1257\u001b[0m             \u001b[0mr\u001b[0m \u001b[1;33m=\u001b[0m \u001b[0mh\u001b[0m\u001b[1;33m.\u001b[0m\u001b[0mgetresponse\u001b[0m\u001b[1;33m(\u001b[0m\u001b[1;33m)\u001b[0m\u001b[1;33m\u001b[0m\u001b[0m\n\u001b[1;32m   1258\u001b[0m         \u001b[1;32mexcept\u001b[0m\u001b[1;33m:\u001b[0m\u001b[1;33m\u001b[0m\u001b[0m\n",
      "\u001b[0;31mURLError\u001b[0m: <urlopen error [WinError 10060] 由于连接方在一段时间后没有正确答复或连接的主机没有反应，连接尝试失败。>"
     ]
    }
   ],
   "source": [
    "#网络数据采集的一个常用功能就是获取 HTML 表格并写入 CSV 文件\n",
    "import csv \n",
    "from urllib.request import urlopen \n",
    "from bs4 import BeautifulSoup \n",
    " \n",
    "html = urlopen(\"http://en.wikipedia.org/wiki/Comparison_of_text_editors\") \n",
    "bsObj = BeautifulSoup(html) \n",
    "# 主对比表格是当前页面上的第一个表格 \n",
    "table = bsObj.findAll(\"table\",{\"class\":\"wikitable\"})[0] \n",
    "rows = table.findAll(\"tr\") \n",
    " \n",
    "csvFile = open(\"./files/editors.csv\", 'wt', newline='', encoding='utf-8') \n",
    "writer = csv.writer(csvFile) \n",
    "try:\n",
    "    for row in rows:    \n",
    "        csvRow = []     \n",
    "        for cell in row.findAll(['td', 'th']):      \n",
    "            csvRow.append(cell.get_text())         \n",
    "            writer.writerow(csvRow)\n",
    "finally:     \n",
    "    csvFile.close()"
   ]
  },
  {
   "cell_type": "markdown",
   "metadata": {},
   "source": [
    "#### 2.3 把数据存储到MySQL"
   ]
  },
  {
   "cell_type": "code",
   "execution_count": 23,
   "metadata": {
    "collapsed": false
   },
   "outputs": [
    {
     "ename": "SyntaxError",
     "evalue": "EOL while scanning string literal (<ipython-input-23-553655c3570e>, line 16)",
     "output_type": "error",
     "traceback": [
      "\u001b[0;36m  File \u001b[0;32m\"<ipython-input-23-553655c3570e>\"\u001b[0;36m, line \u001b[0;32m16\u001b[0m\n\u001b[0;31m    cur.execute(\"INSERT INTO pages (title, content) VALUES (\\\"%s\\\",\u001b[0m\n\u001b[0m                                                                                    ^\u001b[0m\n\u001b[0;31mSyntaxError\u001b[0m\u001b[0;31m:\u001b[0m EOL while scanning string literal\n"
     ]
    }
   ],
   "source": [
    "from urllib.request import urlopen \n",
    "from bs4 import BeautifulSoup \n",
    "import re \n",
    "import datetime \n",
    "import random\n",
    "import pymysql \n",
    " \n",
    "conn = pymysql.connect(host='127.0.0.1', unix_socket='/tmp/mysql.sock',                        \n",
    "                       user='root', passwd='131414he', db='mysql', charset='utf8') \n",
    "cur = conn.cursor() \n",
    "cur.execute(\"USE scraping\") \n",
    " \n",
    "random.seed(datetime.datetime.now()) \n",
    " \n",
    "def store(title, content):    \n",
    "    cur.execute(\"INSERT INTO pages (title, content) VALUES (\\\"%s\\\",                 \n",
    "                \\\"%s\\\")\", (title, content))     \n",
    "    cur.connection.commit() \n",
    " \n",
    "def getLinks(articleUrl):   \n",
    "    html = urlopen(\"http://en.wikipedia.org\"+articleUrl)     \n",
    "    bsObj = BeautifulSoup(html)     \n",
    "    title = bsObj.find(\"h1\").get_text()     \n",
    "    content = bsObj.find(\"div\", {\"id\":\"mw-content-text\"}).find(\"p\").get_text()     \n",
    "    store(title, content)     \n",
    "    return bsObj.find(\"div\", {\"id\":\"bodyContent\"}).findAll(\"a\",                       href=re.compile(\"^(/wiki/)((?!:).)*$\")) \n",
    " \n",
    "links = getLinks(\"/wiki/Kevin_Bacon\") \n",
    "try:     \n",
    "    while len(links) > 0:          \n",
    "        newArticle = links[random.randint(0, len(links)-1)].attrs[\"href\"]          \n",
    "        print(newArticle)          \n",
    "        links = getLinks(newArticle) \n",
    "finally:     \n",
    "    cur.close()     \n",
    "    conn.close()"
   ]
  },
  {
   "cell_type": "code",
   "execution_count": 33,
   "metadata": {
    "collapsed": false
   },
   "outputs": [
    {
     "ename": "InternalError",
     "evalue": "(1049, \"Unknown database 'wikipedia'\")",
     "output_type": "error",
     "traceback": [
      "\u001b[0;31m---------------------------------------------------------------------------\u001b[0m",
      "\u001b[0;31mInternalError\u001b[0m                             Traceback (most recent call last)",
      "\u001b[0;32m<ipython-input-33-66af030b9db5>\u001b[0m in \u001b[0;36m<module>\u001b[0;34m()\u001b[0m\n\u001b[1;32m      6\u001b[0m \u001b[0mconn\u001b[0m \u001b[1;33m=\u001b[0m \u001b[0mpymysql\u001b[0m\u001b[1;33m.\u001b[0m\u001b[0mconnect\u001b[0m\u001b[1;33m(\u001b[0m\u001b[0mhost\u001b[0m\u001b[1;33m=\u001b[0m\u001b[1;34m'127.0.0.1'\u001b[0m\u001b[1;33m,\u001b[0m\u001b[0muser\u001b[0m\u001b[1;33m=\u001b[0m\u001b[1;34m'root'\u001b[0m\u001b[1;33m,\u001b[0m \u001b[0mpasswd\u001b[0m\u001b[1;33m=\u001b[0m\u001b[1;34m'131414he'\u001b[0m\u001b[1;33m,\u001b[0m \u001b[0mdb\u001b[0m\u001b[1;33m=\u001b[0m\u001b[1;34m'mysql'\u001b[0m\u001b[1;33m,\u001b[0m \u001b[0mcharset\u001b[0m\u001b[1;33m=\u001b[0m\u001b[1;34m'utf8'\u001b[0m\u001b[1;33m)\u001b[0m\u001b[1;33m\u001b[0m\u001b[0m\n\u001b[1;32m      7\u001b[0m \u001b[0mcur\u001b[0m \u001b[1;33m=\u001b[0m \u001b[0mconn\u001b[0m\u001b[1;33m.\u001b[0m\u001b[0mcursor\u001b[0m\u001b[1;33m(\u001b[0m\u001b[1;33m)\u001b[0m\u001b[1;33m\u001b[0m\u001b[0m\n\u001b[0;32m----> 8\u001b[0;31m \u001b[0mcur\u001b[0m\u001b[1;33m.\u001b[0m\u001b[0mexecute\u001b[0m\u001b[1;33m(\u001b[0m\u001b[1;34m\"USE wikipedia\"\u001b[0m\u001b[1;33m)\u001b[0m\u001b[1;33m\u001b[0m\u001b[0m\n\u001b[0m\u001b[1;32m      9\u001b[0m \u001b[1;33m\u001b[0m\u001b[0m\n\u001b[1;32m     10\u001b[0m \u001b[1;32mdef\u001b[0m \u001b[0minsertPageIfNotExists\u001b[0m\u001b[1;33m(\u001b[0m\u001b[0murl\u001b[0m\u001b[1;33m)\u001b[0m\u001b[1;33m:\u001b[0m\u001b[1;33m\u001b[0m\u001b[0m\n",
      "\u001b[0;32mC:\\Users\\13126\\Anaconda3\\lib\\site-packages\\pymysql\\cursors.py\u001b[0m in \u001b[0;36mexecute\u001b[0;34m(self, query, args)\u001b[0m\n\u001b[1;32m    168\u001b[0m         \u001b[0mquery\u001b[0m \u001b[1;33m=\u001b[0m \u001b[0mself\u001b[0m\u001b[1;33m.\u001b[0m\u001b[0mmogrify\u001b[0m\u001b[1;33m(\u001b[0m\u001b[0mquery\u001b[0m\u001b[1;33m,\u001b[0m \u001b[0margs\u001b[0m\u001b[1;33m)\u001b[0m\u001b[1;33m\u001b[0m\u001b[0m\n\u001b[1;32m    169\u001b[0m \u001b[1;33m\u001b[0m\u001b[0m\n\u001b[0;32m--> 170\u001b[0;31m         \u001b[0mresult\u001b[0m \u001b[1;33m=\u001b[0m \u001b[0mself\u001b[0m\u001b[1;33m.\u001b[0m\u001b[0m_query\u001b[0m\u001b[1;33m(\u001b[0m\u001b[0mquery\u001b[0m\u001b[1;33m)\u001b[0m\u001b[1;33m\u001b[0m\u001b[0m\n\u001b[0m\u001b[1;32m    171\u001b[0m         \u001b[0mself\u001b[0m\u001b[1;33m.\u001b[0m\u001b[0m_executed\u001b[0m \u001b[1;33m=\u001b[0m \u001b[0mquery\u001b[0m\u001b[1;33m\u001b[0m\u001b[0m\n\u001b[1;32m    172\u001b[0m         \u001b[1;32mreturn\u001b[0m \u001b[0mresult\u001b[0m\u001b[1;33m\u001b[0m\u001b[0m\n",
      "\u001b[0;32mC:\\Users\\13126\\Anaconda3\\lib\\site-packages\\pymysql\\cursors.py\u001b[0m in \u001b[0;36m_query\u001b[0;34m(self, q)\u001b[0m\n\u001b[1;32m    326\u001b[0m         \u001b[0mself\u001b[0m\u001b[1;33m.\u001b[0m\u001b[0m_last_executed\u001b[0m \u001b[1;33m=\u001b[0m \u001b[0mq\u001b[0m\u001b[1;33m\u001b[0m\u001b[0m\n\u001b[1;32m    327\u001b[0m         \u001b[0mself\u001b[0m\u001b[1;33m.\u001b[0m\u001b[0m_clear_result\u001b[0m\u001b[1;33m(\u001b[0m\u001b[1;33m)\u001b[0m\u001b[1;33m\u001b[0m\u001b[0m\n\u001b[0;32m--> 328\u001b[0;31m         \u001b[0mconn\u001b[0m\u001b[1;33m.\u001b[0m\u001b[0mquery\u001b[0m\u001b[1;33m(\u001b[0m\u001b[0mq\u001b[0m\u001b[1;33m)\u001b[0m\u001b[1;33m\u001b[0m\u001b[0m\n\u001b[0m\u001b[1;32m    329\u001b[0m         \u001b[0mself\u001b[0m\u001b[1;33m.\u001b[0m\u001b[0m_do_get_result\u001b[0m\u001b[1;33m(\u001b[0m\u001b[1;33m)\u001b[0m\u001b[1;33m\u001b[0m\u001b[0m\n\u001b[1;32m    330\u001b[0m         \u001b[1;32mreturn\u001b[0m \u001b[0mself\u001b[0m\u001b[1;33m.\u001b[0m\u001b[0mrowcount\u001b[0m\u001b[1;33m\u001b[0m\u001b[0m\n",
      "\u001b[0;32mC:\\Users\\13126\\Anaconda3\\lib\\site-packages\\pymysql\\connections.py\u001b[0m in \u001b[0;36mquery\u001b[0;34m(self, sql, unbuffered)\u001b[0m\n\u001b[1;32m    515\u001b[0m                 \u001b[0msql\u001b[0m \u001b[1;33m=\u001b[0m \u001b[0msql\u001b[0m\u001b[1;33m.\u001b[0m\u001b[0mencode\u001b[0m\u001b[1;33m(\u001b[0m\u001b[0mself\u001b[0m\u001b[1;33m.\u001b[0m\u001b[0mencoding\u001b[0m\u001b[1;33m,\u001b[0m \u001b[1;34m'surrogateescape'\u001b[0m\u001b[1;33m)\u001b[0m\u001b[1;33m\u001b[0m\u001b[0m\n\u001b[1;32m    516\u001b[0m         \u001b[0mself\u001b[0m\u001b[1;33m.\u001b[0m\u001b[0m_execute_command\u001b[0m\u001b[1;33m(\u001b[0m\u001b[0mCOMMAND\u001b[0m\u001b[1;33m.\u001b[0m\u001b[0mCOM_QUERY\u001b[0m\u001b[1;33m,\u001b[0m \u001b[0msql\u001b[0m\u001b[1;33m)\u001b[0m\u001b[1;33m\u001b[0m\u001b[0m\n\u001b[0;32m--> 517\u001b[0;31m         \u001b[0mself\u001b[0m\u001b[1;33m.\u001b[0m\u001b[0m_affected_rows\u001b[0m \u001b[1;33m=\u001b[0m \u001b[0mself\u001b[0m\u001b[1;33m.\u001b[0m\u001b[0m_read_query_result\u001b[0m\u001b[1;33m(\u001b[0m\u001b[0munbuffered\u001b[0m\u001b[1;33m=\u001b[0m\u001b[0munbuffered\u001b[0m\u001b[1;33m)\u001b[0m\u001b[1;33m\u001b[0m\u001b[0m\n\u001b[0m\u001b[1;32m    518\u001b[0m         \u001b[1;32mreturn\u001b[0m \u001b[0mself\u001b[0m\u001b[1;33m.\u001b[0m\u001b[0m_affected_rows\u001b[0m\u001b[1;33m\u001b[0m\u001b[0m\n\u001b[1;32m    519\u001b[0m \u001b[1;33m\u001b[0m\u001b[0m\n",
      "\u001b[0;32mC:\\Users\\13126\\Anaconda3\\lib\\site-packages\\pymysql\\connections.py\u001b[0m in \u001b[0;36m_read_query_result\u001b[0;34m(self, unbuffered)\u001b[0m\n\u001b[1;32m    730\u001b[0m         \u001b[1;32melse\u001b[0m\u001b[1;33m:\u001b[0m\u001b[1;33m\u001b[0m\u001b[0m\n\u001b[1;32m    731\u001b[0m             \u001b[0mresult\u001b[0m \u001b[1;33m=\u001b[0m \u001b[0mMySQLResult\u001b[0m\u001b[1;33m(\u001b[0m\u001b[0mself\u001b[0m\u001b[1;33m)\u001b[0m\u001b[1;33m\u001b[0m\u001b[0m\n\u001b[0;32m--> 732\u001b[0;31m             \u001b[0mresult\u001b[0m\u001b[1;33m.\u001b[0m\u001b[0mread\u001b[0m\u001b[1;33m(\u001b[0m\u001b[1;33m)\u001b[0m\u001b[1;33m\u001b[0m\u001b[0m\n\u001b[0m\u001b[1;32m    733\u001b[0m         \u001b[0mself\u001b[0m\u001b[1;33m.\u001b[0m\u001b[0m_result\u001b[0m \u001b[1;33m=\u001b[0m \u001b[0mresult\u001b[0m\u001b[1;33m\u001b[0m\u001b[0m\n\u001b[1;32m    734\u001b[0m         \u001b[1;32mif\u001b[0m \u001b[0mresult\u001b[0m\u001b[1;33m.\u001b[0m\u001b[0mserver_status\u001b[0m \u001b[1;32mis\u001b[0m \u001b[1;32mnot\u001b[0m \u001b[1;32mNone\u001b[0m\u001b[1;33m:\u001b[0m\u001b[1;33m\u001b[0m\u001b[0m\n",
      "\u001b[0;32mC:\\Users\\13126\\Anaconda3\\lib\\site-packages\\pymysql\\connections.py\u001b[0m in \u001b[0;36mread\u001b[0;34m(self)\u001b[0m\n\u001b[1;32m   1073\u001b[0m     \u001b[1;32mdef\u001b[0m \u001b[0mread\u001b[0m\u001b[1;33m(\u001b[0m\u001b[0mself\u001b[0m\u001b[1;33m)\u001b[0m\u001b[1;33m:\u001b[0m\u001b[1;33m\u001b[0m\u001b[0m\n\u001b[1;32m   1074\u001b[0m         \u001b[1;32mtry\u001b[0m\u001b[1;33m:\u001b[0m\u001b[1;33m\u001b[0m\u001b[0m\n\u001b[0;32m-> 1075\u001b[0;31m             \u001b[0mfirst_packet\u001b[0m \u001b[1;33m=\u001b[0m \u001b[0mself\u001b[0m\u001b[1;33m.\u001b[0m\u001b[0mconnection\u001b[0m\u001b[1;33m.\u001b[0m\u001b[0m_read_packet\u001b[0m\u001b[1;33m(\u001b[0m\u001b[1;33m)\u001b[0m\u001b[1;33m\u001b[0m\u001b[0m\n\u001b[0m\u001b[1;32m   1076\u001b[0m \u001b[1;33m\u001b[0m\u001b[0m\n\u001b[1;32m   1077\u001b[0m             \u001b[1;32mif\u001b[0m \u001b[0mfirst_packet\u001b[0m\u001b[1;33m.\u001b[0m\u001b[0mis_ok_packet\u001b[0m\u001b[1;33m(\u001b[0m\u001b[1;33m)\u001b[0m\u001b[1;33m:\u001b[0m\u001b[1;33m\u001b[0m\u001b[0m\n",
      "\u001b[0;32mC:\\Users\\13126\\Anaconda3\\lib\\site-packages\\pymysql\\connections.py\u001b[0m in \u001b[0;36m_read_packet\u001b[0;34m(self, packet_type)\u001b[0m\n\u001b[1;32m    682\u001b[0m \u001b[1;33m\u001b[0m\u001b[0m\n\u001b[1;32m    683\u001b[0m         \u001b[0mpacket\u001b[0m \u001b[1;33m=\u001b[0m \u001b[0mpacket_type\u001b[0m\u001b[1;33m(\u001b[0m\u001b[0mbuff\u001b[0m\u001b[1;33m,\u001b[0m \u001b[0mself\u001b[0m\u001b[1;33m.\u001b[0m\u001b[0mencoding\u001b[0m\u001b[1;33m)\u001b[0m\u001b[1;33m\u001b[0m\u001b[0m\n\u001b[0;32m--> 684\u001b[0;31m         \u001b[0mpacket\u001b[0m\u001b[1;33m.\u001b[0m\u001b[0mcheck_error\u001b[0m\u001b[1;33m(\u001b[0m\u001b[1;33m)\u001b[0m\u001b[1;33m\u001b[0m\u001b[0m\n\u001b[0m\u001b[1;32m    685\u001b[0m         \u001b[1;32mreturn\u001b[0m \u001b[0mpacket\u001b[0m\u001b[1;33m\u001b[0m\u001b[0m\n\u001b[1;32m    686\u001b[0m \u001b[1;33m\u001b[0m\u001b[0m\n",
      "\u001b[0;32mC:\\Users\\13126\\Anaconda3\\lib\\site-packages\\pymysql\\protocol.py\u001b[0m in \u001b[0;36mcheck_error\u001b[0;34m(self)\u001b[0m\n\u001b[1;32m    218\u001b[0m             \u001b[0merrno\u001b[0m \u001b[1;33m=\u001b[0m \u001b[0mself\u001b[0m\u001b[1;33m.\u001b[0m\u001b[0mread_uint16\u001b[0m\u001b[1;33m(\u001b[0m\u001b[1;33m)\u001b[0m\u001b[1;33m\u001b[0m\u001b[0m\n\u001b[1;32m    219\u001b[0m             \u001b[1;32mif\u001b[0m \u001b[0mDEBUG\u001b[0m\u001b[1;33m:\u001b[0m \u001b[0mprint\u001b[0m\u001b[1;33m(\u001b[0m\u001b[1;34m\"errno =\"\u001b[0m\u001b[1;33m,\u001b[0m \u001b[0merrno\u001b[0m\u001b[1;33m)\u001b[0m\u001b[1;33m\u001b[0m\u001b[0m\n\u001b[0;32m--> 220\u001b[0;31m             \u001b[0merr\u001b[0m\u001b[1;33m.\u001b[0m\u001b[0mraise_mysql_exception\u001b[0m\u001b[1;33m(\u001b[0m\u001b[0mself\u001b[0m\u001b[1;33m.\u001b[0m\u001b[0m_data\u001b[0m\u001b[1;33m)\u001b[0m\u001b[1;33m\u001b[0m\u001b[0m\n\u001b[0m\u001b[1;32m    221\u001b[0m \u001b[1;33m\u001b[0m\u001b[0m\n\u001b[1;32m    222\u001b[0m     \u001b[1;32mdef\u001b[0m \u001b[0mdump\u001b[0m\u001b[1;33m(\u001b[0m\u001b[0mself\u001b[0m\u001b[1;33m)\u001b[0m\u001b[1;33m:\u001b[0m\u001b[1;33m\u001b[0m\u001b[0m\n",
      "\u001b[0;32mC:\\Users\\13126\\Anaconda3\\lib\\site-packages\\pymysql\\err.py\u001b[0m in \u001b[0;36mraise_mysql_exception\u001b[0;34m(data)\u001b[0m\n\u001b[1;32m    107\u001b[0m         \u001b[0merrval\u001b[0m \u001b[1;33m=\u001b[0m \u001b[0mdata\u001b[0m\u001b[1;33m[\u001b[0m\u001b[1;36m3\u001b[0m\u001b[1;33m:\u001b[0m\u001b[1;33m]\u001b[0m\u001b[1;33m.\u001b[0m\u001b[0mdecode\u001b[0m\u001b[1;33m(\u001b[0m\u001b[1;34m'utf-8'\u001b[0m\u001b[1;33m,\u001b[0m \u001b[1;34m'replace'\u001b[0m\u001b[1;33m)\u001b[0m\u001b[1;33m\u001b[0m\u001b[0m\n\u001b[1;32m    108\u001b[0m     \u001b[0merrorclass\u001b[0m \u001b[1;33m=\u001b[0m \u001b[0merror_map\u001b[0m\u001b[1;33m.\u001b[0m\u001b[0mget\u001b[0m\u001b[1;33m(\u001b[0m\u001b[0merrno\u001b[0m\u001b[1;33m,\u001b[0m \u001b[0mInternalError\u001b[0m\u001b[1;33m)\u001b[0m\u001b[1;33m\u001b[0m\u001b[0m\n\u001b[0;32m--> 109\u001b[0;31m     \u001b[1;32mraise\u001b[0m \u001b[0merrorclass\u001b[0m\u001b[1;33m(\u001b[0m\u001b[0merrno\u001b[0m\u001b[1;33m,\u001b[0m \u001b[0merrval\u001b[0m\u001b[1;33m)\u001b[0m\u001b[1;33m\u001b[0m\u001b[0m\n\u001b[0m",
      "\u001b[0;31mInternalError\u001b[0m: (1049, \"Unknown database 'wikipedia'\")"
     ]
    }
   ],
   "source": [
    "#会把“贝肯数”（一个页面与凯文 ·贝肯词条页面的链接数）不超过 6 的维基 百科页面存储起来\n",
    "from bs4 import BeautifulSoup \n",
    "import re \n",
    "import pymysql \n",
    " \n",
    "conn = pymysql.connect(host='127.0.0.1',user='root', passwd='131414he', db='mysql', charset='utf8') \n",
    "cur = conn.cursor() \n",
    "cur.execute(\"USE wikipedia\") \n",
    " \n",
    "def insertPageIfNotExists(url):     \n",
    "    cur.execute(\"SELECT * FROM pages WHERE url = %s\", (url))\n",
    "    if cur.rowcount == 0:         \n",
    "        cur.execute(\"INSERT INTO pages (url) VALUES (%s)\", (url))         \n",
    "        conn.commit()         \n",
    "        return cur.lastrowid     \n",
    "    else:         \n",
    "        return cur.fetchone()[0] \n",
    " \n",
    "def insertLink(fromPageId, toPageId):     \n",
    "    cur.execute(\"SELECT * FROM links WHERE fromPageId = %s AND toPageId = %s\",                   \n",
    "                (int(fromPageId), int(toPageId)))     \n",
    "    if cur.rowcount == 0:         \n",
    "        cur.execute(\"INSERT INTO links (fromPageId, toPageId) VALUES (%s, %s)\",                        \n",
    "                    (int(fromPageId), int(toPageId)))         \n",
    "        conn.commit() \n",
    " \n",
    "pages = set() \n",
    "def getLinks(pageUrl, recursionLevel):     \n",
    "    global pages     \n",
    "    if recursionLevel > 4:         \n",
    "        return;     \n",
    "    pageId = insertPageIfNotExists(pageUrl)     \n",
    "    html = urlopen(\"http://en.wikipedia.org\"+pageUrl)     \n",
    "    bsObj = BeautifulSoup(html)     \n",
    "    for link in bsObj.findAll(\"a\",href=re.compile(\"^(/wiki/)((?!:).)*$\")):insertLink(pageId,insertPageIfNotExists(link.attrs['href']))        \n",
    "        # 遇到一个新页面，加入集合并搜索里面的词条链接\n",
    "    if link.attrs['href'] not in pages:\n",
    "        newPage = link.attrs['href']\n",
    "        pages.add(newPage)             \n",
    "getLinks(newPage, recursionLevel+1) \n",
    "getLinks(\"/wiki/Kevin_Bacon\", 0)  \n",
    "cur.close() \n",
    "conn.close()"
   ]
  },
  {
   "cell_type": "markdown",
   "metadata": {},
   "source": [
    "#### 2.4 Email"
   ]
  },
  {
   "cell_type": "code",
   "execution_count": 29,
   "metadata": {
    "collapsed": false
   },
   "outputs": [
    {
     "ename": "ConnectionRefusedError",
     "evalue": "[WinError 10061] 由于目标计算机积极拒绝，无法连接。",
     "output_type": "error",
     "traceback": [
      "\u001b[0;31m---------------------------------------------------------------------------\u001b[0m",
      "\u001b[0;31mConnectionRefusedError\u001b[0m                    Traceback (most recent call last)",
      "\u001b[0;32m<ipython-input-29-fb86a0feba20>\u001b[0m in \u001b[0;36m<module>\u001b[0;34m()\u001b[0m\n\u001b[1;32m      8\u001b[0m \u001b[0mmsg\u001b[0m\u001b[1;33m[\u001b[0m\u001b[1;34m'To'\u001b[0m\u001b[1;33m]\u001b[0m \u001b[1;33m=\u001b[0m \u001b[1;34m\"webmaster@pythonscraping.com\"\u001b[0m\u001b[1;33m\u001b[0m\u001b[0m\n\u001b[1;32m      9\u001b[0m \u001b[1;33m\u001b[0m\u001b[0m\n\u001b[0;32m---> 10\u001b[0;31m \u001b[0ms\u001b[0m \u001b[1;33m=\u001b[0m \u001b[0msmtplib\u001b[0m\u001b[1;33m.\u001b[0m\u001b[0mSMTP\u001b[0m\u001b[1;33m(\u001b[0m\u001b[1;34m'localhost'\u001b[0m\u001b[1;33m)\u001b[0m\u001b[1;33m\u001b[0m\u001b[0m\n\u001b[0m\u001b[1;32m     11\u001b[0m \u001b[0ms\u001b[0m\u001b[1;33m.\u001b[0m\u001b[0msend_message\u001b[0m\u001b[1;33m(\u001b[0m\u001b[0mmsg\u001b[0m\u001b[1;33m)\u001b[0m\u001b[1;33m\u001b[0m\u001b[0m\n\u001b[1;32m     12\u001b[0m \u001b[0ms\u001b[0m\u001b[1;33m.\u001b[0m\u001b[0mquit\u001b[0m\u001b[1;33m(\u001b[0m\u001b[1;33m)\u001b[0m\u001b[1;33m\u001b[0m\u001b[0m\n",
      "\u001b[0;32mC:\\Users\\13126\\Anaconda3\\lib\\smtplib.py\u001b[0m in \u001b[0;36m__init__\u001b[0;34m(self, host, port, local_hostname, timeout, source_address)\u001b[0m\n\u001b[1;32m    249\u001b[0m \u001b[1;33m\u001b[0m\u001b[0m\n\u001b[1;32m    250\u001b[0m         \u001b[1;32mif\u001b[0m \u001b[0mhost\u001b[0m\u001b[1;33m:\u001b[0m\u001b[1;33m\u001b[0m\u001b[0m\n\u001b[0;32m--> 251\u001b[0;31m             \u001b[1;33m(\u001b[0m\u001b[0mcode\u001b[0m\u001b[1;33m,\u001b[0m \u001b[0mmsg\u001b[0m\u001b[1;33m)\u001b[0m \u001b[1;33m=\u001b[0m \u001b[0mself\u001b[0m\u001b[1;33m.\u001b[0m\u001b[0mconnect\u001b[0m\u001b[1;33m(\u001b[0m\u001b[0mhost\u001b[0m\u001b[1;33m,\u001b[0m \u001b[0mport\u001b[0m\u001b[1;33m)\u001b[0m\u001b[1;33m\u001b[0m\u001b[0m\n\u001b[0m\u001b[1;32m    252\u001b[0m             \u001b[1;32mif\u001b[0m \u001b[0mcode\u001b[0m \u001b[1;33m!=\u001b[0m \u001b[1;36m220\u001b[0m\u001b[1;33m:\u001b[0m\u001b[1;33m\u001b[0m\u001b[0m\n\u001b[1;32m    253\u001b[0m                 \u001b[1;32mraise\u001b[0m \u001b[0mSMTPConnectError\u001b[0m\u001b[1;33m(\u001b[0m\u001b[0mcode\u001b[0m\u001b[1;33m,\u001b[0m \u001b[0mmsg\u001b[0m\u001b[1;33m)\u001b[0m\u001b[1;33m\u001b[0m\u001b[0m\n",
      "\u001b[0;32mC:\\Users\\13126\\Anaconda3\\lib\\smtplib.py\u001b[0m in \u001b[0;36mconnect\u001b[0;34m(self, host, port, source_address)\u001b[0m\n\u001b[1;32m    333\u001b[0m         \u001b[1;32mif\u001b[0m \u001b[0mself\u001b[0m\u001b[1;33m.\u001b[0m\u001b[0mdebuglevel\u001b[0m \u001b[1;33m>\u001b[0m \u001b[1;36m0\u001b[0m\u001b[1;33m:\u001b[0m\u001b[1;33m\u001b[0m\u001b[0m\n\u001b[1;32m    334\u001b[0m             \u001b[0mself\u001b[0m\u001b[1;33m.\u001b[0m\u001b[0m_print_debug\u001b[0m\u001b[1;33m(\u001b[0m\u001b[1;34m'connect:'\u001b[0m\u001b[1;33m,\u001b[0m \u001b[1;33m(\u001b[0m\u001b[0mhost\u001b[0m\u001b[1;33m,\u001b[0m \u001b[0mport\u001b[0m\u001b[1;33m)\u001b[0m\u001b[1;33m)\u001b[0m\u001b[1;33m\u001b[0m\u001b[0m\n\u001b[0;32m--> 335\u001b[0;31m         \u001b[0mself\u001b[0m\u001b[1;33m.\u001b[0m\u001b[0msock\u001b[0m \u001b[1;33m=\u001b[0m \u001b[0mself\u001b[0m\u001b[1;33m.\u001b[0m\u001b[0m_get_socket\u001b[0m\u001b[1;33m(\u001b[0m\u001b[0mhost\u001b[0m\u001b[1;33m,\u001b[0m \u001b[0mport\u001b[0m\u001b[1;33m,\u001b[0m \u001b[0mself\u001b[0m\u001b[1;33m.\u001b[0m\u001b[0mtimeout\u001b[0m\u001b[1;33m)\u001b[0m\u001b[1;33m\u001b[0m\u001b[0m\n\u001b[0m\u001b[1;32m    336\u001b[0m         \u001b[0mself\u001b[0m\u001b[1;33m.\u001b[0m\u001b[0mfile\u001b[0m \u001b[1;33m=\u001b[0m \u001b[1;32mNone\u001b[0m\u001b[1;33m\u001b[0m\u001b[0m\n\u001b[1;32m    337\u001b[0m         \u001b[1;33m(\u001b[0m\u001b[0mcode\u001b[0m\u001b[1;33m,\u001b[0m \u001b[0mmsg\u001b[0m\u001b[1;33m)\u001b[0m \u001b[1;33m=\u001b[0m \u001b[0mself\u001b[0m\u001b[1;33m.\u001b[0m\u001b[0mgetreply\u001b[0m\u001b[1;33m(\u001b[0m\u001b[1;33m)\u001b[0m\u001b[1;33m\u001b[0m\u001b[0m\n",
      "\u001b[0;32mC:\\Users\\13126\\Anaconda3\\lib\\smtplib.py\u001b[0m in \u001b[0;36m_get_socket\u001b[0;34m(self, host, port, timeout)\u001b[0m\n\u001b[1;32m    304\u001b[0m             \u001b[0mself\u001b[0m\u001b[1;33m.\u001b[0m\u001b[0m_print_debug\u001b[0m\u001b[1;33m(\u001b[0m\u001b[1;34m'connect: to'\u001b[0m\u001b[1;33m,\u001b[0m \u001b[1;33m(\u001b[0m\u001b[0mhost\u001b[0m\u001b[1;33m,\u001b[0m \u001b[0mport\u001b[0m\u001b[1;33m)\u001b[0m\u001b[1;33m,\u001b[0m \u001b[0mself\u001b[0m\u001b[1;33m.\u001b[0m\u001b[0msource_address\u001b[0m\u001b[1;33m)\u001b[0m\u001b[1;33m\u001b[0m\u001b[0m\n\u001b[1;32m    305\u001b[0m         return socket.create_connection((host, port), timeout,\n\u001b[0;32m--> 306\u001b[0;31m                                         self.source_address)\n\u001b[0m\u001b[1;32m    307\u001b[0m \u001b[1;33m\u001b[0m\u001b[0m\n\u001b[1;32m    308\u001b[0m     \u001b[1;32mdef\u001b[0m \u001b[0mconnect\u001b[0m\u001b[1;33m(\u001b[0m\u001b[0mself\u001b[0m\u001b[1;33m,\u001b[0m \u001b[0mhost\u001b[0m\u001b[1;33m=\u001b[0m\u001b[1;34m'localhost'\u001b[0m\u001b[1;33m,\u001b[0m \u001b[0mport\u001b[0m\u001b[1;33m=\u001b[0m\u001b[1;36m0\u001b[0m\u001b[1;33m,\u001b[0m \u001b[0msource_address\u001b[0m\u001b[1;33m=\u001b[0m\u001b[1;32mNone\u001b[0m\u001b[1;33m)\u001b[0m\u001b[1;33m:\u001b[0m\u001b[1;33m\u001b[0m\u001b[0m\n",
      "\u001b[0;32mC:\\Users\\13126\\Anaconda3\\lib\\socket.py\u001b[0m in \u001b[0;36mcreate_connection\u001b[0;34m(address, timeout, source_address)\u001b[0m\n\u001b[1;32m    709\u001b[0m \u001b[1;33m\u001b[0m\u001b[0m\n\u001b[1;32m    710\u001b[0m     \u001b[1;32mif\u001b[0m \u001b[0merr\u001b[0m \u001b[1;32mis\u001b[0m \u001b[1;32mnot\u001b[0m \u001b[1;32mNone\u001b[0m\u001b[1;33m:\u001b[0m\u001b[1;33m\u001b[0m\u001b[0m\n\u001b[0;32m--> 711\u001b[0;31m         \u001b[1;32mraise\u001b[0m \u001b[0merr\u001b[0m\u001b[1;33m\u001b[0m\u001b[0m\n\u001b[0m\u001b[1;32m    712\u001b[0m     \u001b[1;32melse\u001b[0m\u001b[1;33m:\u001b[0m\u001b[1;33m\u001b[0m\u001b[0m\n\u001b[1;32m    713\u001b[0m         \u001b[1;32mraise\u001b[0m \u001b[0merror\u001b[0m\u001b[1;33m(\u001b[0m\u001b[1;34m\"getaddrinfo returns an empty list\"\u001b[0m\u001b[1;33m)\u001b[0m\u001b[1;33m\u001b[0m\u001b[0m\n",
      "\u001b[0;32mC:\\Users\\13126\\Anaconda3\\lib\\socket.py\u001b[0m in \u001b[0;36mcreate_connection\u001b[0;34m(address, timeout, source_address)\u001b[0m\n\u001b[1;32m    700\u001b[0m             \u001b[1;32mif\u001b[0m \u001b[0msource_address\u001b[0m\u001b[1;33m:\u001b[0m\u001b[1;33m\u001b[0m\u001b[0m\n\u001b[1;32m    701\u001b[0m                 \u001b[0msock\u001b[0m\u001b[1;33m.\u001b[0m\u001b[0mbind\u001b[0m\u001b[1;33m(\u001b[0m\u001b[0msource_address\u001b[0m\u001b[1;33m)\u001b[0m\u001b[1;33m\u001b[0m\u001b[0m\n\u001b[0;32m--> 702\u001b[0;31m             \u001b[0msock\u001b[0m\u001b[1;33m.\u001b[0m\u001b[0mconnect\u001b[0m\u001b[1;33m(\u001b[0m\u001b[0msa\u001b[0m\u001b[1;33m)\u001b[0m\u001b[1;33m\u001b[0m\u001b[0m\n\u001b[0m\u001b[1;32m    703\u001b[0m             \u001b[1;32mreturn\u001b[0m \u001b[0msock\u001b[0m\u001b[1;33m\u001b[0m\u001b[0m\n\u001b[1;32m    704\u001b[0m \u001b[1;33m\u001b[0m\u001b[0m\n",
      "\u001b[0;31mConnectionRefusedError\u001b[0m: [WinError 10061] 由于目标计算机积极拒绝，无法连接。"
     ]
    }
   ],
   "source": [
    "import smtplib \n",
    "from email.mime.text import MIMEText \n",
    " \n",
    "msg = MIMEText(\"The body of the email is here\") \n",
    " \n",
    "msg['Subject'] = \"An Email Alert\" \n",
    "msg['From'] = \"ryan@pythonscraping.com\" \n",
    "msg['To'] = \"webmaster@pythonscraping.com\" \n",
    " \n",
    "s = smtplib.SMTP('localhost') \n",
    "s.send_message(msg) \n",
    "s.quit()"
   ]
  },
  {
   "cell_type": "code",
   "execution_count": 30,
   "metadata": {
    "collapsed": false
   },
   "outputs": [
    {
     "ename": "ConnectionRefusedError",
     "evalue": "[WinError 10061] 由于目标计算机积极拒绝，无法连接。",
     "output_type": "error",
     "traceback": [
      "\u001b[0;31m---------------------------------------------------------------------------\u001b[0m",
      "\u001b[0;31mConnectionRefusedError\u001b[0m                    Traceback (most recent call last)",
      "\u001b[0;32m<ipython-input-30-4d0e140b74d7>\u001b[0m in \u001b[0;36m<module>\u001b[0;34m()\u001b[0m\n\u001b[1;32m     11\u001b[0m     \u001b[0mmsg\u001b[0m\u001b[1;33m[\u001b[0m\u001b[1;34m'To'\u001b[0m\u001b[1;33m]\u001b[0m \u001b[1;33m=\u001b[0m \u001b[1;34m\"ryan@pythonscraping.com\"\u001b[0m\u001b[1;33m\u001b[0m\u001b[0m\n\u001b[1;32m     12\u001b[0m \u001b[1;33m\u001b[0m\u001b[0m\n\u001b[0;32m---> 13\u001b[0;31m \u001b[0ms\u001b[0m \u001b[1;33m=\u001b[0m \u001b[0msmtplib\u001b[0m\u001b[1;33m.\u001b[0m\u001b[0mSMTP\u001b[0m\u001b[1;33m(\u001b[0m\u001b[1;34m'localhost'\u001b[0m\u001b[1;33m)\u001b[0m\u001b[1;33m\u001b[0m\u001b[0m\n\u001b[0m\u001b[1;32m     14\u001b[0m \u001b[0ms\u001b[0m\u001b[1;33m.\u001b[0m\u001b[0msend_message\u001b[0m\u001b[1;33m(\u001b[0m\u001b[0mmsg\u001b[0m\u001b[1;33m)\u001b[0m\u001b[1;33m\u001b[0m\u001b[0m\n\u001b[1;32m     15\u001b[0m \u001b[0ms\u001b[0m\u001b[1;33m.\u001b[0m\u001b[0mquit\u001b[0m\u001b[1;33m(\u001b[0m\u001b[1;33m)\u001b[0m\u001b[1;33m\u001b[0m\u001b[0m\n",
      "\u001b[0;32mC:\\Users\\13126\\Anaconda3\\lib\\smtplib.py\u001b[0m in \u001b[0;36m__init__\u001b[0;34m(self, host, port, local_hostname, timeout, source_address)\u001b[0m\n\u001b[1;32m    249\u001b[0m \u001b[1;33m\u001b[0m\u001b[0m\n\u001b[1;32m    250\u001b[0m         \u001b[1;32mif\u001b[0m \u001b[0mhost\u001b[0m\u001b[1;33m:\u001b[0m\u001b[1;33m\u001b[0m\u001b[0m\n\u001b[0;32m--> 251\u001b[0;31m             \u001b[1;33m(\u001b[0m\u001b[0mcode\u001b[0m\u001b[1;33m,\u001b[0m \u001b[0mmsg\u001b[0m\u001b[1;33m)\u001b[0m \u001b[1;33m=\u001b[0m \u001b[0mself\u001b[0m\u001b[1;33m.\u001b[0m\u001b[0mconnect\u001b[0m\u001b[1;33m(\u001b[0m\u001b[0mhost\u001b[0m\u001b[1;33m,\u001b[0m \u001b[0mport\u001b[0m\u001b[1;33m)\u001b[0m\u001b[1;33m\u001b[0m\u001b[0m\n\u001b[0m\u001b[1;32m    252\u001b[0m             \u001b[1;32mif\u001b[0m \u001b[0mcode\u001b[0m \u001b[1;33m!=\u001b[0m \u001b[1;36m220\u001b[0m\u001b[1;33m:\u001b[0m\u001b[1;33m\u001b[0m\u001b[0m\n\u001b[1;32m    253\u001b[0m                 \u001b[1;32mraise\u001b[0m \u001b[0mSMTPConnectError\u001b[0m\u001b[1;33m(\u001b[0m\u001b[0mcode\u001b[0m\u001b[1;33m,\u001b[0m \u001b[0mmsg\u001b[0m\u001b[1;33m)\u001b[0m\u001b[1;33m\u001b[0m\u001b[0m\n",
      "\u001b[0;32mC:\\Users\\13126\\Anaconda3\\lib\\smtplib.py\u001b[0m in \u001b[0;36mconnect\u001b[0;34m(self, host, port, source_address)\u001b[0m\n\u001b[1;32m    333\u001b[0m         \u001b[1;32mif\u001b[0m \u001b[0mself\u001b[0m\u001b[1;33m.\u001b[0m\u001b[0mdebuglevel\u001b[0m \u001b[1;33m>\u001b[0m \u001b[1;36m0\u001b[0m\u001b[1;33m:\u001b[0m\u001b[1;33m\u001b[0m\u001b[0m\n\u001b[1;32m    334\u001b[0m             \u001b[0mself\u001b[0m\u001b[1;33m.\u001b[0m\u001b[0m_print_debug\u001b[0m\u001b[1;33m(\u001b[0m\u001b[1;34m'connect:'\u001b[0m\u001b[1;33m,\u001b[0m \u001b[1;33m(\u001b[0m\u001b[0mhost\u001b[0m\u001b[1;33m,\u001b[0m \u001b[0mport\u001b[0m\u001b[1;33m)\u001b[0m\u001b[1;33m)\u001b[0m\u001b[1;33m\u001b[0m\u001b[0m\n\u001b[0;32m--> 335\u001b[0;31m         \u001b[0mself\u001b[0m\u001b[1;33m.\u001b[0m\u001b[0msock\u001b[0m \u001b[1;33m=\u001b[0m \u001b[0mself\u001b[0m\u001b[1;33m.\u001b[0m\u001b[0m_get_socket\u001b[0m\u001b[1;33m(\u001b[0m\u001b[0mhost\u001b[0m\u001b[1;33m,\u001b[0m \u001b[0mport\u001b[0m\u001b[1;33m,\u001b[0m \u001b[0mself\u001b[0m\u001b[1;33m.\u001b[0m\u001b[0mtimeout\u001b[0m\u001b[1;33m)\u001b[0m\u001b[1;33m\u001b[0m\u001b[0m\n\u001b[0m\u001b[1;32m    336\u001b[0m         \u001b[0mself\u001b[0m\u001b[1;33m.\u001b[0m\u001b[0mfile\u001b[0m \u001b[1;33m=\u001b[0m \u001b[1;32mNone\u001b[0m\u001b[1;33m\u001b[0m\u001b[0m\n\u001b[1;32m    337\u001b[0m         \u001b[1;33m(\u001b[0m\u001b[0mcode\u001b[0m\u001b[1;33m,\u001b[0m \u001b[0mmsg\u001b[0m\u001b[1;33m)\u001b[0m \u001b[1;33m=\u001b[0m \u001b[0mself\u001b[0m\u001b[1;33m.\u001b[0m\u001b[0mgetreply\u001b[0m\u001b[1;33m(\u001b[0m\u001b[1;33m)\u001b[0m\u001b[1;33m\u001b[0m\u001b[0m\n",
      "\u001b[0;32mC:\\Users\\13126\\Anaconda3\\lib\\smtplib.py\u001b[0m in \u001b[0;36m_get_socket\u001b[0;34m(self, host, port, timeout)\u001b[0m\n\u001b[1;32m    304\u001b[0m             \u001b[0mself\u001b[0m\u001b[1;33m.\u001b[0m\u001b[0m_print_debug\u001b[0m\u001b[1;33m(\u001b[0m\u001b[1;34m'connect: to'\u001b[0m\u001b[1;33m,\u001b[0m \u001b[1;33m(\u001b[0m\u001b[0mhost\u001b[0m\u001b[1;33m,\u001b[0m \u001b[0mport\u001b[0m\u001b[1;33m)\u001b[0m\u001b[1;33m,\u001b[0m \u001b[0mself\u001b[0m\u001b[1;33m.\u001b[0m\u001b[0msource_address\u001b[0m\u001b[1;33m)\u001b[0m\u001b[1;33m\u001b[0m\u001b[0m\n\u001b[1;32m    305\u001b[0m         return socket.create_connection((host, port), timeout,\n\u001b[0;32m--> 306\u001b[0;31m                                         self.source_address)\n\u001b[0m\u001b[1;32m    307\u001b[0m \u001b[1;33m\u001b[0m\u001b[0m\n\u001b[1;32m    308\u001b[0m     \u001b[1;32mdef\u001b[0m \u001b[0mconnect\u001b[0m\u001b[1;33m(\u001b[0m\u001b[0mself\u001b[0m\u001b[1;33m,\u001b[0m \u001b[0mhost\u001b[0m\u001b[1;33m=\u001b[0m\u001b[1;34m'localhost'\u001b[0m\u001b[1;33m,\u001b[0m \u001b[0mport\u001b[0m\u001b[1;33m=\u001b[0m\u001b[1;36m0\u001b[0m\u001b[1;33m,\u001b[0m \u001b[0msource_address\u001b[0m\u001b[1;33m=\u001b[0m\u001b[1;32mNone\u001b[0m\u001b[1;33m)\u001b[0m\u001b[1;33m:\u001b[0m\u001b[1;33m\u001b[0m\u001b[0m\n",
      "\u001b[0;32mC:\\Users\\13126\\Anaconda3\\lib\\socket.py\u001b[0m in \u001b[0;36mcreate_connection\u001b[0;34m(address, timeout, source_address)\u001b[0m\n\u001b[1;32m    709\u001b[0m \u001b[1;33m\u001b[0m\u001b[0m\n\u001b[1;32m    710\u001b[0m     \u001b[1;32mif\u001b[0m \u001b[0merr\u001b[0m \u001b[1;32mis\u001b[0m \u001b[1;32mnot\u001b[0m \u001b[1;32mNone\u001b[0m\u001b[1;33m:\u001b[0m\u001b[1;33m\u001b[0m\u001b[0m\n\u001b[0;32m--> 711\u001b[0;31m         \u001b[1;32mraise\u001b[0m \u001b[0merr\u001b[0m\u001b[1;33m\u001b[0m\u001b[0m\n\u001b[0m\u001b[1;32m    712\u001b[0m     \u001b[1;32melse\u001b[0m\u001b[1;33m:\u001b[0m\u001b[1;33m\u001b[0m\u001b[0m\n\u001b[1;32m    713\u001b[0m         \u001b[1;32mraise\u001b[0m \u001b[0merror\u001b[0m\u001b[1;33m(\u001b[0m\u001b[1;34m\"getaddrinfo returns an empty list\"\u001b[0m\u001b[1;33m)\u001b[0m\u001b[1;33m\u001b[0m\u001b[0m\n",
      "\u001b[0;32mC:\\Users\\13126\\Anaconda3\\lib\\socket.py\u001b[0m in \u001b[0;36mcreate_connection\u001b[0;34m(address, timeout, source_address)\u001b[0m\n\u001b[1;32m    700\u001b[0m             \u001b[1;32mif\u001b[0m \u001b[0msource_address\u001b[0m\u001b[1;33m:\u001b[0m\u001b[1;33m\u001b[0m\u001b[0m\n\u001b[1;32m    701\u001b[0m                 \u001b[0msock\u001b[0m\u001b[1;33m.\u001b[0m\u001b[0mbind\u001b[0m\u001b[1;33m(\u001b[0m\u001b[0msource_address\u001b[0m\u001b[1;33m)\u001b[0m\u001b[1;33m\u001b[0m\u001b[0m\n\u001b[0;32m--> 702\u001b[0;31m             \u001b[0msock\u001b[0m\u001b[1;33m.\u001b[0m\u001b[0mconnect\u001b[0m\u001b[1;33m(\u001b[0m\u001b[0msa\u001b[0m\u001b[1;33m)\u001b[0m\u001b[1;33m\u001b[0m\u001b[0m\n\u001b[0m\u001b[1;32m    703\u001b[0m             \u001b[1;32mreturn\u001b[0m \u001b[0msock\u001b[0m\u001b[1;33m\u001b[0m\u001b[0m\n\u001b[1;32m    704\u001b[0m \u001b[1;33m\u001b[0m\u001b[0m\n",
      "\u001b[0;31mConnectionRefusedError\u001b[0m: [WinError 10061] 由于目标计算机积极拒绝，无法连接。"
     ]
    }
   ],
   "source": [
    "import smtplib \n",
    "from email.mime.text import MIMEText \n",
    "from bs4 import BeautifulSoup \n",
    "from urllib.request import urlopen \n",
    "import time \n",
    " \n",
    "def sendMail(subject, body):     \n",
    "    msg = MIMEText(body) \n",
    "    msg['Subject'] = subject     \n",
    "    msg['From'] = \"christmas_alerts@pythonscraping.com\"     \n",
    "    msg['To'] = \"ryan@pythonscraping.com\" \n",
    " \n",
    "s = smtplib.SMTP('localhost') \n",
    "s.send_message(msg) \n",
    "s.quit() \n",
    " \n",
    "bsObj = BeautifulSoup(urlopen(\"https://isitchristmas.com/\")) \n",
    "while(bsObj.find(\"a\", {\"id\":\"answer\"}).attrs['title'] == \"NO\"):     \n",
    "    print(\"It is not Christmas yet.\")     \n",
    "    time.sleep(3600) \n",
    "bsObj = BeautifulSoup(urlopen(\"https://isitchristmas.com/\")) \n",
    "sendMail(\"It's Christmas!\",          \n",
    "         \"According to http://itischristmas.com, it is Christmas!\")"
   ]
  }
 ],
 "metadata": {
  "anaconda-cloud": {},
  "kernelspec": {
   "display_name": "Python [conda root]",
   "language": "python",
   "name": "conda-root-py"
  },
  "language_info": {
   "codemirror_mode": {
    "name": "ipython",
    "version": 3
   },
   "file_extension": ".py",
   "mimetype": "text/x-python",
   "name": "python",
   "nbconvert_exporter": "python",
   "pygments_lexer": "ipython3",
   "version": "3.5.2"
  }
 },
 "nbformat": 4,
 "nbformat_minor": 1
}

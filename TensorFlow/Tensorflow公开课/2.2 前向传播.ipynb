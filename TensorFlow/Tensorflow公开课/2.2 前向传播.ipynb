{
 "cells": [
  {
   "cell_type": "code",
   "execution_count": 19,
   "metadata": {},
   "outputs": [
    {
     "name": "stdout",
     "output_type": "stream",
     "text": [
      "<tf.Variable 'Variable_17:0' shape=(2, 3) dtype=float32_ref> Tensor(\"truncated_normal_17:0\", shape=(2, 3), dtype=float32) Tensor(\"random_uniform_17:0\", shape=(2, 3), dtype=float32) Tensor(\"zeros_14:0\", shape=(3, 2), dtype=float32) Tensor(\"ones_13:0\", shape=(3, 2), dtype=float32) Tensor(\"Fill_12:0\", shape=(3, 2), dtype=int32) Tensor(\"Const_12:0\", shape=(3,), dtype=int32)\n",
      "[[-0.85811085 -0.19662298  0.13895045]\n",
      " [-1.22127676 -0.40341285 -1.1454041 ]]\n",
      "[[-0.7393536   1.42231476  0.98564249]\n",
      " [ 1.08530426 -0.08892716  0.98111445]]\n",
      "[[ 0.49360466  0.25720024  0.4124434 ]\n",
      " [ 0.64933276  0.84061074  0.23855305]]\n",
      "[[ 0.  0.]\n",
      " [ 0.  0.]\n",
      " [ 0.  0.]]\n",
      "[[ 1.  1.]\n",
      " [ 1.  1.]\n",
      " [ 1.  1.]]\n",
      "[[6 6]\n",
      " [6 6]\n",
      " [6 6]]\n",
      "[3 2 1]\n"
     ]
    }
   ],
   "source": [
    "import tensorflow as tf\n",
    "\n",
    "w1 = tf.Variable(tf.random_normal([2,3],stddev=1,mean=0,seed=2))#标准正态分布输出随机值\n",
    "w2 = tf.truncated_normal([2,3])  \n",
    "#tf.truncated_normal(shape, mean=0.0, stddev=1.0, dtype=tf.float32, seed=None, name=None)        \n",
    "#从截断的正态分布中输出随机值。shape表示生成张量的维度，mean是均值，stddev是标准差。\n",
    "w3 = tf.random_uniform([2,3])\n",
    "#tf.random_uniform((6, 6), minval=low,maxval=high,dtype=tf.float32)))返回6*6的矩阵，产生于low和high之间，产生的值是均匀分布的。\n",
    "w4 = tf.zeros([3,2])\n",
    "w5 = tf.ones([3,2])\n",
    "w6 = tf.fill([3,2],6)\n",
    "w7 = tf.constant([3,2,1])\n",
    "\n",
    "print w1,w2,w3,w4,w5,w6,w7\n",
    "\n",
    "with tf.Session() as sess:\n",
    "    init_op=tf.global_variables_initializer()\n",
    "    sess.run(init_op)\n",
    "    \n",
    "    print sess.run(w1)\n",
    "    print sess.run(w2)\n",
    "    print sess.run(w3)\n",
    "    print sess.run(w4)\n",
    "    print sess.run(w5)\n",
    "    print sess.run(w6)\n",
    "    print sess.run(w7)"
   ]
  },
  {
   "cell_type": "code",
   "execution_count": 20,
   "metadata": {},
   "outputs": [
    {
     "name": "stdout",
     "output_type": "stream",
     "text": [
      "y in tf3_3.py is:\n",
      "[[ 3.0904665]]\n"
     ]
    }
   ],
   "source": [
    "#coding:utf-8\n",
    "import tensorflow as tf\n",
    "\n",
    "#定义输入和参数\n",
    "x=tf.placeholder(tf.float32,shape=(1,2))\n",
    "w1=tf.Variable(tf.random_normal([2,3],stddev=1,seed=1))\n",
    "w2=tf.Variable(tf.random_normal([3,1],stddev=1,seed=1))\n",
    "\n",
    "#定义前向传播过程\n",
    "a=tf.matmul(x,w1)\n",
    "y=tf.matmul(a,w2)\n",
    "\n",
    "#用会话计算结果\n",
    "with tf.Session() as sess:\n",
    "    init_op=tf.global_variables_initializer()\n",
    "    sess.run(init_op)\n",
    "    print \"y in tf3_3.py is:\\n\",sess.run(y,feed_dict={x:[[0.7,0.5]]})"
   ]
  },
  {
   "cell_type": "code",
   "execution_count": 7,
   "metadata": {},
   "outputs": [
    {
     "name": "stdout",
     "output_type": "stream",
     "text": [
      "y in tf3_4.py is:\n",
      "[[ 3.0904665 ]\n",
      " [ 1.2236414 ]\n",
      " [ 1.72707319]\n",
      " [ 2.23050475]]\n"
     ]
    }
   ],
   "source": [
    "#coding:utf-8\n",
    "import tensorflow as tf\n",
    "\n",
    "#定义输入和参数\n",
    "x=tf.placeholder(tf.float32,shape=(None,2))\n",
    "w1=tf.Variable(tf.random_normal([2,3],stddev=1,seed=1))\n",
    "w2=tf.Variable(tf.random_normal([3,1],stddev=1,seed=1))\n",
    "\n",
    "#定义前向传播过程\n",
    "a=tf.matmul(x,w1)\n",
    "y=tf.matmul(a,w2)\n",
    "\n",
    "#用会话计算结果\n",
    "with tf.Session() as sess:\n",
    "    init_op=tf.global_variables_initializer()\n",
    "    sess.run(init_op)\n",
    "    print \"y in tf3_4.py is:\\n\",sess.run(y,feed_dict={x:[[0.7,0.5],[0.2,0.3],[0.3,0.4],[0.4,0.5]]})"
   ]
  }
 ],
 "metadata": {
  "kernelspec": {
   "display_name": "tensorflow",
   "language": "python",
   "name": "tfpy3"
  },
  "language_info": {
   "codemirror_mode": {
    "name": "ipython",
    "version": 2
   },
   "file_extension": ".py",
   "mimetype": "text/x-python",
   "name": "python",
   "nbconvert_exporter": "python",
   "pygments_lexer": "ipython2",
   "version": "2.7.6"
  }
 },
 "nbformat": 4,
 "nbformat_minor": 2
}

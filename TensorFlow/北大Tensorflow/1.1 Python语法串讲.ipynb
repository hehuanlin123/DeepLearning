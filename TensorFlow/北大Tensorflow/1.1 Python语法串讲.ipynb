{
 "cells": [
  {
   "cell_type": "markdown",
   "metadata": {},
   "source": [
    "## pickle文件操作"
   ]
  },
  {
   "cell_type": "code",
   "execution_count": 1,
   "metadata": {
    "collapsed": true
   },
   "outputs": [],
   "source": [
    "import pickle\n",
    "\n",
    "game_data = {\"position\":\"N2 E3\",\"pocket\":[\"keys\",\"knife\"],\"money\":160}\n",
    "\n",
    "save_file = open(\"save.dat\",\"wb\")\n",
    "\n",
    "pickle.dump(game_data,save_file)\n",
    "\n",
    "save_file.close()"
   ]
  },
  {
   "cell_type": "code",
   "execution_count": 2,
   "metadata": {},
   "outputs": [
    {
     "name": "stdout",
     "output_type": "stream",
     "text": [
      "{'pocket': ['keys', 'knife'], 'position': 'N2 E3', 'money': 160}\n"
     ]
    }
   ],
   "source": [
    "import pickle\n",
    "\n",
    "load_file = open(\"save.dat\",\"rb\")\n",
    "\n",
    "load_game_data = pickle.load(load_file)\n",
    "\n",
    "load_file.close()\n",
    "\n",
    "print(load_game_data)"
   ]
  }
 ],
 "metadata": {
  "kernelspec": {
   "display_name": "tensorflow",
   "language": "python",
   "name": "tfpy3"
  },
  "language_info": {
   "codemirror_mode": {
    "name": "ipython",
    "version": 2
   },
   "file_extension": ".py",
   "mimetype": "text/x-python",
   "name": "python",
   "nbconvert_exporter": "python",
   "pygments_lexer": "ipython2",
   "version": "2.7.6"
  }
 },
 "nbformat": 4,
 "nbformat_minor": 2
}

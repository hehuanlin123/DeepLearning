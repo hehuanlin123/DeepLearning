{
 "cells": [
  {
   "cell_type": "code",
   "execution_count": 7,
   "metadata": {
    "collapsed": false
   },
   "outputs": [
    {
     "name": "stdout",
     "output_type": "stream",
     "text": [
      "Tensor(\"Relu_10:0\", shape=(?, 3), dtype=float32)\n",
      "Tensor(\"Relu_11:0\", shape=(?, 1), dtype=float32)\n"
     ]
    }
   ],
   "source": [
    "import tensorflow as tf\n",
    "\n",
    "w1 = tf.Variable(tf.random_normal([2,3],stddev=1,seed=1))\n",
    "w2 = tf.Variable(tf.random_normal([3,1],stddev=1,seed=1))\n",
    "\n",
    "x = tf.placeholder(tf.float32,shape=(None,2),name=\"x-input\")\n",
    "biases1 = 1\n",
    "biases2 = 1\n",
    "\n",
    "a = tf.nn.relu(tf.matmul(x,w1) + biases1)\n",
    "y = tf.nn.relu(tf.matmul(a,w2) + biases2)\n",
    "\n",
    "print(a)\n",
    "print(y)"
   ]
  },
  {
   "cell_type": "code",
   "execution_count": 13,
   "metadata": {
    "collapsed": false
   },
   "outputs": [
    {
     "name": "stdout",
     "output_type": "stream",
     "text": [
      "[[2.5 2.5 3. ]\n",
      " [4.  4.5 4.5]]\n",
      "[0.        0.6931472 1.0986123]\n",
      "[[ 5. 12.]\n",
      " [21. 32.]]\n",
      "[[19. 22.]\n",
      " [43. 50.]]\n",
      "3.5\n"
     ]
    }
   ],
   "source": [
    "import tensorflow as tf\n",
    "\n",
    "with tf.Session() as sess:\n",
    "    y_ = tf.placeholder(tf.float32,shape=(None,1),name=\"y-input\")\n",
    "\n",
    "    cross_entropy = -tf.reduce_mean(y_ * tf.log(tf.clip_by_value(y,1e-10,1.0)))\n",
    "\n",
    "    v = tf.constant([[1.0,2.0,3.0],[4.0,5.0,6.0]])\n",
    "    print(tf.clip_by_value(v,2.5,4.5).eval())\n",
    "\n",
    "    v = tf.constant([1.0,2.0,3.0])\n",
    "    print(tf.log(v).eval())\n",
    "\n",
    "    v1 = tf.constant([[1.0,2.0],[3.0,4.0]])\n",
    "    v2 = tf.constant([[5.0,6.0],[7.0,8.0]])\n",
    "    \n",
    "    print((v1 * v2).eval())\n",
    "    print((tf.matmul(v1,v2)).eval())\n",
    "    \n",
    "    v = tf.constant([[1.0,2.0,3.0],[4.0,5.0,6.0]])\n",
    "    print(tf.reduce_mean(v).eval())\n",
    "    \n",
    "    cross_entropy = tf.nn.softmax_cross_entropy_with_logits(labels = y,logits = y_)#交叉熵损失函数\n",
    "    print(cross_entropy)\n",
    "    \n",
    "    mse = tf.reduce_mean(tf.square(y_ - y))#均方根误差\n",
    "    print(mse)"
   ]
  }
 ],
 "metadata": {
  "anaconda-cloud": {},
  "kernelspec": {
   "display_name": "Python [conda env:tensorflow]",
   "language": "python",
   "name": "conda-env-tensorflow-py"
  },
  "language_info": {
   "codemirror_mode": {
    "name": "ipython",
    "version": 3
   },
   "file_extension": ".py",
   "mimetype": "text/x-python",
   "name": "python",
   "nbconvert_exporter": "python",
   "pygments_lexer": "ipython3",
   "version": "3.5.4"
  }
 },
 "nbformat": 4,
 "nbformat_minor": 1
}

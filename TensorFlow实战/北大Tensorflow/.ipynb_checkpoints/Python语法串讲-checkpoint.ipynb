{
 "cells": [
  {
   "cell_type": "markdown",
   "metadata": {},
   "source": [
    "## pickle文件操作"
   ]
  },
  {
   "cell_type": "code",
   "execution_count": 39,
   "metadata": {},
   "outputs": [],
   "source": [
    "import pickle\n",
    "\n",
    "game_data = {\"position\":\"N2 E3\",\"pocket\":[\"keys\",\"knife\"],\"money\":160}\n",
    "\n",
    "save_file = open(\"save.dat\",\"wb\")\n",
    "\n",
    "pickle.dump(game_data,save_file)\n",
    "\n",
    "save_file.close()"
   ]
  },
  {
   "cell_type": "code",
   "execution_count": 40,
   "metadata": {},
   "outputs": [
    {
     "name": "stdout",
     "output_type": "stream",
     "text": [
      "{'position': 'N2 E3', 'pocket': ['keys', 'knife'], 'money': 160}\n"
     ]
    }
   ],
   "source": [
    "import pickle\n",
    "\n",
    "load_file = open(\"save.dat\",\"rb\")\n",
    "\n",
    "load_game_data = pickle.load(load_file)\n",
    "\n",
    "load_file.close()\n",
    "\n",
    "print(load_game_data)"
   ]
  }
 ],
 "metadata": {
  "kernelspec": {
   "display_name": "Python 3",
   "language": "python",
   "name": "python3"
  },
  "language_info": {
   "codemirror_mode": {
    "name": "ipython",
    "version": 3
   },
   "file_extension": ".py",
   "mimetype": "text/x-python",
   "name": "python",
   "nbconvert_exporter": "python",
   "pygments_lexer": "ipython3",
   "version": "3.6.4"
  }
 },
 "nbformat": 4,
 "nbformat_minor": 2
}

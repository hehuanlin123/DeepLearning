{
 "cells": [
  {
   "cell_type": "code",
   "execution_count": 2,
   "metadata": {},
   "outputs": [
    {
     "name": "stdout",
     "output_type": "stream",
     "text": [
      "[0.0, 0.0]\n",
      "[1.0, 0.9]\n",
      "[10.0, 1.6445453]\n",
      "[10.0, 2.3281732]\n",
      "[10.0, 2.955868]\n",
      "[10.0, 3.532206]\n",
      "[10.0, 4.061389]\n",
      "[10.0, 4.547275]\n",
      "[10.0, 4.9934072]\n"
     ]
    }
   ],
   "source": [
    "#coding:utf-8\n",
    "import tensorflow as tf\n",
    "\n",
    "#1.定义变量及滑动平均类\n",
    "#定义一个32位浮点变量，初始值为0.0，这个代码就是不断更新w1参数，优化w1参数，滑动平均做了>个w1的影子\n",
    "w1 = tf.Variable(0,dtype=tf.float32)\n",
    "\n",
    "#定义num_updates(NN的迭代轮数)，初始值为0，不可被优化（训练），这个参数不训练\n",
    "global_step = tf.Variable(0,trainable=False)\n",
    "\n",
    "#实例化滑动平均类，给删减率为0.99，当前轮数global_step\n",
    "MOVING_AVERAGE_DECAY = 0.99\n",
    "ema = tf.train.ExponentialMovingAverage(MOVING_AVERAGE_DECAY,global_step)\n",
    "\n",
    "#ema.apply后的括号里是更新列表，每次运行sess.run(ema_op)时，对更新列表中的元素求滑动平均值\n",
    "#在实际应用中会使用tf.trainable_variables()自动将所有待训练的参数汇总为列表\n",
    "#ema_op = ema.apply([w1])\n",
    "ema_op = ema.apply(tf.trainable_variables())\n",
    "\n",
    "#2.查看不同迭代中变量取值的变化\n",
    "with tf.Session() as sess:\n",
    "    #初始化\n",
    "    init_op = tf.global_variables_initializer()\n",
    "    sess.run(init_op)\n",
    "    \n",
    "    #用ema.average(w1)获取w1滑动平均值（要运行多个节点，作为列表中的元素列出，写在sess.run中）\n",
    "    #打印出当前参数w1和w2滑动平均值\n",
    "    print sess.run([w1,ema.average(w1)])\n",
    "    \n",
    "    #参数w1的值赋为1\n",
    "    sess.run(tf.assign(w1,1))\n",
    "    sess.run(ema_op)\n",
    "    print sess.run([w1,ema.average(w1)])\n",
    "    \n",
    "    #更新step和w1的值，模拟出100轮迭代后，参数w1变为10\n",
    "    sess.run(tf.assign(global_step,100))\n",
    "    sess.run(tf.assign(w1,10))\n",
    "    sess.run(ema_op)\n",
    "    print sess.run([w1,ema.average(w1)])\n",
    "    \n",
    "    #每次sess.run会更新一次w1的滑动平均值\n",
    "    sess.run(ema_op)\n",
    "    print sess.run([w1,ema.average(w1)])\n",
    "    \n",
    "    sess.run(ema_op)\n",
    "    print sess.run([w1,ema.average(w1)])\n",
    "    \n",
    "    sess.run(ema_op)\n",
    "    print sess.run([w1,ema.average(w1)])\n",
    "    \n",
    "    sess.run(ema_op)\n",
    "    print sess.run([w1,ema.average(w1)])\n",
    "    \n",
    "    sess.run(ema_op)\n",
    "    print sess.run([w1,ema.average(w1)])\n",
    "    \n",
    "    sess.run(ema_op)\n",
    "    print sess.run([w1,ema.average(w1)])\n",
    "    \n",
    "#更改MOVING_AVERAGE_DECAY为0.1，看影子追随速度"
   ]
  }
 ],
 "metadata": {
  "kernelspec": {
   "display_name": "tensorflow",
   "language": "python",
   "name": "tfpy3"
  },
  "language_info": {
   "codemirror_mode": {
    "name": "ipython",
    "version": 2
   },
   "file_extension": ".py",
   "mimetype": "text/x-python",
   "name": "python",
   "nbconvert_exporter": "python",
   "pygments_lexer": "ipython2",
   "version": "2.7.13"
  }
 },
 "nbformat": 4,
 "nbformat_minor": 2
}

{
 "cells": [
  {
   "cell_type": "markdown",
   "metadata": {},
   "source": [
    "# Step1:数据预处理"
   ]
  },
  {
   "cell_type": "code",
   "execution_count": 3,
   "metadata": {
    "collapsed": true
   },
   "outputs": [],
   "source": [
    "#coding:utf-8\n",
    "import numpy as np # linear algebra\n",
    "import pandas as pd # data processing, CSV file I/O (e.g. pd.read_csv)\n",
    "import os\n",
    "import warnings\n",
    "warnings.filterwarnings(\"ignore\")"
   ]
  },
  {
   "cell_type": "code",
   "execution_count": 4,
   "metadata": {},
   "outputs": [
    {
     "data": {
      "text/plain": [
       "['listing_info.csv',\n",
       " '.DS_Store',\n",
       " 'user_taglist.csv',\n",
       " 'test.csv',\n",
       " 'submission.csv',\n",
       " 'user_info.csv',\n",
       " 'train.csv',\n",
       " 'user_behavior_logs.csv',\n",
       " 'user_repay_logs.csv']"
      ]
     },
     "execution_count": 4,
     "metadata": {},
     "output_type": "execute_result"
    }
   ],
   "source": [
    "os.listdir(\"/Users/szkfzx/datasets/papadai\")"
   ]
  },
  {
   "cell_type": "code",
   "execution_count": null,
   "metadata": {
    "collapsed": true
   },
   "outputs": [],
   "source": [
    "train = pd.read_csv('/Users/szkfzx/datasets/papadai/train.csv')\n",
    "test = pd.read_csv('/Users/szkfzx/datasets/papadai/test.csv')\n",
    "submission = pd.read_csv('/Users/szkfzx/datasets/papadai/submission.csv')\n",
    "listing_info = pd.read_csv('/Users/szkfzx/datasets/papadai/listing_info.csv')\n",
    "user_taglist = pd.read_csv('/Users/szkfzx/datasets/papadai/user_taglist.csv')\n",
    "user_info = pd.read_csv('/Users/szkfzx/datasets/papadai/user_info.csv')\n",
    "user_behavior_logs = pd.read_csv('/Users/szkfzx/datasets/papadai/user_behavior_logs.csv')\n",
    "user_repay_logs = pd.read_csv('/Users/szkfzx/datasets/papadai/user_repay_logs.csv')"
   ]
  },
  {
   "cell_type": "code",
   "execution_count": null,
   "metadata": {},
   "outputs": [],
   "source": [
    "train.head(10)"
   ]
  },
  {
   "cell_type": "code",
   "execution_count": null,
   "metadata": {},
   "outputs": [],
   "source": [
    "test.head(10)"
   ]
  },
  {
   "cell_type": "code",
   "execution_count": null,
   "metadata": {},
   "outputs": [],
   "source": [
    "submission.head(10)"
   ]
  },
  {
   "cell_type": "code",
   "execution_count": null,
   "metadata": {},
   "outputs": [],
   "source": [
    "listing_info.head(10)"
   ]
  },
  {
   "cell_type": "code",
   "execution_count": null,
   "metadata": {},
   "outputs": [],
   "source": [
    "user_taglist.head(10)"
   ]
  },
  {
   "cell_type": "code",
   "execution_count": null,
   "metadata": {},
   "outputs": [],
   "source": [
    "user_info.head(10)"
   ]
  },
  {
   "cell_type": "code",
   "execution_count": null,
   "metadata": {},
   "outputs": [],
   "source": [
    "user_behavior_logs.head(10)"
   ]
  },
  {
   "cell_type": "code",
   "execution_count": null,
   "metadata": {},
   "outputs": [],
   "source": [
    "user_repay_logs.head(10)"
   ]
  },
  {
   "cell_type": "code",
   "execution_count": null,
   "metadata": {
    "collapsed": true
   },
   "outputs": [],
   "source": [
    "#合并train和user_info\n",
    "train_userinfo = pd.merge(train, user_info, on='user_id', how='outer')\n",
    "#合并train_userinfo和user_taglist\n",
    "train_userinfo_tag = pd.merge(train_userinfo, user_taglist, on='user_id', how='outer')\n",
    "#合并train_userinfo_tag和user_behavior_logs\n",
    "train_userinfo_tag_behavior = pd.merge(train_userinfo_tag, user_behavior_logs, on='user_id', how='outer')\n",
    "#合并train_userinfo_tag和listing_info\n",
    "train_userinfo_tag_behavior_list = pd.merge(train_userinfo_tag_behavior, listing_info, on=['user_id','listing_id'], how='outer')\n",
    "#多键联合合并train_userinfo_tag_behavior_list和user_repay_logs\n",
    "train_userinfo_tag_behavior_list_repay = pd.merge(train_userinfo_tag_behavior_list, user_repay_logs, on=['user_id','listing_id'], how='outer')\n"
   ]
  },
  {
   "cell_type": "code",
   "execution_count": null,
   "metadata": {},
   "outputs": [],
   "source": [
    "train_userinfo_tag_behavior_list_repay.head(10)"
   ]
  },
  {
   "cell_type": "code",
   "execution_count": null,
   "metadata": {
    "collapsed": true
   },
   "outputs": [],
   "source": [
    "#去掉训练集userid、listing_id、repay_amt_x、repay_date_x\n",
    "# train_userinfo_tag_behavior_list_repay.drop(['user_id','listing_id'],axis=1,inplace=True)\n"
   ]
  },
  {
   "cell_type": "code",
   "execution_count": null,
   "metadata": {
    "collapsed": true
   },
   "outputs": [],
   "source": [
    "new_train = train_userinfo_tag_behavior_list_repay\n",
    "y_train_amt = train_userinfo_tag_behavior_list_repay['repay_amt_x']\n",
    "y_train_date = train_userinfo_tag_behavior_list_repay['repay_date_x']"
   ]
  },
  {
   "cell_type": "code",
   "execution_count": null,
   "metadata": {},
   "outputs": [],
   "source": [
    "#合并test和user_info\n",
    "test_userinfo = pd.merge(test, user_info, on='user_id', how='outer')\n",
    "#合并test_userinfo和user_taglist\n",
    "test_userinfo_tag = pd.merge(test_userinfo, user_taglist, on='user_id', how='outer')\n",
    "#合并test_userinfo_tag和user_behavior_logs\n",
    "test_userinfo_tag_behavior = pd.merge(test_userinfo_tag, user_behavior_logs, on='user_id', how='outer')\n",
    "#合并test_userinfo_tag_behavior和listing_info\n",
    "test_userinfo_tag_behavior_list = pd.merge(test_userinfo_tag_behavior, listing_info, on=['user_id','listing_id'], how='outer')\n",
    "#多键联合合并test_userinfo_tag_behavior_list和user_repay_logs\n",
    "test_userinfo_tag_behavior_list_repay = pd.merge(test_userinfo_tag_behavior_list, user_repay_logs, on=['user_id','listing_id'], how='outer')"
   ]
  },
  {
   "cell_type": "code",
   "execution_count": null,
   "metadata": {},
   "outputs": [],
   "source": [
    "test_userinfo_tag_behavior_list_repay.head(100)"
   ]
  },
  {
   "cell_type": "code",
   "execution_count": null,
   "metadata": {
    "collapsed": true
   },
   "outputs": [],
   "source": [
    "#去掉测试集userid和listing_id\n",
    "# test_userinfo_tag_behavior_list_repay.drop(['user_id','listing_id'], axis=1, inplace = True)\n"
   ]
  },
  {
   "cell_type": "code",
   "execution_count": null,
   "metadata": {
    "collapsed": true
   },
   "outputs": [],
   "source": [
    "new_test = test_userinfo_tag_behavior_list_repay"
   ]
  },
  {
   "cell_type": "code",
   "execution_count": null,
   "metadata": {
    "collapsed": true
   },
   "outputs": [],
   "source": [
    "#合并训练集和测试集\n",
    "new_train_test_data = [new_train, new_test]"
   ]
  },
  {
   "cell_type": "code",
   "execution_count": null,
   "metadata": {
    "collapsed": true
   },
   "outputs": [],
   "source": [
    "#替换性别为0-男 1-女\n",
    "sex_mapping = {\"男\": 0, \"女\": 1}\n",
    "for dataset in new_train_test_data:\n",
    "    dataset['gender\t'] = dataset['gender'].map(sex_mapping)"
   ]
  },
  {
   "cell_type": "code",
   "execution_count": null,
   "metadata": {
    "collapsed": true
   },
   "outputs": [],
   "source": [
    "#统一处理年龄分段\n",
    "for dataset in new_train_test_data:\n",
    "    dataset.loc[ dataset['age'] <= 16, 'age'] = 0,\n",
    "    dataset.loc[(dataset['age'] > 16) & (dataset['age'] <= 26), 'age'] = 1,\n",
    "    dataset.loc[(dataset['age'] > 26) & (dataset['age'] <= 36), 'age'] = 2,\n",
    "    dataset.loc[(dataset['age'] > 36) & (dataset['age'] <= 62), 'age'] = 3,\n",
    "    dataset.loc[ dataset['age'] > 62, 'age'] = 4"
   ]
  },
  {
   "cell_type": "code",
   "execution_count": null,
   "metadata": {
    "collapsed": true
   },
   "outputs": [],
   "source": [
    "new_train.isnull().sum()\n",
    "new_test.isnull().sum()"
   ]
  },
  {
   "cell_type": "code",
   "execution_count": null,
   "metadata": {
    "collapsed": true
   },
   "outputs": [],
   "source": [
    "#处理缺失值\n",
    "new_train.fillna(\"0\")\n",
    "new_test.fillna(\"0\")"
   ]
  },
  {
   "cell_type": "code",
   "execution_count": null,
   "metadata": {
    "collapsed": true
   },
   "outputs": [],
   "source": [
    "#处理时间日期格式\n",
    "def str_data_to_num(str_data):\n",
    "    # 格式时间成毫秒\n",
    "    strptime = time.strptime(str_data,\"%Y-%m-%d %H:%M:%S\")\n",
    "    print(\"strptime\",strptime)\n",
    "    mktime = int(time.mktime(strptime)*1000)\n",
    "    print(\"mktime\",mktime)\n",
    "    return mktime\n",
    "\n",
    "date_list = ['auditing_date_x','due_date_x','reg_mon','auditing_date_y','due_date_y','repay_date']\n",
    "for dataset in new_train_test_data:\n",
    "    for i in date_list:\n",
    "        for str_data in dataset[i]:\n",
    "            str_data_to_num(str_data)"
   ]
  },
  {
   "cell_type": "markdown",
   "metadata": {},
   "source": [
    "# Step2:特征工程"
   ]
  },
  {
   "cell_type": "code",
   "execution_count": null,
   "metadata": {
    "collapsed": true
   },
   "outputs": [],
   "source": [
    "# model_selection和ensemble通常一起使用\n",
    "from sklearn import model_selection\n",
    "from sklearn import ensemble\n",
    "NUM_OF_FEATURES = 20\n",
    "def rmsle(y, pred):\n",
    "    return np.sqrt(np.mean(np.power(y - pred, 2)))\n",
    "\n",
    "x1, x2, y1, y2 = model_selection.train_test_split(\n",
    "    new_train, y_train.values, test_size=0.20, random_state=5)\n",
    "\n",
    "model = ensemble.RandomForestRegressor(n_jobs=-1, random_state=7)\n",
    "model.fit(x1, y1)\n",
    "\n",
    "print(rmsle(y2, model.predict(x2)))\n",
    "\n",
    "col = pd.DataFrame({'importance': model.feature_importances_, 'feature': new_train.columns}).sort_values(\n",
    "    by=['importance'], ascending=[False])[:NUM_OF_FEATURES]['feature'].values\n",
    "new_train = new_train[col]\n",
    "new_test = new_train[col]\n",
    "new_train.shape\n",
    "new_test.shape"
   ]
  },
  {
   "cell_type": "code",
   "execution_count": null,
   "metadata": {
    "collapsed": true
   },
   "outputs": [],
   "source": [
    "col #最重要的20个特征"
   ]
  }
 ],
 "metadata": {
  "kernelspec": {
   "display_name": "python36",
   "language": "python",
   "name": "python36"
  },
  "language_info": {
   "codemirror_mode": {
    "name": "ipython",
    "version": 3
   },
   "file_extension": ".py",
   "mimetype": "text/x-python",
   "name": "python",
   "nbconvert_exporter": "python",
   "pygments_lexer": "ipython3",
   "version": "3.6.2"
  }
 },
 "nbformat": 4,
 "nbformat_minor": 2
}

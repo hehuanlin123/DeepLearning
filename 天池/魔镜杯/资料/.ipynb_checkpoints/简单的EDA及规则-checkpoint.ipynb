{
 "cells": [
  {
   "cell_type": "code",
   "execution_count": 1,
   "metadata": {
    "collapsed": true
   },
   "outputs": [],
   "source": [
    "import pandas as pd\n",
    "import matplotlib.pyplot as plt\n",
    "import seaborn as sns\n",
    "import numpy as np"
   ]
  },
  {
   "cell_type": "code",
   "execution_count": 2,
   "metadata": {
    "collapsed": true
   },
   "outputs": [],
   "source": [
    "path = \"F:/数据集/1906拍拍/\"\n",
    "train = pd.read_csv(open(path+\"train.csv\",encoding='utf8')) #100W\n",
    "test = pd.read_csv(open(path+\"test.csv\",encoding='utf8')) #13W\n",
    "submission = pd.read_csv(open(path+\"submission.csv\",encoding='utf8')) #398W\n",
    "listing_info = pd.read_csv(open(path+\"listing_info.csv\",encoding='utf8'))\n",
    "user_info = pd.read_csv(open(path+\"user_info.csv\",encoding='utf8'))\n",
    "user_taglist = pd.read_csv(open(path+\"user_taglist.csv\",encoding='utf8'))\n",
    "# user_behavior_logs = pd.read_csv(open(path+\"user_behavior_logs.csv\",encoding='utf8')) #1G\n",
    "# user_repay_logs = pd.read_csv(open(path+\"user_repay_logs.csv\",encoding='utf8')) #900M\n"
   ]
  },
  {
   "cell_type": "markdown",
   "metadata": {},
   "source": [
    "# 还款日分布"
   ]
  },
  {
   "cell_type": "code",
   "execution_count": 3,
   "metadata": {},
   "outputs": [
    {
     "data": {
      "text/plain": [
       "<matplotlib.axes._subplots.AxesSubplot at 0x175bef9e160>"
      ]
     },
     "execution_count": 3,
     "metadata": {},
     "output_type": "execute_result"
    },
    {
     "data": {
      "image/png": "[encoded data removed]",
      "text/plain": [
       "<Figure size 432x288 with 1 Axes>"
      ]
     },
     "metadata": {
      "needs_background": "light"
     },
     "output_type": "display_data"
    }
   ],
   "source": [
    "# train[\"month\"] = train[\"auditing_date\"].apply(lambda x:int(x[5:7]))\n",
    "# train = train[train.month.isin([1,3,5,7,8,10,12])]\n",
    "def date_trans(x):\n",
    "    try:\n",
    "        return pd.to_datetime(x)\n",
    "    except:\n",
    "        return 'N'\n",
    "train[\"due_date_d\"] = pd.to_datetime(train[\"due_date\"])\n",
    "train[\"repay_date_d\"] = train[\"repay_date\"].apply(date_trans)\n",
    "def date_diff(df):\n",
    "    try:\n",
    "        return (df[\"due_date_d\"]-df[\"repay_date_d\"]).days\n",
    "    except:\n",
    "        return -1\n",
    "train[\"date_diff\"] = train.apply(date_diff, axis=1)\n",
    "data_cnt = train[\"date_diff\"].value_counts() / train.shape[0]\n",
    "data_cnt = data_cnt.sort_index()\n",
    "data_cnt.plot(kind='bar')"
   ]
  },
  {
   "cell_type": "markdown",
   "metadata": {},
   "source": [
    "# 还款次数分布 一个订单仅还款1次"
   ]
  },
  {
   "cell_type": "code",
   "execution_count": 4,
   "metadata": {},
   "outputs": [
    {
     "data": {
      "text/plain": [
       "<matplotlib.axes._subplots.AxesSubplot at 0x1758656ecf8>"
      ]
     },
     "execution_count": 4,
     "metadata": {},
     "output_type": "execute_result"
    },
    {
     "data": {
      "image/png": "[encoded data removed]",
      "text/plain": [
       "<Figure size 432x288 with 1 Axes>"
      ]
     },
     "metadata": {
      "needs_background": "light"
     },
     "output_type": "display_data"
    }
   ],
   "source": [
    "\n",
    "repay_cnt = train.groupby([\"user_id\",\"listing_id\"],as_index=False)[\"due_amt\"].count()\n",
    "repay_cnt = repay_cnt[\"due_amt\"].value_counts() / train.shape[0]\n",
    "repay_cnt.plot(kind='bar')"
   ]
  },
  {
   "cell_type": "markdown",
   "metadata": {},
   "source": [
    "# 还款的人是否全额还款\n",
    "输出为空说明全部全额还款"
   ]
  },
  {
   "cell_type": "code",
   "execution_count": 5,
   "metadata": {},
   "outputs": [
    {
     "name": "stdout",
     "output_type": "stream",
     "text": [
      "Empty DataFrame\n",
      "Columns: [user_id, listing_id, auditing_date, due_date, due_amt, repay_date, repay_amt, due_date_d, repay_date_d, date_diff, equal]\n",
      "Index: []\n"
     ]
    },
    {
     "name": "stderr",
     "output_type": "stream",
     "text": [
      "D:\\anaconda3\\lib\\site-packages\\ipykernel_launcher.py:3: SettingWithCopyWarning: \n",
      "A value is trying to be set on a copy of a slice from a DataFrame.\n",
      "Try using .loc[row_indexer,col_indexer] = value instead\n",
      "\n",
      "See the caveats in the documentation: http://pandas.pydata.org/pandas-docs/stable/indexing.html#indexing-view-versus-copy\n",
      "  This is separate from the ipykernel package so we can avoid doing imports until\n"
     ]
    }
   ],
   "source": [
    "\n",
    "train_amt = train[train[\"repay_amt\"]!='\\\\N']\n",
    "train_amt[\"equal\"] = (train_amt[\"due_amt\"].apply(lambda x:round(x,4)).astype(float)==train_amt[\"repay_amt\"].astype(float))\n",
    "print(train_amt[train_amt.equal==False])"
   ]
  },
  {
   "cell_type": "markdown",
   "metadata": {},
   "source": [
    "# 人均order数量 680852/1 115797/2 22020/3 4000/4"
   ]
  },
  {
   "cell_type": "code",
   "execution_count": 6,
   "metadata": {},
   "outputs": [
    {
     "name": "stdout",
     "output_type": "stream",
     "text": [
      "(1000000, 10)\n",
      "823732\n",
      "1000000\n"
     ]
    },
    {
     "data": {
      "image/png": "[encoded data removed]",
      "text/plain": [
       "<Figure size 432x288 with 1 Axes>"
      ]
     },
     "metadata": {
      "needs_background": "light"
     },
     "output_type": "display_data"
    }
   ],
   "source": [
    "\n",
    "print(train.shape)\n",
    "print(train.user_id.nunique())\n",
    "print(train.listing_id.nunique())\n",
    "date_user = train.groupby([\"user_id\"],as_index=False)[\"listing_id\"].count()\n",
    "date_user = date_user.sort_values(\"listing_id\")\n",
    "user_cnt = date_user[\"listing_id\"].value_counts()\n",
    "user_cnt.plot(\"bar\")\n",
    "plt.show()"
   ]
  },
  {
   "cell_type": "markdown",
   "metadata": {},
   "source": [
    "# 一个简单的规则\n",
    "所有人每天都还款,每天还款额为应还的加权，线上10232.852300"
   ]
  },
  {
   "cell_type": "code",
   "execution_count": 7,
   "metadata": {
    "collapsed": true
   },
   "outputs": [],
   "source": [
    "dic = {0:0.408187,\n",
    "1:0.121085,\n",
    "2:0.05943,\n",
    "3:0.056404,\n",
    "4:0.026425,\n",
    "5:0.02138,\n",
    "6:0.017568,\n",
    "7:0.014797,\n",
    "8:0.012993,\n",
    "9:0.011393,\n",
    "10:0.009984,\n",
    "11:0.009002,\n",
    "12:0.008219,\n",
    "13:0.007688,\n",
    "14:0.00692,\n",
    "15:0.006443,\n",
    "16:0.006231,\n",
    "17:0.005832,\n",
    "18:0.005492,\n",
    "19:0.005108,\n",
    "20:0.004788,\n",
    "21:0.004504,\n",
    "22:0.004295,\n",
    "23:0.004197,\n",
    "24:0.003922,\n",
    "25:0.003934,\n",
    "26:0.00393,\n",
    "27:0.004102,\n",
    "28:0.004677,\n",
    "29:0.005645,\n",
    "30:0.009865,\n",
    "31:0.008368}\n",
    "submission[\"repay_amt\"]=0\n",
    "test[\"month\"] = test[\"auditing_date\"].apply(lambda x:int(x[5:7]))\n",
    "sub = submission.merge(test[[\"listing_id\",\"due_date\",\"due_amt\",\"month\"]], how='left', left_on=['listing_id'],right_on=[\"listing_id\"])\n",
    "sub[\"repay_date_d\"] = pd.to_datetime(sub[\"repay_date\"])\n",
    "sub[\"due_date_d\"] = pd.to_datetime(sub[\"due_date\"])\n",
    "sub[\"day_diff\"] = (sub[\"due_date_d\"]-sub[\"repay_date_d\"]).apply(lambda x:x.days)\n",
    "sub[\"weight\"] = sub[\"day_diff\"].replace(dic)\n",
    "sub[\"repay_amt\"] = sub[\"due_amt\"]*sub[\"weight\"]\n",
    "sub[[\"listing_id\",\"repay_amt\",\"repay_date\"]].to_csv(\"F:/项目相关/1906拍拍/out/rule_weight_due_amt0607.csv\",index=None)\n"
   ]
  },
  {
   "cell_type": "code",
   "execution_count": null,
   "metadata": {
    "collapsed": true
   },
   "outputs": [],
   "source": []
  }
 ],
 "metadata": {
  "kernelspec": {
   "display_name": "Python 3",
   "language": "python",
   "name": "python3"
  },
  "language_info": {
   "codemirror_mode": {
    "name": "ipython",
    "version": 3
   },
   "file_extension": ".py",
   "mimetype": "text/x-python",
   "name": "python",
   "nbconvert_exporter": "python",
   "pygments_lexer": "ipython3",
   "version": "3.6.2"
  }
 },
 "nbformat": 4,
 "nbformat_minor": 2
}

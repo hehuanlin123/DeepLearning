{
 "cells": [
  {
   "cell_type": "code",
   "execution_count": 16,
   "metadata": {
    "collapsed": true
   },
   "outputs": [],
   "source": [
    "import pandas as pd\n",
    "import numpy as np\n",
    "import time\n",
    "import datetime\n",
    "import tqdm"
   ]
  },
  {
   "cell_type": "code",
   "execution_count": 31,
   "metadata": {
    "collapsed": true
   },
   "outputs": [],
   "source": [
    "#计算两个日期相差天数，自定义函数名，和两个日期的变量名。\n",
    "def Caltime(date1,date2):\n",
    "    if date1 ==\"\\\\N\":\n",
    "        return -1\n",
    "    #%Y-%m-%d为日期格式，其中的-可以用其他代替或者不写，但是要统一，同理后面的时分秒也一样；可以只计算日期，不计算时间。\n",
    "    #date1=time.strptime(date1,\"%Y-%m-%d %H:%M:%S\") \n",
    "    #date2=time.strptime(date2,\"%Y-%m-%d %H:%M:%S\")\n",
    "    date1=time.strptime(date1,\"%Y-%m-%d\")\n",
    "    date2=time.strptime(date2,\"%Y-%m-%d\")\n",
    "    #根据上面需要计算日期还是日期时间，来确定需要几个数组段。下标0表示年，小标1表示月，依次类推...\n",
    "    #date1=datetime.datetime(date1[0],date1[1],date1[2],date1[3],date1[4],date1[5])\n",
    "    #date2=datetime.datetime(date2[0],date2[1],date2[2],date2[3],date2[4],date2[5])\n",
    "    date1=datetime.datetime(date1[0],date1[1],date1[2])\n",
    "    date2=datetime.datetime(date2[0],date2[1],date2[2])\n",
    "    #返回两个变量相差的值，就是相差天数\n",
    "    return (date2-date1).days\n",
    "\n",
    "def get_date(date1, days):\n",
    "    date1=time.strptime(date1,\"%Y-%m-%d\")\n",
    "    date1=datetime.datetime(date1[0],date1[1],date1[2])\n",
    "    return str(date1-datetime.timedelta(days=days))[0:10]"
   ]
  },
  {
   "cell_type": "code",
   "execution_count": 3,
   "metadata": {
    "collapsed": true
   },
   "outputs": [],
   "source": [
    "train_data = pd.read_csv(\"./data/train.csv\")\n",
    "testt_data = pd.read_csv(\"./data/test.csv\")\n",
    "train_data['repay_amt'] = train_data.repay_amt.map(lambda x: np.nan if x == \"\\\\N\" else float(x))\n",
    "train_data['auditing_month'] = train_data.auditing_date.map(lambda x:x[0:7])\n",
    "train_data['early_repay_days'] = train_data.apply(lambda x: Caltime(x[5],x[3]), axis=1)"
   ]
  },
  {
   "cell_type": "markdown",
   "metadata": {},
   "source": [
    "# 设置合理的线下验证集"
   ]
  },
  {
   "cell_type": "code",
   "execution_count": null,
   "metadata": {
    "collapsed": true
   },
   "outputs": [],
   "source": []
  },
  {
   "cell_type": "code",
   "execution_count": 43,
   "metadata": {},
   "outputs": [
    {
     "data": {
      "text/html": [
       "<div>\n",
       "<style scoped>\n",
       "    .dataframe tbody tr th:only-of-type {\n",
       "        vertical-align: middle;\n",
       "    }\n",
       "\n",
       "    .dataframe tbody tr th {\n",
       "        vertical-align: top;\n",
       "    }\n",
       "\n",
       "    .dataframe thead th {\n",
       "        text-align: right;\n",
       "    }\n",
       "</style>\n",
       "<table border=\"1\" class=\"dataframe\">\n",
       "  <thead>\n",
       "    <tr style=\"text-align: right;\">\n",
       "      <th></th>\n",
       "      <th>user_id</th>\n",
       "      <th>listing_id</th>\n",
       "      <th>auditing_date</th>\n",
       "      <th>due_date</th>\n",
       "      <th>due_amt</th>\n",
       "      <th>repay_date</th>\n",
       "      <th>repay_amt</th>\n",
       "      <th>auditing_month</th>\n",
       "      <th>early_repay_days</th>\n",
       "    </tr>\n",
       "  </thead>\n",
       "  <tbody>\n",
       "    <tr>\n",
       "      <th>0</th>\n",
       "      <td>748147</td>\n",
       "      <td>3163926</td>\n",
       "      <td>2018-04-25</td>\n",
       "      <td>2018-05-25</td>\n",
       "      <td>72.1167</td>\n",
       "      <td>2018-05-25</td>\n",
       "      <td>72.1167</td>\n",
       "      <td>2018-04</td>\n",
       "      <td>0</td>\n",
       "    </tr>\n",
       "    <tr>\n",
       "      <th>1</th>\n",
       "      <td>672952</td>\n",
       "      <td>3698760</td>\n",
       "      <td>2018-06-09</td>\n",
       "      <td>2018-07-09</td>\n",
       "      <td>258.7045</td>\n",
       "      <td>2018-07-08</td>\n",
       "      <td>258.7045</td>\n",
       "      <td>2018-06</td>\n",
       "      <td>1</td>\n",
       "    </tr>\n",
       "    <tr>\n",
       "      <th>2</th>\n",
       "      <td>404196</td>\n",
       "      <td>2355665</td>\n",
       "      <td>2018-02-18</td>\n",
       "      <td>2018-03-18</td>\n",
       "      <td>307.9270</td>\n",
       "      <td>\\N</td>\n",
       "      <td>NaN</td>\n",
       "      <td>2018-02</td>\n",
       "      <td>-1</td>\n",
       "    </tr>\n",
       "    <tr>\n",
       "      <th>3</th>\n",
       "      <td>342769</td>\n",
       "      <td>1994522</td>\n",
       "      <td>2018-01-13</td>\n",
       "      <td>2018-02-13</td>\n",
       "      <td>252.9809</td>\n",
       "      <td>2018-02-13</td>\n",
       "      <td>252.9809</td>\n",
       "      <td>2018-01</td>\n",
       "      <td>0</td>\n",
       "    </tr>\n",
       "    <tr>\n",
       "      <th>4</th>\n",
       "      <td>828139</td>\n",
       "      <td>3602352</td>\n",
       "      <td>2018-06-01</td>\n",
       "      <td>2018-07-01</td>\n",
       "      <td>107.6503</td>\n",
       "      <td>2018-06-25</td>\n",
       "      <td>107.6503</td>\n",
       "      <td>2018-06</td>\n",
       "      <td>6</td>\n",
       "    </tr>\n",
       "  </tbody>\n",
       "</table>\n",
       "</div>"
      ],
      "text/plain": [
       "   user_id  listing_id auditing_date    due_date   due_amt  repay_date  \\\n",
       "0   748147     3163926    2018-04-25  2018-05-25   72.1167  2018-05-25   \n",
       "1   672952     3698760    2018-06-09  2018-07-09  258.7045  2018-07-08   \n",
       "2   404196     2355665    2018-02-18  2018-03-18  307.9270          \\N   \n",
       "3   342769     1994522    2018-01-13  2018-02-13  252.9809  2018-02-13   \n",
       "4   828139     3602352    2018-06-01  2018-07-01  107.6503  2018-06-25   \n",
       "\n",
       "   repay_amt auditing_month  early_repay_days  \n",
       "0    72.1167        2018-04                 0  \n",
       "1   258.7045        2018-06                 1  \n",
       "2        NaN        2018-02                -1  \n",
       "3   252.9809        2018-01                 0  \n",
       "4   107.6503        2018-06                 6  "
      ]
     },
     "execution_count": 43,
     "metadata": {},
     "output_type": "execute_result"
    }
   ],
   "source": [
    "train_data.head()"
   ]
  },
  {
   "cell_type": "markdown",
   "metadata": {},
   "source": [
    "# 规则一\n",
    "假设所有的用户都是准时还款\n",
    "## 线上得分\n",
    "28399.990100"
   ]
  },
  {
   "cell_type": "code",
   "execution_count": 44,
   "metadata": {
    "collapsed": true
   },
   "outputs": [],
   "source": [
    "result = testt_data[['listing_id','due_date','auditing_date','due_amt']]\n",
    "result.columns = ['listing_id','repay_date','auditing_date','repay_amt']\n",
    "result[['listing_id','repay_date','repay_amt']].to_csv(\"./result/001_rule01.csv\",index=None)"
   ]
  },
  {
   "cell_type": "markdown",
   "metadata": {},
   "source": [
    "# 规则二\n",
    "按照用户还款时间的分布进行加权划分\n",
    "## 线上得分\n",
    "10015.451300"
   ]
  },
  {
   "cell_type": "code",
   "execution_count": 10,
   "metadata": {
    "collapsed": true
   },
   "outputs": [],
   "source": [
    "repay_days_distribution = train_data.groupby('early_repay_days').size().reset_index().rename(columns={0:\"sums\"})"
   ]
  },
  {
   "cell_type": "code",
   "execution_count": 13,
   "metadata": {
    "collapsed": true
   },
   "outputs": [],
   "source": [
    "repay_days_distribution['rate'] = repay_days_distribution['sums']/sum(repay_days_distribution['sums'])"
   ]
  },
  {
   "cell_type": "code",
   "execution_count": 77,
   "metadata": {
    "collapsed": true
   },
   "outputs": [],
   "source": [
    "# 这部分代码比较慢，有优化的方案希望同学能告知！！！"
   ]
  },
  {
   "cell_type": "code",
   "execution_count": 66,
   "metadata": {},
   "outputs": [
    {
     "data": {
      "application/vnd.jupyter.widget-view+json": {
       "model_id": "2af98024b2944fb5a3ae64508e62b47d",
       "version_major": 2,
       "version_minor": 0
      },
      "text/plain": [
       "HBox(children=(IntProgress(value=1, bar_style='info', max=1), HTML(value='')))"
      ]
     },
     "metadata": {},
     "output_type": "display_data"
    }
   ],
   "source": [
    "new_result = {\n",
    "    'listing_id':[],\n",
    "    'repay_date':[],\n",
    "    'repay_amt':[]\n",
    "}\n",
    "\n",
    "for i,row in tqdm.tqdm_notebook(enumerate(result.values)):\n",
    "    tmp_listing_id = row[0]\n",
    "    tmp_repay_date = row[1]\n",
    "    tmp_auditing_date = row[2]\n",
    "    tmp_repay_amt = row[3]\n",
    "    \n",
    "    for j in range(Caltime(tmp_auditing_date,tmp_repay_date)):\n",
    "        new_result['listing_id'].append(tmp_listing_id)\n",
    "        new_result['repay_date'].append(get_date(tmp_repay_date,j))\n",
    "        counts = repay_days_distribution[repay_days_distribution.early_repay_days==j]['sums']\n",
    "        sums = repay_days_distribution[repay_days_distribution.early_repay_days<=Caltime(tmp_auditing_date,tmp_repay_date)]['sums'].sum()\n",
    "        rates = counts/sums\n",
    "        new_result['repay_amt'].append(tmp_repay_amt*rates.values[0])"
   ]
  },
  {
   "cell_type": "code",
   "execution_count": 67,
   "metadata": {
    "collapsed": true
   },
   "outputs": [],
   "source": [
    "new_result = pd.DataFrame(new_result)"
   ]
  },
  {
   "cell_type": "code",
   "execution_count": 73,
   "metadata": {
    "collapsed": true
   },
   "outputs": [],
   "source": [
    "new_result['repay_amt'] = new_result['repay_amt'].map(lambda x:'{:.4f}'.format(x))"
   ]
  },
  {
   "cell_type": "code",
   "execution_count": 74,
   "metadata": {
    "collapsed": true
   },
   "outputs": [],
   "source": [
    "new_result.to_csv(\"./result/001_rule02.csv\",index=None)"
   ]
  }
 ],
 "metadata": {
  "kernelspec": {
   "display_name": "Python 3",
   "language": "python",
   "name": "python3"
  },
  "language_info": {
   "codemirror_mode": {
    "name": "ipython",
    "version": 3
   },
   "file_extension": ".py",
   "mimetype": "text/x-python",
   "name": "python",
   "nbconvert_exporter": "python",
   "pygments_lexer": "ipython3",
   "version": "3.6.2"
  }
 },
 "nbformat": 4,
 "nbformat_minor": 2
}

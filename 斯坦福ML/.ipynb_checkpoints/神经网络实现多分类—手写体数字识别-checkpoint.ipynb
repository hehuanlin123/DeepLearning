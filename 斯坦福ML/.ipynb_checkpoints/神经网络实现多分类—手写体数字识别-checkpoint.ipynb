{
 "cells": [
  {
   "cell_type": "markdown",
   "metadata": {},
   "source": [
    "#### 将利用已经训练好了的权重进行预测:"
   ]
  },
  {
   "cell_type": "code",
   "execution_count": 12,
   "metadata": {
    "collapsed": false
   },
   "outputs": [
    {
     "name": "stdout",
     "output_type": "stream",
     "text": [
      "(25, 401)\n",
      "(10, 26)\n",
      "[10 10 10 ...,  9  9  9]\n",
      "[[ 1.  0.  0. ...,  0.  0.  0.]\n",
      " [ 1.  0.  0. ...,  0.  0.  0.]\n",
      " [ 1.  0.  0. ...,  0.  0.  0.]\n",
      " ..., \n",
      " [ 1.  0.  0. ...,  0.  0.  0.]\n",
      " [ 1.  0.  0. ...,  0.  0.  0.]\n",
      " [ 1.  0.  0. ...,  0.  0.  0.]]\n",
      "(5000, 25)\n",
      "(5000, 26)\n",
      "(5000, 10)\n",
      "(5000, 10)\n",
      "[10 10 10 ...,  9  9  9]\n",
      "accuracy = 97.52%\n"
     ]
    }
   ],
   "source": [
    "import numpy as np\n",
    "import pandas as pd\n",
    "import matplotlib.pyplot as plt\n",
    "from scipy.io import loadmat\n",
    "\n",
    "def load_data(path):\n",
    "    data = loadmat(path)\n",
    "    X = data['X']\n",
    "    y = data['y']\n",
    "    return X,y\n",
    "\n",
    "def sigmoid(z):\n",
    "    return 1 / (1 + np.exp(-z))\n",
    "\n",
    "def load_weight(path):\n",
    "    data = loadmat(path)\n",
    "    return data['Theta1'], data['Theta2']\n",
    "\n",
    "theta1, theta2 = load_weight('./Coursera-master/ex3/ex3weights.mat')\n",
    "\n",
    "print(theta1.shape) #(25, 401)\n",
    "print(theta2.shape) #(10, 26)\n",
    "\n",
    "X, y = load_data('ex3data1.mat')\n",
    "y = y.flatten()\n",
    "X = np.insert(X, 0, values=np.ones(X.shape[0]), axis=1)  # intercept\n",
    "print(y) #[10 10 10 ...,  9  9  9]\n",
    "print(X) #[[ 1.  0.  0. ...,  0.  0.  0.]...[ 1.  0.  0. ...,  0.  0.  0.]]\n",
    "\n",
    "a1 = X\n",
    "z2 = a1 @ theta1.T\n",
    "print(z2.shape)#(5000, 25)\n",
    "\n",
    "z2 = np.insert(z2, 0, 1, axis=1)\n",
    "\n",
    "a2 = sigmoid(z2)\n",
    "print(a2.shape)#(5000, 26)\n",
    "\n",
    "z3 = a2 @ theta2.T\n",
    "print(z3.shape)#(5000, 10)\n",
    "\n",
    "a3 = sigmoid(z3)\n",
    "print(a3.shape)#(5000, 10)\n",
    "\n",
    "y_pred = np.argmax(a3, axis=1) + 1\n",
    "print(y_pred)#预测结果矩阵 [10 10 10 ...,  9  9  9]\n",
    "\n",
    "accuracy = np.mean(y_pred == y)\n",
    "print ('accuracy = {0}%'.format(accuracy * 100))# accuracy = 97.52%"
   ]
  }
 ],
 "metadata": {
  "anaconda-cloud": {},
  "kernelspec": {
   "display_name": "Python [conda root]",
   "language": "python",
   "name": "conda-root-py"
  },
  "language_info": {
   "codemirror_mode": {
    "name": "ipython",
    "version": 3
   },
   "file_extension": ".py",
   "mimetype": "text/x-python",
   "name": "python",
   "nbconvert_exporter": "python",
   "pygments_lexer": "ipython3",
   "version": "3.5.2"
  }
 },
 "nbformat": 4,
 "nbformat_minor": 1
}

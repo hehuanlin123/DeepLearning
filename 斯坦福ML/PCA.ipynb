{
 "cells": [
  {
   "cell_type": "code",
   "execution_count": 2,
   "metadata": {
    "collapsed": true
   },
   "outputs": [],
   "source": [
    "#coding=utf-8\n",
    "from numpy import *\n",
    "\n",
    "'''通过方差的百分比来计算将数据降到多少维是比较合适的，\n",
    "函数传入的参数是特征值和百分比percentage，返回需要降到的维度数num'''\n",
    "def eigValPct(eigVals,percentage):\n",
    "    sortArray=sort(eigVals) #使用numpy中的sort()对特征值按照从小到大排序\n",
    "    sortArray=sortArray[-1::-1] #特征值从大到小排序\n",
    "    arraySum=sum(sortArray) #数据全部的方差arraySum\n",
    "    tempSum=0\n",
    "    num=0\n",
    "    for i in sortArray:\n",
    "        tempSum+=i\n",
    "        num+=1\n",
    "        if tempsum>=arraySum*percentage:\n",
    "            return num\n",
    "\n",
    "'''pca函数有两个参数，其中dataMat是已经转换成矩阵matrix形式的数据集，列表示特征；\n",
    "其中的percentage表示取前多少个特征需要达到的方差占比，默认为0.9'''\n",
    "def pca(dataMat,percentage=0.9):\n",
    "    meanVals=mean(dataMat,axis=0)  #对每一列求平均值，因为协方差的计算中需要减去均值\n",
    "    meanRemoved=dataMat-meanVals\n",
    "    covMat=cov(meanRemoved,rowvar=0)  #cov()计算方差\n",
    "    eigVals,eigVects=linalg.eig(mat(covMat))  #利用numpy中寻找特征值和特征向量的模块linalg中的eig()方法\n",
    "    k=eigValPct(eigVals,percentage) #要达到方差的百分比percentage，需要前k个向量\n",
    "    eigValInd=argsort(eigVals)  #对特征值eigVals从小到大排序\n",
    "    eigValInd=eigValInd[:-(k+1):-1] #从排好序的特征值，从后往前取k个，这样就实现了特征值的从大到小排列\n",
    "    redEigVects=eigVects[:,eigValInd]   #返回排序后特征值对应的特征向量redEigVects（主成分）\n",
    "    lowDDataMat=meanRemoved*redEigVects #将原始数据投影到主成分上得到新的低维数据lowDDataMat\n",
    "    reconMat=(lowDDataMat*redEigVects.T)+meanVals   #得到重构数据reconMat\n",
    "    return lowDDataMat,reconMat"
   ]
  },
  {
   "cell_type": "code",
   "execution_count": 22,
   "metadata": {
    "collapsed": false
   },
   "outputs": [
    {
     "name": "stdout",
     "output_type": "stream",
     "text": [
      "[[ 0.69  0.49]\n",
      " [-1.31 -1.21]\n",
      " [ 0.39  0.99]\n",
      " [ 0.09  0.29]\n",
      " [ 1.29  1.09]\n",
      " [ 0.49  0.79]\n",
      " [ 0.19 -0.31]\n",
      " [-0.81 -0.81]\n",
      " [-0.31 -0.31]\n",
      " [-0.71 -1.01]]\n",
      "[[ 0.61655556  0.61544444]\n",
      " [ 0.61544444  0.71655556]]\n",
      "[[ 5.549  5.539]\n",
      " [ 5.539  6.449]]\n",
      "[ 0.0490834   1.28402771] [[-0.73517866 -0.6778734 ]\n",
      " [ 0.6778734  -0.73517866]]\n"
     ]
    },
    {
     "data": {
      "image/png": "[encoded data removed]",
      "text/plain": [
       "<matplotlib.figure.Figure at 0x1a5077be240>"
      ]
     },
     "metadata": {},
     "output_type": "display_data"
    },
    {
     "data": {
      "image/png": "[encoded data removed]",
      "text/plain": [
       "<matplotlib.figure.Figure at 0x1a50659cf28>"
      ]
     },
     "metadata": {},
     "output_type": "display_data"
    }
   ],
   "source": [
    "import numpy as np\n",
    "import matplotlib.pyplot as plt\n",
    "\n",
    "x=np.array([2.5,0.5,2.2,1.9,3.1,2.3,2,1,1.5,1.1])\n",
    "y=np.array([2.4,0.7,2.9,2.2,3,2.7,1.6,1.1,1.6,0.9])\n",
    "# Step 1: 求平均值以及做normalization\n",
    "mean_x=np.mean(x)\n",
    "mean_y=np.mean(y)\n",
    "scaled_x=x-mean_x\n",
    "scaled_y=y-mean_y\n",
    "data=np.matrix([[scaled_x[i],scaled_y[i]] for i in range(len(scaled_x))])\n",
    "print(data)\n",
    "plt.plot(scaled_x,scaled_y,'o')\n",
    "# Step 2: 求协方差矩阵(Covariance Matrix)\n",
    "# 假设n为数据的特征数，那么协方差矩阵M, 为一个n*n的矩阵，其中Mij为第i和第j个特征的协方差，对角线是各个特征的方差。\n",
    "cov=np.cov(scaled_x,scaled_y)\n",
    "print(cov)\n",
    "#散度矩阵 Scatter Matrix\n",
    "#其实协方差矩阵和散度矩阵关系密切，散度矩阵 就是协方差矩阵乘以（总数据量-1）。因此他们的特征根和特征向量是一样的。\n",
    "#这里值得注意的一点就是，散度矩阵是SVD奇异值分解的一步，因此PCA和SVD是有很大联系。\n",
    "sct=np.dot(np.transpose(data),data)\n",
    "print(sct)\n",
    "#Step 3: 求协方差矩阵的特征根和特征向量\n",
    "eig_val, eig_vec = np.linalg.eig(cov)\n",
    "print(eig_val,eig_vec)\n",
    "plt.plot(scaled_x,scaled_y,'o',)\n",
    "xmin ,xmax = scaled_x.min(), scaled_x.max()\n",
    "ymin, ymax = scaled_y.min(), scaled_y.max()\n",
    "dx = (xmax - xmin) * 0.2\n",
    "dy = (ymax - ymin) * 0.2\n",
    "plt.xlim(xmin - dx, xmax + dx)\n",
    "plt.ylim(ymin - dy, ymax + dy)\n",
    "plt.plot([eig_vec[:,0][0],0],[eig_vec[:,0][1],0],color='red')\n",
    "plt.plot([eig_vec[:,1][0],0],[eig_vec[:,1][1],0],color='blue')\n",
    "plt.show()\n",
    "new_data=np.transpose(np.dot(eig_vec,np.transpose(data)))\n",
    "#Step 4: 选择主要成分\n",
    "eig_pairs = [(np.abs(eig_val[i]), eig_vec[:,i]) for i in range(len(eig_val))]\n",
    "eig_pairs.sort(reverse=True)\n",
    "feature=eig_pairs[0][1]\n",
    "#Step 5: 转化得到降维的数据\n",
    "new_data_reduced=np.transpose(np.dot(feature,np.transpose(data)))\n",
    "plt.plot(scaled_x,scaled_y,'o',color='red')\n",
    "plt.plot([eig_vec[:,0][0],0],[eig_vec[:,0][1],0],color='red')\n",
    "plt.plot([eig_vec[:,1][0],0],[eig_vec[:,1][1],0],color='blue')\n",
    "plt.plot(new_data[:,0],new_data[:,1],'^',color='blue')\n",
    "plt.plot(new_data_reduced[:,0],[1.2]*10,'*',color='green')\n",
    "plt.show()"
   ]
  },
  {
   "cell_type": "code",
   "execution_count": 30,
   "metadata": {
    "collapsed": false
   },
   "outputs": [
    {
     "name": "stdout",
     "output_type": "stream",
     "text": [
      "array( [[-0.50917706]\n",
      " [-2.40151069]\n",
      " [-3.7751606 ]\n",
      " [ 1.20075534]\n",
      " [ 2.05572155]\n",
      " [ 3.42937146]] )\n"
     ]
    },
    {
     "data": {
      "text/plain": [
       "array([[-0.50917707],\n",
       "       [-2.40151076],\n",
       "       [-3.77516072],\n",
       "       [ 1.20075537],\n",
       "       [ 2.0557216 ],\n",
       "       [ 3.42937155]])"
      ]
     },
     "execution_count": 30,
     "metadata": {},
     "output_type": "execute_result"
    }
   ],
   "source": [
    "import numpy as np\n",
    "def pca(X,k):#k is the components you want\n",
    "    #mean of each feature\n",
    "    n_samples, n_features = X.shape\n",
    "    mean=np.array([np.mean(X[:,i]) for i in range(n_features)])  #normalization\n",
    "    norm_X=X-mean  #scatter matrix\n",
    "    scatter_matrix=np.dot(np.transpose(norm_X),norm_X)  #Calculate the eigenvectors and eigenvalues\n",
    "    eig_val, eig_vec = np.linalg.eig(scatter_matrix)\n",
    "    eig_pairs = [(np.abs(eig_val[i]), eig_vec[:,i]) for i in range(n_features)]  # sort eig_vec based on eig_val from highest to lowest\n",
    "    eig_pairs.sort(reverse=True)  # select the top k eig_vec\n",
    "    feature=np.array([ele[1] for ele in eig_pairs[:k]])  #get new data\n",
    "    data=np.dot(norm_X,np.transpose(feature)) \n",
    "    return data\n",
    "\n",
    "from sklearn.decomposition import PCA\n",
    "X = np.array([[-1, 1], [-2, -1], [-3, -2], [1, 1], [2, 1], [3, 2]])\n",
    "\n",
    "pca = pca(X,1)\n",
    "print('array(',pca,')')\n",
    "\n",
    "pca=PCA(n_components=1)\n",
    "pca.fit(X)\n",
    "pca.transform(X)"
   ]
  }
 ],
 "metadata": {
  "kernelspec": {
   "display_name": "Python [conda root]",
   "language": "python",
   "name": "conda-root-py"
  },
  "language_info": {
   "codemirror_mode": {
    "name": "ipython",
    "version": 3
   },
   "file_extension": ".py",
   "mimetype": "text/x-python",
   "name": "python",
   "nbconvert_exporter": "python",
   "pygments_lexer": "ipython3",
   "version": "3.5.2"
  }
 },
 "nbformat": 4,
 "nbformat_minor": 1
}

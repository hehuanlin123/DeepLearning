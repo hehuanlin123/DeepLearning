{
 "cells": [
  {
   "cell_type": "code",
   "execution_count": 2,
   "metadata": {
    "collapsed": false
   },
   "outputs": [
    {
     "name": "stdout",
     "output_type": "stream",
     "text": [
      "<class 'numpy.ndarray'>\n",
      "(3,)\n",
      "1 2 3\n",
      "[1 2 3]\n",
      "[[1 2 3]\n",
      " [4 5 6]]\n",
      "(2, 3)\n",
      "1 2 4\n"
     ]
    }
   ],
   "source": [
    "import numpy as np   \n",
    "a = np.array([1,2,3]) # Create a rank 1 array \n",
    "print(type(a)) # Prints \"<type 'numpy.ndarray'>\" \n",
    "print(a.shape) # Prints \"(3,)\" \n",
    "print(a[0], a[1], a[2]) # Prints \"1 2 3\" a[0] = 5 \n",
    "# Change an element of the array \n",
    "print(a) # Prints \"[5,2,3]\" \n",
    "b = np.array([[1,2,3],[4,5,6]]) # Create a rank 2 array \n",
    "print(b) # 显示一下矩阵b \n",
    "print(b.shape) # Prints \"(2,3)\" \n",
    "print(b[0,0], b[0,1], b[1,0]) # Prints \"1 2 4\""
   ]
  },
  {
   "cell_type": "code",
   "execution_count": 8,
   "metadata": {
    "collapsed": false
   },
   "outputs": [
    {
     "name": "stdout",
     "output_type": "stream",
     "text": [
      "[[0. 0.]\n",
      " [0. 0.]]\n",
      "[[1. 1.]]\n",
      "[[7 7]\n",
      " [7 7]]\n",
      "[[1. 0.]\n",
      " [0. 1.]]\n",
      "[[0.59245299 0.36783014]\n",
      " [0.22257916 0.78090153]]\n"
     ]
    }
   ],
   "source": [
    "import numpy as np\n",
    "a = np.zeros((2,2)) # Create an array of all zeros \n",
    "print(a) # Prints \"[[ 0. 0.] #[ 0. 0.]]\"   \n",
    "b = np.ones((1,2)) # Create an array of all ones \n",
    "print(b) # Prints \"[[ 1. 1.]]\"   \n",
    "c = np.full((2,2),7) # Create a constant array \n",
    "print(c)# Prints \"[[ 7. 7.]   #[ 7. 7.]]\"   \n",
    "d = np.eye(2) # Create a 2x2 identity matrix \n",
    "print(d)# Prints \"[[ 1. 0.] [ 0. 1.]]\"   \n",
    "e = np.random.random((2,2)) # Create an array filled with random values \n",
    "print(e)# Might print \"[[ 0.91940167 0.08143941] # [ 0.68744134 0.87236687]]\""
   ]
  },
  {
   "cell_type": "code",
   "execution_count": 12,
   "metadata": {
    "collapsed": false
   },
   "outputs": [
    {
     "name": "stdout",
     "output_type": "stream",
     "text": [
      "[[ 1  2  3  4]\n",
      " [ 5  6  7  8]\n",
      " [ 9 10 11 12]]\n",
      "[[2 3]\n",
      " [6 7]]\n",
      "2\n",
      "77\n"
     ]
    }
   ],
   "source": [
    "import numpy as np   \n",
    "# Create the following rank 2 array with shape (3, 4) \n",
    "# [[ 1 2 3 4] \n",
    "# [ 5 6 7 8] \n",
    "# [ 9 10 11 12]] \n",
    "a = np.array([[1,2,3,4],[5,6,7,8],[9,10,11,12]])\n",
    "print(a)\n",
    "# Use slicing to pull out the subarray consisting of the first 2 rows \n",
    "# and columns 1 and 2; b is the following array of shape (2, 2): \n",
    "# [[2 3] \n",
    "# [6 7]] \n",
    "b = a[:2,1:3]\n",
    "print(b)\n",
    "# A slice of an array is a view into the same data, so modifying it \n",
    "# will modify the original array. \n",
    "print(a[0,1]) # Prints \"2\" \n",
    "b[0,0] = 77 # b[0, 0] is the same piece of data as a[0, 1] \n",
    "print(a[0,1])# Prints \"77\""
   ]
  },
  {
   "cell_type": "code",
   "execution_count": 14,
   "metadata": {
    "collapsed": false
   },
   "outputs": [
    {
     "name": "stdout",
     "output_type": "stream",
     "text": [
      "[[ 1  2  3  4]\n",
      " [ 5  6  7  8]\n",
      " [ 9 10 11 12]]\n",
      "[[5 6 7 8]]\n",
      "[ 2  6 10] (3,)\n",
      "[[ 2]\n",
      " [ 6]\n",
      " [10]] (3, 1)\n"
     ]
    }
   ],
   "source": [
    "import numpy as np   \n",
    "# Create the following rank 2 array with shape (3, 4) \n",
    "# [[ 1 2 3 4] \n",
    "# [ 5 6 7 8] \n",
    "# [ 9 10 11 12]] \n",
    "a = np.array([[1,2,3,4],[5,6,7,8],[9,10,11,12]])\n",
    "print(a)\n",
    "# Two ways of accessing the data in the middle row of the array. \n",
    "# Mixing integer indexing with slices yields an array of lower rank, \n",
    "# while using only slices yields an array of the same rank as the \n",
    "# original array: row_r1 = a[1, :] \n",
    "# Rank 1 view of the second row of a  \n",
    "row_r2 = a[1:2,:]\n",
    "print(row_r2)\n",
    "# Rank 2 view of the second row of a print row_r1, row_r1.shape \n",
    "# Prints \"[5 6 7 8] (4,)\" print row_r2, row_r2.shape \n",
    "# Prints \"[[5 6 7 8]] (1, 4)\"   \n",
    "# We can make the same distinction when accessing columns of an array: \n",
    "col_r1 = a[:,1] \n",
    "col_r2 = a[:,1:2] \n",
    "print(col_r1, col_r1.shape) \n",
    "# Prints \"[2 6 10](3,)\" \n",
    "print(col_r2, col_r2.shape)\n",
    "# Prints \"[[2] \n",
    "#         [6] \n",
    "#        [10]] (3,1)\""
   ]
  },
  {
   "cell_type": "code",
   "execution_count": 19,
   "metadata": {
    "collapsed": false
   },
   "outputs": [
    {
     "name": "stdout",
     "output_type": "stream",
     "text": [
      "[[1 2]\n",
      " [3 4]\n",
      " [5 6]]\n",
      "[1 4 5]\n",
      "[[1 2]\n",
      " [3 4]]\n",
      "[1 4 5]\n",
      "[2 2]\n",
      "[2 2]\n"
     ]
    }
   ],
   "source": [
    "import numpy as np\n",
    "a = np.array([[1,2],[3,4],[5,6]])\n",
    "print(a)\n",
    "# An example of integer array indexing. \n",
    "# The returned array will have shape (3,) and  \n",
    "print(a[[0,1,2],[0,1,0]]) # Prints \"[1 4 5]\" \n",
    "print(a[[0,1]]) # Prints \"[[1 2][3 4]]\"\n",
    "# The above example of integer array indexing is equivalent to this: \n",
    "print(np.array([a[0,0],a[1,1],a[2,0]])) # Prints \"[1 4 5]\"   \n",
    "# When using integer array indexing, you can reuse the same \n",
    "# element from the source array: \n",
    "print(a[[0,0],[1,1]]) # Prints \"[2 2]\"   \n",
    "# Equivalent to the previous integer array indexing example \n",
    "print(np.array([a[0,1],a[0,1]])) # Prints \"[2 2]\""
   ]
  },
  {
   "cell_type": "code",
   "execution_count": 21,
   "metadata": {
    "collapsed": false
   },
   "outputs": [
    {
     "name": "stdout",
     "output_type": "stream",
     "text": [
      "[[ 1  2  3]\n",
      " [ 4  5  6]\n",
      " [ 7  8  9]\n",
      " [10 11 12]]\n",
      "[0 2 0 1]\n",
      "[ 1  6  7 11]\n",
      "[[11  2  3]\n",
      " [ 4  5 16]\n",
      " [17  8  9]\n",
      " [10 21 12]]\n"
     ]
    }
   ],
   "source": [
    "import numpy as np   \n",
    "# Create a new array from which we will select elements \n",
    "a = np.array([[1,2,3],[4,5,6],[7,8,9],[10,11,12]])   \n",
    "print(a)\n",
    "# prints \"array([[ 1, 2, 3],  \n",
    "# [ 4, 5, 6],  \n",
    "# [ 7, 8, 9],  \n",
    "# [10, 11, 12]])\"   \n",
    "# Create an array of indices \n",
    "b = np.array([0,2,0,1])\n",
    "print(b)\n",
    "# Select one element from each row of a using the indices in b \n",
    "print(a[np.arange(4),b]) \n",
    "# Prints \"[ 1 6 7 11]\"   \n",
    "# Mutate one element from each row of a using the indices in b \n",
    "a[np.arange(4),b] += 10   \n",
    "print(a) \n",
    "# prints \"array([[11, 2, 3],  \n",
    "# [ 4, 5, 16],  \n",
    "# [17, 8, 9],  \n",
    "# [10, 21, 12]])"
   ]
  },
  {
   "cell_type": "code",
   "execution_count": 22,
   "metadata": {
    "collapsed": false
   },
   "outputs": [
    {
     "name": "stdout",
     "output_type": "stream",
     "text": [
      "[[False False]\n",
      " [ True  True]\n",
      " [ True  True]]\n",
      "[3 4 5 6]\n",
      "[3 4 5 6]\n"
     ]
    }
   ],
   "source": [
    "import numpy as np   \n",
    "a = np.array([[1,2],[3,4],[5,6]])   \n",
    "bool_idx = (a > 2) \n",
    "# Find the elements of a that are bigger than 2;  \n",
    "# this returns a numpy array of Booleans of the same  \n",
    "# shape as a, where each slot of bool_idx tells  \n",
    "# whether that element of a is > 2.   \n",
    "print(bool_idx)\n",
    "# Prints \"[[False False]  \n",
    "# [ True True]  \n",
    "# [ True True]]\"   \n",
    "# We use boolean array indexing to construct a rank 1 array \n",
    "# consisting of the elements of a corresponding to the True values \n",
    "# of bool_idx \n",
    "print(a[bool_idx]) \n",
    "# Prints \"[3 4 5 6]\"   \n",
    "# We can do all of the above in a single concise statement: \n",
    "print(a[a > 2])\n",
    "# Prints \"[3 4 5 6]\""
   ]
  },
  {
   "cell_type": "code",
   "execution_count": 24,
   "metadata": {
    "collapsed": false
   },
   "outputs": [
    {
     "name": "stdout",
     "output_type": "stream",
     "text": [
      "int32\n",
      "float64\n",
      "int64\n"
     ]
    }
   ],
   "source": [
    "import numpy as np   \n",
    "x = np.array([1,2]) \n",
    "# Let numpy choose the datatype \n",
    "print(x.dtype) # Prints \"int32\"   \n",
    "x = np.array([1.0,2.0]) \n",
    "# Let numpy choose the datatype \n",
    "print(x.dtype)# Prints \"float64\"   \n",
    "x = np.array([1,2], dtype=np.int64) \n",
    "# Force a particular datatype \n",
    "print(x.dtype) # Prints \"int64\""
   ]
  },
  {
   "cell_type": "code",
   "execution_count": 27,
   "metadata": {
    "collapsed": false
   },
   "outputs": [
    {
     "name": "stdout",
     "output_type": "stream",
     "text": [
      "[[ 6.  8.]\n",
      " [10. 12.]]\n",
      "[[ 6.  8.]\n",
      " [10. 12.]]\n",
      "[[-4. -4.]\n",
      " [-4. -4.]]\n",
      "[[-4. -4.]\n",
      " [-4. -4.]]\n",
      "[[ 5. 12.]\n",
      " [21. 32.]]\n",
      "[[ 5. 12.]\n",
      " [21. 32.]]\n",
      "[[0.2        0.33333333]\n",
      " [0.42857143 0.5       ]]\n",
      "[[0.2        0.33333333]\n",
      " [0.42857143 0.5       ]]\n",
      "[[1.         1.41421356]\n",
      " [1.73205081 2.        ]]\n"
     ]
    }
   ],
   "source": [
    "import numpy as np   \n",
    "x = np.array([[1,2],[3,4]],dtype=np.float64) \n",
    "y = np.array([[5,6],[7,8]],dtype=np.float64) \n",
    "# Elementwise sum; both produce the array \n",
    "# [[ 6.0 8.0] \n",
    "# [10.0 12.0]] \n",
    "print(x + y)\n",
    "print(np.add(x, y))   \n",
    "# Elementwise difference; both produce the array \n",
    "# [[‐4.0 ‐4.0] \n",
    "# [‐4.0 ‐4.0]] \n",
    "print(x - y) \n",
    "print(np.subtract(x, y))   \n",
    "# Elementwise product; both produce the array \n",
    "# [[ 5.0 12.0] \n",
    "# [21.0 32.0]] \n",
    "print(x * y)\n",
    "print(np.multiply(x, y))   \n",
    "# Elementwise division; both produce the array \n",
    "# [[ 0.2 0.33333333] \n",
    "# [ 0.42857143 0.5 ]] \n",
    "print(x / y) \n",
    "print(np.divide(x, y))   \n",
    "# Elementwise square root; produces the array \n",
    "# [[ 1. 1.41421356] \n",
    "# [ 1.73205081 2. ]] \n",
    "print(np.sqrt(x))"
   ]
  },
  {
   "cell_type": "code",
   "execution_count": 28,
   "metadata": {
    "collapsed": false
   },
   "outputs": [
    {
     "name": "stdout",
     "output_type": "stream",
     "text": [
      "219\n",
      "219\n",
      "[29 67]\n",
      "[29 67]\n",
      "[[19 22]\n",
      " [43 50]]\n",
      "[[19 22]\n",
      " [43 50]]\n"
     ]
    }
   ],
   "source": [
    "import numpy as np   \n",
    "x = np.array([[1,2],[3,4]])\n",
    "y = np.array([[5,6],[7,8]])   \n",
    "v = np.array([9,10]) \n",
    "w = np.array([11,12])   \n",
    "# Inner product of vectors; both produce 219 \n",
    "print(v.dot(w)) \n",
    "print(np.dot(v,w))   \n",
    "# Matrix / vector product; both produce the rank 1 array [29 67] \n",
    "print(x.dot(v)) \n",
    "print(np.dot(x,v))   \n",
    "# Matrix / matrix product; both produce the rank 2 array \n",
    "# [[19 22] \n",
    "# [43 50]] \n",
    "print(x.dot(y)) \n",
    "print(np.dot(x,y))"
   ]
  },
  {
   "cell_type": "code",
   "execution_count": 37,
   "metadata": {
    "collapsed": false
   },
   "outputs": [
    {
     "name": "stdout",
     "output_type": "stream",
     "text": [
      "36\n",
      "[[ 6  8]\n",
      " [10 12]]\n",
      "[[ 4  6]\n",
      " [12 14]]\n",
      "[[ 3  7]\n",
      " [11 15]]\n"
     ]
    }
   ],
   "source": [
    "import numpy as np   \n",
    "x = np.array([[[1,2],[3,4]],[[5,6],[7,8]]])   \n",
    "print(np.sum(x))# Compute sum of all elements; prints \"36\" \n",
    "print(np.sum(x,axis=0))# Compute sum of each column; prints \"[[ 6  8][10 12]]\" \n",
    "print(np.sum(x,axis=1))# Compute sum of each row; prints \"[[ 4  6][12 14]]\"\n",
    "print(np.sum(x,axis=2))# prints \"[[ 3  7][11 15]]\""
   ]
  },
  {
   "cell_type": "code",
   "execution_count": 38,
   "metadata": {
    "collapsed": false
   },
   "outputs": [
    {
     "name": "stdout",
     "output_type": "stream",
     "text": [
      "[[1 2]\n",
      " [3 4]]\n",
      "[[1 3]\n",
      " [2 4]]\n",
      "[1 2 3]\n",
      "[1 2 3]\n"
     ]
    }
   ],
   "source": [
    "import numpy as np   \n",
    "x = np.array([[1,2],[3,4]]) \n",
    "print(x) # Prints \"[[1 2]  \n",
    "#                  [3 4]]\" \n",
    "print(x.T) # Prints \"[[1 3]  \n",
    "#                    [2 4]]\"   \n",
    "# Note that taking the transpose of a rank 1 array does nothing: \n",
    "v = np.array([1,2,3]) \n",
    "print(v) # Prints \"[1 2 3]\" \n",
    "print(v.T) # Prints \"[1 2 3]\""
   ]
  },
  {
   "cell_type": "code",
   "execution_count": 42,
   "metadata": {
    "collapsed": false
   },
   "outputs": [
    {
     "name": "stdout",
     "output_type": "stream",
     "text": [
      "[[ 1  2  3]\n",
      " [ 4  5  6]\n",
      " [ 7  8  9]\n",
      " [10 11 12]]\n",
      "\n",
      "\n",
      "[[ 2  2  4]\n",
      " [ 4  5  6]\n",
      " [ 7  8  9]\n",
      " [10 11 12]]\n",
      "[[ 2  2  4]\n",
      " [ 5  5  7]\n",
      " [ 7  8  9]\n",
      " [10 11 12]]\n",
      "[[ 2  2  4]\n",
      " [ 5  5  7]\n",
      " [ 8  8 10]\n",
      " [10 11 12]]\n",
      "[[ 2  2  4]\n",
      " [ 5  5  7]\n",
      " [ 8  8 10]\n",
      " [11 11 13]]\n"
     ]
    }
   ],
   "source": [
    "import numpy as np   \n",
    "# We will add the vector v to each row of the matrix x, \n",
    "# storing the result in the matrix y \n",
    "x = np.array([[1,2,3],[4,5,6],[7,8,9],[10,11,12]]) \n",
    "v = np.array([1,0,1]) \n",
    "y = np.empty_like(x)\n",
    "print(y) #[[ 1  2  3]\n",
    "#          [ 4  5  6]\n",
    "#          [ 7  8  9]\n",
    "#          [10 11 12]]\n",
    "# Create an empty matrix with the same shape as x   \n",
    "# Add the vector v to each row of the matrix x with an explicit loop 要把一个向量加到矩阵的每一行\n",
    "for i in range(4):  \n",
    "    y[i,:] = x[i,:] + v   \n",
    "    # Now y is the following \n",
    "    # [[ 2 2 4] \n",
    "    # [ 5 5 7] \n",
    "    # [ 8 8 10] \n",
    "    # [11 11 13]] \n",
    "    print(y)"
   ]
  },
  {
   "cell_type": "code",
   "execution_count": 43,
   "metadata": {
    "collapsed": false
   },
   "outputs": [
    {
     "name": "stdout",
     "output_type": "stream",
     "text": [
      "[[1 0 1]\n",
      " [1 0 1]\n",
      " [1 0 1]\n",
      " [1 0 1]]\n",
      "[[ 2  2  4]\n",
      " [ 5  5  7]\n",
      " [ 8  8 10]\n",
      " [11 11 13]]\n"
     ]
    }
   ],
   "source": [
    "import numpy as np   \n",
    "# We will add the vector v to each row of the matrix x, \n",
    "# storing the result in the matrix y \n",
    "x = np.array([[1,2,3],[4,5,6],[7,8,9],[10,11,12]]) \n",
    "v = np.array([1,0,1]) \n",
    "vv = np.tile(v,(4,1)) \n",
    "# Stack 4 copies of v on top of each other \n",
    "print(vv) # Prints \"[[1 0 1]  \n",
    "#                   [1 0 1]  \n",
    "#                   [1 0 1]  \n",
    "#                   [1 0 1]]\" \n",
    "y = x + vv # Add x and vv elementwise \n",
    "print(y)# Prints \"[[ 2 2 4  \n",
    "#                  [ 5 5 7]  \n",
    "#                  [ 8 8 10]  \n",
    "#                  [11 11 13]]\""
   ]
  },
  {
   "cell_type": "code",
   "execution_count": 44,
   "metadata": {
    "collapsed": false
   },
   "outputs": [
    {
     "name": "stdout",
     "output_type": "stream",
     "text": [
      "[[ 2  2  4]\n",
      " [ 5  5  7]\n",
      " [ 8  8 10]\n",
      " [11 11 13]]\n"
     ]
    }
   ],
   "source": [
    "import numpy as np   \n",
    "# We will add the vector v to each row of the matrix x, \n",
    "# storing the result in the matrix y \n",
    "x = np.array([[1,2,3],[4,5,6],[7,8,9],[10,11,12]]) \n",
    "v = np.array([1,0,1]) \n",
    "y = x + v \n",
    "# Add v to each row of x using broadcasting \n",
    "print(y) \n",
    "# Prints \"[[ 2 2 4]  \n",
    "#          [ 5 5 7]  \n",
    "#         [ 8 8 10]  \n",
    "#         [11 11 13]]\""
   ]
  },
  {
   "cell_type": "markdown",
   "metadata": {},
   "source": [
    "对两个数组使用广播机制要遵守下列规则：\n",
    "1. 如果数组的秩不同，使用1来将秩较小的数组进行扩展，直到两个数组的尺寸的长度都一样。 \n",
    "2. 如果两个数组在某个维度上的长度是一样的，或者其中一个数组在该维度上长度为1，那么我们就说这两个数组在该维度上是相容的。 \n",
    "3. 如果两个数组在所有维度上都是相容的，他们就能使用广播。 \n",
    "4. 如果两个输入数组的尺寸不同，那么注意其中较大的那个尺寸。因为广播之后，两个数组的尺寸将和那个较大的尺寸一样。 \n",
    "5. 在任何一个维度上，如果一个数组的长度为1，另一个数组长度大于1，那么在该维度上，就好像是对第一个数组进行了复制。"
   ]
  },
  {
   "cell_type": "code",
   "execution_count": 46,
   "metadata": {
    "collapsed": false
   },
   "outputs": [
    {
     "name": "stdout",
     "output_type": "stream",
     "text": [
      "[[ 4  5]\n",
      " [ 8 10]\n",
      " [12 15]]\n",
      "[[2 4 6]\n",
      " [5 7 9]]\n",
      "[[ 5  6  7]\n",
      " [ 9 10 11]]\n",
      "[[ 5  6  7]\n",
      " [ 9 10 11]]\n",
      "[[ 2  4  6]\n",
      " [ 8 10 12]]\n"
     ]
    }
   ],
   "source": [
    "import numpy as np   \n",
    "# Compute outer product of vectors \n",
    "v = np.array([1,2,3]) \n",
    "# v has shape (3,) \n",
    "w = np.array([4,5]) \n",
    "# w has shape (2,) \n",
    "# To compute an outer product, we first reshape v to be a column \n",
    "# vector of shape (3, 1); we can then broadcast it against w to yield \n",
    "# an output of shape (3, 2), which is the outer product of v and w: \n",
    "# [[ 4 5] \n",
    "# [ 8 10] \n",
    "# [12 15]] \n",
    "print(np.reshape(v,(3,1)) * w)   \n",
    "# Add a vector to each row of a matrix \n",
    "x = np.array([[1,2,3],[4,5,6]]) \n",
    "# x has shape (2, 3) and v has shape (3,) so they broadcast to (2, 3), \n",
    "# giving the following matrix: \n",
    "# [[2 4 6] \n",
    "# [5 7 9]] \n",
    "print(x + v)  \n",
    "# Add a vector to each column of a matrix \n",
    "# x has shape (2, 3) and w has shape (2,). \n",
    "# If we transpose x then it has shape (3, 2) and can be broadcast \n",
    "# against w to yield a result of shape (3, 2); transposing this result \n",
    "# yields the final result of shape (2, 3) which is the matrix x with \n",
    "# the vector w added to each column. Gives the following matrix: \n",
    "# [[ 5 6 7] \n",
    "# [ 9 10 11]] \n",
    "print(x.T)\n",
    "print((x.T + w).T)   \n",
    "# Another solution is to reshape w to be a row vector of shape (2, 1); \n",
    "# we can then broadcast it directly against x to produce the same \n",
    "# output. \n",
    "print(x + np.reshape(w,(2,1)))   \n",
    "# Multiply a matrix by a constant: \n",
    "# x has shape (2, 3). Numpy treats scalars as arrays of shape (); \n",
    "# these can be broadcast together to shape (2, 3), producing the \n",
    "# following array: \n",
    "# [[ 2 4 6] \n",
    "# [ 8 10 12]] \n",
    "print(x * 2)"
   ]
  }
 ],
 "metadata": {
  "anaconda-cloud": {},
  "kernelspec": {
   "display_name": "Python [conda env:tensorflow]",
   "language": "python",
   "name": "conda-env-tensorflow-py"
  },
  "language_info": {
   "codemirror_mode": {
    "name": "ipython",
    "version": 3
   },
   "file_extension": ".py",
   "mimetype": "text/x-python",
   "name": "python",
   "nbconvert_exporter": "python",
   "pygments_lexer": "ipython3",
   "version": "3.5.4"
  }
 },
 "nbformat": 4,
 "nbformat_minor": 1
}

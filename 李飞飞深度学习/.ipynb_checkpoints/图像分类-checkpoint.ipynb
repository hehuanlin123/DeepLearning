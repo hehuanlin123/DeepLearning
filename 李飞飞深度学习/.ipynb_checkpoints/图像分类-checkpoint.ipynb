{
 "cells": [
  {
   "cell_type": "code",
   "execution_count": 3,
   "metadata": {
    "collapsed": false
   },
   "outputs": [
    {
     "name": "stdout",
     "output_type": "stream",
     "text": [
      "accuracy: 0.310100\n"
     ]
    }
   ],
   "source": [
    "# -*- coding: utf-8 -*-\n",
    "import pickle as p\n",
    "import numpy as np\n",
    "import os\n",
    "\n",
    "def load_CIFAR_batch(filename):\n",
    "    \"\"\" 载入cifar数据集的一个batch \"\"\"\n",
    "    with open(filename, 'rb') as f:\n",
    "        datadict = p.load(f, encoding='latin1')\n",
    "        X = datadict['data']\n",
    "        Y = datadict['labels']\n",
    "        X = X.reshape(10000, 3, 32, 32).transpose(0, 2, 3, 1).astype(\"float\")#转置参数\n",
    "        Y = np.array(Y)\n",
    "        return X, Y\n",
    "\n",
    "def load_CIFAR10(ROOT):\n",
    "    \"\"\" 载入cifar全部数据 \"\"\"\n",
    "    xs = []\n",
    "    ys = []\n",
    "    # 读取batch_1和batch_2的数据\n",
    "    for b in range(1,2):\n",
    "        f = os.path.join(ROOT, 'data_batch_%d' % (b,))\n",
    "        X, Y = load_CIFAR_batch(f)\n",
    "        xs.append(X)         #将所有batch整合起来\n",
    "        ys.append(Y)\n",
    "    Xtr = np.concatenate(xs) #矩阵拼接，使变成行向量,最终Xtr的尺寸为(50000,32,32,3)\n",
    "    Ytr = np.concatenate(ys)\n",
    "    del X, Y #从缓冲区中删掉X Y\n",
    "    # 读取测试batch的数据\n",
    "    Xte, Yte = load_CIFAR_batch(os.path.join(ROOT, 'test_batch'))\n",
    "    return Xtr, Ytr, Xte, Yte\n",
    "\n",
    "class NearestNeighbor(object):  \n",
    "    def __init__(self):  \n",
    "        pass    \n",
    "    def train(self, X, y):  \n",
    "        \"\"\" X is N x D where each row is an example. Y is 1‐dimension of size N \"\"\"  \n",
    "        # the nearest neighbor classifier simply remembers all the training data  \n",
    "        self.Xtr = X  \n",
    "        self.ytr = y    \n",
    "    def predict(self, X):  \n",
    "        \"\"\" X is N x D where each row is an example we wish to predict label for \"\"\"  \n",
    "        num_test = X.shape[0]  \n",
    "        # lets make sure that the output type matches the input type  \n",
    "        Ypred = np.zeros(num_test, dtype = self.ytr.dtype)    \n",
    "        # loop over all test rows  \n",
    "        for i in range(num_test):  \n",
    "            # find the nearest training image to the i'th test image  \n",
    "            # using the L1 distance (sum of absolute value differences)  \n",
    "            distances = np.sum(np.abs(self.Xtr - X[i,:]), axis = 1)\n",
    "            # L2 distance\n",
    "            #distances = np.sqrt(np.sum(np.square(self.Xtr - X[i,:]), axis = 1))\n",
    "            min_index = np.argmin(distances) # get the index with smallest distance  \n",
    "            Ypred[i] = self.ytr[min_index] # predict the label of the nearest example    \n",
    "        return Ypred\n",
    "            \n",
    "Xtr, Ytr, Xte, Yte = load_CIFAR10('E:\\\\workspace\\\\深度学习视频\\\\深度学习\\\\李飞飞深度学习\\\\cifar10') \n",
    "# a magic function we provide \n",
    "# flatten out all images to be one‐dimensional \n",
    "Xtr_rows = Xtr.reshape(Xtr.shape[0], 32 * 32 * 3) # Xtr_rows becomes 50000 x 3072 \n",
    "Xte_rows = Xte.reshape(Xte.shape[0], 32 * 32 * 3) # Xte_rows becomes 10000 x 307\n",
    "\n",
    "nn = NearestNeighbor() # create a Nearest Neighbor classifier class \n",
    "nn.train(Xtr_rows, Ytr) # train the classifier on the training images and labels \n",
    "Yte_predict = nn.predict(Xte_rows) # predict labels on the test images \n",
    "# and now print the classification accuracy, which is the average number \n",
    "# of examples that are correctly predicted (i.e. label matches) \n",
    "print('accuracy: %f' % (np.mean(Yte_predict == Yte)))"
   ]
  },
  {
   "cell_type": "code",
   "execution_count": 6,
   "metadata": {
    "collapsed": false
   },
   "outputs": [
    {
     "ename": "TypeError",
     "evalue": "predict() got an unexpected keyword argument 'k'",
     "output_type": "error",
     "traceback": [
      "\u001b[1;31m---------------------------------------------------------------------------\u001b[0m",
      "\u001b[1;31mTypeError\u001b[0m                                 Traceback (most recent call last)",
      "\u001b[1;32m<ipython-input-6-3c969cb44dab>\u001b[0m in \u001b[0;36m<module>\u001b[1;34m()\u001b[0m\n\u001b[0;32m     14\u001b[0m     \u001b[0mnn\u001b[0m\u001b[1;33m.\u001b[0m\u001b[0mtrain\u001b[0m\u001b[1;33m(\u001b[0m\u001b[0mXtr_rows\u001b[0m\u001b[1;33m,\u001b[0m\u001b[0mYtr\u001b[0m\u001b[1;33m)\u001b[0m\u001b[1;33m\u001b[0m\u001b[0m\n\u001b[0;32m     15\u001b[0m     \u001b[1;31m# here we assume a modified NearestNeighbor class that can take a k as input\u001b[0m\u001b[1;33m\u001b[0m\u001b[1;33m\u001b[0m\u001b[0m\n\u001b[1;32m---> 16\u001b[1;33m     \u001b[0mYval_predict\u001b[0m \u001b[1;33m=\u001b[0m \u001b[0mnn\u001b[0m\u001b[1;33m.\u001b[0m\u001b[0mpredict\u001b[0m\u001b[1;33m(\u001b[0m\u001b[0mXval_rows\u001b[0m\u001b[1;33m,\u001b[0m\u001b[0mk\u001b[0m\u001b[1;33m=\u001b[0m\u001b[0mk\u001b[0m\u001b[1;33m)\u001b[0m\u001b[1;33m\u001b[0m\u001b[0m\n\u001b[0m\u001b[0;32m     17\u001b[0m     \u001b[0macc\u001b[0m \u001b[1;33m=\u001b[0m \u001b[0mnp\u001b[0m\u001b[1;33m.\u001b[0m\u001b[0mmean\u001b[0m\u001b[1;33m(\u001b[0m\u001b[0mYval_predict\u001b[0m \u001b[1;33m==\u001b[0m \u001b[0mYval\u001b[0m\u001b[1;33m)\u001b[0m\u001b[1;33m\u001b[0m\u001b[0m\n\u001b[0;32m     18\u001b[0m     \u001b[0mprint\u001b[0m\u001b[1;33m(\u001b[0m\u001b[1;34m'accuracy: %f'\u001b[0m \u001b[1;33m%\u001b[0m \u001b[1;33m(\u001b[0m\u001b[0macc\u001b[0m\u001b[1;33m,\u001b[0m\u001b[1;33m)\u001b[0m\u001b[1;33m)\u001b[0m\u001b[1;33m\u001b[0m\u001b[0m\n",
      "\u001b[1;31mTypeError\u001b[0m: predict() got an unexpected keyword argument 'k'"
     ]
    }
   ],
   "source": [
    "# assume we have Xtr_rows, Ytr, Xte_rows, Yte as before \n",
    "# recall Xtr_rows is 50,000 x 3072 matrix \n",
    "Xval_rows = Xtr_rows[:1000,:] \n",
    "# take first 1000 for validation \n",
    "Yval = Ytr[:1000] \n",
    "Xtr_rows = Xtr_rows[1000:,:] \n",
    "# keep last 49,000 for train \n",
    "Ytr = Ytr[1000:]   \n",
    "# find hyperparameters that work best on the validation set \n",
    "validation_accuracies = [] \n",
    "for k in [1,3,5,10,20,50,100]:    \n",
    "    # use a particular value of k and evaluation on validation data  \n",
    "    nn = NearestNeighbor()  \n",
    "    nn.train(Xtr_rows,Ytr)  \n",
    "    # here we assume a modified NearestNeighbor class that can take a k as input  \n",
    "    Yval_predict = nn.predict(Xval_rows)  \n",
    "    acc = np.mean(Yval_predict == Yval)  \n",
    "    print('accuracy: %f' % (acc,))    \n",
    "    # keep track of what works on the validation set  \n",
    "    validation_accuracies.append((k, acc))\n",
    "print(validation_accuracies)"
   ]
  }
 ],
 "metadata": {
  "kernelspec": {
   "display_name": "Python [conda env:tensorflow]",
   "language": "python",
   "name": "conda-env-tensorflow-py"
  },
  "language_info": {
   "codemirror_mode": {
    "name": "ipython",
    "version": 3
   },
   "file_extension": ".py",
   "mimetype": "text/x-python",
   "name": "python",
   "nbconvert_exporter": "python",
   "pygments_lexer": "ipython3",
   "version": "3.5.4"
  }
 },
 "nbformat": 4,
 "nbformat_minor": 1
}

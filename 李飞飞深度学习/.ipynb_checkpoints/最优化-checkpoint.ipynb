{
 "cells": [
  {
   "cell_type": "markdown",
   "metadata": {},
   "source": [
    "# 随机搜索"
   ]
  },
  {
   "cell_type": "code",
   "execution_count": 8,
   "metadata": {
    "collapsed": false
   },
   "outputs": [
    {
     "ename": "TypeError",
     "evalue": "'str' object cannot be interpreted as an integer",
     "output_type": "error",
     "traceback": [
      "\u001b[1;31m---------------------------------------------------------------------------\u001b[0m",
      "\u001b[1;31mTypeError\u001b[0m                                 Traceback (most recent call last)",
      "\u001b[1;32m<ipython-input-8-a77854762108>\u001b[0m in \u001b[0;36m<module>\u001b[1;34m()\u001b[0m\n\u001b[0;32m     22\u001b[0m \u001b[1;33m\u001b[0m\u001b[0m\n\u001b[0;32m     23\u001b[0m \u001b[1;31m# 假设X_train的每一列都是一个数据样本（比如3073 x 50000）\u001b[0m\u001b[1;33m\u001b[0m\u001b[1;33m\u001b[0m\u001b[0m\n\u001b[1;32m---> 24\u001b[1;33m \u001b[0mX_train\u001b[0m \u001b[1;33m=\u001b[0m \u001b[0mnp\u001b[0m\u001b[1;33m.\u001b[0m\u001b[0mrandom\u001b[0m\u001b[1;33m.\u001b[0m\u001b[0mrandn\u001b[0m\u001b[1;33m(\u001b[0m\u001b[1;34m'int64'\u001b[0m\u001b[1;33m,\u001b[0m\u001b[1;33m[\u001b[0m\u001b[1;36m3073\u001b[0m\u001b[1;33m,\u001b[0m\u001b[1;36m50000\u001b[0m\u001b[1;33m]\u001b[0m\u001b[1;33m)\u001b[0m\u001b[1;33m\u001b[0m\u001b[0m\n\u001b[0m\u001b[0;32m     25\u001b[0m \u001b[1;31m# 假设Y_train是数据样本的类别标签（比如一个长50000的一维数组）\u001b[0m\u001b[1;33m\u001b[0m\u001b[1;33m\u001b[0m\u001b[0m\n\u001b[0;32m     26\u001b[0m \u001b[0mY_train\u001b[0m \u001b[1;33m=\u001b[0m \u001b[0mnp\u001b[0m\u001b[1;33m.\u001b[0m\u001b[0mrandom\u001b[0m\u001b[1;33m.\u001b[0m\u001b[0mrandn\u001b[0m\u001b[1;33m(\u001b[0m\u001b[1;34m'int64'\u001b[0m\u001b[1;33m,\u001b[0m\u001b[1;33m[\u001b[0m\u001b[1;36m1\u001b[0m\u001b[1;33m,\u001b[0m\u001b[1;36m50000\u001b[0m\u001b[1;33m]\u001b[0m\u001b[1;33m)\u001b[0m\u001b[1;33m\u001b[0m\u001b[0m\n",
      "\u001b[1;32mmtrand.pyx\u001b[0m in \u001b[0;36mmtrand.RandomState.randn\u001b[1;34m()\u001b[0m\n",
      "\u001b[1;32mmtrand.pyx\u001b[0m in \u001b[0;36mmtrand.RandomState.standard_normal\u001b[1;34m()\u001b[0m\n",
      "\u001b[1;32mmtrand.pyx\u001b[0m in \u001b[0;36mmtrand.cont0_array\u001b[1;34m()\u001b[0m\n",
      "\u001b[1;31mTypeError\u001b[0m: 'str' object cannot be interpreted as an integer"
     ]
    }
   ],
   "source": [
    "import numpy as np\n",
    "\n",
    "def L(x,y,W):  \n",
    "    \"\"\"  \n",
    "    unvectorized version. Compute the multiclass svm loss for a single example (x,y)  \n",
    "    ‐ x is a column vector representing an image (e.g. 3073 x 1 in CIFAR‐10)  with an appended bias dimension in the 3073‐rd position (i.e. bias trick)  \n",
    "    ‐ y is an integer giving index of correct class (e.g. between 0 and 9 in CIFAR‐10)  \n",
    "    ‐ W is the weight matrix (e.g. 10 x 3073 in CIFAR‐10)  \n",
    "    \"\"\"  \n",
    "    delta = 1.0 # see notes about delta later in this section  \n",
    "    scores = W.dot(x) # scores becomes of size 10 x 1, the scores for each class  \n",
    "    correct_class_score = scores[y]  \n",
    "    D = W.shape[0] # number of classes, e.g. 10  \n",
    "    loss_i = 0.0  \n",
    "    for j in xrange(D): # iterate over all wrong classes  \n",
    "        if j == y:\n",
    "            # skip for the true class to only loop over incorrect classes  \n",
    "            continue  \n",
    "        # accumulate loss for the i‐th example  \n",
    "        loss_i += max(0, scores[j] - correct_class_score + delta)  \n",
    "    return loss_i   \n",
    "\n",
    "# 假设X_train的每一列都是一个数据样本（比如3073 x 50000）\n",
    "X_train = np.random.randn(3073,50000).astype('int64')\n",
    "# 假设Y_train是数据样本的类别标签（比如一个长50000的一维数组）\n",
    "Y_train = np.random.randn(1,50000).astype('int64')\n",
    "# 假设函数L对损失函数进行评价   \n",
    "bestloss = float(\"inf\") # Python assigns the highest possible float value \n",
    "for num in range(1000):  \n",
    "    W = np.random.randn(10,3073) * 0.0001 # generate random parameters  \n",
    "    loss = L(X_train,Y_train,W) # get the loss over the entire training set  \n",
    "    if loss < bestloss: # keep track of the best solution  \n",
    "        bestloss = loss  \n",
    "        bestW = W  \n",
    "        print('in attempt %d the loss was %f, best %f' % (num, loss, bestloss))   \n",
    "        # 输出: \n",
    "        # in attempt 0 the loss was 9.401632, best 9.401632 \n",
    "        # in attempt 1 the loss was 8.959668, best 8.959668 \n",
    "        # in attempt 2 the loss was 9.044034, best 8.959668 \n",
    "        # in attempt 3 the loss was 9.278948, best 8.959668 \n",
    "        # in attempt 4 the loss was 8.857370, best 8.857370 \n",
    "        # in attempt 5 the loss was 8.943151, best 8.857370 \n",
    "        # in attempt 6 the loss was 8.605604, best 8.605604 \n",
    "        # ... (trunctated: continues for 1000 lines)\n",
    "        \n",
    "# 假设X_test尺寸是[3073 x 10000], Y_test尺寸是[10000 x 1] \n",
    "scores = Wbest.dot(Xte_cols) # 10 x 10000, the class scores for all test examples \n",
    "# 找到在每列中评分值最大的索引（即预测的分类） \n",
    "Yte_predict = np.argmax(scores,axis = 0) \n",
    "# 以及计算准确率 \n",
    "np.mean(Yte_predict == Yte) \n",
    "# 返回 0.155"
   ]
  }
 ],
 "metadata": {
  "kernelspec": {
   "display_name": "Python [conda env:tensorflow]",
   "language": "python",
   "name": "conda-env-tensorflow-py"
  },
  "language_info": {
   "codemirror_mode": {
    "name": "ipython",
    "version": 3
   },
   "file_extension": ".py",
   "mimetype": "text/x-python",
   "name": "python",
   "nbconvert_exporter": "python",
   "pygments_lexer": "ipython3",
   "version": "3.5.4"
  }
 },
 "nbformat": 4,
 "nbformat_minor": 1
}

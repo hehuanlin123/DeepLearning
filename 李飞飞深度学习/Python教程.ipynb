{
 "cells": [
  {
   "cell_type": "code",
   "execution_count": 1,
   "metadata": {
    "collapsed": false
   },
   "outputs": [
    {
     "name": "stdout",
     "output_type": "stream",
     "text": [
      "[1, 1, 2, 3, 6, 8, 10]\n"
     ]
    }
   ],
   "source": [
    "def quicksort(arr):  \n",
    "    if len(arr) <= 1:  \n",
    "        return arr  \n",
    "    pivot = arr[len(arr) // 2]  \n",
    "    left = [x for x in arr if x < pivot]  \n",
    "    middle = [x for x in arr if x == pivot]  \n",
    "    right = [x for x in arr if x > pivot]  \n",
    "    return quicksort(left) + middle + quicksort(right)   \n",
    "print(quicksort([3,6,8,10,1,2,1])) \n",
    "# Prints \"[1, 1, 2, 3, 6, 8, 10]\""
   ]
  },
  {
   "cell_type": "code",
   "execution_count": 2,
   "metadata": {
    "collapsed": false
   },
   "outputs": [
    {
     "name": "stdout",
     "output_type": "stream",
     "text": [
      "<class 'int'>\n",
      "3\n",
      "4\n",
      "2\n",
      "6\n",
      "9\n",
      "4\n",
      "8\n",
      "<class 'float'>\n",
      "2.5 3.5 5.0 6.25\n"
     ]
    }
   ],
   "source": [
    "x = 3 \n",
    "print(type(x)) # Prints \"<type 'int'>\" \n",
    "print(x) # Prints \"3\" \n",
    "print(x + 1) # Addition; prints \"4\" \n",
    "print(x - 1) # Subtraction; prints \"2\" \n",
    "print(x * 2) # Multiplication; prints \"6\" \n",
    "print(x ** 2) # Exponentiation; prints \"9\" \n",
    "x += 1 \n",
    "print(x) # Prints \"4\" \n",
    "x *= 2 \n",
    "print(x) # Prints \"8\" \n",
    "y = 2.5 \n",
    "print(type(y)) # Prints \"<type 'float'>\"\n",
    "print(y, y + 1, y * 2, y ** 2) # Prints \"2.5 3.5 5.0 6.25\""
   ]
  },
  {
   "cell_type": "code",
   "execution_count": 3,
   "metadata": {
    "collapsed": false
   },
   "outputs": [
    {
     "name": "stdout",
     "output_type": "stream",
     "text": [
      "<class 'bool'>\n",
      "False\n",
      "True\n",
      "False\n",
      "True\n"
     ]
    }
   ],
   "source": [
    "t = True \n",
    "f = False \n",
    "print(type(t)) # Prints \"<type 'bool'>\" \n",
    "print(t and f) # Logical AND; prints \"False\" \n",
    "print(t or f) # Logical OR; prints \"True\" \n",
    "print(not t) # Logical NOT; prints \"False\" \n",
    "print(t != f) # Logical XOR; prints \"True\""
   ]
  },
  {
   "cell_type": "code",
   "execution_count": 4,
   "metadata": {
    "collapsed": false
   },
   "outputs": [
    {
     "name": "stdout",
     "output_type": "stream",
     "text": [
      "hello\n",
      "5\n",
      "hello world 12\n"
     ]
    }
   ],
   "source": [
    "hello = 'hello'# String literals can use single quotes \n",
    "world = \"world\"# or double quotes; it does not matter. \n",
    "print(hello)# Prints \"hello\" \n",
    "print(len(hello))# String length; prints \"5\" \n",
    "hw = hello + ' ' + world# String concatenation print hw  # prints \"hello world\" \n",
    "hw12 = '%s %s %d' % (hello,world,12)# sprintf style string formatting \n",
    "print(hw12)# prints \"hello world 12\""
   ]
  },
  {
   "cell_type": "code",
   "execution_count": 5,
   "metadata": {
    "collapsed": false
   },
   "outputs": [
    {
     "name": "stdout",
     "output_type": "stream",
     "text": [
      "Hello\n",
      "HELLO\n",
      "  hello\n",
      " hello \n",
      "he(ell)(ell)o\n",
      "world\n"
     ]
    }
   ],
   "source": [
    "s = \"hello\" \n",
    "print(s.capitalize()) # Capitalize a string; prints \"Hello\" \n",
    "print(s.upper()) # Convert a string to uppercase; prints \"HELLO\" \n",
    "print(s.rjust(7)) # Right‐justify a string, padding with spaces; prints \"  hello\" \n",
    "print(s.center(7)) # Center a string, padding with spaces; prints \" hello \" \n",
    "print(s.replace('l','(ell)')) # Replace all instances of one substring with another;                                # prints \"he(ell)(ell)o\" \n",
    "print('world'.strip())# Strip leading and trailing whitespace; prints \"world\""
   ]
  },
  {
   "cell_type": "code",
   "execution_count": 6,
   "metadata": {
    "collapsed": false
   },
   "outputs": [
    {
     "name": "stdout",
     "output_type": "stream",
     "text": [
      "[3, 1, 2] 2\n",
      "2\n",
      "[3, 1, 'foo']\n",
      "[3, 1, 'foo', 'bar']\n",
      "bar [3, 1, 'foo']\n"
     ]
    }
   ],
   "source": [
    "xs = [3,1,2] # Create a list \n",
    "print(xs,xs[2]) # Prints \"[3, 1, 2] 2\" \n",
    "print(xs[-1]) # Negative indices count from the end of the list; prints \"2\" \n",
    "xs[2] = 'foo'# Lists can contain elements of different types \n",
    "print(xs) # Prints \"[3, 1, 'foo']\" \n",
    "xs.append('bar') # Add a new element to the end of the list \n",
    "print(xs)# Prints  \n",
    "x = xs.pop() # Remove and return the last element of the list \n",
    "print(x,xs) # Prints \"bar [3, 1, 'foo']\""
   ]
  },
  {
   "cell_type": "code",
   "execution_count": 7,
   "metadata": {
    "collapsed": false
   },
   "outputs": [
    {
     "name": "stdout",
     "output_type": "stream",
     "text": [
      "range(0, 5)\n",
      "range(2, 4)\n",
      "range(2, 5)\n",
      "range(0, 2)\n",
      "range(0, 5)\n",
      "range(0, 4)\n",
      "range(0, 5)\n"
     ]
    }
   ],
   "source": [
    "nums = range(5)# range is a built‐in function that creates a list of integers \n",
    "print(nums)# Prints \"[0, 1, 2, 3, 4]\" \n",
    "print(nums[2:4])# Get a slice from index 2 to 4 (exclusive); prints \"[2, 3]\" \n",
    "print(nums[2:])# Get a slice from index 2 to the end; prints \"[2, 3, 4]\" \n",
    "print(nums[:2])# Get a slice from the start to index 2 (exclusive); prints \"[0, 1]\" \n",
    "print(nums[:])# Get a slice of the whole list; prints [\"0, 1, 2, 3, 4]\" \n",
    "print(nums[:-1])# Slice indices can be negative; prints [\"0, 1, 2, 3]\" \n",
    "#nums[2:4] = [8,9] # Assign a new sublist to a slice \n",
    "print(nums)# Prints \"[0, 1, 8, 8, 4]\""
   ]
  },
  {
   "cell_type": "code",
   "execution_count": 8,
   "metadata": {
    "collapsed": false
   },
   "outputs": [
    {
     "name": "stdout",
     "output_type": "stream",
     "text": [
      "cat\n",
      "dog\n",
      "monkey\n",
      "#1: cat\n",
      "#2: dog\n",
      "#3: monkey\n"
     ]
    }
   ],
   "source": [
    "animals = ['cat','dog','monkey'] \n",
    "for animal in animals:\n",
    "    print(animal)# Prints \"cat\", \"dog\", \"monkey\", each on its own line.\n",
    "    \n",
    "animals = ['cat','dog','monkey']\n",
    "for idx,animal in enumerate(animals):\n",
    "    print('#%d: %s' % (idx + 1,animal)) # Prints \"#1: cat\", \"#2: dog\", \"#3: monkey\", each on its own line"
   ]
  },
  {
   "cell_type": "code",
   "execution_count": 9,
   "metadata": {
    "collapsed": false
   },
   "outputs": [
    {
     "name": "stdout",
     "output_type": "stream",
     "text": [
      "[0, 1, 4, 9, 16]\n",
      "[0, 1, 4, 9, 16]\n",
      "[0, 4, 16]\n"
     ]
    }
   ],
   "source": [
    "nums = [0,1,2,3,4] \n",
    "squares = [] \n",
    "for x in nums:\n",
    "    squares.append(x ** 2)\n",
    "print(squares) # Prints [0, 1, 4, 9, 16]\n",
    "\n",
    "nums = [0,1,2,3,4]\n",
    "squares = [x ** 2 for x in nums]\n",
    "print(squares)# Prints [0, 1, 4, 9, 16]\n",
    "\n",
    "nums = [0,1,2,3,4]\n",
    "even_squares = [x ** 2 for x in nums if x % 2 == 0] \n",
    "print(even_squares) # Prints \"[0, 4, 16]\""
   ]
  },
  {
   "cell_type": "code",
   "execution_count": 10,
   "metadata": {
    "collapsed": false
   },
   "outputs": [
    {
     "name": "stdout",
     "output_type": "stream",
     "text": [
      "cute\n",
      "True\n",
      "wet\n",
      "N/A\n",
      "wet\n"
     ]
    },
    {
     "data": {
      "text/plain": [
       "'N/A'"
      ]
     },
     "execution_count": 10,
     "metadata": {},
     "output_type": "execute_result"
    }
   ],
   "source": [
    "d = {'cat':'cute','dog':'furry'}# Create a new dictionary with some data \n",
    "print(d['cat']) # Get an entry from a dictionary; prints \"cute\" \n",
    "print('cat' in d)# Check if a dictionary has a given key; prints \"True\" \n",
    "d['fish'] = 'wet' # Set an entry in a dictionary \n",
    "print(d['fish']) # Prints \"wet\" # \n",
    "#print(d['monkey']) # KeyError: 'monkey' not a key of d \n",
    "print(d.get('monkey','N/A')) # Get an element with a default; prints \"N/A\" \n",
    "print(d.get('fish','N/A')) # Get an element with a default; prints \"wet\" \n",
    "del d['fish'] # Remove an element from a dictionary print \n",
    "d.get('fish','N/A') # \"fish\" is no longer a key; prints \"N/A\""
   ]
  },
  {
   "cell_type": "code",
   "execution_count": 11,
   "metadata": {
    "collapsed": false
   },
   "outputs": [
    {
     "name": "stdout",
     "output_type": "stream",
     "text": [
      "A cat has 4 legs\n",
      "A person has 2 legs\n",
      "A spider has 8 legs\n",
      "A cat has 4 legs\n",
      "A person has 2 legs\n",
      "A spider has 8 legs\n",
      "{0: 0, 2: 4, 4: 16}\n"
     ]
    }
   ],
   "source": [
    "d = {'person':2,'cat':4,'spider':8}\n",
    "for animal in d:\n",
    "    legs = d[animal]\n",
    "    print('A %s has %d legs' % (animal,legs)) # Prints \"A person has 2 legs\", \"A spider has 8 legs\", \"A cat has 4 legs\"\n",
    "\n",
    "d = {'person':2,'cat':4,'spider':8}\n",
    "for animal,legs in d.items():\n",
    "    print('A %s has %d legs' % (animal,legs)) # Prints \"A person has 2 legs\", \"A spider has 8 legs\", \"A cat has 4 legs\"\n",
    "    \n",
    "nums = [0,1,2,3,4]\n",
    "even_num_to_square = {x: x**2 for x in nums if x%2 == 0}\n",
    "print(even_num_to_square)# Prints \"{0: 0, 2: 4, 4: 16}\""
   ]
  },
  {
   "cell_type": "code",
   "execution_count": 12,
   "metadata": {
    "collapsed": false
   },
   "outputs": [
    {
     "name": "stdout",
     "output_type": "stream",
     "text": [
      "True\n",
      "False\n",
      "True\n",
      "3\n",
      "3\n",
      "2\n",
      "#1:fish\n",
      "#2:cat\n",
      "#3:dog\n",
      "{0, 1, 2, 3, 4, 5}\n"
     ]
    }
   ],
   "source": [
    "animals = {'cat','dog'}\n",
    "print('cat' in animals)# Check if an element is in a set; prints \"True\" \n",
    "print('fish' in animals)# prints \"False\" \n",
    "animals.add('fish')# Add an element to a set \n",
    "print('fish' in animals)# Prints \"True\" \n",
    "print(len(animals))# Number of elements in a set; prints \"3\" \n",
    "animals.add('cat') # Adding an element that is already in the set does nothing \n",
    "print(len(animals)) # Prints \"3\" \n",
    "animals.remove('cat') # Remove an element from a set \n",
    "print(len(animals)) # Prints \"2\"\n",
    "\n",
    "animals = {'cat','dog','fish'}\n",
    "for idx,animal in enumerate(animals):\n",
    "    print('#%d:%s' % (idx + 1,animal)) # Prints \"#1: fish\", \"#2: dog\", \"#3: cat\"\n",
    "    \n",
    "from math import sqrt\n",
    "nums = {int(sqrt(x)) for x in range(30)}\n",
    "print(nums) # Prints \"set([0, 1, 2, 3, 4, 5])\""
   ]
  },
  {
   "cell_type": "code",
   "execution_count": 13,
   "metadata": {
    "collapsed": false
   },
   "outputs": [
    {
     "name": "stdout",
     "output_type": "stream",
     "text": [
      "{(0, 1): 0, (1, 2): 1, (5, 6): 5, (2, 3): 2, (4, 5): 4, (6, 7): 6, (8, 9): 8, (9, 10): 9, (3, 4): 3, (7, 8): 7}\n",
      "<class 'tuple'>\n",
      "5\n",
      "1\n"
     ]
    }
   ],
   "source": [
    "d = {(x, x + 1): x for x in range(10)} # Create a dictionary with tuple keys \n",
    "print(d)\n",
    "t = (5, 6) # Create a tuple \n",
    "print(type(t)) # Prints \"<type 'tuple'>\" \n",
    "print(d[t])# Prints \"5\" \n",
    "print(d[(1,2)]) # Prints \"1\""
   ]
  },
  {
   "cell_type": "code",
   "execution_count": 14,
   "metadata": {
    "collapsed": false
   },
   "outputs": [
    {
     "name": "stdout",
     "output_type": "stream",
     "text": [
      "Hello, Bob!\n",
      "HELLO, FRED\n"
     ]
    }
   ],
   "source": [
    "def sign(x):\n",
    "    if x > 0:\n",
    "        return 'positive'\n",
    "    elif x < 0:\n",
    "        return 'negative'\n",
    "    else:\n",
    "        return 'zero'\n",
    "    for x in [-1, 0, 1]:\n",
    "        print(sign(x)) # Prints \"negative\", \"zero\", \"positive\"\n",
    "                \n",
    "def hello(name, loud=False):\n",
    "    if loud:\n",
    "        print('HELLO, %s' % name.upper())\n",
    "    else:\n",
    "        print('Hello, %s!' % name)\n",
    "        \n",
    "hello('Bob') # Prints \"Hello, Bob\" \n",
    "            \n",
    "hello('Fred', loud=True) # Prints \"HELLO, FRED!\""
   ]
  },
  {
   "cell_type": "code",
   "execution_count": 15,
   "metadata": {
    "collapsed": true
   },
   "outputs": [],
   "source": [
    "class Greeter(object):\n",
    "    # Constructor \n",
    "    def __init__(self, name):\n",
    "        self.name = name # Create an instance variable    \n",
    "        # Instance method  \n",
    "        def greet(self, loud=False):  \n",
    "            if loud:  \n",
    "                print('HELLO, %s!' % self.name.upper()) \n",
    "            else:  \n",
    "                print('Hello, %s' % self.name)\n",
    "                g = Greeter('Fred') # Construct an instance of the Greeter class \n",
    "                g.greet() # Call an instance method; prints \"Hello, Fred\" \n",
    "                g.greet(loud=True) # Call an instance method; prints \"HELLO, FRED!\""
   ]
  }
 ],
 "metadata": {
  "anaconda-cloud": {},
  "kernelspec": {
   "display_name": "Python [conda env:tensorflow]",
   "language": "python",
   "name": "conda-env-tensorflow-py"
  },
  "language_info": {
   "codemirror_mode": {
    "name": "ipython",
    "version": 3
   },
   "file_extension": ".py",
   "mimetype": "text/x-python",
   "name": "python",
   "nbconvert_exporter": "python",
   "pygments_lexer": "ipython3",
   "version": "3.5.4"
  }
 },
 "nbformat": 4,
 "nbformat_minor": 1
}

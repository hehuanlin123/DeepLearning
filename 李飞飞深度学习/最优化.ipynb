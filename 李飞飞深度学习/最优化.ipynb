{
 "cells": [
  {
   "cell_type": "markdown",
   "metadata": {},
   "source": [
    "# 随机搜索"
   ]
  },
  {
   "cell_type": "code",
   "execution_count": 5,
   "metadata": {},
   "outputs": [
    {
     "name": "stderr",
     "output_type": "stream",
     "text": [
      "/Users/szkfzx/anaconda2/envs/tensorflow/lib/python2.7/site-packages/ipykernel/__main__.py:17: RuntimeWarning: invalid value encountered in sqrt\n"
     ]
    },
    {
     "ename": "NameError",
     "evalue": "name 'Wbest' is not defined",
     "output_type": "error",
     "traceback": [
      "\u001b[0;31m--------------------------------------------------------------------\u001b[0m",
      "\u001b[0;31mNameError\u001b[0m                          Traceback (most recent call last)",
      "\u001b[0;32m<ipython-input-5-81f87025e143>\u001b[0m in \u001b[0;36m<module>\u001b[0;34m()\u001b[0m\n\u001b[1;32m     42\u001b[0m \u001b[0;34m\u001b[0m\u001b[0m\n\u001b[1;32m     43\u001b[0m \u001b[0;31m# 假设X_test尺寸是[3073 x 10000], Y_test尺寸是[10000 x 1]\u001b[0m\u001b[0;34m\u001b[0m\u001b[0;34m\u001b[0m\u001b[0m\n\u001b[0;32m---> 44\u001b[0;31m \u001b[0mscores\u001b[0m \u001b[0;34m=\u001b[0m \u001b[0mWbest\u001b[0m\u001b[0;34m.\u001b[0m\u001b[0mdot\u001b[0m\u001b[0;34m(\u001b[0m\u001b[0mXte_cols\u001b[0m\u001b[0;34m)\u001b[0m \u001b[0;31m# 10 x 10000, the class scores for all test examples\u001b[0m\u001b[0;34m\u001b[0m\u001b[0m\n\u001b[0m\u001b[1;32m     45\u001b[0m \u001b[0;31m# 找到在每列中评分值最大的索引（即预测的分类）\u001b[0m\u001b[0;34m\u001b[0m\u001b[0;34m\u001b[0m\u001b[0m\n\u001b[1;32m     46\u001b[0m \u001b[0mYte_predict\u001b[0m \u001b[0;34m=\u001b[0m \u001b[0mnp\u001b[0m\u001b[0;34m.\u001b[0m\u001b[0margmax\u001b[0m\u001b[0;34m(\u001b[0m\u001b[0mscores\u001b[0m\u001b[0;34m,\u001b[0m\u001b[0maxis\u001b[0m \u001b[0;34m=\u001b[0m \u001b[0;36m0\u001b[0m\u001b[0;34m)\u001b[0m\u001b[0;34m\u001b[0m\u001b[0m\n",
      "\u001b[0;31mNameError\u001b[0m: name 'Wbest' is not defined"
     ]
    }
   ],
   "source": [
    "import numpy as np\n",
    "\n",
    "def L(X, y, W): \n",
    "    \"\"\"  \n",
    "    fully‐vectorized implementation :  \n",
    "    ‐ X holds all the training examples as columns (e.g. 3073 x 50,000 in CIFAR‐10)  \n",
    "    ‐ y is array of integers specifying correct class (e.g. 50,000‐D array)  \n",
    "    ‐ W are weights (e.g. 10 x 3073) \n",
    "    \"\"\"  \n",
    "    # evaluate loss over all examples in X without using any for loops  \n",
    "    # left as exercise to reader in the assignment\n",
    "    delta = 1.0  \n",
    "    scores = W.dot(X)\n",
    "    D = W.shape[0]\n",
    "    loss_i = loss_i = 0.0\n",
    "    for i in range(D):\n",
    "        loss_i = np.mean(np.sqrt(scores[i] - y))\n",
    "    return loss_i\n",
    "\n",
    "# 假设X_train的每一列都是一个数据样本（比如3073 x 50000）\n",
    "X_train = np.random.randn(3073,50000).astype('int64')\n",
    "# 假设Y_train是数据样本的类别标签（比如一个长50000的一维数组）\n",
    "Y_train = np.random.randn(1,50000).astype('int64')\n",
    "# 假设函数L对损失函数进行评价   \n",
    "bestloss = float(\"inf\") # Python assigns the highest possible float value \n",
    "for num in range(1000):  \n",
    "    W = np.random.randn(10,3073) * 0.0001 # generate random parameters  \n",
    "    loss = L(X_train,Y_train,W) # get the loss over the entire training set  \n",
    "    if loss < bestloss: # keep track of the best solution  \n",
    "        bestloss = loss  \n",
    "        bestW = W  \n",
    "        print('in attempt %d the loss was %f, best %f' % (num, loss, bestloss))   \n",
    "        # 输出: \n",
    "        # in attempt 0 the loss was 9.401632, best 9.401632 \n",
    "        # in attempt 1 the loss was 8.959668, best 8.959668 \n",
    "        # in attempt 2 the loss was 9.044034, best 8.959668 \n",
    "        # in attempt 3 the loss was 9.278948, best 8.959668 \n",
    "        # in attempt 4 the loss was 8.857370, best 8.857370 \n",
    "        # in attempt 5 the loss was 8.943151, best 8.857370 \n",
    "        # in attempt 6 the loss was 8.605604, best 8.605604 \n",
    "        # ... (trunctated: continues for 1000 lines)\n",
    "        \n",
    "# 假设X_test尺寸是[3073 x 10000], Y_test尺寸是[10000 x 1] \n",
    "scores = Wbest.dot(Xte_cols) # 10 x 10000, the class scores for all test examples \n",
    "# 找到在每列中评分值最大的索引（即预测的分类） \n",
    "Yte_predict = np.argmax(scores,axis = 0) \n",
    "# 以及计算准确率 \n",
    "np.mean(Yte_predict == Yte) \n",
    "# 返回 0.155"
   ]
  }
 ],
 "metadata": {
  "kernelspec": {
   "display_name": "Python [conda env:tensorflow]",
   "language": "python",
   "name": "conda-env-tensorflow-py"
  },
  "language_info": {
   "codemirror_mode": {
    "name": "ipython",
    "version": 2
   },
   "file_extension": ".py",
   "mimetype": "text/x-python",
   "name": "python",
   "nbconvert_exporter": "python",
   "pygments_lexer": "ipython2",
   "version": "2.7.6"
  }
 },
 "nbformat": 4,
 "nbformat_minor": 1
}

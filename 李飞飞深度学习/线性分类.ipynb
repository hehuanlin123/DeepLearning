{
 "cells": [
  {
   "cell_type": "code",
   "execution_count": 2,
   "metadata": {},
   "outputs": [
    {
     "name": "stderr",
     "output_type": "stream",
     "text": [
      "C:\\Users\\13126\\Anaconda3\\envs\\tensorflow\\lib\\site-packages\\ipykernel\\__main__.py:40: RuntimeWarning: overflow encountered in exp\n",
      "C:\\Users\\13126\\Anaconda3\\envs\\tensorflow\\lib\\site-packages\\ipykernel\\__main__.py:40: RuntimeWarning: invalid value encountered in true_divide\n"
     ]
    }
   ],
   "source": [
    "import numpy as np\n",
    "\n",
    "def L_i(x,y,W):  \n",
    "    \"\"\"  \n",
    "    unvectorized version. Compute the multiclass svm loss for a single example (x,y)  \n",
    "    ‐ x is a column vector representing an image (e.g. 3073 x 1 in CIFAR‐10)  with an appended bias dimension in the 3073‐rd position (i.e. bias trick)  \n",
    "    ‐ y is an integer giving index of correct class (e.g. between 0 and 9 in CIFAR‐10)  \n",
    "    ‐ W is the weight matrix (e.g. 10 x 3073 in CIFAR‐10)  \n",
    "    \"\"\"  \n",
    "    delta = 1.0 # see notes about delta later in this section  \n",
    "    scores = W.dot(x) # scores becomes of size 10 x 1, the scores for each class  \n",
    "    correct_class_score = scores[y]  \n",
    "    D = W.shape[0] # number of classes, e.g. 10  \n",
    "    loss_i = 0.0  \n",
    "    for j in xrange(D): # iterate over all wrong classes  \n",
    "        if j == y:\n",
    "            # skip for the true class to only loop over incorrect classes  \n",
    "            continue  \n",
    "        # accumulate loss for the i‐th example  \n",
    "        loss_i += max(0, scores[j] - correct_class_score + delta)  \n",
    "    return loss_i   \n",
    "\n",
    "def L_i_vectorized(x, y, W):\n",
    "    \"\"\" \n",
    "    A faster half‐vectorized implementation. half‐vectorized  refers to the fact that for a single example the \n",
    "    implementation contains  no for loops, but there is still one loop over the examples (outside this function)  \n",
    "    \"\"\"  \n",
    "    delta = 1.0  \n",
    "    scores = W.dot(x)  # compute the margins for all classes in one vector operation  \n",
    "    margins = np.maximum(0, scores - scores[y] + delta)  \n",
    "    # on y-th position scores[y] - scores[y] canceled and gave delta. We want  \n",
    "    # to ignore the y‐th position and only consider margin on max wrong class  \n",
    "    margins[y] = 0  \n",
    "    loss_i = np.sum(margins)  \n",
    "    return loss_i   \n",
    "\n",
    "def L(X, y, W): \n",
    "    \"\"\"  \n",
    "    fully‐vectorized implementation :  \n",
    "    ‐ X holds all the training examples as columns (e.g. 3073 x 50,000 in CIFAR‐10)  \n",
    "    ‐ y is array of integers specifying correct class (e.g. 50,000‐D array)  \n",
    "    ‐ W are weights (e.g. 10 x 3073) \n",
    "    \"\"\"  \n",
    "    # evaluate loss over all examples in X without using any for loops  \n",
    "    # left as exercise to reader in the assignment\n",
    "    \n",
    "f = np.array([123, 456, 789]) # 例子中有3个分类，每个评分的数值都很大 \n",
    "p = np.exp(f) / np.sum(np.exp(f)) # 不妙：数值问题，可能导致数值爆炸   \n",
    "\n",
    "# 那么将f中的值平移到大值为0： \n",
    "f -= np.max(f) # f becomes [‐666, ‐333, 0] \n",
    "p = np.exp(f) / np.sum(np.exp(f)) # 现在OK了，将给出正确结果"
   ]
  }
 ],
 "metadata": {
  "anaconda-cloud": {},
  "kernelspec": {
   "display_name": "tensorflow",
   "language": "python",
   "name": "tfpy3"
  },
  "language_info": {
   "codemirror_mode": {
    "name": "ipython",
    "version": 2
   },
   "file_extension": ".py",
   "mimetype": "text/x-python",
   "name": "python",
   "nbconvert_exporter": "python",
   "pygments_lexer": "ipython2",
   "version": "2.7.6"
  }
 },
 "nbformat": 4,
 "nbformat_minor": 1
}

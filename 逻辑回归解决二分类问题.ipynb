{
 "cells": [
  {
   "cell_type": "code",
   "execution_count": 9,
   "metadata": {},
   "outputs": [
    {
     "name": "stdout",
     "output_type": "stream",
     "text": [
      "[[ 0.43288332]\n",
      " [ 3.59483692]\n",
      " [-3.4498752 ]]\n",
      "tp = 20\n",
      "fp = 0\n",
      "fn = 0\n",
      "tn = 20\n",
      "presion = 1.0\n",
      "rercall = 1.0\n",
      "f1 = 1.0\n"
     ]
    }
   ],
   "source": [
    "import sys\n",
    "import numpy as np\n",
    "from numpy import *\n",
    "\n",
    "def loadData(filename):\n",
    "    dataMat = []\n",
    "    labelMat = []\n",
    "    fi = open('./' + filename)\n",
    "    for line in fi:\n",
    "        fd = line.strip().split('\\t')#strip()方法是把\\n \\r等消掉\n",
    "        dataMat.append([1.0,float(fd[0]),float(fd[1])])\n",
    "        labelMat.append(int(fd[2]))\n",
    "    return dataMat,labelMat\n",
    "\n",
    "def sigmoid(z):\n",
    "    return 1.0/(1+exp(-z))\n",
    "\n",
    "def getW(dataMat,labelMat):\n",
    "    #将list强制转换为matrix\n",
    "    dataMatrix = mat(dataMat)\n",
    "    labelMatrix = mat(labelMat).transpose()#计算类标签矩阵要转置\n",
    "    #获取dataMatrix的维度\n",
    "    m,n = shape(dataMatrix)\n",
    "    #定义n*1维的单位权重矩阵\n",
    "    weights = ones((n,1))\n",
    "    #定义学习率\n",
    "    alpha = 0.01\n",
    "    #定义迭代次数\n",
    "    max_loop = 200\n",
    "    #梯度下降的过程\n",
    "    for i in range(max_loop):\n",
    "        #计算输出预测值\n",
    "        y_pre = sigmoid(dataMatrix * weights)\n",
    "        #计算预测值与真实值的误差\n",
    "        error = labelMatrix - y_pre#error也是矩阵\n",
    "        #计算梯度：X*error\n",
    "        grad = dataMatrix.transpose() * error#计算梯度要转置\n",
    "        #计算新的权重\n",
    "        #将新的权重赋值给权重\n",
    "        weights = weights + alpha * grad\n",
    "    return weights\n",
    "    \n",
    "if __name__ == '__main__':\n",
    "    #读取数据集和类标签\n",
    "    x,y = loadData('trainSet.txt')\n",
    "    #根据x,y计算逻辑回归的系数\n",
    "    w = getW(x,y)\n",
    "    print(w)\n",
    "    #读取测试数据集和类标签\n",
    "    tx,ty = loadData('testSet.txt')\n",
    "    #计算测试数据集的预测值\n",
    "    y_pre = sigmoid(mat(tx) * w)\n",
    "    #将预测值映射到[0,1]\n",
    "    y_pre_label = (sign(y_pre - 0.5) + 1) / 2 #[0,1] -> [-0.5,0.5] -> -1,1 -> 0,1\n",
    "    #初始化\n",
    "    tp = 0\n",
    "    fp = 0\n",
    "    tn = 0\n",
    "    fn = 0\n",
    "    #循环遍历测试类标签与预测类标签比较：t f 是 true false  p n 是 positiv negative\n",
    "    for k in range(len(ty)):\n",
    "        if y_pre_label[k] == 1 and ty[k] == 1:\n",
    "            tp += 1\n",
    "        if y_pre_label[k] == 1 and ty[k] == 0:\n",
    "            fp += 1\n",
    "        if y_pre_label[k] == 0 and ty[k] == 1:\n",
    "            fn += 1\n",
    "        if y_pre_label[k] == 0 and ty[k] == 0:\n",
    "            tn += 1\n",
    "    print('tp = ' + str(tp))\n",
    "    print('fp = ' + str(fp))\n",
    "    print('fn = ' + str(fn))\n",
    "    print('tn = ' + str(tn))\n",
    "    #计算评价指标\n",
    "    presion = tp/(tp+fn)\n",
    "    rercall = tp/(tp+fp)\n",
    "    print('presion = ' + str(tp/(tp+fn)))\n",
    "    print('rercall = ' + str(tp/(tp+fp)))\n",
    "    print('f1 = ' + str(2*presion*rercall/(presion+rercall)))"
   ]
  },
  {
   "cell_type": "code",
   "execution_count": 10,
   "metadata": {},
   "outputs": [
    {
     "name": "stdout",
     "output_type": "stream",
     "text": [
      "b:-0.04046482643512334\n",
      "w:[-0.04046483  2.19203485 -1.95561517]\n"
     ]
    }
   ],
   "source": [
    "from sklearn.linear_model import LogisticRegression\n",
    "import sys\n",
    "from numpy import *\n",
    "\n",
    "def loadData(filename):\n",
    "    dataMat = []\n",
    "    labelMat = []\n",
    "    fi = open('./' + filename)\n",
    "    for line in fi:\n",
    "        fd = line.strip().split('\\t')#strip()方法是把\\n \\r等消掉\n",
    "        dataMat.append([1.0,float(fd[0]),float(fd[1])])\n",
    "        labelMat.append(int(fd[2]))\n",
    "    return dataMat,labelMat\n",
    "\n",
    "if __name__ == '__main__':\n",
    "    #读取数据集和类标签\n",
    "    x,y = loadData('trainSet.txt')\n",
    "    #根据x,y计算逻辑回归的系数及常数项\n",
    "    clf = LogisticRegression().fit(x,y)\n",
    "    print('b:' + str(clf.intercept_[0]))\n",
    "    print('w:' + str(clf.coef_[0]))"
   ]
  }
 ],
 "metadata": {
  "kernelspec": {
   "display_name": "Python 3",
   "language": "python",
   "name": "python3"
  },
  "language_info": {
   "codemirror_mode": {
    "name": "ipython",
    "version": 3
   },
   "file_extension": ".py",
   "mimetype": "text/x-python",
   "name": "python",
   "nbconvert_exporter": "python",
   "pygments_lexer": "ipython3",
   "version": "3.6.4"
  }
 },
 "nbformat": 4,
 "nbformat_minor": 2
}

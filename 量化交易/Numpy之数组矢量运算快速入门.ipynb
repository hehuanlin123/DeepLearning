{
 "cells": [
  {
   "cell_type": "code",
   "execution_count": 18,
   "metadata": {
    "collapsed": false
   },
   "outputs": [
    {
     "name": "stdout",
     "output_type": "stream",
     "text": [
      "[[1. 1. 1. 1. 1.]\n",
      " [1. 1. 1. 1. 1.]\n",
      " [1. 1. 1. 1. 1.]\n",
      " [1. 1. 1. 1. 1.]\n",
      " [1. 1. 1. 1. 1.]\n",
      " [1. 1. 1. 1. 1.]\n",
      " [1. 1. 1. 1. 1.]\n",
      " [1. 1. 1. 1. 1.]\n",
      " [1. 1. 1. 1. 1.]\n",
      " [1. 1. 1. 1. 1.]]\n",
      "[[0. 0. 0. 0. 0. 0. 0. 0. 0. 0.]\n",
      " [0. 0. 0. 0. 0. 0. 0. 0. 0. 0.]\n",
      " [0. 0. 0. 0. 0. 0. 0. 0. 0. 0.]\n",
      " [0. 0. 0. 0. 0. 0. 0. 0. 0. 0.]\n",
      " [0. 0. 0. 0. 0. 0. 0. 0. 0. 0.]]\n"
     ]
    }
   ],
   "source": [
    "import numpy as np#推荐引用方式\n",
    "from timeit import timeit \n",
    "\n",
    "print(np.ones((10, 5)))\n",
    "print(np.zeros((5,10)))"
   ]
  },
  {
   "cell_type": "code",
   "execution_count": 20,
   "metadata": {
    "collapsed": false
   },
   "outputs": [
    {
     "name": "stdout",
     "output_type": "stream",
     "text": [
      "(10L, 5L)\n",
      "float64\n",
      "(40L, 8L)\n",
      "(80L, 8L)\n"
     ]
    }
   ],
   "source": [
    "print(np.ones((10, 5)).shape)\n",
    "#(10, 5) 数组形状\n",
    "print(np.ones((10, 5)).dtype)\n",
    "#float64 数据类型\n",
    "print(np.ones((10, 5)).strides)\n",
    "print(np.zeros((5, 10)).strides)\n",
    "#(40, 8) （80,8） 跨度元组"
   ]
  },
  {
   "cell_type": "code",
   "execution_count": 5,
   "metadata": {
    "collapsed": false
   },
   "outputs": [
    {
     "name": "stdout",
     "output_type": "stream",
     "text": [
      "(0.02188968798746771, 0.706431966066944)\n"
     ]
    }
   ],
   "source": [
    "#测试Numpy数组和等价的Python列表性能差距\n",
    "my_arr = np.arange(1000000)\n",
    "my_list = list(range(1000000))\n",
    "t1 = timeit('for _ in range(10): my_arr2 = my_arr * 2','from __main__ import my_arr',number=1)\n",
    "t2 = timeit('for _ in range(10): my_list2 = [x * 2 for x in my_list]','from __main__ import my_list',number=1)\n",
    "print(t1,t2)"
   ]
  },
  {
   "cell_type": "code",
   "execution_count": 6,
   "metadata": {
    "collapsed": false
   },
   "outputs": [
    {
     "name": "stdout",
     "output_type": "stream",
     "text": [
      "[[1. 2. 3.]\n",
      " [4. 5. 6.]]\n",
      "[[2. 2. 2.]\n",
      " [2. 2. 2.]]\n",
      "[[ 2.  4.  6.]\n",
      " [ 8. 10. 12.]]\n",
      "[[ 2.  4.  6.]\n",
      " [ 8. 10. 12.]]\n"
     ]
    }
   ],
   "source": [
    "#矢量化运算\n",
    "arrA = np.array([[1., 2., 3.], [4., 5., 6.]])\n",
    "arrB = np.array([[2., 2., 2.], [2., 2., 2.]])\n",
    "print(arrA)\n",
    "\n",
    "print(arrB)\n",
    "\n",
    "print(arrA * arrB)\n",
    "\n",
    "print(arrA * 2.0)"
   ]
  },
  {
   "cell_type": "code",
   "execution_count": 7,
   "metadata": {
    "collapsed": false
   },
   "outputs": [
    {
     "name": "stdout",
     "output_type": "stream",
     "text": [
      "[[0. 0. 0.]\n",
      " [1. 1. 1.]\n",
      " [2. 2. 2.]\n",
      " [3. 3. 3.]]\n",
      "(4L, 3L)\n",
      "[1. 2. 3.]\n",
      "(3L,)\n",
      "[[1. 2. 3.]\n",
      " [2. 3. 4.]\n",
      " [3. 4. 5.]\n",
      " [4. 5. 6.]]\n"
     ]
    }
   ],
   "source": [
    "arrA = np.array([[0., 0., 0.], [1., 1., 1.], [2., 2., 2.], [3., 3., 3.]])\n",
    "print(arrA)\n",
    "print(arrA.shape)\n",
    "#(4, 3)\n",
    "arrB = np.array([1., 2., 3.])\n",
    "print(arrB)\n",
    "#[ 1.  2.  3.]\n",
    "print(arrB.shape)\n",
    "#(3,)\n",
    "print(arrA+arrB)"
   ]
  },
  {
   "cell_type": "code",
   "execution_count": 22,
   "metadata": {
    "collapsed": false
   },
   "outputs": [
    {
     "name": "stdout",
     "output_type": "stream",
     "text": [
      "[[1.]\n",
      " [1.]\n",
      " [1.]\n",
      " [1.]]\n",
      "[[[1. 1. 1.]\n",
      "  [1. 1. 1.]\n",
      "  [1. 1. 1.]\n",
      "  [1. 1. 1.]]]\n",
      "[[[2. 2. 2.]\n",
      "  [2. 2. 2.]\n",
      "  [2. 2. 2.]\n",
      "  [2. 2. 2.]]]\n"
     ]
    }
   ],
   "source": [
    "x = np.ones((4,1))\n",
    "print(x)\n",
    "y = np.ones((1,4,3))\n",
    "print(y)\n",
    "print(x+y)\n",
    "#operands could not be broadcast together with shapes (2,1) (5,4,3)"
   ]
  },
  {
   "cell_type": "code",
   "execution_count": 24,
   "metadata": {
    "collapsed": false
   },
   "outputs": [
    {
     "name": "stdout",
     "output_type": "stream",
     "text": [
      "[[-0.10370398  1.09212691 -1.66726791 -0.813621  ]\n",
      " [ 0.2891542   0.98501681  0.12846652 -0.60408781]\n",
      " [ 0.95420025  1.17773203 -0.31548119 -1.16795995]]\n"
     ]
    }
   ],
   "source": [
    "data = np.random.randn(3, 4)\n",
    "print(data)"
   ]
  },
  {
   "cell_type": "code",
   "execution_count": 10,
   "metadata": {
    "collapsed": false
   },
   "outputs": [
    {
     "name": "stdout",
     "output_type": "stream",
     "text": [
      "[[ 0.81516464  0.54699707  0.25469129 -0.35725194]]\n",
      "[0.54699707]\n",
      "[[False False False  True]\n",
      " [ True False  True  True]\n",
      " [ True False False False]]\n"
     ]
    }
   ],
   "source": [
    "print(data[[True, False, False]])\n",
    "#[[ 0.81516464  0.54699707  0.25469129 -0.35725194]]\n",
    "print(data[[True, False, False],1])\n",
    "#[ 0.54699707]\n",
    "print(data < 0)"
   ]
  },
  {
   "cell_type": "code",
   "execution_count": 11,
   "metadata": {
    "collapsed": false
   },
   "outputs": [
    {
     "name": "stdout",
     "output_type": "stream",
     "text": [
      "[-0.35725194 -0.1594436  -0.51086806 -0.82336626 -0.76274312]\n"
     ]
    }
   ],
   "source": [
    "print(data[data < 0])\n",
    "#[-0.35725194 -0.1594436  -0.51086806 -0.82336626 -0.76274312]"
   ]
  }
 ],
 "metadata": {
  "kernelspec": {
   "display_name": "Python [conda env:py27]",
   "language": "python",
   "name": "conda-env-py27-py"
  },
  "language_info": {
   "codemirror_mode": {
    "name": "ipython",
    "version": 2
   },
   "file_extension": ".py",
   "mimetype": "text/x-python",
   "name": "python",
   "nbconvert_exporter": "python",
   "pygments_lexer": "ipython2",
   "version": "2.7.13"
  }
 },
 "nbformat": 4,
 "nbformat_minor": 1
}

{
 "cells": [
  {
   "cell_type": "code",
   "execution_count": 10,
   "metadata": {
    "collapsed": false
   },
   "outputs": [
    {
     "name": "stdout",
     "output_type": "stream",
     "text": [
      "                High        Low       Open\n",
      "Close                                     \n",
      "17.671400  17.671400  16.214300  16.214300\n",
      "17.578600  17.885700  17.378599  17.492901\n",
      "18.871401  19.142900  17.864300  17.864300\n",
      "19.092899  19.371401  18.357100  18.592899\n",
      "19.092899  19.371401  18.357100  18.592899\n",
      "            High      Low   Open\n",
      "Close                           \n",
      "19.778601  20.15  19.5429  20.15\n",
      "1.400000    1.20   1.3000   1.10\n",
      "2.400000    2.20   2.3000   2.10\n",
      "1.400000    1.20   1.3000   1.10\n",
      "2.400000    2.20   2.3000   2.10\n",
      "Index([u'High', u'Low', u'Open'], dtype='object')\n",
      "Float64Index([  17.6714,   17.5786, 18.871401, 19.092899, 19.092899,   19.6714,\n",
      "              18.950001,      18.9, 19.242901, 18.507099, 18.757099, 17.764299,\n",
      "              18.842899, 18.878599, 19.485701,   18.8929, 18.907101,   19.2286,\n",
      "                19.3643, 20.735701,   20.5214, 19.778601,       1.4,       2.4,\n",
      "                    1.4,       2.4],\n",
      "             dtype='float64', name=u'Close')\n",
      "(26, 3)\n"
     ]
    }
   ],
   "source": [
    "import pandas as pd\n",
    "import numpy as np\n",
    "import datetime #存储CSV文件使用\n",
    "\n",
    "#3、Pandas工具快速入门：数据规整化处理\n",
    "\n",
    "#加载csv文件数据\n",
    "df_csvload  = pd.read_csv('C:\\\\Users\\\\13126\\\\Desktop\\\\table.csv',parse_dates=True,index_col=0,encoding='gb2312')\n",
    "\n",
    "print(df_csvload.head())#查看前几行   \n",
    "print(df_csvload.tail())#查看后几行\n",
    "print(df_csvload.columns)#查看列名\n",
    "print(df_csvload.index)#查看索引\n",
    "print(df_csvload.shape)#查看形状"
   ]
  },
  {
   "cell_type": "code",
   "execution_count": 11,
   "metadata": {
    "collapsed": false
   },
   "outputs": [
    {
     "name": "stdout",
     "output_type": "stream",
     "text": [
      "            High        Low       Open\n",
      "count  26.000000  26.000000  26.000000\n",
      "mean   16.763181  15.887358  16.253027\n",
      "std     6.594950   6.172655   6.435727\n",
      "min     1.200000   1.300000   1.100000\n",
      "25%    18.887475  17.641049  17.892875\n",
      "50%    19.371401  18.396400  18.889250\n",
      "75%    19.782125  18.823175  19.303550\n",
      "max    21.035700  19.935699  20.557100\n",
      "<class 'pandas.core.frame.DataFrame'>\n",
      "Float64Index: 26 entries, 17.6714 to 2.4\n",
      "Data columns (total 3 columns):\n",
      "High    26 non-null float64\n",
      "Low     26 non-null float64\n",
      "Open    26 non-null float64\n",
      "dtypes: float64(3)\n",
      "memory usage: 832.0 bytes\n",
      "None\n"
     ]
    }
   ],
   "source": [
    "print(df_csvload.describe())#查看各列数据描述性统计\n",
    "print(df_csvload.info())#查看缺失及每列数据类型 事先去除数值"
   ]
  },
  {
   "cell_type": "code",
   "execution_count": 12,
   "metadata": {
    "collapsed": false
   },
   "outputs": [
    {
     "name": "stdout",
     "output_type": "stream",
     "text": [
      "            High    Low   Open\n",
      "Close                         \n",
      "17.671400  False  False  False\n",
      "17.578600  False  False  False\n",
      "18.871401  False  False  False\n",
      "19.092899  False  False  False\n",
      "19.092899  False  False  False\n",
      "19.671400  False  False  False\n",
      "18.950001  False  False  False\n",
      "18.900000  False  False  False\n",
      "19.242901  False  False  False\n",
      "18.507099  False  False  False\n",
      "18.757099  False  False  False\n",
      "17.764299  False  False  False\n",
      "18.842899  False  False  False\n",
      "18.878599  False  False  False\n",
      "19.485701  False  False  False\n",
      "18.892900  False  False  False\n",
      "18.907101  False  False  False\n",
      "19.228600  False  False  False\n",
      "19.364300  False  False  False\n",
      "20.735701  False  False  False\n",
      "20.521400  False  False  False\n",
      "19.778601  False  False  False\n",
      "1.400000   False  False  False\n",
      "2.400000   False  False  False\n",
      "1.400000   False  False  False\n",
      "2.400000   False  False  False\n",
      "Empty DataFrame\n",
      "Columns: [High, Low, Open]\n",
      "Index: []\n"
     ]
    }
   ],
   "source": [
    "print(df_csvload.isnull())#判断数据缺失值\n",
    "print(df_csvload[df_csvload.isnull().T.any().T])#查看NAN值所在行"
   ]
  },
  {
   "cell_type": "code",
   "execution_count": 19,
   "metadata": {
    "collapsed": false
   },
   "outputs": [
    {
     "name": "stdout",
     "output_type": "stream",
     "text": [
      "            High    Low   Open\n",
      "Close                         \n",
      "17.671400  17.67  16.21  16.21\n",
      "17.578600  17.89  17.38  17.49\n",
      "18.871401  19.14  17.86  17.86\n",
      "19.092899  19.37  18.36  18.59\n",
      "19.092899  19.37  18.36  18.59\n",
      "19.671400  20.68  19.26  19.89\n",
      "18.950001  20.11  18.64  20.06\n",
      "18.900000  19.16  18.72  19.14\n",
      "19.242901  19.81  18.86  18.99\n",
      "18.507099  19.43  18.00  19.43\n",
      "18.757099  19.43  18.45  18.46\n",
      "17.764299  18.86  17.59  18.86\n",
      "18.842899  18.99  17.81  17.98\n",
      "18.878599  19.36  18.49  18.84\n",
      "19.485701  19.51  18.62  18.92\n",
      "18.892900  19.79  18.21  19.75\n",
      "18.907101  18.98  18.44  18.93\n",
      "19.228600  19.77  18.99  19.00\n",
      "19.364300  19.76  18.93  19.11\n",
      "20.735701  20.79  19.22  19.36\n",
      "20.521400  21.04  19.94  20.56\n",
      "19.778601  20.15  19.54  20.15\n",
      "1.400000    1.20   1.30   1.10\n",
      "2.400000    2.20   2.30   2.10\n",
      "1.400000    1.20   1.30   1.10\n",
      "2.400000    2.20   2.30   2.10\n",
      "Empty DataFrame\n",
      "Columns: [High, Low, Open]\n",
      "Index: []\n"
     ]
    }
   ],
   "source": [
    "#只要有一个缺失值就删除该行\n",
    "#f_csvload = df_csvload.dropna(axis=0,how='any')#NAN值删除 \n",
    "print(df_csvload)\n",
    "df_csvload = df_csvload.dropna(axis=0,how='all')#NAN值删除 所有值都为缺失值时才删除该行\n",
    "df_csvload.fillna(method='bfill',axis=0,inplace=True)#NAN值填充 列方向前值填充\n",
    "print(df_csvload[df_csvload.isnull().values==True])#查看NAN值删除填充后值"
   ]
  },
  {
   "cell_type": "code",
   "execution_count": 18,
   "metadata": {
    "collapsed": false
   },
   "outputs": [
    {
     "name": "stdout",
     "output_type": "stream",
     "text": [
      "            High    Low   Open\n",
      "Close                         \n",
      "17.671400  17.67  16.21  16.21\n",
      "17.578600  17.89  17.38  17.49\n",
      "18.871401  19.14  17.86  17.86\n",
      "19.092899  19.37  18.36  18.59\n",
      "19.092899  19.37  18.36  18.59\n",
      "19.671400  20.68  19.26  19.89\n",
      "18.950001  20.11  18.64  20.06\n",
      "18.900000  19.16  18.72  19.14\n",
      "19.242901  19.81  18.86  18.99\n",
      "18.507099  19.43  18.00  19.43\n",
      "18.757099  19.43  18.45  18.46\n",
      "17.764299  18.86  17.59  18.86\n",
      "18.842899  18.99  17.81  17.98\n",
      "18.878599  19.36  18.49  18.84\n",
      "19.485701  19.51  18.62  18.92\n",
      "18.892900  19.79  18.21  19.75\n",
      "18.907101  18.98  18.44  18.93\n",
      "19.228600  19.77  18.99  19.00\n",
      "19.364300  19.76  18.93  19.11\n",
      "20.735701  20.79  19.22  19.36\n",
      "20.521400  21.04  19.94  20.56\n",
      "19.778601  20.15  19.54  20.15\n",
      "1.400000    1.20   1.30   1.10\n",
      "2.400000    2.20   2.30   2.10\n",
      "1.400000    1.20   1.30   1.10\n",
      "2.400000    2.20   2.30   2.10\n",
      "<class 'pandas.core.frame.DataFrame'>\n",
      "Float64Index: 26 entries, 17.6714 to 2.4\n",
      "Data columns (total 3 columns):\n",
      "High    26 non-null object\n",
      "Low     26 non-null object\n",
      "Open    26 non-null object\n",
      "dtypes: object(3)\n",
      "memory usage: 832.0+ bytes\n",
      "None\n",
      "            High    Low   Open\n",
      "Close                         \n",
      "17.671400  17.67  16.21  16.21\n",
      "17.578600  17.89  17.38  17.49\n",
      "18.871401  19.14  17.86  17.86\n",
      "19.092899  19.37  18.36  18.59\n",
      "19.092899  19.37  18.36  18.59\n",
      "19.671400  20.68  19.26  19.89\n",
      "18.950001  20.11  18.64  20.06\n",
      "18.900000  19.16  18.72  19.14\n",
      "19.242901  19.81  18.86  18.99\n",
      "18.507099  19.43  18.00  19.43\n",
      "18.757099  19.43  18.45  18.46\n",
      "17.764299  18.86  17.59  18.86\n",
      "18.842899  18.99  17.81  17.98\n",
      "18.878599  19.36  18.49  18.84\n",
      "19.485701  19.51  18.62  18.92\n",
      "18.892900  19.79  18.21  19.75\n",
      "18.907101  18.98  18.44  18.93\n",
      "19.228600  19.77  18.99  19.00\n",
      "19.364300  19.76  18.93  19.11\n",
      "20.735701  20.79  19.22  19.36\n",
      "20.521400  21.04  19.94  20.56\n",
      "19.778601  20.15  19.54  20.15\n",
      "1.400000    1.20   1.30   1.10\n",
      "2.400000    2.20   2.30   2.10\n",
      "1.400000    1.20   1.30   1.10\n",
      "2.400000    2.20   2.30   2.10\n",
      "<class 'pandas.core.frame.DataFrame'>\n",
      "Float64Index: 26 entries, 17.6714 to 2.4\n",
      "Data columns (total 3 columns):\n",
      "High    26 non-null object\n",
      "Low     26 non-null object\n",
      "Open    26 non-null object\n",
      "dtypes: object(3)\n",
      "memory usage: 832.0+ bytes\n",
      "None\n",
      "Empty DataFrame\n",
      "Columns: [High, Low, Open]\n",
      "Index: []\n"
     ]
    }
   ],
   "source": [
    "df_csvload = df_csvload.applymap(lambda x:'%0.2f'%x)#保留2位小数\n",
    "print(df_csvload)\n",
    "print(df_csvload.info())\n",
    "df_csvload = df_csvload.round(2)#保留2位小数\n",
    "print(df_csvload)\n",
    "print(df_csvload.info())\n",
    "print(df_csvload[df_csvload.values==0])#查看df_csvload数据中所有0值的元素\n",
    "df_csvload.loc[df_csvload.loc[:,'Low']==0,'Low'] = df_csvload.Low.median()\n",
    "#print(df_csvload.loc['2018-01-15'])"
   ]
  },
  {
   "cell_type": "code",
   "execution_count": 20,
   "metadata": {
    "collapsed": false
   },
   "outputs": [
    {
     "ename": "KeyError",
     "evalue": "'Close'",
     "output_type": "error",
     "traceback": [
      "\u001b[1;31m---------------------------------------------------------------------------\u001b[0m",
      "\u001b[1;31mKeyError\u001b[0m                                  Traceback (most recent call last)",
      "\u001b[1;32m<ipython-input-20-a587cee2a164>\u001b[0m in \u001b[0;36m<module>\u001b[1;34m()\u001b[0m\n\u001b[0;32m      9\u001b[0m \u001b[1;31m#数据运算\u001b[0m\u001b[1;33m\u001b[0m\u001b[1;33m\u001b[0m\u001b[0m\n\u001b[0;32m     10\u001b[0m \u001b[0mchange\u001b[0m \u001b[1;33m=\u001b[0m \u001b[0mdf_csvload\u001b[0m\u001b[1;33m.\u001b[0m\u001b[0mHigh\u001b[0m \u001b[1;33m-\u001b[0m \u001b[0mdf_csvload\u001b[0m\u001b[1;33m.\u001b[0m\u001b[0mLow\u001b[0m\u001b[1;31m#最高价-最低价\u001b[0m\u001b[1;33m\u001b[0m\u001b[0m\n\u001b[1;32m---> 11\u001b[1;33m \u001b[0mdf_csvload\u001b[0m\u001b[1;33m[\u001b[0m\u001b[1;34m'pct_change'\u001b[0m\u001b[1;33m]\u001b[0m \u001b[1;33m=\u001b[0m \u001b[1;33m(\u001b[0m\u001b[0mchange\u001b[0m \u001b[1;33m/\u001b[0m \u001b[0mdf_csvload\u001b[0m\u001b[1;33m[\u001b[0m\u001b[1;34m'Close'\u001b[0m\u001b[1;33m]\u001b[0m\u001b[1;33m.\u001b[0m\u001b[0mshift\u001b[0m\u001b[1;33m(\u001b[0m\u001b[1;36m1\u001b[0m\u001b[1;33m)\u001b[0m\u001b[1;33m)\u001b[0m \u001b[1;31m#昨收\u001b[0m\u001b[1;33m\u001b[0m\u001b[0m\n\u001b[0m\u001b[0;32m     12\u001b[0m \u001b[1;32mprint\u001b[0m\u001b[1;33m(\u001b[0m\u001b[0mdf_csvload\u001b[0m\u001b[1;33m)\u001b[0m\u001b[1;33m\u001b[0m\u001b[0m\n\u001b[0;32m     13\u001b[0m \u001b[0mdf_csvload\u001b[0m\u001b[1;33m[\u001b[0m\u001b[1;34m'pct_change'\u001b[0m\u001b[1;33m]\u001b[0m\u001b[1;33m.\u001b[0m\u001b[0mfillna\u001b[0m\u001b[1;33m(\u001b[0m\u001b[0mdf_csvload\u001b[0m\u001b[1;33m[\u001b[0m\u001b[1;34m'pct_change'\u001b[0m\u001b[1;33m]\u001b[0m\u001b[1;33m.\u001b[0m\u001b[0mmean\u001b[0m\u001b[1;33m(\u001b[0m\u001b[1;33m)\u001b[0m\u001b[1;33m,\u001b[0m\u001b[0minplace\u001b[0m\u001b[1;33m=\u001b[0m\u001b[0mTrue\u001b[0m\u001b[1;33m)\u001b[0m \u001b[1;31m#序列第一个值Na\u001b[0m\u001b[1;33m\u001b[0m\u001b[0m\n",
      "\u001b[1;32mC:\\Users\\13126\\Anaconda3\\envs\\py27\\lib\\site-packages\\pandas\\core\\frame.pyc\u001b[0m in \u001b[0;36m__getitem__\u001b[1;34m(self, key)\u001b[0m\n\u001b[0;32m   2925\u001b[0m             \u001b[1;32mif\u001b[0m \u001b[0mself\u001b[0m\u001b[1;33m.\u001b[0m\u001b[0mcolumns\u001b[0m\u001b[1;33m.\u001b[0m\u001b[0mnlevels\u001b[0m \u001b[1;33m>\u001b[0m \u001b[1;36m1\u001b[0m\u001b[1;33m:\u001b[0m\u001b[1;33m\u001b[0m\u001b[0m\n\u001b[0;32m   2926\u001b[0m                 \u001b[1;32mreturn\u001b[0m \u001b[0mself\u001b[0m\u001b[1;33m.\u001b[0m\u001b[0m_getitem_multilevel\u001b[0m\u001b[1;33m(\u001b[0m\u001b[0mkey\u001b[0m\u001b[1;33m)\u001b[0m\u001b[1;33m\u001b[0m\u001b[0m\n\u001b[1;32m-> 2927\u001b[1;33m             \u001b[0mindexer\u001b[0m \u001b[1;33m=\u001b[0m \u001b[0mself\u001b[0m\u001b[1;33m.\u001b[0m\u001b[0mcolumns\u001b[0m\u001b[1;33m.\u001b[0m\u001b[0mget_loc\u001b[0m\u001b[1;33m(\u001b[0m\u001b[0mkey\u001b[0m\u001b[1;33m)\u001b[0m\u001b[1;33m\u001b[0m\u001b[0m\n\u001b[0m\u001b[0;32m   2928\u001b[0m             \u001b[1;32mif\u001b[0m \u001b[0mis_integer\u001b[0m\u001b[1;33m(\u001b[0m\u001b[0mindexer\u001b[0m\u001b[1;33m)\u001b[0m\u001b[1;33m:\u001b[0m\u001b[1;33m\u001b[0m\u001b[0m\n\u001b[0;32m   2929\u001b[0m                 \u001b[0mindexer\u001b[0m \u001b[1;33m=\u001b[0m \u001b[1;33m[\u001b[0m\u001b[0mindexer\u001b[0m\u001b[1;33m]\u001b[0m\u001b[1;33m\u001b[0m\u001b[0m\n",
      "\u001b[1;32mC:\\Users\\13126\\Anaconda3\\envs\\py27\\lib\\site-packages\\pandas\\core\\indexes\\base.pyc\u001b[0m in \u001b[0;36mget_loc\u001b[1;34m(self, key, method, tolerance)\u001b[0m\n\u001b[0;32m   2657\u001b[0m                 \u001b[1;32mreturn\u001b[0m \u001b[0mself\u001b[0m\u001b[1;33m.\u001b[0m\u001b[0m_engine\u001b[0m\u001b[1;33m.\u001b[0m\u001b[0mget_loc\u001b[0m\u001b[1;33m(\u001b[0m\u001b[0mkey\u001b[0m\u001b[1;33m)\u001b[0m\u001b[1;33m\u001b[0m\u001b[0m\n\u001b[0;32m   2658\u001b[0m             \u001b[1;32mexcept\u001b[0m \u001b[0mKeyError\u001b[0m\u001b[1;33m:\u001b[0m\u001b[1;33m\u001b[0m\u001b[0m\n\u001b[1;32m-> 2659\u001b[1;33m                 \u001b[1;32mreturn\u001b[0m \u001b[0mself\u001b[0m\u001b[1;33m.\u001b[0m\u001b[0m_engine\u001b[0m\u001b[1;33m.\u001b[0m\u001b[0mget_loc\u001b[0m\u001b[1;33m(\u001b[0m\u001b[0mself\u001b[0m\u001b[1;33m.\u001b[0m\u001b[0m_maybe_cast_indexer\u001b[0m\u001b[1;33m(\u001b[0m\u001b[0mkey\u001b[0m\u001b[1;33m)\u001b[0m\u001b[1;33m)\u001b[0m\u001b[1;33m\u001b[0m\u001b[0m\n\u001b[0m\u001b[0;32m   2660\u001b[0m         \u001b[0mindexer\u001b[0m \u001b[1;33m=\u001b[0m \u001b[0mself\u001b[0m\u001b[1;33m.\u001b[0m\u001b[0mget_indexer\u001b[0m\u001b[1;33m(\u001b[0m\u001b[1;33m[\u001b[0m\u001b[0mkey\u001b[0m\u001b[1;33m]\u001b[0m\u001b[1;33m,\u001b[0m \u001b[0mmethod\u001b[0m\u001b[1;33m=\u001b[0m\u001b[0mmethod\u001b[0m\u001b[1;33m,\u001b[0m \u001b[0mtolerance\u001b[0m\u001b[1;33m=\u001b[0m\u001b[0mtolerance\u001b[0m\u001b[1;33m)\u001b[0m\u001b[1;33m\u001b[0m\u001b[0m\n\u001b[0;32m   2661\u001b[0m         \u001b[1;32mif\u001b[0m \u001b[0mindexer\u001b[0m\u001b[1;33m.\u001b[0m\u001b[0mndim\u001b[0m \u001b[1;33m>\u001b[0m \u001b[1;36m1\u001b[0m \u001b[1;32mor\u001b[0m \u001b[0mindexer\u001b[0m\u001b[1;33m.\u001b[0m\u001b[0msize\u001b[0m \u001b[1;33m>\u001b[0m \u001b[1;36m1\u001b[0m\u001b[1;33m:\u001b[0m\u001b[1;33m\u001b[0m\u001b[0m\n",
      "\u001b[1;32mpandas\\_libs\\index.pyx\u001b[0m in \u001b[0;36mpandas._libs.index.IndexEngine.get_loc\u001b[1;34m()\u001b[0m\n",
      "\u001b[1;32mpandas\\_libs\\index.pyx\u001b[0m in \u001b[0;36mpandas._libs.index.IndexEngine.get_loc\u001b[1;34m()\u001b[0m\n",
      "\u001b[1;32mpandas\\_libs\\hashtable_class_helper.pxi\u001b[0m in \u001b[0;36mpandas._libs.hashtable.PyObjectHashTable.get_item\u001b[1;34m()\u001b[0m\n",
      "\u001b[1;32mpandas\\_libs\\hashtable_class_helper.pxi\u001b[0m in \u001b[0;36mpandas._libs.hashtable.PyObjectHashTable.get_item\u001b[1;34m()\u001b[0m\n",
      "\u001b[1;31mKeyError\u001b[0m: 'Close'"
     ]
    }
   ],
   "source": [
    "import pandas as pd\n",
    "import numpy as np\n",
    "import datetime #存储CSV文件使用\n",
    "\n",
    "#3、Pandas工具快速入门：数据规整化处理\n",
    "\n",
    "#加载csv文件数据\n",
    "df_csvload  = pd.read_csv('C:\\\\Users\\\\13126\\\\Desktop\\\\table.csv',parse_dates=True,index_col=0,encoding='gb2312')\n",
    "#数据运算\n",
    "change = df_csvload.High - df_csvload.Low#最高价-最低价\n",
    "df_csvload['pct_change'] = (change / df_csvload['Close'].shift(1)) #昨收\n",
    "print(df_csvload)\n",
    "df_csvload['pct_change'].fillna(df_csvload['pct_change'].mean(),inplace=True) #序列第一个值Na\n",
    "print(df_csvload)"
   ]
  },
  {
   "cell_type": "code",
   "execution_count": 17,
   "metadata": {
    "collapsed": false
   },
   "outputs": [
    {
     "ename": "InvalidIndexError",
     "evalue": "Reindexing only valid with uniquely valued Index objects",
     "output_type": "error",
     "traceback": [
      "\u001b[1;31m---------------------------------------------------------------------------\u001b[0m",
      "\u001b[1;31mInvalidIndexError\u001b[0m                         Traceback (most recent call last)",
      "\u001b[1;32m<ipython-input-17-cc21a9c5eeef>\u001b[0m in \u001b[0;36m<module>\u001b[1;34m()\u001b[0m\n\u001b[0;32m     10\u001b[0m \u001b[1;31m#数据合并\u001b[0m\u001b[1;33m\u001b[0m\u001b[1;33m\u001b[0m\u001b[0m\n\u001b[0;32m     11\u001b[0m \u001b[0mdfv_csvload\u001b[0m  \u001b[1;33m=\u001b[0m \u001b[0mpd\u001b[0m\u001b[1;33m.\u001b[0m\u001b[0mread_csv\u001b[0m\u001b[1;33m(\u001b[0m\u001b[1;34m'C:\\\\Users\\\\13126\\\\Desktop\\\\table-Volume.csv'\u001b[0m\u001b[1;33m,\u001b[0m\u001b[0mparse_dates\u001b[0m\u001b[1;33m=\u001b[0m\u001b[0mTrue\u001b[0m\u001b[1;33m,\u001b[0m\u001b[0mindex_col\u001b[0m\u001b[1;33m=\u001b[0m\u001b[1;36m0\u001b[0m\u001b[1;33m,\u001b[0m\u001b[0mencoding\u001b[0m\u001b[1;33m=\u001b[0m\u001b[1;34m'gb2312'\u001b[0m\u001b[1;33m)\u001b[0m\u001b[1;33m\u001b[0m\u001b[0m\n\u001b[1;32m---> 12\u001b[1;33m \u001b[0mdf_concat\u001b[0m \u001b[1;33m=\u001b[0m\u001b[0mpd\u001b[0m\u001b[1;33m.\u001b[0m\u001b[0mconcat\u001b[0m\u001b[1;33m(\u001b[0m\u001b[1;33m[\u001b[0m\u001b[0mdf_csvload\u001b[0m\u001b[1;33m,\u001b[0m \u001b[0mdfv_csvload\u001b[0m\u001b[1;33m]\u001b[0m\u001b[1;33m,\u001b[0m\u001b[0maxis\u001b[0m\u001b[1;33m=\u001b[0m\u001b[1;36m1\u001b[0m\u001b[1;33m,\u001b[0m\u001b[0mkeys\u001b[0m\u001b[1;33m=\u001b[0m\u001b[1;33m[\u001b[0m\u001b[1;34m'Price'\u001b[0m\u001b[1;33m,\u001b[0m\u001b[1;34m'amount'\u001b[0m\u001b[1;33m]\u001b[0m\u001b[1;33m)\u001b[0m\u001b[1;33m\u001b[0m\u001b[0m\n\u001b[0m\u001b[0;32m     13\u001b[0m \u001b[1;32mprint\u001b[0m\u001b[1;33m(\u001b[0m\u001b[0mdf_concat\u001b[0m\u001b[1;33m)\u001b[0m\u001b[1;33m\u001b[0m\u001b[0m\n",
      "\u001b[1;32mC:\\Users\\13126\\Anaconda3\\envs\\py27\\lib\\site-packages\\pandas\\core\\reshape\\concat.pyc\u001b[0m in \u001b[0;36mconcat\u001b[1;34m(objs, axis, join, join_axes, ignore_index, keys, levels, names, verify_integrity, sort, copy)\u001b[0m\n\u001b[0;32m    226\u001b[0m                        \u001b[0mkeys\u001b[0m\u001b[1;33m=\u001b[0m\u001b[0mkeys\u001b[0m\u001b[1;33m,\u001b[0m \u001b[0mlevels\u001b[0m\u001b[1;33m=\u001b[0m\u001b[0mlevels\u001b[0m\u001b[1;33m,\u001b[0m \u001b[0mnames\u001b[0m\u001b[1;33m=\u001b[0m\u001b[0mnames\u001b[0m\u001b[1;33m,\u001b[0m\u001b[1;33m\u001b[0m\u001b[0m\n\u001b[0;32m    227\u001b[0m                        \u001b[0mverify_integrity\u001b[0m\u001b[1;33m=\u001b[0m\u001b[0mverify_integrity\u001b[0m\u001b[1;33m,\u001b[0m\u001b[1;33m\u001b[0m\u001b[0m\n\u001b[1;32m--> 228\u001b[1;33m                        copy=copy, sort=sort)\n\u001b[0m\u001b[0;32m    229\u001b[0m     \u001b[1;32mreturn\u001b[0m \u001b[0mop\u001b[0m\u001b[1;33m.\u001b[0m\u001b[0mget_result\u001b[0m\u001b[1;33m(\u001b[0m\u001b[1;33m)\u001b[0m\u001b[1;33m\u001b[0m\u001b[0m\n\u001b[0;32m    230\u001b[0m \u001b[1;33m\u001b[0m\u001b[0m\n",
      "\u001b[1;32mC:\\Users\\13126\\Anaconda3\\envs\\py27\\lib\\site-packages\\pandas\\core\\reshape\\concat.pyc\u001b[0m in \u001b[0;36m__init__\u001b[1;34m(self, objs, axis, join, join_axes, keys, levels, names, ignore_index, verify_integrity, copy, sort)\u001b[0m\n\u001b[0;32m    379\u001b[0m         \u001b[0mself\u001b[0m\u001b[1;33m.\u001b[0m\u001b[0mcopy\u001b[0m \u001b[1;33m=\u001b[0m \u001b[0mcopy\u001b[0m\u001b[1;33m\u001b[0m\u001b[0m\n\u001b[0;32m    380\u001b[0m \u001b[1;33m\u001b[0m\u001b[0m\n\u001b[1;32m--> 381\u001b[1;33m         \u001b[0mself\u001b[0m\u001b[1;33m.\u001b[0m\u001b[0mnew_axes\u001b[0m \u001b[1;33m=\u001b[0m \u001b[0mself\u001b[0m\u001b[1;33m.\u001b[0m\u001b[0m_get_new_axes\u001b[0m\u001b[1;33m(\u001b[0m\u001b[1;33m)\u001b[0m\u001b[1;33m\u001b[0m\u001b[0m\n\u001b[0m\u001b[0;32m    382\u001b[0m \u001b[1;33m\u001b[0m\u001b[0m\n\u001b[0;32m    383\u001b[0m     \u001b[1;32mdef\u001b[0m \u001b[0mget_result\u001b[0m\u001b[1;33m(\u001b[0m\u001b[0mself\u001b[0m\u001b[1;33m)\u001b[0m\u001b[1;33m:\u001b[0m\u001b[1;33m\u001b[0m\u001b[0m\n",
      "\u001b[1;32mC:\\Users\\13126\\Anaconda3\\envs\\py27\\lib\\site-packages\\pandas\\core\\reshape\\concat.pyc\u001b[0m in \u001b[0;36m_get_new_axes\u001b[1;34m(self)\u001b[0m\n\u001b[0;32m    446\u001b[0m                 \u001b[1;32mif\u001b[0m \u001b[0mi\u001b[0m \u001b[1;33m==\u001b[0m \u001b[0mself\u001b[0m\u001b[1;33m.\u001b[0m\u001b[0maxis\u001b[0m\u001b[1;33m:\u001b[0m\u001b[1;33m\u001b[0m\u001b[0m\n\u001b[0;32m    447\u001b[0m                     \u001b[1;32mcontinue\u001b[0m\u001b[1;33m\u001b[0m\u001b[0m\n\u001b[1;32m--> 448\u001b[1;33m                 \u001b[0mnew_axes\u001b[0m\u001b[1;33m[\u001b[0m\u001b[0mi\u001b[0m\u001b[1;33m]\u001b[0m \u001b[1;33m=\u001b[0m \u001b[0mself\u001b[0m\u001b[1;33m.\u001b[0m\u001b[0m_get_comb_axis\u001b[0m\u001b[1;33m(\u001b[0m\u001b[0mi\u001b[0m\u001b[1;33m)\u001b[0m\u001b[1;33m\u001b[0m\u001b[0m\n\u001b[0m\u001b[0;32m    449\u001b[0m         \u001b[1;32melse\u001b[0m\u001b[1;33m:\u001b[0m\u001b[1;33m\u001b[0m\u001b[0m\n\u001b[0;32m    450\u001b[0m             \u001b[1;32mif\u001b[0m \u001b[0mlen\u001b[0m\u001b[1;33m(\u001b[0m\u001b[0mself\u001b[0m\u001b[1;33m.\u001b[0m\u001b[0mjoin_axes\u001b[0m\u001b[1;33m)\u001b[0m \u001b[1;33m!=\u001b[0m \u001b[0mndim\u001b[0m \u001b[1;33m-\u001b[0m \u001b[1;36m1\u001b[0m\u001b[1;33m:\u001b[0m\u001b[1;33m\u001b[0m\u001b[0m\n",
      "\u001b[1;32mC:\\Users\\13126\\Anaconda3\\envs\\py27\\lib\\site-packages\\pandas\\core\\reshape\\concat.pyc\u001b[0m in \u001b[0;36m_get_comb_axis\u001b[1;34m(self, i)\u001b[0m\n\u001b[0;32m    467\u001b[0m             return _get_objs_combined_axis(self.objs, axis=data_axis,\n\u001b[0;32m    468\u001b[0m                                            \u001b[0mintersect\u001b[0m\u001b[1;33m=\u001b[0m\u001b[0mself\u001b[0m\u001b[1;33m.\u001b[0m\u001b[0mintersect\u001b[0m\u001b[1;33m,\u001b[0m\u001b[1;33m\u001b[0m\u001b[0m\n\u001b[1;32m--> 469\u001b[1;33m                                            sort=self.sort)\n\u001b[0m\u001b[0;32m    470\u001b[0m         \u001b[1;32mexcept\u001b[0m \u001b[0mIndexError\u001b[0m\u001b[1;33m:\u001b[0m\u001b[1;33m\u001b[0m\u001b[0m\n\u001b[0;32m    471\u001b[0m             \u001b[0mtypes\u001b[0m \u001b[1;33m=\u001b[0m \u001b[1;33m[\u001b[0m\u001b[0mtype\u001b[0m\u001b[1;33m(\u001b[0m\u001b[0mx\u001b[0m\u001b[1;33m)\u001b[0m\u001b[1;33m.\u001b[0m\u001b[0m__name__\u001b[0m \u001b[1;32mfor\u001b[0m \u001b[0mx\u001b[0m \u001b[1;32min\u001b[0m \u001b[0mself\u001b[0m\u001b[1;33m.\u001b[0m\u001b[0mobjs\u001b[0m\u001b[1;33m]\u001b[0m\u001b[1;33m\u001b[0m\u001b[0m\n",
      "\u001b[1;32mC:\\Users\\13126\\Anaconda3\\envs\\py27\\lib\\site-packages\\pandas\\core\\indexes\\api.pyc\u001b[0m in \u001b[0;36m_get_objs_combined_axis\u001b[1;34m(objs, intersect, axis, sort)\u001b[0m\n\u001b[0;32m     68\u001b[0m                  if hasattr(obj, '_get_axis')]\n\u001b[0;32m     69\u001b[0m     \u001b[1;32mif\u001b[0m \u001b[0mobs_idxes\u001b[0m\u001b[1;33m:\u001b[0m\u001b[1;33m\u001b[0m\u001b[0m\n\u001b[1;32m---> 70\u001b[1;33m         \u001b[1;32mreturn\u001b[0m \u001b[0m_get_combined_index\u001b[0m\u001b[1;33m(\u001b[0m\u001b[0mobs_idxes\u001b[0m\u001b[1;33m,\u001b[0m \u001b[0mintersect\u001b[0m\u001b[1;33m=\u001b[0m\u001b[0mintersect\u001b[0m\u001b[1;33m,\u001b[0m \u001b[0msort\u001b[0m\u001b[1;33m=\u001b[0m\u001b[0msort\u001b[0m\u001b[1;33m)\u001b[0m\u001b[1;33m\u001b[0m\u001b[0m\n\u001b[0m\u001b[0;32m     71\u001b[0m \u001b[1;33m\u001b[0m\u001b[0m\n\u001b[0;32m     72\u001b[0m \u001b[1;33m\u001b[0m\u001b[0m\n",
      "\u001b[1;32mC:\\Users\\13126\\Anaconda3\\envs\\py27\\lib\\site-packages\\pandas\\core\\indexes\\api.pyc\u001b[0m in \u001b[0;36m_get_combined_index\u001b[1;34m(indexes, intersect, sort)\u001b[0m\n\u001b[0;32m    115\u001b[0m             \u001b[0mindex\u001b[0m \u001b[1;33m=\u001b[0m \u001b[0mindex\u001b[0m\u001b[1;33m.\u001b[0m\u001b[0mintersection\u001b[0m\u001b[1;33m(\u001b[0m\u001b[0mother\u001b[0m\u001b[1;33m)\u001b[0m\u001b[1;33m\u001b[0m\u001b[0m\n\u001b[0;32m    116\u001b[0m     \u001b[1;32melse\u001b[0m\u001b[1;33m:\u001b[0m\u001b[1;33m\u001b[0m\u001b[0m\n\u001b[1;32m--> 117\u001b[1;33m         \u001b[0mindex\u001b[0m \u001b[1;33m=\u001b[0m \u001b[0m_union_indexes\u001b[0m\u001b[1;33m(\u001b[0m\u001b[0mindexes\u001b[0m\u001b[1;33m,\u001b[0m \u001b[0msort\u001b[0m\u001b[1;33m=\u001b[0m\u001b[0msort\u001b[0m\u001b[1;33m)\u001b[0m\u001b[1;33m\u001b[0m\u001b[0m\n\u001b[0m\u001b[0;32m    118\u001b[0m         \u001b[0mindex\u001b[0m \u001b[1;33m=\u001b[0m \u001b[0mensure_index\u001b[0m\u001b[1;33m(\u001b[0m\u001b[0mindex\u001b[0m\u001b[1;33m)\u001b[0m\u001b[1;33m\u001b[0m\u001b[0m\n\u001b[0;32m    119\u001b[0m \u001b[1;33m\u001b[0m\u001b[0m\n",
      "\u001b[1;32mC:\\Users\\13126\\Anaconda3\\envs\\py27\\lib\\site-packages\\pandas\\core\\indexes\\api.pyc\u001b[0m in \u001b[0;36m_union_indexes\u001b[1;34m(indexes, sort)\u001b[0m\n\u001b[0;32m    181\u001b[0m         \u001b[1;32melse\u001b[0m\u001b[1;33m:\u001b[0m\u001b[1;33m\u001b[0m\u001b[0m\n\u001b[0;32m    182\u001b[0m             \u001b[1;32mfor\u001b[0m \u001b[0mother\u001b[0m \u001b[1;32min\u001b[0m \u001b[0mindexes\u001b[0m\u001b[1;33m[\u001b[0m\u001b[1;36m1\u001b[0m\u001b[1;33m:\u001b[0m\u001b[1;33m]\u001b[0m\u001b[1;33m:\u001b[0m\u001b[1;33m\u001b[0m\u001b[0m\n\u001b[1;32m--> 183\u001b[1;33m                 \u001b[0mresult\u001b[0m \u001b[1;33m=\u001b[0m \u001b[0mresult\u001b[0m\u001b[1;33m.\u001b[0m\u001b[0munion\u001b[0m\u001b[1;33m(\u001b[0m\u001b[0mother\u001b[0m\u001b[1;33m)\u001b[0m\u001b[1;33m\u001b[0m\u001b[0m\n\u001b[0m\u001b[0;32m    184\u001b[0m             \u001b[1;32mreturn\u001b[0m \u001b[0mresult\u001b[0m\u001b[1;33m\u001b[0m\u001b[0m\n\u001b[0;32m    185\u001b[0m     \u001b[1;32melif\u001b[0m \u001b[0mkind\u001b[0m \u001b[1;33m==\u001b[0m \u001b[1;34m'array'\u001b[0m\u001b[1;33m:\u001b[0m\u001b[1;33m\u001b[0m\u001b[0m\n",
      "\u001b[1;32mC:\\Users\\13126\\Anaconda3\\envs\\py27\\lib\\site-packages\\pandas\\core\\indexes\\base.pyc\u001b[0m in \u001b[0;36munion\u001b[1;34m(self, other, sort)\u001b[0m\n\u001b[0;32m   2307\u001b[0m             \u001b[0mthis\u001b[0m \u001b[1;33m=\u001b[0m \u001b[0mself\u001b[0m\u001b[1;33m.\u001b[0m\u001b[0mastype\u001b[0m\u001b[1;33m(\u001b[0m\u001b[1;34m'O'\u001b[0m\u001b[1;33m)\u001b[0m\u001b[1;33m\u001b[0m\u001b[0m\n\u001b[0;32m   2308\u001b[0m             \u001b[0mother\u001b[0m \u001b[1;33m=\u001b[0m \u001b[0mother\u001b[0m\u001b[1;33m.\u001b[0m\u001b[0mastype\u001b[0m\u001b[1;33m(\u001b[0m\u001b[1;34m'O'\u001b[0m\u001b[1;33m)\u001b[0m\u001b[1;33m\u001b[0m\u001b[0m\n\u001b[1;32m-> 2309\u001b[1;33m             \u001b[1;32mreturn\u001b[0m \u001b[0mthis\u001b[0m\u001b[1;33m.\u001b[0m\u001b[0munion\u001b[0m\u001b[1;33m(\u001b[0m\u001b[0mother\u001b[0m\u001b[1;33m,\u001b[0m \u001b[0msort\u001b[0m\u001b[1;33m=\u001b[0m\u001b[0msort\u001b[0m\u001b[1;33m)\u001b[0m\u001b[1;33m\u001b[0m\u001b[0m\n\u001b[0m\u001b[0;32m   2310\u001b[0m \u001b[1;33m\u001b[0m\u001b[0m\n\u001b[0;32m   2311\u001b[0m         \u001b[1;31m# TODO(EA): setops-refactor, clean all this up\u001b[0m\u001b[1;33m\u001b[0m\u001b[1;33m\u001b[0m\u001b[0m\n",
      "\u001b[1;32mC:\\Users\\13126\\Anaconda3\\envs\\py27\\lib\\site-packages\\pandas\\core\\indexes\\base.pyc\u001b[0m in \u001b[0;36munion\u001b[1;34m(self, other, sort)\u001b[0m\n\u001b[0;32m   2330\u001b[0m                 \u001b[0mresult\u001b[0m\u001b[1;33m.\u001b[0m\u001b[0mextend\u001b[0m\u001b[1;33m(\u001b[0m\u001b[1;33m[\u001b[0m\u001b[0mx\u001b[0m \u001b[1;32mfor\u001b[0m \u001b[0mx\u001b[0m \u001b[1;32min\u001b[0m \u001b[0mrvals\u001b[0m \u001b[1;32mif\u001b[0m \u001b[0mx\u001b[0m \u001b[1;32mnot\u001b[0m \u001b[1;32min\u001b[0m \u001b[0mvalue_set\u001b[0m\u001b[1;33m]\u001b[0m\u001b[1;33m)\u001b[0m\u001b[1;33m\u001b[0m\u001b[0m\n\u001b[0;32m   2331\u001b[0m         \u001b[1;32melse\u001b[0m\u001b[1;33m:\u001b[0m\u001b[1;33m\u001b[0m\u001b[0m\n\u001b[1;32m-> 2332\u001b[1;33m             \u001b[0mindexer\u001b[0m \u001b[1;33m=\u001b[0m \u001b[0mself\u001b[0m\u001b[1;33m.\u001b[0m\u001b[0mget_indexer\u001b[0m\u001b[1;33m(\u001b[0m\u001b[0mother\u001b[0m\u001b[1;33m)\u001b[0m\u001b[1;33m\u001b[0m\u001b[0m\n\u001b[0m\u001b[0;32m   2333\u001b[0m             \u001b[0mindexer\u001b[0m\u001b[1;33m,\u001b[0m \u001b[1;33m=\u001b[0m \u001b[1;33m(\u001b[0m\u001b[0mindexer\u001b[0m \u001b[1;33m==\u001b[0m \u001b[1;33m-\u001b[0m\u001b[1;36m1\u001b[0m\u001b[1;33m)\u001b[0m\u001b[1;33m.\u001b[0m\u001b[0mnonzero\u001b[0m\u001b[1;33m(\u001b[0m\u001b[1;33m)\u001b[0m\u001b[1;33m\u001b[0m\u001b[0m\n\u001b[0;32m   2334\u001b[0m \u001b[1;33m\u001b[0m\u001b[0m\n",
      "\u001b[1;32mC:\\Users\\13126\\Anaconda3\\envs\\py27\\lib\\site-packages\\pandas\\core\\indexes\\base.pyc\u001b[0m in \u001b[0;36mget_indexer\u001b[1;34m(self, target, method, limit, tolerance)\u001b[0m\n\u001b[0;32m   2738\u001b[0m \u001b[1;33m\u001b[0m\u001b[0m\n\u001b[0;32m   2739\u001b[0m         \u001b[1;32mif\u001b[0m \u001b[1;32mnot\u001b[0m \u001b[0mself\u001b[0m\u001b[1;33m.\u001b[0m\u001b[0mis_unique\u001b[0m\u001b[1;33m:\u001b[0m\u001b[1;33m\u001b[0m\u001b[0m\n\u001b[1;32m-> 2740\u001b[1;33m             raise InvalidIndexError('Reindexing only valid with uniquely'\n\u001b[0m\u001b[0;32m   2741\u001b[0m                                     ' valued Index objects')\n\u001b[0;32m   2742\u001b[0m \u001b[1;33m\u001b[0m\u001b[0m\n",
      "\u001b[1;31mInvalidIndexError\u001b[0m: Reindexing only valid with uniquely valued Index objects"
     ]
    }
   ],
   "source": [
    "import pandas as pd\n",
    "import numpy as np\n",
    "import datetime #存储CSV文件使用\n",
    "\n",
    "#3、Pandas工具快速入门：数据规整化处理\n",
    "\n",
    "#加载csv文件数据\n",
    "df_csvload  = pd.read_csv('C:\\\\Users\\\\13126\\\\Desktop\\\\table.csv',parse_dates=True,index_col=0,encoding='gb2312')\n",
    "#数据合并\n",
    "dfv_csvload  = pd.read_csv('C:\\\\Users\\\\13126\\\\Desktop\\\\table-Volume.csv',parse_dates=True,index_col=0,encoding='gb2312')\n",
    "df_concat =pd.concat([df_csvload, dfv_csvload],axis=1,keys=['Price','amount'])\n",
    "print(df_concat)"
   ]
  }
 ],
 "metadata": {
  "kernelspec": {
   "display_name": "Python [conda env:py27]",
   "language": "python",
   "name": "conda-env-py27-py"
  },
  "language_info": {
   "codemirror_mode": {
    "name": "ipython",
    "version": 2
   },
   "file_extension": ".py",
   "mimetype": "text/x-python",
   "name": "python",
   "nbconvert_exporter": "python",
   "pygments_lexer": "ipython2",
   "version": "2.7.13"
  }
 },
 "nbformat": 4,
 "nbformat_minor": 1
}

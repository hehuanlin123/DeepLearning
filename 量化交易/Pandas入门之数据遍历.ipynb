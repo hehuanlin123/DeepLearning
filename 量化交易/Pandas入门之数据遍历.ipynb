{
 "cells": [
  {
   "cell_type": "code",
   "execution_count": 7,
   "metadata": {
    "collapsed": false
   },
   "outputs": [
    {
     "name": "stdout",
     "output_type": "stream",
     "text": [
      "<listiterator object at 0x000000000483C2E8>\n",
      "1\n",
      "2\n",
      "3\n"
     ]
    }
   ],
   "source": [
    "import pandas as pd\n",
    "import numpy as np\n",
    "import datetime #存储CSV文件使用\n",
    "\n",
    "#4、Pandas工具快速入门：数据遍历的方法\n",
    "\n",
    "#迭代循环测试\n",
    "x = [1,2,3]\n",
    "#列表是可迭代对象，否则会提示不是迭代对象\n",
    "its = x.__iter__()\n",
    "print(its)\n",
    "#<list_iterator object at 0x100f32198>\n",
    "print(next(its)) # its包含此方法，说明its是迭代器\n",
    "#1\n",
    "print(next(its))\n",
    "#2\n",
    "print(next(its)) \n",
    "#3"
   ]
  },
  {
   "cell_type": "code",
   "execution_count": 12,
   "metadata": {
    "collapsed": false
   },
   "outputs": [
    {
     "name": "stdout",
     "output_type": "stream",
     "text": [
      "<generator object gensquares at 0x0000000018BE5480>\n",
      "0\n",
      "1\n",
      "4\n",
      "9\n",
      "16\n",
      "<generator object <genexpr> at 0x0000000018BE5C18>\n",
      "[0, 1, 4, 9, 16]\n"
     ]
    }
   ],
   "source": [
    "#生成器测试\n",
    "def gensquares(N):\n",
    "    for i in range(N):\n",
    "        yield i**2 \n",
    "print(gensquares(5))\n",
    "\n",
    "for i in gensquares(5):\n",
    "    print(i) \n",
    "\n",
    "print(x**2 for x in range(5))\n",
    "\n",
    "print(list(x**2 for x in range(5)))\n",
    "\n",
    "#<generator object <genexpr> at 0xb3d31fa4>\n",
    "#[0, 1, 4, 9, 16]"
   ]
  },
  {
   "cell_type": "code",
   "execution_count": 19,
   "metadata": {
    "collapsed": false
   },
   "outputs": [
    {
     "name": "stdout",
     "output_type": "stream",
     "text": [
      "[-1.457099999999997, -0.08569900000000175, -1.0071010000000022, -0.5, -0.5, 0.2143000000000015, 1.1143, 0.24290000000000234, -0.25, 0.9215009999999992, -0.2999989999999997, 1.0928010000000015, -0.864298999999999, -0.03569999999999851, -0.5643010000000039, 0.8570999999999991, 0.021498999999998603, -0.22860000000000014, -0.257200000000001, -1.3786010000000033, 0.03569999999999851, 0.3713989999999967]\n",
      "[-1.457099999999997, -0.08569900000000175, -1.0071010000000022, -0.5, -0.5, 0.2143000000000015, 1.1143, 0.24290000000000234, -0.25, 0.9215009999999992, -0.2999989999999997, 1.0928010000000015, -0.864298999999999, -0.03569999999999851, -0.5643010000000039, 0.8570999999999991, 0.021498999999998603, -0.22860000000000014, -0.257200000000001, -1.3786010000000033, 0.03569999999999851, 0.3713989999999967]\n"
     ]
    }
   ],
   "source": [
    "from timeit import timeit\n",
    "df_csvload  = pd.read_csv('C:\\\\Users\\\\13126\\\\Desktop\\\\table.csv',parse_dates=True,index_col=0,encoding='gb2312')\n",
    "def iterator_looping(df):\n",
    "    disftance_list = []\n",
    "    for i in range(0,len(df)):\n",
    "        disftance_list.append(df.iloc[i]['Open']-df.iloc[i]['Close'])\n",
    "    return disftance_list\n",
    "print(iterator_looping(df_csvload))\n",
    "\n",
    "disftance_list = [(df_csvload.iloc[i]['Open']-df_csvload.iloc[i]['Close']) for i in range(0,len(df_csvload))]\n",
    "print(disftance_list)"
   ]
  },
  {
   "cell_type": "code",
   "execution_count": 15,
   "metadata": {
    "collapsed": false
   },
   "outputs": [
    {
     "name": "stdout",
     "output_type": "stream",
     "text": [
      "[-1.457099999999997, -0.08569900000000175, -1.0071010000000022, -0.5, -0.5, 0.2143000000000015, 1.1143, 0.24290000000000234, -0.25, 0.9215009999999992, -0.2999989999999997, 1.0928010000000015, -0.864298999999999, -0.03569999999999851, -0.5643010000000039, 0.8570999999999991, 0.021498999999998603, -0.22860000000000014, -0.257200000000001, -1.3786010000000033, 0.03569999999999851, 0.3713989999999967]\n"
     ]
    }
   ],
   "source": [
    "def iterrows_loopiter(df):\n",
    "    disftance_list = []\n",
    "    for index,row in df.iterrows():\n",
    "        disftance_list.append(row['Open']-row['Close'])\n",
    "    return disftance_list\n",
    "print(iterrows_loopiter(df_csvload))"
   ]
  },
  {
   "cell_type": "code",
   "execution_count": 20,
   "metadata": {
    "collapsed": false
   },
   "outputs": [
    {
     "name": "stdout",
     "output_type": "stream",
     "text": [
      "Date\n",
      "2018-01-02   -1.457100\n",
      "2018-01-03   -0.085699\n",
      "2018-01-04   -1.007101\n",
      "2018-01-05   -0.500000\n",
      "2018-01-08   -0.500000\n",
      "2018-01-09    0.214300\n",
      "2018-01-10    1.114300\n",
      "2018-01-11    0.242900\n",
      "2018-01-12   -0.250000\n",
      "2018-01-15    0.921501\n",
      "2018-01-16   -0.299999\n",
      "2018-01-17    1.092801\n",
      "2018-01-18   -0.864299\n",
      "2018-01-19   -0.035700\n",
      "2018-01-22   -0.564301\n",
      "2018-01-23    0.857100\n",
      "2018-01-24    0.021499\n",
      "2018-01-25   -0.228600\n",
      "2018-01-26   -0.257200\n",
      "2018-01-29   -1.378601\n",
      "2018-01-30    0.035700\n",
      "2018-01-31    0.371399\n",
      "dtype: float64\n",
      "Date\n",
      "2018-01-02   -1.457100\n",
      "2018-01-03   -0.085699\n",
      "2018-01-04   -1.007101\n",
      "2018-01-05   -0.500000\n",
      "2018-01-08   -0.500000\n",
      "2018-01-09    0.214300\n",
      "2018-01-10    1.114300\n",
      "2018-01-11    0.242900\n",
      "2018-01-12   -0.250000\n",
      "2018-01-15    0.921501\n",
      "2018-01-16   -0.299999\n",
      "2018-01-17    1.092801\n",
      "2018-01-18   -0.864299\n",
      "2018-01-19   -0.035700\n",
      "2018-01-22   -0.564301\n",
      "2018-01-23    0.857100\n",
      "2018-01-24    0.021499\n",
      "2018-01-25   -0.228600\n",
      "2018-01-26   -0.257200\n",
      "2018-01-29   -1.378601\n",
      "2018-01-30    0.035700\n",
      "2018-01-31    0.371399\n",
      "Name: rate, dtype: float64\n",
      "Date\n",
      "2018-01-02   -1.457100\n",
      "2018-01-03   -0.085699\n",
      "2018-01-04   -1.007101\n",
      "2018-01-05   -0.500000\n",
      "2018-01-08   -0.500000\n",
      "2018-01-09    0.214300\n",
      "2018-01-10    1.114300\n",
      "2018-01-11    0.242900\n",
      "2018-01-12   -0.250000\n",
      "2018-01-15    0.921501\n",
      "2018-01-16   -0.299999\n",
      "2018-01-17    1.092801\n",
      "2018-01-18   -0.864299\n",
      "2018-01-19   -0.035700\n",
      "2018-01-22   -0.564301\n",
      "2018-01-23    0.857100\n",
      "2018-01-24    0.021499\n",
      "2018-01-25   -0.228600\n",
      "2018-01-26   -0.257200\n",
      "2018-01-29   -1.378601\n",
      "2018-01-30    0.035700\n",
      "2018-01-31    0.371399\n",
      "Name: rate, dtype: float64\n"
     ]
    }
   ],
   "source": [
    "distance_list = df_csvload.apply(lambda row: (row['Open']-row['Close']), axis =1)\n",
    "print(distance_list)\n",
    "\n",
    "df_csvload['rate'] = df_csvload['Open']-df_csvload['Close']\n",
    "print(df_csvload['rate'])\n",
    "\n",
    "df_csvload['rate'] = df_csvload['Open'].values-df_csvload['Close'].values \n",
    "print(df_csvload['rate'])"
   ]
  },
  {
   "cell_type": "code",
   "execution_count": 18,
   "metadata": {
    "collapsed": false
   },
   "outputs": [
    {
     "name": "stdout",
     "output_type": "stream",
     "text": [
      "(8.497979027395914, 2.315637520856832, 1.4160034861421877, 0.4824233694406175, 0.1707447362268084)\n"
     ]
    }
   ],
   "source": [
    "df_csvload  = pd.read_csv('C:\\\\Users\\\\13126\\\\Desktop\\\\table.csv',parse_dates=True,index_col=0,encoding='gb2312')\n",
    "\n",
    "def test1():\n",
    "    iterator_looping(df_csvload)\n",
    "def test2():\n",
    "    iterrows_loopiter(df_csvload)   \n",
    "def test3():\n",
    "    disftance_list = df_csvload.apply(lambda row: (row['Open']-row['Close']), axis =1)\n",
    "def test4():\n",
    "    df_csvload['rate'] = df_csvload['Open']-df_csvload['Close']\n",
    "def test5():\n",
    "    df_csvload['rate'] = df_csvload['Open'].values-df_csvload['Close'].values \n",
    "\n",
    "#for..in循环迭代方式\n",
    "t1 = timeit('test1()', 'from __main__ import test1', number=1000)\n",
    "#iterrows()遍历方式\n",
    "t2 = timeit('test2()', 'from __main__ import test2', number=1000)\n",
    "#apply()方法循环方式\n",
    "t3 = timeit('test3()', 'from __main__ import test3', number=1000)\n",
    "#Pandas series 的矢量化方式\n",
    "t4 = timeit('test4()', 'from __main__ import test4', number=1000)\n",
    "#Numpy arrays的矢量化方式：\n",
    "t5 = timeit('test5()', 'from __main__ import test5', number=1000)\n",
    "\n",
    "print(t1,t2,t3,t4,t5)"
   ]
  }
 ],
 "metadata": {
  "anaconda-cloud": {},
  "kernelspec": {
   "display_name": "Python [conda env:py27]",
   "language": "python",
   "name": "conda-env-py27-py"
  }
 },
 "nbformat": 4,
 "nbformat_minor": 1
}

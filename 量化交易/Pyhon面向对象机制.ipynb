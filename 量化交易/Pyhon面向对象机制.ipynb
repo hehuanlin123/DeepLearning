{
 "cells": [
  {
   "cell_type": "code",
   "execution_count": 1,
   "metadata": {
    "collapsed": false
   },
   "outputs": [
    {
     "name": "stdout",
     "output_type": "stream",
     "text": [
      "<type 'type'>\n",
      "(<type 'object'>,)\n",
      "<type 'type'>\n",
      "(<type 'list'>,)\n"
     ]
    }
   ],
   "source": [
    "# 例程代码\n",
    "# __class__查看list的类型\n",
    "print list.__class__\n",
    "# __base__查看list的父类\n",
    "print list.__bases__\n",
    "\n",
    "class mylist(list):\n",
    "    def __init__(self):\n",
    "        self.mylist = [1,2,3]\n",
    "#mylist = [1,2,3]\n",
    "# __class__查看mylist的类型\n",
    "print mylist.__class__\n",
    "# __base__查看mylist的父类\n",
    "print mylist.__bases__"
   ]
  },
  {
   "cell_type": "code",
   "execution_count": 12,
   "metadata": {
    "collapsed": false
   },
   "outputs": [
    {
     "name": "stdout",
     "output_type": "stream",
     "text": [
      "<type 'type'>\n",
      "<type 'type'>\n",
      "()\n",
      "<type 'type'>\n",
      "(<type 'object'>,)\n"
     ]
    }
   ],
   "source": [
    "# 例程代码\n",
    "# object是type的实例，type()方法可以获取对象的类型\n",
    "print type(object)\n",
    "print object.__class__\n",
    "\n",
    "# object没有父类\n",
    "print object.__bases__\n",
    "\n",
    "# type本身也是自己的实例\n",
    "print type.__class__\n",
    "\n",
    "# object是type的父类\n",
    "print type.__bases__"
   ]
  },
  {
   "cell_type": "code",
   "execution_count": 14,
   "metadata": {
    "collapsed": false
   },
   "outputs": [
    {
     "name": "stdout",
     "output_type": "stream",
     "text": [
      "<type 'classobj'>\n",
      "<type 'type'>\n"
     ]
    }
   ],
   "source": [
    "# 课程例码\n",
    "# class C类型为老式的classobj\n",
    "class C():pass\n",
    "print type(C)\n",
    "\n",
    "# class C显式继承'object'，成为新式类\n",
    "class C(object):pass\n",
    "print type(C)"
   ]
  }
 ],
 "metadata": {
  "anaconda-cloud": {},
  "kernelspec": {
   "display_name": "Python [conda env:py27]",
   "language": "python",
   "name": "conda-env-py27-py"
  },
  "language_info": {
   "codemirror_mode": {
    "name": "ipython",
    "version": 2
   },
   "file_extension": ".py",
   "mimetype": "text/x-python",
   "name": "python",
   "nbconvert_exporter": "python",
   "pygments_lexer": "ipython2",
   "version": "2.7.13"
  }
 },
 "nbformat": 4,
 "nbformat_minor": 1
}

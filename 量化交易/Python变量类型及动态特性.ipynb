{
 "cells": [
  {
   "cell_type": "code",
   "execution_count": 5,
   "metadata": {
    "collapsed": false
   },
   "outputs": [
    {
     "name": "stdout",
     "output_type": "stream",
     "text": [
      "<type 'int'>\n",
      "<type 'float'>\n",
      "<type 'complex'>\n",
      "0.333333333333\n",
      "12.3\n",
      "4\n",
      "-2\n",
      "3\n",
      "0\n",
      "1\n",
      "1\n",
      "0\n"
     ]
    }
   ],
   "source": [
    "# 例程示例\n",
    "# 查看数值常量的类型  注：type()用于判断数据类型\n",
    "print type(123)\n",
    "print type(1.23)\n",
    "print type(1j+2) #复数\n",
    "\n",
    "# 查看数值常量的运算\n",
    "print (1.0/3)\n",
    "print (1.23*10)\n",
    "\n",
    "# 查看数值变量的运算\n",
    "a=1\n",
    "b=3\n",
    "print (a+b)\n",
    "print (a-b)\n",
    "print (a*b)\n",
    "print (a/b) #Py27中0.33333333取整数0\n",
    "print (a%b)\n",
    "print (a**b) #幂\n",
    "print (a//b) #取整除"
   ]
  },
  {
   "cell_type": "code",
   "execution_count": 8,
   "metadata": {
    "collapsed": false
   },
   "outputs": [
    {
     "name": "stdout",
     "output_type": "stream",
     "text": [
      "hello world!\n",
      "hello world!\n"
     ]
    }
   ],
   "source": [
    "# 例程代码\n",
    "# 查看字符串常量\n",
    "print (\"hello world!\")\n",
    "\n",
    "# 查看字符串变量\n",
    "a = \"hello world!\"\n",
    "print a"
   ]
  },
  {
   "cell_type": "code",
   "execution_count": 10,
   "metadata": {
    "collapsed": false
   },
   "outputs": [
    {
     "name": "stdout",
     "output_type": "stream",
     "text": [
      "chemistry\n",
      "[2, 3, 4, 5]\n",
      "2019\n"
     ]
    }
   ],
   "source": [
    "# 例程代码\n",
    "# 创建列表变量\n",
    "list1 = ['physis','chemistry',97,98]\n",
    "list2 = [1,2,3,4,5,6,7]\n",
    "\n",
    "# 列表访问\n",
    "print list1[1]\n",
    "print list2[1:5]\n",
    "\n",
    "# 列表二次赋值\n",
    "list1[2] = 2019\n",
    "print list1[2]"
   ]
  },
  {
   "cell_type": "code",
   "execution_count": 12,
   "metadata": {
    "collapsed": false
   },
   "outputs": [
    {
     "name": "stdout",
     "output_type": "stream",
     "text": [
      "('Madonna', 'Cory', ['Annie', 'Nelly'], 'Cory')\n",
      "('Cory', ['Annie', 'Nelly'])\n",
      "0\n",
      "4\n"
     ]
    }
   ],
   "source": [
    "# 例程代码\n",
    "# 创建元组并初始化\n",
    "name_1 =(\"Madonna\",\"Cory\",[\"Annie\",\"Nelly\"],\"Rose\")\n",
    "# 元组访问\n",
    "print name_1\n",
    "print name_1[1:3]\n",
    "print name_1.index(\"Madonna\")\n",
    "print len(name_1)"
   ]
  },
  {
   "cell_type": "code",
   "execution_count": 14,
   "metadata": {
    "collapsed": false
   },
   "outputs": [
    {
     "name": "stdout",
     "output_type": "stream",
     "text": [
      "{'Madonna': 100, 'Cory': 99, 'Annie': 98, 'Nelly': 97}\n",
      "100\n"
     ]
    }
   ],
   "source": [
    "# 例程代码\n",
    "# 创建字典变量\n",
    "math_score = {'Madonna':100,'Cory':99,'Annie':98,'Nelly':97}\n",
    "print math_score\n",
    "print math_score['Madonna']"
   ]
  },
  {
   "cell_type": "code",
   "execution_count": 16,
   "metadata": {
    "collapsed": false
   },
   "outputs": [
    {
     "name": "stdout",
     "output_type": "stream",
     "text": [
      "5\n",
      "0x2b368e8L\n",
      "6\n",
      "0x2b368d0L\n",
      "5\n",
      "0x2b368e8L\n",
      "1.5\n",
      "0x424d588L\n",
      "2.5\n",
      "0x424d510L\n",
      "1.5\n",
      "0x424d5b8L\n"
     ]
    }
   ],
   "source": [
    "# 例程代码\n",
    "# int\n",
    "i = 5\n",
    "print i\n",
    "print hex(id(i))\n",
    "\n",
    "# 重新创建值为6的对象\n",
    "i += 1\n",
    "print i\n",
    "print hex(id(i))\n",
    "\n",
    "# 指向数值5的内存地址\n",
    "j = 5\n",
    "print j\n",
    "print hex(id(j))\n",
    "\n",
    "# float相同\n",
    "i = 1.5\n",
    "print i\n",
    "print hex(id(i))\n",
    "\n",
    "i += 1\n",
    "print i\n",
    "print hex(id(i))\n",
    "\n",
    "j = 1.5\n",
    "print j\n",
    "print hex(id(j))"
   ]
  },
  {
   "cell_type": "code",
   "execution_count": 18,
   "metadata": {
    "collapsed": false
   },
   "outputs": [
    {
     "name": "stdout",
     "output_type": "stream",
     "text": [
      "[1, 2, 3]\n",
      "0x4762088L\n",
      "[1, 2, 3, 4]\n",
      "0x4762088L\n",
      "[1.5, 2.5, 3.5]\n",
      "0x47626c8L\n",
      "[1.5, 2.5, 3.5]\n",
      "0x46e2d08L\n",
      "[1.5, 2.5, 3.5]\n",
      "0x46e2d08L\n",
      "[1.5, 2.5, 3.5]\n",
      "0x46e2d08L\n",
      "[1.5, 2.5, 3.5, 4]\n",
      "0x46e2d08L\n",
      "[1.5, 2.5, 3.5, 4]\n",
      "0x46e2d08L\n"
     ]
    }
   ],
   "source": [
    "# 课程例码\n",
    "# list\n",
    "i = [1,2,3]\n",
    "print i\n",
    "print hex(id(i))\n",
    "\n",
    "# append后仍指向同一内存地址\n",
    "i.append(4)\n",
    "print i\n",
    "print hex(id(i))\n",
    "\n",
    "# j,k值虽然相同，但是指向的内存地址不同\n",
    "j = [1.5,2.5,3.5]\n",
    "print j\n",
    "print hex(id(j))\n",
    "k = [1.5,2.5,3.5]\n",
    "print k\n",
    "print hex(id(k))\n",
    "\n",
    "# 赋值语句让j,k值指向同一个内存地址\n",
    "j = k\n",
    "print j\n",
    "print hex(id(j))\n",
    "print k\n",
    "print hex(id(k))\n",
    "\n",
    "# j,k任意一个变量修改，会影响到另一个list的值\n",
    "j.append(4)\n",
    "print j\n",
    "print hex(id(j))\n",
    "print k\n",
    "print hex(id(k))"
   ]
  },
  {
   "cell_type": "code",
   "execution_count": 19,
   "metadata": {
    "collapsed": false
   },
   "outputs": [
    {
     "name": "stdout",
     "output_type": "stream",
     "text": [
      "('0x4772618L', '0x4772618L')\n",
      "('0x4772570L', '0x47bfea0L')\n"
     ]
    }
   ],
   "source": [
    "# Python解析器优化情况\n",
    "s1 = 'a'*20\n",
    "s2 = 'a'*20\n",
    "print (hex(id(s1)),hex(id(s2)))\n",
    "\n",
    "s1 = 'a'*21\n",
    "s2 = 'a'*21\n",
    "print (hex(id(s1)),hex(id(s2)))"
   ]
  }
 ],
 "metadata": {
  "anaconda-cloud": {},
  "kernelspec": {
   "display_name": "Python [conda env:py27]",
   "language": "python",
   "name": "conda-env-py27-py"
  },
  "language_info": {
   "codemirror_mode": {
    "name": "ipython",
    "version": 2
   },
   "file_extension": ".py",
   "mimetype": "text/x-python",
   "name": "python",
   "nbconvert_exporter": "python",
   "pygments_lexer": "ipython2",
   "version": "2.7.13"
  }
 },
 "nbformat": 4,
 "nbformat_minor": 1
}

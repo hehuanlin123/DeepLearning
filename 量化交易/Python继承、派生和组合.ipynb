{
 "cells": [
  {
   "cell_type": "code",
   "execution_count": 5,
   "metadata": {
    "collapsed": false
   },
   "outputs": [
    {
     "name": "stdout",
     "output_type": "stream",
     "text": [
      "jack\n",
      "21\n",
      "China\n",
      "SpeakParentClass1\n",
      "Write SubClass1\n"
     ]
    }
   ],
   "source": [
    "# 例程代码\n",
    "# 定义类ParentClass1\n",
    "class ParentClass1:\n",
    "    def __init__(self,name,age):\n",
    "        self.name = name\n",
    "        self.age = age\n",
    "        \n",
    "    def speak(self):\n",
    "        print \"Speak ParentClass1\"\n",
    "\n",
    "# 建立另一个类SubClass1，继承ParentClass1\n",
    "class SubClass1(ParentClass1):\n",
    "    def __init__(self,name,age,country):\n",
    "        ParentClass1.__init__(self,name,age)\n",
    "        self.country = country\n",
    "    # 新增write方法\n",
    "    def write(self):\n",
    "        print \"Write SubClass1\"\n",
    "        \n",
    "b1 = SubClass1('jack',21,'China')\n",
    "# SubClass1包含了ParentClass1的所有属性\n",
    "print b1.name\n",
    "print b1.age\n",
    "print b1.country\n",
    "b1.speak()\n",
    "b1.write()"
   ]
  },
  {
   "cell_type": "code",
   "execution_count": 7,
   "metadata": {
    "collapsed": false
   },
   "outputs": [
    {
     "name": "stdout",
     "output_type": "stream",
     "text": [
      "Speak ParentClass1\n",
      "Walk ParentClass2\n"
     ]
    }
   ],
   "source": [
    "# 例程代码\n",
    "# 定义类ParentClass1\n",
    "class ParentClass1:\n",
    "    def __init__(self,name,age):\n",
    "        self.name = name\n",
    "        self.age = age\n",
    "        \n",
    "    def speak(self):\n",
    "        print \"Speak ParentClass1\"\n",
    "\n",
    "# 定义类ParentClass2\n",
    "class ParentClass2:\n",
    "    def walk(self):\n",
    "        print \"Walk ParentClass2\"\n",
    "        \n",
    "# 建立另一个类SubClass1，继承ParentClass1\n",
    "class SubClass2(ParentClass1,ParentClass2):\n",
    "    def __init__(self,name,age,country):\n",
    "        ParentClass1.__init__(self,name,age)\n",
    "        self.country = country\n",
    "    # 新增write方法\n",
    "    def write(self):\n",
    "        print \"Write SubClass2\"\n",
    "        \n",
    "b2 = SubClass2('jack',21,'China')\n",
    "# SubClass2包含了ParentClass1和ParentClass2的所有属性\n",
    "b2.speak()\n",
    "b2.walk()"
   ]
  },
  {
   "cell_type": "code",
   "execution_count": 10,
   "metadata": {
    "collapsed": false
   },
   "outputs": [
    {
     "name": "stdout",
     "output_type": "stream",
     "text": [
      "('X10', 'Dell')\n"
     ]
    }
   ],
   "source": [
    "# 例程代码\n",
    "# 创建人类\n",
    "class Human:\n",
    "    def __init__(self,name,age):\n",
    "        self.name = name\n",
    "        self.age = age\n",
    "        \n",
    "    def speak(self):\n",
    "        print \"Human Speak skill\"\n",
    "        \n",
    "# 创建电脑类\n",
    "class Computer:\n",
    "    def __init__(self,model,brand):\n",
    "        self.model = model\n",
    "        self.brand = brand\n",
    "        \n",
    "# 程序员继承人类的属性\n",
    "class Programmer(Human):\n",
    "    def __init__(self,name,age,country,computer):\n",
    "        Human.__init__(self,name,age)\n",
    "        self.country = country\n",
    "        self.computer = computer\n",
    "        \n",
    "# 程序员增加电脑属性\n",
    "b3 = Programmer('Jack',21,'China',Computer('X10','Dell'))\n",
    "print (b3.computer.model,b3.computer.brand)"
   ]
  }
 ],
 "metadata": {
  "kernelspec": {
   "display_name": "Python [conda env:py27]",
   "language": "python",
   "name": "conda-env-py27-py"
  },
  "language_info": {
   "codemirror_mode": {
    "name": "ipython",
    "version": 2
   },
   "file_extension": ".py",
   "mimetype": "text/x-python",
   "name": "python",
   "nbconvert_exporter": "python",
   "pygments_lexer": "ipython2",
   "version": "2.7.13"
  }
 },
 "nbformat": 4,
 "nbformat_minor": 1
}

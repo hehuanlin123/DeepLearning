{
 "cells": [
  {
   "cell_type": "code",
   "execution_count": 15,
   "metadata": {
    "collapsed": false
   },
   "outputs": [],
   "source": [
    "#装饰器的剖析\n",
    "#输出一个股票当天的收盘价字符串\n",
    "#二层嵌套\n",
    "def log(func):\n",
    "    def wrapper(*args, **kw):\n",
    "        print('output %s():'% func.__name__)\n",
    "        return func(*args, **kw)\n",
    "    return wrapper"
   ]
  },
  {
   "cell_type": "code",
   "execution_count": 6,
   "metadata": {
    "collapsed": false
   },
   "outputs": [
    {
     "name": "stdout",
     "output_type": "stream",
     "text": [
      "output Stock_600213():\n",
      "2018-12-25:6.54\n",
      "output Stock_600213():\n",
      "2018-12-25 Close :6.54\n",
      "output Stock_600213()\n",
      "2018-12-25:6.54\n"
     ]
    }
   ],
   "source": [
    "@log    \n",
    "def Stock_600213():\n",
    "    print('2018-12-25:6.54')\n",
    "#调用函数打印结果：\n",
    "Stock_600213()\n",
    "#2018-12-25:6.54\n",
    "\n",
    "@log\n",
    "def Stock_600213(Close):\n",
    "    print('2018-12-25 {} :6.54'.format(Close))\n",
    "#调用函数打印结果：\n",
    "Stock_600213('Close')    \n",
    "#2018-12-25 Close :6.54\n",
    "\n",
    "#直接增加打印日志功能\n",
    "def Stock_600213():\n",
    "    print('output Stock_600213()')\n",
    "    print('2018-12-25:6.54')\n",
    "#调用函数打印结果：\n",
    "Stock_600213()\n",
    "#output Stock_600213():\n",
    "#2018-12-25:6.54"
   ]
  },
  {
   "cell_type": "code",
   "execution_count": 16,
   "metadata": {
    "collapsed": false
   },
   "outputs": [
    {
     "name": "stdout",
     "output_type": "stream",
     "text": [
      "Now Output Stock_600213():\n",
      "2018-12-25 Close :6.54\n",
      "wrapper\n"
     ]
    }
   ],
   "source": [
    "#三层嵌套\n",
    "def log(text):\n",
    "    def decorator(func):\n",
    "        def wrapper(*args, **kw):\n",
    "            print '%s %s():' % (text, func.__name__)\n",
    "            return func(*args, **kw)\n",
    "        return wrapper\n",
    "    return decorator\n",
    "\n",
    "@log('Now Output')\n",
    "def Stock_600213(Close):\n",
    "    print('2018-12-25 {} :6.54'.format(Close))\n",
    "#调用函数打印结果：\n",
    "Stock_600213('Close')\n",
    "print(Stock_600213.__name__) \n",
    "#Now Output Stock_600213():\n",
    "#2018-12-25 Close :6.54"
   ]
  },
  {
   "cell_type": "code",
   "execution_count": 17,
   "metadata": {
    "collapsed": false
   },
   "outputs": [
    {
     "name": "stdout",
     "output_type": "stream",
     "text": [
      "Now Output Stock_600213():\n",
      "2018-12-25 Close :6.54\n",
      "Stock_600213\n"
     ]
    }
   ],
   "source": [
    "import functools\n",
    "def log(text):\n",
    "    def decorator(func):\n",
    "        @functools.wraps(func)\n",
    "        def wrapper(*args, **kw):\n",
    "            print '%s %s():' % (text, func.__name__)\n",
    "            return func(*args, **kw)\n",
    "        return wrapper\n",
    "    return decorator\n",
    "\n",
    "@log('Now Output')\n",
    "def Stock_600213(Close):\n",
    "    print('2018-12-25 {} :6.54'.format(Close))\n",
    "#调用函数打印结果：\n",
    "Stock_600213('Close')\n",
    "print(Stock_600213.__name__) \n",
    "#Now Output Stock_600213():\n",
    "#2018-12-25 Close :6.54\n",
    "#Stock_600213"
   ]
  },
  {
   "cell_type": "code",
   "execution_count": 18,
   "metadata": {
    "collapsed": false
   },
   "outputs": [
    {
     "name": "stdout",
     "output_type": "stream",
     "text": [
      "输出[5G]板块股票:\n",
      "600776:东方通信\n",
      "002792:通宇通信\n",
      "002268:卫士通\n",
      "300698:万马科技\n",
      "输出[量子通信]板块股票:\n",
      "600746:中国海防\n",
      "002126:银轮股份\n",
      "600522:中天科技\n",
      "600468:百利电气\n"
     ]
    }
   ],
   "source": [
    "#装饰器讲解\n",
    "class SelfPools(): \n",
    "    def __init__(self): \n",
    "        self.routes = {} \n",
    "    def route(self, route_str): \n",
    "        def decorator(f): \n",
    "            self.routes[route_str] = f\n",
    "            return  f\n",
    "        return decorator \n",
    "\n",
    "    def output(self, path): \n",
    "        view_function = self.routes.get(path) \n",
    "        if view_function:\n",
    "            print u\"输出[%s]板块股票:\" % path\n",
    "            for str in view_function():\n",
    "                print(str)             \n",
    "            return\n",
    "        else: \n",
    "            raise ValueError('Route \"{}\"\" has not been registered'.format(path)) \n",
    "app = SelfPools() \n",
    "\n",
    "@app.route(u\"5G\") \n",
    "def Stock_pool(): \n",
    "    stock_name = [u\"600776:东方通信\",u\"002792:通宇通信\",u\"002268:卫士通\",u\"300698:万马科技\"]\n",
    "    return stock_name\n",
    "    \n",
    "@app.route(u\"量子通信\") \n",
    "def Stock_pool(): \n",
    "    stock_name = [u\"600746:中国海防\",u\"002126:银轮股份\",u\"600522:中天科技\",u\"600468:百利电气\"]\n",
    "    return stock_name\n",
    "     \n",
    "app.output(u\"5G\")\n",
    "#输出[5G]板块股票:\n",
    "#600776:东方通信\n",
    "#002792:通宇通信\n",
    "#002268:卫士通\n",
    "#300698:万马科技\n",
    "app.output(u\"量子通信\")\n",
    "#输出[量子通信]板块股票:\n",
    "#600746:中国海防\n",
    "#002126:银轮股份\n",
    "#600522:中天科技\n",
    "#600468:百利电气"
   ]
  }
 ],
 "metadata": {
  "kernelspec": {
   "display_name": "Python [conda env:py27]",
   "language": "python",
   "name": "conda-env-py27-py"
  },
  "language_info": {
   "codemirror_mode": {
    "name": "ipython",
    "version": 2
   },
   "file_extension": ".py",
   "mimetype": "text/x-python",
   "name": "python",
   "nbconvert_exporter": "python",
   "pygments_lexer": "ipython2",
   "version": "2.7.13"
  }
 },
 "nbformat": 4,
 "nbformat_minor": 1
}

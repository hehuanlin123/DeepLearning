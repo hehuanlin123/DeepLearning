{
 "cells": [
  {
   "cell_type": "code",
   "execution_count": 2,
   "metadata": {
    "collapsed": false
   },
   "outputs": [],
   "source": [
    "#!/usr/bin/python\n",
    "from threading import Thread\n",
    "from multiprocessing import Process,Manager\n",
    "from timeit import timeit\n",
    "\n",
    "# 计算密集型任务\n",
    "def count(n):\n",
    "    while n > 0:\n",
    "        n -= 1\n",
    "\n",
    "# 不采用多任务方式\n",
    "def test_normal():\n",
    "    count(1000000)\n",
    "    count(1000000)\n",
    "\n",
    "# 多线程方式\n",
    "def test_Thread():\n",
    "    t1 = Thread(target = count,args = (1000000,))\n",
    "    t2 = Thread(target = count,args = (1000000,))\n",
    "    t1.start()\n",
    "    t2.start()\n",
    "    t1.join()\n",
    "    t2.join()\n",
    "\n",
    "# 多进程方式\n",
    "def test_Process():\n",
    "    t1 = Process(target = count,args = (1000000,))\n",
    "    t2 = Process(target = count,args = (1000000,))\n",
    "    t1.start()\n",
    "    t2.start()\n",
    "    t1.join()\n",
    "    t2.join()\n",
    "    \n",
    "if __name__ == 'main':\n",
    "    print \"test_normal\",timeit('test normal()','from __mian__ import test_normal',number = 10)\n",
    "    print \"test_Thread\",timeit('test Thread()','from __mian__ import test_Thread',number = 10)\n",
    "    print \"test_Process\",timeit('test Process()','from __mian__ import test_Process',number = 10)"
   ]
  }
 ],
 "metadata": {
  "anaconda-cloud": {},
  "kernelspec": {
   "display_name": "Python [conda env:py27]",
   "language": "python",
   "name": "conda-env-py27-py"
  },
  "language_info": {
   "codemirror_mode": {
    "name": "ipython",
    "version": 2
   },
   "file_extension": ".py",
   "mimetype": "text/x-python",
   "name": "python",
   "nbconvert_exporter": "python",
   "pygments_lexer": "ipython2",
   "version": "2.7.13"
  }
 },
 "nbformat": 4,
 "nbformat_minor": 1
}
